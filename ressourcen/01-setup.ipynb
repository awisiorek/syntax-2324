{
 "cells": [
  {
   "cell_type": "markdown",
   "metadata": {},
   "source": [
    "Syntax natürlicher Sprachen, WS 2023/24\n",
    "\n",
    "\n",
    "# 01 - Setup\n"
   ]
  },
  {
   "cell_type": "markdown",
   "metadata": {},
   "source": [
    "## 1. Installation Python3\n",
    "\n",
    "Wir werden in den Übungen die Programmiersprache *Python* verwenden. Bitte stellen Sie sicher, dass auf Ihrem System die Version 3 des Pythoninterpreters installiert ist.\n",
    "\n",
    "##### a) Windows\n",
    "In aller Regel ist Python noch nicht installiert. Wir empfehlen die Python-Distribution *Anaconda* herunterzuladen und zu installieren (Link s.u.).\n",
    "Falls Sie es bevorzugen, nur das absolut Nötige zu installieren, empfiehlt sich ein Blick auf *Miniconda*. Diese Distribution enthält nur Python und *Anaconda* selbst.\n",
    "\n",
    "##### b) UNIX (Linux oder Mac)\n",
    "Auf UNIX-Systemen ist Python, sowie der Paketmanager *pip*, in der Regel bereits installiert. Um zu überprüfen, ob auch die richtige Version installiert ist, können Sie folgenden Befehl ausführen, der zu keiner Fehlermeldung führen sollte:\n",
    "```\n",
    "python3\n",
    "```\n",
    "\n",
    "Sollte Python 3 nicht installiert sein, ist es empfehlenswert die Python-Distribution *Anaconda* zu installieren (Link s.u.). Dort sind die meisten von uns benötigten Pakete bereits vorinstalliert.\n",
    "\n",
    "*Miniconda* ist eine schlankere Alternative ohne vorinstallierte Pakete.\n",
    "\n",
    "\n",
    "- **Installationslinks**:\n",
    "  - Anaconda:  https://www.anaconda.com/download/\n",
    "  - Leichtgewichtige Anaconda-Alternative *Miniconda*: https://conda.io/miniconda.html\n",
    "\n"
   ]
  },
  {
   "cell_type": "markdown",
   "metadata": {},
   "source": [
    "---\n",
    "## 2.1 Installation NLTK\n",
    "\n",
    "Für die weiteren Übungen werden wir das Natural Language Toolkit (NLTK) für Python verwenden. Falls es nicht schon installiert ist, installieren Sie es jetzt.\n",
    "\n",
    "**Wichtig:** Folgen Sie den Hinweisen ENTWEDER zu `conda` ODER zu `pip`, NICHT ZU BEIDEN.\n",
    "\n",
    "##### a) Anaconda/Miniconda\n",
    "Falls Sie *Anaconda* verwenden, ist das NLTK bereits installiert.\n",
    "\n",
    "Falls Sie sich für *Miniconda* entschieden haben, installieren Sie das NLTK mithilfe des folgenden Befehls im *Anaconda Command Prompt*:\n",
    "```\n",
    "conda install nltk\n",
    "```\n",
    "\n",
    "##### b) Paketmanager `pip`\n",
    "Zunächst sollten Sie sicherstellen, dass `pip` auf dem neuesten Stand ist:\n",
    "```\n",
    "sudo -H pip3 install -U pip\n",
    "```\n",
    "\n",
    "Dann führen Sie die eigentliche Installation folgendermaßen aus:\n",
    "\n",
    "- Lokal:  \n",
    "```\n",
    "pip3 install --user -U nltk\n",
    "```\n",
    "\n",
    "- Systemweit:  \n",
    "```\n",
    "sudo -H pip3 install -U nltk\n",
    "```\n",
    "\n",
    "Für weitere Informationen siehe:\n",
    "\n",
    "- Installation des NLTK: http://www.nltk.org/install.html\n",
    "- Der Paketmanager `pip`: https://packaging.python.org/tutorials/installing-packages/\n"
   ]
  },
  {
   "cell_type": "markdown",
   "metadata": {},
   "source": [
    "## 2.2 Test: NLTK-Installation, Herunterladen von Ressourcen"
   ]
  },
  {
   "cell_type": "markdown",
   "metadata": {},
   "source": [
    " Vergewissern Sie sich, dass die Installation ordnungsgemäß funktioniert hat, indem Sie versuchen das NLTK in einer interaktiven Pythonsession zu importieren.\n",
    "\n",
    "Eine interaktive Pythonsession starten Sie, indem Sie ``python3`` auf der Kommandozeile eingeben."
   ]
  },
  {
   "cell_type": "code",
   "execution_count": 1,
   "metadata": {},
   "outputs": [],
   "source": [
    "import nltk"
   ]
  },
  {
   "cell_type": "markdown",
   "metadata": {},
   "source": [
    "Mit dem folgenden Befehl können Sie dann Korpora und andere Ressourcen herunterladen und in NLTK integrieren:"
   ]
  },
  {
   "cell_type": "code",
   "execution_count": 2,
   "metadata": {},
   "outputs": [],
   "source": [
    "#nltk.download()"
   ]
  },
  {
   "cell_type": "markdown",
   "metadata": {},
   "source": [
    " Die Ressource `book` enthält alle Beispiele aus dem NLTK-Buch, d.h. weit mehr als wir benötigen werden. Sie können die Ressource entweder jetzt herunterladen oder im Laufe des Kurses ab und an den Download-Dialog erneut öffnen und nur die benötigten Daten einzeln laden."
   ]
  },
  {
   "cell_type": "markdown",
   "metadata": {},
   "source": [
    "## 2.3 Test: Syntaxbäume zeichnen\n",
    "\n",
    "\n",
    "Um zu testen, ob das NLTK erfolgreich installiert wurde, führen Sie folgendes Pythonskript aus:"
   ]
  },
  {
   "cell_type": "code",
   "execution_count": 3,
   "metadata": {},
   "outputs": [],
   "source": [
    "from nltk.tree import Tree\n",
    "\n",
    "np1 = Tree('NP', [Tree('ART', ['der']), Tree('N', ['Hund'])])\n",
    "np2 = Tree('NP', [Tree('ART', ['die']), Tree('N', ['Katze'])])\n",
    "vp = Tree('VP', [Tree('V', ['jagt']), np2])"
   ]
  },
  {
   "cell_type": "code",
   "execution_count": 4,
   "metadata": {},
   "outputs": [
    {
     "name": "stdout",
     "output_type": "stream",
     "text": [
      "(VP (V jagt) (NP (ART die) (N Katze)))\n"
     ]
    }
   ],
   "source": [
    "print(vp)"
   ]
  },
  {
   "cell_type": "code",
   "execution_count": 5,
   "metadata": {},
   "outputs": [
    {
     "name": "stdout",
     "output_type": "stream",
     "text": [
      "      VP          \n",
      " ┌────┴───┐        \n",
      " │        NP      \n",
      " │    ┌───┴────┐   \n",
      " V   ART       N  \n",
      " │    │        │   \n",
      "jagt die     Katze\n",
      "\n"
     ]
    }
   ],
   "source": [
    "vp.pretty_print(unicodelines=True)"
   ]
  },
  {
   "cell_type": "code",
   "execution_count": 6,
   "metadata": {},
   "outputs": [
    {
     "name": "stdout",
     "output_type": "stream",
     "text": [
      "     NP     \n",
      " ┌───┴───┐   \n",
      "ART      N  \n",
      " │       │   \n",
      "der     Hund\n",
      "\n",
      "     NP      \n",
      " ┌───┴────┐   \n",
      "ART       N  \n",
      " │        │   \n",
      "die     Katze\n",
      "\n"
     ]
    }
   ],
   "source": [
    "np1.pretty_print(unicodelines=True)\n",
    "np2.pretty_print(unicodelines=True)"
   ]
  },
  {
   "cell_type": "markdown",
   "metadata": {},
   "source": [
    "---\n",
    "## 3.1 Installation Jupyter Notebooks\n",
    "\n",
    "Die Übungsblätter der Veranstaltung werden in Form von *Jupyter Notebooks* angeboten. Jupyter Notebooks sind interaktive, aus einer Mischung aus Text, Code und Diagrammen bestehende Web-Dokumente, in denen Sie die Präsenzaufgaben lösen, sich Notizen machen und bequem experimentieren können.\n",
    "\n",
    "\n",
    "Zur Verwendung müssen Sie die Software zur Ausführung von Jupyter Notebooks installieren:"
   ]
  },
  {
   "cell_type": "markdown",
   "metadata": {},
   "source": [
    "\n",
    "- *Anaconda:* bereits installiert\n",
    "- *Miniconda:* `conda install jupyter`\n",
    "- *pip*: \n",
    "    - lokal: `pip3 install --user jupyter`\n",
    "    - systenweit: `sudo -H pip3 install jupyter` \n"
   ]
  },
  {
   "cell_type": "markdown",
   "metadata": {},
   "source": [
    "## 3.2 Test der Jupyter-Installation\n",
    "\n"
   ]
  },
  {
   "cell_type": "markdown",
   "metadata": {},
   "source": [
    "Um zu Testen, ob Jupyter erfolgreich installiert wurden, laden Sie das Notebook zur ersten Übung (`01-notebook.ipynb`) von der Kurs-Website herunter, öffnen Sie die Konsole (Anaconda Prompt für Windows), wechseln Sie mit `cd` zu dem Downloadordner und führen Sie einen der folgenden Befehle aus:\n",
    "\n",
    "```\n",
    "jupyter notebook\n",
    "```\n",
    "\n",
    "für die klassische Notebook-Umgebung, oder \n",
    "\n",
    "```\n",
    "jupyter lab\n",
    "```\n",
    "\n",
    "für die Jupyter-Lab-Umgebung."
   ]
  },
  {
   "cell_type": "markdown",
   "metadata": {},
   "source": [
    "Wählen Sie in der sich öffnenden Jupyter-Browsersitzung die `01-notebook.ipynb`-Datei aus."
   ]
  },
  {
   "cell_type": "markdown",
   "metadata": {},
   "source": [
    "---\n",
    "## 4.1 Installation spaCy\n"
   ]
  },
  {
   "cell_type": "markdown",
   "metadata": {},
   "source": [
    "Wir werden im Laufe der Veranstaltung ***spaCy*** als Beispiel eines modernen NLP-Systems verwenden. Die spaCy-Bibliothek beinhaltet u. a. Module zu Tokenisierung, POS-Tagging, Named Entity Recognition, Dependenzparsing und unterstützt viele verschiedene Sprachen. Mit den folgenden Befehlen laden wir das deutsche und das englische Modell herunter.\n",
    "\n",
    "Für weitere Informationen siehe:\n",
    "- https://spacy.io/usage \n",
    "- https://spacy.io/models"
   ]
  },
  {
   "cell_type": "markdown",
   "metadata": {},
   "source": [
    "##### a) Anaconda/Miniconda\n",
    "\n",
    "```\n",
    "conda install -c conda-forge spacy\n",
    "conda install -c conda-forge spacy-lookups-data\n",
    "python3 -m spacy download en_core_web_sm\n",
    "python3 -m spacy download de_core_news_sm\n",
    "```\n",
    "\n",
    "##### b) Paketmanager `pip`\n",
    "\n",
    "\n",
    "- Lokal: \n",
    "\n",
    "```\n",
    "pip3 install --user -U spacy\n",
    "pip3 install --user -U spacy-lookups-data\n",
    "python3 -m spacy download --user en_core_web_sm\n",
    "python3 -m spacy download --user de_core_news_sm\n",
    "```\n",
    "\n",
    "- Systemweit:  \n",
    "\n",
    "```\n",
    "sudo -H pip3 install -U spacy\n",
    "sudo -H pip3 install -U spacy-lookups-data\n",
    "sudo -H python3 -m spacy download en_core_web_sm\n",
    "sudo -H python3 -m spacy download de_core_news_sm\n",
    "```\n"
   ]
  },
  {
   "cell_type": "markdown",
   "metadata": {},
   "source": [
    "## 4.2 Test: spaCy\n",
    "\n",
    "Zum Testen, ob spaCy und die Modelle erfolgreich installiert wurden, führen Sie folgende Befehle aus:\n",
    "\n",
    "#### 1. Laden der Bibliothek und des deutschen Modells"
   ]
  },
  {
   "cell_type": "code",
   "execution_count": 8,
   "metadata": {},
   "outputs": [],
   "source": [
    "import spacy\n",
    "nlp = spacy.load('de_core_news_sm')"
   ]
  },
  {
   "cell_type": "markdown",
   "metadata": {},
   "source": [
    "#### 2. Analyse eines Satzes"
   ]
  },
  {
   "cell_type": "code",
   "execution_count": 9,
   "metadata": {},
   "outputs": [],
   "source": [
    "doc = nlp('Dies ist mein erster Satz.')"
   ]
  },
  {
   "cell_type": "code",
   "execution_count": 10,
   "metadata": {},
   "outputs": [
    {
     "name": "stdout",
     "output_type": "stream",
     "text": [
      "Dies\tdieser\tPRON\tPDS\tsb\tXxxx\tTrue\tTrue\n",
      "ist\tsein\tAUX\tVAFIN\tROOT\txxx\tTrue\tTrue\n",
      "mein\tmein\tDET\tPPOSAT\tnk\txxxx\tTrue\tTrue\n",
      "erster\terster\tADJ\tADJA\tnk\txxxx\tTrue\tTrue\n",
      "Satz\tSatz\tNOUN\tNN\tpd\tXxxx\tTrue\tFalse\n",
      ".\t--\tPUNCT\t$.\tpunct\t.\tFalse\tFalse\n"
     ]
    }
   ],
   "source": [
    "for token in doc:\n",
    "    print(token.text, token.lemma_, token.pos_, token.tag_, token.dep_,\n",
    "            token.shape_, token.is_alpha, token.is_stop, sep='\\t')"
   ]
  },
  {
   "cell_type": "markdown",
   "metadata": {},
   "source": [
    "#### 3. Visualisierung"
   ]
  },
  {
   "cell_type": "code",
   "execution_count": 11,
   "metadata": {},
   "outputs": [
    {
     "data": {
      "text/html": [
       "<span class=\"tex2jax_ignore\"><svg xmlns=\"http://www.w3.org/2000/svg\" xmlns:xlink=\"http://www.w3.org/1999/xlink\" xml:lang=\"de\" id=\"5f08543a17204a52a11d69f46e43b7a8-0\" class=\"displacy\" width=\"925\" height=\"399.5\" direction=\"ltr\" style=\"max-width: none; height: 399.5px; color: #000000; background: #ffffff; font-family: Arial; direction: ltr\">\n",
       "<text class=\"displacy-token\" fill=\"currentColor\" text-anchor=\"middle\" y=\"309.5\">\n",
       "    <tspan class=\"displacy-word\" fill=\"currentColor\" x=\"50\">Dies</tspan>\n",
       "    <tspan class=\"displacy-tag\" dy=\"2em\" fill=\"currentColor\" x=\"50\">PRON</tspan>\n",
       "</text>\n",
       "\n",
       "<text class=\"displacy-token\" fill=\"currentColor\" text-anchor=\"middle\" y=\"309.5\">\n",
       "    <tspan class=\"displacy-word\" fill=\"currentColor\" x=\"225\">ist</tspan>\n",
       "    <tspan class=\"displacy-tag\" dy=\"2em\" fill=\"currentColor\" x=\"225\">AUX</tspan>\n",
       "</text>\n",
       "\n",
       "<text class=\"displacy-token\" fill=\"currentColor\" text-anchor=\"middle\" y=\"309.5\">\n",
       "    <tspan class=\"displacy-word\" fill=\"currentColor\" x=\"400\">mein</tspan>\n",
       "    <tspan class=\"displacy-tag\" dy=\"2em\" fill=\"currentColor\" x=\"400\">DET</tspan>\n",
       "</text>\n",
       "\n",
       "<text class=\"displacy-token\" fill=\"currentColor\" text-anchor=\"middle\" y=\"309.5\">\n",
       "    <tspan class=\"displacy-word\" fill=\"currentColor\" x=\"575\">erster</tspan>\n",
       "    <tspan class=\"displacy-tag\" dy=\"2em\" fill=\"currentColor\" x=\"575\">ADJ</tspan>\n",
       "</text>\n",
       "\n",
       "<text class=\"displacy-token\" fill=\"currentColor\" text-anchor=\"middle\" y=\"309.5\">\n",
       "    <tspan class=\"displacy-word\" fill=\"currentColor\" x=\"750\">Satz.</tspan>\n",
       "    <tspan class=\"displacy-tag\" dy=\"2em\" fill=\"currentColor\" x=\"750\">NOUN</tspan>\n",
       "</text>\n",
       "\n",
       "<g class=\"displacy-arrow\">\n",
       "    <path class=\"displacy-arc\" id=\"arrow-5f08543a17204a52a11d69f46e43b7a8-0-0\" stroke-width=\"2px\" d=\"M70,264.5 C70,177.0 215.0,177.0 215.0,264.5\" fill=\"none\" stroke=\"currentColor\"/>\n",
       "    <text dy=\"1.25em\" style=\"font-size: 0.8em; letter-spacing: 1px\">\n",
       "        <textPath xlink:href=\"#arrow-5f08543a17204a52a11d69f46e43b7a8-0-0\" class=\"displacy-label\" startOffset=\"50%\" side=\"left\" fill=\"currentColor\" text-anchor=\"middle\">sb</textPath>\n",
       "    </text>\n",
       "    <path class=\"displacy-arrowhead\" d=\"M70,266.5 L62,254.5 78,254.5\" fill=\"currentColor\"/>\n",
       "</g>\n",
       "\n",
       "<g class=\"displacy-arrow\">\n",
       "    <path class=\"displacy-arc\" id=\"arrow-5f08543a17204a52a11d69f46e43b7a8-0-1\" stroke-width=\"2px\" d=\"M420,264.5 C420,89.5 745.0,89.5 745.0,264.5\" fill=\"none\" stroke=\"currentColor\"/>\n",
       "    <text dy=\"1.25em\" style=\"font-size: 0.8em; letter-spacing: 1px\">\n",
       "        <textPath xlink:href=\"#arrow-5f08543a17204a52a11d69f46e43b7a8-0-1\" class=\"displacy-label\" startOffset=\"50%\" side=\"left\" fill=\"currentColor\" text-anchor=\"middle\">nk</textPath>\n",
       "    </text>\n",
       "    <path class=\"displacy-arrowhead\" d=\"M420,266.5 L412,254.5 428,254.5\" fill=\"currentColor\"/>\n",
       "</g>\n",
       "\n",
       "<g class=\"displacy-arrow\">\n",
       "    <path class=\"displacy-arc\" id=\"arrow-5f08543a17204a52a11d69f46e43b7a8-0-2\" stroke-width=\"2px\" d=\"M595,264.5 C595,177.0 740.0,177.0 740.0,264.5\" fill=\"none\" stroke=\"currentColor\"/>\n",
       "    <text dy=\"1.25em\" style=\"font-size: 0.8em; letter-spacing: 1px\">\n",
       "        <textPath xlink:href=\"#arrow-5f08543a17204a52a11d69f46e43b7a8-0-2\" class=\"displacy-label\" startOffset=\"50%\" side=\"left\" fill=\"currentColor\" text-anchor=\"middle\">nk</textPath>\n",
       "    </text>\n",
       "    <path class=\"displacy-arrowhead\" d=\"M595,266.5 L587,254.5 603,254.5\" fill=\"currentColor\"/>\n",
       "</g>\n",
       "\n",
       "<g class=\"displacy-arrow\">\n",
       "    <path class=\"displacy-arc\" id=\"arrow-5f08543a17204a52a11d69f46e43b7a8-0-3\" stroke-width=\"2px\" d=\"M245,264.5 C245,2.0 750.0,2.0 750.0,264.5\" fill=\"none\" stroke=\"currentColor\"/>\n",
       "    <text dy=\"1.25em\" style=\"font-size: 0.8em; letter-spacing: 1px\">\n",
       "        <textPath xlink:href=\"#arrow-5f08543a17204a52a11d69f46e43b7a8-0-3\" class=\"displacy-label\" startOffset=\"50%\" side=\"left\" fill=\"currentColor\" text-anchor=\"middle\">pd</textPath>\n",
       "    </text>\n",
       "    <path class=\"displacy-arrowhead\" d=\"M750.0,266.5 L758.0,254.5 742.0,254.5\" fill=\"currentColor\"/>\n",
       "</g>\n",
       "</svg></span>"
      ],
      "text/plain": [
       "<IPython.core.display.HTML object>"
      ]
     },
     "metadata": {},
     "output_type": "display_data"
    }
   ],
   "source": [
    "from spacy import displacy\n",
    "\n",
    "displacy.render(doc, style='dep')"
   ]
  },
  {
   "cell_type": "markdown",
   "metadata": {},
   "source": [
    "Unverständliche Tags können wie folgt nachgeschlagen werden:"
   ]
  },
  {
   "cell_type": "code",
   "execution_count": 12,
   "metadata": {},
   "outputs": [
    {
     "data": {
      "text/plain": [
       "'noun kernel element'"
      ]
     },
     "execution_count": 12,
     "metadata": {},
     "output_type": "execute_result"
    }
   ],
   "source": [
    "spacy.explain('nk')"
   ]
  },
  {
   "cell_type": "markdown",
   "metadata": {},
   "source": [
    "---\n",
    "\n",
    "## 5. Alternative: jupyterHub Webservice (LMU DHVLab)\n",
    "\n",
    "Wenn Sie keinen lokalen jupyter-Server installieren können, können Sie alternativ auch das [jupyterHub-Modul](https://dhvlab.gwi.uni-muenchen.de/notebook/) des [DHVLabs](https://dhvlab.gwi.uni-muenchen.de/) der LMU verwenden.\n",
    "\n",
    "Orientieren Sie sich dabei an folgendem Q&A:\n",
    "\n",
    "*Q: Wie bekomme ich einen DHVLab-Account?*<br/>\n",
    "A: Registrieren Sie sich hier ***mit Ihrer Campus-Adresse*** für das Lab **CIS_Syntax_2223**: https://dhvlab.gwi.uni-muenchen.de/mgmt/labuser/signup. Bestätigen Sie anschließend Ihre Registrierung (Email). Anschließend warten Sie, bis Ihre Account freigeschaltet wurde.\n",
    "\n",
    "*Q: Wie starte ich jupyterHub?*<br/>\n",
    "A: Bevor Sie sich zum ersten Mal in jupyterHub einloggen, müssen Sie sich einmalig am [Modul \"Virtueller Desktop\"](https://dhvlab.gwi.uni-muenchen.de/desktop/#/) anmelden, um Ihr Home-Verzeichnis anzulegen. Wählen Sie am besten einen SSH-Login und geben Sie DHVLab-Username und Passwort ein. Danach können Sie sich mit ihrem DHVLab-Account beim jupyterHub-Modul anmelden: https://dhvlab.gwi.uni-muenchen.de/notebook/\n",
    "\n",
    "*Q: Wie bekomme ich die Notebooks und die anderen Dateien ins jupyterHub?*<br/>\n",
    "A: Am besten clonen Sie das github-Repository über die Konsole in ihr Homeverzeichnis und aktualisieren wöchentlich. Alternativ können Sie auch manuell Dateien hochladen (auch mehrere gleichzeitig per Drag&Drop).\n",
    "\n",
    "*Q: Wie starte ich Notebooks im jupyterHub?*<br/>\n",
    "A: Doppelklick auf das Notebook.\n"
   ]
  },
  {
   "cell_type": "markdown",
   "metadata": {},
   "source": [
    "---\n",
    "# Hausaufgaben"
   ]
  },
  {
   "cell_type": "markdown",
   "metadata": {},
   "source": [
    "## 6. Troubleshooting\n",
    "\n",
    "Vergewissern Sie sich, dass Sie für das nächste Mal eine funktionierende Installation zur Verfügung haben, und betreiben Sie ggf. Troubleshooting. \n",
    "\n",
    "Informieren Sie sich auch im NLTK-Kapitel 1.2 ('Getting Started with NLTK'):\n",
    "- http://www.nltk.org/book/ch01.html\n",
    "\n",
    "sowie im Vorwort:\n",
    "- http://www.nltk.org/book/ch00.html ('Software Requirements', etc.).\n"
   ]
  },
  {
   "cell_type": "markdown",
   "metadata": {},
   "source": [
    "## 7. Verwendung git\n",
    "\n",
    "Die Inhalte von Vorlesung und Übung werden über Github zur Verfügung gestellt und können über die Weboberfläche eingesehen und heruntergeladen werden. Ein lokales Klonen und regelmäßiges Updaten mit git erleichtert aber das Beziehen der Dateien, insbesondere bzgl. der interaktiven Aufgaben, da diese zusätzliche Konfigurationsdateien benötigen, die so automatisch heruntergeladen werden.\n",
    "\n",
    "Machen Sie sich mit der Verwendung von git vertraut und installieren Sie ggf. einen git-Client."
   ]
  }
 ],
 "metadata": {
  "kernelspec": {
   "display_name": "Python 3 (ipykernel)",
   "language": "python",
   "name": "python3"
  },
  "language_info": {
   "codemirror_mode": {
    "name": "ipython",
    "version": 3
   },
   "file_extension": ".py",
   "mimetype": "text/x-python",
   "name": "python",
   "nbconvert_exporter": "python",
   "pygments_lexer": "ipython3",
   "version": "3.9.12"
  }
 },
 "nbformat": 4,
 "nbformat_minor": 4
}
