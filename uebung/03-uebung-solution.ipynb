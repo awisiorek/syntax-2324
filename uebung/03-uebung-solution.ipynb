{
 "cells": [
  {
   "cell_type": "markdown",
   "metadata": {},
   "source": [
    "Syntax natürlicher Sprachen, WS 2023/24\n",
    "\n",
    "# 03 - Übung (Lösung)"
   ]
  },
  {
   "cell_type": "code",
   "execution_count": 1,
   "metadata": {},
   "outputs": [],
   "source": [
    "import nltk\n",
    "from nltk.tree import Tree"
   ]
  },
  {
   "cell_type": "markdown",
   "metadata": {},
   "source": [
    "## Aufgabe 1 -  Syntaktische Ambiguität\n",
    "\n",
    "#### Gegeben sei folgende CFG-Grammatik für einen bekannten Beispielsatz aus einem Film der Marx Brothers (vgl. https://www.nltk.org/book/ch08.html#ex-marx-elephant). Führen Sie das Skript aus und beantworten Sie im Anschluss die untenstehenden Fragen."
   ]
  },
  {
   "cell_type": "code",
   "execution_count": 2,
   "metadata": {},
   "outputs": [
    {
     "name": "stdout",
     "output_type": "stream",
     "text": [
      "\n",
      "Länge der vom Parser wiedergegebenen Sequenz:  2 \n",
      "\n",
      "      S                                       \n",
      " ┌────┴──────────────┐                         \n",
      " │                   VP                       \n",
      " │         ┌─────────┴──────────┐              \n",
      " │         VP                   PP            \n",
      " │    ┌────┴───┐            ┌───┴───┐          \n",
      " NP   │        NP           │       NP        \n",
      " │    │    ┌───┴─────┐      │   ┌───┴─────┐    \n",
      "PRON  V   DET        N      P  DET        N   \n",
      " │    │    │         │      │   │         │    \n",
      " I   shot  an     elephant  in  my     pajamas\n",
      "\n",
      "      S                                   \n",
      " ┌────┴──────────┐                         \n",
      " │               VP                       \n",
      " │    ┌──────────┴──────┐                  \n",
      " │    │                 NP                \n",
      " │    │    ┌─────┬──────┴───┐              \n",
      " │    │    │     │          PP            \n",
      " │    │    │     │      ┌───┴───┐          \n",
      " NP   │    │     │      │       NP        \n",
      " │    │    │     │      │   ┌───┴─────┐    \n",
      "PRON  V   DET    N      P  DET        N   \n",
      " │    │    │     │      │   │         │    \n",
      " I   shot  an elephant  in  my     pajamas\n",
      "\n"
     ]
    }
   ],
   "source": [
    "sent = \"I shot an elephant in my pajamas\"\n",
    "\n",
    "grammar = nltk.CFG.fromstring(\"\"\"\n",
    "    S -> NP VP\n",
    "    NP -> DET N | DET N PP | PRON\n",
    "    VP -> V NP | VP PP\n",
    "    PP -> P NP\n",
    "    PRON -> 'I'\n",
    "    DET -> 'an' | 'my'\n",
    "    N -> 'elephant' | 'pajamas'\n",
    "    V -> 'shot'\n",
    "    P -> 'in'\n",
    "\"\"\")\n",
    "\n",
    "parser = nltk.ChartParser(grammar)\n",
    "trees = list(parser.parse(sent.split()))\n",
    "print(\"\\nLänge der vom Parser wiedergegebenen Sequenz: \", len(trees), \"\\n\")\n",
    "\n",
    "for tree in trees:\n",
    "    tree.pretty_print(unicodelines=True)"
   ]
  },
  {
   "cell_type": "markdown",
   "metadata": {},
   "source": [
    "#### 1. Warum gibt die parse-Funktion des Skripts eine Sequenz zurück?\n"
   ]
  },
  {
   "cell_type": "code",
   "execution_count": 17,
   "metadata": {},
   "outputs": [],
   "source": [
    "# Zu einer Eingabe können im allgemeinen mehrere Parse-Bäume gefunden werden (verschiedene Analysen gemäß der Grammatik).\n",
    "# Deshalb enthält das Rückgabeobjekt der parse()-Methode eine Liste, die die gefundenen Tree-Objekte enthält."
   ]
  },
  {
   "cell_type": "markdown",
   "metadata": {},
   "source": [
    "#### 2. Worin liegen die Unterschiede zwischen den ausgegebenen Bäumen?\n"
   ]
  },
  {
   "cell_type": "code",
   "execution_count": null,
   "metadata": {},
   "outputs": [],
   "source": [
    "# Ambiguität! \n",
    "# Die Präpositionalphrase 'in my pajamas' ist einmal Teil der Verbalphrase und einmal Teil der Nominalphrase."
   ]
  },
  {
   "cell_type": "markdown",
   "metadata": {},
   "source": [
    "#### 3. Warum ist der gegebene Satz *I shot an elephant in my pajamas* syntaktisch ambig?"
   ]
  },
  {
   "cell_type": "code",
   "execution_count": 18,
   "metadata": {},
   "outputs": [],
   "source": [
    "# PP-Attachment-Ambiguität:\n",
    "# Aus der Oberflächensyntax ist nicht ersichtlich, welche syntakische Funktion die PP einnimmt. \n",
    "\n",
    "# Im ersten Fall modifiziert die PP die im Verb ausgedrückete Tätigkeit (Adverbial).\n",
    "# Im zweiten Fall stellt die PP eine Beifügung zum Substantiv dar (Attribut).\n"
   ]
  },
  {
   "cell_type": "markdown",
   "metadata": {},
   "source": [
    "#### 4. Welche Regeln ermöglichen die beiden Analysen? Wie unterscheiden sich die beiden Regeln?"
   ]
  },
  {
   "cell_type": "code",
   "execution_count": null,
   "metadata": {},
   "outputs": [],
   "source": [
    "# VP -> VP PP \n",
    "# = rekursive Regel für PP-Adjunktion von Adverbialen an die VP\n",
    "\n",
    "# NP -> DET N PP \n",
    "# = flache (nicht-rekursive) Regel für die Adjunktion von genau einer PP als Attribut an die NP"
   ]
  },
  {
   "cell_type": "markdown",
   "metadata": {},
   "source": [
    "## Aufgabe 2 - Transformation in X-Bar-Struktur\n",
    "\n",
    "#### Ergänzen Sie die gegebene CFG mit X-Bar-Struktur-Regeln, um folgenden Satz linguistisch korrekt zu parsen:"
   ]
  },
  {
   "cell_type": "code",
   "execution_count": 3,
   "metadata": {},
   "outputs": [],
   "source": [
    "sent = \"I had shot a very very big elephant in my pajamas\""
   ]
  },
  {
   "cell_type": "code",
   "execution_count": 4,
   "metadata": {},
   "outputs": [
    {
     "name": "stdout",
     "output_type": "stream",
     "text": [
      "          S                                                           \n",
      " ┌────────┴───────────────┐                                            \n",
      " │                        VP                                          \n",
      " │    ┌───────────────────┴──────────┐                                 \n",
      " │    │                            VERBAL                             \n",
      " │    │             ┌────────────────┴──────────────────┐              \n",
      " │    │           VERBAL                                │             \n",
      " │    │   ┌─────────┴─────┐                             │              \n",
      " │    │   │               NP                            │             \n",
      " │    │   │    ┌──────────┴────┐                        │              \n",
      " │    │   │    │              NOM                       │             \n",
      " │    │   │    │          ┌────┴─────────────┐          │              \n",
      " │    │   │    │         ADJP                │          PP            \n",
      " │    │   │    │    ┌─────┴────┐             │      ┌───┴───┐          \n",
      " │    │   │    │    │         ADJP           │      │       NP        \n",
      " │    │   │    │    │     ┌────┴─────┐       │      │   ┌───┴─────┐    \n",
      " NP   │   │    │    │     │         ADJP    NOM     │   │        NOM  \n",
      " │    │   │    │    │     │          │       │      │   │         │    \n",
      "PRON AUX  V   DET  PRT   PRT        ADJ      N      P  DET        N   \n",
      " │    │   │    │    │     │          │       │      │   │         │    \n",
      " I   had shot  a   very  very       big   elephant  in  my     pajamas\n",
      "\n",
      "      S                                                             \n",
      " ┌────┴───┐                                                          \n",
      " │        VP                                                        \n",
      " │    ┌───┴─────────┐                                                \n",
      " │    │           VERBAL                                            \n",
      " │    │   ┌─────────┴───────────────┐                                \n",
      " │    │   │                         NP                              \n",
      " │    │   │    ┌────────────────────┴──────┐                         \n",
      " │    │   │    │                          NOM                       \n",
      " │    │   │    │               ┌───────────┴──────────┐              \n",
      " │    │   │    │              NOM                     │             \n",
      " │    │   │    │          ┌────┴───────────┐          │              \n",
      " │    │   │    │         ADJP              │          PP            \n",
      " │    │   │    │    ┌─────┴────┐           │      ┌───┴───┐          \n",
      " │    │   │    │    │         ADJP         │      │       NP        \n",
      " │    │   │    │    │     ┌────┴────┐      │      │   ┌───┴─────┐    \n",
      " NP   │   │    │    │     │        ADJP   NOM     │   │        NOM  \n",
      " │    │   │    │    │     │         │      │      │   │         │    \n",
      "PRON AUX  V   DET  PRT   PRT       ADJ     N      P  DET        N   \n",
      " │    │   │    │    │     │         │      │      │   │         │    \n",
      " I   had shot  a   very  very      big  elephant  in  my     pajamas\n",
      "\n",
      "      S                                                                 \n",
      " ┌────┴───┐                                                              \n",
      " │        VP                                                            \n",
      " │    ┌───┴─────────┐                                                    \n",
      " │    │           VERBAL                                                \n",
      " │    │   ┌─────────┴───────────────┐                                    \n",
      " │    │   │                         NP                                  \n",
      " │    │   │    ┌────────────────────┴──────┐                             \n",
      " │    │   │    │                          NOM                           \n",
      " │    │   │    │          ┌────────────────┴──────────┐                  \n",
      " │    │   │    │          │                          NOM                \n",
      " │    │   │    │          │                ┌──────────┴───┐              \n",
      " │    │   │    │         ADJP              │              PP            \n",
      " │    │   │    │    ┌─────┴────┐           │      ┌───────┴───┐          \n",
      " │    │   │    │    │         ADJP         │      │           NP        \n",
      " │    │   │    │    │     ┌────┴────┐      │      │       ┌───┴─────┐    \n",
      " NP   │   │    │    │     │        ADJP   NOM     │       │        NOM  \n",
      " │    │   │    │    │     │         │      │      │       │         │    \n",
      "PRON AUX  V   DET  PRT   PRT       ADJ     N      P      DET        N   \n",
      " │    │   │    │    │     │         │      │      │       │         │    \n",
      " I   had shot  a   very  very      big  elephant  in      my     pajamas\n",
      "\n"
     ]
    }
   ],
   "source": [
    "grammar = nltk.CFG.fromstring(\"\"\"\n",
    "    S -> NP VP\n",
    "\n",
    "    NP -> DET NOM | PRON\n",
    "    NOM -> ADJP NOM | NOM PP\n",
    "    NOM -> N\n",
    "\n",
    "    ADJP -> PRT ADJP\n",
    "    ADJP -> ADJ\n",
    "\n",
    "    VP -> AUX VERBAL\n",
    "    VERBAL -> VERBAL PP\n",
    "    VERBAL -> V NP\n",
    "\n",
    "    PP -> P NP\n",
    "\n",
    "    PRON -> 'I'\n",
    "    DET -> 'a' | 'my'\n",
    "    N -> 'elephant' | 'pajamas'\n",
    "    V -> 'shot'\n",
    "    P -> 'in'\n",
    "    PRT -> 'very'\n",
    "    ADJ -> 'big'\n",
    "    AUX -> 'had'\n",
    "\"\"\")\n",
    "\n",
    "parser = nltk.ChartParser(grammar)\n",
    "trees = list(parser.parse(sent.split()))\n",
    "if trees: [tree.pretty_print(unicodelines=True) for tree in trees]\n",
    "else: print(f\"no parse found for: {sent}\")"
   ]
  },
  {
   "cell_type": "code",
   "execution_count": null,
   "metadata": {},
   "outputs": [],
   "source": [
    "# Erläuterung:\n",
    "# hier treten zwei Arten syntaktischer Ambiguität auf:\n",
    "# 1. PP-Attachment\n",
    "# 2. Skopus der Adjektivphrase"
   ]
  },
  {
   "cell_type": "markdown",
   "metadata": {},
   "source": [
    "\n",
    "## Aufgabe 3 - Phrasenstrukturgrammatik mit X-Bar-Regeln\n",
    "\n",
    "### a) Schreiben Sie zunächst eine einfache kontextfreie Grammatik, die die folgenden beiden Sätze erkennt:"
   ]
  },
  {
   "cell_type": "code",
   "execution_count": 6,
   "metadata": {},
   "outputs": [],
   "source": [
    "sents = [\n",
    "    \"der Mann gibt der Frau das Buch\",\n",
    "    \"die Frau schenkt der Frau das Buch\"\n",
    "]"
   ]
  },
  {
   "cell_type": "code",
   "execution_count": 7,
   "metadata": {},
   "outputs": [
    {
     "name": "stdout",
     "output_type": "stream",
     "text": [
      "                   S                       \n",
      "     ┌─────────────┴───────┐                \n",
      "     │                     VP              \n",
      "     │        ┌────────┬───┴────────┐       \n",
      "     NP       │        NP           NP     \n",
      " ┌───┴───┐    │    ┌───┴───┐    ┌───┴───┐   \n",
      "DET      N    V   DET      N   DET      N  \n",
      " │       │    │    │       │    │       │   \n",
      "der     Mann gibt der     Frau das     Buch\n",
      "\n",
      "                      S                       \n",
      "     ┌────────────────┴───────┐                \n",
      "     │                        VP              \n",
      "     │          ┌─────────┬───┴────────┐       \n",
      "     NP         │         NP           NP     \n",
      " ┌───┴───┐      │     ┌───┴───┐    ┌───┴───┐   \n",
      "DET      N      V    DET      N   DET      N  \n",
      " │       │      │     │       │    │       │   \n",
      "die     Frau schenkt der     Frau das     Buch\n",
      "\n"
     ]
    }
   ],
   "source": [
    "grammar = nltk.CFG.fromstring(\"\"\"\n",
    "    S -> NP VP\n",
    "    NP -> DET N\n",
    "    VP -> V NP NP\n",
    "\n",
    "    DET -> \"der\" | \"die\" | \"das\"\n",
    "    N -> \"Mann\" | \"Frau\" | \"Buch\"\n",
    "    V -> \"gibt\" | \"schenkt\"\n",
    "\"\"\")\n",
    "\n",
    "parser = nltk.ChartParser(grammar)\n",
    "for sent in sents:\n",
    "    trees = list(parser.parse(sent.split()))\n",
    "    if trees: [tree.pretty_print(unicodelines=True) for tree in trees]\n",
    "    else: print(f\"no parse found for: {sent}\")"
   ]
  },
  {
   "cell_type": "markdown",
   "metadata": {},
   "source": [
    "### b) Erweiterung für ein- und zweistellige Verben\n",
    "\n",
    "#### Bis jetzt akzeptiert die Grammatik lediglich dreistellige Verben. Erweitern Sie sie so, dass auch Verben mit weniger als zwei Objekten korrekte Verbalphrasen bilden können.\n",
    "\n",
    "#### Folgende Sätze sollten akzeptiert werden:"
   ]
  },
  {
   "cell_type": "code",
   "execution_count": 8,
   "metadata": {},
   "outputs": [],
   "source": [
    "sents = [\n",
    "    \"der Mann schläft\",\n",
    "    \"das Buch gefällt der Frau\",\n",
    "    \"die Frau kennt das Buch\"\n",
    "]"
   ]
  },
  {
   "cell_type": "code",
   "execution_count": 9,
   "metadata": {},
   "outputs": [
    {
     "name": "stdout",
     "output_type": "stream",
     "text": [
      "         S          \n",
      "     ┌───┴──────┐    \n",
      "     NP         VP  \n",
      " ┌───┴───┐      │    \n",
      "DET      N      V   \n",
      " │       │      │    \n",
      "der     Mann schläft\n",
      "\n",
      "                S                \n",
      "     ┌──────────┴─────┐           \n",
      "     │                VP         \n",
      "     │          ┌─────┴───┐       \n",
      "     NP         │         NP     \n",
      " ┌───┴───┐      │     ┌───┴───┐   \n",
      "DET      N      V    DET      N  \n",
      " │       │      │     │       │   \n",
      "das     Buch gefällt der     Frau\n",
      "\n",
      "               S               \n",
      "     ┌─────────┴────┐           \n",
      "     │              VP         \n",
      "     │         ┌────┴───┐       \n",
      "     NP        │        NP     \n",
      " ┌───┴───┐     │    ┌───┴───┐   \n",
      "DET      N     V   DET      N  \n",
      " │       │     │    │       │   \n",
      "die     Frau kennt das     Buch\n",
      "\n"
     ]
    }
   ],
   "source": [
    "grammar = nltk.CFG.fromstring(\"\"\"\n",
    "    S -> NP VP\n",
    "    NP -> DET N\n",
    "# neu:\n",
    "    VP -> V NP NP | V NP | V\n",
    "\n",
    "    DET -> \"der\" | \"die\" | \"das\"\n",
    "    N -> \"Mann\" | \"Frau\" | \"Buch\"\n",
    "    V -> \"gibt\" | \"schenkt\" | \"schläft\" | \"gefällt\" | \"kennt\"\n",
    "\"\"\")\n",
    "\n",
    "parser = nltk.ChartParser(grammar)\n",
    "for sent in sents:\n",
    "    trees = list(parser.parse(sent.split()))\n",
    "    if trees: [tree.pretty_print(unicodelines=True) for tree in trees]\n",
    "    else: print(f\"no parse found for: {sent}\")"
   ]
  },
  {
   "cell_type": "markdown",
   "metadata": {},
   "source": [
    "### c) Erweiterung für rekursive Adjektiv-Adjunkte\n",
    "\n",
    "#### Erweitern Sie die Grammatik nun derart, dass Nominalphrasen auch Adjektive enthalten dürfen – und zwar beliebig viele. Beachten Sie dabei, dass andererseits nur genau ein Determinierer in der NP-Phrase enthalten sein darf (und zwar als erstes Element).\n",
    "\n",
    "#### Verwenden Sie `NOM` als Label für die nominale Zwischenebene (X' in X-Bar-Schema).\n",
    "\n",
    "#### Folgende Sätze sollten akzeptiert werden:"
   ]
  },
  {
   "cell_type": "code",
   "execution_count": 10,
   "metadata": {},
   "outputs": [],
   "source": [
    "sents = [\n",
    "    \"die kluge schöne Frau kennt das Buch\",\n",
    "    \"der schöne kluge Mann gibt der Frau das dicke Buch\",\n",
    "    \"das dicke schöne kluge Buch schläft\"\n",
    "]"
   ]
  },
  {
   "cell_type": "code",
   "execution_count": 11,
   "metadata": {},
   "outputs": [
    {
     "name": "stdout",
     "output_type": "stream",
     "text": [
      "                          S                     \n",
      "           ┌──────────────┴──────────┐           \n",
      "           NP                        │          \n",
      " ┌─────────┴────┐                    │           \n",
      " │             NOM                   VP         \n",
      " │    ┌─────────┴─────┐         ┌────┴───┐       \n",
      " │    │              NOM        │        NP     \n",
      " │    │         ┌─────┴───┐     │    ┌───┴───┐   \n",
      " │    │         │        NOM    │    │      NOM \n",
      " │    │         │         │     │    │       │   \n",
      "DET  ADJ       ADJ        N     V   DET      N  \n",
      " │    │         │         │     │    │       │   \n",
      "die kluge     schöne     Frau kennt das     Buch\n",
      "\n",
      "                               S                                  \n",
      "            ┌──────────────────┴────────────┐                      \n",
      "            NP                              VP                    \n",
      " ┌──────────┴────┐             ┌────────┬───┴─────────┐            \n",
      " │              NOM            │        │             NP          \n",
      " │    ┌──────────┴────┐        │        │        ┌────┴────┐       \n",
      " │    │              NOM       │        NP       │        NOM     \n",
      " │    │          ┌────┴───┐    │    ┌───┴───┐    │    ┌────┴───┐   \n",
      " │    │          │       NOM   │    │      NOM   │    │       NOM \n",
      " │    │          │        │    │    │       │    │    │        │   \n",
      "DET  ADJ        ADJ       N    V   DET      N   DET  ADJ       N  \n",
      " │    │          │        │    │    │       │    │    │        │   \n",
      "der schöne     kluge     Mann gibt der     Frau das dicke     Buch\n",
      "\n",
      "                       S                   \n",
      "            ┌──────────┴───────────────┐    \n",
      "            NP                         │   \n",
      " ┌──────────┴─────┐                    │    \n",
      " │               NOM                   │   \n",
      " │    ┌───────────┴────┐               │    \n",
      " │    │               NOM              │   \n",
      " │    │     ┌──────────┴────┐          │    \n",
      " │    │     │              NOM         │   \n",
      " │    │     │          ┌────┴───┐      │    \n",
      " │    │     │          │       NOM     VP  \n",
      " │    │     │          │        │      │    \n",
      "DET  ADJ   ADJ        ADJ       N      V   \n",
      " │    │     │          │        │      │    \n",
      "das dicke schöne     kluge     Buch schläft\n",
      "\n"
     ]
    }
   ],
   "source": [
    "grammar = nltk.CFG.fromstring(\"\"\"\n",
    "    S -> NP VP\n",
    "# neu:\n",
    "    NP -> DET NOM \n",
    "    NOM -> ADJ NOM | N\n",
    "\n",
    "    VP -> V NP NP | V NP | V\n",
    "\n",
    "    DET -> \"der\" | \"die\" | \"das\"\n",
    "    N -> \"Mann\" | \"Frau\" | \"Buch\"\n",
    "    V -> \"gibt\" | \"schenkt\" | \"schläft\" | \"gefällt\" | \"kennt\"\n",
    "    ADJ -> \"kluge\" | \"schöne\" | \"dicke\"\n",
    "\"\"\")\n",
    "\n",
    "parser = nltk.ChartParser(grammar)\n",
    "for sent in sents:\n",
    "    trees = list(parser.parse(sent.split()))\n",
    "    if trees: [tree.pretty_print(unicodelines=True) for tree in trees]\n",
    "    else: print(f\"no parse found for: {sent}\")"
   ]
  },
  {
   "cell_type": "markdown",
   "metadata": {},
   "source": [
    "#### Erweiterte Negativtests: Testen Sie auch, ob Ihre Grammatik für die folgenden (ungrammatischen) Sätze keine Ableitung liefert:"
   ]
  },
  {
   "cell_type": "code",
   "execution_count": 12,
   "metadata": {},
   "outputs": [
    {
     "name": "stdout",
     "output_type": "stream",
     "text": [
      "no parse found for: der der dicke der Mann gibt der Frau das Buch\n"
     ]
    }
   ],
   "source": [
    "neg_sents = [\n",
    "    \"der der dicke der Mann gibt der Frau das Buch\"\n",
    "]\n",
    "\n",
    "parser = nltk.ChartParser(grammar)\n",
    "for sent in neg_sents:\n",
    "    trees = list(parser.parse(sent.split()))\n",
    "    if trees: [tree.pretty_print(unicodelines=True) for tree in trees]\n",
    "    else: print(f\"no parse found for: {sent}\")"
   ]
  },
  {
   "cell_type": "code",
   "execution_count": 13,
   "metadata": {},
   "outputs": [
    {
     "name": "stdout",
     "output_type": "stream",
     "text": [
      "                           S                                 \n",
      "          ┌────────────────┴─────────────────┐                \n",
      "          NP                                 │               \n",
      " ┌────────┴────┐                             │                \n",
      " │             NP                            │               \n",
      " │   ┌─────────┴───┐                         │                \n",
      " │   │             NP                        VP              \n",
      " │   │    ┌────────┴───┐        ┌────────┬───┴────────┐       \n",
      " │   │    │            NP       │        NP           NP     \n",
      " │   │    │        ┌───┴───┐    │    ┌───┴───┐    ┌───┴───┐   \n",
      " │   │    │        │       NP   │    │       NP   │       NP \n",
      " │   │    │        │       │    │    │       │    │       │   \n",
      "DET DET  ADJ      DET      N    V   DET      N   DET      N  \n",
      " │   │    │        │       │    │    │       │    │       │   \n",
      "der der dicke     der     Mann gibt der     Frau das     Buch\n",
      "\n"
     ]
    }
   ],
   "source": [
    "# Erweiterte Lösung: \n",
    "#Folgende Grammatik mit rekursiven NP-Regeln ohne die nominale Zwischenebene (`NOM`) erkennt dagegen diese ungrammatischen Sätze \n",
    "#und ist insofern keine korrektes Modell der NP-Phrasenstruktur des Deutschen:\n",
    "grammar = nltk.CFG.fromstring(\"\"\"\n",
    "    S -> NP VP\n",
    "    NP -> N | ADJ NP | DET NP \n",
    "    DET -> \"der\" | \"die\" | \"das\"\n",
    "    N -> \"Mann\" | \"Frau\" | \"Buch\"\n",
    "    VP -> V NP NP\n",
    "    V -> \"gibt\" | \"schenkt\"\n",
    "    ADJ -> \"dicke\"\n",
    "\"\"\")\n",
    "\n",
    "parser = nltk.ChartParser(grammar)\n",
    "for sent in neg_sents:\n",
    "    trees = list(parser.parse(sent.split()))\n",
    "    if trees: [tree.pretty_print(unicodelines=True) for tree in trees]\n",
    "    else: print(f\"no parse found for: {sent}\")"
   ]
  },
  {
   "cell_type": "markdown",
   "metadata": {},
   "source": [
    "### d) Erweiterung um Präpositionalphrasen\n",
    "\n",
    "#### Erweitern Sie die Grammatik nun derart, dass sowohl Nominalphrasen als auch Verbalphrasen durch Präpositionalphrasen modifiziert werden können.\n",
    "\n",
    "#### Folgende Sätze sollten akzeptiert werden. Stellen Sie zudem sicher, dass für den 2. Satz zwei Analysen generiert werden (PP-Attachment-Ambiguität)."
   ]
  },
  {
   "cell_type": "code",
   "execution_count": 14,
   "metadata": {},
   "outputs": [],
   "source": [
    "sents = [\n",
    "    \"der Mann schläft neben dem Buch\",\n",
    "    \"die Frau schenkt dem Mann das Buch auf der Tanzfläche\"\n",
    "]"
   ]
  },
  {
   "cell_type": "code",
   "execution_count": 15,
   "metadata": {},
   "outputs": [
    {
     "name": "stdout",
     "output_type": "stream",
     "text": [
      "                S                          \n",
      "     ┌──────────┴───────────┐               \n",
      "     │                      VP             \n",
      "     │          ┌───────────┴───┐           \n",
      "     │          │               PP         \n",
      "     │          │      ┌────────┴───┐       \n",
      "     NP         │      │            NP     \n",
      " ┌───┴───┐      │      │        ┌───┴───┐   \n",
      " │      NOM     VP     │        │      NOM \n",
      " │       │      │      │        │       │   \n",
      "DET      N      V      P       DET      N  \n",
      " │       │      │      │        │       │   \n",
      "der     Mann schläft neben     dem     Buch\n",
      "\n",
      "                              S                                      \n",
      "     ┌────────────────────────┴────┐                                  \n",
      "     │                             VP                                \n",
      "     │                        ┌────┴────────────────┐                 \n",
      "     │                        VP                    PP               \n",
      "     │          ┌─────────┬───┴────────┐        ┌───┴───┐             \n",
      "     NP         │         NP           NP       │       NP           \n",
      " ┌───┴───┐      │     ┌───┴───┐    ┌───┴───┐    │   ┌───┴──────┐      \n",
      " │      NOM     │     │      NOM   │      NOM   │   │         NOM    \n",
      " │       │      │     │       │    │       │    │   │          │      \n",
      "DET      N      V    DET      N   DET      N    P  DET         N     \n",
      " │       │      │     │       │    │       │    │   │          │      \n",
      "die     Frau schenkt dem     Mann das     Buch auf der     Tanzfläche\n",
      "\n",
      "                              S                                      \n",
      "     ┌────────────────────────┴────┐                                  \n",
      "     │                             VP                                \n",
      "     │          ┌─────────┬────────┴────────┐                         \n",
      "     │          │         │                 NP                       \n",
      "     │          │         │        ┌────────┴───┐                     \n",
      "     │          │         │        │           NOM                   \n",
      "     │          │         │        │   ┌────────┴───┐                 \n",
      "     │          │         │        │   │            PP               \n",
      "     │          │         │        │   │    ┌───────┴───┐             \n",
      "     NP         │         NP       │   │    │           NP           \n",
      " ┌───┴───┐      │     ┌───┴───┐    │   │    │       ┌───┴──────┐      \n",
      " │      NOM     │     │      NOM   │  NOM   │       │         NOM    \n",
      " │       │      │     │       │    │   │    │       │          │      \n",
      "DET      N      V    DET      N   DET  N    P      DET         N     \n",
      " │       │      │     │       │    │   │    │       │          │      \n",
      "die     Frau schenkt dem     Mann das Buch auf     der     Tanzfläche\n",
      "\n"
     ]
    }
   ],
   "source": [
    "grammar = nltk.CFG.fromstring(\"\"\"\n",
    "    S -> NP VP\n",
    "    NP -> DET NOM \n",
    "    NOM -> ADJ NOM | N\n",
    "#neu:\n",
    "    NOM -> NOM PP\n",
    "\n",
    "    VP -> V NP NP | V NP | V\n",
    "#neu (hier ohne X-Bar-Zwischenebene VERBAL):\n",
    "    VP -> VP PP\n",
    "\n",
    "#neu:\n",
    "    PP -> P NP\n",
    "\n",
    "    DET -> \"der\" | \"die\" | \"das\" | \"dem\" | \"der\"\n",
    "    N -> \"Mann\" | \"Frau\" | \"Buch\" | \"Tanzfläche\"\n",
    "    V -> \"gibt\" | \"schenkt\" | \"schläft\" | \"gefällt\" | \"kennt\"\n",
    "    ADJ -> \"kluge\" | \"schöne\" | \"dicke\"\n",
    "    P -> \"neben\" | \"auf\"\n",
    "\"\"\")\n",
    "\n",
    "parser = nltk.ChartParser(grammar)\n",
    "for sent in sents:\n",
    "    trees = list(parser.parse(sent.split()))\n",
    "    if trees: [tree.pretty_print(unicodelines=True) for tree in trees]\n",
    "    else: print(f\"no parse found for: {sent}\")"
   ]
  },
  {
   "cell_type": "markdown",
   "metadata": {},
   "source": [
    "#### Testen Sie abschließend, ob Ihre Grammatik weiterhin für alle Sätze eine korrekte Analyse liefert:"
   ]
  },
  {
   "cell_type": "code",
   "execution_count": 16,
   "metadata": {},
   "outputs": [],
   "source": [
    "all_sents = [\n",
    "    \"der Mann gibt der Frau das Buch\",\n",
    "    \"die Frau schenkt der Frau das Buch\",\n",
    "    \"der Mann schläft\",\n",
    "    \"das Buch gefällt der Frau\",\n",
    "    \"die Frau kennt das Buch\",\n",
    "    \"die kluge schöne Frau kennt das Buch\",\n",
    "    \"der schöne kluge Mann gibt der Frau das dicke Buch\",\n",
    "    \"das dicke schöne kluge Buch schläft\",\n",
    "    \"der Mann schläft neben dem Buch\",\n",
    "    \"die Frau schenkt dem Mann das Buch auf der Tanzfläche\"\n",
    "]"
   ]
  },
  {
   "cell_type": "code",
   "execution_count": 17,
   "metadata": {},
   "outputs": [
    {
     "name": "stdout",
     "output_type": "stream",
     "text": [
      "                   S                       \n",
      "     ┌─────────────┴───────┐                \n",
      "     │                     VP              \n",
      "     │        ┌────────┬───┴────────┐       \n",
      "     NP       │        NP           NP     \n",
      " ┌───┴───┐    │    ┌───┴───┐    ┌───┴───┐   \n",
      " │      NOM   │    │      NOM   │      NOM \n",
      " │       │    │    │       │    │       │   \n",
      "DET      N    V   DET      N   DET      N  \n",
      " │       │    │    │       │    │       │   \n",
      "der     Mann gibt der     Frau das     Buch\n",
      "\n",
      "                      S                       \n",
      "     ┌────────────────┴───────┐                \n",
      "     │                        VP              \n",
      "     │          ┌─────────┬───┴────────┐       \n",
      "     NP         │         NP           NP     \n",
      " ┌───┴───┐      │     ┌───┴───┐    ┌───┴───┐   \n",
      " │      NOM     │     │      NOM   │      NOM \n",
      " │       │      │     │       │    │       │   \n",
      "DET      N      V    DET      N   DET      N  \n",
      " │       │      │     │       │    │       │   \n",
      "die     Frau schenkt der     Frau das     Buch\n",
      "\n",
      "         S          \n",
      "     ┌───┴──────┐    \n",
      "     NP         │   \n",
      " ┌───┴───┐      │    \n",
      " │      NOM     VP  \n",
      " │       │      │    \n",
      "DET      N      V   \n",
      " │       │      │    \n",
      "der     Mann schläft\n",
      "\n",
      "                S                \n",
      "     ┌──────────┴─────┐           \n",
      "     │                VP         \n",
      "     │          ┌─────┴───┐       \n",
      "     NP         │         NP     \n",
      " ┌───┴───┐      │     ┌───┴───┐   \n",
      " │      NOM     │     │      NOM \n",
      " │       │      │     │       │   \n",
      "DET      N      V    DET      N  \n",
      " │       │      │     │       │   \n",
      "das     Buch gefällt der     Frau\n",
      "\n",
      "               S               \n",
      "     ┌─────────┴────┐           \n",
      "     │              VP         \n",
      "     │         ┌────┴───┐       \n",
      "     NP        │        NP     \n",
      " ┌───┴───┐     │    ┌───┴───┐   \n",
      " │      NOM    │    │      NOM \n",
      " │       │     │    │       │   \n",
      "DET      N     V   DET      N  \n",
      " │       │     │    │       │   \n",
      "die     Frau kennt das     Buch\n",
      "\n",
      "                          S                     \n",
      "           ┌──────────────┴──────────┐           \n",
      "           NP                        │          \n",
      " ┌─────────┴────┐                    │           \n",
      " │             NOM                   VP         \n",
      " │    ┌─────────┴─────┐         ┌────┴───┐       \n",
      " │    │              NOM        │        NP     \n",
      " │    │         ┌─────┴───┐     │    ┌───┴───┐   \n",
      " │    │         │        NOM    │    │      NOM \n",
      " │    │         │         │     │    │       │   \n",
      "DET  ADJ       ADJ        N     V   DET      N  \n",
      " │    │         │         │     │    │       │   \n",
      "die kluge     schöne     Frau kennt das     Buch\n",
      "\n",
      "                               S                                  \n",
      "            ┌──────────────────┴────────────┐                      \n",
      "            NP                              VP                    \n",
      " ┌──────────┴────┐             ┌────────┬───┴─────────┐            \n",
      " │              NOM            │        │             NP          \n",
      " │    ┌──────────┴────┐        │        │        ┌────┴────┐       \n",
      " │    │              NOM       │        NP       │        NOM     \n",
      " │    │          ┌────┴───┐    │    ┌───┴───┐    │    ┌────┴───┐   \n",
      " │    │          │       NOM   │    │      NOM   │    │       NOM \n",
      " │    │          │        │    │    │       │    │    │        │   \n",
      "DET  ADJ        ADJ       N    V   DET      N   DET  ADJ       N  \n",
      " │    │          │        │    │    │       │    │    │        │   \n",
      "der schöne     kluge     Mann gibt der     Frau das dicke     Buch\n",
      "\n",
      "                       S                   \n",
      "            ┌──────────┴───────────────┐    \n",
      "            NP                         │   \n",
      " ┌──────────┴─────┐                    │    \n",
      " │               NOM                   │   \n",
      " │    ┌───────────┴────┐               │    \n",
      " │    │               NOM              │   \n",
      " │    │     ┌──────────┴────┐          │    \n",
      " │    │     │              NOM         │   \n",
      " │    │     │          ┌────┴───┐      │    \n",
      " │    │     │          │       NOM     VP  \n",
      " │    │     │          │        │      │    \n",
      "DET  ADJ   ADJ        ADJ       N      V   \n",
      " │    │     │          │        │      │    \n",
      "das dicke schöne     kluge     Buch schläft\n",
      "\n",
      "                S                          \n",
      "     ┌──────────┴───────────┐               \n",
      "     │                      VP             \n",
      "     │          ┌───────────┴───┐           \n",
      "     │          │               PP         \n",
      "     │          │      ┌────────┴───┐       \n",
      "     NP         │      │            NP     \n",
      " ┌───┴───┐      │      │        ┌───┴───┐   \n",
      " │      NOM     VP     │        │      NOM \n",
      " │       │      │      │        │       │   \n",
      "DET      N      V      P       DET      N  \n",
      " │       │      │      │        │       │   \n",
      "der     Mann schläft neben     dem     Buch\n",
      "\n",
      "                              S                                      \n",
      "     ┌────────────────────────┴────┐                                  \n",
      "     │                             VP                                \n",
      "     │                        ┌────┴────────────────┐                 \n",
      "     │                        VP                    PP               \n",
      "     │          ┌─────────┬───┴────────┐        ┌───┴───┐             \n",
      "     NP         │         NP           NP       │       NP           \n",
      " ┌───┴───┐      │     ┌───┴───┐    ┌───┴───┐    │   ┌───┴──────┐      \n",
      " │      NOM     │     │      NOM   │      NOM   │   │         NOM    \n",
      " │       │      │     │       │    │       │    │   │          │      \n",
      "DET      N      V    DET      N   DET      N    P  DET         N     \n",
      " │       │      │     │       │    │       │    │   │          │      \n",
      "die     Frau schenkt dem     Mann das     Buch auf der     Tanzfläche\n",
      "\n",
      "                              S                                      \n",
      "     ┌────────────────────────┴────┐                                  \n",
      "     │                             VP                                \n",
      "     │          ┌─────────┬────────┴────────┐                         \n",
      "     │          │         │                 NP                       \n",
      "     │          │         │        ┌────────┴───┐                     \n",
      "     │          │         │        │           NOM                   \n",
      "     │          │         │        │   ┌────────┴───┐                 \n",
      "     │          │         │        │   │            PP               \n",
      "     │          │         │        │   │    ┌───────┴───┐             \n",
      "     NP         │         NP       │   │    │           NP           \n",
      " ┌───┴───┐      │     ┌───┴───┐    │   │    │       ┌───┴──────┐      \n",
      " │      NOM     │     │      NOM   │  NOM   │       │         NOM    \n",
      " │       │      │     │       │    │   │    │       │          │      \n",
      "DET      N      V    DET      N   DET  N    P      DET         N     \n",
      " │       │      │     │       │    │   │    │       │          │      \n",
      "die     Frau schenkt dem     Mann das Buch auf     der     Tanzfläche\n",
      "\n"
     ]
    }
   ],
   "source": [
    "parser = nltk.ChartParser(grammar)\n",
    "for sent in all_sents:\n",
    "    trees = list(parser.parse(sent.split()))\n",
    "    if trees: [tree.pretty_print(unicodelines=True) for tree in trees]\n",
    "    else: print(f\"no parse found for: {sent}\")"
   ]
  }
 ],
 "metadata": {
  "kernelspec": {
   "display_name": "Python 3 (ipykernel)",
   "language": "python",
   "name": "python3"
  },
  "language_info": {
   "codemirror_mode": {
    "name": "ipython",
    "version": 3
   },
   "file_extension": ".py",
   "mimetype": "text/x-python",
   "name": "python",
   "nbconvert_exporter": "python",
   "pygments_lexer": "ipython3",
   "version": "3.9.12"
  }
 },
 "nbformat": 4,
 "nbformat_minor": 2
}
