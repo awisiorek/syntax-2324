{
 "cells": [
  {
   "cell_type": "markdown",
   "metadata": {},
   "source": [
    "Syntax natürlicher Sprachen, WS 2023/24\n",
    "\n",
    "# 10 - Übung"
   ]
  },
  {
   "cell_type": "code",
   "execution_count": 2,
   "metadata": {
    "scrolled": true
   },
   "outputs": [],
   "source": [
    "import nltk"
   ]
  },
  {
   "cell_type": "markdown",
   "metadata": {},
   "source": [
    "## Aufgabe 1 - Gewichte und Ableitungswahrscheinlichkeit\n",
    "\n",
    "#### Betrachten Sie folgende (unvollständige) PCFG.\n",
    "\n",
    "#### Ergänzen Sie die fehlenden (mit ** markierten) Gewichte und geben Sie die Berechnung für die Ableitungswahrscheinlichkeit durch den Viterbi-Parser an."
   ]
  },
  {
   "cell_type": "code",
   "execution_count": null,
   "metadata": {},
   "outputs": [],
   "source": [
    "grammar = nltk.PCFG.fromstring(\"\"\"\n",
    "    S    -> NP VP              [1.0]\n",
    "    VP   -> TV NP              [0.4]\n",
    "    VP   -> IV                 [**]\n",
    "    VP   -> DatV NP NP         [0.3]\n",
    "    TV   -> 'saw'              [**]\n",
    "    IV   -> 'ate'              [1.0]\n",
    "    DatV -> 'gave'             [1.0]\n",
    "    NP   -> 'telescopes'       [**]\n",
    "    NP   -> 'Jack'             [0.2]\n",
    "\"\"\")\n",
    "\n",
    "sent = \"Jack saw telescopes\"\n",
    "\n",
    "viterbi_parser = nltk.ViterbiParser(grammar)\n",
    "for tree in viterbi_parser.parse(sent.split()):\n",
    "    print(tree)"
   ]
  },
  {
   "cell_type": "code",
   "execution_count": null,
   "metadata": {},
   "outputs": [],
   "source": [
    "# Berechnung der Ableitungswahrscheinlichkeit:\n"
   ]
  },
  {
   "cell_type": "markdown",
   "metadata": {},
   "source": [
    "## Aufgabe 2  - PCFG Parsing\n",
    "#### Betrachten Sie das folgende PCFG-Parsing:"
   ]
  },
  {
   "cell_type": "code",
   "execution_count": 3,
   "metadata": {},
   "outputs": [
    {
     "name": "stdout",
     "output_type": "stream",
     "text": [
      "(S\n",
      "  (NP (PRON Er))\n",
      "  (VP\n",
      "    (VP (V beobachtet) (NP (DET das) (N Mädchen)))\n",
      "    (PP (P mit) (NP (DET dem) (N Fernglas))))) (p=0.00084375)\n",
      "         S                                          \n",
      " ┌───────┴─────────────────┐                         \n",
      " │                         VP                       \n",
      " │               ┌─────────┴─────────┐               \n",
      " │               VP                  PP             \n",
      " │       ┌───────┴───┐           ┌───┴───┐           \n",
      " NP      │           NP          │       NP         \n",
      " │       │       ┌───┴─────┐     │   ┌───┴─────┐     \n",
      "PRON     V      DET        N     P  DET        N    \n",
      " │       │       │         │     │   │         │     \n",
      " Er  beobachtet das     Mädchen mit dem     Fernglas\n",
      "\n"
     ]
    }
   ],
   "source": [
    "grammar = nltk.PCFG.fromstring(\"\"\"\n",
    "    S -> NP VP [1]\n",
    "    PP -> P NP [1]\n",
    "    NP -> DET N [0.5]\n",
    "    NP -> PRON [0.3]\n",
    "    NP -> NP PP [0.2]\n",
    "    VP -> V [0.1]\n",
    "    VP -> V NP [0.3]\n",
    "    VP -> VP PP [0.6]\n",
    "\n",
    "    PRON -> \"Er\" [1]\n",
    "    N -> \"Mädchen\" [0.5] | \"Fernglas\" [0.5]\n",
    "    V -> \"beobachtet\" [1]\n",
    "    DET -> \"das\" [0.5] | \"dem\" [0.5]\n",
    "    P -> \"mit\" [1]\n",
    "\"\"\")\n",
    "\n",
    "sent = \"Er beobachtet das Mädchen mit dem Fernglas\"\n",
    "\n",
    "viterbi_parser = nltk.ViterbiParser(grammar)\n",
    "for tree in viterbi_parser.parse(sent.split()):\n",
    "    print(tree)\n",
    "    tree.pretty_print(unicodelines=True)"
   ]
  },
  {
   "cell_type": "markdown",
   "metadata": {},
   "source": [
    "### a) Berechnen Sie die Wahrscheinlichkeit für die Ableitung mit dem Viterbi-Parser."
   ]
  },
  {
   "cell_type": "code",
   "execution_count": null,
   "metadata": {},
   "outputs": [],
   "source": [
    "# Berechnung der Ableitungswahrscheinlichkeit:\n"
   ]
  },
  {
   "cell_type": "markdown",
   "metadata": {},
   "source": [
    "### b) Warum findet folgender Parser mehr als eine Ableitung?"
   ]
  },
  {
   "cell_type": "code",
   "execution_count": 4,
   "metadata": {},
   "outputs": [
    {
     "name": "stdout",
     "output_type": "stream",
     "text": [
      "(S\n",
      "  (NP (PRON Er))\n",
      "  (VP\n",
      "    (VP (V beobachtet) (NP (DET das) (N Mädchen)))\n",
      "    (PP (P mit) (NP (DET dem) (N Fernglas))))) (p=0.00084375)\n",
      "         S                                          \n",
      " ┌───────┴─────────────────┐                         \n",
      " │                         VP                       \n",
      " │               ┌─────────┴─────────┐               \n",
      " │               VP                  PP             \n",
      " │       ┌───────┴───┐           ┌───┴───┐           \n",
      " NP      │           NP          │       NP         \n",
      " │       │       ┌───┴─────┐     │   ┌───┴─────┐     \n",
      "PRON     V      DET        N     P  DET        N    \n",
      " │       │       │         │     │   │         │     \n",
      " Er  beobachtet das     Mädchen mit dem     Fernglas\n",
      "\n",
      "(S\n",
      "  (NP (PRON Er))\n",
      "  (VP\n",
      "    (V beobachtet)\n",
      "    (NP\n",
      "      (NP (DET das) (N Mädchen))\n",
      "      (PP (P mit) (NP (DET dem) (N Fernglas)))))) (p=0.00028125)\n",
      "         S                                          \n",
      " ┌───────┴─────────────────┐                         \n",
      " │                         VP                       \n",
      " │       ┌─────────────────┴─────┐                   \n",
      " │       │                       NP                 \n",
      " │       │           ┌───────────┴───┐               \n",
      " │       │           │               PP             \n",
      " │       │           │           ┌───┴───┐           \n",
      " NP      │           NP          │       NP         \n",
      " │       │       ┌───┴─────┐     │   ┌───┴─────┐     \n",
      "PRON     V      DET        N     P  DET        N    \n",
      " │       │       │         │     │   │         │     \n",
      " Er  beobachtet das     Mädchen mit dem     Fernglas\n",
      "\n"
     ]
    }
   ],
   "source": [
    "parser = nltk.InsideChartParser(grammar)\n",
    "for tree in parser.parse(sent.split()):\n",
    "    print(tree)\n",
    "    tree.pretty_print(unicodelines=True)"
   ]
  },
  {
   "cell_type": "code",
   "execution_count": null,
   "metadata": {},
   "outputs": [],
   "source": [
    "# Antwort:\n"
   ]
  },
  {
   "cell_type": "markdown",
   "metadata": {},
   "source": [
    "### c) Vergleichen Sie das Tracing folgender probabilistischer Parser und erläutern Sie:"
   ]
  },
  {
   "cell_type": "code",
   "execution_count": null,
   "metadata": {},
   "outputs": [],
   "source": [
    "inside_parser = nltk.InsideChartParser(grammar, trace=1)\n",
    "for tree in inside_parser.parse(sent.split()):\n",
    "    print(tree)\n",
    "    tree.pretty_print(unicodelines=True)"
   ]
  },
  {
   "cell_type": "code",
   "execution_count": null,
   "metadata": {},
   "outputs": [],
   "source": [
    "longest_parser = nltk.LongestChartParser(grammar, trace=1)\n",
    "for tree in longest_parser.parse(sent.split()):\n",
    "    print(tree)\n",
    "    tree.pretty_print(unicodelines=True)"
   ]
  },
  {
   "cell_type": "code",
   "execution_count": null,
   "metadata": {},
   "outputs": [],
   "source": [
    "viterbi_parser = nltk.ViterbiParser(grammar, trace=2)\n",
    "for tree in viterbi_parser.parse(sent.split()):\n",
    "    print(tree)\n",
    "    tree.pretty_print(unicodelines=True)"
   ]
  },
  {
   "cell_type": "code",
   "execution_count": null,
   "metadata": {},
   "outputs": [],
   "source": [
    "beam_parser = nltk.InsideChartParser(grammar, beam_size=7, trace=1)\n",
    "for tree in beam_parser.parse(sent.split()):\n",
    "    print(tree)\n",
    "    tree.pretty_print(unicodelines=True)"
   ]
  },
  {
   "cell_type": "markdown",
   "metadata": {},
   "source": [
    "## Aufgabe 3 - Abschätzung von Regelwahrscheinlichkeiten"
   ]
  },
  {
   "cell_type": "markdown",
   "metadata": {},
   "source": [
    "###  a) Herunterladen von Ressourcen und Verarbeitung von CFG-Regeln mit NLTK\n",
    "\n",
    "#### Laden Sie zunächst die Ressource „corpora/treebank“ mithilfe des NLTK-Download-Managers herunter, falls diese noch nicht installiert ist."
   ]
  },
  {
   "cell_type": "code",
   "execution_count": null,
   "metadata": {},
   "outputs": [],
   "source": [
    "# nltk.download()"
   ]
  },
  {
   "cell_type": "markdown",
   "metadata": {},
   "source": [
    " #### Hier ein Beispiel für geparste Sätze in der Penn Treebank:"
   ]
  },
  {
   "cell_type": "code",
   "execution_count": 5,
   "metadata": {},
   "outputs": [
    {
     "name": "stdout",
     "output_type": "stream",
     "text": [
      "(S\n",
      "  (NP-SBJ\n",
      "    (NP (NNP Pierre) (NNP Vinken))\n",
      "    (, ,)\n",
      "    (ADJP (NP (CD 61) (NNS years)) (JJ old))\n",
      "    (, ,))\n",
      "  (VP\n",
      "    (MD will)\n",
      "    (VP\n",
      "      (VB join)\n",
      "      (NP (DT the) (NN board))\n",
      "      (PP-CLR (IN as) (NP (DT a) (JJ nonexecutive) (NN director)))\n",
      "      (NP-TMP (NNP Nov.) (CD 29))))\n",
      "  (. .))\n",
      "(S\n",
      "  (NP-SBJ (NNP Mr.) (NNP Vinken))\n",
      "  (VP\n",
      "    (VBZ is)\n",
      "    (NP-PRD\n",
      "      (NP (NN chairman))\n",
      "      (PP\n",
      "        (IN of)\n",
      "        (NP\n",
      "          (NP (NNP Elsevier) (NNP N.V.))\n",
      "          (, ,)\n",
      "          (NP (DT the) (NNP Dutch) (VBG publishing) (NN group))))))\n",
      "  (. .))\n"
     ]
    }
   ],
   "source": [
    "from nltk.corpus import treebank\n",
    "\n",
    "for tree in treebank.parsed_sents('wsj_0001.mrg'):\n",
    "    print(tree)"
   ]
  },
  {
   "cell_type": "markdown",
   "metadata": {},
   "source": [
    "#### Hier ein Beispiel für die Verarbeitung solcher CFG-Regeln im NLTK:"
   ]
  },
  {
   "cell_type": "code",
   "execution_count": 6,
   "metadata": {},
   "outputs": [
    {
     "data": {
      "text/plain": [
       "[S -> NP-SBJ VP .,\n",
       " NP-SBJ -> NNP NNP,\n",
       " NNP -> 'Mr.',\n",
       " NNP -> 'Vinken',\n",
       " VP -> VBZ NP-PRD,\n",
       " VBZ -> 'is',\n",
       " NP-PRD -> NP PP,\n",
       " NP -> NN,\n",
       " NN -> 'chairman',\n",
       " PP -> IN NP,\n",
       " IN -> 'of',\n",
       " NP -> NP , NP,\n",
       " NP -> NNP NNP,\n",
       " NNP -> 'Elsevier',\n",
       " NNP -> 'N.V.',\n",
       " , -> ',',\n",
       " NP -> DT NNP VBG NN,\n",
       " DT -> 'the',\n",
       " NNP -> 'Dutch',\n",
       " VBG -> 'publishing',\n",
       " NN -> 'group',\n",
       " . -> '.']"
      ]
     },
     "execution_count": 6,
     "metadata": {},
     "output_type": "execute_result"
    }
   ],
   "source": [
    "productions = tree.productions()\n",
    "productions"
   ]
  },
  {
   "cell_type": "code",
   "execution_count": 7,
   "metadata": {},
   "outputs": [
    {
     "data": {
      "text/plain": [
       "S"
      ]
     },
     "execution_count": 7,
     "metadata": {},
     "output_type": "execute_result"
    }
   ],
   "source": [
    "productions[0].lhs()"
   ]
  },
  {
   "cell_type": "code",
   "execution_count": 8,
   "metadata": {},
   "outputs": [
    {
     "data": {
      "text/plain": [
       "(NP-SBJ, VP, .)"
      ]
     },
     "execution_count": 8,
     "metadata": {},
     "output_type": "execute_result"
    }
   ],
   "source": [
    "productions[0].rhs()"
   ]
  },
  {
   "cell_type": "code",
   "execution_count": 9,
   "metadata": {},
   "outputs": [
    {
     "data": {
      "text/plain": [
       "nltk.grammar.Nonterminal"
      ]
     },
     "execution_count": 9,
     "metadata": {},
     "output_type": "execute_result"
    }
   ],
   "source": [
    "type(productions[0].lhs())"
   ]
  },
  {
   "cell_type": "code",
   "execution_count": 10,
   "metadata": {},
   "outputs": [
    {
     "data": {
      "text/plain": [
       "True"
      ]
     },
     "execution_count": 10,
     "metadata": {},
     "output_type": "execute_result"
    }
   ],
   "source": [
    "productions[0].lhs() == nltk.grammar.Nonterminal('S')"
   ]
  },
  {
   "cell_type": "markdown",
   "metadata": {},
   "source": [
    "### b) von Daten zu Regelwahrscheinlichkeiten\n",
    "\n",
    "#### Gegeben sei folgende kontextfreie Grammatik:"
   ]
  },
  {
   "cell_type": "code",
   "execution_count": 11,
   "metadata": {},
   "outputs": [],
   "source": [
    "grammar = nltk.CFG.fromstring(\"\"\"\n",
    "S -> NP VP\n",
    "VP -> V NP PP\n",
    "VP -> V NP\n",
    "NP -> DET N\n",
    "NP -> NP PP\n",
    "PP -> P NP\n",
    "\n",
    "DET -> \"the\" | \"a\"\n",
    "N -> \"boy\" | \"woman\" | \"telescope\"\n",
    "V -> \"saw\"\n",
    "P -> \"with\"\n",
    "\"\"\")"
   ]
  },
  {
   "cell_type": "markdown",
   "metadata": {},
   "source": [
    "#### Sie modelliert sehr einfache Sätze der Form `SBJ` *saw* `OBJ` mit optionaler Präpositionalphrase am Ende. Diese Präpositionalphrase kann entweder der näheren Bestimmung des Objekts oder der näheren Bestimmung der in der Verbalphrase ausgedrückten Handlung dienen.\n"
   ]
  },
  {
   "cell_type": "code",
   "execution_count": 12,
   "metadata": {},
   "outputs": [
    {
     "name": "stdout",
     "output_type": "stream",
     "text": [
      "                 S                                  \n",
      "     ┌───────────┴────────┐                          \n",
      "     │                    VP                        \n",
      "     │       ┌───────┬────┴─────────┐                \n",
      "     │       │       │              PP              \n",
      "     │       │       │         ┌────┴───┐            \n",
      "     NP      │       NP        │        NP          \n",
      " ┌───┴───┐   │   ┌───┴────┐    │    ┌───┴──────┐     \n",
      "DET      N   V  DET       N    P   DET         N    \n",
      " │       │   │   │        │    │    │          │     \n",
      "the     boy saw  a      woman with  a      telescope\n",
      "\n",
      "                 S                                  \n",
      "     ┌───────────┴────────┐                          \n",
      "     │                    VP                        \n",
      "     │       ┌────────────┴────┐                     \n",
      "     │       │                 NP                   \n",
      "     │       │       ┌─────────┴────┐                \n",
      "     │       │       │              PP              \n",
      "     │       │       │         ┌────┴───┐            \n",
      "     NP      │       NP        │        NP          \n",
      " ┌───┴───┐   │   ┌───┴────┐    │    ┌───┴──────┐     \n",
      "DET      N   V  DET       N    P   DET         N    \n",
      " │       │   │   │        │    │    │          │     \n",
      "the     boy saw  a      woman with  a      telescope\n",
      "\n"
     ]
    }
   ],
   "source": [
    "sent = \"the boy saw a woman with a telescope\"\n",
    "\n",
    "parser = nltk.ChartParser(grammar,trace=0)\n",
    "for tree in parser.parse(sent.split()):\n",
    "    tree.pretty_print(unicodelines=True)"
   ]
  },
  {
   "cell_type": "markdown",
   "metadata": {},
   "source": [
    "#### Im folgenden sollen aus einer Treebank Wahrscheinlichkeiten für die einzelnen Regeln extrahiert werden, um diese Ambiguität aufzulösen.\n",
    "\n",
    "#### Nutzen Sie das im NLTK enthaltene Sample der Penn Treebank (nach Installation unter `nltk.corpus.treebank` zu finden) zunächst zur Identifikation der für eine Disambiguierung nützlichen (Teil-)bäume der Penn Treebank. Dazu zählen Sie zu einem gegebenen Nonterminal als LHS die Produktionen in der Treebank.\n",
    "\n",
    "#### *Hinweis:* Sie können sich bei der Analyse auf die 30 häufigsten Konstruktionen der Baumbank beschränken.\n"
   ]
  },
  {
   "cell_type": "code",
   "execution_count": 13,
   "metadata": {},
   "outputs": [
    {
     "data": {
      "text/plain": [
       "[]"
      ]
     },
     "execution_count": 13,
     "metadata": {},
     "output_type": "execute_result"
    }
   ],
   "source": [
    "from collections import defaultdict\n",
    "\n",
    "def find_relevant_constructions(lhs):\n",
    "    counter = defaultdict(int)\n",
    "    #TO_DO: zähle Produktionen in treebank mit lhs als linker Seite\n",
    "    \n",
    "    constructions = [ (k, counter[k]) for k in sorted(counter.keys(), key=counter.__getitem__, reverse=True) ]\n",
    "    return constructions[:30]\n",
    "\n",
    "find_relevant_constructions(\"S\") #example"
   ]
  },
  {
   "cell_type": "markdown",
   "metadata": {},
   "source": [
    " #### Für welche Regeln müssen wir die Wahrscheinlichkeiten berechnen, wenn wir mit statistischen Methoden untersuchen wollen, ob PPs häufiger Teil der VP oder Teil der NP sind?"
   ]
  },
  {
   "cell_type": "code",
   "execution_count": null,
   "metadata": {},
   "outputs": [],
   "source": [
    "# Antwort:\n"
   ]
  },
  {
   "cell_type": "markdown",
   "metadata": {},
   "source": [
    "### c) Abschätzung der Wahrscheinlichkeiten für relevante Regeln\n",
    "\n",
    "#### Approximieren Sie mittels vergleichbarer Konstruktionen in der Penn Treebank die Wahrscheinlichkeiten der für die Disambiguierung der PP-Ambiguität relevanten Regeln mit Maximum Likelihood Estimation (MLE)."
   ]
  },
  {
   "cell_type": "markdown",
   "metadata": {},
   "source": [
    "#### (i) Zählen Sie zunächst für die V+NP+PP-Konstruktion, wie oft sie in der Penn Treebank vorkommen und berechnen Sie die relativen Häufigkeiten als Approximation der Regelwahrscheinlichkeiten:\n",
    "\n",
    "$$P(V, N\\!P, P\\!P \\mid V\\!P) = \\dfrac{count(V\\!P \\rightarrow V\\:N\\!P\\:P\\!P)}{count(V\\!P \\rightarrow \\setminus*)}$$\n",
    "\n",
    "**hier (vgl. Grammatik):**\n",
    "\n",
    "$$= \\dfrac{count(V\\!P \\rightarrow V\\:N\\!P\\:P\\!P)}{count(V\\!P \\rightarrow V\\:N\\!P\\:P\\!P) + count(V\\!P \\rightarrow V\\:N\\!P)}$$"
   ]
  },
  {
   "cell_type": "code",
   "execution_count": 14,
   "metadata": {},
   "outputs": [
    {
     "data": {
      "text/plain": [
       "[]"
      ]
     },
     "execution_count": 14,
     "metadata": {},
     "output_type": "execute_result"
    }
   ],
   "source": [
    "find_relevant_constructions('VP')"
   ]
  },
  {
   "cell_type": "code",
   "execution_count": null,
   "metadata": {},
   "outputs": [],
   "source": [
    "vp_v_np_pp_frq = #TO_DO\n",
    "vp_v_np_without_frq = #TO_DO\n",
    "\n",
    "vp_with_pp = vp_v_np_pp_frq / (vp_v_np_pp_frq + vp_v_np_without_frq)\n",
    "vp_without = vp_v_np_without_frq / (vp_v_np_pp_frq + vp_v_np_without_frq)\n",
    "\n",
    "(vp_with_pp, vp_without)"
   ]
  },
  {
   "cell_type": "markdown",
   "metadata": {},
   "source": [
    "#### (ii) Zählen Sie anschließend, wie oft die NP+PP-Konstruktion in der Penn Treebank vorkommt und berechnen Sie die relativen Häufigkeiten als Approximation der Regelwahrscheinlichkeiten. Das Vorgehen wird in folgender Formel veranschaulicht:\n",
    "\n",
    "$$P(N\\!P, P\\!P \\mid N\\!P) = \\dfrac{count(N\\!P \\rightarrow \\:N\\!P\\:P\\!P)}{count(N\\!P \\rightarrow \\setminus*)}$$\n",
    "\n",
    "**hier:**\n",
    "\n",
    "$$= \\dfrac{count(N\\!P \\rightarrow \\:N\\!P\\:P\\!P)}{count(N\\!P \\rightarrow \\:N\\!P\\:P\\!P) + count(N\\!P \\rightarrow DET\\:N)}$$\n",
    "\n"
   ]
  },
  {
   "cell_type": "code",
   "execution_count": 15,
   "metadata": {},
   "outputs": [
    {
     "data": {
      "text/plain": [
       "[]"
      ]
     },
     "execution_count": 15,
     "metadata": {},
     "output_type": "execute_result"
    }
   ],
   "source": [
    "find_relevant_constructions('NP')"
   ]
  },
  {
   "cell_type": "code",
   "execution_count": null,
   "metadata": {},
   "outputs": [],
   "source": [
    "np_np_pp_frq = #TO_DO\n",
    "np_n_without_frq = #TO_DO\n",
    "\n",
    "np_with_pp = np_np_pp_frq / (np_np_pp_frq + np_n_without_frq)\n",
    "np_without = np_n_without_frq / (np_np_pp_frq + np_n_without_frq)\n",
    "\n",
    "(np_with_pp, np_without)"
   ]
  },
  {
   "cell_type": "markdown",
   "metadata": {},
   "source": [
    "### d) Erstellen einer PCFG\n",
    "\n",
    "#### Die aus den Daten extrahierten relativen Häufigkeiten sollen nun zur Erstellung einer probabilistischen kontextfreien Grammatik (PCFG)  genutzt werden."
   ]
  },
  {
   "cell_type": "code",
   "execution_count": null,
   "metadata": {},
   "outputs": [],
   "source": [
    "(vp_with_pp, vp_without, np_with_pp, np_without)"
   ]
  },
  {
   "cell_type": "code",
   "execution_count": null,
   "metadata": {},
   "outputs": [],
   "source": [
    "pcfg = f\"\"\"\n",
    "S -> NP VP     [1.0]\n",
    "VP -> V NP PP  [{vp_with_pp}]\n",
    "VP -> V NP     [{vp_without}]\n",
    "NP -> DET N    [{np_without}]\n",
    "NP -> NP PP    [{np_with_pp}]\n",
    "PP -> P NP     [1.0]\n",
    "\n",
    "DET -> \"the\"     [0.7]\n",
    "DET -> \"a\"       [0.3]\n",
    "N -> \"boy\"       [0.4]\n",
    "N -> \"woman\"     [0.4]\n",
    "N -> \"telescope\" [0.2]\n",
    "V -> \"saw\"       [1.0]\n",
    "P -> \"with\"      [1.0]\n",
    "\"\"\"\n",
    "\n",
    "grammar = nltk.PCFG.fromstring(pcfg)\n",
    "print(grammar)"
   ]
  },
  {
   "cell_type": "markdown",
   "metadata": {},
   "source": [
    "#### Testen Sie Ihre so erstellte Grammatik nun, indem Sie folgenden Satz parsen:\n",
    "\n",
    "- *the boy saw a woman with a telescope*"
   ]
  },
  {
   "cell_type": "code",
   "execution_count": null,
   "metadata": {},
   "outputs": [],
   "source": [
    "sent = \"the boy saw a woman with a telescope\"\n",
    "\n",
    "viterbi_parser = nltk.ViterbiParser(grammar)\n",
    "for tree in viterbi_parser.parse(sent.split()):\n",
    "    print(tree)\n",
    "    tree.pretty_print(unicodelines=True)"
   ]
  },
  {
   "cell_type": "markdown",
   "metadata": {},
   "source": [
    "#### Wenn Sie sich die extrahierten Wahrscheinlichkeiten und das disambiguierte Ergebnis ansehen, überrascht Sie dann das Ergebnis der Syntaxanalyse?"
   ]
  },
  {
   "cell_type": "code",
   "execution_count": null,
   "metadata": {},
   "outputs": [],
   "source": [
    "# relevante Teilwahrscheinlichkeit VP-Attachment:\n",
    "vp_with_pp\n",
    "#P(VP->VP+NP+PP)"
   ]
  },
  {
   "cell_type": "code",
   "execution_count": null,
   "metadata": {},
   "outputs": [],
   "source": [
    "# relevante Teilwahrscheinlichkeit NP-Attachment:\n",
    "vp_without * np_with_pp\n",
    "#P(VP->VP+NP) * P(NP->NP+PP)"
   ]
  },
  {
   "cell_type": "code",
   "execution_count": null,
   "metadata": {},
   "outputs": [],
   "source": [
    "# Antwort:\n"
   ]
  },
  {
   "cell_type": "markdown",
   "metadata": {},
   "source": [
    "### e) Vergleichen Sie dieses Ergebnis mit der PCFG-Analyse mit folgenden abweichenden Regelwahrscheinlichkeiten. \n",
    "\n",
    "#### Warum wird hier, obwohl weiter `vp_with_pp < np_with_pp` gilt, der VP-Attachment-Baum als der wahrscheinlichere ausgewählt? "
   ]
  },
  {
   "cell_type": "code",
   "execution_count": 17,
   "metadata": {},
   "outputs": [],
   "source": [
    "vp_with_pp = 0.2\n",
    "vp_without = 0.8\n",
    "np_with_pp = 0.22\n",
    "np_without = 0.78"
   ]
  },
  {
   "cell_type": "code",
   "execution_count": 18,
   "metadata": {},
   "outputs": [
    {
     "name": "stdout",
     "output_type": "stream",
     "text": [
      "Grammar with 13 productions (start state = S)\n",
      "    S -> NP VP [1.0]\n",
      "    VP -> V NP PP [0.2]\n",
      "    VP -> V NP [0.8]\n",
      "    NP -> DET N [0.78]\n",
      "    NP -> NP PP [0.22]\n",
      "    PP -> P NP [1.0]\n",
      "    DET -> 'the' [0.7]\n",
      "    DET -> 'a' [0.3]\n",
      "    N -> 'boy' [0.4]\n",
      "    N -> 'woman' [0.4]\n",
      "    N -> 'telescope' [0.2]\n",
      "    V -> 'saw' [1.0]\n",
      "    P -> 'with' [1.0]\n"
     ]
    }
   ],
   "source": [
    "pcfg = f\"\"\"\n",
    "S -> NP VP     [1.0]\n",
    "VP -> V NP PP  [{vp_with_pp}]\n",
    "VP -> V NP     [{vp_without}]\n",
    "NP -> DET N    [{np_without}]\n",
    "NP -> NP PP    [{np_with_pp}]\n",
    "PP -> P NP     [1.0]\n",
    "\n",
    "DET -> \"the\"     [0.7]\n",
    "DET -> \"a\"       [0.3]\n",
    "N -> \"boy\"       [0.4]\n",
    "N -> \"woman\"     [0.4]\n",
    "N -> \"telescope\" [0.2]\n",
    "V -> \"saw\"       [1.0]\n",
    "P -> \"with\"      [1.0]\n",
    "\"\"\"\n",
    "\n",
    "grammar = nltk.PCFG.fromstring(pcfg)\n",
    "print(grammar)"
   ]
  },
  {
   "cell_type": "code",
   "execution_count": 19,
   "metadata": {},
   "outputs": [
    {
     "name": "stdout",
     "output_type": "stream",
     "text": [
      "(S\n",
      "  (NP (DET the) (N boy))\n",
      "  (VP\n",
      "    (V saw)\n",
      "    (NP (DET a) (N woman))\n",
      "    (PP (P with) (NP (DET a) (N telescope))))) (p=0.000191339)\n",
      "                 S                                  \n",
      "     ┌───────────┴────────┐                          \n",
      "     │                    VP                        \n",
      "     │       ┌───────┬────┴─────────┐                \n",
      "     │       │       │              PP              \n",
      "     │       │       │         ┌────┴───┐            \n",
      "     NP      │       NP        │        NP          \n",
      " ┌───┴───┐   │   ┌───┴────┐    │    ┌───┴──────┐     \n",
      "DET      N   V  DET       N    P   DET         N    \n",
      " │       │   │   │        │    │    │          │     \n",
      "the     boy saw  a      woman with  a      telescope\n",
      "\n"
     ]
    }
   ],
   "source": [
    "sent = \"the boy saw a woman with a telescope\"\n",
    "\n",
    "viterbi_parser = nltk.ViterbiParser(grammar)\n",
    "for tree in viterbi_parser.parse(sent.split()):\n",
    "    print(tree)\n",
    "    tree.pretty_print(unicodelines=True)"
   ]
  },
  {
   "cell_type": "code",
   "execution_count": 20,
   "metadata": {},
   "outputs": [
    {
     "data": {
      "text/plain": [
       "0.2"
      ]
     },
     "execution_count": 20,
     "metadata": {},
     "output_type": "execute_result"
    }
   ],
   "source": [
    "# relevante Teilwahrscheinlichkeit VP-Attachment:\n",
    "vp_with_pp\n",
    "#P(VP->VP+NP+PP)"
   ]
  },
  {
   "cell_type": "code",
   "execution_count": 21,
   "metadata": {},
   "outputs": [
    {
     "data": {
      "text/plain": [
       "0.17600000000000002"
      ]
     },
     "execution_count": 21,
     "metadata": {},
     "output_type": "execute_result"
    }
   ],
   "source": [
    "# relevante Teilwahrscheinlichkeit NP-Attachment:\n",
    "vp_without * np_with_pp\n",
    "#P(VP->VP+NP) * P(NP->NP+PP)"
   ]
  },
  {
   "cell_type": "code",
   "execution_count": null,
   "metadata": {},
   "outputs": [],
   "source": [
    "# Antwort:\n"
   ]
  }
 ],
 "metadata": {
  "kernelspec": {
   "display_name": "Python 3 (ipykernel)",
   "language": "python",
   "name": "python3"
  },
  "language_info": {
   "codemirror_mode": {
    "name": "ipython",
    "version": 3
   },
   "file_extension": ".py",
   "mimetype": "text/x-python",
   "name": "python",
   "nbconvert_exporter": "python",
   "pygments_lexer": "ipython3",
   "version": "3.9.12"
  }
 },
 "nbformat": 4,
 "nbformat_minor": 2
}
