{
 "cells": [
  {
   "cell_type": "markdown",
   "metadata": {},
   "source": [
    "Syntax natürlicher Sprachen, WS 2023/24\n",
    "\n",
    "# 01 - Übung"
   ]
  },
  {
   "cell_type": "code",
   "execution_count": 1,
   "metadata": {},
   "outputs": [],
   "source": [
    "from nltk import Tree"
   ]
  },
  {
   "cell_type": "markdown",
   "metadata": {},
   "source": [
    "## Aufgabe 1: Substitution mit Kastendiagramm\n",
    "\n",
    "#### Führen Sie eine Ersetzung (oder Pronominalisierung oder Eliminierung) in folgendem Satz durch, bis Sie bei einem 2-Wort-Satz ankommen:\n",
    "\n",
    "*Fischers Fritz fischt die frischen Fische aus dem Fluss.*\n",
    "\n",
    "##### Vergleichen Sie das Vorgehen in https://www.nltk.org/book/ch08.html#fig-ic-diagram"
   ]
  },
  {
   "cell_type": "markdown",
   "metadata": {},
   "source": [
    "\n",
    "| Fischers | Fritz | fischt | die | frischen | Fische | aus | dem | Fluss |\n",
    "| ------ |  ------ |  ------ |  ------ |  ------ |  ------ |  ------ |  ------ |  ------ |\n",
    "| TO DO  |  |  |  |  |  |  |  |  |"
   ]
  },
  {
   "cell_type": "markdown",
   "metadata": {},
   "source": [
    "\n",
    "## Aufgabe 2: Darstellung syntaktischer Strukturen"
   ]
  },
  {
   "cell_type": "markdown",
   "metadata": {},
   "source": [
    "\n",
    "#### Geben Sie in folgender Codezelle zu Ihrer Analyse des Satzes aus der vorherigen Aufgabe den entsprechenden Klammerausdruck an und generieren Sie anschließend den entsprechenden Syntaxbaum, indem Sie die Codezelle ausführen."
   ]
  },
  {
   "cell_type": "code",
   "execution_count": null,
   "metadata": {},
   "outputs": [],
   "source": [
    "tree = Tree.fromstring(\"\"\"\n",
    "(Fischers_Fritz fischt die_frischen_Fische aus dem_Fluss)\n",
    "\"\"\")\n",
    "\n",
    "tree.pretty_print(unicodelines=True)"
   ]
  },
  {
   "cell_type": "markdown",
   "metadata": {},
   "source": [
    "## Aufgabe 3: Konstituententests\n",
    "\n",
    "#### Zeigen Sie mit den unten genannten Tests, dass es sich in folgendem Satz bei der Wortverbindung *nur mit einem Schritt* um eine Konstituente handelt.\n",
    "\n",
    "*Eine Reise von tausend Meilen beginnt auch nur mit einem Schritt.*\n",
    "\n",
    "\n",
    "### (a) Substitutionstest"
   ]
  },
  {
   "cell_type": "code",
   "execution_count": null,
   "metadata": {},
   "outputs": [],
   "source": [
    "# "
   ]
  },
  {
   "cell_type": "markdown",
   "metadata": {},
   "source": [
    "### (b) Permutationstest"
   ]
  },
  {
   "cell_type": "code",
   "execution_count": null,
   "metadata": {},
   "outputs": [],
   "source": [
    "# "
   ]
  },
  {
   "cell_type": "markdown",
   "metadata": {},
   "source": [
    "## Aufgabe 4: Feststellung von Konstituenten"
   ]
  },
  {
   "cell_type": "markdown",
   "metadata": {},
   "source": [
    "#### Füllen Sie folgende Tabelle aus, indem Sie den jeweils angegebenen Konstituententest am folgenden Satz ausführen.\n",
    "\n",
    "#### Ungrammatische Sätze können Sie mit \\* markieren. \n",
    "\n",
    "#### Orientieren Sie sich bei der Entscheidung, ob eine Konstituente vorliegt, an folgenden Hinweisen:\n",
    "\n",
    "1. Wichtigstes Kriterium für die Feststellung von *__Konstituenten__* ist die *Ersetzbarkeit* unter Erhalt der Wohlgeformtheit (__Substitutionstest__). \n",
    "2. Der __Permutationstest__ funktioniert nur bei den zentralen Konstituenten eines Satzes (den sog. *__Satzgliedern__* wie Subjekt, Objekt oder Adverbial). Im Deutsche besteht dieser Test primär im Verschieben der fraglichen Wortfolge ins Vorfeld (vor das finite Verb).\n",
    "3. Der __Eliminierungstest__ funktioniert nur bei syntaktisch nicht-notwendigen (= weglassbaren) Konstituenten (den sog. *__Adjunkten__*).\n",
    "\n",
    "---\n",
    "\n",
    "*Am Ende des Semesters schenkten die Studierenden ihnen ein Buch über Fußball.*"
   ]
  },
  {
   "cell_type": "markdown",
   "metadata": {},
   "source": [
    "\n",
    "| Wortgruppe | 1_Substitution |  2_Permutation | 3_Eliminierung  | 1_Konstituente?  | 2_Satzglied? |  3_Adjunkt? | \n",
    "| ---------- | ----------------- | ----------------- | ----------------- | ----------------- | ---------------- | ------------- | \n",
    "| die Studierenden | ... | ... | ... | ... | ... | ... |\n",
    "| ihnen ein | ... | ... | ... | ... | ... | ... |\n",
    "| Buch über Fußball | ... | ... | ... | ... | ... | ... |\n",
    "| über Fußball | ... | ... | ... | ... | ... | ... |\n",
    "| am Ende des Semesters | ... | ... | ... | ... | ... | ... |\n",
    "| ein Buch über Fußball | ... | ... | ... | ... | ... | ... |\n"
   ]
  },
  {
   "cell_type": "markdown",
   "metadata": {},
   "source": [
    "\n",
    "## Aufgabe 5:  Adjunkt-Tests\n",
    "\n",
    "#### Mit Adjunkt-Tests wie dem *geschehens*-Test, dem Adverbialsatz-Test oder dem Elimierungstest können notwendige Satzglieder (*Komplemente*) von nicht-notwendigen Satzgliedern (*Adjunkte*) unterschieden werden.\n",
    "\n",
    "##### HINWEIS: Als __Satzglieder__ werden in der Germanistik die im Satz verschiebbaren (permutierbaren) Konstituenten mit zentraler syntaktischer Funktion (Subjekt, Objekt, Prädikat, Adverbial) bezeichnet, in die ein Satz unmittelbar zerlegt werden kann."
   ]
  },
  {
   "cell_type": "markdown",
   "metadata": {},
   "source": [
    "### (a) *geschehens*-Test\n",
    "\n",
    "#### Gegeben sei folgender Satz, dessen drittes Satzglied den *geschehens*-Test besteht (der Satz bleibt wohlgeformt, das Satzglied ist als Adjunkt bestätigt).  Es handelt sich hier bei *den ganzen Tag* um ein sog. Kasusadverbial (der Akkusativ dient im Deutschen neben der Kodierung von Objekt-Komplementen auch als obliquer Kasus zur Kodierung von Adverbialen).\n"
   ]
  },
  {
   "cell_type": "code",
   "execution_count": 5,
   "metadata": {},
   "outputs": [
    {
     "data": {
      "text/plain": [
       "'er isst, und das geschieht den ganzen Tag'"
      ]
     },
     "execution_count": 5,
     "metadata": {},
     "output_type": "execute_result"
    }
   ],
   "source": [
    "sentence = [\"er\", \"isst\", \"den ganzen Tag\"]\n",
    "\n",
    "sentence[0] + \" \" + sentence[1] + \", und das geschieht \" + sentence[2]"
   ]
  },
  {
   "cell_type": "markdown",
   "metadata": {},
   "source": [
    "\n",
    "#### Geben Sie (unter Erhalt der Wohlgeformtheit des Ausgangssatzes) ein alternatives drittes Satzglied an, so dass der *geschehens*-Test fehlschlägt. \n"
   ]
  },
  {
   "cell_type": "code",
   "execution_count": 6,
   "metadata": {},
   "outputs": [
    {
     "data": {
      "text/plain": [
       "'er isst, und das geschieht TODO'"
      ]
     },
     "execution_count": 6,
     "metadata": {},
     "output_type": "execute_result"
    }
   ],
   "source": [
    "sentence = [\"er\", \"isst\", \"TODO\"]\n",
    "\n",
    "sentence[0] + \" \" + sentence[1] + \", und das geschieht \" + sentence[2]"
   ]
  },
  {
   "cell_type": "markdown",
   "metadata": {},
   "source": [
    "### (b) Adverbialsatz-Test\n",
    "\n",
    "#### Funktioniert die Feststellung von *den ganzen Tag*  als Adjunkt auch mit dem Adverbialsatz-Test?\n"
   ]
  },
  {
   "cell_type": "code",
   "execution_count": 7,
   "metadata": {},
   "outputs": [
    {
     "data": {
      "text/plain": [
       "'er isst, als er den ganzen Tag war'"
      ]
     },
     "execution_count": 7,
     "metadata": {},
     "output_type": "execute_result"
    }
   ],
   "source": [
    "sentence = [\"er\", \"isst\", \"den ganzen Tag\"]\n",
    "\n",
    "sentence[0] + \" \" + sentence[1] + \", als er \" + sentence[2] + \" war\""
   ]
  },
  {
   "cell_type": "code",
   "execution_count": null,
   "metadata": {},
   "outputs": [],
   "source": [
    "# "
   ]
  },
  {
   "cell_type": "markdown",
   "metadata": {},
   "source": [
    "\n",
    "#### Geben Sie ein drittes Satzglied an, das den Adverbialsatz-Test besteht (Satz bleibt wohlgeformt).\n",
    "\n",
    "#### Was ist das Ergebnis des Tests?"
   ]
  },
  {
   "cell_type": "code",
   "execution_count": 8,
   "metadata": {},
   "outputs": [
    {
     "data": {
      "text/plain": [
       "'er isst, als er TODO war'"
      ]
     },
     "execution_count": 8,
     "metadata": {},
     "output_type": "execute_result"
    }
   ],
   "source": [
    "sentence = [\"er\", \"isst\", \"TODO\"]\n",
    "\n",
    "sentence[0] + \" \" + sentence[1] + \", als er \" + sentence[2] + \" war\""
   ]
  },
  {
   "cell_type": "code",
   "execution_count": null,
   "metadata": {},
   "outputs": [],
   "source": [
    "# "
   ]
  },
  {
   "cell_type": "markdown",
   "metadata": {},
   "source": [
    "### (c) Eliminierungstest\n",
    "\n",
    "#### Funktioniert die Feststellung von *den ganzen Tag* als Adjunkt auch mit dem Eliminierungstest?\n"
   ]
  },
  {
   "cell_type": "code",
   "execution_count": 9,
   "metadata": {},
   "outputs": [
    {
     "data": {
      "text/plain": [
       "'er isst'"
      ]
     },
     "execution_count": 9,
     "metadata": {},
     "output_type": "execute_result"
    }
   ],
   "source": [
    "sentence = [\"er\", \"isst\", \"den ganzen Tag\"]\n",
    "\n",
    "sentence[0] + \" \" + sentence[1] "
   ]
  },
  {
   "cell_type": "code",
   "execution_count": null,
   "metadata": {},
   "outputs": [],
   "source": [
    "# "
   ]
  },
  {
   "cell_type": "markdown",
   "metadata": {},
   "source": [
    "\n",
    "#### Geben Sie in folgendem Beispiel ein Verb an, so dass das dritte Satzglied den Eliminierungstest NICHT besteht.\n",
    "\n",
    "#### Was ist das Ergebnis des Tests?"
   ]
  },
  {
   "cell_type": "code",
   "execution_count": 10,
   "metadata": {},
   "outputs": [
    {
     "data": {
      "text/plain": [
       "'er TODO'"
      ]
     },
     "execution_count": 10,
     "metadata": {},
     "output_type": "execute_result"
    }
   ],
   "source": [
    "sentence = [\"er\", \"TODO\", \"eine Nachricht\"]\n",
    "\n",
    "sentence[0] + \" \" + sentence[1]"
   ]
  },
  {
   "cell_type": "code",
   "execution_count": null,
   "metadata": {},
   "outputs": [],
   "source": [
    "# "
   ]
  }
 ],
 "metadata": {
  "kernelspec": {
   "display_name": "Python 3 (ipykernel)",
   "language": "python",
   "name": "python3"
  },
  "language_info": {
   "codemirror_mode": {
    "name": "ipython",
    "version": 3
   },
   "file_extension": ".py",
   "mimetype": "text/x-python",
   "name": "python",
   "nbconvert_exporter": "python",
   "pygments_lexer": "ipython3",
   "version": "3.9.12"
  }
 },
 "nbformat": 4,
 "nbformat_minor": 2
}
