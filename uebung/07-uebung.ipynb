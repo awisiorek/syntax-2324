{
 "cells": [
  {
   "cell_type": "markdown",
   "metadata": {},
   "source": [
    "Syntax natürlicher Sprachen, WS 2023/24\n",
    "\n",
    "# 07 - Übung"
   ]
  },
  {
   "cell_type": "code",
   "execution_count": 1,
   "metadata": {},
   "outputs": [],
   "source": [
    "import nltk\n",
    "from nltk import Tree\n",
    "from nltk import DependencyGraph\n",
    "from spacy import displacy\n",
    "from itertools import chain"
   ]
  },
  {
   "cell_type": "code",
   "execution_count": 2,
   "metadata": {},
   "outputs": [],
   "source": [
    "def _tree_labeled(self, i):\n",
    "    node = self.get_by_address(i)\n",
    "    word, rel = node[\"word\"], node[\"rel\"]\n",
    "    deps = sorted(chain.from_iterable(node[\"deps\"].values()))\n",
    "    return Tree(word + '(' + rel + ')', [self._tree_labeled(dep) for dep in deps]) if deps else word + '(' + rel + ')'\n",
    "\n",
    "def tree_labeled(self):\n",
    "    node = self.root\n",
    "    word, rel = node[\"word\"], node[\"rel\"]\n",
    "    deps = sorted(chain.from_iterable(node[\"deps\"].values()))\n",
    "    return Tree(word+'('+rel+')', [self._tree_labeled(dep) for dep in deps])\n",
    "\n",
    "DependencyGraph._tree_labeled = _tree_labeled\n",
    "DependencyGraph.tree_labeled = tree_labeled\n",
    "\n",
    "def transform_nr_conll(sent_nr):\n",
    "    sent_list = []\n",
    "    for line in list(filter(None, sent_nr.split(\"\\n\"))):\n",
    "        line_list = line.split(); line_list.pop(0); line_list.insert(1,\"_\")\n",
    "        sent_list.append(\" \".join([i for i in line_list[0:]]))\n",
    "    return \"\\n\".join([i for i in sent_list[0:]])\n",
    "\n",
    "def displacy_dep_input(sent):\n",
    "    deps = []\n",
    "    for dep in sent.split('\\n'):\n",
    "        deps.append(dep.split())\n",
    "    deps = [x for x in deps if x]\n",
    "    ex, word_list, arc_list = [], [], []\n",
    "    for index, dep in enumerate(deps):\n",
    "        word_list.append({\"text\": dep[0], \"tag\": \"\"})\n",
    "        line = index+1; head = int(dep[2]); label = dep[3]\n",
    "        if head>line:\n",
    "            start = index; end = head-1; direction = \"left\"\n",
    "        else:\n",
    "            start = head-1; end = index; direction = \"right\"\n",
    "        if(label.lower() != \"root\"):\n",
    "            arc_list.append({\"start\": start, \"end\": end, \"label\": label, \"dir\": direction})\n",
    "    ex.append({\"words\": word_list,\"arcs\": arc_list})\n",
    "    return ex\n",
    "\n",
    "def show_dep_trees(sent_nr,style=1):\n",
    "    sent = transform_nr_conll(sent_nr)\n",
    "    dg = DependencyGraph(sent)\n",
    "    if style == 0 or style == 2:\n",
    "        tree_labeled = dg.tree_labeled()\n",
    "        tree_labeled.pretty_print(unicodelines=True)   \n",
    "    if style == 1 or style == 2:\n",
    "        ex = displacy_dep_input(sent)\n",
    "        html = displacy.render(ex, style=\"dep\", manual=True, options={'distance':100})"
   ]
  },
  {
   "cell_type": "markdown",
   "metadata": {},
   "source": [
    "## Aufgabe 1 - Analyse komplexer Satzkonstruktionen"
   ]
  },
  {
   "cell_type": "markdown",
   "metadata": {},
   "source": [
    "### a) Schreiben Sie eine CFG, so dass für den folgende ambigen Satz zwei linguistisch korrekte Syntaxanalysen ausgegeben werden. Geben Sie auch die entsprechenden Dependenzanalysen für die beiden Strukturanalysen an.\n",
    "\n",
    "- *Haustiere denken aber wilde Tiere jagen*\n",
    "\n"
   ]
  },
  {
   "cell_type": "code",
   "execution_count": 3,
   "metadata": {},
   "outputs": [],
   "source": [
    "sent = 'Haustiere denken aber wilde Tiere jagen'"
   ]
  },
  {
   "cell_type": "markdown",
   "metadata": {},
   "source": [
    "#### Konstituentenanalyse:"
   ]
  },
  {
   "cell_type": "code",
   "execution_count": null,
   "metadata": {},
   "outputs": [],
   "source": [
    "grammar = nltk.CFG.fromstring(\"\"\"\n",
    "    \n",
    "    N -> 'Haustiere' | 'Tiere'\n",
    "    ADJ -> 'wilde'\n",
    "    V -> 'denken' | 'jagen'\n",
    "    CC -> 'aber'\n",
    "    COMP -> \n",
    "\"\"\")\n",
    "\n",
    "parser = nltk.ChartParser(grammar)\n",
    "trees = list(parser.parse(sent.split()))\n",
    "if trees: [tree.pretty_print(unicodelines=True) for tree in trees]\n",
    "else: print(f\"no parse found for: {sent}\")"
   ]
  },
  {
   "cell_type": "markdown",
   "metadata": {},
   "source": [
    "#### Dependenzanalyse:"
   ]
  },
  {
   "cell_type": "code",
   "execution_count": null,
   "metadata": {},
   "outputs": [],
   "source": [
    "# Analyse 1\n",
    "sent_nr = \"\"\"\n",
    "1 Haustiere \n",
    "2 denken \n",
    "3 aber \n",
    "4 wilde \n",
    "5 Tiere \n",
    "6 jagen \n",
    "\"\"\"\n",
    "show_dep_trees(sent_nr)"
   ]
  },
  {
   "cell_type": "code",
   "execution_count": null,
   "metadata": {},
   "outputs": [],
   "source": [
    "# Analyse 2\n",
    "sent_nr = \"\"\"\n",
    "1 Haustiere \n",
    "2 denken \n",
    "3 aber \n",
    "4 wilde \n",
    "5 Tiere \n",
    "6 jagen \n",
    "\"\"\"\n",
    "show_dep_trees(sent_nr)"
   ]
  },
  {
   "cell_type": "markdown",
   "metadata": {},
   "source": [
    "### b) Schreiben Sie eine CFG, so dass für den folgende Satz eine korrekte Syntaxanalyse ausgegeben wird. Geben Sie auch eine entsprechende Dependenzanalyse an.\n",
    "\n",
    "- *Haustiere hoffen wilde Tiere zu jagen*\n"
   ]
  },
  {
   "cell_type": "code",
   "execution_count": 4,
   "metadata": {},
   "outputs": [],
   "source": [
    "sent = 'Haustiere hoffen wilde Tiere zu jagen'"
   ]
  },
  {
   "cell_type": "markdown",
   "metadata": {},
   "source": [
    "#### Konstituentenanalyse:"
   ]
  },
  {
   "cell_type": "code",
   "execution_count": null,
   "metadata": {},
   "outputs": [],
   "source": [
    "grammar = nltk.CFG.fromstring(\"\"\"\n",
    "    \n",
    "    N -> 'Haustiere' | 'Tiere'\n",
    "    ADJ -> 'wilde'\n",
    "    V -> 'hoffen' | 'jagen'\n",
    "    COMP -> 'zu'\n",
    "\"\"\")\n",
    "\n",
    "parser = nltk.ChartParser(grammar)\n",
    "trees = list(parser.parse(sent.split()))\n",
    "if trees: [tree.pretty_print(unicodelines=True) for tree in trees]\n",
    "else: print(f\"no parse found for: {sent}\")"
   ]
  },
  {
   "cell_type": "markdown",
   "metadata": {},
   "source": [
    "#### Dependenzanalyse:"
   ]
  },
  {
   "cell_type": "code",
   "execution_count": null,
   "metadata": {},
   "outputs": [],
   "source": [
    "sent_nr = \"\"\"\n",
    "1 Haustiere \n",
    "2 hoffen \n",
    "3 wilde \n",
    "4 Tiere \n",
    "5 zu \n",
    "6 jagen \n",
    "\"\"\"\n",
    "show_dep_trees(sent_nr)"
   ]
  },
  {
   "cell_type": "markdown",
   "metadata": {},
   "source": [
    "### c) Schreiben Sie eine CFG, so dass für den folgende Satz eine korrekte Syntaxanalyse ausgegeben wird. Geben Sie auch eine entsprechende Dependenzanalyse an.\n",
    "\n",
    "- *Haustiere denken wilde Tiere zu jagen ist falsch*\n"
   ]
  },
  {
   "cell_type": "code",
   "execution_count": 5,
   "metadata": {},
   "outputs": [],
   "source": [
    "sent = 'Haustiere denken wilde Tiere zu jagen ist falsch'"
   ]
  },
  {
   "cell_type": "markdown",
   "metadata": {},
   "source": [
    "#### Konstituentenanalyse:"
   ]
  },
  {
   "cell_type": "code",
   "execution_count": null,
   "metadata": {},
   "outputs": [],
   "source": [
    "grammar = nltk.CFG.fromstring(\"\"\"\n",
    "    \n",
    "    N -> 'Haustiere' | 'Tiere'\n",
    "    ADJ -> 'wilde'\n",
    "    V -> 'denken' | 'jagen'\n",
    "    COMP -> 'zu' \n",
    "    COP -> 'ist'\n",
    "    ADJ -> 'falsch'\n",
    "\"\"\")\n",
    "\n",
    "parser = nltk.ChartParser(grammar)\n",
    "trees = list(parser.parse(sent.split()))\n",
    "if trees: [tree.pretty_print(unicodelines=True) for tree in trees]\n",
    "else: print(f\"no parse found for: {sent}\")"
   ]
  },
  {
   "cell_type": "markdown",
   "metadata": {},
   "source": [
    "#### Dependenzanalyse:"
   ]
  },
  {
   "cell_type": "code",
   "execution_count": null,
   "metadata": {},
   "outputs": [],
   "source": [
    "sent_nr = \"\"\"\n",
    "1 Haustiere \n",
    "2 denken \n",
    "3 wilde \n",
    "4 Tiere \n",
    "5 zu \n",
    "6 jagen \n",
    "7 ist \n",
    "8 falsch \n",
    "\"\"\"\n",
    "show_dep_trees(sent_nr)"
   ]
  },
  {
   "cell_type": "markdown",
   "metadata": {},
   "source": [
    "## Aufgabe 2: Satzklassifikation und Syntaxregeln komplexer Sätze\n",
    "\n",
    "#### Geben Sie (1.) zu der jeweils auftretenden komplexen Satzkonstruktion den Satz- bzw. Konstruktionstyp an. \n",
    "\n",
    "#### Geben Sie (2.) zu den CFG-Outputs des Stanford-Parsers (trainiert auf Penn-Treebank) anhand der Ableitungsbäume die Regeln der komplexen Satzkonstruktionen an.\n",
    "\n",
    "#### Analysieren Sie (3.) anschließend die Dependenzstruktur der Sätze im UD-Schema.\n",
    "\n",
    "\n",
    "- Penn-Treebank Tagset: http://surdeanu.cs.arizona.edu//mihai/teaching/ista555-fall13/readings/PennTreebankConstituents.html#Clause\n",
    "- UD Dependency Tagset: https://universaldependencies.org/u/dep/all.html"
   ]
  },
  {
   "cell_type": "markdown",
   "metadata": {},
   "source": [
    "---\n",
    "### a)  *I believe that you win.*"
   ]
  },
  {
   "cell_type": "code",
   "execution_count": 6,
   "metadata": {},
   "outputs": [],
   "source": [
    "sentence = \"I believe that you win.\""
   ]
  },
  {
   "cell_type": "markdown",
   "metadata": {},
   "source": [
    "### 1. Fragen:\n",
    "\n",
    "#### Was für eine Satzkonstruktion liegt hier vor? (koordiniert?, subordiniert?, keines von beiden?)\n"
   ]
  },
  {
   "cell_type": "code",
   "execution_count": null,
   "metadata": {},
   "outputs": [],
   "source": [
    "#"
   ]
  },
  {
   "cell_type": "markdown",
   "metadata": {},
   "source": [
    "#### Welcher eingebettete Satztyp liegt vor? (Subjekt-, Objekt-, Kausal-, Lokal-, Modal-, Temporal-, Relativsatz?)\n"
   ]
  },
  {
   "cell_type": "code",
   "execution_count": null,
   "metadata": {},
   "outputs": [],
   "source": [
    "#"
   ]
  },
  {
   "cell_type": "markdown",
   "metadata": {},
   "source": [
    "#### Wie läßt sich dieser Satztyp klassifizieren? (Komplement-, Adverbial-, Attributsatz?)\n"
   ]
  },
  {
   "cell_type": "code",
   "execution_count": null,
   "metadata": {},
   "outputs": [],
   "source": [
    "#"
   ]
  },
  {
   "cell_type": "markdown",
   "metadata": {},
   "source": [
    "### 2. Konstituentenanalyse:"
   ]
  },
  {
   "cell_type": "code",
   "execution_count": 7,
   "metadata": {},
   "outputs": [
    {
     "name": "stdout",
     "output_type": "stream",
     "text": [
      "            ROOT                     \n",
      "             │                        \n",
      "             S                       \n",
      " ┌───────────┴────┬────────────────┐  \n",
      " │                VP               │ \n",
      " │     ┌──────────┴───┐            │  \n",
      " │     │             SBAR          │ \n",
      " │     │     ┌────────┴────┐       │  \n",
      " │     │     │             S       │ \n",
      " │     │     │        ┌────┴───┐   │  \n",
      " NP    │     │        NP       VP  │ \n",
      " │     │     │        │        │   │  \n",
      "PRP   VBP    IN      PRP      VBP  . \n",
      " │     │     │        │        │   │  \n",
      " I  believe that     you      win  . \n",
      "\n"
     ]
    }
   ],
   "source": [
    "tree_str = '(ROOT (S (NP (PRP I)) (VP (VBP believe) (SBAR (IN that) (S (NP (PRP you)) (VP (VBP win))))) (. .)))'\n",
    "Tree.fromstring(tree_str).pretty_print(unicodelines=True)"
   ]
  },
  {
   "cell_type": "markdown",
   "metadata": {},
   "source": [
    "#### Geben Sie die CFG-Ableitungsregeln für diese komplexe Satzkonstruktion an:"
   ]
  },
  {
   "cell_type": "code",
   "execution_count": null,
   "metadata": {},
   "outputs": [],
   "source": [
    "#\n",
    "#"
   ]
  },
  {
   "cell_type": "markdown",
   "metadata": {},
   "source": [
    "### 3. Dependenzanalyse:"
   ]
  },
  {
   "cell_type": "code",
   "execution_count": null,
   "metadata": {},
   "outputs": [],
   "source": [
    "sent_nr = \"\"\"\n",
    "1 I \n",
    "2 believe \n",
    "3 that \n",
    "4 you \n",
    "5 win \n",
    "\"\"\"\n",
    "\n",
    "show_dep_trees(sent_nr, style=2)"
   ]
  },
  {
   "cell_type": "markdown",
   "metadata": {},
   "source": [
    "#### Geben Sie die Dependenzregeln für diese komplexe Satzkonstruktion an:"
   ]
  },
  {
   "cell_type": "code",
   "execution_count": null,
   "metadata": {},
   "outputs": [],
   "source": [
    "#\n",
    "#"
   ]
  },
  {
   "cell_type": "markdown",
   "metadata": {},
   "source": [
    "### b) *I want to believe.*"
   ]
  },
  {
   "cell_type": "code",
   "execution_count": 8,
   "metadata": {},
   "outputs": [],
   "source": [
    "sentence = \"I want to believe.\""
   ]
  },
  {
   "cell_type": "markdown",
   "metadata": {},
   "source": [
    "### 1. Fragen:\n",
    "\n",
    "#### Was für eine Satzkonstruktion liegt hier vor? (koordiniert?, subordiniert?, keines von beiden?)\n"
   ]
  },
  {
   "cell_type": "code",
   "execution_count": null,
   "metadata": {},
   "outputs": [],
   "source": [
    "#"
   ]
  },
  {
   "cell_type": "markdown",
   "metadata": {},
   "source": [
    "#### Welcher eingebettete Satztyp liegt vor? (Subjekt-, Objekt-, Kausal-, Lokal-, Modal-, Temporal-, Relativsatz?)\n"
   ]
  },
  {
   "cell_type": "code",
   "execution_count": null,
   "metadata": {},
   "outputs": [],
   "source": [
    "#"
   ]
  },
  {
   "cell_type": "markdown",
   "metadata": {},
   "source": [
    "#### Wie läßt sich dieser Satztyp klassifizieren? (Komplement-, Adverbial-, Attributsatz?)\n"
   ]
  },
  {
   "cell_type": "code",
   "execution_count": null,
   "metadata": {},
   "outputs": [],
   "source": [
    "#"
   ]
  },
  {
   "cell_type": "markdown",
   "metadata": {},
   "source": [
    "#### Zusatzfrage: Welche Form der Kontrolle liegt hier vor? (Subjekt- oder Objektkontrolle?)"
   ]
  },
  {
   "cell_type": "code",
   "execution_count": null,
   "metadata": {},
   "outputs": [],
   "source": [
    "#"
   ]
  },
  {
   "cell_type": "markdown",
   "metadata": {},
   "source": [
    "#### Welche Form der Kontrolle liegt in folgendem Satz vor: *Sie überreden ihn, nach München zu fahren?*\n"
   ]
  },
  {
   "cell_type": "code",
   "execution_count": null,
   "metadata": {},
   "outputs": [],
   "source": [
    "#"
   ]
  },
  {
   "cell_type": "markdown",
   "metadata": {},
   "source": [
    "#### Welche satzwertigen Funktionen können Infinitivkonstruktionen erfüllen? "
   ]
  },
  {
   "cell_type": "code",
   "execution_count": null,
   "metadata": {},
   "outputs": [],
   "source": [
    "#"
   ]
  },
  {
   "cell_type": "markdown",
   "metadata": {},
   "source": [
    "### 2. Konstituentenanalyse:"
   ]
  },
  {
   "cell_type": "code",
   "execution_count": 9,
   "metadata": {},
   "outputs": [
    {
     "name": "stdout",
     "output_type": "stream",
     "text": [
      "         ROOT                \n",
      "          │                   \n",
      "          S                  \n",
      " ┌────────┼────────────────┐  \n",
      " │        VP               │ \n",
      " │   ┌────┴────┐           │  \n",
      " │   │         S           │ \n",
      " │   │         │           │  \n",
      " │   │         VP          │ \n",
      " │   │    ┌────┴─────┐     │  \n",
      " NP  │    │          VP    │ \n",
      " │   │    │          │     │  \n",
      "PRP VBP   TO         VB    . \n",
      " │   │    │          │     │  \n",
      " I  want  to      believe  . \n",
      "\n"
     ]
    }
   ],
   "source": [
    "tree_str = '(ROOT (S (NP (PRP I)) (VP (VBP want) (S (VP (TO to) (VP (VB believe))))) (. .)))'\n",
    "Tree.fromstring(tree_str).pretty_print(unicodelines=True)"
   ]
  },
  {
   "cell_type": "markdown",
   "metadata": {},
   "source": [
    "#### Geben Sie die CFG-Ableitungsregeln für diese komplexe Satzkonstruktion an:"
   ]
  },
  {
   "cell_type": "code",
   "execution_count": null,
   "metadata": {},
   "outputs": [],
   "source": [
    "#\n",
    "#"
   ]
  },
  {
   "cell_type": "markdown",
   "metadata": {},
   "source": [
    "### 3. Dependenzanalyse:"
   ]
  },
  {
   "cell_type": "code",
   "execution_count": null,
   "metadata": {},
   "outputs": [],
   "source": [
    "sent_nr = \"\"\"\n",
    "1 I \n",
    "2 want \n",
    "3 to \n",
    "4 believe \n",
    "\"\"\"\n",
    "\n",
    "show_dep_trees(sent_nr, style=2)"
   ]
  },
  {
   "cell_type": "markdown",
   "metadata": {},
   "source": [
    "#### Geben Sie die Dependenzregeln für diese komplexe Satzkonstruktion an:"
   ]
  },
  {
   "cell_type": "code",
   "execution_count": null,
   "metadata": {},
   "outputs": [],
   "source": [
    "#\n",
    "#"
   ]
  },
  {
   "cell_type": "markdown",
   "metadata": {},
   "source": [
    "### c) *the man who knew too much*"
   ]
  },
  {
   "cell_type": "code",
   "execution_count": 10,
   "metadata": {},
   "outputs": [],
   "source": [
    "sentence = \"the man who knew too much\""
   ]
  },
  {
   "cell_type": "markdown",
   "metadata": {},
   "source": [
    "### 1. Fragen:\n",
    "\n",
    "#### Was für eine Satzkonstruktion liegt hier vor? (koordiniert?, subordiniert?, keines von beiden?)\n"
   ]
  },
  {
   "cell_type": "code",
   "execution_count": null,
   "metadata": {},
   "outputs": [],
   "source": [
    "#"
   ]
  },
  {
   "cell_type": "markdown",
   "metadata": {},
   "source": [
    "#### Welcher eingebettete Satztyp liegt vor? (Subjekt-, Objekt-, Kausal-, Lokal-, Modal-, Temporal-, Relativsatz?)\n"
   ]
  },
  {
   "cell_type": "code",
   "execution_count": null,
   "metadata": {},
   "outputs": [],
   "source": [
    "#"
   ]
  },
  {
   "cell_type": "markdown",
   "metadata": {},
   "source": [
    "#### Wie läßt sich dieser Satztyp klassifizieren? (Komplement-, Adverbial-, Attributsatz?)\n"
   ]
  },
  {
   "cell_type": "code",
   "execution_count": null,
   "metadata": {},
   "outputs": [],
   "source": [
    "#"
   ]
  },
  {
   "cell_type": "markdown",
   "metadata": {},
   "source": [
    "#### Zusatzfrage: Welche Attributsatztypen haben Sie in der Vorlesung kennengelernt? "
   ]
  },
  {
   "cell_type": "code",
   "execution_count": null,
   "metadata": {},
   "outputs": [],
   "source": [
    "#"
   ]
  },
  {
   "cell_type": "markdown",
   "metadata": {},
   "source": [
    "### 2. Konstituentenanalyse:"
   ]
  },
  {
   "cell_type": "code",
   "execution_count": 11,
   "metadata": {},
   "outputs": [
    {
     "name": "stdout",
     "output_type": "stream",
     "text": [
      "            ROOT                        \n",
      "             │                           \n",
      "            FRAG                        \n",
      "             │                           \n",
      "             NP                         \n",
      "     ┌───────┴─────────┐                 \n",
      "     │                SBAR              \n",
      "     │       ┌─────────┴────┐            \n",
      "     │       │              S           \n",
      "     │       │              │            \n",
      "     │       │              VP          \n",
      "     │       │    ┌─────────┴───┐        \n",
      "     NP     WHNP  │            ADJP     \n",
      " ┌───┴───┐   │    │         ┌───┴────┐   \n",
      " DT      NN  WP  VBD        RB       JJ \n",
      " │       │   │    │         │        │   \n",
      "the     man who  knew      too      much\n",
      "\n"
     ]
    }
   ],
   "source": [
    "tree_str = '(ROOT (FRAG (NP (NP (DT the) (NN man)) (SBAR (WHNP (WP who)) (S (VP (VBD knew) (ADJP (RB too) (JJ much))))))))'\n",
    "Tree.fromstring(tree_str).pretty_print(unicodelines=True)"
   ]
  },
  {
   "cell_type": "markdown",
   "metadata": {},
   "source": [
    "#### Geben Sie die CFG-Ableitungsregeln für diese komplexe Satzkonstruktion an:"
   ]
  },
  {
   "cell_type": "code",
   "execution_count": null,
   "metadata": {},
   "outputs": [],
   "source": [
    "#\n",
    "#"
   ]
  },
  {
   "cell_type": "markdown",
   "metadata": {},
   "source": [
    "### 3. Dependenzanalyse:"
   ]
  },
  {
   "cell_type": "code",
   "execution_count": null,
   "metadata": {},
   "outputs": [],
   "source": [
    "sent_nr = \"\"\"\n",
    "1 the \n",
    "2 man \n",
    "3 who \n",
    "4 knew \n",
    "5 too \n",
    "6 much \n",
    "\"\"\"\n",
    "\n",
    "show_dep_trees(sent_nr, style=2)"
   ]
  },
  {
   "cell_type": "markdown",
   "metadata": {},
   "source": [
    "#### Geben Sie die Dependenzregeln für diese komplexe Satzkonstruktion an:"
   ]
  },
  {
   "cell_type": "code",
   "execution_count": null,
   "metadata": {},
   "outputs": [],
   "source": [
    "#\n",
    "#"
   ]
  },
  {
   "cell_type": "markdown",
   "metadata": {},
   "source": [
    "\n",
    "### d) *They left, but they came back.* "
   ]
  },
  {
   "cell_type": "code",
   "execution_count": 12,
   "metadata": {},
   "outputs": [],
   "source": [
    "sentence = \"They left, but they came back.\""
   ]
  },
  {
   "cell_type": "markdown",
   "metadata": {},
   "source": [
    "### 1. Fragen:\n",
    "\n",
    "#### Was für eine Satzkonstruktion liegt hier vor? (koordiniert?, subordiniert?, keines von beiden?)\n"
   ]
  },
  {
   "cell_type": "code",
   "execution_count": null,
   "metadata": {},
   "outputs": [],
   "source": [
    "#"
   ]
  },
  {
   "cell_type": "markdown",
   "metadata": {},
   "source": [
    "#### Welcher eingebettete Satztyp liegt vor? (Subjekt-, Objekt-, Kausal-, Lokal-, Modal-, Temporal-, Relativsatz?)\n"
   ]
  },
  {
   "cell_type": "code",
   "execution_count": null,
   "metadata": {},
   "outputs": [],
   "source": [
    "#"
   ]
  },
  {
   "cell_type": "markdown",
   "metadata": {},
   "source": [
    "#### Wie läßt sich dieser Satztyp klassifizieren? (Komplement-, Adverbial-, Attributsatz?)\n"
   ]
  },
  {
   "cell_type": "code",
   "execution_count": null,
   "metadata": {},
   "outputs": [],
   "source": [
    "#"
   ]
  },
  {
   "cell_type": "markdown",
   "metadata": {},
   "source": [
    "### 2. Konstituentenanalyse:"
   ]
  },
  {
   "cell_type": "code",
   "execution_count": 13,
   "metadata": {},
   "outputs": [
    {
     "name": "stdout",
     "output_type": "stream",
     "text": [
      "                  ROOT                       \n",
      "                   │                          \n",
      "                   S                         \n",
      "      ┌────────┬───┼─────────┬─────────────┐  \n",
      "      │        │   │         S             │ \n",
      "      │        │   │    ┌────┴────┐        │  \n",
      "      S        │   │    │         VP       │ \n",
      " ┌────┴───┐    │   │    │    ┌────┴───┐    │  \n",
      " NP       VP   │   │    NP   │       ADVP  │ \n",
      " │        │    │   │    │    │        │    │  \n",
      "PRP      VBD   ,   CC  PRP  VBD       RB   . \n",
      " │        │    │   │    │    │        │    │  \n",
      "They     left  ,  but  they came     back  . \n",
      "\n"
     ]
    }
   ],
   "source": [
    "tree_str = '(ROOT (S (S (NP (PRP They)) (VP (VBD left))) (, ,) (CC but) (S (NP (PRP they)) (VP (VBD came) (ADVP (RB back)))) (. .)))'\n",
    "Tree.fromstring(tree_str).pretty_print(unicodelines=True)"
   ]
  },
  {
   "cell_type": "markdown",
   "metadata": {},
   "source": [
    "#### Geben Sie die CFG-Ableitungsregeln für diese komplexe Satzkonstruktion an:"
   ]
  },
  {
   "cell_type": "code",
   "execution_count": null,
   "metadata": {},
   "outputs": [],
   "source": [
    "#\n",
    "#"
   ]
  },
  {
   "cell_type": "markdown",
   "metadata": {},
   "source": [
    "### 3. Dependenzanalyse:"
   ]
  },
  {
   "cell_type": "code",
   "execution_count": null,
   "metadata": {},
   "outputs": [],
   "source": [
    "sent_nr = \"\"\"\n",
    "1 they \n",
    "2 left \n",
    "3 but \n",
    "4 they \n",
    "5 came \n",
    "6 back \n",
    "\"\"\"\n",
    "\n",
    "show_dep_trees(sent_nr, style=2)"
   ]
  },
  {
   "cell_type": "markdown",
   "metadata": {},
   "source": [
    "#### Geben Sie die Dependenzregeln für diese komplexe Satzkonstruktion an:"
   ]
  },
  {
   "cell_type": "code",
   "execution_count": null,
   "metadata": {},
   "outputs": [],
   "source": [
    "#\n",
    "#"
   ]
  },
  {
   "cell_type": "markdown",
   "metadata": {},
   "source": [
    "### e) *This can't be right.*"
   ]
  },
  {
   "cell_type": "code",
   "execution_count": 14,
   "metadata": {},
   "outputs": [],
   "source": [
    "sentence = \"This can't be right.\""
   ]
  },
  {
   "cell_type": "markdown",
   "metadata": {},
   "source": [
    "### 1. Fragen:\n",
    "\n",
    "#### Was für eine Satzkonstruktion liegt hier vor? (koordiniert?, subordiniert?, keines von beiden?)\n"
   ]
  },
  {
   "cell_type": "code",
   "execution_count": null,
   "metadata": {},
   "outputs": [],
   "source": [
    "#"
   ]
  },
  {
   "cell_type": "markdown",
   "metadata": {},
   "source": [
    "#### Welcher eingebettete Satztyp liegt vor? (Subjekt-, Objekt-, Kausal-, Lokal-, Modal-, Temporal-, Relativsatz?)\n"
   ]
  },
  {
   "cell_type": "code",
   "execution_count": null,
   "metadata": {},
   "outputs": [],
   "source": [
    "#"
   ]
  },
  {
   "cell_type": "markdown",
   "metadata": {},
   "source": [
    "#### Wie läßt sich dieser Satztyp klassifizieren? (Komplement-, Adverbial-, Attributsatz?)\n"
   ]
  },
  {
   "cell_type": "code",
   "execution_count": null,
   "metadata": {},
   "outputs": [],
   "source": [
    "#"
   ]
  },
  {
   "cell_type": "markdown",
   "metadata": {},
   "source": [
    "### 2. Konstituentenanalyse:"
   ]
  },
  {
   "cell_type": "code",
   "execution_count": 15,
   "metadata": {},
   "outputs": [
    {
     "name": "stdout",
     "output_type": "stream",
     "text": [
      "         ROOT                  \n",
      "          │                     \n",
      "          S                    \n",
      " ┌────────┼──────────────────┐  \n",
      " │        VP                 │ \n",
      " │    ┌───┼────────┐         │  \n",
      " │    │   │        VP        │ \n",
      " │    │   │    ┌───┴────┐    │  \n",
      " NP   │   │    │       ADJP  │ \n",
      " │    │   │    │        │    │  \n",
      " DT   MD  RB   VB       JJ   . \n",
      " │    │   │    │        │    │  \n",
      "This  ca n't   be     right  . \n",
      "\n"
     ]
    }
   ],
   "source": [
    "tree_str = \"(ROOT (S (NP (DT This)) (VP (MD ca) (RB n't) (VP (VB be) (ADJP (JJ right)))) (. .)))\"\n",
    "Tree.fromstring(tree_str).pretty_print(unicodelines=True)"
   ]
  },
  {
   "cell_type": "markdown",
   "metadata": {},
   "source": [
    "#### Geben Sie die CFG-Ableitungsregeln für diese komplexe Satzkonstruktion an:"
   ]
  },
  {
   "cell_type": "code",
   "execution_count": null,
   "metadata": {},
   "outputs": [],
   "source": [
    "#\n",
    "#"
   ]
  },
  {
   "cell_type": "markdown",
   "metadata": {},
   "source": [
    "### 3. Dependenzanalyse:\n",
    "\n",
    "HINWEIS Negation:\n",
    "- `advmod`, vgl. https://universaldependencies.org/de/dep/advmod.html\n",
    "- oder sprachspezifischer zusätzlicher `neg`-Marker: https://universaldependencies.org/docs/u/dep/neg.html"
   ]
  },
  {
   "cell_type": "code",
   "execution_count": null,
   "metadata": {},
   "outputs": [],
   "source": [
    "sent_nr = \"\"\"\n",
    "1 this \n",
    "2 ca \n",
    "3 n\\'t \n",
    "4 be \n",
    "5 right \n",
    "\"\"\"\n",
    "\n",
    "show_dep_trees(sent_nr, style=2)"
   ]
  },
  {
   "cell_type": "markdown",
   "metadata": {},
   "source": [
    "#### Geben Sie die Dependenzregeln für diese komplexe Satzkonstruktion an:"
   ]
  },
  {
   "cell_type": "code",
   "execution_count": null,
   "metadata": {},
   "outputs": [],
   "source": [
    "#\n",
    "#"
   ]
  },
  {
   "cell_type": "markdown",
   "metadata": {},
   "source": [
    "\n",
    "### f) *When the storm started, she was still outside.*"
   ]
  },
  {
   "cell_type": "code",
   "execution_count": 16,
   "metadata": {},
   "outputs": [],
   "source": [
    "sentence = \"When the storm started, she was still outside.\""
   ]
  },
  {
   "cell_type": "markdown",
   "metadata": {},
   "source": [
    "### 1. Fragen:\n",
    "\n",
    "#### Was für eine Satzkonstruktion liegt hier vor? (koordiniert?, subordiniert?, keines von beiden?)\n"
   ]
  },
  {
   "cell_type": "code",
   "execution_count": null,
   "metadata": {},
   "outputs": [],
   "source": [
    "#"
   ]
  },
  {
   "cell_type": "markdown",
   "metadata": {},
   "source": [
    "#### Welcher eingebettete Satztyp liegt vor? (Subjekt-, Objekt-, Kausal-, Lokal-, Modal-, Temporal-, Relativsatz?)\n"
   ]
  },
  {
   "cell_type": "code",
   "execution_count": null,
   "metadata": {},
   "outputs": [],
   "source": [
    "#"
   ]
  },
  {
   "cell_type": "markdown",
   "metadata": {},
   "source": [
    "#### Wie läßt sich dieser Satztyp klassifizieren? (Komplement-, Adverbial-, Attributsatz?)\n"
   ]
  },
  {
   "cell_type": "code",
   "execution_count": null,
   "metadata": {},
   "outputs": [],
   "source": [
    "#"
   ]
  },
  {
   "cell_type": "markdown",
   "metadata": {},
   "source": [
    "### 2. Konstituentenanalyse:"
   ]
  },
  {
   "cell_type": "code",
   "execution_count": 17,
   "metadata": {},
   "outputs": [
    {
     "name": "stdout",
     "output_type": "stream",
     "text": [
      "                              ROOT                          \n",
      "                               │                             \n",
      "                               S                            \n",
      "            ┌──────────────────┼────┬────────┬────────────┐  \n",
      "           SBAR                │    │        │            │ \n",
      "  ┌─────────┴─────┐            │    │        │            │  \n",
      "  │               S            │    │        VP           │ \n",
      "  │         ┌─────┴──────┐     │    │   ┌────┼──────┐     │  \n",
      "WHADVP      NP           VP    │    NP  │   ADVP   ADVP   │ \n",
      "  │     ┌───┴─────┐      │     │    │   │    │      │     │  \n",
      " WRB    DT        NN    VBD    ,   PRP VBD   RB     RB    . \n",
      "  │     │         │      │     │    │   │    │      │     │  \n",
      " When  the      storm started  ,   she was still outside  . \n",
      "\n"
     ]
    }
   ],
   "source": [
    "tree_str = '(ROOT (S (SBAR (WHADVP (WRB When)) (S (NP (DT the) (NN storm)) (VP (VBD started)))) (, ,) (NP (PRP she)) (VP (VBD was) (ADVP (RB still)) (ADVP (RB outside))) (. .)))'\n",
    "Tree.fromstring(tree_str).pretty_print(unicodelines=True)"
   ]
  },
  {
   "cell_type": "markdown",
   "metadata": {},
   "source": [
    "#### Geben Sie die CFG-Ableitungsregeln für diese komplexe Satzkonstruktion an:"
   ]
  },
  {
   "cell_type": "code",
   "execution_count": null,
   "metadata": {},
   "outputs": [],
   "source": [
    "#\n",
    "#"
   ]
  },
  {
   "cell_type": "markdown",
   "metadata": {},
   "source": [
    "### 3. Dependenzanalyse:"
   ]
  },
  {
   "cell_type": "code",
   "execution_count": null,
   "metadata": {},
   "outputs": [],
   "source": [
    "sent_nr = \"\"\"\n",
    "1 when \n",
    "2 the \n",
    "3 storm \n",
    "4 started \n",
    "5 she \n",
    "6 was \n",
    "7 still \n",
    "8 outside  \n",
    "\"\"\"\n",
    "\n",
    "show_dep_trees(sent_nr, style=2)"
   ]
  },
  {
   "cell_type": "markdown",
   "metadata": {},
   "source": [
    "#### Geben Sie die Dependenzregeln für diese komplexe Satzkonstruktion an:"
   ]
  },
  {
   "cell_type": "code",
   "execution_count": null,
   "metadata": {},
   "outputs": [],
   "source": [
    "#\n",
    "#"
   ]
  },
  {
   "cell_type": "markdown",
   "metadata": {},
   "source": [
    "\n",
    "### g) *To go now would be a mistake.* "
   ]
  },
  {
   "cell_type": "code",
   "execution_count": 18,
   "metadata": {},
   "outputs": [],
   "source": [
    "sentence = \"To go now would be a mistake.\""
   ]
  },
  {
   "cell_type": "markdown",
   "metadata": {},
   "source": [
    "### 1. Fragen:\n",
    "\n",
    "#### Was für eine Satzkonstruktion liegt hier vor? (koordiniert?, subordiniert?, keines von beiden?)\n"
   ]
  },
  {
   "cell_type": "code",
   "execution_count": null,
   "metadata": {},
   "outputs": [],
   "source": [
    "#"
   ]
  },
  {
   "cell_type": "markdown",
   "metadata": {},
   "source": [
    "#### Welcher eingebettete Satztyp liegt vor? (Subjekt-, Objekt-, Kausal-, Lokal-, Modal-, Temporal-, Relativsatz?)\n"
   ]
  },
  {
   "cell_type": "code",
   "execution_count": null,
   "metadata": {},
   "outputs": [],
   "source": [
    "#"
   ]
  },
  {
   "cell_type": "markdown",
   "metadata": {},
   "source": [
    "#### Wie läßt sich dieser Satztyp klassifizieren? (Komplement-, Adverbial-, Attributsatz?)\n"
   ]
  },
  {
   "cell_type": "code",
   "execution_count": null,
   "metadata": {},
   "outputs": [],
   "source": [
    "#"
   ]
  },
  {
   "cell_type": "markdown",
   "metadata": {},
   "source": [
    "### 2. Konstituentenanalyse:"
   ]
  },
  {
   "cell_type": "code",
   "execution_count": 19,
   "metadata": {},
   "outputs": [
    {
     "name": "stdout",
     "output_type": "stream",
     "text": [
      "                  ROOT                            \n",
      "                   │                               \n",
      "                   S                              \n",
      "     ┌─────────────┴────────┬───────────────────┐  \n",
      "     S                      │                   │ \n",
      "     │                      │                   │  \n",
      "     VP                     VP                  │ \n",
      " ┌───┴───┐         ┌────────┴───┐               │  \n",
      " │       VP        │            VP              │ \n",
      " │   ┌───┴───┐     │    ┌───────┴───┐           │  \n",
      " │   │      ADVP   │    │           NP          │ \n",
      " │   │       │     │    │       ┌───┴─────┐     │  \n",
      " TO  VB      RB    MD   VB      DT        NN    . \n",
      " │   │       │     │    │       │         │     │  \n",
      " To  go     now  would  be      a      mistake  . \n",
      "\n"
     ]
    }
   ],
   "source": [
    "tree_str = '(ROOT (S (S (VP (TO To) (VP (VB go) (ADVP (RB now))))) (VP (MD would) (VP (VB be) (NP (DT a) (NN mistake)))) (. .)))'\n",
    "Tree.fromstring(tree_str).pretty_print(unicodelines=True)"
   ]
  },
  {
   "cell_type": "markdown",
   "metadata": {},
   "source": [
    "#### Geben Sie die CFG-Ableitungsregeln für diese komplexe Satzkonstruktion an:"
   ]
  },
  {
   "cell_type": "code",
   "execution_count": null,
   "metadata": {},
   "outputs": [],
   "source": [
    "#\n",
    "#"
   ]
  },
  {
   "cell_type": "markdown",
   "metadata": {},
   "source": [
    "### 3. Dependenzanalyse:"
   ]
  },
  {
   "cell_type": "code",
   "execution_count": null,
   "metadata": {},
   "outputs": [],
   "source": [
    "sent_nr = \"\"\"\n",
    "1 to \n",
    "2 go \n",
    "3 now \n",
    "4 would \n",
    "5 be \n",
    "6 a \n",
    "7 mistake \n",
    "\"\"\"\n",
    "\n",
    "show_dep_trees(sent_nr, style=2)"
   ]
  },
  {
   "cell_type": "markdown",
   "metadata": {},
   "source": [
    "#### Geben Sie die Dependenzregeln für diese komplexe Satzkonstruktion an:"
   ]
  },
  {
   "cell_type": "code",
   "execution_count": null,
   "metadata": {},
   "outputs": [],
   "source": [
    "#\n",
    "#"
   ]
  },
  {
   "cell_type": "markdown",
   "metadata": {},
   "source": [
    "## *Aufgabe 3 - Attributtypen und Attributfunktionen*\n",
    "\n",
    "#### Analysieren Sie die folgende komplexe NP. Welche Attributtypen und -funktionen treten auf?\n",
    "- *Die lang ersehnte Fahrt der Klasse 5b nach Paris, die sich aus irgendeinem Grunde immer wieder verzögert hatte, findet nun endlich statt.*"
   ]
  },
  {
   "cell_type": "code",
   "execution_count": null,
   "metadata": {},
   "outputs": [],
   "source": [
    "#"
   ]
  },
  {
   "cell_type": "code",
   "execution_count": 20,
   "metadata": {},
   "outputs": [
    {
     "name": "stdout",
     "output_type": "stream",
     "text": [
      "                                                                            findet(ROOT)                                                                                                            \n",
      "     ┌─────────────┬───────────────┬─────────────────────────────────────────────┴────────────────────────┐                                                                                          \n",
      "     │             │               │                                                                 Fahrt(nsubj)                                                                                   \n",
      "     │             │               │           ┌───────────┬─────────────────────┬────────────────────────┴───────────────────────────┐                                                              \n",
      "     │             │               │           │           │                Klasse(nmod)                                        verzögert(acl:                                                      \n",
      "     │             │               │           │           │                     │                                                  relcl)                                                          \n",
      "     │             │               │           │           │          ┌──────────┼────────────┐           ┌─────────────┬─────────────┼───────────────────────┬─────────────────────────────┐        \n",
      "     │             │               │           │     ersehnte(acl)    │          │       Paris(nmod)      │             │             │                  Grunde(obl)                  wieder(advmod)\n",
      "     │             │               │           │           │          │          │            │           │             │             │            ┌──────────┴─────────────┐               │        \n",
      "nun(advmod) endlich(advmod) statt(compound: Die(det)  lang(advmod) der(det)  5b(appos)    nach(case)  die(nsbuj)  sich(expl:pv)   hatte(aux)   aus(case)             irgendeinem(det) immer(advmod) \n",
      "                                  prt)                                                                                                                                                              \n",
      "\n"
     ]
    }
   ],
   "source": [
    "sent_nr = \"\"\"\n",
    "1 Die 4 det\n",
    "2 lang 3 advmod\n",
    "3 ersehnte 4 acl\n",
    "4 Fahrt 19 nsubj\n",
    "5 der 6 det\n",
    "6 Klasse 4 nmod \n",
    "7 5b 6 appos\n",
    "8 nach 9 case\n",
    "9 Paris 6 nmod \n",
    "10 die 17 nsbuj\n",
    "11 sich 17 expl:pv\n",
    "12 aus 14 case\n",
    "13 irgendeinem 14 det\n",
    "14 Grunde 17 obl\n",
    "15 immer 16 advmod\n",
    "16 wieder 17 advmod \n",
    "17 verzögert 4 acl:relcl\n",
    "18 hatte 17 aux \n",
    "19 findet 0 ROOT\n",
    "20 nun 19 advmod\n",
    "21 endlich 19 advmod\n",
    "22 statt 19 compound:prt\n",
    "\"\"\"\n",
    "show_dep_trees(sent_nr, style=0)"
   ]
  },
  {
   "cell_type": "markdown",
   "metadata": {},
   "source": [
    "## *Aufgabe 4 - Wortstellung im Nebensatz*\n",
    "\n",
    "#### Betrachten Sie die folgenden beiden Sätze:\n",
    "- *Peter sagt, er habe kein Geld.*\n",
    "- *Peter sagt, dass er kein Geld habe.*\n",
    "\n",
    "#### Der erste Nebensatz  ist durch eine Konjunktion eingeleitet, der zweite Nebensatz ist ohne Einleitewort. Leiten Sie daraus eine Regularität zur Stellung des finiten Verbs im Nebensatz ab.\n",
    "\n",
    "### a) Wenn der Nebensatz durch eine Konjunktion eingeleitet wird, wo steht diese im Stellungsfeldermodell?"
   ]
  },
  {
   "cell_type": "code",
   "execution_count": null,
   "metadata": {},
   "outputs": [],
   "source": [
    "# "
   ]
  },
  {
   "cell_type": "markdown",
   "metadata": {},
   "source": [
    "### b) Von welchem Satzteil wird diese Position gefüllt, wenn die Konjunktion fehlt?"
   ]
  },
  {
   "cell_type": "code",
   "execution_count": null,
   "metadata": {},
   "outputs": [],
   "source": [
    "# "
   ]
  },
  {
   "cell_type": "markdown",
   "metadata": {},
   "source": [
    "### c) Kann diese Position theoretisch auch leer bleiben?"
   ]
  },
  {
   "cell_type": "code",
   "execution_count": 44,
   "metadata": {},
   "outputs": [],
   "source": [
    "# "
   ]
  }
 ],
 "metadata": {
  "kernelspec": {
   "display_name": "Python 3 (ipykernel)",
   "language": "python",
   "name": "python3"
  },
  "language_info": {
   "codemirror_mode": {
    "name": "ipython",
    "version": 3
   },
   "file_extension": ".py",
   "mimetype": "text/x-python",
   "name": "python",
   "nbconvert_exporter": "python",
   "pygments_lexer": "ipython3",
   "version": "3.9.12"
  }
 },
 "nbformat": 4,
 "nbformat_minor": 2
}
