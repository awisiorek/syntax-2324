{
 "cells": [
  {
   "cell_type": "markdown",
   "metadata": {},
   "source": [
    "Syntax natürlicher Sprachen, WS 2023/24\n",
    "\n",
    "# 10 - Übung (Lösung)"
   ]
  },
  {
   "cell_type": "code",
   "execution_count": 1,
   "metadata": {
    "scrolled": true
   },
   "outputs": [],
   "source": [
    "import nltk"
   ]
  },
  {
   "cell_type": "markdown",
   "metadata": {},
   "source": [
    "## Aufgabe 1 - Gewichte und Ableitungswahrscheinlichkeit\n",
    "\n",
    "#### Betrachten Sie folgende (unvollständige) PCFG.\n",
    "\n",
    "#### Ergänzen Sie die fehlenden (mit ** markierten) Gewichte und geben Sie die Berechnung für die Ableitungswahrscheinlichkeit durch den Viterbi-Parser an."
   ]
  },
  {
   "cell_type": "code",
   "execution_count": 2,
   "metadata": {},
   "outputs": [
    {
     "name": "stdout",
     "output_type": "stream",
     "text": [
      "(S (NP Jack) (VP (TV saw) (NP telescopes))) (p=0.064)\n"
     ]
    }
   ],
   "source": [
    "grammar = nltk.PCFG.fromstring(\"\"\"\n",
    "    S    -> NP VP              [1.0]\n",
    "    VP   -> TV NP              [0.4]\n",
    "    VP   -> IV                 [0.3]\n",
    "    VP   -> DatV NP NP         [0.3]\n",
    "    TV   -> 'saw'              [1.0]\n",
    "    IV   -> 'ate'              [1.0]\n",
    "    DatV -> 'gave'             [1.0]\n",
    "    NP   -> 'telescopes'       [0.8]\n",
    "    NP   -> 'Jack'             [0.2]\n",
    "\"\"\")\n",
    "\n",
    "sent = \"Jack saw telescopes\"\n",
    "\n",
    "viterbi_parser = nltk.ViterbiParser(grammar)\n",
    "for tree in viterbi_parser.parse(sent.split()):\n",
    "    print(tree)"
   ]
  },
  {
   "cell_type": "code",
   "execution_count": 3,
   "metadata": {},
   "outputs": [],
   "source": [
    "# Berechnung der Ableitungswahrscheinlichkeit:\n",
    "# 1*0.2*0.4*1*0.8 = 0.064"
   ]
  },
  {
   "cell_type": "markdown",
   "metadata": {},
   "source": [
    "## Aufgabe 2  - PCFG Parsing\n",
    "#### Betrachten Sie das folgende PCFG-Parsing:"
   ]
  },
  {
   "cell_type": "code",
   "execution_count": 4,
   "metadata": {},
   "outputs": [
    {
     "name": "stdout",
     "output_type": "stream",
     "text": [
      "(S\n",
      "  (NP (PRON Er))\n",
      "  (VP\n",
      "    (VP (V beobachtet) (NP (DET das) (N Mädchen)))\n",
      "    (PP (P mit) (NP (DET dem) (N Fernglas))))) (p=0.00084375)\n",
      "         S                                          \n",
      " ┌───────┴─────────────────┐                         \n",
      " │                         VP                       \n",
      " │               ┌─────────┴─────────┐               \n",
      " │               VP                  PP             \n",
      " │       ┌───────┴───┐           ┌───┴───┐           \n",
      " NP      │           NP          │       NP         \n",
      " │       │       ┌───┴─────┐     │   ┌───┴─────┐     \n",
      "PRON     V      DET        N     P  DET        N    \n",
      " │       │       │         │     │   │         │     \n",
      " Er  beobachtet das     Mädchen mit dem     Fernglas\n",
      "\n"
     ]
    }
   ],
   "source": [
    "grammar = nltk.PCFG.fromstring(\"\"\"\n",
    "    S -> NP VP [1]\n",
    "    PP -> P NP [1]\n",
    "    NP -> DET N [0.5]\n",
    "    NP -> PRON [0.3]\n",
    "    NP -> NP PP [0.2]\n",
    "    VP -> V [0.1]\n",
    "    VP -> V NP [0.3]\n",
    "    VP -> VP PP [0.6]\n",
    "\n",
    "    PRON -> \"Er\" [1]\n",
    "    N -> \"Mädchen\" [0.5] | \"Fernglas\" [0.5]\n",
    "    V -> \"beobachtet\" [1]\n",
    "    DET -> \"das\" [0.5] | \"dem\" [0.5]\n",
    "    P -> \"mit\" [1]\n",
    "\"\"\")\n",
    "\n",
    "sent = \"Er beobachtet das Mädchen mit dem Fernglas\"\n",
    "\n",
    "viterbi_parser = nltk.ViterbiParser(grammar)\n",
    "for tree in viterbi_parser.parse(sent.split()):\n",
    "    print(tree)\n",
    "    tree.pretty_print(unicodelines=True)"
   ]
  },
  {
   "cell_type": "markdown",
   "metadata": {},
   "source": [
    "### a) Berechnen Sie die Wahrscheinlichkeit für die Ableitung mit dem Viterbi-Parser."
   ]
  },
  {
   "cell_type": "code",
   "execution_count": 5,
   "metadata": {},
   "outputs": [],
   "source": [
    "# Berechnung der Ableitungswahrscheinlichkeit:\n",
    "# 0.00084375 (1*0.3*0.6*0.3*0.5*1*0.5  *  1*1*0.5*0.5*1*0.5*0.5)"
   ]
  },
  {
   "cell_type": "markdown",
   "metadata": {},
   "source": [
    "### b) Warum findet folgender Parser mehr als eine Ableitung?"
   ]
  },
  {
   "cell_type": "code",
   "execution_count": 6,
   "metadata": {},
   "outputs": [
    {
     "name": "stdout",
     "output_type": "stream",
     "text": [
      "(S\n",
      "  (NP (PRON Er))\n",
      "  (VP\n",
      "    (VP (V beobachtet) (NP (DET das) (N Mädchen)))\n",
      "    (PP (P mit) (NP (DET dem) (N Fernglas))))) (p=0.00084375)\n",
      "         S                                          \n",
      " ┌───────┴─────────────────┐                         \n",
      " │                         VP                       \n",
      " │               ┌─────────┴─────────┐               \n",
      " │               VP                  PP             \n",
      " │       ┌───────┴───┐           ┌───┴───┐           \n",
      " NP      │           NP          │       NP         \n",
      " │       │       ┌───┴─────┐     │   ┌───┴─────┐     \n",
      "PRON     V      DET        N     P  DET        N    \n",
      " │       │       │         │     │   │         │     \n",
      " Er  beobachtet das     Mädchen mit dem     Fernglas\n",
      "\n",
      "(S\n",
      "  (NP (PRON Er))\n",
      "  (VP\n",
      "    (V beobachtet)\n",
      "    (NP\n",
      "      (NP (DET das) (N Mädchen))\n",
      "      (PP (P mit) (NP (DET dem) (N Fernglas)))))) (p=0.00028125)\n",
      "         S                                          \n",
      " ┌───────┴─────────────────┐                         \n",
      " │                         VP                       \n",
      " │       ┌─────────────────┴─────┐                   \n",
      " │       │                       NP                 \n",
      " │       │           ┌───────────┴───┐               \n",
      " │       │           │               PP             \n",
      " │       │           │           ┌───┴───┐           \n",
      " NP      │           NP          │       NP         \n",
      " │       │       ┌───┴─────┐     │   ┌───┴─────┐     \n",
      "PRON     V      DET        N     P  DET        N    \n",
      " │       │       │         │     │   │         │     \n",
      " Er  beobachtet das     Mädchen mit dem     Fernglas\n",
      "\n"
     ]
    }
   ],
   "source": [
    "parser = nltk.InsideChartParser(grammar)\n",
    "for tree in parser.parse(sent.split()):\n",
    "    print(tree)\n",
    "    tree.pretty_print(unicodelines=True)"
   ]
  },
  {
   "cell_type": "code",
   "execution_count": 7,
   "metadata": {},
   "outputs": [],
   "source": [
    "# Antwort:\n",
    "# InsideChartParser ist ein PCFG-Chart-Parser mit edge queue\n",
    "# Sortierung nach Wahrscheinlichkeit der Ableitungen"
   ]
  },
  {
   "cell_type": "markdown",
   "metadata": {},
   "source": [
    "### c) Vergleichen Sie das Tracing folgender probabilistischer Parser und erläutern Sie:"
   ]
  },
  {
   "cell_type": "code",
   "execution_count": 8,
   "metadata": {},
   "outputs": [
    {
     "name": "stdout",
     "output_type": "stream",
     "text": [
      "  |. . . . . . [-]| [6:7] 'Fernglas'                 [1.0]\n",
      "  |. . . . . [-] .| [5:6] 'dem'                      [1.0]\n",
      "  |. . . . [-] . .| [4:5] 'mit'                      [1.0]\n",
      "  |. . . . [-] . .| [4:5] P  -> 'mit' *              [1.0]\n",
      "  |. . . . [-> . .| [4:5] PP -> P * NP               [1.0]\n",
      "  |. . . . > . . .| [4:4] PP -> * P NP               [1.0]\n",
      "  |. . . . > . . .| [4:4] P  -> * 'mit'              [1.0]\n",
      "  |. . . [-] . . .| [3:4] 'Mädchen'                  [1.0]\n",
      "  |. . [-] . . . .| [2:3] 'das'                      [1.0]\n",
      "  |. [-] . . . . .| [1:2] 'beobachtet'               [1.0]\n",
      "  |. [-] . . . . .| [1:2] V  -> 'beobachtet' *       [1.0]\n",
      "  |. > . . . . . .| [1:1] V  -> * 'beobachtet'       [1.0]\n",
      "  |[-] . . . . . .| [0:1] 'Er'                       [1.0]\n",
      "  |[-] . . . . . .| [0:1] PRON -> 'Er' *             [1.0]\n",
      "  |> . . . . . . .| [0:0] PRON -> * 'Er'             [1.0]\n",
      "  |. . [-] . . . .| [2:3] DET -> 'das' *             [0.5]\n",
      "  |. . > . . . . .| [2:2] NP -> * DET N              [0.5]\n",
      "  |. . > . . . . .| [2:2] DET -> * 'das'             [0.5]\n",
      "  |. . . [-] . . .| [3:4] N  -> 'Mädchen' *          [0.5]\n",
      "  |. . . > . . . .| [3:3] N  -> * 'Mädchen'          [0.5]\n",
      "  |. . . . . [-] .| [5:6] DET -> 'dem' *             [0.5]\n",
      "  |. . . . . > . .| [5:5] NP -> * DET N              [0.5]\n",
      "  |. . . . . > . .| [5:5] DET -> * 'dem'             [0.5]\n",
      "  |. . . . . . [-]| [6:7] N  -> 'Fernglas' *         [0.5]\n",
      "  |. . . . . . > .| [6:6] N  -> * 'Fernglas'         [0.5]\n",
      "  |[-] . . . . . .| [0:1] NP -> PRON *               [0.3]\n",
      "  |> . . . . . . .| [0:0] S  -> * NP VP              [1.0]\n",
      "  |[-> . . . . . .| [0:1] S  -> NP * VP              [0.3]\n",
      "  |> . . . . . . .| [0:0] NP -> * PRON               [0.3]\n",
      "  |. [-> . . . . .| [1:2] VP -> V * NP               [0.3]\n",
      "  |. > . . . . . .| [1:1] VP -> * V NP               [0.3]\n",
      "  |. . . . . [-> .| [5:6] NP -> DET * N              [0.25]\n",
      "  |. . [-> . . . .| [2:3] NP -> DET * N              [0.25]\n",
      "  |> . . . . . . .| [0:0] NP -> * NP PP              [0.2]\n",
      "  |. . . . . [---]| [5:7] NP -> DET N *              [0.125]\n",
      "  |. . . . . > . .| [5:5] S  -> * NP VP              [1.0]\n",
      "  |. . . . . > . .| [5:5] NP -> * NP PP              [0.2]\n",
      "  |. . . . . [--->| [5:7] S  -> NP * VP              [0.125]\n",
      "  |. . . . [-----]| [4:7] PP -> P NP *               [0.125]\n",
      "  |. . [---] . . .| [2:4] NP -> DET N *              [0.125]\n",
      "  |. . > . . . . .| [2:2] S  -> * NP VP              [1.0]\n",
      "  |. . > . . . . .| [2:2] NP -> * NP PP              [0.2]\n",
      "  |. . [---> . . .| [2:4] S  -> NP * VP              [0.125]\n",
      "  |. [-] . . . . .| [1:2] VP -> V *                  [0.1]\n",
      "  |. > . . . . . .| [1:1] VP -> * VP PP              [0.6]\n",
      "  |. > . . . . . .| [1:1] VP -> * V                  [0.1]\n",
      "  |. [-> . . . . .| [1:2] VP -> VP * PP              [0.06]\n",
      "  |[-> . . . . . .| [0:1] NP -> NP * PP              [0.06]\n",
      "  |. [-----] . . .| [1:4] VP -> V NP *               [0.0375]\n",
      "  |[---] . . . . .| [0:2] S  -> NP VP *              [0.03]\n",
      "  |. . [---> . . .| [2:4] NP -> NP * PP              [0.025]\n",
      "  |. . . . . [--->| [5:7] NP -> NP * PP              [0.025]\n",
      "  |. [-----> . . .| [1:4] VP -> VP * PP              [0.0225]\n",
      "  |[-------] . . .| [0:4] S  -> NP VP *              [0.01125]\n",
      "  |. . [---------]| [2:7] NP -> NP PP *              [0.003125]\n",
      "  |. . [--------->| [2:7] S  -> NP * VP              [0.003125]\n",
      "  |. [-----------]| [1:7] VP -> VP PP *              [0.0028125]\n",
      "  |. [----------->| [1:7] VP -> VP * PP              [0.0016875]\n",
      "  |. [-----------]| [1:7] VP -> V NP *               [0.0009375]\n",
      "  |[=============]| [0:7] S  -> NP VP *              [0.00084375]\n",
      "  |. . [--------->| [2:7] NP -> NP * PP              [0.0006250000000000001]\n",
      "  |. [----------->| [1:7] VP -> VP * PP              [0.0005625]\n",
      "  |[=============]| [0:7] S  -> NP VP *              [0.00028125]\n",
      "(S\n",
      "  (NP (PRON Er))\n",
      "  (VP\n",
      "    (VP (V beobachtet) (NP (DET das) (N Mädchen)))\n",
      "    (PP (P mit) (NP (DET dem) (N Fernglas))))) (p=0.00084375)\n",
      "         S                                          \n",
      " ┌───────┴─────────────────┐                         \n",
      " │                         VP                       \n",
      " │               ┌─────────┴─────────┐               \n",
      " │               VP                  PP             \n",
      " │       ┌───────┴───┐           ┌───┴───┐           \n",
      " NP      │           NP          │       NP         \n",
      " │       │       ┌───┴─────┐     │   ┌───┴─────┐     \n",
      "PRON     V      DET        N     P  DET        N    \n",
      " │       │       │         │     │   │         │     \n",
      " Er  beobachtet das     Mädchen mit dem     Fernglas\n",
      "\n",
      "(S\n",
      "  (NP (PRON Er))\n",
      "  (VP\n",
      "    (V beobachtet)\n",
      "    (NP\n",
      "      (NP (DET das) (N Mädchen))\n",
      "      (PP (P mit) (NP (DET dem) (N Fernglas)))))) (p=0.00028125)\n",
      "         S                                          \n",
      " ┌───────┴─────────────────┐                         \n",
      " │                         VP                       \n",
      " │       ┌─────────────────┴─────┐                   \n",
      " │       │                       NP                 \n",
      " │       │           ┌───────────┴───┐               \n",
      " │       │           │               PP             \n",
      " │       │           │           ┌───┴───┐           \n",
      " NP      │           NP          │       NP         \n",
      " │       │       ┌───┴─────┐     │   ┌───┴─────┐     \n",
      "PRON     V      DET        N     P  DET        N    \n",
      " │       │       │         │     │   │         │     \n",
      " Er  beobachtet das     Mädchen mit dem     Fernglas\n",
      "\n"
     ]
    }
   ],
   "source": [
    "#lowest cost first Chart Parser (Sortierung nach Wahrscheinlichkeit der Zustände/Teilableitungen):\n",
    "inside_parser = nltk.InsideChartParser(grammar, trace=1)\n",
    "for tree in inside_parser.parse(sent.split()):\n",
    "    print(tree)\n",
    "    tree.pretty_print(unicodelines=True)"
   ]
  },
  {
   "cell_type": "code",
   "execution_count": 9,
   "metadata": {},
   "outputs": [
    {
     "name": "stdout",
     "output_type": "stream",
     "text": [
      "  |. . . . . . [-]| [6:7] 'Fernglas'                 [1.0]\n",
      "  |. . . . . . [-]| [6:7] N  -> 'Fernglas' *         [0.5]\n",
      "  |. . . . . [-] .| [5:6] 'dem'                      [1.0]\n",
      "  |. . . . . [-] .| [5:6] DET -> 'dem' *             [0.5]\n",
      "  |. . . . . [-> .| [5:6] NP -> DET * N              [0.25]\n",
      "  |. . . . . [---]| [5:7] NP -> DET N *              [0.125]\n",
      "  |. . . . . [--->| [5:7] NP -> NP * PP              [0.025]\n",
      "  |. . . . . [--->| [5:7] S  -> NP * VP              [0.125]\n",
      "  |. . . . [-] . .| [4:5] 'mit'                      [1.0]\n",
      "  |. . . . [-] . .| [4:5] P  -> 'mit' *              [1.0]\n",
      "  |. . . . [-> . .| [4:5] PP -> P * NP               [1.0]\n",
      "  |. . . . [-----]| [4:7] PP -> P NP *               [0.125]\n",
      "  |. . . [-] . . .| [3:4] 'Mädchen'                  [1.0]\n",
      "  |. . . [-] . . .| [3:4] N  -> 'Mädchen' *          [0.5]\n",
      "  |. . [-] . . . .| [2:3] 'das'                      [1.0]\n",
      "  |. . [-] . . . .| [2:3] DET -> 'das' *             [0.5]\n",
      "  |. . [-> . . . .| [2:3] NP -> DET * N              [0.25]\n",
      "  |. . [---] . . .| [2:4] NP -> DET N *              [0.125]\n",
      "  |. . [---> . . .| [2:4] NP -> NP * PP              [0.025]\n",
      "  |. . [---------]| [2:7] NP -> NP PP *              [0.003125]\n",
      "  |. . [--------->| [2:7] NP -> NP * PP              [0.0006250000000000001]\n",
      "  |. . [--------->| [2:7] S  -> NP * VP              [0.003125]\n",
      "  |. . [---> . . .| [2:4] S  -> NP * VP              [0.125]\n",
      "  |. [-] . . . . .| [1:2] 'beobachtet'               [1.0]\n",
      "  |. [-] . . . . .| [1:2] V  -> 'beobachtet' *       [1.0]\n",
      "  |. [-> . . . . .| [1:2] VP -> V * NP               [0.3]\n",
      "  |. [-----------]| [1:7] VP -> V NP *               [0.0009375]\n",
      "  |. [----------->| [1:7] VP -> VP * PP              [0.0005625]\n",
      "  |. [-----] . . .| [1:4] VP -> V NP *               [0.0375]\n",
      "  |. [-----> . . .| [1:4] VP -> VP * PP              [0.0225]\n",
      "  |. [-----------]| [1:7] VP -> VP PP *              [0.0028125]\n",
      "  |. [----------->| [1:7] VP -> VP * PP              [0.0016875]\n",
      "  |. [-] . . . . .| [1:2] VP -> V *                  [0.1]\n",
      "  |. [-> . . . . .| [1:2] VP -> VP * PP              [0.06]\n",
      "  |[-] . . . . . .| [0:1] 'Er'                       [1.0]\n",
      "  |[-] . . . . . .| [0:1] PRON -> 'Er' *             [1.0]\n",
      "  |[-] . . . . . .| [0:1] NP -> PRON *               [0.3]\n",
      "  |[-> . . . . . .| [0:1] NP -> NP * PP              [0.06]\n",
      "  |[-> . . . . . .| [0:1] S  -> NP * VP              [0.3]\n",
      "  |[=============]| [0:7] S  -> NP VP *              [0.00084375]\n",
      "  |[=============]| [0:7] S  -> NP VP *              [0.00028125]\n",
      "  |[-------] . . .| [0:4] S  -> NP VP *              [0.01125]\n",
      "  |[---] . . . . .| [0:2] S  -> NP VP *              [0.03]\n",
      "  |> . . . . . . .| [0:0] NP -> * NP PP              [0.2]\n",
      "  |> . . . . . . .| [0:0] S  -> * NP VP              [1.0]\n",
      "  |> . . . . . . .| [0:0] NP -> * PRON               [0.3]\n",
      "  |> . . . . . . .| [0:0] PRON -> * 'Er'             [1.0]\n",
      "  |. > . . . . . .| [1:1] VP -> * VP PP              [0.6]\n",
      "  |. > . . . . . .| [1:1] VP -> * V NP               [0.3]\n",
      "  |. > . . . . . .| [1:1] VP -> * V                  [0.1]\n",
      "  |. > . . . . . .| [1:1] V  -> * 'beobachtet'       [1.0]\n",
      "  |. . > . . . . .| [2:2] NP -> * NP PP              [0.2]\n",
      "  |. . > . . . . .| [2:2] S  -> * NP VP              [1.0]\n",
      "  |. . > . . . . .| [2:2] NP -> * DET N              [0.5]\n",
      "  |. . > . . . . .| [2:2] DET -> * 'das'             [0.5]\n",
      "  |. . . > . . . .| [3:3] N  -> * 'Mädchen'          [0.5]\n",
      "  |. . . . > . . .| [4:4] PP -> * P NP               [1.0]\n",
      "  |. . . . > . . .| [4:4] P  -> * 'mit'              [1.0]\n",
      "  |. . . . . > . .| [5:5] NP -> * NP PP              [0.2]\n",
      "  |. . . . . > . .| [5:5] S  -> * NP VP              [1.0]\n",
      "  |. . . . . > . .| [5:5] NP -> * DET N              [0.5]\n",
      "  |. . . . . > . .| [5:5] DET -> * 'dem'             [0.5]\n",
      "  |. . . . . . > .| [6:6] N  -> * 'Fernglas'         [0.5]\n",
      "(S\n",
      "  (NP (PRON Er))\n",
      "  (VP\n",
      "    (VP (V beobachtet) (NP (DET das) (N Mädchen)))\n",
      "    (PP (P mit) (NP (DET dem) (N Fernglas))))) (p=0.00084375)\n",
      "         S                                          \n",
      " ┌───────┴─────────────────┐                         \n",
      " │                         VP                       \n",
      " │               ┌─────────┴─────────┐               \n",
      " │               VP                  PP             \n",
      " │       ┌───────┴───┐           ┌───┴───┐           \n",
      " NP      │           NP          │       NP         \n",
      " │       │       ┌───┴─────┐     │   ┌───┴─────┐     \n",
      "PRON     V      DET        N     P  DET        N    \n",
      " │       │       │         │     │   │         │     \n",
      " Er  beobachtet das     Mädchen mit dem     Fernglas\n",
      "\n",
      "(S\n",
      "  (NP (PRON Er))\n",
      "  (VP\n",
      "    (V beobachtet)\n",
      "    (NP\n",
      "      (NP (DET das) (N Mädchen))\n",
      "      (PP (P mit) (NP (DET dem) (N Fernglas)))))) (p=0.00028125)\n",
      "         S                                          \n",
      " ┌───────┴─────────────────┐                         \n",
      " │                         VP                       \n",
      " │       ┌─────────────────┴─────┐                   \n",
      " │       │                       NP                 \n",
      " │       │           ┌───────────┴───┐               \n",
      " │       │           │               PP             \n",
      " │       │           │           ┌───┴───┐           \n",
      " NP      │           NP          │       NP         \n",
      " │       │       ┌───┴─────┐     │   ┌───┴─────┐     \n",
      "PRON     V      DET        N     P  DET        N    \n",
      " │       │       │         │     │   │         │     \n",
      " Er  beobachtet das     Mädchen mit dem     Fernglas\n",
      "\n"
     ]
    }
   ],
   "source": [
    "#best-first Chart Parser (Sortierung nach Länge der Zustände/Teilableitungen):\n",
    "longest_parser = nltk.LongestChartParser(grammar, trace=1)\n",
    "for tree in longest_parser.parse(sent.split()):\n",
    "    print(tree)\n",
    "    tree.pretty_print(unicodelines=True)"
   ]
  },
  {
   "cell_type": "code",
   "execution_count": 10,
   "metadata": {},
   "outputs": [
    {
     "name": "stdout",
     "output_type": "stream",
     "text": [
      "Inserting tokens into the most likely constituents table...\n",
      "   Insert: |=......| Er\n",
      "   Insert: |.=.....| beobachtet\n",
      "   Insert: |..=....| das\n",
      "   Insert: |...=...| Mädchen\n",
      "   Insert: |....=..| mit\n",
      "   Insert: |.....=.| dem\n",
      "   Insert: |......=| Fernglas\n",
      "Finding the most likely constituents spanning 1 text elements...\n",
      "   Insert: |=......| PRON -> 'Er' [1.0]\n",
      "   Insert: |=......| NP -> PRON [0.3]\n",
      "   Insert: |.=.....| V -> 'beobachtet' [1.0]\n",
      "   Insert: |.=.....| VP -> V [0.1]\n",
      "   Insert: |..=....| DET -> 'das' [0.5]\n",
      "   Insert: |...=...| N -> 'Mädchen' [0.5]\n",
      "   Insert: |....=..| P -> 'mit' [1.0]\n",
      "   Insert: |.....=.| DET -> 'dem' [0.5]\n",
      "   Insert: |......=| N -> 'Fernglas' [0.5]\n",
      "Finding the most likely constituents spanning 2 text elements...\n",
      "   Insert: |==.....| S -> NP VP [1.0]\n",
      "   Insert: |..==...| NP -> DET N [0.5]\n",
      "   Insert: |.....==| NP -> DET N [0.5]\n",
      "Finding the most likely constituents spanning 3 text elements...\n",
      "   Insert: |.===...| VP -> V NP [0.3]\n",
      "   Insert: |....===| PP -> P NP [1.0]\n",
      "Finding the most likely constituents spanning 4 text elements...\n",
      "   Insert: |====...| S -> NP VP [1.0]\n",
      "Finding the most likely constituents spanning 5 text elements...\n",
      "   Insert: |..=====| NP -> NP PP [0.2]\n",
      "Finding the most likely constituents spanning 6 text elements...\n",
      "   Insert: |.======| VP -> V NP [0.3]\n",
      "   Insert: |.======| VP -> VP PP [0.6]\n",
      "  Discard: |.======| VP -> V NP [0.3]\n",
      "Finding the most likely constituents spanning 7 text elements...\n",
      "   Insert: |=======| S -> NP VP [1.0]\n",
      "(S\n",
      "  (NP (PRON Er))\n",
      "  (VP\n",
      "    (VP (V beobachtet) (NP (DET das) (N Mädchen)))\n",
      "    (PP (P mit) (NP (DET dem) (N Fernglas))))) (p=0.00084375)\n",
      "         S                                          \n",
      " ┌───────┴─────────────────┐                         \n",
      " │                         VP                       \n",
      " │               ┌─────────┴─────────┐               \n",
      " │               VP                  PP             \n",
      " │       ┌───────┴───┐           ┌───┴───┐           \n",
      " NP      │           NP          │       NP         \n",
      " │       │       ┌───┴─────┐     │   ┌───┴─────┐     \n",
      "PRON     V      DET        N     P  DET        N    \n",
      " │       │       │         │     │   │         │     \n",
      " Er  beobachtet das     Mädchen mit dem     Fernglas\n",
      "\n"
     ]
    }
   ],
   "source": [
    "# Viterbi Parser mit dynamischer Programmierung (effizientes Auffinden der wahrscheinlichsten Ableitung)\n",
    "viterbi_parser = nltk.ViterbiParser(grammar, trace=2)\n",
    "for tree in viterbi_parser.parse(sent.split()):\n",
    "    print(tree)\n",
    "    tree.pretty_print(unicodelines=True)"
   ]
  },
  {
   "cell_type": "code",
   "execution_count": 11,
   "metadata": {},
   "outputs": [
    {
     "name": "stdout",
     "output_type": "stream",
     "text": [
      "  |. . . . . . [-]| [6:7] 'Fernglas'                 [1.0]\n",
      "  |. . . . . [-] .| [5:6] 'dem'                      [1.0]\n",
      "  |. . . . [-] . .| [4:5] 'mit'                      [1.0]\n",
      "  |. . . . [-] . .| [4:5] P  -> 'mit' *              [1.0]\n",
      "  |. . . . [-> . .| [4:5] PP -> P * NP               [1.0]\n",
      "  |. . . . > . . .| [4:4] PP -> * P NP               [1.0]\n",
      "  |. . . . > . . .| [4:4] P  -> * 'mit'              [1.0]\n",
      "  |. . . [-] . . .| [3:4] 'Mädchen'                  [1.0]\n",
      "  |. . [-] . . . .| [2:3] 'das'                      [1.0]\n",
      "  |. [-] . . . . .| [1:2] 'beobachtet'               [1.0]\n",
      "  |. [-] . . . . .| [1:2] V  -> 'beobachtet' *       [1.0]\n",
      "  |. > . . . . . .| [1:1] V  -> * 'beobachtet'       [1.0]\n",
      "  |[-] . . . . . .| [0:1] 'Er'                       [1.0]\n",
      "  |[-] . . . . . .| [0:1] PRON -> 'Er' *             [1.0]\n",
      "  |> . . . . . . .| [0:0] PRON -> * 'Er'             [1.0]\n",
      "  |. . [-] . . . .| [2:3] DET -> 'das' *             [0.5]\n",
      "  |. . > . . . . .| [2:2] NP -> * DET N              [0.5]\n",
      "  |. . > . . . . .| [2:2] DET -> * 'das'             [0.5]\n",
      "  |. . . [-] . . .| [3:4] N  -> 'Mädchen' *          [0.5]\n",
      "  |. . . > . . . .| [3:3] N  -> * 'Mädchen'          [0.5]\n",
      "  |[-] . . . . . .| [0:1] NP -> PRON *               [0.3]\n",
      "  |> . . . . . . .| [0:0] S  -> * NP VP              [1.0]\n",
      "  |[-> . . . . . .| [0:1] S  -> NP * VP              [0.3]\n",
      "  |> . . . . . . .| [0:0] NP -> * PRON               [0.3]\n",
      "  |. . [-> . . . .| [2:3] NP -> DET * N              [0.25]\n",
      "  |> . . . . . . .| [0:0] NP -> * NP PP              [0.2]\n",
      "  |. . [---] . . .| [2:4] NP -> DET N *              [0.125]\n",
      "  |. . > . . . . .| [2:2] S  -> * NP VP              [1.0]\n",
      "  |. . > . . . . .| [2:2] NP -> * NP PP              [0.2]\n",
      "  |. . [---> . . .| [2:4] S  -> NP * VP              [0.125]\n",
      "  |[-> . . . . . .| [0:1] NP -> NP * PP              [0.06]\n",
      "  |. [-----] . . .| [1:4] VP -> V NP *               [0.0375]\n",
      "  |. > . . . . . .| [1:1] VP -> * VP PP              [0.6]\n",
      "  |. [-> . . . . .| [1:2] VP -> VP * PP              [0.06]\n",
      "  |[---] . . . . .| [0:2] S  -> NP VP *              [0.03]\n",
      "  |. . [---> . . .| [2:4] NP -> NP * PP              [0.025]\n",
      "  |. [-----> . . .| [1:4] VP -> VP * PP              [0.0225]\n",
      "  |[-------] . . .| [0:4] S  -> NP VP *              [0.01125]\n"
     ]
    }
   ],
   "source": [
    "#lowest cost first Chart Parser mit Pruning (kein Ergebnis garantiert):\n",
    "beam_parser = nltk.InsideChartParser(grammar, beam_size=7, trace=1)\n",
    "for tree in beam_parser.parse(sent.split()):\n",
    "    print(tree)\n",
    "    tree.pretty_print(unicodelines=True)"
   ]
  },
  {
   "cell_type": "markdown",
   "metadata": {},
   "source": [
    "## Aufgabe 3 - Abschätzung von Regelwahrscheinlichkeiten"
   ]
  },
  {
   "cell_type": "markdown",
   "metadata": {},
   "source": [
    "###  a) Herunterladen von Ressourcen und Verarbeitung von CFG-Regeln mit NLTK\n",
    "\n",
    "#### Laden Sie zunächst die Ressource „corpora/treebank“ mithilfe des NLTK-Download-Managers herunter, falls diese noch nicht installiert ist."
   ]
  },
  {
   "cell_type": "code",
   "execution_count": 12,
   "metadata": {},
   "outputs": [],
   "source": [
    "# nltk.download()"
   ]
  },
  {
   "cell_type": "markdown",
   "metadata": {},
   "source": [
    " #### Hier ein Beispiel für geparste Sätze in der Penn Treebank:"
   ]
  },
  {
   "cell_type": "code",
   "execution_count": 13,
   "metadata": {},
   "outputs": [
    {
     "name": "stdout",
     "output_type": "stream",
     "text": [
      "(S\n",
      "  (NP-SBJ\n",
      "    (NP (NNP Pierre) (NNP Vinken))\n",
      "    (, ,)\n",
      "    (ADJP (NP (CD 61) (NNS years)) (JJ old))\n",
      "    (, ,))\n",
      "  (VP\n",
      "    (MD will)\n",
      "    (VP\n",
      "      (VB join)\n",
      "      (NP (DT the) (NN board))\n",
      "      (PP-CLR (IN as) (NP (DT a) (JJ nonexecutive) (NN director)))\n",
      "      (NP-TMP (NNP Nov.) (CD 29))))\n",
      "  (. .))\n",
      "(S\n",
      "  (NP-SBJ (NNP Mr.) (NNP Vinken))\n",
      "  (VP\n",
      "    (VBZ is)\n",
      "    (NP-PRD\n",
      "      (NP (NN chairman))\n",
      "      (PP\n",
      "        (IN of)\n",
      "        (NP\n",
      "          (NP (NNP Elsevier) (NNP N.V.))\n",
      "          (, ,)\n",
      "          (NP (DT the) (NNP Dutch) (VBG publishing) (NN group))))))\n",
      "  (. .))\n"
     ]
    }
   ],
   "source": [
    "from nltk.corpus import treebank\n",
    "\n",
    "for tree in treebank.parsed_sents('wsj_0001.mrg'):\n",
    "    print(tree)"
   ]
  },
  {
   "cell_type": "markdown",
   "metadata": {},
   "source": [
    "#### Hier ein Beispiel für die Verarbeitung solcher CFG-Regeln im NLTK:"
   ]
  },
  {
   "cell_type": "code",
   "execution_count": 14,
   "metadata": {},
   "outputs": [
    {
     "data": {
      "text/plain": [
       "[S -> NP-SBJ VP .,\n",
       " NP-SBJ -> NNP NNP,\n",
       " NNP -> 'Mr.',\n",
       " NNP -> 'Vinken',\n",
       " VP -> VBZ NP-PRD,\n",
       " VBZ -> 'is',\n",
       " NP-PRD -> NP PP,\n",
       " NP -> NN,\n",
       " NN -> 'chairman',\n",
       " PP -> IN NP,\n",
       " IN -> 'of',\n",
       " NP -> NP , NP,\n",
       " NP -> NNP NNP,\n",
       " NNP -> 'Elsevier',\n",
       " NNP -> 'N.V.',\n",
       " , -> ',',\n",
       " NP -> DT NNP VBG NN,\n",
       " DT -> 'the',\n",
       " NNP -> 'Dutch',\n",
       " VBG -> 'publishing',\n",
       " NN -> 'group',\n",
       " . -> '.']"
      ]
     },
     "execution_count": 14,
     "metadata": {},
     "output_type": "execute_result"
    }
   ],
   "source": [
    "productions = tree.productions()\n",
    "productions"
   ]
  },
  {
   "cell_type": "code",
   "execution_count": 15,
   "metadata": {},
   "outputs": [
    {
     "data": {
      "text/plain": [
       "S"
      ]
     },
     "execution_count": 15,
     "metadata": {},
     "output_type": "execute_result"
    }
   ],
   "source": [
    "productions[0].lhs()"
   ]
  },
  {
   "cell_type": "code",
   "execution_count": 16,
   "metadata": {},
   "outputs": [
    {
     "data": {
      "text/plain": [
       "(NP-SBJ, VP, .)"
      ]
     },
     "execution_count": 16,
     "metadata": {},
     "output_type": "execute_result"
    }
   ],
   "source": [
    "productions[0].rhs()"
   ]
  },
  {
   "cell_type": "code",
   "execution_count": 17,
   "metadata": {},
   "outputs": [
    {
     "data": {
      "text/plain": [
       "nltk.grammar.Nonterminal"
      ]
     },
     "execution_count": 17,
     "metadata": {},
     "output_type": "execute_result"
    }
   ],
   "source": [
    "type(productions[0].lhs())"
   ]
  },
  {
   "cell_type": "code",
   "execution_count": 18,
   "metadata": {},
   "outputs": [
    {
     "data": {
      "text/plain": [
       "True"
      ]
     },
     "execution_count": 18,
     "metadata": {},
     "output_type": "execute_result"
    }
   ],
   "source": [
    "productions[0].lhs() == nltk.grammar.Nonterminal('S')"
   ]
  },
  {
   "cell_type": "markdown",
   "metadata": {},
   "source": [
    "### b) von Daten zu Regelwahrscheinlichkeiten\n",
    "\n",
    "#### Gegeben sei folgende kontextfreie Grammatik:"
   ]
  },
  {
   "cell_type": "code",
   "execution_count": 19,
   "metadata": {},
   "outputs": [],
   "source": [
    "grammar = nltk.CFG.fromstring(\"\"\"\n",
    "S -> NP VP\n",
    "VP -> V NP PP\n",
    "VP -> V NP\n",
    "NP -> DET N\n",
    "NP -> NP PP\n",
    "PP -> P NP\n",
    "\n",
    "DET -> \"the\" | \"a\"\n",
    "N -> \"boy\" | \"woman\" | \"telescope\"\n",
    "V -> \"saw\"\n",
    "P -> \"with\"\n",
    "\"\"\")"
   ]
  },
  {
   "cell_type": "markdown",
   "metadata": {},
   "source": [
    "#### Sie modelliert sehr einfache Sätze der Form `SBJ` *saw* `OBJ` mit optionaler Präpositionalphrase am Ende. Diese Präpositionalphrase kann entweder der näheren Bestimmung des Objekts oder der näheren Bestimmung der in der Verbalphrase ausgedrückten Handlung dienen.\n"
   ]
  },
  {
   "cell_type": "code",
   "execution_count": 20,
   "metadata": {},
   "outputs": [
    {
     "name": "stdout",
     "output_type": "stream",
     "text": [
      "                 S                                  \n",
      "     ┌───────────┴────────┐                          \n",
      "     │                    VP                        \n",
      "     │       ┌───────┬────┴─────────┐                \n",
      "     │       │       │              PP              \n",
      "     │       │       │         ┌────┴───┐            \n",
      "     NP      │       NP        │        NP          \n",
      " ┌───┴───┐   │   ┌───┴────┐    │    ┌───┴──────┐     \n",
      "DET      N   V  DET       N    P   DET         N    \n",
      " │       │   │   │        │    │    │          │     \n",
      "the     boy saw  a      woman with  a      telescope\n",
      "\n",
      "                 S                                  \n",
      "     ┌───────────┴────────┐                          \n",
      "     │                    VP                        \n",
      "     │       ┌────────────┴────┐                     \n",
      "     │       │                 NP                   \n",
      "     │       │       ┌─────────┴────┐                \n",
      "     │       │       │              PP              \n",
      "     │       │       │         ┌────┴───┐            \n",
      "     NP      │       NP        │        NP          \n",
      " ┌───┴───┐   │   ┌───┴────┐    │    ┌───┴──────┐     \n",
      "DET      N   V  DET       N    P   DET         N    \n",
      " │       │   │   │        │    │    │          │     \n",
      "the     boy saw  a      woman with  a      telescope\n",
      "\n"
     ]
    }
   ],
   "source": [
    "sent = \"the boy saw a woman with a telescope\"\n",
    "\n",
    "parser = nltk.ChartParser(grammar,trace=0)\n",
    "for tree in parser.parse(sent.split()):\n",
    "    tree.pretty_print(unicodelines=True)"
   ]
  },
  {
   "cell_type": "markdown",
   "metadata": {},
   "source": [
    "#### Im folgenden sollen aus einer Treebank Wahrscheinlichkeiten für die einzelnen Regeln extrahiert werden, um diese Ambiguität aufzulösen.\n",
    "\n",
    "#### Nutzen Sie das im NLTK enthaltene Sample der Penn Treebank (nach Installation unter `nltk.corpus.treebank` zu finden) zunächst zur Identifikation der für eine Disambiguierung nützlichen (Teil-)bäume der Penn Treebank. Dazu zählen Sie zu einem gegebenen Nonterminal als LHS die Produktionen in der Treebank.\n",
    "\n",
    "#### *Hinweis:* Sie können sich bei der Analyse auf die 30 häufigsten Konstruktionen der Baumbank beschränken.\n"
   ]
  },
  {
   "cell_type": "code",
   "execution_count": 21,
   "metadata": {},
   "outputs": [
    {
     "data": {
      "text/plain": [
       "[(S -> NP-SBJ VP, 3391),\n",
       " (S -> NP-SBJ VP ., 1405),\n",
       " (S -> -NONE-, 477),\n",
       " (S -> NP-SBJ-1 VP, 371),\n",
       " (S -> NP-SBJ-1 VP ., 266),\n",
       " (S -> NP-SBJ-2 VP, 201),\n",
       " (S -> S , CC S ., 94),\n",
       " (S -> CC NP-SBJ VP ., 89),\n",
       " (S -> PP-LOC , NP-SBJ VP ., 68),\n",
       " (S -> PP , NP-SBJ VP ., 68),\n",
       " (S -> NP-SBJ VP . '', 67),\n",
       " (S -> NP-SBJ-3 VP, 66),\n",
       " (S -> PP-TMP , NP-SBJ VP ., 65),\n",
       " (S -> NP-SBJ ADVP VP ., 65),\n",
       " (S -> S-TPC-1 , NP-SBJ VP ., 63),\n",
       " (S -> NP-SBJ ADVP-TMP VP, 55),\n",
       " (S -> `` S-TPC-1 , '' NP-SBJ VP ., 52),\n",
       " (S -> NP-SBJ ADVP VP, 51),\n",
       " (S -> NP-SBJ NP-PRD, 47),\n",
       " (S -> NP-SBJ ADJP-PRD, 46),\n",
       " (S -> ADVP , NP-SBJ VP ., 44),\n",
       " (S -> SBAR-ADV , NP-SBJ VP ., 43),\n",
       " (S -> S : S ., 43),\n",
       " (S -> S-TPC-2 , NP-SBJ VP ., 32),\n",
       " (S -> S CC S, 28),\n",
       " (S -> NP-SBJ ADVP-TMP VP ., 25),\n",
       " (S -> ADVP-TMP , NP-SBJ VP ., 24),\n",
       " (S -> NP-SBJ-2 VP ., 24),\n",
       " (S -> `` NP-SBJ VP . '', 24),\n",
       " (S -> S CC S ., 23)]"
      ]
     },
     "execution_count": 21,
     "metadata": {},
     "output_type": "execute_result"
    }
   ],
   "source": [
    "from collections import defaultdict\n",
    "\n",
    "def find_relevant_constructions(lhs):\n",
    "    counter = defaultdict(int)\n",
    "    #LOESUNG: zähle Produktionen in treebank mit lhs als linker Seite\n",
    "    for tree in treebank.parsed_sents():  # Format: [(S (NP DET N) (VP V NP))]\n",
    "        for prod in tree.productions():   # Format: [(S, NP VP), (NP, DET N), (VP, V NP)]\n",
    "            if prod.lhs() == nltk.grammar.Nonterminal(lhs):\n",
    "                counter[prod] += 1\n",
    "    constructions = [ (k, counter[k]) for k in sorted(counter.keys(), key=counter.__getitem__, reverse=True) ]\n",
    "    return constructions[:30]\n",
    "\n",
    "find_relevant_constructions(\"S\") #example"
   ]
  },
  {
   "cell_type": "markdown",
   "metadata": {},
   "source": [
    " #### Für welche Regeln müssen wir die Wahrscheinlichkeiten berechnen, wenn wir mit statistischen Methoden untersuchen wollen, ob PPs häufiger Teil der VP oder Teil der NP sind?"
   ]
  },
  {
   "cell_type": "code",
   "execution_count": 22,
   "metadata": {},
   "outputs": [],
   "source": [
    "# Antwort:\n",
    "# VP -> V NP PP\n",
    "# NP -> NP PP"
   ]
  },
  {
   "cell_type": "markdown",
   "metadata": {},
   "source": [
    "### c) Abschätzung der Wahrscheinlichkeiten für relevante Regeln\n",
    "\n",
    "#### Approximieren Sie mittels vergleichbarer Konstruktionen in der Penn Treebank die Wahrscheinlichkeiten der für die Disambiguierung der PP-Ambiguität relevanten Regeln mit Maximum Likelihood Estimation (MLE)."
   ]
  },
  {
   "cell_type": "markdown",
   "metadata": {},
   "source": [
    "#### (i) Zählen Sie zunächst für die V+NP+PP-Konstruktion, wie oft sie in der Penn Treebank vorkommen und berechnen Sie die relativen Häufigkeiten als Approximation der Regelwahrscheinlichkeiten:\n",
    "\n",
    "$$P(V, N\\!P, P\\!P \\mid V\\!P) = \\dfrac{count(V\\!P \\rightarrow V\\:N\\!P\\:P\\!P)}{count(V\\!P \\rightarrow \\setminus*)}$$\n",
    "\n",
    "**hier (vgl. Grammatik):**\n",
    "\n",
    "$$= \\dfrac{count(V\\!P \\rightarrow V\\:N\\!P\\:P\\!P)}{count(V\\!P \\rightarrow V\\:N\\!P\\:P\\!P) + count(V\\!P \\rightarrow V\\:N\\!P)}$$"
   ]
  },
  {
   "cell_type": "code",
   "execution_count": 23,
   "metadata": {},
   "outputs": [
    {
     "data": {
      "text/plain": [
       "[(VP -> TO VP, 1257),\n",
       " (VP -> VB NP, 805),\n",
       " (VP -> MD VP, 759),\n",
       " (VP -> VBD SBAR, 631),\n",
       " (VP -> VBZ VP, 459),\n",
       " (VP -> VBD NP, 378),\n",
       " (VP -> VBG NP, 375),\n",
       " (VP -> VBD VP, 361),\n",
       " (VP -> VBP VP, 337),\n",
       " (VP -> VBZ NP, 261),\n",
       " (VP -> VB VP, 258),\n",
       " (VP -> VBN NP, 250),\n",
       " (VP -> VP CC VP, 234),\n",
       " (VP -> VBD S, 223),\n",
       " (VP -> VBZ S, 215),\n",
       " (VP -> VBZ SBAR, 197),\n",
       " (VP -> VBP NP, 185),\n",
       " (VP -> VBN NP PP-CLR, 178),\n",
       " (VP -> VBN NP PP, 170),\n",
       " (VP -> VBZ NP-PRD, 163),\n",
       " (VP -> VB S, 155),\n",
       " (VP -> VBN S, 141),\n",
       " (VP -> VBP SBAR, 121),\n",
       " (VP -> VB PP-CLR, 107),\n",
       " (VP -> VBG S, 89),\n",
       " (VP -> VBP S, 88),\n",
       " (VP -> VB NP PP-CLR, 88),\n",
       " (VP -> VBZ ADJP-PRD, 87),\n",
       " (VP -> VBN VP, 84),\n",
       " (VP -> MD RB VP, 82)]"
      ]
     },
     "execution_count": 23,
     "metadata": {},
     "output_type": "execute_result"
    }
   ],
   "source": [
    "find_relevant_constructions('VP')"
   ]
  },
  {
   "cell_type": "code",
   "execution_count": 24,
   "metadata": {},
   "outputs": [
    {
     "data": {
      "text/plain": [
       "(0.15282159130739573, 0.8471784086926043)"
      ]
     },
     "execution_count": 24,
     "metadata": {},
     "output_type": "execute_result"
    }
   ],
   "source": [
    "vp_v_np_pp_frq = 178 + 170 + 88\n",
    "vp_v_np_without_frq = 805 + 378 + 375 + 261 + 250 + 185 + 163\n",
    "\n",
    "vp_with_pp = vp_v_np_pp_frq / (vp_v_np_pp_frq + vp_v_np_without_frq)\n",
    "vp_without = vp_v_np_without_frq / (vp_v_np_pp_frq + vp_v_np_without_frq)\n",
    "\n",
    "(vp_with_pp, vp_without)"
   ]
  },
  {
   "cell_type": "markdown",
   "metadata": {},
   "source": [
    "#### (ii) Zählen Sie anschließend, wie oft die NP+PP-Konstruktion in der Penn Treebank vorkommt und berechnen Sie die relativen Häufigkeiten als Approximation der Regelwahrscheinlichkeiten. Das Vorgehen wird in folgender Formel veranschaulicht:\n",
    "\n",
    "$$P(N\\!P, P\\!P \\mid N\\!P) = \\dfrac{count(N\\!P \\rightarrow \\:N\\!P\\:P\\!P)}{count(N\\!P \\rightarrow \\setminus*)}$$\n",
    "\n",
    "**hier:**\n",
    "\n",
    "$$= \\dfrac{count(N\\!P \\rightarrow \\:N\\!P\\:P\\!P)}{count(N\\!P \\rightarrow \\:N\\!P\\:P\\!P) + count(N\\!P \\rightarrow DET\\:N)}$$\n",
    "\n"
   ]
  },
  {
   "cell_type": "code",
   "execution_count": 25,
   "metadata": {},
   "outputs": [
    {
     "data": {
      "text/plain": [
       "[(NP -> NP PP, 2188),\n",
       " (NP -> DT NN, 2020),\n",
       " (NP -> -NONE-, 1225),\n",
       " (NP -> NN, 1110),\n",
       " (NP -> NNS, 996),\n",
       " (NP -> NNP, 837),\n",
       " (NP -> DT JJ NN, 740),\n",
       " (NP -> NNP NNP, 734),\n",
       " (NP -> JJ NNS, 653),\n",
       " (NP -> NP SBAR, 409),\n",
       " (NP -> JJ NN, 390),\n",
       " (NP -> QP -NONE-, 365),\n",
       " (NP -> NP PP-LOC, 363),\n",
       " (NP -> DT NNS, 358),\n",
       " (NP -> CD, 327),\n",
       " (NP -> DT NN NN, 313),\n",
       " (NP -> NN NNS, 304),\n",
       " (NP -> NP CC NP, 289),\n",
       " (NP -> NNP NNP NNP, 282),\n",
       " (NP -> PRP, 280),\n",
       " (NP -> CD NNS, 261),\n",
       " (NP -> NP VP, 258),\n",
       " (NP -> CD NN, 258),\n",
       " (NP -> NNP POS, 230),\n",
       " (NP -> NN NN, 219),\n",
       " (NP -> $ CD -NONE-, 213),\n",
       " (NP -> DT NN POS, 191),\n",
       " (NP -> PRP$ NN, 190),\n",
       " (NP -> NP NN, 163),\n",
       " (NP -> NP , NP, 150)]"
      ]
     },
     "execution_count": 25,
     "metadata": {},
     "output_type": "execute_result"
    }
   ],
   "source": [
    "find_relevant_constructions('NP')"
   ]
  },
  {
   "cell_type": "code",
   "execution_count": 26,
   "metadata": {},
   "outputs": [
    {
     "data": {
      "text/plain": [
       "(0.5175491986204098, 0.4824508013795902)"
      ]
     },
     "execution_count": 26,
     "metadata": {},
     "output_type": "execute_result"
    }
   ],
   "source": [
    "np_np_pp_frq = 2188 + 363\n",
    "np_n_without_frq = 2020 + 358\n",
    "\n",
    "np_with_pp = np_np_pp_frq / (np_np_pp_frq + np_n_without_frq)\n",
    "np_without = np_n_without_frq / (np_np_pp_frq + np_n_without_frq)\n",
    "\n",
    "(np_with_pp, np_without)"
   ]
  },
  {
   "cell_type": "markdown",
   "metadata": {},
   "source": [
    "### d) Erstellen einer PCFG\n",
    "\n",
    "#### Die aus den Daten extrahierten relativen Häufigkeiten sollen nun zur Erstellung einer probabilistischen kontextfreien Grammatik (PCFG)  genutzt werden."
   ]
  },
  {
   "cell_type": "code",
   "execution_count": 27,
   "metadata": {},
   "outputs": [
    {
     "data": {
      "text/plain": [
       "(0.15282159130739573,\n",
       " 0.8471784086926043,\n",
       " 0.5175491986204098,\n",
       " 0.4824508013795902)"
      ]
     },
     "execution_count": 27,
     "metadata": {},
     "output_type": "execute_result"
    }
   ],
   "source": [
    "(vp_with_pp, vp_without, np_with_pp, np_without)"
   ]
  },
  {
   "cell_type": "code",
   "execution_count": 28,
   "metadata": {},
   "outputs": [
    {
     "name": "stdout",
     "output_type": "stream",
     "text": [
      "Grammar with 13 productions (start state = S)\n",
      "    S -> NP VP [1.0]\n",
      "    VP -> V NP PP [0.152822]\n",
      "    VP -> V NP [0.847178]\n",
      "    NP -> DET N [0.482451]\n",
      "    NP -> NP PP [0.517549]\n",
      "    PP -> P NP [1.0]\n",
      "    DET -> 'the' [0.7]\n",
      "    DET -> 'a' [0.3]\n",
      "    N -> 'boy' [0.4]\n",
      "    N -> 'woman' [0.4]\n",
      "    N -> 'telescope' [0.2]\n",
      "    V -> 'saw' [1.0]\n",
      "    P -> 'with' [1.0]\n"
     ]
    }
   ],
   "source": [
    "pcfg = f\"\"\"\n",
    "S -> NP VP     [1.0]\n",
    "VP -> V NP PP  [{vp_with_pp}]\n",
    "VP -> V NP     [{vp_without}]\n",
    "NP -> DET N    [{np_without}]\n",
    "NP -> NP PP    [{np_with_pp}]\n",
    "PP -> P NP     [1.0]\n",
    "\n",
    "DET -> \"the\"     [0.7]\n",
    "DET -> \"a\"       [0.3]\n",
    "N -> \"boy\"       [0.4]\n",
    "N -> \"woman\"     [0.4]\n",
    "N -> \"telescope\" [0.2]\n",
    "V -> \"saw\"       [1.0]\n",
    "P -> \"with\"      [1.0]\n",
    "\"\"\"\n",
    "\n",
    "grammar = nltk.PCFG.fromstring(pcfg)\n",
    "print(grammar)"
   ]
  },
  {
   "cell_type": "markdown",
   "metadata": {},
   "source": [
    "#### Testen Sie Ihre so erstellte Grammatik nun, indem Sie folgenden Satz parsen:\n",
    "\n",
    "- *the boy saw a woman with a telescope*"
   ]
  },
  {
   "cell_type": "code",
   "execution_count": 29,
   "metadata": {},
   "outputs": [
    {
     "name": "stdout",
     "output_type": "stream",
     "text": [
      "(S\n",
      "  (NP (DET the) (N boy))\n",
      "  (VP\n",
      "    (V saw)\n",
      "    (NP\n",
      "      (NP (DET a) (N woman))\n",
      "      (PP (P with) (NP (DET a) (N telescope)))))) (p=9.92604e-05)\n",
      "                 S                                  \n",
      "     ┌───────────┴────────┐                          \n",
      "     │                    VP                        \n",
      "     │       ┌────────────┴────┐                     \n",
      "     │       │                 NP                   \n",
      "     │       │       ┌─────────┴────┐                \n",
      "     │       │       │              PP              \n",
      "     │       │       │         ┌────┴───┐            \n",
      "     NP      │       NP        │        NP          \n",
      " ┌───┴───┐   │   ┌───┴────┐    │    ┌───┴──────┐     \n",
      "DET      N   V  DET       N    P   DET         N    \n",
      " │       │   │   │        │    │    │          │     \n",
      "the     boy saw  a      woman with  a      telescope\n",
      "\n"
     ]
    }
   ],
   "source": [
    "sent = \"the boy saw a woman with a telescope\"\n",
    "\n",
    "viterbi_parser = nltk.ViterbiParser(grammar)\n",
    "for tree in viterbi_parser.parse(sent.split()):\n",
    "    print(tree)\n",
    "    tree.pretty_print(unicodelines=True)"
   ]
  },
  {
   "cell_type": "markdown",
   "metadata": {},
   "source": [
    "#### Wenn Sie sich die extrahierten Wahrscheinlichkeiten und das disambiguierte Ergebnis ansehen, überrascht Sie dann das Ergebnis der Syntaxanalyse?"
   ]
  },
  {
   "cell_type": "code",
   "execution_count": 30,
   "metadata": {},
   "outputs": [
    {
     "data": {
      "text/plain": [
       "0.15282159130739573"
      ]
     },
     "execution_count": 30,
     "metadata": {},
     "output_type": "execute_result"
    }
   ],
   "source": [
    "# relevante Teilwahrscheinlichkeit VP-Attachment:\n",
    "vp_with_pp\n",
    "#P(VP->VP+NP+PP)"
   ]
  },
  {
   "cell_type": "code",
   "execution_count": 31,
   "metadata": {},
   "outputs": [
    {
     "data": {
      "text/plain": [
       "0.4384565065073714"
      ]
     },
     "execution_count": 31,
     "metadata": {},
     "output_type": "execute_result"
    }
   ],
   "source": [
    "# relevante Teilwahrscheinlichkeit NP-Attachment:\n",
    "vp_without * np_with_pp\n",
    "#P(VP->VP+NP) * P(NP->NP+PP)"
   ]
  },
  {
   "cell_type": "code",
   "execution_count": 32,
   "metadata": {},
   "outputs": [],
   "source": [
    "# Antwort:\n",
    "# Wahrscheinlicheit für NP-Attachment höher"
   ]
  },
  {
   "cell_type": "markdown",
   "metadata": {},
   "source": [
    "### e) Vergleichen Sie dieses Ergebnis mit der PCFG-Analyse mit folgenden abweichenden Regelwahrscheinlichkeiten. \n",
    "\n",
    "#### Warum wird hier, obwohl weiter `vp_with_pp < np_with_pp` gilt, der VP-Attachment-Baum als der wahrscheinlichere ausgewählt? "
   ]
  },
  {
   "cell_type": "code",
   "execution_count": 33,
   "metadata": {},
   "outputs": [],
   "source": [
    "vp_with_pp = 0.2\n",
    "vp_without = 0.8\n",
    "np_with_pp = 0.22\n",
    "np_without = 0.78"
   ]
  },
  {
   "cell_type": "code",
   "execution_count": 34,
   "metadata": {},
   "outputs": [
    {
     "name": "stdout",
     "output_type": "stream",
     "text": [
      "Grammar with 13 productions (start state = S)\n",
      "    S -> NP VP [1.0]\n",
      "    VP -> V NP PP [0.2]\n",
      "    VP -> V NP [0.8]\n",
      "    NP -> DET N [0.78]\n",
      "    NP -> NP PP [0.22]\n",
      "    PP -> P NP [1.0]\n",
      "    DET -> 'the' [0.7]\n",
      "    DET -> 'a' [0.3]\n",
      "    N -> 'boy' [0.4]\n",
      "    N -> 'woman' [0.4]\n",
      "    N -> 'telescope' [0.2]\n",
      "    V -> 'saw' [1.0]\n",
      "    P -> 'with' [1.0]\n"
     ]
    }
   ],
   "source": [
    "pcfg = f\"\"\"\n",
    "S -> NP VP     [1.0]\n",
    "VP -> V NP PP  [{vp_with_pp}]\n",
    "VP -> V NP     [{vp_without}]\n",
    "NP -> DET N    [{np_without}]\n",
    "NP -> NP PP    [{np_with_pp}]\n",
    "PP -> P NP     [1.0]\n",
    "\n",
    "DET -> \"the\"     [0.7]\n",
    "DET -> \"a\"       [0.3]\n",
    "N -> \"boy\"       [0.4]\n",
    "N -> \"woman\"     [0.4]\n",
    "N -> \"telescope\" [0.2]\n",
    "V -> \"saw\"       [1.0]\n",
    "P -> \"with\"      [1.0]\n",
    "\"\"\"\n",
    "\n",
    "grammar = nltk.PCFG.fromstring(pcfg)\n",
    "print(grammar)"
   ]
  },
  {
   "cell_type": "code",
   "execution_count": 35,
   "metadata": {},
   "outputs": [
    {
     "name": "stdout",
     "output_type": "stream",
     "text": [
      "(S\n",
      "  (NP (DET the) (N boy))\n",
      "  (VP\n",
      "    (V saw)\n",
      "    (NP (DET a) (N woman))\n",
      "    (PP (P with) (NP (DET a) (N telescope))))) (p=0.000191339)\n",
      "                 S                                  \n",
      "     ┌───────────┴────────┐                          \n",
      "     │                    VP                        \n",
      "     │       ┌───────┬────┴─────────┐                \n",
      "     │       │       │              PP              \n",
      "     │       │       │         ┌────┴───┐            \n",
      "     NP      │       NP        │        NP          \n",
      " ┌───┴───┐   │   ┌───┴────┐    │    ┌───┴──────┐     \n",
      "DET      N   V  DET       N    P   DET         N    \n",
      " │       │   │   │        │    │    │          │     \n",
      "the     boy saw  a      woman with  a      telescope\n",
      "\n"
     ]
    }
   ],
   "source": [
    "sent = \"the boy saw a woman with a telescope\"\n",
    "\n",
    "viterbi_parser = nltk.ViterbiParser(grammar)\n",
    "for tree in viterbi_parser.parse(sent.split()):\n",
    "    print(tree)\n",
    "    tree.pretty_print(unicodelines=True)"
   ]
  },
  {
   "cell_type": "code",
   "execution_count": 36,
   "metadata": {},
   "outputs": [
    {
     "data": {
      "text/plain": [
       "0.2"
      ]
     },
     "execution_count": 36,
     "metadata": {},
     "output_type": "execute_result"
    }
   ],
   "source": [
    "# relevante Teilwahrscheinlichkeit VP-Attachment:\n",
    "vp_with_pp\n",
    "#P(VP->VP+NP+PP)"
   ]
  },
  {
   "cell_type": "code",
   "execution_count": 37,
   "metadata": {},
   "outputs": [
    {
     "data": {
      "text/plain": [
       "0.17600000000000002"
      ]
     },
     "execution_count": 37,
     "metadata": {},
     "output_type": "execute_result"
    }
   ],
   "source": [
    "# relevante Teilwahrscheinlichkeit NP-Attachment:\n",
    "vp_without * np_with_pp\n",
    "#P(VP->VP+NP) * P(NP->NP+PP)"
   ]
  },
  {
   "cell_type": "code",
   "execution_count": 38,
   "metadata": {},
   "outputs": [],
   "source": [
    "# Antwort:\n",
    "# Anzahl an Regelanwendungen bei NP-Attachment höher (deshalb Gesamtwahrscheinlichkeit geringer)"
   ]
  }
 ],
 "metadata": {
  "kernelspec": {
   "display_name": "Python 3 (ipykernel)",
   "language": "python",
   "name": "python3"
  },
  "language_info": {
   "codemirror_mode": {
    "name": "ipython",
    "version": 3
   },
   "file_extension": ".py",
   "mimetype": "text/x-python",
   "name": "python",
   "nbconvert_exporter": "python",
   "pygments_lexer": "ipython3",
   "version": "3.9.12"
  }
 },
 "nbformat": 4,
 "nbformat_minor": 2
}
