{
 "cells": [
  {
   "cell_type": "markdown",
   "metadata": {},
   "source": [
    "Syntax natürlicher Sprachen, WS 2023/24\n",
    "\n",
    "# 11 - Übung (Lösung)"
   ]
  },
  {
   "cell_type": "code",
   "execution_count": 1,
   "metadata": {},
   "outputs": [],
   "source": [
    "import nltk\n",
    "from nltk import Tree\n",
    "from nltk.grammar import ProbabilisticProduction, PCFG"
   ]
  },
  {
   "cell_type": "markdown",
   "metadata": {},
   "source": [
    "## Aufgabe 1 - Lexikalisierte CFG"
   ]
  },
  {
   "cell_type": "markdown",
   "metadata": {},
   "source": [
    "#### Gegeben sei folgende FCFG (für einen Satz mit mit adverbialem PP-Komplement) mit nur teilweise durchgeführter Kopfannotation über ein `HEAD`-Merkmal.\n",
    "\n",
    "#### Vervollständigen Sie die Kopfannotation gemäß UD-Regeln."
   ]
  },
  {
   "cell_type": "code",
   "execution_count": 2,
   "metadata": {},
   "outputs": [
    {
     "name": "stdout",
     "output_type": "stream",
     "text": [
      "(S[HEAD='stellen']\n",
      "  (NP[HEAD='sie'] (PRON[HEAD='sie'] sie))\n",
      "  (VP[HEAD='stellen']\n",
      "    (V[HEAD='stellen'] stellt)\n",
      "    (NP[HEAD='Blume'] (DET[HEAD='die'] die) (N[HEAD='Blume'] Blumen))\n",
      "    (PP[HEAD='Vase']\n",
      "      (P[HEAD='in'] in)\n",
      "      (NP[HEAD='Vase'] (DET[HEAD='die'] die) (N[HEAD='Vase'] Vase)))))\n",
      "                 S[HEAD='stellen']                                                                                                                \n",
      "       ┌─────────────────┴──────────────────────────────────────────────────┐                                                                      \n",
      "       │                                                            VP[HEAD='stellen']                                                            \n",
      "       │                 ┌────────────────────────────────┬─────────────────┴──────────────────────────────┐                                       \n",
      "       │                 │                                │                                         PP[HEAD='Vase']                               \n",
      "       │                 │                                │                                 ┌──────────────┴───────────────┐                       \n",
      " NP[HEAD='sie']          │                         NP[HEAD='Blume']                         │                       NP[HEAD='Vase']               \n",
      "       │                 │                ┌───────────────┴─────────────────┐               │              ┌───────────────┴──────────────┐        \n",
      "PRON[HEAD='sie'] V[HEAD='stellen'] DET[HEAD='die']                   N[HEAD='Blume']   P[HEAD='in'] DET[HEAD='die']                 N[HEAD='Vase']\n",
      "       │                 │                │                                 │               │              │                              │        \n",
      "      sie              stellt            die                              Blumen            in            die                            Vase     \n",
      "\n"
     ]
    }
   ],
   "source": [
    "sentence = \"sie stellt die Blumen in die Vase\"\n",
    "\n",
    "gramstring = r\"\"\"\n",
    "% start S\n",
    "    S[HEAD=?x] -> NP[] VP[HEAD=?x]\n",
    "    NP[HEAD=?x] -> PRON[HEAD=?x]\n",
    "    NP[HEAD=?x] -> DET[] N[HEAD=?x]\n",
    "    NP[HEAD=?x] -> NP[HEAD=?x] PP[]\n",
    "    VP[HEAD=?x] -> V[HEAD=?x] NP[] PP[]\n",
    "    PP[HEAD=?x] -> P[] NP[HEAD=?x]\n",
    "    \n",
    "    PRON[HEAD=\"sie\"] -> \"sie\"\n",
    "    DET[HEAD=\"die\"] -> \"die\"\n",
    "    N[HEAD=\"Blume\"] -> \"Blumen\"\n",
    "    N[HEAD=\"Vase\"] -> \"Vase\"\n",
    "    V[HEAD=\"stellen\"] -> \"stellt\"\n",
    "    P[HEAD=\"in\"] -> \"in\"\n",
    "\"\"\"\n",
    "\n",
    "grammar = nltk.grammar.FeatureGrammar.fromstring(gramstring)\n",
    "parser = nltk.parse.FeatureChartParser(grammar,trace=0)\n",
    "\n",
    "for tree in parser.parse(sentence.split()):\n",
    "    print(tree)\n",
    "    tree = Tree.fromstring(str(tree).replace(\", \",\",\"))\n",
    "    tree.pretty_print(unicodelines=True)\n",
    "    #display(tree)"
   ]
  },
  {
   "cell_type": "markdown",
   "metadata": {},
   "source": [
    "## Aufgabe 2 - Parent Annotation"
   ]
  },
  {
   "cell_type": "markdown",
   "metadata": {},
   "source": [
    "#### Gegeben sei folgende CFG mit unvollständiger *Parent Annotation*.\n",
    "\n",
    "### a) Vervollständigen Sie über Symbolerweiterung (mit `^` als Trennerzeichen) die *Parent Annotation*, wie sie durch die Regelanwendungen im Syntaxbaum der Angabe impliziert ist.\n",
    "\n",
    "#### Führen Sie außerdem eine *Grandparent Annotation* durch.\n"
   ]
  },
  {
   "cell_type": "code",
   "execution_count": 3,
   "metadata": {},
   "outputs": [
    {
     "name": "stdout",
     "output_type": "stream",
     "text": [
      "               S                   \n",
      "   ┌───────────┴────┐               \n",
      "   │               VP^S            \n",
      "   │      ┌─────────┴──────┐        \n",
      "  NP^S    │              NP^VP     \n",
      "   │      │         ┌──────┴────┐   \n",
      "PRON^NP  V^VP     DET^NP       N^NP\n",
      "   │      │         │           │   \n",
      "  sie   sieht      die         Frau\n",
      "\n"
     ]
    }
   ],
   "source": [
    "#Parent Annotation:\n",
    "sentence = \"sie sieht die Frau\"\n",
    "\n",
    "grammar = nltk.CFG.fromstring(\"\"\"\n",
    "    S   -> NP^S VP^S\n",
    "    VP^S  -> V^VP NP^VP\n",
    "    NP^VP  -> DET^NP N^NP\n",
    "    NP^S  -> PRON^NP\n",
    "\n",
    "    DET^NP -> \"die\"\n",
    "    N^NP      -> \"Frau\"\n",
    "    PRON^NP   -> \"sie\"\n",
    "    V^VP      -> \"sieht\"\n",
    "\"\"\")\n",
    "\n",
    "parser = nltk.ChartParser(grammar,trace=0)\n",
    "\n",
    "for tree in parser.parse(sentence.split()):\n",
    "    tree.pretty_print(unicodelines=True)    "
   ]
  },
  {
   "cell_type": "code",
   "execution_count": 4,
   "metadata": {},
   "outputs": [
    {
     "name": "stdout",
     "output_type": "stream",
     "text": [
      "                  S                           \n",
      "    ┌─────────────┴──────┐                     \n",
      "    │                   VP^S                  \n",
      "    │       ┌────────────┴────────┐            \n",
      "   NP^S     │                  NP^VP^S        \n",
      "    │       │            ┌────────┴───────┐    \n",
      "PRON^NP^S V^VP^S     DET^NP^VP         N^NP^VP\n",
      "    │       │            │                │    \n",
      "   sie    sieht         die              Frau \n",
      "\n"
     ]
    }
   ],
   "source": [
    "#Grandparent Annotation:\n",
    "sentence = \"sie sieht die Frau\"\n",
    "\n",
    "grammar = nltk.CFG.fromstring(\"\"\"\n",
    "    S   -> NP^S VP^S\n",
    "    VP^S  -> V^VP^S NP^VP^S\n",
    "    NP^VP^S  -> DET^NP^VP N^NP^VP\n",
    "    NP^S  -> PRON^NP^S\n",
    "\n",
    "    DET^NP^VP -> \"die\"\n",
    "    N^NP^VP      -> \"Frau\"\n",
    "    PRON^NP^S   -> \"sie\"\n",
    "    V^VP^S      -> \"sieht\"\n",
    "\"\"\")\n",
    "\n",
    "parser = nltk.ChartParser(grammar,trace=0)\n",
    "\n",
    "for tree in parser.parse(sentence.split()):\n",
    "    tree.pretty_print(unicodelines=True)    "
   ]
  },
  {
   "cell_type": "markdown",
   "metadata": {},
   "source": [
    "### b) Vergleichen Sie Ihre Lösung anschließend mit dem Resultat der entsprechenden Normalisierung mit NLTK (Chomsky-Normalform-Binarisierung mit Grandparent-Annotation):"
   ]
  },
  {
   "cell_type": "code",
   "execution_count": 5,
   "metadata": {},
   "outputs": [
    {
     "name": "stdout",
     "output_type": "stream",
     "text": [
      "              S                     \n",
      "  ┌───────────┴────┐                 \n",
      "  │              VP^<S>             \n",
      "  │      ┌─────────┴───────┐         \n",
      "NP^<S>   │              NP^<VP>     \n",
      "  │      │         ┌───────┴─────┐   \n",
      " PRON    V        DET            N  \n",
      "  │      │         │             │   \n",
      " sie   sieht      die           Frau\n",
      "\n"
     ]
    }
   ],
   "source": [
    "#parent annotation:\n",
    "tree = nltk.Tree.fromstring(\"\"\"\n",
    "(S\n",
    "   (NP (PRON sie))\n",
    "   (VP\n",
    "    (V sieht) \n",
    "    (NP (DET die) (N Frau))\n",
    "    ))\n",
    "\"\"\")\n",
    "\n",
    "#tree_copy = copy.deepcopy(tree)\n",
    "tree.chomsky_normal_form(vertMarkov=1) \n",
    "tree.pretty_print(unicodelines=True)"
   ]
  },
  {
   "cell_type": "code",
   "execution_count": 6,
   "metadata": {},
   "outputs": [
    {
     "name": "stdout",
     "output_type": "stream",
     "text": [
      "              S                       \n",
      "  ┌───────────┴────┐                   \n",
      "  │              VP^<S>               \n",
      "  │      ┌─────────┴────────┐          \n",
      "NP^<S>   │              NP^<VP-S>     \n",
      "  │      │         ┌────────┴──────┐   \n",
      " PRON    V        DET              N  \n",
      "  │      │         │               │   \n",
      " sie   sieht      die             Frau\n",
      "\n"
     ]
    }
   ],
   "source": [
    "#grandparent annotation:\n",
    "tree = nltk.Tree.fromstring(\"\"\"\n",
    "(S\n",
    "   (NP (PRON sie))\n",
    "   (VP\n",
    "    (V sieht) \n",
    "    (NP (DET die) (N Frau))\n",
    "    ))\n",
    "\"\"\")\n",
    "\n",
    "#tree_copy = copy.deepcopy(tree)\n",
    "tree.chomsky_normal_form(vertMarkov=2) \n",
    "tree.pretty_print(unicodelines=True)"
   ]
  },
  {
   "cell_type": "markdown",
   "metadata": {},
   "source": [
    "### c) Vergleichen Sie auch das Ergebnis der entsprechende Normalisierung mit folgender Variante des Syntaxbaums mit flacher Struktur ohne VP:"
   ]
  },
  {
   "cell_type": "code",
   "execution_count": 7,
   "metadata": {},
   "outputs": [
    {
     "name": "stdout",
     "output_type": "stream",
     "text": [
      "       S               \n",
      " ┌─────┼────────┐       \n",
      " NP    │        NP     \n",
      " │     │    ┌───┴───┐   \n",
      "PRON   V   DET      N  \n",
      " │     │    │       │   \n",
      "sie  sieht die     Frau\n",
      "\n"
     ]
    }
   ],
   "source": [
    "tree = nltk.Tree.fromstring(\"\"\"\n",
    "(S\n",
    "   (NP (PRON sie))\n",
    "   (V sieht) \n",
    "   (NP (DET die) (N Frau))\n",
    "    )\n",
    "\"\"\")\n",
    "tree.pretty_print(unicodelines=True)"
   ]
  },
  {
   "cell_type": "code",
   "execution_count": 8,
   "metadata": {},
   "outputs": [
    {
     "name": "stdout",
     "output_type": "stream",
     "text": [
      "              S                      \n",
      "  ┌───────────┴─────┐                 \n",
      "  │              S|<V-NP>            \n",
      "  │      ┌──────────┴───────┐         \n",
      "NP^<S>   │                NP^<S>     \n",
      "  │      │          ┌───────┴─────┐   \n",
      " PRON    V         DET            N  \n",
      "  │      │          │             │   \n",
      " sie   sieht       die           Frau\n",
      "\n"
     ]
    }
   ],
   "source": [
    "#parent annotation und binarization:\n",
    "tree.chomsky_normal_form(vertMarkov=1) \n",
    "tree.pretty_print(unicodelines=True)"
   ]
  },
  {
   "cell_type": "markdown",
   "metadata": {},
   "source": [
    "## *Aufgabe 3 - Grammatikinduktion aus Penn Treebank*"
   ]
  },
  {
   "cell_type": "markdown",
   "metadata": {},
   "source": [
    "#### In dieser Aufgabe soll vollautomatisch aus Daten (Syntaxbäumen) eine probabilistische kontextfreie Grammatik erzeugt werden."
   ]
  },
  {
   "cell_type": "markdown",
   "metadata": {},
   "source": [
    "###  a) Herunterladen von Ressourcen und Beispiel\n",
    "\n",
    "#### Laden Sie zunächst die Ressource „corpora/treebank“ mithilfe des NLTK-Download-Managers herunter, falls diese noch nicht installiert ist."
   ]
  },
  {
   "cell_type": "code",
   "execution_count": 9,
   "metadata": {},
   "outputs": [],
   "source": [
    "# nltk.download()"
   ]
  },
  {
   "cell_type": "markdown",
   "metadata": {},
   "source": [
    " #### Hier ein Beispiel für geparste Sätze in der Penn Treebank:"
   ]
  },
  {
   "cell_type": "code",
   "execution_count": 10,
   "metadata": {},
   "outputs": [
    {
     "name": "stdout",
     "output_type": "stream",
     "text": [
      "(S\n",
      "  (NP-SBJ\n",
      "    (NP (NNP Pierre) (NNP Vinken))\n",
      "    (, ,)\n",
      "    (ADJP (NP (CD 61) (NNS years)) (JJ old))\n",
      "    (, ,))\n",
      "  (VP\n",
      "    (MD will)\n",
      "    (VP\n",
      "      (VB join)\n",
      "      (NP (DT the) (NN board))\n",
      "      (PP-CLR (IN as) (NP (DT a) (JJ nonexecutive) (NN director)))\n",
      "      (NP-TMP (NNP Nov.) (CD 29))))\n",
      "  (. .))\n",
      "(S\n",
      "  (NP-SBJ (NNP Mr.) (NNP Vinken))\n",
      "  (VP\n",
      "    (VBZ is)\n",
      "    (NP-PRD\n",
      "      (NP (NN chairman))\n",
      "      (PP\n",
      "        (IN of)\n",
      "        (NP\n",
      "          (NP (NNP Elsevier) (NNP N.V.))\n",
      "          (, ,)\n",
      "          (NP (DT the) (NNP Dutch) (VBG publishing) (NN group))))))\n",
      "  (. .))\n"
     ]
    }
   ],
   "source": [
    "from nltk.corpus import treebank\n",
    "\n",
    "for tree in treebank.parsed_sents('wsj_0001.mrg'):\n",
    "    print(tree)"
   ]
  },
  {
   "cell_type": "markdown",
   "metadata": {},
   "source": [
    "#### Hier ein Beispiel für Gramatikinduktion mit `nltk.induce_pcfg`:"
   ]
  },
  {
   "cell_type": "code",
   "execution_count": 11,
   "metadata": {},
   "outputs": [
    {
     "data": {
      "text/plain": [
       "51"
      ]
     },
     "execution_count": 11,
     "metadata": {},
     "output_type": "execute_result"
    }
   ],
   "source": [
    "productions = []\n",
    "S = nltk.Nonterminal('S')\n",
    "for tree in nltk.corpus.treebank.parsed_sents('wsj_0001.mrg'):\n",
    "    productions += tree.productions()\n",
    "len(productions)"
   ]
  },
  {
   "cell_type": "code",
   "execution_count": 12,
   "metadata": {},
   "outputs": [
    {
     "name": "stdout",
     "output_type": "stream",
     "text": [
      "44\n",
      "S -> NP-SBJ VP . [1.0]\n",
      "NP-SBJ -> NP , ADJP , [0.5]\n",
      "NP -> NNP NNP [0.25]\n",
      "NNP -> 'Pierre' [0.125]\n",
      "NNP -> 'Vinken' [0.25]\n",
      ", -> ',' [1.0]\n",
      "ADJP -> NP JJ [1.0]\n",
      "NP -> CD NNS [0.125]\n",
      "CD -> '61' [0.5]\n",
      "NNS -> 'years' [1.0]\n",
      "JJ -> 'old' [0.5]\n",
      "VP -> MD VP [0.333333]\n",
      "MD -> 'will' [1.0]\n",
      "VP -> VB NP PP-CLR NP-TMP [0.333333]\n",
      "VB -> 'join' [1.0]\n",
      "NP -> DT NN [0.125]\n",
      "DT -> 'the' [0.666667]\n",
      "NN -> 'board' [0.25]\n",
      "PP-CLR -> IN NP [1.0]\n",
      "IN -> 'as' [0.5]\n",
      "NP -> DT JJ NN [0.125]\n",
      "DT -> 'a' [0.333333]\n",
      "JJ -> 'nonexecutive' [0.5]\n",
      "NN -> 'director' [0.25]\n",
      "NP-TMP -> NNP CD [1.0]\n",
      "NNP -> 'Nov.' [0.125]\n",
      "CD -> '29' [0.5]\n",
      ". -> '.' [1.0]\n",
      "NP-SBJ -> NNP NNP [0.5]\n",
      "NNP -> 'Mr.' [0.125]\n",
      "VP -> VBZ NP-PRD [0.333333]\n",
      "VBZ -> 'is' [1.0]\n",
      "NP-PRD -> NP PP [1.0]\n",
      "NP -> NN [0.125]\n",
      "NN -> 'chairman' [0.25]\n",
      "PP -> IN NP [1.0]\n",
      "IN -> 'of' [0.5]\n",
      "NP -> NP , NP [0.125]\n",
      "NNP -> 'Elsevier' [0.125]\n",
      "NNP -> 'N.V.' [0.125]\n",
      "NP -> DT NNP VBG NN [0.125]\n",
      "NNP -> 'Dutch' [0.125]\n",
      "VBG -> 'publishing' [1.0]\n",
      "NN -> 'group' [0.25]\n"
     ]
    }
   ],
   "source": [
    "grammar = nltk.induce_pcfg(S, productions)\n",
    "\n",
    "print(len(grammar.productions()))\n",
    "for production in grammar.productions():\n",
    "    print(production)"
   ]
  },
  {
   "cell_type": "markdown",
   "metadata": {},
   "source": [
    "#### Beispiel-Parse mit induzierter Grammatik:"
   ]
  },
  {
   "cell_type": "code",
   "execution_count": 13,
   "metadata": {},
   "outputs": [
    {
     "name": "stdout",
     "output_type": "stream",
     "text": [
      "(S\n",
      "  (NP-SBJ (NNP Mr.) (NNP Pierre))\n",
      "  (VP\n",
      "    (VBZ is)\n",
      "    (NP-PRD\n",
      "      (NP (DT the) (NN director))\n",
      "      (PP (IN of) (NP (NNP Elsevier) (NNP N.V.)))))\n",
      "  (. .)) (p=1.05964e-07)\n",
      "                                 S                                 \n",
      "      ┌──────────────────────────┼───────────────────────────────┐  \n",
      "      │                          VP                              │ \n",
      "      │            ┌─────────────┴───────┐                       │  \n",
      "      │            │                   NP-PRD                    │ \n",
      "      │            │       ┌─────────────┴───────┐               │  \n",
      "      │            │       │                     PP              │ \n",
      "      │            │       │             ┌───────┴──────┐        │  \n",
      "    NP-SBJ         │       NP            │              NP       │ \n",
      " ┌────┴──────┐     │   ┌───┴─────┐       │       ┌──────┴───┐    │  \n",
      "NNP         NNP   VBZ  DT        NN      IN     NNP        NNP   . \n",
      " │           │     │   │         │       │       │          │    │  \n",
      "Mr.        Pierre  is the     director   of   Elsevier     N.V.  . \n",
      "\n"
     ]
    }
   ],
   "source": [
    "parser = nltk.ViterbiParser(grammar)\n",
    "sent = \"Mr. Pierre is the director of Elsevier N.V. .\".split()\n",
    "for tree in parser.parse(sent):\n",
    "    print(tree)\n",
    "    tree.pretty_print(unicodelines=True)"
   ]
  },
  {
   "cell_type": "markdown",
   "metadata": {},
   "source": [
    "### b) Induktion von PCFG-Regeln aus der Penn-Treebank"
   ]
  },
  {
   "cell_type": "markdown",
   "metadata": {},
   "source": [
    "#### Im Folgenden wollen wir  - analog zur `induce_pcfg`-Methode des NLTK - vollautomatisch eine aus den Syntaxbäumen der Penn Treebank induzierte Grammatik erzeugen.\n",
    "\n",
    "#### Füllen Sie die Lücken im untenstehenden Code und versuchen Sie, mit Hilfe der automatisch erstellten PCFG die folgenden Sätze zu parsen:"
   ]
  },
  {
   "cell_type": "code",
   "execution_count": 16,
   "metadata": {},
   "outputs": [],
   "source": [
    "test_sentences = [\n",
    "    \"the men saw a car .\",\n",
    "    \"the woman gave the man a book .\",\n",
    "    \"she gave a book to the man .\",\n",
    "    \"yesterday , all my trouble seemed so far away .\"\n",
    "]"
   ]
  },
  {
   "cell_type": "code",
   "execution_count": 17,
   "metadata": {},
   "outputs": [],
   "source": [
    "from collections import defaultdict\n",
    "\n",
    "# Production count: the number of times a given production occurs\n",
    "pcount = defaultdict(int)\n",
    "\n",
    "# LHS-count: counts the number of times a given lhs occurs\n",
    "lcount = defaultdict(int)\n",
    "\n",
    "for tree in treebank.parsed_sents():\n",
    "    for prod in tree.productions():\n",
    "        pcount[prod] += 1\n",
    "        lcount[prod.lhs()] += 1\n",
    "        \n",
    "productions = [\n",
    "    ProbabilisticProduction(\n",
    "        p.lhs(), p.rhs(),\n",
    "        prob = pcount[p] / lcount[p.lhs()]\n",
    "    )\n",
    "    for p in pcount\n",
    "]\n",
    "\n",
    "start = nltk.Nonterminal('S')\n",
    "grammar = PCFG(start, productions)\n",
    "parser = nltk.ViterbiParser(grammar)"
   ]
  },
  {
   "cell_type": "code",
   "execution_count": 18,
   "metadata": {},
   "outputs": [
    {
     "name": "stdout",
     "output_type": "stream",
     "text": [
      "2.269940263066198e-15\n",
      "                S                 \n",
      "      ┌─────────┴───┬───────────┐  \n",
      "      │             VP          │ \n",
      "      │         ┌───┴───┐       │  \n",
      "    NP-SBJ      │       NP      │ \n",
      " ┌────┴─────┐   │   ┌───┴───┐   │  \n",
      " DT        NNS VBD  DT      NN  . \n",
      " │          │   │   │       │   │  \n",
      "the        men saw  a      car  . \n",
      "\n",
      "8.44395440336237e-21\n",
      "                       S                             \n",
      "      ┌────────────────┴───────┬───────────────────┐  \n",
      "      │                        VP                  │ \n",
      "      │           ┌────────┬───┴────────┐          │  \n",
      "    NP-SBJ        │        NP         NP-TMP       │ \n",
      " ┌────┴──────┐    │    ┌───┴───┐   ┌────┴─────┐    │  \n",
      " DT          NN  VBD   DT      NN  DT         NN   . \n",
      " │           │    │    │       │   │          │    │  \n",
      "the        woman gave the     man  a         book  . \n",
      "\n",
      "1.3157826588159793e-18\n",
      "                     S                         \n",
      "  ┌──────────────────┼───────────────────────┐  \n",
      "  │                  VP                      │ \n",
      "  │     ┌────────┬───┴─────────┐             │  \n",
      "  │     │        │           PP-CLR          │ \n",
      "  │     │        │        ┌────┴─────┐       │  \n",
      "NP-SBJ  │        NP       │          NP      │ \n",
      "  │     │    ┌───┴───┐    │    ┌─────┴───┐   │  \n",
      " PRP   VBD   DT      NN   TO   DT        NN  . \n",
      "  │     │    │       │    │    │         │   │  \n",
      " she   gave  a      book  to  the       man  . \n",
      "\n",
      "1.7860754913154666e-34\n",
      "                                 S                                    \n",
      "                ┌────────────────┴────────────┬─────────────────────┐  \n",
      "              NP-SBJ                          │                     │ \n",
      "    ┌──────┬────┴─────┐                       │                     │  \n",
      "    │      │          NP                      VP                    │ \n",
      "    │      │    ┌─────┴────┐            ┌─────┴─────┬──────────┐    │  \n",
      "    NP     │    │          NP           │        ADVP-MNR     ADVP  │ \n",
      "    │      │    │     ┌────┴─────┐      │     ┌─────┴──────┐   │    │  \n",
      "    NN     ,    DT   PRP$        NN    VBD    RB           RB  RB   . \n",
      "    │      │    │     │          │      │     │            │   │    │  \n",
      "yesterday  ,   all    my      trouble seemed  so          far away  . \n",
      "\n"
     ]
    }
   ],
   "source": [
    "for s in test_sentences:\n",
    "    for t in parser.parse(nltk.word_tokenize(s)):\n",
    "        print(t.prob())\n",
    "        t.pretty_print(unicodelines=True)"
   ]
  },
  {
   "cell_type": "markdown",
   "metadata": {},
   "source": [
    "## Aufgabe 4 - Disambiguierung mit PCFG"
   ]
  },
  {
   "cell_type": "markdown",
   "metadata": {},
   "source": [
    "### a) Gegeben sei folgende Mini-Treebank mit PP-Attachment-Sätzen:"
   ]
  },
  {
   "cell_type": "code",
   "execution_count": 19,
   "metadata": {},
   "outputs": [
    {
     "name": "stdout",
     "output_type": "stream",
     "text": [
      "       S                                    \n",
      " ┌─────┴────────────┐                        \n",
      " │                  VP                      \n",
      " │     ┌────────────┴────┐                   \n",
      " │     │                 NP                 \n",
      " │     │        ┌────────┴───┐               \n",
      " │     │        │            PP             \n",
      " │     │        │        ┌───┴───┐           \n",
      " NP    │        NP       │       NP         \n",
      " │     │    ┌───┴───┐    │   ┌───┴─────┐     \n",
      "PRON   V   DET      N    P  DET        N    \n",
      " │     │    │       │    │   │         │     \n",
      "sie  kennt den     Mann mit dem     Fernglas\n",
      "\n",
      "         S                                       \n",
      " ┌───────┴───────────────┐                        \n",
      " │                       VP                      \n",
      " │               ┌───────┴────────┐               \n",
      " │               VP               PP             \n",
      " │       ┌───────┴───┐        ┌───┴───┐           \n",
      " NP      │           NP       │       NP         \n",
      " │       │       ┌───┴───┐    │   ┌───┴─────┐     \n",
      "PRON     V      DET      N    P  DET        N    \n",
      " │       │       │       │    │   │         │     \n",
      "sie  beobachtet den     Mann mit dem     Fernglas\n",
      "\n",
      "       S                                   \n",
      " ┌─────┴──────────────┐                     \n",
      " │                    VP                   \n",
      " │           ┌────────┴─────────┐           \n",
      " │           VP                 PP         \n",
      " │     ┌─────┴───┐          ┌───┴───┐       \n",
      " NP    │         NP         │       NP     \n",
      " │     │     ┌───┴────┐     │   ┌───┴───┐   \n",
      "PRON   V    DET       N     P  DET      N  \n",
      " │     │     │        │     │   │       │   \n",
      "sie  stellt die     Blumen  in die     Vase\n",
      "\n"
     ]
    }
   ],
   "source": [
    "treestrings = [\n",
    "\"\"\"(S\n",
    "   (NP (PRON sie))\n",
    "   (VP\n",
    "    (V kennt) \n",
    "    (NP\n",
    "      (NP (DET den) (N Mann))\n",
    "      (PP (P mit) (NP (DET dem) (N Fernglas))))))\"\"\",\n",
    "\n",
    "\"\"\"(S\n",
    "   (NP (PRON sie))\n",
    "   (VP\n",
    "    (VP (V beobachtet) (NP (DET den) (N Mann)))\n",
    "    (PP (P mit) (NP (DET dem) (N Fernglas)))))\"\"\",\n",
    "\n",
    "\n",
    "\"\"\"(S\n",
    "   (NP (PRON sie))\n",
    "   (VP\n",
    "    (VP (V stellt) (NP (DET die) (N Blumen)))\n",
    "    (PP (P in) (NP (DET die) (N Vase)))))\"\"\",\n",
    "\n",
    "]\n",
    "\n",
    "trees = [Tree.fromstring(treestring).pretty_print(unicodelines=True) for treestring in treestrings]\n"
   ]
  },
  {
   "cell_type": "markdown",
   "metadata": {},
   "source": [
    "#### Passen Sie diese Mini-Treebank durch Duplizieren einer minimalen Anzahl an Sätzen so an, dass die daraus induzierte Grammatik für den ersten Satz eine korrekte Analyse liefert (so dass die Grammatik also das PP-Attachment an die NP bevorzugt)."
   ]
  },
  {
   "cell_type": "code",
   "execution_count": 20,
   "metadata": {},
   "outputs": [
    {
     "name": "stdout",
     "output_type": "stream",
     "text": [
      "S -> NP VP [1.0]\n",
      "NP -> PRON [0.264706]\n",
      "PRON -> 'sie' [1.0]\n",
      "VP -> V NP [0.818182]\n",
      "V -> 'kennt' [0.777778]\n",
      "NP -> NP PP [0.205882]\n",
      "NP -> DET N [0.529412]\n",
      "DET -> 'den' [0.444444]\n",
      "N -> 'Mann' [0.444444]\n",
      "PP -> P NP [1.0]\n",
      "P -> 'mit' [0.888889]\n",
      "DET -> 'dem' [0.444444]\n",
      "N -> 'Fernglas' [0.444444]\n",
      "VP -> VP PP [0.181818]\n",
      "V -> 'beobachtet' [0.111111]\n",
      "V -> 'stellt' [0.111111]\n",
      "DET -> 'die' [0.111111]\n",
      "N -> 'Blumen' [0.0555556]\n",
      "P -> 'in' [0.111111]\n",
      "N -> 'Vase' [0.0555556]\n",
      "(S\n",
      "  (NP (PRON sie))\n",
      "  (VP\n",
      "    (V kennt)\n",
      "    (NP\n",
      "      (NP (DET den) (N Mann))\n",
      "      (PP (P mit) (NP (DET dem) (N Fernglas)))))) (p=0.000337126)\n",
      "       S                                    \n",
      " ┌─────┴────────────┐                        \n",
      " │                  VP                      \n",
      " │     ┌────────────┴────┐                   \n",
      " │     │                 NP                 \n",
      " │     │        ┌────────┴───┐               \n",
      " │     │        │            PP             \n",
      " │     │        │        ┌───┴───┐           \n",
      " NP    │        NP       │       NP         \n",
      " │     │    ┌───┴───┐    │   ┌───┴─────┐     \n",
      "PRON   V   DET      N    P  DET        N    \n",
      " │     │    │       │    │   │         │     \n",
      "sie  kennt den     Mann mit dem     Fernglas\n",
      "\n",
      "(S\n",
      "  (NP (PRON sie))\n",
      "  (VP\n",
      "    (VP (V kennt) (NP (DET den) (N Mann)))\n",
      "    (PP (P mit) (NP (DET dem) (N Fernglas))))) (p=0.000297722)\n",
      "       S                                    \n",
      " ┌─────┴────────────┐                        \n",
      " │                  VP                      \n",
      " │          ┌───────┴────────┐               \n",
      " │          VP               PP             \n",
      " │     ┌────┴───┐        ┌───┴───┐           \n",
      " NP    │        NP       │       NP         \n",
      " │     │    ┌───┴───┐    │   ┌───┴─────┐     \n",
      "PRON   V   DET      N    P  DET        N    \n",
      " │     │    │       │    │   │         │     \n",
      "sie  kennt den     Mann mit dem     Fernglas\n",
      "\n"
     ]
    }
   ],
   "source": [
    "treestrings = [\n",
    "\"\"\"(S\n",
    "   (NP (PRON sie))\n",
    "   (VP\n",
    "    (V kennt) \n",
    "    (NP\n",
    "      (NP (DET den) (N Mann))\n",
    "      (PP (P mit) (NP (DET dem) (N Fernglas))))))\"\"\", #NP-Attachment\n",
    "\n",
    "\"\"\"(S\n",
    "   (NP (PRON sie))\n",
    "   (VP\n",
    "    (V kennt) \n",
    "    (NP\n",
    "      (NP (DET den) (N Mann))\n",
    "      (PP (P mit) (NP (DET dem) (N Fernglas))))))\"\"\", #NP-Attachment (dupliziert)\n",
    "\n",
    "\"\"\"(S\n",
    "   (NP (PRON sie))\n",
    "   (VP\n",
    "    (V kennt) \n",
    "    (NP\n",
    "      (NP (DET den) (N Mann))\n",
    "      (PP (P mit) (NP (DET dem) (N Fernglas))))))\"\"\", #NP-Attachment (dupliziert)\n",
    "\n",
    "\"\"\"(S\n",
    "   (NP (PRON sie))\n",
    "   (VP\n",
    "    (V kennt) \n",
    "    (NP\n",
    "      (NP (DET den) (N Mann))\n",
    "      (PP (P mit) (NP (DET dem) (N Fernglas))))))\"\"\", #NP-Attachment (dupliziert)\n",
    "\n",
    "\"\"\"(S\n",
    "   (NP (PRON sie))\n",
    "   (VP\n",
    "    (V kennt) \n",
    "    (NP\n",
    "      (NP (DET den) (N Mann))\n",
    "      (PP (P mit) (NP (DET dem) (N Fernglas))))))\"\"\", #NP-Attachment (dupliziert)\n",
    "\n",
    "\"\"\"(S\n",
    "   (NP (PRON sie))\n",
    "   (VP\n",
    "    (V kennt) \n",
    "    (NP\n",
    "      (NP (DET den) (N Mann))\n",
    "      (PP (P mit) (NP (DET dem) (N Fernglas))))))\"\"\", #NP-Attachment (dupliziert)\n",
    "\n",
    "\"\"\"(S\n",
    "   (NP (PRON sie))\n",
    "   (VP\n",
    "    (V kennt) \n",
    "    (NP\n",
    "      (NP (DET den) (N Mann))\n",
    "      (PP (P mit) (NP (DET dem) (N Fernglas))))))\"\"\", #NP-Attachment (dupliziert)\n",
    "\n",
    "\n",
    "\n",
    "\n",
    "\"\"\"(S\n",
    "   (NP (PRON sie))\n",
    "   (VP\n",
    "    (VP (V beobachtet) (NP (DET den) (N Mann)))\n",
    "     (PP (P mit) (NP (DET dem) (N Fernglas)))))\"\"\", #VP-Attachment\n",
    "\n",
    "\n",
    "\"\"\"(S\n",
    "   (NP (PRON sie))\n",
    "   (VP\n",
    "    (VP (V stellt) (NP (DET die) (N Blumen)))\n",
    "    (PP (P in) (NP (DET die) (N Vase)))))\"\"\", #VP-Attachment\n",
    "\n",
    "]\n",
    "\n",
    "\n",
    "trees = [Tree.fromstring(treestring) for treestring in treestrings]\n",
    "\n",
    "#grammar induction:    \n",
    "productions = []\n",
    "S = nltk.Nonterminal('S')\n",
    "\n",
    "for tree in trees:\n",
    "    productions += tree.productions()\n",
    "\n",
    "grammar = nltk.induce_pcfg(S, productions)\n",
    "for production in grammar.productions():\n",
    "    print(production)    \n",
    "\n",
    "#parse first tree with grammar:\n",
    "parser = nltk.InsideChartParser(grammar)\n",
    "for parse in parser.parse(trees[0].leaves()):\n",
    "    print(parse)\n",
    "    parse.pretty_print(unicodelines=True)"
   ]
  },
  {
   "cell_type": "markdown",
   "metadata": {},
   "source": [
    "#### Parsen Sie abschließend die Sätze mit der induzierten Grammatik:"
   ]
  },
  {
   "cell_type": "code",
   "execution_count": 21,
   "metadata": {},
   "outputs": [
    {
     "name": "stdout",
     "output_type": "stream",
     "text": [
      "       S                                    \n",
      " ┌─────┴────────────┐                        \n",
      " │                  VP                      \n",
      " │     ┌────────────┴────┐                   \n",
      " │     │                 NP                 \n",
      " │     │        ┌────────┴───┐               \n",
      " │     │        │            PP             \n",
      " │     │        │        ┌───┴───┐           \n",
      " NP    │        NP       │       NP         \n",
      " │     │    ┌───┴───┐    │   ┌───┴─────┐     \n",
      "PRON   V   DET      N    P  DET        N    \n",
      " │     │    │       │    │   │         │     \n",
      "sie  kennt den     Mann mit dem     Fernglas\n",
      "\n",
      "       S                                    \n",
      " ┌─────┴────────────┐                        \n",
      " │                  VP                      \n",
      " │     ┌────────────┴────┐                   \n",
      " │     │                 NP                 \n",
      " │     │        ┌────────┴───┐               \n",
      " │     │        │            PP             \n",
      " │     │        │        ┌───┴───┐           \n",
      " NP    │        NP       │       NP         \n",
      " │     │    ┌───┴───┐    │   ┌───┴─────┐     \n",
      "PRON   V   DET      N    P  DET        N    \n",
      " │     │    │       │    │   │         │     \n",
      "sie  kennt den     Mann mit dem     Fernglas\n",
      "\n",
      "       S                                    \n",
      " ┌─────┴────────────┐                        \n",
      " │                  VP                      \n",
      " │     ┌────────────┴────┐                   \n",
      " │     │                 NP                 \n",
      " │     │        ┌────────┴───┐               \n",
      " │     │        │            PP             \n",
      " │     │        │        ┌───┴───┐           \n",
      " NP    │        NP       │       NP         \n",
      " │     │    ┌───┴───┐    │   ┌───┴─────┐     \n",
      "PRON   V   DET      N    P  DET        N    \n",
      " │     │    │       │    │   │         │     \n",
      "sie  kennt den     Mann mit dem     Fernglas\n",
      "\n",
      "       S                                    \n",
      " ┌─────┴────────────┐                        \n",
      " │                  VP                      \n",
      " │     ┌────────────┴────┐                   \n",
      " │     │                 NP                 \n",
      " │     │        ┌────────┴───┐               \n",
      " │     │        │            PP             \n",
      " │     │        │        ┌───┴───┐           \n",
      " NP    │        NP       │       NP         \n",
      " │     │    ┌───┴───┐    │   ┌───┴─────┐     \n",
      "PRON   V   DET      N    P  DET        N    \n",
      " │     │    │       │    │   │         │     \n",
      "sie  kennt den     Mann mit dem     Fernglas\n",
      "\n",
      "       S                                    \n",
      " ┌─────┴────────────┐                        \n",
      " │                  VP                      \n",
      " │     ┌────────────┴────┐                   \n",
      " │     │                 NP                 \n",
      " │     │        ┌────────┴───┐               \n",
      " │     │        │            PP             \n",
      " │     │        │        ┌───┴───┐           \n",
      " NP    │        NP       │       NP         \n",
      " │     │    ┌───┴───┐    │   ┌───┴─────┐     \n",
      "PRON   V   DET      N    P  DET        N    \n",
      " │     │    │       │    │   │         │     \n",
      "sie  kennt den     Mann mit dem     Fernglas\n",
      "\n",
      "       S                                    \n",
      " ┌─────┴────────────┐                        \n",
      " │                  VP                      \n",
      " │     ┌────────────┴────┐                   \n",
      " │     │                 NP                 \n",
      " │     │        ┌────────┴───┐               \n",
      " │     │        │            PP             \n",
      " │     │        │        ┌───┴───┐           \n",
      " NP    │        NP       │       NP         \n",
      " │     │    ┌───┴───┐    │   ┌───┴─────┐     \n",
      "PRON   V   DET      N    P  DET        N    \n",
      " │     │    │       │    │   │         │     \n",
      "sie  kennt den     Mann mit dem     Fernglas\n",
      "\n",
      "       S                                    \n",
      " ┌─────┴────────────┐                        \n",
      " │                  VP                      \n",
      " │     ┌────────────┴────┐                   \n",
      " │     │                 NP                 \n",
      " │     │        ┌────────┴───┐               \n",
      " │     │        │            PP             \n",
      " │     │        │        ┌───┴───┐           \n",
      " NP    │        NP       │       NP         \n",
      " │     │    ┌───┴───┐    │   ┌───┴─────┐     \n",
      "PRON   V   DET      N    P  DET        N    \n",
      " │     │    │       │    │   │         │     \n",
      "sie  kennt den     Mann mit dem     Fernglas\n",
      "\n",
      "         S                                       \n",
      " ┌───────┴───────────────┐                        \n",
      " │                       VP                      \n",
      " │       ┌───────────────┴────┐                   \n",
      " │       │                    NP                 \n",
      " │       │           ┌────────┴───┐               \n",
      " │       │           │            PP             \n",
      " │       │           │        ┌───┴───┐           \n",
      " NP      │           NP       │       NP         \n",
      " │       │       ┌───┴───┐    │   ┌───┴─────┐     \n",
      "PRON     V      DET      N    P  DET        N    \n",
      " │       │       │       │    │   │         │     \n",
      "sie  beobachtet den     Mann mit dem     Fernglas\n",
      "\n",
      "       S                                   \n",
      " ┌─────┴──────────────┐                     \n",
      " │                    VP                   \n",
      " │     ┌──────────────┴─────┐               \n",
      " │     │                    NP             \n",
      " │     │         ┌──────────┴───┐           \n",
      " │     │         │              PP         \n",
      " │     │         │          ┌───┴───┐       \n",
      " NP    │         NP         │       NP     \n",
      " │     │     ┌───┴────┐     │   ┌───┴───┐   \n",
      "PRON   V    DET       N     P  DET      N  \n",
      " │     │     │        │     │   │       │   \n",
      "sie  stellt die     Blumen  in die     Vase\n",
      "\n"
     ]
    }
   ],
   "source": [
    "#parse trees with grammar:\n",
    "parser = nltk.ViterbiParser(grammar)\n",
    "for tree in trees:\n",
    "    for parse in parser.parse(tree.leaves()):\n",
    "        #print(parse)\n",
    "        parse.pretty_print(unicodelines=True)"
   ]
  },
  {
   "cell_type": "markdown",
   "metadata": {},
   "source": [
    "### b) Verbesserung durch Lexikalisierung\n",
    "\n",
    "#### Führen Sie in der ursprünglichen Mini-Treebank eine teilweise Lexikalisierung durch Kopfannotation durch, so dass je nach Verb die entsprechende Konstruktion bevorzugt wird."
   ]
  },
  {
   "cell_type": "code",
   "execution_count": 22,
   "metadata": {},
   "outputs": [
    {
     "name": "stdout",
     "output_type": "stream",
     "text": [
      "S -> NP VP_kennt [0.333333]\n",
      "NP -> PRON [0.3]\n",
      "PRON -> 'sie' [1.0]\n",
      "VP_kennt -> V_kennt NP [1.0]\n",
      "V_kennt -> 'kennt' [1.0]\n",
      "NP -> NP PP [0.1]\n",
      "NP -> DET N [0.6]\n",
      "DET -> 'den' [0.333333]\n",
      "N -> 'Mann' [0.333333]\n",
      "PP -> P NP [1.0]\n",
      "P -> 'mit' [0.666667]\n",
      "DET -> 'dem' [0.333333]\n",
      "N -> 'Fernglas' [0.333333]\n",
      "S -> NP VP [0.666667]\n",
      "VP -> VP_beobachtet PP [0.5]\n",
      "VP_beobachtet -> V_beobachtet NP [1.0]\n",
      "V_beobachtet -> 'beobachtet' [1.0]\n",
      "VP -> VP_stellt PP [0.5]\n",
      "VP_stellt -> V_stellt NP [1.0]\n",
      "V_stellt -> 'stellt' [1.0]\n",
      "DET -> 'die' [0.333333]\n",
      "N -> 'Blumen' [0.166667]\n",
      "P -> 'in' [0.333333]\n",
      "N -> 'Vase' [0.166667]\n",
      "(S\n",
      "  (NP (PRON sie))\n",
      "  (VP_kennt\n",
      "    (V_kennt kennt)\n",
      "    (NP\n",
      "      (NP (DET den) (N Mann))\n",
      "      (PP (P mit) (NP (DET dem) (N Fernglas)))))) (p=2.96296e-05)\n",
      "        S                                         \n",
      " ┌──────┴───────────────┐                          \n",
      " │                   VP_kennt                     \n",
      " │      ┌───────────────┴──────┐                   \n",
      " │      │                      NP                 \n",
      " │      │         ┌────────────┴───┐               \n",
      " │      │         │                PP             \n",
      " │      │         │            ┌───┴───┐           \n",
      " NP     │         NP           │       NP         \n",
      " │      │     ┌───┴─────┐      │   ┌───┴─────┐     \n",
      "PRON V_kennt DET        N      P  DET        N    \n",
      " │      │     │         │      │   │         │     \n",
      "sie   kennt  den       Mann   mit dem     Fernglas\n",
      "\n",
      "(S\n",
      "  (NP (PRON sie))\n",
      "  (VP\n",
      "    (VP_beobachtet\n",
      "      (V_beobachtet beobachtet)\n",
      "      (NP (DET den) (N Mann)))\n",
      "    (PP (P mit) (NP (DET dem) (N Fernglas))))) (p=0.000296296)\n",
      "          S                                                  \n",
      " ┌────────┴──────────────────────────┐                        \n",
      " │                                   VP                      \n",
      " │                      ┌────────────┴────────┐               \n",
      " │                VP_beobachtet               PP             \n",
      " │        ┌─────────────┴────────┐        ┌───┴───┐           \n",
      " NP       │                      NP       │       NP         \n",
      " │        │             ┌────────┴───┐    │   ┌───┴─────┐     \n",
      "PRON V_beobachtet      DET           N    P  DET        N    \n",
      " │        │             │            │    │   │         │     \n",
      "sie   beobachtet       den          Mann mit dem     Fernglas\n",
      "\n",
      "(S\n",
      "  (NP (PRON sie))\n",
      "  (VP\n",
      "    (VP_stellt (V_stellt stellt) (NP (DET die) (N Blumen)))\n",
      "    (PP (P in) (NP (DET die) (N Vase))))) (p=3.7037e-05)\n",
      "        S                                          \n",
      " ┌──────┴─────────────────────┐                     \n",
      " │                            VP                   \n",
      " │                ┌───────────┴─────────┐           \n",
      " │            VP_stellt                 PP         \n",
      " │      ┌─────────┴──────┐          ┌───┴───┐       \n",
      " NP     │                NP         │       NP     \n",
      " │      │         ┌──────┴────┐     │   ┌───┴───┐   \n",
      "PRON V_stellt    DET          N     P  DET      N  \n",
      " │      │         │           │     │   │       │   \n",
      "sie   stellt     die        Blumen  in die     Vase\n",
      "\n"
     ]
    }
   ],
   "source": [
    "treestrings = [\n",
    "\"\"\"(S\n",
    "   (NP (PRON sie))\n",
    "   (VP_kennt\n",
    "    (V_kennt kennt) \n",
    "    (NP\n",
    "      (NP (DET den) (N Mann))\n",
    "      (PP (P mit) (NP (DET dem) (N Fernglas))))))\"\"\", #NP-Attachment\n",
    "\n",
    "\"\"\"(S\n",
    "   (NP (PRON sie))\n",
    "   (VP\n",
    "    (VP_beobachtet (V_beobachtet beobachtet) (NP (DET den) (N Mann)))\n",
    "     (PP (P mit) (NP (DET dem) (N Fernglas)))))\"\"\", #VP-Attachment\n",
    "\n",
    "\n",
    "\"\"\"(S\n",
    "   (NP (PRON sie))\n",
    "   (VP\n",
    "    (VP_stellt (V_stellt stellt) (NP (DET die) (N Blumen)))\n",
    "    (PP (P in) (NP (DET die) (N Vase)))))\"\"\", #VP-Attachment\n",
    "\n",
    "]\n",
    "\n",
    "\n",
    "trees = [Tree.fromstring(treestring) for treestring in treestrings]\n",
    "# trees = []\n",
    "# for treestring in treestrings:\n",
    "#     trees.append(Tree.fromstring(treestring))\n",
    "\n",
    "#grammar induction:    \n",
    "productions = []\n",
    "S = nltk.Nonterminal('S')\n",
    "\n",
    "for tree in trees:\n",
    "    productions += tree.productions()\n",
    "\n",
    "grammar = nltk.induce_pcfg(S, productions)\n",
    "for production in grammar.productions():\n",
    "    print(production)    \n",
    "\n",
    "#parse trees with grammar:\n",
    "parser = nltk.ViterbiParser(grammar)\n",
    "for tree in trees:\n",
    "    for parse in parser.parse(tree.leaves()):\n",
    "        print(parse)\n",
    "        parse.pretty_print(unicodelines=True)"
   ]
  },
  {
   "cell_type": "markdown",
   "metadata": {},
   "source": [
    "### c) Verbesserung durch Parent-Annotation\n",
    "\n",
    "#### Folgend Mini-Treebank enthält Sätze mit unterschiedlicher Anzahl pronominaler bzw. nominaler NPs unter S-Knoten.\n",
    "\n",
    "#### Warum sind in der induzierten Grammatik die Ableitungswahrscheinlichkeiten gleich, obwohl eine Konstruktion überwiegt?\n",
    "\n",
    "#### Führen Sie eine teilweise Parent Annotation durch um ein adäquateres Modell zu bekommen (d.h. die Wahrscheinlichkeit für die letzte Ableitung mit nominaler NP unter S-Knoten soll kleiner als die für die anderen werden)."
   ]
  },
  {
   "cell_type": "code",
   "execution_count": null,
   "metadata": {},
   "outputs": [],
   "source": [
    "# Antwort:\n",
    "# beide Ableitungstypen verwenden die selben Regeln, nur andere Position."
   ]
  },
  {
   "cell_type": "code",
   "execution_count": 23,
   "metadata": {},
   "outputs": [
    {
     "name": "stdout",
     "output_type": "stream",
     "text": [
      "S -> NP^S VP [1.0]\n",
      "NP^S -> PRON [0.666667]\n",
      "PRON -> 'sie' [1.0]\n",
      "VP -> V NP^VP [1.0]\n",
      "V -> 'sieht' [1.0]\n",
      "NP^VP -> DET N [0.666667]\n",
      "DET -> 'die' [1.0]\n",
      "N -> 'Frau' [1.0]\n",
      "NP^S -> DET N [0.333333]\n",
      "NP^VP -> PRON [0.333333]\n",
      "(S\n",
      "  (NP^S (PRON sie))\n",
      "  (VP (V sieht) (NP^VP (DET die) (N Frau)))) (p=0.444444)\n",
      "            S                \n",
      " ┌──────────┴───┐             \n",
      " │              VP           \n",
      " │     ┌────────┴────┐        \n",
      "NP^S   │           NP^VP     \n",
      " │     │        ┌────┴────┐   \n",
      "PRON   V       DET        N  \n",
      " │     │        │         │   \n",
      "sie  sieht     die       Frau\n",
      "\n",
      "(S\n",
      "  (NP^S (PRON sie))\n",
      "  (VP (V sieht) (NP^VP (DET die) (N Frau)))) (p=0.444444)\n",
      "            S                \n",
      " ┌──────────┴───┐             \n",
      " │              VP           \n",
      " │     ┌────────┴────┐        \n",
      "NP^S   │           NP^VP     \n",
      " │     │        ┌────┴────┐   \n",
      "PRON   V       DET        N  \n",
      " │     │        │         │   \n",
      "sie  sieht     die       Frau\n",
      "\n",
      "(S\n",
      "  (NP^S (DET die) (N Frau))\n",
      "  (VP (V sieht) (NP^VP (PRON sie)))) (p=0.111111)\n",
      "               S                 \n",
      "     ┌─────────┴─────────┐        \n",
      "     │                   VP      \n",
      "     │              ┌────┴────┐   \n",
      "    NP^S            │       NP^VP\n",
      " ┌───┴────┐         │         │   \n",
      "DET       N         V        PRON\n",
      " │        │         │         │   \n",
      "die      Frau     sieht      sie \n",
      "\n"
     ]
    }
   ],
   "source": [
    "treestrings = [\n",
    "\"\"\"(S\n",
    "   (NP^S (PRON sie))\n",
    "   (VP\n",
    "    (V sieht) \n",
    "    (NP^VP (DET die) (N Frau))\n",
    "    ))\n",
    "\"\"\",\n",
    "\n",
    "\"\"\"(S\n",
    "   (NP^S (PRON sie))\n",
    "   (VP\n",
    "    (V sieht) \n",
    "    (NP^VP (DET die) (N Frau))\n",
    "    ))\n",
    "\"\"\",\n",
    "\n",
    "\n",
    "\"\"\"(S\n",
    "    (NP^S (DET die) (N Frau))\n",
    "   (VP\n",
    "    (V sieht) \n",
    "   (NP^VP (PRON sie))\n",
    "    ))\n",
    "\"\"\",\n",
    "\n",
    "]\n",
    "\n",
    "\n",
    "trees = [Tree.fromstring(treestring) for treestring in treestrings]\n",
    "\n",
    "#grammar induction:    \n",
    "productions = []\n",
    "S = nltk.Nonterminal('S')\n",
    "\n",
    "for tree in trees:\n",
    "    productions += tree.productions()\n",
    "\n",
    "grammar = nltk.induce_pcfg(S, productions)\n",
    "for production in grammar.productions():\n",
    "    print(production)    \n",
    "\n",
    "#parse trees with grammar:\n",
    "parser = nltk.ViterbiParser(grammar)\n",
    "for tree in trees:\n",
    "    for parse in parser.parse(tree.leaves()):\n",
    "        print(parse)\n",
    "        parse.pretty_print(unicodelines=True)"
   ]
  }
 ],
 "metadata": {
  "kernelspec": {
   "display_name": "Python 3 (ipykernel)",
   "language": "python",
   "name": "python3"
  },
  "language_info": {
   "codemirror_mode": {
    "name": "ipython",
    "version": 3
   },
   "file_extension": ".py",
   "mimetype": "text/x-python",
   "name": "python",
   "nbconvert_exporter": "python",
   "pygments_lexer": "ipython3",
   "version": "3.9.12"
  }
 },
 "nbformat": 4,
 "nbformat_minor": 2
}
