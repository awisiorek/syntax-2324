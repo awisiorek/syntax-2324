{
 "cells": [
  {
   "cell_type": "markdown",
   "metadata": {},
   "source": [
    "Syntax natürlicher Sprachen, WS 2023/24\n",
    "\n",
    "# 05 - Übung (Lösung)"
   ]
  },
  {
   "cell_type": "code",
   "execution_count": 1,
   "metadata": {},
   "outputs": [],
   "source": [
    "import nltk\n",
    "from nltk import Tree\n",
    "from nltk import DependencyGraph\n",
    "from spacy import displacy\n",
    "from itertools import chain"
   ]
  },
  {
   "cell_type": "code",
   "execution_count": 2,
   "metadata": {},
   "outputs": [],
   "source": [
    "def _tree_labeled(self, i):\n",
    "    node = self.get_by_address(i)\n",
    "    word, rel = node[\"word\"], node[\"rel\"]\n",
    "    deps = sorted(chain.from_iterable(node[\"deps\"].values()))\n",
    "    return Tree(word + '(' + rel + ')', [self._tree_labeled(dep) for dep in deps]) if deps else word + '(' + rel + ')'\n",
    "\n",
    "def tree_labeled(self):\n",
    "    node = self.root\n",
    "    word, rel = node[\"word\"], node[\"rel\"]\n",
    "    deps = sorted(chain.from_iterable(node[\"deps\"].values()))\n",
    "    return Tree(word+'('+rel+')', [self._tree_labeled(dep) for dep in deps])\n",
    "\n",
    "DependencyGraph._tree_labeled = _tree_labeled\n",
    "DependencyGraph.tree_labeled = tree_labeled\n",
    "\n",
    "def transform_nr_conll(sent_nr):\n",
    "    sent_list = []\n",
    "    for line in list(filter(None, sent_nr.split(\"\\n\"))):\n",
    "        line_list = line.split(); line_list.pop(0); line_list.insert(1,\"_\")\n",
    "        sent_list.append(\" \".join([i for i in line_list[0:]]))\n",
    "    return \"\\n\".join([i for i in sent_list[0:]])\n",
    "\n",
    "def displacy_dep_input(sent):\n",
    "    deps = []\n",
    "    for dep in sent.split('\\n'):\n",
    "        deps.append(dep.split())\n",
    "    deps = [x for x in deps if x]\n",
    "    ex, word_list, arc_list = [], [], []\n",
    "    for index, dep in enumerate(deps):\n",
    "        word_list.append({\"text\": dep[0], \"tag\": \"\"})\n",
    "        line = index+1; head = int(dep[2]); label = dep[3]\n",
    "        if head>line:\n",
    "            start = index; end = head-1; direction = \"left\"\n",
    "        else:\n",
    "            start = head-1; end = index; direction = \"right\"\n",
    "        if(label.lower() != \"root\"):\n",
    "            arc_list.append({\"start\": start, \"end\": end, \"label\": label, \"dir\": direction})\n",
    "    ex.append({\"words\": word_list,\"arcs\": arc_list})\n",
    "    return ex\n",
    "\n",
    "def show_dep_trees(sent_nr,style=1):\n",
    "    sent = transform_nr_conll(sent_nr)\n",
    "    dg = DependencyGraph(sent)\n",
    "    if style == 0 or style == 2:\n",
    "        tree_labeled = dg.tree_labeled()\n",
    "        tree_labeled.pretty_print(unicodelines=True)   \n",
    "    if style == 1 or style == 2:\n",
    "        ex = displacy_dep_input(sent)\n",
    "        html = displacy.render(ex, style=\"dep\", manual=True, options={'distance':100})"
   ]
  },
  {
   "cell_type": "markdown",
   "metadata": {},
   "source": [
    "\n",
    "## Aufgabe 1 - Darstellung von Dependenz-Strukturen"
   ]
  },
  {
   "cell_type": "markdown",
   "metadata": {},
   "source": [
    "\n",
    "#### Geben Sie in folgender Codezelle den entsprechenden Klammerausdruck der Dependenzstruktur des folgenden Satzes an und generieren Sie den entsprechenden Syntaxbaum, indem Sie die Codezelle anschließend ausführen.\n"
   ]
  },
  {
   "cell_type": "code",
   "execution_count": 3,
   "metadata": {},
   "outputs": [
    {
     "name": "stdout",
     "output_type": "stream",
     "text": [
      "         fischt              \n",
      "   ┌───────┼──────────┐       \n",
      " Fritz   Fische     Fluss    \n",
      "   │       │     ┌────┴────┐  \n",
      "Fischers  die   aus       dem\n",
      "\n"
     ]
    }
   ],
   "source": [
    "tree = Tree.fromstring(\"\"\"\n",
    "(fischt\n",
    "    (Fritz\n",
    "        Fischers\n",
    "    )\n",
    "    (Fische\n",
    "        die\n",
    "    )\n",
    "    (Fluss\n",
    "        aus\n",
    "        dem\n",
    "    )\n",
    ")\n",
    "\"\"\")\n",
    "\n",
    "tree.pretty_print(unicodelines=True)"
   ]
  },
  {
   "cell_type": "markdown",
   "metadata": {},
   "source": [
    "## Aufgabe 2 - Dependenzgrammatik\n",
    "\n",
    "#### Das NLTK lässt beim Schreiben von Dependenzgrammatiken lediglich die Beschreibung der Abhängigkeiten zwischen Wörtern zu. Dadurch werden Dependenzgrammatiken leicht redundant. Betrachten Sie das folgende Beispiel:"
   ]
  },
  {
   "cell_type": "code",
   "execution_count": 4,
   "metadata": {},
   "outputs": [],
   "source": [
    "sent = \"der Mann gibt der Frau das Buch\""
   ]
  },
  {
   "cell_type": "code",
   "execution_count": 5,
   "metadata": {},
   "outputs": [
    {
     "name": "stdout",
     "output_type": "stream",
     "text": [
      "     gibt     \n",
      " ┌────┼────┐   \n",
      "Mann Frau Buch\n",
      " │    │    │   \n",
      "der  der  das \n",
      "\n"
     ]
    }
   ],
   "source": [
    "grammar = nltk.DependencyGrammar.fromstring(\"\"\"\n",
    "'gibt' -> 'Mann' | 'Frau' | 'Buch'\n",
    "'schenkt' -> 'Mann' | 'Frau' | 'Buch'\n",
    "'Mann' -> 'der'\n",
    "'Frau' -> 'der' | 'die'\n",
    "'Buch' -> 'das'\n",
    "\"\"\")\n",
    "\n",
    "parser = nltk.ProjectiveDependencyParser(grammar)\n",
    "for tree in parser.parse(sent.split()):\n",
    "    tree.pretty_print(unicodelines=True)"
   ]
  },
  {
   "cell_type": "markdown",
   "metadata": {},
   "source": [
    "### a) Erweitern Sie die Grammatik um die Verben aus Aufgabe 2 von Übungsblatt 4:\n",
    "- *schläft*\n",
    "- *gefällt*\n",
    "- *kennt*"
   ]
  },
  {
   "cell_type": "code",
   "execution_count": 6,
   "metadata": {},
   "outputs": [],
   "source": [
    "sents = [\n",
    "    \"der Mann gibt der Frau das Buch\",\n",
    "    \"der Mann schläft\",\n",
    "    \"das Buch gefällt der Frau\",\n",
    "    \"die Frau kennt das Buch\"    \n",
    "]"
   ]
  },
  {
   "cell_type": "code",
   "execution_count": 7,
   "metadata": {},
   "outputs": [
    {
     "name": "stdout",
     "output_type": "stream",
     "text": [
      "     gibt     \n",
      " ┌────┼────┐   \n",
      "Mann Frau Buch\n",
      " │    │    │   \n",
      "der  der  das \n",
      "\n",
      "der Mann gibt der Frau das Buch \n",
      " __________________________________________________\n",
      "schläft\n",
      "   │    \n",
      "  Mann \n",
      "   │    \n",
      "  der  \n",
      "\n",
      "der Mann schläft \n",
      " __________________________________________________\n",
      "     gefällt     \n",
      " ┌──────┴─────┐   \n",
      "Buch         Frau\n",
      " │            │   \n",
      "das          der \n",
      "\n",
      "das Buch gefällt der Frau \n",
      " __________________________________________________\n",
      "     kennt     \n",
      " ┌─────┴────┐   \n",
      "Frau       Buch\n",
      " │          │   \n",
      "die        das \n",
      "\n",
      "die Frau kennt das Buch \n",
      " __________________________________________________\n"
     ]
    }
   ],
   "source": [
    "grammar = nltk.DependencyGrammar.fromstring(\"\"\"\n",
    "'gibt' -> 'Mann' | 'Frau' | 'Buch'\n",
    "'schenkt' -> 'Mann' | 'Frau' | 'Buch'\n",
    "'Mann' -> 'der'\n",
    "'Frau' -> 'der' | 'die'\n",
    "'Buch' -> 'das'\n",
    "\n",
    "'schläft' -> 'Mann' | 'Frau' | 'Buch'\n",
    "'gefällt' -> 'Mann' | 'Frau' | 'Buch'\n",
    "'kennt' -> 'Mann' | 'Frau' | 'Buch'\n",
    "\n",
    "\"\"\")\n",
    "\n",
    "parser = nltk.ProjectiveDependencyParser(grammar)\n",
    "\n",
    "for sent in sents:\n",
    "    trees = list(parser.parse(sent.split()))\n",
    "    if trees: [tree.pretty_print(unicodelines=True) for tree in trees]\n",
    "    else: print(f\"no parse found for:\")\n",
    "    print(sent,\"\\n\",\"_\"*50)"
   ]
  },
  {
   "cell_type": "markdown",
   "metadata": {},
   "source": [
    "### b) Erweitern Sie die Grammatik nun um Adjektive:\n",
    "- *kluge*\n",
    "- *schöne*\n",
    "- *dicke*"
   ]
  },
  {
   "cell_type": "code",
   "execution_count": 8,
   "metadata": {},
   "outputs": [],
   "source": [
    "sents= [\n",
    "    \"die kluge schöne Frau kennt das Buch\",\n",
    "    \"der schöne kluge Mann gibt der Frau das dicke Buch\",\n",
    "    \"das dicke schöne kluge Buch schläft\"\n",
    "]"
   ]
  },
  {
   "cell_type": "code",
   "execution_count": 9,
   "metadata": {},
   "outputs": [
    {
     "name": "stdout",
     "output_type": "stream",
     "text": [
      "          kennt            \n",
      "      ┌─────┴───────────┐   \n",
      "     Frau              Buch\n",
      " ┌────┼───────────┐     │   \n",
      "die kluge       schöne das \n",
      "\n",
      "die kluge schöne Frau kennt das Buch \n",
      " __________________________________________________\n",
      "            gibt                    \n",
      "      ┌──────┴────┬────────┐         \n",
      "     Mann        Frau     Buch      \n",
      " ┌────┼──────┐    │    ┌───┴─────┐   \n",
      "der schöne kluge der  das      dicke\n",
      "\n",
      "der schöne kluge Mann gibt der Frau das dicke Buch \n",
      " __________________________________________________\n",
      "    schläft             \n",
      "       │                 \n",
      "      Buch              \n",
      " ┌─────┼──────┬──────┐   \n",
      "das  dicke  schöne kluge\n",
      "\n",
      "das dicke schöne kluge Buch schläft \n",
      " __________________________________________________\n"
     ]
    }
   ],
   "source": [
    "grammar = nltk.DependencyGrammar.fromstring(\"\"\"\n",
    "'gibt' -> 'Mann' | 'Frau' | 'Buch'\n",
    "'schenkt' -> 'Mann' | 'Frau' | 'Buch'\n",
    "'Mann' -> 'der'\n",
    "'Frau' -> 'der' | 'die'\n",
    "'Buch' -> 'das'\n",
    "\n",
    "'schläft' -> 'Mann' | 'Frau'| 'Buch'\n",
    "'gefällt' -> 'Mann' | 'Frau' | 'Buch'\n",
    "'kennt' -> 'Mann' | 'Frau' | 'Buch'\n",
    "\n",
    "'Frau' -> 'schöne' | 'kluge' | 'dicke'\n",
    "'Mann' -> 'schöne' | 'kluge' | 'dicke'\n",
    "'Buch' -> 'schöne' | 'kluge' | 'dicke'\n",
    "\n",
    "\"\"\")\n",
    "\n",
    "parser = nltk.ProjectiveDependencyParser(grammar)\n",
    "\n",
    "for sent in sents:\n",
    "    trees = list(parser.parse(sent.split()))\n",
    "    if trees: [tree.pretty_print(unicodelines=True) for tree in trees]\n",
    "    else: print(f\"no parse found for:\")\n",
    "    print(sent,\"\\n\",\"_\"*50)"
   ]
  },
  {
   "cell_type": "markdown",
   "metadata": {},
   "source": [
    "## Aufgabe 3 - Manuelle Dependenzanalyse\n",
    "\n",
    "#### Stellen Sie folgenden Satz im Dependenzmodell dar:\n",
    "- Die neue Kollegin fährt mit der S-Bahn zu ihrem neuen Arbeitsplatz.\n",
    "\n",
    "### a) Ergänzen Sie dafür zunächst den Konstituentenbaum mit Angabe der perkolierten (hochgereichten) Köpfe\n",
    "\n",
    "\n",
    "(verwendete Regeln für Baum:\n",
    "`S=NP+VP`, `NP=DET+(ADJ)+N`, `PP=P+NP`, `VP=V+(PP)*`)\n",
    "\n",
    "#### Bestimmen Sie die Köpfe gemäß der UD *Primacy of Content Words*:\n",
    "(`head(PP) = head(NP)`)\n",
    "\n",
    "(`head(S) = head(VP)`)\n"
   ]
  },
  {
   "cell_type": "code",
   "execution_count": 10,
   "metadata": {},
   "outputs": [
    {
     "name": "stdout",
     "output_type": "stream",
     "text": [
      "                                      S (fährt)                                                                           \n",
      "          ┌───────────────────────────────┴──────────────────────┐                                                         \n",
      "          │                                                  VP (fährt)                                                   \n",
      "          │                  ┌────────────┬──────────────────────┴────────────────────────┐                                \n",
      "          │                  │       PP (S-Bahn)                                  PP (Arbeitsplatz)                       \n",
      "          │                  │    ┌───────┴───────────┐                  ┌────────────────┴─────────────────┐              \n",
      "    NP (Kollegin)            │    │              NP (S-Bahn)             │                          NP (Arbeitsplatz)     \n",
      " ┌────────┼──────────┐       │    │       ┌───────────┴──────────┐       │    ┌─────────────────────────────┼──────────┐   \n",
      "DET      ADJ         N       V    P      DET                     N       P   DET                           ADJ         N  \n",
      " │        │          │       │    │       │                      │       │    │                             │          │   \n",
      "Die      neue     Kollegin fährt mit     der                   S-Bahn    zu ihrem                         neuen       Arb.\n",
      "\n"
     ]
    }
   ],
   "source": [
    "np1 = Tree(\n",
    "    'NP (Kollegin)',\n",
    "    [Tree('DET', ['Die']), Tree('ADJ', ['neue']), Tree('N', ['Kollegin'])]\n",
    ")\n",
    "vp = Tree(\n",
    "    'VP (fährt)',\n",
    "    [\n",
    "        Tree('V', ['fährt']),\n",
    "        Tree('PP (S-Bahn)', [\n",
    "            Tree('P', ['mit']),\n",
    "            Tree('NP (S-Bahn)', [\n",
    "                Tree('DET', ['der']),\n",
    "                Tree('N', ['S-Bahn'])\n",
    "            ])\n",
    "        ]),\n",
    "        Tree('PP (Arbeitsplatz)', [\n",
    "            Tree('P', ['zu']),\n",
    "            Tree('NP (Arbeitsplatz)', [\n",
    "                Tree('DET', ['ihrem']),\n",
    "                Tree('ADJ', ['neuen']),\n",
    "                Tree('N', ['Arb.'])\n",
    "            ])\n",
    "        ])\n",
    "    ]\n",
    ")\n",
    "s = Tree(\n",
    "    'S (fährt)',\n",
    "    [np1, vp]\n",
    ")\n",
    "\n",
    "s.pretty_print(unicodelines=True)"
   ]
  },
  {
   "cell_type": "markdown",
   "metadata": {},
   "source": [
    "### b) Fertigen Sie nun eine Tabelle an, in der Sie zu jedem Kopfwort seine Dependenten notieren. Für jede Gruppe unmittelbarer Konstituenten einer Phrase (Ko-Konstituenten) gilt dabei, dass die nicht-hochgereichten Köpfe die Dependenten des hochgereichten Kopfes sind (Nicht-Köpfe in der Phrase sind abhängig vom Kopf der Phrase)."
   ]
  },
  {
   "cell_type": "markdown",
   "metadata": {},
   "source": [
    "|Kopf|Dependenten|\n",
    "|----|-----------|\n",
    "|fährt|Kollegin, S-Bahn, Arbeitsplatz|\n",
    "|S-Bahn|mit, der|\n",
    "|Arbeitsplatz|zu, ihrem, neuen|\n",
    "|Kollegin|die, neue|"
   ]
  },
  {
   "cell_type": "markdown",
   "metadata": {},
   "source": [
    "### c) Konvertieren Sie Ihre Tabelle nun in einen Dependenzbaum (Stemma)."
   ]
  },
  {
   "cell_type": "code",
   "execution_count": 11,
   "metadata": {},
   "outputs": [
    {
     "name": "stdout",
     "output_type": "stream",
     "text": [
      "                             fährt                       \n",
      "        _______________________|____________              \n",
      "    Kollegin          S-Bahn           Arbeitsplatz      \n",
      "  _____|______      ____|______      _______|_________    \n",
      "die          neue mit         der   zu    ihrem     neuen\n",
      "\n"
     ]
    }
   ],
   "source": [
    "dep_tree_alt = Tree(\n",
    "     \"fährt\",\n",
    "    [\n",
    "        Tree(\"Kollegin\", [\"die\", \"neue\"]),\n",
    "        Tree(\"S-Bahn\", [\"mit\", \"der\"]),\n",
    "        Tree(\"Arbeitsplatz\", [\"zu\", \"ihrem\", \"neuen\"])\n",
    "    ]\n",
    ")\n",
    "\n",
    "dep_tree_alt.pretty_print()"
   ]
  },
  {
   "cell_type": "markdown",
   "metadata": {},
   "source": [
    "### d) Welche Konstituenten lassen sich anhand der Struktur des Dependenzbaumes identifizieren?"
   ]
  },
  {
   "cell_type": "code",
   "execution_count": null,
   "metadata": {},
   "outputs": [],
   "source": [
    "# ##### Teilbäume als Konstituenten:\n",
    "\n",
    "# - [die neue Kollegin]\n",
    "# - [mit der S-Bahn]\n",
    "# - [zu ihrem neuen Arbeitsplatz]\n",
    "# - [Die neue Kollegin fährt mit der S-Bahn zu ihrem neuen Arbeitsplatz]"
   ]
  },
  {
   "cell_type": "markdown",
   "metadata": {},
   "source": [
    "\n",
    "## Aufgabe 4 - Übergangsbasierter Shift-Reduce-Dependency-Parser"
   ]
  },
  {
   "cell_type": "markdown",
   "metadata": {},
   "source": [
    "#### Betrachten Sie folgende Dependenzanalyse, die die Reihenfolge der Durchführung der REDUCE-Übergänge (`LEFTARC`, `RIGHTARC`) mit einem Shift-Reduce-Dependency-Parser angibt:"
   ]
  },
  {
   "cell_type": "code",
   "execution_count": 12,
   "metadata": {},
   "outputs": [
    {
     "data": {
      "text/html": [
       "<span class=\"tex2jax_ignore\"><svg xmlns=\"http://www.w3.org/2000/svg\" xmlns:xlink=\"http://www.w3.org/1999/xlink\" xml:lang=\"en\" id=\"0356c384c596477a88c83e2f8f91f948-0\" class=\"displacy\" width=\"450\" height=\"237.0\" direction=\"ltr\" style=\"max-width: none; height: 237.0px; color: #000000; background: #ffffff; font-family: Arial; direction: ltr\">\n",
       "<text class=\"displacy-token\" fill=\"currentColor\" text-anchor=\"middle\" y=\"147.0\">\n",
       "    <tspan class=\"displacy-word\" fill=\"currentColor\" x=\"50\">canceled</tspan>\n",
       "    <tspan class=\"displacy-tag\" dy=\"2em\" fill=\"currentColor\" x=\"50\"></tspan>\n",
       "</text>\n",
       "\n",
       "<text class=\"displacy-token\" fill=\"currentColor\" text-anchor=\"middle\" y=\"147.0\">\n",
       "    <tspan class=\"displacy-word\" fill=\"currentColor\" x=\"150\">flights</tspan>\n",
       "    <tspan class=\"displacy-tag\" dy=\"2em\" fill=\"currentColor\" x=\"150\"></tspan>\n",
       "</text>\n",
       "\n",
       "<text class=\"displacy-token\" fill=\"currentColor\" text-anchor=\"middle\" y=\"147.0\">\n",
       "    <tspan class=\"displacy-word\" fill=\"currentColor\" x=\"250\">to</tspan>\n",
       "    <tspan class=\"displacy-tag\" dy=\"2em\" fill=\"currentColor\" x=\"250\"></tspan>\n",
       "</text>\n",
       "\n",
       "<text class=\"displacy-token\" fill=\"currentColor\" text-anchor=\"middle\" y=\"147.0\">\n",
       "    <tspan class=\"displacy-word\" fill=\"currentColor\" x=\"350\">Houston</tspan>\n",
       "    <tspan class=\"displacy-tag\" dy=\"2em\" fill=\"currentColor\" x=\"350\"></tspan>\n",
       "</text>\n",
       "\n",
       "<g class=\"displacy-arrow\">\n",
       "    <path class=\"displacy-arc\" id=\"arrow-0356c384c596477a88c83e2f8f91f948-0-0\" stroke-width=\"2px\" d=\"M70,102.0 C70,52.0 145.0,52.0 145.0,102.0\" fill=\"none\" stroke=\"currentColor\"/>\n",
       "    <text dy=\"1.25em\" style=\"font-size: 0.8em; letter-spacing: 1px\">\n",
       "        <textPath xlink:href=\"#arrow-0356c384c596477a88c83e2f8f91f948-0-0\" class=\"displacy-label\" startOffset=\"50%\" side=\"left\" fill=\"currentColor\" text-anchor=\"middle\">RIGHTARC-3</textPath>\n",
       "    </text>\n",
       "    <path class=\"displacy-arrowhead\" d=\"M145.0,104.0 L153.0,92.0 137.0,92.0\" fill=\"currentColor\"/>\n",
       "</g>\n",
       "\n",
       "<g class=\"displacy-arrow\">\n",
       "    <path class=\"displacy-arc\" id=\"arrow-0356c384c596477a88c83e2f8f91f948-0-1\" stroke-width=\"2px\" d=\"M270,102.0 C270,52.0 345.0,52.0 345.0,102.0\" fill=\"none\" stroke=\"currentColor\"/>\n",
       "    <text dy=\"1.25em\" style=\"font-size: 0.8em; letter-spacing: 1px\">\n",
       "        <textPath xlink:href=\"#arrow-0356c384c596477a88c83e2f8f91f948-0-1\" class=\"displacy-label\" startOffset=\"50%\" side=\"left\" fill=\"currentColor\" text-anchor=\"middle\">LEFTARC-1</textPath>\n",
       "    </text>\n",
       "    <path class=\"displacy-arrowhead\" d=\"M270,104.0 L262,92.0 278,92.0\" fill=\"currentColor\"/>\n",
       "</g>\n",
       "\n",
       "<g class=\"displacy-arrow\">\n",
       "    <path class=\"displacy-arc\" id=\"arrow-0356c384c596477a88c83e2f8f91f948-0-2\" stroke-width=\"2px\" d=\"M170,102.0 C170,2.0 350.0,2.0 350.0,102.0\" fill=\"none\" stroke=\"currentColor\"/>\n",
       "    <text dy=\"1.25em\" style=\"font-size: 0.8em; letter-spacing: 1px\">\n",
       "        <textPath xlink:href=\"#arrow-0356c384c596477a88c83e2f8f91f948-0-2\" class=\"displacy-label\" startOffset=\"50%\" side=\"left\" fill=\"currentColor\" text-anchor=\"middle\">RIGHTARC-2</textPath>\n",
       "    </text>\n",
       "    <path class=\"displacy-arrowhead\" d=\"M350.0,104.0 L358.0,92.0 342.0,92.0\" fill=\"currentColor\"/>\n",
       "</g>\n",
       "</svg></span>"
      ],
      "text/plain": [
       "<IPython.core.display.HTML object>"
      ]
     },
     "metadata": {},
     "output_type": "display_data"
    }
   ],
   "source": [
    "sent_nr = \"\"\"\n",
    "1 canceled 0 ROOT\n",
    "2 flights 1 RIGHTARC-3\n",
    "3 to 4 LEFTARC-1\n",
    "4 Houston 2 RIGHTARC-2\n",
    "\"\"\"\n",
    "\n",
    "show_dep_trees(sent_nr)"
   ]
  },
  {
   "cell_type": "markdown",
   "metadata": {},
   "source": [
    "Der übergangsbasierte Shift-Reduce-Dependency-Parser schiebt Wörter auf den Stack und reduziert, wenn zwischen den obersten Elementen eine Dependenzrelation vorliegt (gelernt aus Trainingsdaten oder in Grammatik gegeben), indem der Dependent vom Stack entfernt wird, und die entsprechende Relation gespeichert wird. \n",
    "\n",
    "Dabei darf REDUCE bei einer möglichen RIGHTARC-Relation (Dependent rechts vom Kopf) nur durchgeführt werden, wenn der Dependent nicht mehr Kopf sein kann (dann erste SHIFT):\n",
    "\n",
    "| STACK | BUFFER | TRANSITION |\n",
    "|-------|--------|------------|\n",
    "|   ROOT    |   canceled flights to Houston     |      Init      |\n",
    "|   ROOT canceled flights    |    to Houston     |    2 x SHIFT        |\n",
    "|   ROOT canceled flights to   |     Houston     |    SHIFT (nicht REDUCE wg. RIGHTARC-Bedingung)        |\n",
    "|   ROOT canceled flights to Houston    |         |    SHIFT       |\n",
    "|   ROOT canceled flights Houston    |         |    __LEFTARC__ (to <- Houston)       |\n",
    "|   ROOT canceled flights    |         |    __RIGHTARC__ (flight -> Houston)       |\n",
    "|   ROOT canceled    |         |    __RIGHTARC__ (canceled -> flights)       |\n",
    "|   ROOT    |         |    Done (ROOT -> canceled)       |\n"
   ]
  },
  {
   "cell_type": "markdown",
   "metadata": {},
   "source": [
    "#### Gegeben sei nun folgender Dependenzgraph:"
   ]
  },
  {
   "cell_type": "code",
   "execution_count": 13,
   "metadata": {},
   "outputs": [
    {
     "data": {
      "text/html": [
       "<span class=\"tex2jax_ignore\"><svg xmlns=\"http://www.w3.org/2000/svg\" xmlns:xlink=\"http://www.w3.org/1999/xlink\" xml:lang=\"en\" id=\"2d37958c869e45039a304e6bc9b5c6cb-0\" class=\"displacy\" width=\"550\" height=\"237.0\" direction=\"ltr\" style=\"max-width: none; height: 237.0px; color: #000000; background: #ffffff; font-family: Arial; direction: ltr\">\n",
       "<text class=\"displacy-token\" fill=\"currentColor\" text-anchor=\"middle\" y=\"147.0\">\n",
       "    <tspan class=\"displacy-word\" fill=\"currentColor\" x=\"50\">ein</tspan>\n",
       "    <tspan class=\"displacy-tag\" dy=\"2em\" fill=\"currentColor\" x=\"50\"></tspan>\n",
       "</text>\n",
       "\n",
       "<text class=\"displacy-token\" fill=\"currentColor\" text-anchor=\"middle\" y=\"147.0\">\n",
       "    <tspan class=\"displacy-word\" fill=\"currentColor\" x=\"150\">elektrisches</tspan>\n",
       "    <tspan class=\"displacy-tag\" dy=\"2em\" fill=\"currentColor\" x=\"150\"></tspan>\n",
       "</text>\n",
       "\n",
       "<text class=\"displacy-token\" fill=\"currentColor\" text-anchor=\"middle\" y=\"147.0\">\n",
       "    <tspan class=\"displacy-word\" fill=\"currentColor\" x=\"250\">Auto</tspan>\n",
       "    <tspan class=\"displacy-tag\" dy=\"2em\" fill=\"currentColor\" x=\"250\"></tspan>\n",
       "</text>\n",
       "\n",
       "<text class=\"displacy-token\" fill=\"currentColor\" text-anchor=\"middle\" y=\"147.0\">\n",
       "    <tspan class=\"displacy-word\" fill=\"currentColor\" x=\"350\">fährt</tspan>\n",
       "    <tspan class=\"displacy-tag\" dy=\"2em\" fill=\"currentColor\" x=\"350\"></tspan>\n",
       "</text>\n",
       "\n",
       "<text class=\"displacy-token\" fill=\"currentColor\" text-anchor=\"middle\" y=\"147.0\">\n",
       "    <tspan class=\"displacy-word\" fill=\"currentColor\" x=\"450\">schnell</tspan>\n",
       "    <tspan class=\"displacy-tag\" dy=\"2em\" fill=\"currentColor\" x=\"450\"></tspan>\n",
       "</text>\n",
       "\n",
       "<g class=\"displacy-arrow\">\n",
       "    <path class=\"displacy-arc\" id=\"arrow-2d37958c869e45039a304e6bc9b5c6cb-0-0\" stroke-width=\"2px\" d=\"M70,102.0 C70,2.0 250.0,2.0 250.0,102.0\" fill=\"none\" stroke=\"currentColor\"/>\n",
       "    <text dy=\"1.25em\" style=\"font-size: 0.8em; letter-spacing: 1px\">\n",
       "        <textPath xlink:href=\"#arrow-2d37958c869e45039a304e6bc9b5c6cb-0-0\" class=\"displacy-label\" startOffset=\"50%\" side=\"left\" fill=\"currentColor\" text-anchor=\"middle\">-</textPath>\n",
       "    </text>\n",
       "    <path class=\"displacy-arrowhead\" d=\"M70,104.0 L62,92.0 78,92.0\" fill=\"currentColor\"/>\n",
       "</g>\n",
       "\n",
       "<g class=\"displacy-arrow\">\n",
       "    <path class=\"displacy-arc\" id=\"arrow-2d37958c869e45039a304e6bc9b5c6cb-0-1\" stroke-width=\"2px\" d=\"M170,102.0 C170,52.0 245.0,52.0 245.0,102.0\" fill=\"none\" stroke=\"currentColor\"/>\n",
       "    <text dy=\"1.25em\" style=\"font-size: 0.8em; letter-spacing: 1px\">\n",
       "        <textPath xlink:href=\"#arrow-2d37958c869e45039a304e6bc9b5c6cb-0-1\" class=\"displacy-label\" startOffset=\"50%\" side=\"left\" fill=\"currentColor\" text-anchor=\"middle\">-</textPath>\n",
       "    </text>\n",
       "    <path class=\"displacy-arrowhead\" d=\"M170,104.0 L162,92.0 178,92.0\" fill=\"currentColor\"/>\n",
       "</g>\n",
       "\n",
       "<g class=\"displacy-arrow\">\n",
       "    <path class=\"displacy-arc\" id=\"arrow-2d37958c869e45039a304e6bc9b5c6cb-0-2\" stroke-width=\"2px\" d=\"M270,102.0 C270,52.0 345.0,52.0 345.0,102.0\" fill=\"none\" stroke=\"currentColor\"/>\n",
       "    <text dy=\"1.25em\" style=\"font-size: 0.8em; letter-spacing: 1px\">\n",
       "        <textPath xlink:href=\"#arrow-2d37958c869e45039a304e6bc9b5c6cb-0-2\" class=\"displacy-label\" startOffset=\"50%\" side=\"left\" fill=\"currentColor\" text-anchor=\"middle\">-</textPath>\n",
       "    </text>\n",
       "    <path class=\"displacy-arrowhead\" d=\"M270,104.0 L262,92.0 278,92.0\" fill=\"currentColor\"/>\n",
       "</g>\n",
       "\n",
       "<g class=\"displacy-arrow\">\n",
       "    <path class=\"displacy-arc\" id=\"arrow-2d37958c869e45039a304e6bc9b5c6cb-0-3\" stroke-width=\"2px\" d=\"M370,102.0 C370,52.0 445.0,52.0 445.0,102.0\" fill=\"none\" stroke=\"currentColor\"/>\n",
       "    <text dy=\"1.25em\" style=\"font-size: 0.8em; letter-spacing: 1px\">\n",
       "        <textPath xlink:href=\"#arrow-2d37958c869e45039a304e6bc9b5c6cb-0-3\" class=\"displacy-label\" startOffset=\"50%\" side=\"left\" fill=\"currentColor\" text-anchor=\"middle\">-</textPath>\n",
       "    </text>\n",
       "    <path class=\"displacy-arrowhead\" d=\"M445.0,104.0 L453.0,92.0 437.0,92.0\" fill=\"currentColor\"/>\n",
       "</g>\n",
       "</svg></span>"
      ],
      "text/plain": [
       "<IPython.core.display.HTML object>"
      ]
     },
     "metadata": {},
     "output_type": "display_data"
    }
   ],
   "source": [
    "sent_nr = \"\"\"\n",
    "1 ein 3 -\n",
    "2 elektrisches 3 -\n",
    "3 Auto 4 -\n",
    "4 fährt 0 ROOT\n",
    "5 schnell 4 - \n",
    "\"\"\"\n",
    "\n",
    "show_dep_trees(sent_nr)"
   ]
  },
  {
   "cell_type": "markdown",
   "metadata": {},
   "source": [
    "#### Geben Sie (analog zum obigen Beispiel) den Typ der REDUCE-Übergänge (`LEFTARC`, `RIGHTARC`) sowie die Reihenfolge deren Durchführung bei Verarbeitung dieser Struktur mit einem Shift-Reduce-Dependency-Parser an.\n"
   ]
  },
  {
   "cell_type": "markdown",
   "metadata": {},
   "source": [
    "| STACK | BUFFER | TRANSITION |\n",
    "|-------|--------|------------|\n",
    "|   ROOT ein elektr Auto    |    fährt schnell    |    3 x SHIFT        |\n",
    "|   ROOT ein Auto    |   fährt schnell     |     LEFTARC       |\n",
    "|   ROOT Auto    |   fährt schnell     |     LEFTARC       |\n",
    "|   ROOT Auto fährt     |   schnell     |     SHIFT       |\n",
    "|  ROOT fährt     |   schnell     |     LEFTARC       |\n",
    "|  ROOT fährt schnell     |        |     SHIFT       |\n",
    "|    ROOT fährt   |        |      RIGHTARC      |\n",
    "|    ROOT   |        |      Done      |\n"
   ]
  },
  {
   "cell_type": "code",
   "execution_count": 14,
   "metadata": {},
   "outputs": [
    {
     "data": {
      "text/html": [
       "<span class=\"tex2jax_ignore\"><svg xmlns=\"http://www.w3.org/2000/svg\" xmlns:xlink=\"http://www.w3.org/1999/xlink\" xml:lang=\"en\" id=\"63061932ed7649968aa759e8d1217b0e-0\" class=\"displacy\" width=\"550\" height=\"237.0\" direction=\"ltr\" style=\"max-width: none; height: 237.0px; color: #000000; background: #ffffff; font-family: Arial; direction: ltr\">\n",
       "<text class=\"displacy-token\" fill=\"currentColor\" text-anchor=\"middle\" y=\"147.0\">\n",
       "    <tspan class=\"displacy-word\" fill=\"currentColor\" x=\"50\">ein</tspan>\n",
       "    <tspan class=\"displacy-tag\" dy=\"2em\" fill=\"currentColor\" x=\"50\"></tspan>\n",
       "</text>\n",
       "\n",
       "<text class=\"displacy-token\" fill=\"currentColor\" text-anchor=\"middle\" y=\"147.0\">\n",
       "    <tspan class=\"displacy-word\" fill=\"currentColor\" x=\"150\">elektrisches</tspan>\n",
       "    <tspan class=\"displacy-tag\" dy=\"2em\" fill=\"currentColor\" x=\"150\"></tspan>\n",
       "</text>\n",
       "\n",
       "<text class=\"displacy-token\" fill=\"currentColor\" text-anchor=\"middle\" y=\"147.0\">\n",
       "    <tspan class=\"displacy-word\" fill=\"currentColor\" x=\"250\">Auto</tspan>\n",
       "    <tspan class=\"displacy-tag\" dy=\"2em\" fill=\"currentColor\" x=\"250\"></tspan>\n",
       "</text>\n",
       "\n",
       "<text class=\"displacy-token\" fill=\"currentColor\" text-anchor=\"middle\" y=\"147.0\">\n",
       "    <tspan class=\"displacy-word\" fill=\"currentColor\" x=\"350\">fährt</tspan>\n",
       "    <tspan class=\"displacy-tag\" dy=\"2em\" fill=\"currentColor\" x=\"350\"></tspan>\n",
       "</text>\n",
       "\n",
       "<text class=\"displacy-token\" fill=\"currentColor\" text-anchor=\"middle\" y=\"147.0\">\n",
       "    <tspan class=\"displacy-word\" fill=\"currentColor\" x=\"450\">schnell</tspan>\n",
       "    <tspan class=\"displacy-tag\" dy=\"2em\" fill=\"currentColor\" x=\"450\"></tspan>\n",
       "</text>\n",
       "\n",
       "<g class=\"displacy-arrow\">\n",
       "    <path class=\"displacy-arc\" id=\"arrow-63061932ed7649968aa759e8d1217b0e-0-0\" stroke-width=\"2px\" d=\"M70,102.0 C70,2.0 250.0,2.0 250.0,102.0\" fill=\"none\" stroke=\"currentColor\"/>\n",
       "    <text dy=\"1.25em\" style=\"font-size: 0.8em; letter-spacing: 1px\">\n",
       "        <textPath xlink:href=\"#arrow-63061932ed7649968aa759e8d1217b0e-0-0\" class=\"displacy-label\" startOffset=\"50%\" side=\"left\" fill=\"currentColor\" text-anchor=\"middle\">LEFTARC-2</textPath>\n",
       "    </text>\n",
       "    <path class=\"displacy-arrowhead\" d=\"M70,104.0 L62,92.0 78,92.0\" fill=\"currentColor\"/>\n",
       "</g>\n",
       "\n",
       "<g class=\"displacy-arrow\">\n",
       "    <path class=\"displacy-arc\" id=\"arrow-63061932ed7649968aa759e8d1217b0e-0-1\" stroke-width=\"2px\" d=\"M170,102.0 C170,52.0 245.0,52.0 245.0,102.0\" fill=\"none\" stroke=\"currentColor\"/>\n",
       "    <text dy=\"1.25em\" style=\"font-size: 0.8em; letter-spacing: 1px\">\n",
       "        <textPath xlink:href=\"#arrow-63061932ed7649968aa759e8d1217b0e-0-1\" class=\"displacy-label\" startOffset=\"50%\" side=\"left\" fill=\"currentColor\" text-anchor=\"middle\">LEFTARC-1</textPath>\n",
       "    </text>\n",
       "    <path class=\"displacy-arrowhead\" d=\"M170,104.0 L162,92.0 178,92.0\" fill=\"currentColor\"/>\n",
       "</g>\n",
       "\n",
       "<g class=\"displacy-arrow\">\n",
       "    <path class=\"displacy-arc\" id=\"arrow-63061932ed7649968aa759e8d1217b0e-0-2\" stroke-width=\"2px\" d=\"M270,102.0 C270,52.0 345.0,52.0 345.0,102.0\" fill=\"none\" stroke=\"currentColor\"/>\n",
       "    <text dy=\"1.25em\" style=\"font-size: 0.8em; letter-spacing: 1px\">\n",
       "        <textPath xlink:href=\"#arrow-63061932ed7649968aa759e8d1217b0e-0-2\" class=\"displacy-label\" startOffset=\"50%\" side=\"left\" fill=\"currentColor\" text-anchor=\"middle\">LEFTARC-3</textPath>\n",
       "    </text>\n",
       "    <path class=\"displacy-arrowhead\" d=\"M270,104.0 L262,92.0 278,92.0\" fill=\"currentColor\"/>\n",
       "</g>\n",
       "\n",
       "<g class=\"displacy-arrow\">\n",
       "    <path class=\"displacy-arc\" id=\"arrow-63061932ed7649968aa759e8d1217b0e-0-3\" stroke-width=\"2px\" d=\"M370,102.0 C370,52.0 445.0,52.0 445.0,102.0\" fill=\"none\" stroke=\"currentColor\"/>\n",
       "    <text dy=\"1.25em\" style=\"font-size: 0.8em; letter-spacing: 1px\">\n",
       "        <textPath xlink:href=\"#arrow-63061932ed7649968aa759e8d1217b0e-0-3\" class=\"displacy-label\" startOffset=\"50%\" side=\"left\" fill=\"currentColor\" text-anchor=\"middle\">RIGHTARC-4</textPath>\n",
       "    </text>\n",
       "    <path class=\"displacy-arrowhead\" d=\"M445.0,104.0 L453.0,92.0 437.0,92.0\" fill=\"currentColor\"/>\n",
       "</g>\n",
       "</svg></span>"
      ],
      "text/plain": [
       "<IPython.core.display.HTML object>"
      ]
     },
     "metadata": {},
     "output_type": "display_data"
    }
   ],
   "source": [
    "sent_nr = \"\"\"\n",
    "1 ein 3 LEFTARC-2\n",
    "2 elektrisches 3 LEFTARC-1\n",
    "3 Auto 4 LEFTARC-3\n",
    "4 fährt 0 ROOT\n",
    "5 schnell 4 RIGHTARC-4\n",
    "\"\"\"\n",
    "\n",
    "show_dep_trees(sent_nr)"
   ]
  },
  {
   "cell_type": "markdown",
   "metadata": {},
   "source": [
    "## *Aufgabe 5 - Ergänzungen vs. Angaben (1)*\n",
    "\n",
    "#### Betrachten Sie den folgenden Satz:\n",
    "- Die neue Kollegin fährt mit der S-Bahn zu ihrem neuen Arbeitsplatz.\n",
    "\n",
    "#### Diskutieren Sie, ob in diesem Satz alle vom Verb abhängigen Satzglieder Ergänzungen (Komplemente) sind. Welche Tests können Sie anführen, um Ihren Standpunkt zu begründen?"
   ]
  },
  {
   "cell_type": "code",
   "execution_count": null,
   "metadata": {},
   "outputs": [],
   "source": [
    "# nicht alle Satzglieder sind Komplemente\n",
    "# PP \"mit der S-Bahn\" ist Adjunkt (Angabe)\n",
    "\n",
    "# geschehens-Test: \"Die neue Kollegin fährt zu ihrem neuen Arbeitsplatz, und das geschieht mit der S-Bahn.\" \n",
    "# Eliminierungstest: Die neue Kollegin fährt zu ihrem neuen Arbeitsplatz.\""
   ]
  },
  {
   "cell_type": "markdown",
   "metadata": {},
   "source": [
    "## *Aufgabe 6 - Ergänzungen vs. Angaben (2)*\n",
    "\n",
    "#### Diskutieren Sie die Problematik der Unterscheidung von Ergänzungen (Komplemente) und Angaben (verbale Adjunkte) mit Bezug auf die folgenden Sätze:\n",
    "1. *Peter steigt auf das Pferd.*\n",
    "2. *Peter besteigt das Pferd.*\n",
    "3. *Peter reitet das Pferd.*\n",
    "\n",
    "#### Welche Ergebnisse liefern die Tests zur Komplement/Adjunkt-Differenzierung?"
   ]
  },
  {
   "cell_type": "code",
   "execution_count": null,
   "metadata": {},
   "outputs": [],
   "source": [
    "# Lösung (PP-Satzglieder können Komplement sein, also eine vom Verb geforderte adverbiale Ergänzung)\n",
    "# a) 1. Satz: \"auf das Pferd\"\n",
    "\n",
    "#Eliminierungstest (NEIN): Komplement\n",
    "#geschehens-Test (NEIN): Komplement\n",
    "#Adverbialsatz-Test (NEIN): Komplement"
   ]
  },
  {
   "cell_type": "code",
   "execution_count": null,
   "metadata": {},
   "outputs": [],
   "source": [
    "# Lösung (Satzglied ist Komplement/Ergänzung)\n",
    "# b) 2. Satz: \"das Pferd\"\n",
    "\n",
    "#Eliminierungstest (NEIN): Komplement\n",
    "#geschehens-Test (NEIN): Komplement\n",
    "#Adverbialsatz-Test (NEIN): Komplement"
   ]
  },
  {
   "cell_type": "code",
   "execution_count": null,
   "metadata": {},
   "outputs": [],
   "source": [
    "# Lösung (Satzglied ist fakultative Ergänzung)\n",
    "# b) 3. Satz: \"das Pferd\"\n",
    "\n",
    "#Eliminierungstest (JA): Adjunkt/Angabe\n",
    "#geschehens-Test (NEIN): Komplement\n",
    "#Adverbialsatz-Test (NEIN): Komplement"
   ]
  }
 ],
 "metadata": {
  "kernelspec": {
   "display_name": "Python 3 (ipykernel)",
   "language": "python",
   "name": "python3"
  },
  "language_info": {
   "codemirror_mode": {
    "name": "ipython",
    "version": 3
   },
   "file_extension": ".py",
   "mimetype": "text/x-python",
   "name": "python",
   "nbconvert_exporter": "python",
   "pygments_lexer": "ipython3",
   "version": "3.9.12"
  }
 },
 "nbformat": 4,
 "nbformat_minor": 2
}
