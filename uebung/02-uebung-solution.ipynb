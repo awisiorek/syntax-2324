{
 "cells": [
  {
   "cell_type": "markdown",
   "metadata": {},
   "source": [
    "Syntax natürlicher Sprachen, WS 2023/24\n",
    "\n",
    "# 02 - Übung (Lösung)"
   ]
  },
  {
   "cell_type": "code",
   "execution_count": 2,
   "metadata": {},
   "outputs": [],
   "source": [
    "import nltk\n",
    "from nltk.tree import Tree\n",
    "from nltk.parse.generate import generate"
   ]
  },
  {
   "cell_type": "markdown",
   "metadata": {},
   "source": [
    "\n",
    "## Aufgabe 1 - Ergänzung um Phrasenkategorien"
   ]
  },
  {
   "cell_type": "markdown",
   "metadata": {},
   "source": [
    "\n",
    "#### Ergänzen Sie in folgendem Klammerausdruck (aus der vorherigen Übung) die Phrasenkategorie-Label und generieren Sie den entsprechenden Syntaxbaum, indem Sie die Codezelle anschließend ausführen."
   ]
  },
  {
   "cell_type": "code",
   "execution_count": 3,
   "metadata": {},
   "outputs": [
    {
     "name": "stdout",
     "output_type": "stream",
     "text": [
      "                                 S                              \n",
      "      ┌──────────────────────────┴──────────┐                    \n",
      "      │                                     VP                  \n",
      "      │                ┌────────────────────┴───────┐            \n",
      "      │                VP                           PP          \n",
      "      │          ┌─────┴─────────┐              ┌───┴──────┐     \n",
      "      NP         │               NP             │          NP   \n",
      "      │          │               │              │          │     \n",
      "Fischers_Fritz fischt     die_frischen_Fis     aus     dem_Fluss\n",
      "                                che                             \n",
      "\n"
     ]
    }
   ],
   "source": [
    "#Lösung\n",
    "tree = Tree.fromstring(\"\"\"\n",
    "(S\n",
    "    (NP Fischers_Fritz)\n",
    "    (VP\n",
    "        (VP\n",
    "            fischt\n",
    "            (NP die_frischen_Fische)\n",
    "        )\n",
    "        (PP\n",
    "            aus\n",
    "            (NP dem_Fluss)\n",
    "        )\n",
    "    )\n",
    ")\n",
    "\"\"\")\n",
    "\n",
    "tree.pretty_print(unicodelines=True)"
   ]
  },
  {
   "cell_type": "markdown",
   "metadata": {},
   "source": [
    "## *Aufgabe 2 - Phrasen und Konstituenten*\n",
    "\n",
    "#### Erläutern Sie am Beispiel des Wortes *Verloren* im folgenden Satz den Unterschied zwischen Konstituente und Phrase.\n",
    "\n",
    "- *Verloren hat er seinen Schlüsselbund zwar noch nie, aber oft genug verlegt.*"
   ]
  },
  {
   "cell_type": "code",
   "execution_count": 4,
   "metadata": {},
   "outputs": [],
   "source": [
    "# 'verloren' ist Konstituente (verschiebbar), aber keine Phrase:\n",
    "# denn das Partizip ist Teil einer komplexen VP ('hat seinen Schlüsselbund zwar noch nie verloren'),\n",
    "# aus dieser wurde es extrahiert und ins Vorfeld gestellt. \n",
    "\n",
    "# Das Beispiel zeigt auch, dass nicht nur ausschließlich Satzglieder, \n",
    "# sondern bei einem komplexen Prädikat-Satzglied ('hat verloren') auch die Partizip-Subkonstituente \n",
    "# in das (vom finite Verb 'hat' bestimmte) Vorfeld verschoben werden kann."
   ]
  },
  {
   "cell_type": "markdown",
   "metadata": {},
   "source": [
    "## *Aufgabe 3 - Wortarten*\n",
    "\n",
    "### (a) Bestimmen Sie die Wortarten des folgenden Satzes. Geben Sie jeweils das entsprechende Tag aus dem Universal Dependency (http://universaldependencies.org/u/pos/) Tagset an. Sie können für einen Vergleich auch weitere Tagsets verwenden.\n",
    "\n",
    "*Sie gab ihm das neue Buch von Chomsky, aber er zeigte kein Interesse daran.*"
   ]
  },
  {
   "cell_type": "markdown",
   "metadata": {},
   "source": [
    "\n",
    "| *Tagset:* | Sie | gab | ihm | das | neue | Buch | von | Chomsky | aber | er  | zeigte | kein | Interesse | daran |\n",
    "| --- | --- | --- | --- | --- | ---- | ---- | --- | -------- | ---- | --- | ------ | ---- | --------- | ------ |\n",
    "| __(UD vereinfacht)__ | PRON | V | PRON | DET | ADJ  | N  | P | PROPN   | CONJ  | PRON | V  | PRON/DET  | N     | PRON/ADV   |\n",
    "| __UD__ | PRON | VERB | PRON | DET | ADJ  | NOUN  | ADP | PROPN   | CCONJ  | PRON | VERB    | PRON/DET  | NOUN    | PRON/ADV   |\n",
    "| __TIGER__ | PPER | VVFIN | PPER | ART | ADJA | NN | APPR | NE | KON | PPER | VVFIN | PIAT | NN | PROAV |\n",
    "| __PennTreebank__  | PRP | VBD | PRP | DT | JJ | NN | IN | NNP | CC | PRP | VBD | DT | NN | RB |"
   ]
  },
  {
   "cell_type": "markdown",
   "metadata": {},
   "source": [
    "### (b) Vergleichen Sie ihre Tabelle anschließend mit dem Output des Spacy-Taggers.\n"
   ]
  },
  {
   "cell_type": "code",
   "execution_count": 5,
   "metadata": {},
   "outputs": [],
   "source": [
    "import spacy\n",
    "\n",
    "nlp = spacy.load(\"de_core_news_sm\")\n",
    "doc = nlp('Sie gab ihm das neue Buch von Chomsky, aber er zeigte kein Interesse daran.')"
   ]
  },
  {
   "cell_type": "code",
   "execution_count": 6,
   "metadata": {},
   "outputs": [
    {
     "name": "stdout",
     "output_type": "stream",
     "text": [
      "Text       UD Tag     TIGER Tag \n",
      "========== ========== ==========\n",
      "Sie        PRON       PPER      \n",
      "gab        VERB       VVFIN     \n",
      "ihm        PRON       PPER      \n",
      "das        DET        ART       \n",
      "neue       ADJ        ADJA      \n",
      "Buch       NOUN       NN        \n",
      "von        ADP        APPR      \n",
      "Chomsky    PROPN      NE        \n",
      ",          PUNCT      $,        \n",
      "aber       CCONJ      KON       \n",
      "er         PRON       PPER      \n",
      "zeigte     VERB       VVFIN     \n",
      "kein       DET        PIAT      \n",
      "Interesse  NOUN       NN        \n",
      "daran      ADV        PROAV     \n",
      ".          PUNCT      $.        \n"
     ]
    }
   ],
   "source": [
    "format_string = '{:10s} {:10s} {:10s}'\n",
    "print(format_string.format('Text', 'UD Tag', 'TIGER Tag'))\n",
    "print(format_string.format(*(['==========']*3)))\n",
    "for token in doc:\n",
    "    print(format_string.format(token.text, token.pos_, token.tag_))"
   ]
  },
  {
   "cell_type": "markdown",
   "metadata": {},
   "source": [
    "### (c) Verwenden Sie Spacy zur Auflösung unklarer Tagnamen.\n",
    "\n",
    "- `spacy.explain()` ist eine Funktion in der Spacy-Bibliothek, die eine textuelle Erklärung für eine gegebene Spacy-Token-ID oder POS-Tag liefert.\n",
    "\n",
    "- Sie können auch `nltk.help.upenn_tagset()` für zusätzliche Beispiele für die POS-Tags der Penn Treebank verwenden."
   ]
  },
  {
   "cell_type": "code",
   "execution_count": 7,
   "metadata": {},
   "outputs": [
    {
     "data": {
      "text/plain": [
       "'attributive indefinite pronoun without determiner'"
      ]
     },
     "execution_count": 7,
     "metadata": {},
     "output_type": "execute_result"
    }
   ],
   "source": [
    "spacy.explain('PIAT') #TIGER"
   ]
  },
  {
   "cell_type": "markdown",
   "metadata": {},
   "source": [
    "---"
   ]
  },
  {
   "cell_type": "code",
   "execution_count": 8,
   "metadata": {},
   "outputs": [
    {
     "data": {
      "text/plain": [
       "'pronoun'"
      ]
     },
     "execution_count": 8,
     "metadata": {},
     "output_type": "execute_result"
    }
   ],
   "source": [
    "spacy.explain('PRON') #UD"
   ]
  },
  {
   "cell_type": "code",
   "execution_count": 9,
   "metadata": {},
   "outputs": [
    {
     "data": {
      "text/plain": [
       "'pronominal adverb'"
      ]
     },
     "execution_count": 9,
     "metadata": {},
     "output_type": "execute_result"
    }
   ],
   "source": [
    "spacy.explain('PROAV') #TIGER"
   ]
  },
  {
   "cell_type": "code",
   "execution_count": 10,
   "metadata": {},
   "outputs": [
    {
     "data": {
      "text/plain": [
       "'adverb'"
      ]
     },
     "execution_count": 10,
     "metadata": {},
     "output_type": "execute_result"
    }
   ],
   "source": [
    "spacy.explain('RB') #PennTreebank"
   ]
  },
  {
   "cell_type": "code",
   "execution_count": 11,
   "metadata": {},
   "outputs": [
    {
     "name": "stdout",
     "output_type": "stream",
     "text": [
      "RB: adverb\n",
      "    occasionally unabatingly maddeningly adventurously professedly\n",
      "    stirringly prominently technologically magisterially predominately\n",
      "    swiftly fiscally pitilessly ...\n"
     ]
    }
   ],
   "source": [
    "nltk.help.upenn_tagset('RB') # PennTreebank, with NLTK helper"
   ]
  },
  {
   "cell_type": "markdown",
   "metadata": {},
   "source": [
    "---"
   ]
  },
  {
   "cell_type": "code",
   "execution_count": 12,
   "metadata": {},
   "outputs": [
    {
     "data": {
      "text/plain": [
       "'adposition'"
      ]
     },
     "execution_count": 12,
     "metadata": {},
     "output_type": "execute_result"
    }
   ],
   "source": [
    "spacy.explain('ADP') #UD"
   ]
  },
  {
   "cell_type": "code",
   "execution_count": 13,
   "metadata": {},
   "outputs": [
    {
     "data": {
      "text/plain": [
       "'preposition; circumposition left'"
      ]
     },
     "execution_count": 13,
     "metadata": {},
     "output_type": "execute_result"
    }
   ],
   "source": [
    "spacy.explain('APPR') #TIGER"
   ]
  },
  {
   "cell_type": "code",
   "execution_count": 14,
   "metadata": {},
   "outputs": [
    {
     "data": {
      "text/plain": [
       "'conjunction, subordinating or preposition'"
      ]
     },
     "execution_count": 14,
     "metadata": {},
     "output_type": "execute_result"
    }
   ],
   "source": [
    "spacy.explain('IN') #PennTreebank"
   ]
  },
  {
   "cell_type": "markdown",
   "metadata": {},
   "source": [
    "## *Aufgabe 4 - Distributionsanalysen*\n",
    "\n",
    "#### Mit Hilfe  des NLTK können distributionsäquivalente Wörter gesucht werden, also solche, die in gleichen Kontexten auftreten (vgl. https://www.nltk.org/book/ch05.html#using-a-tagger).\n",
    "\n",
    "#### Betrachten Sie folgenden Aufruf und erläutern Sie.\n"
   ]
  },
  {
   "cell_type": "code",
   "execution_count": 15,
   "metadata": {},
   "outputs": [
    {
     "name": "stdout",
     "output_type": "stream",
     "text": [
      "little new first good small large great the old other strong young\n",
      "major white second short beautiful a best long\n"
     ]
    }
   ],
   "source": [
    "from nltk.corpus import brown\n",
    "text = nltk.Text(word.lower() for word in nltk.corpus.brown.words())\n",
    "text.similar('big')"
   ]
  },
  {
   "cell_type": "code",
   "execution_count": 16,
   "metadata": {},
   "outputs": [],
   "source": [
    "# Erläuterung:\n",
    "# Feststellung von Adjektiven als Klasse distributionsäquivalenter Wörter\n",
    "# empirisch begründete Kategorisierung syntaktischer Einheiten (hier Wortart Adjektiv)"
   ]
  },
  {
   "cell_type": "markdown",
   "metadata": {},
   "source": [
    "## *Aufgabe 5 - Wortarten im Kontext*\n",
    "\n",
    "#### Betrachten sie folgende Sätze:\n",
    "1. *Er spielt gerne Schach.*\n",
    "2. *Er spielt gut Schach.*\n"
   ]
  },
  {
   "cell_type": "markdown",
   "metadata": {},
   "source": [
    "#### Diskutieren Sie, ob es sich bei dem Wort *gerne* in Satz 1 um ein Adverb oder ein Adjektiv handelt."
   ]
  },
  {
   "cell_type": "code",
   "execution_count": 17,
   "metadata": {},
   "outputs": [],
   "source": [
    "# 1. Es bezeichnet die näheren Umstände des im Verb ausgedrückten Geschehens.\n",
    "# 2. Es fungiert als Satzglied mit der syntaktischen Funktion Adverbial.\n",
    "# 3. Es ist NICHT flektierbar.\n",
    "\n",
    "# ADVERB"
   ]
  },
  {
   "cell_type": "markdown",
   "metadata": {},
   "source": [
    "#### Um welche Wortart handelt es sich bei dem Lexem *gut* in Satz 2? Diskutieren Sie die Probleme, die hier bei der Wortartenbestimmung auftreten."
   ]
  },
  {
   "cell_type": "code",
   "execution_count": 18,
   "metadata": {},
   "outputs": [],
   "source": [
    "# 1. Es bezeichnet die näheren Umstände des im Verb ausgedrückten Geschehens.\n",
    "# 2. Es fungiert als Satzglied mit der syntaktischen Funktion Adverbial.\n",
    "# 3. Es ist flektierbar.\n",
    "\n",
    "# ADJEKTIV"
   ]
  },
  {
   "cell_type": "markdown",
   "metadata": {},
   "source": [
    "#### Welche Wortart könnte man für das Wort gut in Satz 2 vermuten, wenn man Adverbien nicht morphologisch, sondern semantisch charakterisiert (als Wortart, die der Modifizierung des Verbalgeschehens dient)?\n"
   ]
  },
  {
   "cell_type": "code",
   "execution_count": 19,
   "metadata": {},
   "outputs": [],
   "source": [
    "# ADVERB"
   ]
  },
  {
   "cell_type": "markdown",
   "metadata": {},
   "source": [
    "\n",
    "## Aufgabe 6 - Phrasenstrukturbaum\n",
    "\n",
    "#### Geben Sie nun für den Satz aus Aufgabe 1 einen vollständigen Phrasenstrukturbaum inklusive Wortart-Label an:\n",
    "\n",
    "*Fischers Fritz fischt die frischen Fische aus dem Fluss.*\n",
    "\n"
   ]
  },
  {
   "cell_type": "code",
   "execution_count": 20,
   "metadata": {},
   "outputs": [
    {
     "name": "stdout",
     "output_type": "stream",
     "text": [
      "                                     S                             \n",
      "          ┌──────────────────────────┴───────┐                      \n",
      "          │                                  VP                    \n",
      "          │                    ┌─────────────┴─────────┐            \n",
      "          │                    VP                      PP          \n",
      "          │          ┌─────────┴─────┐             ┌───┴───┐        \n",
      "          NP         │               NP            │       NP      \n",
      "   ┌──────┴────┐     │     ┌─────────┼───────┐     │   ┌───┴────┐   \n",
      " PROPN       PROPN   V    DET       ADJ      N     P  DET       N  \n",
      "   │           │     │     │         │       │     │   │        │   \n",
      "Fischers     Fritz fischt die     frischen Fische aus dem     Fluss\n",
      "\n"
     ]
    }
   ],
   "source": [
    "tree = Tree.fromstring(\"\"\"\n",
    "(S\n",
    "    (NP (PROPN Fischers) (PROPN Fritz))\n",
    "    (VP\n",
    "        (VP\n",
    "            (V fischt)\n",
    "            (NP (DET die) (ADJ frischen) (N Fische))\n",
    "        )\n",
    "        (PP \n",
    "            (P aus)\n",
    "            (NP (DET dem) (N Fluss))\n",
    "        )\n",
    "    )\n",
    ")\n",
    "\"\"\")\n",
    "\n",
    "tree.pretty_print(unicodelines=True)"
   ]
  },
  {
   "cell_type": "markdown",
   "metadata": {},
   "source": [
    "## *Aufgabe 7 - Eine erste Phrasenstrukturgrammatik*\n",
    "\n",
    "#### (a) Betrachten Sie folgende einfache kontextfreie Grammatik (CFG) und erklären Sie deren Funktionsweise anhand der in der Vorlesung besprochenen Konzepte von CFGs.\n",
    "\n",
    "#### Gehen Sie dabei besonders auf folgende Konzepte ein:\n",
    "\n",
    "- Non-Terminale vs. Terminale\n",
    "- Regelaufbau von CFGS (LHS vs. RHS usw.)\n",
    "- Startsymbol\n",
    "- syntaktische vs. lexikalische Regeln\n"
   ]
  },
  {
   "cell_type": "code",
   "execution_count": 21,
   "metadata": {},
   "outputs": [],
   "source": [
    "grammar = nltk.CFG.fromstring(\"\"\"\n",
    "    S -> NP VP\n",
    "    NP -> PROPN\n",
    "    VP -> V NP\n",
    "    PROPN -> \"Maria\" | \"Moritz\"\n",
    "    V -> \"kennt\"\n",
    "\"\"\")"
   ]
  },
  {
   "cell_type": "code",
   "execution_count": null,
   "metadata": {},
   "outputs": [],
   "source": [
    "# Syntaktische Regeln:\n",
    "    S -> NP VP  # Satzregel mit S als Startsymbol auf der linken Seite (LHS), erweitert nach NP VP (RHS = rechte Seite)\n",
    "    NP  -> PROPN \n",
    "    VP -> V NP # VP, V und NP sind Nichtterminale Kategorien (V als POS-Kategorie auch 'Präterminal')\n",
    "\n",
    "# Lexikalische Regeln:\n",
    "    PROPN -> \"Maria\" | \"Moritz\" # hier 2 verschiedene RHS, entspricht 2 Regeln mit der LHS: PROPN -> \"Maria\", PROPN -> \"Moritz\"\n",
    "    V -> \"kennt\" # auf RHS hier Terminalsymbole (Wörter); werden im NLTK als Strings geschrieben!"
   ]
  },
  {
   "cell_type": "code",
   "execution_count": 23,
   "metadata": {},
   "outputs": [],
   "source": [
    "# Erläuterungen:\n",
    "\n",
    "# Die CFG beschreibt die Struktur von Sätzen in einer formalen Sprache, \n",
    "# indem sie die Verbindungen zwischen den syntaktischen und lexikalischen Kategorien und den Wörtern \n",
    "# durch Ableitungsregeln festlegt.\n",
    "\n",
    "# Regeln haben linke und rechte Seite (LHS/RHS: left/right-hand side)\n",
    "# Ableitungsregeln: RHS aus LHS ableitbar\n",
    "    # LHS besteht aus genau 1 Non-Terminal-Symbol (Phrasen- oder POS-Kategorien)\n",
    "    # RHS besteht aus 1 oder mehreren Non-Terminalen und/oder Terminalen (Wörter)\n",
    "    # Startsymbol: S als LHS (Satz als Wurzelknoten, Ausgangspunkt für Ableitungen)\n",
    "\n",
    "# Es kann in der Modellierung natürlichsprachlicher Syntax mit CFGS\n",
    "# zwischen syntaktischen und lexikalischen Regeln unterschieden werden:\n",
    "    # syntaktischen Regeln leiten Phrasen-Kategorien (Non-Terminale) auf Phrasen- oder POS-Kategorien (Non-Terminale) ab (VP -> V NP)\n",
    "    # lexikalische Regeln leiten POS-Kategorien (Non-Terminale) auf Wörter (Terminale) ab. (V -> \"kennt\")"
   ]
  },
  {
   "cell_type": "markdown",
   "metadata": {},
   "source": [
    "#### (b) Parsen Sie den gegebenen Satz mit Hilfe der Grammatik, indem Sie das folgende Python-Skript ausführen. Erläutern Sie die Funktionsweise des Codes durch Kommentare."
   ]
  },
  {
   "cell_type": "code",
   "execution_count": 24,
   "metadata": {},
   "outputs": [
    {
     "name": "stdout",
     "output_type": "stream",
     "text": [
      "(S (NP (PROPN Maria)) (VP (V kennt) (NP (PROPN Moritz))))\n",
      "        S             \n",
      "  ┌─────┴────┐         \n",
      "  │          VP       \n",
      "  │     ┌────┴────┐    \n",
      "  NP    │         NP  \n",
      "  │     │         │    \n",
      "PROPN   V       PROPN \n",
      "  │     │         │    \n",
      "Maria kennt     Moritz\n",
      "\n"
     ]
    }
   ],
   "source": [
    "# Der zu parsende Satz:\n",
    "sent = \"Maria kennt Moritz\"\n",
    "\n",
    "# Erzeugen eines Chart-Parsers mit der definierten Grammatik:\n",
    "parser = nltk.ChartParser(grammar)\n",
    "\n",
    "# Durchlaufen und Parsen des Satzes:\n",
    "for tree in parser.parse(sent.split()): #Parser liefert Sequenz zurück, da potentiell mehr als ein Parsebaum möglich (Ambiguität)\n",
    "    print(tree) # unformatierten Syntaxbaum ausgeben (Klammerausdruck)\n",
    "    tree.pretty_print(unicodelines=True) # formatierten Syntaxbaum ausgeben"
   ]
  },
  {
   "cell_type": "markdown",
   "metadata": {},
   "source": [
    "### (c) Überlegen Sie zunächst, wie viele Sätze von dieser Grammatik generiert werden können, bevor Sie den folgenden Codeblock ausführen:"
   ]
  },
  {
   "cell_type": "code",
   "execution_count": 25,
   "metadata": {},
   "outputs": [
    {
     "name": "stdout",
     "output_type": "stream",
     "text": [
      "Maria kennt Maria\n",
      "Maria kennt Moritz\n",
      "Moritz kennt Maria\n",
      "Moritz kennt Moritz\n"
     ]
    }
   ],
   "source": [
    "for sentence in generate(grammar, depth=5):\n",
    "    print(' '.join(sentence))"
   ]
  },
  {
   "cell_type": "code",
   "execution_count": null,
   "metadata": {},
   "outputs": [],
   "source": [
    "# 4 mögliche Ableitungen"
   ]
  },
  {
   "cell_type": "markdown",
   "metadata": {},
   "source": [
    "## Aufgabe 8 - Erweiterung Phrasenstrukturgrammatik\n",
    "#### Erweitern Sie die Grammatik aus der vorherigen Aufgabe um syntaktische sowie lexikalische Regeln für eine adverbiale Ergänzung mit *(sehr) gut*.\n",
    "\n",
    "#### Testen Sie dazu mit untenstehenden Beispielsätzen, ob Ihre Grammatik den Satz ableitet:"
   ]
  },
  {
   "cell_type": "code",
   "execution_count": 26,
   "metadata": {},
   "outputs": [],
   "source": [
    "sents = [\n",
    "    \"Maria kennt Moritz gut\",\n",
    "    \"Maria kennt Moritz sehr gut\",\n",
    "]"
   ]
  },
  {
   "cell_type": "code",
   "execution_count": 27,
   "metadata": {},
   "outputs": [
    {
     "name": "stdout",
     "output_type": "stream",
     "text": [
      "             S             \n",
      "  ┌──────────┴────┐         \n",
      "  │               VP       \n",
      "  │     ┌─────────┼─────┐   \n",
      "  NP    │         NP   ADJP\n",
      "  │     │         │     │   \n",
      "PROPN   V       PROPN  ADJ \n",
      "  │     │         │     │   \n",
      "Maria kennt     Moritz gut \n",
      "\n",
      "        S                       \n",
      "  ┌─────┴─────┐                  \n",
      "  │           VP                \n",
      "  │     ┌─────┼──────────┐       \n",
      "  NP    │     NP        ADJP    \n",
      "  │     │     │     ┌────┴────┐  \n",
      "PROPN   V   PROPN  PRT       ADJ\n",
      "  │     │     │     │         │  \n",
      "Maria kennt Moritz sehr      gut\n",
      "\n"
     ]
    }
   ],
   "source": [
    "grammar = nltk.CFG.fromstring(\"\"\"\n",
    "#gegebene Grammatik:\n",
    "    S -> NP VP\n",
    "    NP -> PROPN\n",
    "    VP -> V NP\n",
    "    PROPN -> \"Maria\" | \"Moritz\"\n",
    "    V -> \"kennt\"\n",
    "\n",
    "# neue Regeln:\n",
    "    VP -> V NP ADJP\n",
    "    ADJP -> ADJ | PRT ADJ\n",
    "    ADJ -> \"gut\"\n",
    "    PRT -> \"sehr\"\n",
    "\"\"\")\n",
    "\n",
    "parser = nltk.ChartParser(grammar)\n",
    "for sent in sents:\n",
    "    trees = list(parser.parse(sent.split()))\n",
    "    if trees: [tree.pretty_print(unicodelines=True) for tree in trees]\n",
    "    else: print(f\"no parse found for: {sent}\")"
   ]
  }
 ],
 "metadata": {
  "kernelspec": {
   "display_name": "Python 3 (ipykernel)",
   "language": "python",
   "name": "python3"
  },
  "language_info": {
   "codemirror_mode": {
    "name": "ipython",
    "version": 3
   },
   "file_extension": ".py",
   "mimetype": "text/x-python",
   "name": "python",
   "nbconvert_exporter": "python",
   "pygments_lexer": "ipython3",
   "version": "3.9.12"
  }
 },
 "nbformat": 4,
 "nbformat_minor": 2
}
