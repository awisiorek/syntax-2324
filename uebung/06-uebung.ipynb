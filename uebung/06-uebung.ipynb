{
 "cells": [
  {
   "cell_type": "markdown",
   "metadata": {},
   "source": [
    "Syntax natürlicher Sprachen, WS 2023/24\n",
    "\n",
    "# 06 - Übung"
   ]
  },
  {
   "cell_type": "code",
   "execution_count": 1,
   "metadata": {},
   "outputs": [],
   "source": [
    "import nltk\n",
    "from nltk import Tree\n",
    "from nltk import DependencyGraph\n",
    "from spacy import displacy\n",
    "import spacy\n",
    "from itertools import chain"
   ]
  },
  {
   "cell_type": "code",
   "execution_count": 2,
   "metadata": {},
   "outputs": [],
   "source": [
    "def _tree_labeled(self, i):\n",
    "    node = self.get_by_address(i)\n",
    "    word, rel = node[\"word\"], node[\"rel\"]\n",
    "    deps = sorted(chain.from_iterable(node[\"deps\"].values()))\n",
    "    return Tree(word + '(' + rel + ')', [self._tree_labeled(dep) for dep in deps]) if deps else word + '(' + rel + ')'\n",
    "\n",
    "def tree_labeled(self):\n",
    "    node = self.root\n",
    "    word, rel = node[\"word\"], node[\"rel\"]\n",
    "    deps = sorted(chain.from_iterable(node[\"deps\"].values()))\n",
    "    return Tree(word+'('+rel+')', [self._tree_labeled(dep) for dep in deps])\n",
    "\n",
    "DependencyGraph._tree_labeled = _tree_labeled\n",
    "DependencyGraph.tree_labeled = tree_labeled\n",
    "\n",
    "def transform_nr_conll(sent_nr):\n",
    "    sent_list = []\n",
    "    for line in list(filter(None, sent_nr.split(\"\\n\"))):\n",
    "        line_list = line.split(); line_list.pop(0); line_list.insert(1,\"_\")\n",
    "        sent_list.append(\" \".join([i for i in line_list[0:]]))\n",
    "    return \"\\n\".join([i for i in sent_list[0:]])\n",
    "\n",
    "def displacy_dep_input(sent):\n",
    "    deps = []\n",
    "    for dep in sent.split('\\n'):\n",
    "        deps.append(dep.split())\n",
    "    deps = [x for x in deps if x]\n",
    "    ex, word_list, arc_list = [], [], []\n",
    "    for index, dep in enumerate(deps):\n",
    "        word_list.append({\"text\": dep[0], \"tag\": \"\"})\n",
    "        line = index+1; head = int(dep[2]); label = dep[3]\n",
    "        if head>line:\n",
    "            start = index; end = head-1; direction = \"left\"\n",
    "        else:\n",
    "            start = head-1; end = index; direction = \"right\"\n",
    "        if(label.lower() != \"root\"):\n",
    "            arc_list.append({\"start\": start, \"end\": end, \"label\": label, \"dir\": direction})\n",
    "    ex.append({\"words\": word_list,\"arcs\": arc_list})\n",
    "    return ex\n",
    "\n",
    "def show_dep_trees(sent_nr,style=1):\n",
    "    sent = transform_nr_conll(sent_nr)\n",
    "    dg = DependencyGraph(sent)\n",
    "    if style == 0 or style == 2:\n",
    "        tree_labeled = dg.tree_labeled()\n",
    "        tree_labeled.pretty_print(unicodelines=True)   \n",
    "    if style == 1 or style == 2:\n",
    "        ex = displacy_dep_input(sent)\n",
    "        html = displacy.render(ex, style=\"dep\", manual=True, options={'distance':100})"
   ]
  },
  {
   "cell_type": "markdown",
   "metadata": {},
   "source": [
    "## Aufgabe 1 - Dependenzanalyse\n",
    "\n",
    "#### Im folgenden soll das __MALT/CONLL-Format__ für die Analyse und das Labeling von Dependenzrelationen mit folgenden Eingeschaften verwendet werden:\n",
    "\n",
    "- pro Zeile: `Position_Wort, Wort, Position_Kopf, Label_Dependenzrelation`\n",
    "- Wurzelknoten: `Position_Kopf` = 0, `Label_Dependenzrelation` = ROOT\n",
    "\n",
    "\n",
    "### a) Analysieren Sie damit die Dependenzbeziehungen des folgenden Satzes im UD-Schema:\n",
    "*ein elektrisches Auto fährt schnell*\n"
   ]
  },
  {
   "cell_type": "code",
   "execution_count": null,
   "metadata": {},
   "outputs": [],
   "source": [
    "sent_nr = \"\"\"\n",
    "1 x 0 ROOT\n",
    "\"\"\"\n",
    "\n",
    "show_dep_trees(sent_nr)"
   ]
  },
  {
   "cell_type": "markdown",
   "metadata": {},
   "source": [
    "### b) Analysieren Sie die Dependenzbeziehungen des folgenden Satzes im UD-Schema:\n",
    "*Die neue Kollegin fährt mit der S-Bahn zu ihrem neuen Arbeitsplatz*\n"
   ]
  },
  {
   "cell_type": "code",
   "execution_count": null,
   "metadata": {},
   "outputs": [],
   "source": [
    "sent_nr = \"\"\"\n",
    "1 x 0 ROOT\n",
    "\"\"\"\n",
    "\n",
    "show_dep_trees(sent_nr)"
   ]
  },
  {
   "cell_type": "markdown",
   "metadata": {},
   "source": [
    "## Aufgabe 2 - Dependenzanalyse und Erweiterung\n",
    "\n",
    "### a) Analysieren Sie die Dependenzbeziehungen dieses einfachen transitiven Satzes im UD-Schema:\n",
    "*der Hund jagt den langsamen Briefträger*\n"
   ]
  },
  {
   "cell_type": "code",
   "execution_count": null,
   "metadata": {},
   "outputs": [],
   "source": [
    "sent_nr = \"\"\"\n",
    "1 x 0 ROOT\n",
    "\"\"\"\n",
    "\n",
    "show_dep_trees(sent_nr)"
   ]
  },
  {
   "cell_type": "markdown",
   "metadata": {},
   "source": [
    "### b) Fügen Sie ein präpositionales Adverbial hinzu:\n"
   ]
  },
  {
   "cell_type": "code",
   "execution_count": null,
   "metadata": {},
   "outputs": [],
   "source": [
    "sent_nr = \"\"\"\n",
    "1 x 0 ROOT\n",
    "\"\"\"\n",
    "\n",
    "show_dep_trees(sent_nr)"
   ]
  },
  {
   "cell_type": "markdown",
   "metadata": {},
   "source": [
    "### c) Fügen Sie dem Ausgangssatz ein präpositionales Attribut hinzu:\n"
   ]
  },
  {
   "cell_type": "code",
   "execution_count": null,
   "metadata": {},
   "outputs": [],
   "source": [
    "sent_nr = \"\"\"\n",
    "1 x 0 ROOT\n",
    "\"\"\"\n",
    "\n",
    "show_dep_trees(sent_nr)"
   ]
  },
  {
   "cell_type": "markdown",
   "metadata": {},
   "source": [
    "## Aufgabe 3 - Satzglied-Funktion\n"
   ]
  },
  {
   "cell_type": "markdown",
   "metadata": {},
   "source": [
    "### a) Objekt vs Adverbial\n",
    "\n",
    "#### Gegeben sei folgender Satz, dessen drittes Satzglied den *geschehens*-Test besteht (der Satz bleibt wohlgeformt). \n"
   ]
  },
  {
   "cell_type": "code",
   "execution_count": 4,
   "metadata": {},
   "outputs": [
    {
     "data": {
      "text/plain": [
       "'er isst, und das geschieht den ganzen Tag'"
      ]
     },
     "execution_count": 4,
     "metadata": {},
     "output_type": "execute_result"
    }
   ],
   "source": [
    "sentence = [\"er\", \"isst\", \"den ganzen Tag\"]\n",
    "\n",
    "sentence[0] + \" \" + sentence[1] + \", und das geschieht \" + sentence[2]"
   ]
  },
  {
   "cell_type": "markdown",
   "metadata": {},
   "source": [
    "#### Für welchen Typ von Dependent spricht dies (Angabe/Adjunkt oder Ergänzung/Komplement)?\n"
   ]
  },
  {
   "cell_type": "code",
   "execution_count": null,
   "metadata": {},
   "outputs": [],
   "source": [
    "# "
   ]
  },
  {
   "cell_type": "markdown",
   "metadata": {},
   "source": [
    "\n",
    "#### Welche syntaktische Funktion hat das dritte Satzglied hier?  (Objekt oder Adverbial?) Testen Sie über Passivierung!"
   ]
  },
  {
   "cell_type": "code",
   "execution_count": null,
   "metadata": {},
   "outputs": [],
   "source": [
    "# "
   ]
  },
  {
   "cell_type": "markdown",
   "metadata": {},
   "source": [
    "### b) Analysieren Sie die Dependenzbeziehungen des vorherigen Satzes im UD-Schema.\n"
   ]
  },
  {
   "cell_type": "code",
   "execution_count": null,
   "metadata": {},
   "outputs": [],
   "source": [
    "sent_nr = \"\"\"\n",
    "1 x 0 ROOT\n",
    "\"\"\"\n",
    "\n",
    "show_dep_trees(sent_nr)"
   ]
  },
  {
   "cell_type": "markdown",
   "metadata": {},
   "source": [
    "### c) Präpositionalobjekt vs Adverbial\n",
    "\n",
    "#### Gegeben sei folgender Satz, dessen drittes Satzglied den *geschehens*-Test nicht besteht. \n"
   ]
  },
  {
   "cell_type": "code",
   "execution_count": 5,
   "metadata": {},
   "outputs": [
    {
     "data": {
      "text/plain": [
       "'er wartet, und das geschieht auf den Sonnenuntergang'"
      ]
     },
     "execution_count": 5,
     "metadata": {},
     "output_type": "execute_result"
    }
   ],
   "source": [
    "sentence = [\"er\", \"wartet\", \"auf den Sonnenuntergang\"]\n",
    "\n",
    "sentence[0] + \" \" + sentence[1] + \", und das geschieht \" + sentence[2]"
   ]
  },
  {
   "cell_type": "markdown",
   "metadata": {},
   "source": [
    "#### Für welchen Typ von Dependent spricht dies (Angabe/Adjunkt oder Ergänzung/Komplement)?\n"
   ]
  },
  {
   "cell_type": "code",
   "execution_count": null,
   "metadata": {},
   "outputs": [],
   "source": [
    "# "
   ]
  },
  {
   "cell_type": "markdown",
   "metadata": {},
   "source": [
    "\n",
    "#### Welche syntaktische Funktion hat das dritte Satzglied hier?  (Objekt oder Adverbial?) Testen Sie über Erfragbarkeit mit Pronominaladverb!"
   ]
  },
  {
   "cell_type": "code",
   "execution_count": null,
   "metadata": {},
   "outputs": [],
   "source": [
    "# "
   ]
  },
  {
   "cell_type": "markdown",
   "metadata": {},
   "source": [
    "### d) Analysieren Sie die Dependenzbeziehungen des vorherigen Satzes im UD-Schema.\n",
    "\n",
    "#### Beachten Sie ggf. die Analysekonvention im UD-Schema für Präpositionalobjekte.\n"
   ]
  },
  {
   "cell_type": "code",
   "execution_count": null,
   "metadata": {},
   "outputs": [],
   "source": [
    "sent_nr = \"\"\"\n",
    "1 x 0 ROOT\n",
    "\"\"\"\n",
    "\n",
    "show_dep_trees(sent_nr)"
   ]
  },
  {
   "cell_type": "markdown",
   "metadata": {},
   "source": [
    "### e) Adverbiales Komplement vs Adjunkt\n",
    "\n",
    "#### Gegeben sei folgender Satz, dessen viertes Satzglied (*ins Wasser*) den *geschehens*-Test nicht besteht. \n"
   ]
  },
  {
   "cell_type": "code",
   "execution_count": 6,
   "metadata": {},
   "outputs": [
    {
     "data": {
      "text/plain": [
       "'er stellt die Blumen, und das geschieht ins Wasser'"
      ]
     },
     "execution_count": 6,
     "metadata": {},
     "output_type": "execute_result"
    }
   ],
   "source": [
    "sentence = [\"er\", \"stellt\", \"die Blumen\", \"ins Wasser\"]\n",
    "\n",
    "sentence[0] + \" \" + sentence[1] + \" \" + sentence[2] + \", und das geschieht \" + sentence[3]"
   ]
  },
  {
   "cell_type": "markdown",
   "metadata": {},
   "source": [
    "#### Für welchen Typ von Dependent spricht dies (Angabe/Adjunkt oder Ergänzung/Komplement)?\n"
   ]
  },
  {
   "cell_type": "code",
   "execution_count": null,
   "metadata": {},
   "outputs": [],
   "source": [
    "# "
   ]
  },
  {
   "cell_type": "markdown",
   "metadata": {},
   "source": [
    "\n",
    "#### Welche syntaktische Funktion hat das vierte Satzglied (*ins Wasser*) hier?  (Objekt oder Adverbial?) Testen Sie über Passivierung und Erfragbarkeit mit Pronominaladverb bzw. Ersatz mit einer Pronominaladverb-Nebensatz-Konstruktion!"
   ]
  },
  {
   "cell_type": "code",
   "execution_count": null,
   "metadata": {},
   "outputs": [],
   "source": [
    "# "
   ]
  },
  {
   "cell_type": "markdown",
   "metadata": {},
   "source": [
    "### f) Analysieren Sie die Dependenzbeziehungen des vorherigen Satzes im UD-Schema.\n"
   ]
  },
  {
   "cell_type": "code",
   "execution_count": null,
   "metadata": {},
   "outputs": [],
   "source": [
    "sent_nr = \"\"\"\n",
    "1 x 0 ROOT\n",
    "\"\"\"\n",
    "\n",
    "show_dep_trees(sent_nr)"
   ]
  },
  {
   "cell_type": "markdown",
   "metadata": {},
   "source": [
    "## *Aufgabe 4 - Parsing nicht-projektiver Strukturen*\n"
   ]
  },
  {
   "cell_type": "markdown",
   "metadata": {},
   "source": [
    "#### Gegeben sei folgender Dependenzgraph mit nicht-projektiver Struktur:"
   ]
  },
  {
   "cell_type": "code",
   "execution_count": 9,
   "metadata": {},
   "outputs": [
    {
     "data": {
      "text/html": [
       "<span class=\"tex2jax_ignore\"><svg xmlns=\"http://www.w3.org/2000/svg\" xmlns:xlink=\"http://www.w3.org/1999/xlink\" xml:lang=\"en\" id=\"374e57e290e548fa90a7a10d7d2c310a-0\" class=\"displacy\" width=\"450\" height=\"237.0\" direction=\"ltr\" style=\"max-width: none; height: 237.0px; color: #000000; background: #ffffff; font-family: Arial; direction: ltr\">\n",
       "<text class=\"displacy-token\" fill=\"currentColor\" text-anchor=\"middle\" y=\"147.0\">\n",
       "    <tspan class=\"displacy-word\" fill=\"currentColor\" x=\"50\">Hunde</tspan>\n",
       "    <tspan class=\"displacy-tag\" dy=\"2em\" fill=\"currentColor\" x=\"50\"></tspan>\n",
       "</text>\n",
       "\n",
       "<text class=\"displacy-token\" fill=\"currentColor\" text-anchor=\"middle\" y=\"147.0\">\n",
       "    <tspan class=\"displacy-word\" fill=\"currentColor\" x=\"150\">bellen</tspan>\n",
       "    <tspan class=\"displacy-tag\" dy=\"2em\" fill=\"currentColor\" x=\"150\"></tspan>\n",
       "</text>\n",
       "\n",
       "<text class=\"displacy-token\" fill=\"currentColor\" text-anchor=\"middle\" y=\"147.0\">\n",
       "    <tspan class=\"displacy-word\" fill=\"currentColor\" x=\"250\">die</tspan>\n",
       "    <tspan class=\"displacy-tag\" dy=\"2em\" fill=\"currentColor\" x=\"250\"></tspan>\n",
       "</text>\n",
       "\n",
       "<text class=\"displacy-token\" fill=\"currentColor\" text-anchor=\"middle\" y=\"147.0\">\n",
       "    <tspan class=\"displacy-word\" fill=\"currentColor\" x=\"350\">beißen</tspan>\n",
       "    <tspan class=\"displacy-tag\" dy=\"2em\" fill=\"currentColor\" x=\"350\"></tspan>\n",
       "</text>\n",
       "\n",
       "<g class=\"displacy-arrow\">\n",
       "    <path class=\"displacy-arc\" id=\"arrow-374e57e290e548fa90a7a10d7d2c310a-0-0\" stroke-width=\"2px\" d=\"M70,102.0 C70,52.0 145.0,52.0 145.0,102.0\" fill=\"none\" stroke=\"currentColor\"/>\n",
       "    <text dy=\"1.25em\" style=\"font-size: 0.8em; letter-spacing: 1px\">\n",
       "        <textPath xlink:href=\"#arrow-374e57e290e548fa90a7a10d7d2c310a-0-0\" class=\"displacy-label\" startOffset=\"50%\" side=\"left\" fill=\"currentColor\" text-anchor=\"middle\">nsubj</textPath>\n",
       "    </text>\n",
       "    <path class=\"displacy-arrowhead\" d=\"M70,104.0 L62,92.0 78,92.0\" fill=\"currentColor\"/>\n",
       "</g>\n",
       "\n",
       "<g class=\"displacy-arrow\">\n",
       "    <path class=\"displacy-arc\" id=\"arrow-374e57e290e548fa90a7a10d7d2c310a-0-1\" stroke-width=\"2px\" d=\"M270,102.0 C270,52.0 345.0,52.0 345.0,102.0\" fill=\"none\" stroke=\"currentColor\"/>\n",
       "    <text dy=\"1.25em\" style=\"font-size: 0.8em; letter-spacing: 1px\">\n",
       "        <textPath xlink:href=\"#arrow-374e57e290e548fa90a7a10d7d2c310a-0-1\" class=\"displacy-label\" startOffset=\"50%\" side=\"left\" fill=\"currentColor\" text-anchor=\"middle\">nsubj</textPath>\n",
       "    </text>\n",
       "    <path class=\"displacy-arrowhead\" d=\"M270,104.0 L262,92.0 278,92.0\" fill=\"currentColor\"/>\n",
       "</g>\n",
       "\n",
       "<g class=\"displacy-arrow\">\n",
       "    <path class=\"displacy-arc\" id=\"arrow-374e57e290e548fa90a7a10d7d2c310a-0-2\" stroke-width=\"2px\" d=\"M70,102.0 C70,2.0 350.0,2.0 350.0,102.0\" fill=\"none\" stroke=\"currentColor\"/>\n",
       "    <text dy=\"1.25em\" style=\"font-size: 0.8em; letter-spacing: 1px\">\n",
       "        <textPath xlink:href=\"#arrow-374e57e290e548fa90a7a10d7d2c310a-0-2\" class=\"displacy-label\" startOffset=\"50%\" side=\"left\" fill=\"currentColor\" text-anchor=\"middle\">acl:relcl</textPath>\n",
       "    </text>\n",
       "    <path class=\"displacy-arrowhead\" d=\"M350.0,104.0 L358.0,92.0 342.0,92.0\" fill=\"currentColor\"/>\n",
       "</g>\n",
       "</svg></span>"
      ],
      "text/plain": [
       "<IPython.core.display.HTML object>"
      ]
     },
     "metadata": {},
     "output_type": "display_data"
    }
   ],
   "source": [
    "sent_nr = \"\"\"\n",
    "1 Hunde 2 nsubj\n",
    "2 bellen 0 ROOT\n",
    "3 die 4 nsubj\n",
    "4 beißen 1 acl:relcl\n",
    "\"\"\"\n",
    "\n",
    "show_dep_trees(sent_nr)"
   ]
  },
  {
   "cell_type": "markdown",
   "metadata": {},
   "source": [
    "### a) Überprüfen Sie, ob eine solche nicht-projektive Struktur mit dem bekannten Shift-Reduce-Dependency-Parser verarbeitet werden kann, indem Sie wieder den Typ der REDUCE-Übergänge (`LEFTARC`, `RIGHTARC`) sowie die Reihenfolge deren Durchführung bei Verarbeitung dieser Struktur angeben.\n"
   ]
  },
  {
   "cell_type": "code",
   "execution_count": 10,
   "metadata": {},
   "outputs": [
    {
     "data": {
      "text/html": [
       "<span class=\"tex2jax_ignore\"><svg xmlns=\"http://www.w3.org/2000/svg\" xmlns:xlink=\"http://www.w3.org/1999/xlink\" xml:lang=\"en\" id=\"a39675beb26d44a580a2a82bfdba4774-0\" class=\"displacy\" width=\"450\" height=\"237.0\" direction=\"ltr\" style=\"max-width: none; height: 237.0px; color: #000000; background: #ffffff; font-family: Arial; direction: ltr\">\n",
       "<text class=\"displacy-token\" fill=\"currentColor\" text-anchor=\"middle\" y=\"147.0\">\n",
       "    <tspan class=\"displacy-word\" fill=\"currentColor\" x=\"50\">Hunde</tspan>\n",
       "    <tspan class=\"displacy-tag\" dy=\"2em\" fill=\"currentColor\" x=\"50\"></tspan>\n",
       "</text>\n",
       "\n",
       "<text class=\"displacy-token\" fill=\"currentColor\" text-anchor=\"middle\" y=\"147.0\">\n",
       "    <tspan class=\"displacy-word\" fill=\"currentColor\" x=\"150\">bellen</tspan>\n",
       "    <tspan class=\"displacy-tag\" dy=\"2em\" fill=\"currentColor\" x=\"150\"></tspan>\n",
       "</text>\n",
       "\n",
       "<text class=\"displacy-token\" fill=\"currentColor\" text-anchor=\"middle\" y=\"147.0\">\n",
       "    <tspan class=\"displacy-word\" fill=\"currentColor\" x=\"250\">die</tspan>\n",
       "    <tspan class=\"displacy-tag\" dy=\"2em\" fill=\"currentColor\" x=\"250\"></tspan>\n",
       "</text>\n",
       "\n",
       "<text class=\"displacy-token\" fill=\"currentColor\" text-anchor=\"middle\" y=\"147.0\">\n",
       "    <tspan class=\"displacy-word\" fill=\"currentColor\" x=\"350\">beißen</tspan>\n",
       "    <tspan class=\"displacy-tag\" dy=\"2em\" fill=\"currentColor\" x=\"350\"></tspan>\n",
       "</text>\n",
       "\n",
       "<g class=\"displacy-arrow\">\n",
       "    <path class=\"displacy-arc\" id=\"arrow-a39675beb26d44a580a2a82bfdba4774-0-0\" stroke-width=\"2px\" d=\"M70,102.0 C70,52.0 145.0,52.0 145.0,102.0\" fill=\"none\" stroke=\"currentColor\"/>\n",
       "    <text dy=\"1.25em\" style=\"font-size: 0.8em; letter-spacing: 1px\">\n",
       "        <textPath xlink:href=\"#arrow-a39675beb26d44a580a2a82bfdba4774-0-0\" class=\"displacy-label\" startOffset=\"50%\" side=\"left\" fill=\"currentColor\" text-anchor=\"middle\">-</textPath>\n",
       "    </text>\n",
       "    <path class=\"displacy-arrowhead\" d=\"M70,104.0 L62,92.0 78,92.0\" fill=\"currentColor\"/>\n",
       "</g>\n",
       "\n",
       "<g class=\"displacy-arrow\">\n",
       "    <path class=\"displacy-arc\" id=\"arrow-a39675beb26d44a580a2a82bfdba4774-0-1\" stroke-width=\"2px\" d=\"M270,102.0 C270,52.0 345.0,52.0 345.0,102.0\" fill=\"none\" stroke=\"currentColor\"/>\n",
       "    <text dy=\"1.25em\" style=\"font-size: 0.8em; letter-spacing: 1px\">\n",
       "        <textPath xlink:href=\"#arrow-a39675beb26d44a580a2a82bfdba4774-0-1\" class=\"displacy-label\" startOffset=\"50%\" side=\"left\" fill=\"currentColor\" text-anchor=\"middle\">-</textPath>\n",
       "    </text>\n",
       "    <path class=\"displacy-arrowhead\" d=\"M270,104.0 L262,92.0 278,92.0\" fill=\"currentColor\"/>\n",
       "</g>\n",
       "\n",
       "<g class=\"displacy-arrow\">\n",
       "    <path class=\"displacy-arc\" id=\"arrow-a39675beb26d44a580a2a82bfdba4774-0-2\" stroke-width=\"2px\" d=\"M70,102.0 C70,2.0 350.0,2.0 350.0,102.0\" fill=\"none\" stroke=\"currentColor\"/>\n",
       "    <text dy=\"1.25em\" style=\"font-size: 0.8em; letter-spacing: 1px\">\n",
       "        <textPath xlink:href=\"#arrow-a39675beb26d44a580a2a82bfdba4774-0-2\" class=\"displacy-label\" startOffset=\"50%\" side=\"left\" fill=\"currentColor\" text-anchor=\"middle\">-</textPath>\n",
       "    </text>\n",
       "    <path class=\"displacy-arrowhead\" d=\"M350.0,104.0 L358.0,92.0 342.0,92.0\" fill=\"currentColor\"/>\n",
       "</g>\n",
       "</svg></span>"
      ],
      "text/plain": [
       "<IPython.core.display.HTML object>"
      ]
     },
     "metadata": {},
     "output_type": "display_data"
    }
   ],
   "source": [
    "sent_nr = \"\"\"\n",
    "1 Hunde 2 -\n",
    "2 bellen 0 ROOT\n",
    "3 die 4 -\n",
    "4 beißen 1 -\n",
    "\"\"\"\n",
    "\n",
    "show_dep_trees(sent_nr)"
   ]
  },
  {
   "cell_type": "markdown",
   "metadata": {},
   "source": [
    "### b)  Schreiben Sie ein (ungelabelte) Dependenzgrammatik für die Satzstruktur:"
   ]
  },
  {
   "cell_type": "code",
   "execution_count": 8,
   "metadata": {},
   "outputs": [],
   "source": [
    "grammar = nltk.DependencyGrammar.fromstring(\"\"\"\n",
    "    \n",
    "\"\"\")"
   ]
  },
  {
   "cell_type": "markdown",
   "metadata": {},
   "source": [
    "### c) Testen Sie, ob der NLTK.ProjectiveDependencyParser mit Ihrer Grammatik die projektive Version des Satzes erkennt: "
   ]
  },
  {
   "cell_type": "code",
   "execution_count": 16,
   "metadata": {},
   "outputs": [
    {
     "name": "stdout",
     "output_type": "stream",
     "text": [
      "Hunde die beißen bellen\n"
     ]
    }
   ],
   "source": [
    "sent = 'Hunde die beißen bellen'\n",
    "print(sent)"
   ]
  },
  {
   "cell_type": "code",
   "execution_count": null,
   "metadata": {},
   "outputs": [],
   "source": [
    "parser = nltk.ProjectiveDependencyParser(grammar)\n",
    "\n",
    "for tree in parser.parse(sent.split()):\n",
    "    print(tree, \"\\n\")\n",
    "    tree.pretty_print(unicodelines=True)"
   ]
  },
  {
   "cell_type": "markdown",
   "metadata": {},
   "source": [
    "### c) Probieren Sie, die nicht-projektive Version des Satzes mit dem NLTK.ProjectiveDependencyParser sowie dem NLTK.NonprojectiveDependencyParser zu parsen und vergleichen Sie die Ergebnisse: "
   ]
  },
  {
   "cell_type": "code",
   "execution_count": 17,
   "metadata": {},
   "outputs": [
    {
     "name": "stdout",
     "output_type": "stream",
     "text": [
      "Hunde bellen die beißen\n"
     ]
    }
   ],
   "source": [
    "sent = 'Hunde bellen die beißen'\n",
    "print(sent)"
   ]
  },
  {
   "cell_type": "code",
   "execution_count": 13,
   "metadata": {},
   "outputs": [],
   "source": [
    "parser = nltk.ProjectiveDependencyParser(grammar)\n",
    "\n",
    "for tree in parser.parse(sent.split()):\n",
    "    print(tree, \"\\n\")\n",
    "    tree.pretty_print(unicodelines=True)"
   ]
  },
  {
   "cell_type": "code",
   "execution_count": null,
   "metadata": {},
   "outputs": [],
   "source": [
    "parser = nltk.NonprojectiveDependencyParser(grammar)\n",
    "g, = parser.parse(sent.split())\n",
    "\n",
    "print(g.root['word'])\n",
    "\n",
    "for _, node in sorted(g.nodes.items()):\n",
    "    if node['word'] is not None:\n",
    "        print('{address} {word}: {d}'.format(d=node['deps'][''], **node))\n",
    "\n",
    "print('\\n', g.tree(), '\\n')\n",
    "g.tree().pretty_print(unicodelines=True)"
   ]
  },
  {
   "cell_type": "code",
   "execution_count": 65,
   "metadata": {},
   "outputs": [],
   "source": [
    "# Ergebnis Vergleich: "
   ]
  },
  {
   "cell_type": "markdown",
   "metadata": {},
   "source": [
    "## *Aufgabe 5 - Valenz und Dependenz*\n",
    "\n",
    "#### Zeigen Sie an folgendem Satz den Unterschied zwischen Valenz und Dependenz auf:\n",
    "- *Peter schläft gerne im Zelt.*"
   ]
  },
  {
   "cell_type": "code",
   "execution_count": 15,
   "metadata": {},
   "outputs": [
    {
     "name": "stdout",
     "output_type": "stream",
     "text": [
      "      schläft     \n",
      "  ┌──────┼─────┐   \n",
      "  │      │    Zelt\n",
      "  │      │     │   \n",
      "Peter  gerne   im \n",
      "\n"
     ]
    }
   ],
   "source": [
    "Tree.fromstring(\"\"\"(schläft Peter gerne (Zelt im))\"\"\").pretty_print(unicodelines=True)"
   ]
  },
  {
   "cell_type": "code",
   "execution_count": null,
   "metadata": {},
   "outputs": [],
   "source": [
    "# "
   ]
  },
  {
   "cell_type": "markdown",
   "metadata": {},
   "source": [
    "## *Aufgabe 6 - Phrasenkategorien*\n",
    "\n",
    "#### Erläutern Sie an folgendem Beispielsatz den Unterschied zwischen Adverb und Adverbial.\n",
    "- Paul schwimmt sehr gut.\n",
    "\n"
   ]
  },
  {
   "cell_type": "code",
   "execution_count": null,
   "metadata": {},
   "outputs": [],
   "source": [
    "#"
   ]
  },
  {
   "cell_type": "markdown",
   "metadata": {},
   "source": [
    "## *Aufgabe 7 - Subjektidentifikation*\n",
    "\n",
    "#### Inwiefern bereitet die NP *ein Fehler* im folgenden Satz Schwierigkeiten für die Anwendung der gängigen Identifikationskriterien von Subjekten?\n",
    "- Dem Lehrer ist schon wieder ein Fehler unterlaufen.\n",
    "\n"
   ]
  },
  {
   "cell_type": "code",
   "execution_count": null,
   "metadata": {},
   "outputs": [],
   "source": [
    "#"
   ]
  }
 ],
 "metadata": {
  "kernelspec": {
   "display_name": "Python 3 (ipykernel)",
   "language": "python",
   "name": "python3"
  },
  "language_info": {
   "codemirror_mode": {
    "name": "ipython",
    "version": 3
   },
   "file_extension": ".py",
   "mimetype": "text/x-python",
   "name": "python",
   "nbconvert_exporter": "python",
   "pygments_lexer": "ipython3",
   "version": "3.9.12"
  }
 },
 "nbformat": 4,
 "nbformat_minor": 2
}
