{
 "cells": [
  {
   "cell_type": "markdown",
   "metadata": {},
   "source": [
    "Syntax natürlicher Sprachen, WS 2023/24\n",
    "\n",
    "# 04 - Übung (Lösung)"
   ]
  },
  {
   "cell_type": "code",
   "execution_count": 1,
   "metadata": {},
   "outputs": [],
   "source": [
    "import nltk\n",
    "from nltk.tree import Tree"
   ]
  },
  {
   "cell_type": "markdown",
   "metadata": {},
   "source": [
    "## Aufgabe 1 - Operationen der Parsing-Algorithmen"
   ]
  },
  {
   "cell_type": "markdown",
   "metadata": {},
   "source": [
    "### a) Welche Operationen stehen den verschiedenen Parsern zur Verfügung?\n",
    "\n",
    "####  Welche Operationen hat der Recursive Descent Parser?"
   ]
  },
  {
   "cell_type": "code",
   "execution_count": 2,
   "metadata": {},
   "outputs": [],
   "source": [
    "# Predict + Scan\n",
    "# NLTK: Expand + Match"
   ]
  },
  {
   "cell_type": "markdown",
   "metadata": {},
   "source": [
    "####  Welche Operationen hat der Shift Reduce Parser?\n"
   ]
  },
  {
   "cell_type": "code",
   "execution_count": null,
   "metadata": {},
   "outputs": [],
   "source": [
    "# Shift + Reduce"
   ]
  },
  {
   "cell_type": "markdown",
   "metadata": {},
   "source": [
    "####  Welche Operationen hat der Earley Parser?\n"
   ]
  },
  {
   "cell_type": "code",
   "execution_count": null,
   "metadata": {},
   "outputs": [],
   "source": [
    "#  Predict + Scan + Complete"
   ]
  },
  {
   "cell_type": "markdown",
   "metadata": {},
   "source": [
    "### b)  Überlegen Sie für die folgenden Beispiele, zu welchem Algorithmus diese gehören und was die nächste von diesem auszuführende Operation ist."
   ]
  },
  {
   "cell_type": "markdown",
   "metadata": {},
   "source": [
    "\n",
    "\n",
    "### Beispiel 1:\n",
    "\n",
    "$ Q_{0}$ : (S' -> * S, 0)\n"
   ]
  },
  {
   "cell_type": "markdown",
   "metadata": {},
   "source": [
    "#### Um welchen Parser handelt es sich?\n"
   ]
  },
  {
   "cell_type": "code",
   "execution_count": null,
   "metadata": {},
   "outputs": [],
   "source": [
    "# Earley"
   ]
  },
  {
   "cell_type": "markdown",
   "metadata": {},
   "source": [
    "#### Welche Operation folgt als nächstes?\n"
   ]
  },
  {
   "cell_type": "code",
   "execution_count": null,
   "metadata": {},
   "outputs": [],
   "source": [
    "# Predict"
   ]
  },
  {
   "cell_type": "markdown",
   "metadata": {},
   "source": [
    "---\n",
    "\n",
    "### Beispiel 2:\n"
   ]
  },
  {
   "cell_type": "markdown",
   "metadata": {},
   "source": [
    "#### Gegeben sei folgende kontextfreie Grammatik:"
   ]
  },
  {
   "cell_type": "code",
   "execution_count": 2,
   "metadata": {},
   "outputs": [],
   "source": [
    "grammar = \"\"\"\n",
    "S -> NP VP\n",
    "\n",
    "NP  -> DET NOM\n",
    "NOM -> ADJ NOM | N\n",
    "\n",
    "ADJ -> \"schöne\" | \"kluge\" | \"dicke\"\n",
    "DET -> \"der\" | \"die\" | \"das\"\n",
    "N   -> \"Mann\" | \"Frau\" | \"Buch\"\n",
    "\n",
    "VP -> V NP NP | V NP | V\n",
    "V  -> \"gibt\" | \"schenkt\" | \"schläft\" | \"gefällt\" | \"kennt\"\n",
    "\"\"\""
   ]
  },
  {
   "cell_type": "markdown",
   "metadata": {},
   "source": [
    "#### Betrachen Sie den folgenden Baum zu dem Satz \"der Mann schläft\" und den entsprechenden Grammatikregeln des Beispiels."
   ]
  },
  {
   "cell_type": "code",
   "execution_count": 3,
   "metadata": {},
   "outputs": [
    {
     "name": "stdout",
     "output_type": "stream",
     "text": [
      "         S     \n",
      "      ___|___   \n",
      "     NP      | \n",
      "  ___|___    |  \n",
      "DET     Nom  VP\n",
      " |       |   |  \n",
      "               \n",
      "\n"
     ]
    }
   ],
   "source": [
    "dep_tree = Tree(\n",
    "    \"S\",\n",
    "    [\n",
    "        Tree(\"NP\", [Tree(\"DET\",[\"\"]),Tree(\"Nom\", [\"\"])]),\n",
    "        Tree(\"VP\", [\"\"])    \n",
    "    ]\n",
    ")\n",
    "\n",
    "dep_tree.pretty_print()"
   ]
  },
  {
   "cell_type": "markdown",
   "metadata": {},
   "source": [
    "#### Um welchen Parser handelt es sich?\n"
   ]
  },
  {
   "cell_type": "code",
   "execution_count": null,
   "metadata": {},
   "outputs": [],
   "source": [
    "# Recursive Descent"
   ]
  },
  {
   "cell_type": "markdown",
   "metadata": {},
   "source": [
    "#### Welche Operation folgt als nächstes?\n"
   ]
  },
  {
   "cell_type": "code",
   "execution_count": null,
   "metadata": {},
   "outputs": [],
   "source": [
    "# Predict"
   ]
  },
  {
   "cell_type": "markdown",
   "metadata": {},
   "source": [
    "---\n",
    "\n",
    "### Beispiel 3:\n",
    "\n",
    "\n",
    "#### Betrachen Sie den folgenden Ausschnitt der Zustandsmenge zu dem Satz \"der Mann schläft\" und die entsprechenden Grammatikregeln von oben.\n",
    "\n",
    "$ Q_{0}$ : (DET -> * der, 0)"
   ]
  },
  {
   "cell_type": "markdown",
   "metadata": {},
   "source": [
    "#### Um welchen Parser handelt es sich?\n"
   ]
  },
  {
   "cell_type": "code",
   "execution_count": null,
   "metadata": {},
   "outputs": [],
   "source": [
    "# Earley"
   ]
  },
  {
   "cell_type": "markdown",
   "metadata": {},
   "source": [
    "#### Welche Operation folgt als nächstes?\n"
   ]
  },
  {
   "cell_type": "code",
   "execution_count": null,
   "metadata": {},
   "outputs": [],
   "source": [
    "# Scan"
   ]
  },
  {
   "cell_type": "markdown",
   "metadata": {},
   "source": [
    "---\n",
    "\n",
    "### Beispiel 4:\n",
    "\n",
    "\n",
    "#### Betrachen Sie den folgenden Ausschnitt der Zustandsmenge zu dem Satz \"der Mann schläft\" und die entsprechenden Grammatikregeln von oben.\n",
    "\n",
    "$ Q_{1}$ : (DET -> der * , 0)"
   ]
  },
  {
   "cell_type": "markdown",
   "metadata": {},
   "source": [
    "#### Um welchen Parser handelt es sich?\n"
   ]
  },
  {
   "cell_type": "code",
   "execution_count": null,
   "metadata": {},
   "outputs": [],
   "source": [
    "# Earley"
   ]
  },
  {
   "cell_type": "markdown",
   "metadata": {},
   "source": [
    "#### Welche Operation folgt als nächstes?\n"
   ]
  },
  {
   "cell_type": "code",
   "execution_count": null,
   "metadata": {},
   "outputs": [],
   "source": [
    "# Complete"
   ]
  },
  {
   "cell_type": "markdown",
   "metadata": {},
   "source": [
    "---\n",
    "\n",
    "### Beispiel 5:\n",
    "\n",
    "![earley_1](https://github.com/awisiorek/syntax-1819/raw/master/uebung/img/earley_1.png)"
   ]
  },
  {
   "cell_type": "markdown",
   "metadata": {},
   "source": [
    "#### Um welchen Parser handelt es sich?\n"
   ]
  },
  {
   "cell_type": "code",
   "execution_count": null,
   "metadata": {},
   "outputs": [],
   "source": [
    "# Earley"
   ]
  },
  {
   "cell_type": "markdown",
   "metadata": {},
   "source": [
    "#### Welche Operation folgt als nächstes?\n"
   ]
  },
  {
   "cell_type": "code",
   "execution_count": null,
   "metadata": {},
   "outputs": [],
   "source": [
    "# Scan"
   ]
  },
  {
   "cell_type": "markdown",
   "metadata": {},
   "source": [
    "---\n",
    "\n",
    "### Beispiel 6:\n",
    "\n",
    "![earley_2](https://github.com/awisiorek/syntax-1819/raw/master/uebung/img/earley_2.png)"
   ]
  },
  {
   "cell_type": "markdown",
   "metadata": {},
   "source": [
    "#### Um welchen Parser handelt es sich?\n"
   ]
  },
  {
   "cell_type": "code",
   "execution_count": null,
   "metadata": {},
   "outputs": [],
   "source": [
    "# Earley"
   ]
  },
  {
   "cell_type": "markdown",
   "metadata": {},
   "source": [
    "#### Welche Operation folgt als nächstes?\n"
   ]
  },
  {
   "cell_type": "code",
   "execution_count": null,
   "metadata": {},
   "outputs": [],
   "source": [
    "# Complete"
   ]
  },
  {
   "cell_type": "markdown",
   "metadata": {},
   "source": [
    "---\n",
    "\n",
    "### Beispiel 7:\n",
    "\n",
    "![recdes_1](https://github.com/awisiorek/syntax-1819/raw/master/uebung/img/recdes_1.png)"
   ]
  },
  {
   "cell_type": "markdown",
   "metadata": {},
   "source": [
    "#### Um welchen Parser handelt es sich?\n"
   ]
  },
  {
   "cell_type": "code",
   "execution_count": null,
   "metadata": {},
   "outputs": [],
   "source": [
    "# Recursive Descent"
   ]
  },
  {
   "cell_type": "markdown",
   "metadata": {},
   "source": [
    "#### Welche Operation folgt als nächstes?\n"
   ]
  },
  {
   "cell_type": "code",
   "execution_count": null,
   "metadata": {},
   "outputs": [],
   "source": [
    "# Predict"
   ]
  },
  {
   "cell_type": "markdown",
   "metadata": {},
   "source": [
    "### Beispiel 8:\n",
    "\n",
    "![recdes_2](https://github.com/awisiorek/syntax-1819/raw/master/uebung/img/recdes_2.png)"
   ]
  },
  {
   "cell_type": "markdown",
   "metadata": {},
   "source": [
    "#### Um welchen Parser handelt es sich?\n"
   ]
  },
  {
   "cell_type": "code",
   "execution_count": null,
   "metadata": {},
   "outputs": [],
   "source": [
    "# Recursive Descent"
   ]
  },
  {
   "cell_type": "markdown",
   "metadata": {},
   "source": [
    "#### Welche Operation folgt als nächstes?\n"
   ]
  },
  {
   "cell_type": "code",
   "execution_count": null,
   "metadata": {},
   "outputs": [],
   "source": [
    "# kein Match, also weder Scan noch Predict, sondern Backtracking notwendig"
   ]
  },
  {
   "cell_type": "markdown",
   "metadata": {},
   "source": [
    "---\n",
    "\n",
    "### Beispiel 9:\n",
    "\n",
    "![shiftred_1](https://github.com/awisiorek/syntax-1819/raw/master/uebung/img/shiftred_1.png)"
   ]
  },
  {
   "cell_type": "markdown",
   "metadata": {},
   "source": [
    "#### Um welchen Parser handelt es sich?\n"
   ]
  },
  {
   "cell_type": "code",
   "execution_count": null,
   "metadata": {},
   "outputs": [],
   "source": [
    "# Shift Reduce"
   ]
  },
  {
   "cell_type": "markdown",
   "metadata": {},
   "source": [
    "#### Welche Operation folgt als nächstes?\n"
   ]
  },
  {
   "cell_type": "code",
   "execution_count": null,
   "metadata": {},
   "outputs": [],
   "source": [
    "# Shift"
   ]
  },
  {
   "cell_type": "markdown",
   "metadata": {},
   "source": [
    "---\n",
    "\n",
    "### Beispiel 10:\n",
    "\n",
    "![shiftred_2](https://github.com/awisiorek/syntax-1819/raw/master/uebung/img/shiftred_2.png)"
   ]
  },
  {
   "cell_type": "markdown",
   "metadata": {},
   "source": [
    "#### Um welchen Parser handelt es sich?\n"
   ]
  },
  {
   "cell_type": "code",
   "execution_count": null,
   "metadata": {},
   "outputs": [],
   "source": [
    "# Shift Reduce"
   ]
  },
  {
   "cell_type": "markdown",
   "metadata": {},
   "source": [
    "#### Welche Operation folgt als nächstes?\n"
   ]
  },
  {
   "cell_type": "code",
   "execution_count": null,
   "metadata": {},
   "outputs": [],
   "source": [
    "# keine, da nur noch Startsymbol auf Stack = erfolgreicher Parse (ggf. Backtracking, um weitere Parsebäume zu finden)"
   ]
  },
  {
   "cell_type": "markdown",
   "metadata": {},
   "source": [
    "\n",
    "## Aufgabe 2 - Parsing-Algorithmen\n",
    "\n",
    "#### Gegeben sei folgende kontextfreie Grammatik:"
   ]
  },
  {
   "cell_type": "code",
   "execution_count": 4,
   "metadata": {},
   "outputs": [],
   "source": [
    "grammar = nltk.CFG.fromstring(\"\"\"\n",
    "S -> NP VP\n",
    "NP  -> DET NOM\n",
    "NOM -> ADJ NOM | N\n",
    "VP ->  V\n",
    "\n",
    "ADJ -> \"kluge\"\n",
    "DET -> \"der\" | \"die\" | \"das\"\n",
    "N   -> \"Mann\" | \"Frau\" | \"Buch\"\n",
    "V  -> \"schläft\"\n",
    "\"\"\")"
   ]
  },
  {
   "cell_type": "markdown",
   "metadata": {},
   "source": [
    "#### Parsen Sie den unten angegebenen Satz mit jedem der folgenden Parsing-Algorithmen. Bei der Auswahl von Regeln soll immer von oben nach unten und (bei Alternativen) von links nach rechts vorgegangen werden.\n",
    "\n",
    "a) Recursive Descent <br>\n",
    "b) Shift Reduce <br>\n",
    "c) Earley Algorithmus <br>\n"
   ]
  },
  {
   "cell_type": "code",
   "execution_count": 5,
   "metadata": {},
   "outputs": [],
   "source": [
    "sent = 'der Mann schläft'"
   ]
  },
  {
   "cell_type": "code",
   "execution_count": null,
   "metadata": {},
   "outputs": [],
   "source": [
    "##Recursive Descent Parser:\n",
    "\n",
    "# Lösung siehe unten"
   ]
  },
  {
   "cell_type": "code",
   "execution_count": null,
   "metadata": {},
   "outputs": [],
   "source": [
    "##Shift Reduce Parser:\n",
    "\n",
    "# Lösung siehe unten"
   ]
  },
  {
   "cell_type": "code",
   "execution_count": null,
   "metadata": {},
   "outputs": [],
   "source": [
    "## Earley Parser:\n",
    "\n",
    "# Lösung siehe unten"
   ]
  },
  {
   "cell_type": "markdown",
   "metadata": {},
   "source": [
    "#### Zur Überprüfung Ihres Resultats können Sie dieses anschließend mit dem Tracing-Output der entsprechenden Parsern im NLTK vergleichen:"
   ]
  },
  {
   "cell_type": "code",
   "execution_count": 6,
   "metadata": {
    "scrolled": false
   },
   "outputs": [
    {
     "name": "stdout",
     "output_type": "stream",
     "text": [
      "Parsing 'der Mann schläft'\n",
      "Start:\n",
      "    [ * S ]\n",
      "Expand: S -> NP VP\n",
      "    [ * NP VP ]\n",
      "Expand: NP -> DET NOM\n",
      "    [ * DET NOM VP ]\n",
      "Expand: DET -> 'der'\n",
      "    [ * 'der' NOM VP ]\n",
      "Match: 'der'\n",
      "    [ 'der' * NOM VP ]\n",
      "Expand: NOM -> ADJ NOM\n",
      "    [ 'der' * ADJ NOM VP ]\n",
      "Expand: ADJ -> 'kluge'\n",
      "    [ 'der' * 'kluge' NOM VP ]\n",
      "Backtrack: 'Mann' match failed\n",
      "Expand: NOM -> N\n",
      "    [ 'der' * N VP ]\n",
      "Expand: N -> 'Mann'\n",
      "    [ 'der' * 'Mann' VP ]\n",
      "Match: 'Mann'\n",
      "    [ 'der' 'Mann' * VP ]\n",
      "Expand: VP -> V\n",
      "    [ 'der' 'Mann' * V ]\n",
      "Expand: V -> 'schläft'\n",
      "    [ 'der' 'Mann' * 'schläft' ]\n",
      "Match: 'schläft'\n",
      "    [ 'der' 'Mann' 'schläft' ]\n",
      "GOOD PARSE:\n",
      "    [ 'der' 'Mann' 'schläft' ]\n",
      "         S          \n",
      "     ┌───┴──────┐    \n",
      "     NP         │   \n",
      " ┌───┴───┐      │    \n",
      " │      NOM     VP  \n",
      " │       │      │    \n",
      "DET      N      V   \n",
      " │       │      │    \n",
      "der     Mann schläft\n",
      "\n",
      "Expand: N -> 'Frau'\n",
      "    [ 'der' * 'Frau' VP ]\n",
      "Backtrack: 'Mann' match failed\n",
      "Expand: N -> 'Buch'\n",
      "    [ 'der' * 'Buch' VP ]\n",
      "Backtrack: 'Mann' match failed\n",
      "Expand: DET -> 'die'\n",
      "    [ * 'die' NOM VP ]\n",
      "Backtrack: 'der' match failed\n",
      "Expand: DET -> 'das'\n",
      "    [ * 'das' NOM VP ]\n",
      "Backtrack: 'der' match failed\n"
     ]
    }
   ],
   "source": [
    "##Recursive Descent Parser:\n",
    "parser = nltk.RecursiveDescentParser(grammar, trace=3)\n",
    "for tree in parser.parse(sent.split()):\n",
    "    tree.pretty_print(unicodelines=True)"
   ]
  },
  {
   "cell_type": "code",
   "execution_count": 7,
   "metadata": {},
   "outputs": [
    {
     "name": "stdout",
     "output_type": "stream",
     "text": [
      "Parsing 'der Mann schläft'\n",
      "    [ * der Mann schläft]\n",
      "  S [ 'der' * Mann schläft]\n",
      "  R [ DET * Mann schläft]\n",
      "  S [ DET 'Mann' * schläft]\n",
      "  R [ DET N * schläft]\n",
      "  R [ DET NOM * schläft]\n",
      "  R [ NP * schläft]\n",
      "  S [ NP 'schläft' * ]\n",
      "  R [ NP V * ]\n",
      "  R [ NP VP * ]\n",
      "  R [ S * ]\n",
      "         S          \n",
      "     ┌───┴──────┐    \n",
      "     NP         │   \n",
      " ┌───┴───┐      │    \n",
      " │      NOM     VP  \n",
      " │       │      │    \n",
      "DET      N      V   \n",
      " │       │      │    \n",
      "der     Mann schläft\n",
      "\n"
     ]
    }
   ],
   "source": [
    "##Shift Reduce Parser:\n",
    "parser = nltk.ShiftReduceParser(grammar, trace=2)\n",
    "for tree in parser.parse(sent.split()):\n",
    "    tree.pretty_print(unicodelines=True)"
   ]
  },
  {
   "cell_type": "code",
   "execution_count": 8,
   "metadata": {},
   "outputs": [
    {
     "name": "stdout",
     "output_type": "stream",
     "text": [
      "|.    der    .    Mann   .  schläft  .|\n",
      "Leaf Init Rule:\n",
      "|[-----------]           .           .| [0:1] 'der'\n",
      "|.           [-----------]           .| [1:2] 'Mann'\n",
      "|.           .           [-----------]| [2:3] 'schläft'\n",
      "Top Down Init Rule:\n",
      "|>           .           .           .| [0:0] S  -> * NP VP\n",
      "\n",
      "* Processing queue: 0 \n",
      "\n",
      "Predictor Rule:\n",
      "|>           .           .           .| [0:0] NP -> * DET NOM\n",
      "Predictor Rule:\n",
      "|>           .           .           .| [0:0] DET -> * 'der'\n",
      "\n",
      "* Processing queue: 1 \n",
      "\n",
      "Scanner Rule:\n",
      "|[-----------]           .           .| [0:1] DET -> 'der' *\n",
      "Completer Rule:\n",
      "|[----------->           .           .| [0:1] NP -> DET * NOM\n",
      "Predictor Rule:\n",
      "|.           >           .           .| [1:1] NOM -> * ADJ NOM\n",
      "|.           >           .           .| [1:1] NOM -> * N\n",
      "Predictor Rule:\n",
      "|.           >           .           .| [1:1] N  -> * 'Mann'\n",
      "\n",
      "* Processing queue: 2 \n",
      "\n",
      "Scanner Rule:\n",
      "|.           [-----------]           .| [1:2] N  -> 'Mann' *\n",
      "Completer Rule:\n",
      "|.           [-----------]           .| [1:2] NOM -> N *\n",
      "Completer Rule:\n",
      "|[-----------------------]           .| [0:2] NP -> DET NOM *\n",
      "Completer Rule:\n",
      "|[----------------------->           .| [0:2] S  -> NP * VP\n",
      "Predictor Rule:\n",
      "|.           .           >           .| [2:2] VP -> * V\n",
      "Predictor Rule:\n",
      "|.           .           >           .| [2:2] V  -> * 'schläft'\n",
      "\n",
      "* Processing queue: 3 \n",
      "\n",
      "Scanner Rule:\n",
      "|.           .           [-----------]| [2:3] V  -> 'schläft' *\n",
      "Completer Rule:\n",
      "|.           .           [-----------]| [2:3] VP -> V *\n",
      "Completer Rule:\n",
      "|[===================================]| [0:3] S  -> NP VP *\n",
      "         S          \n",
      "     ┌───┴──────┐    \n",
      "     NP         │   \n",
      " ┌───┴───┐      │    \n",
      " │      NOM     VP  \n",
      " │       │      │    \n",
      "DET      N      V   \n",
      " │       │      │    \n",
      "der     Mann schläft\n",
      "\n"
     ]
    }
   ],
   "source": [
    "## Earley Parser:\n",
    "parser = nltk.EarleyChartParser(grammar, trace=2)\n",
    "for tree in parser.parse(sent.split()):\n",
    "    tree.pretty_print(unicodelines=True)"
   ]
  },
  {
   "cell_type": "markdown",
   "metadata": {},
   "source": [
    "## Aufgabe 3 - Verarbeitungsprobleme\n",
    "\n",
    "#### Die beiden einfachen top-down- bzw bottom-up-Parsingalgorithmen und ihre Implementierungen im NLTK haben bestimmte Einschränkungen. In den folgenden Teilaufgaben sollen Sie die verschiedenen Implementierung der folgenden Parsingalgorithmen im NLTK für bestimmte Grammatiken und Beispielsätze anwenden und die Ergebnisse vergleichen:\n",
    "\n",
    "1. Recursive-Descent-Parser\n",
    "  - https://www.nltk.org/book/ch08.html#recursive-descent-parsing\n",
    "  - *kann keine linksrekursiven Regeln verarbeiten!*\n",
    "\n",
    "2. Shift-Reduce-Parser\n",
    "  - https://www.nltk.org/book/ch08.html#shift-reduce-parsing\n",
    "  - *im NLTK kein Backtracking implementiert!*\n",
    "\n",
    "3. Chart-Parser\n",
    "  - https://www.nltk.org/book/ch08-extras.html#chart-parsing\n",
    "  - im NLTK 2 Strategien wählbar:\n",
    "    - `BU_STRATEGY` (bottom-up = Default)\n",
    "    - `TD_STRATEGY` (top-down, Parameter: `nltk.parse.TD_STRATEGY`)\n",
    "  - *keine Einschränkungen*\n"
   ]
  },
  {
   "cell_type": "markdown",
   "metadata": {},
   "source": [
    "### a) CFG mit linksrekursiven Regeln"
   ]
  },
  {
   "cell_type": "code",
   "execution_count": 9,
   "metadata": {},
   "outputs": [],
   "source": [
    "sent= \"ein Hund rennt\""
   ]
  },
  {
   "cell_type": "code",
   "execution_count": 10,
   "metadata": {},
   "outputs": [],
   "source": [
    "grammar = nltk.CFG.fromstring(\"\"\"\n",
    "    S -> NP VP\n",
    "    NP -> DET NOM\n",
    "    VP -> V\n",
    "\n",
    "#linksrekursiv:\n",
    "    NOM -> NOM PP \n",
    "\n",
    "    NOM -> N\n",
    "\n",
    "    DET -> \"ein\"\n",
    "    N -> \"Hund\"\n",
    "    V -> \"rennt\"\n",
    "\"\"\")"
   ]
  },
  {
   "cell_type": "code",
   "execution_count": 11,
   "metadata": {},
   "outputs": [
    {
     "name": "stdout",
     "output_type": "stream",
     "text": [
      "|.    ein    .    Hund   .   rennt   .|\n",
      "|[-----------]           .           .| [0:1] 'ein'\n",
      "|.           [-----------]           .| [1:2] 'Hund'\n",
      "|.           .           [-----------]| [2:3] 'rennt'\n",
      "|[-----------]           .           .| [0:1] DET -> 'ein' *\n",
      "|[----------->           .           .| [0:1] NP -> DET * NOM\n",
      "|.           [-----------]           .| [1:2] N  -> 'Hund' *\n",
      "|.           [-----------]           .| [1:2] NOM -> N *\n",
      "|.           [----------->           .| [1:2] NOM -> NOM * PP\n",
      "|[-----------------------]           .| [0:2] NP -> DET NOM *\n",
      "|[----------------------->           .| [0:2] S  -> NP * VP\n",
      "|.           .           [-----------]| [2:3] V  -> 'rennt' *\n",
      "|.           .           [-----------]| [2:3] VP -> V *\n",
      "|[===================================]| [0:3] S  -> NP VP *\n",
      "         S        \n",
      "     ┌───┴─────┐   \n",
      "     NP        │  \n",
      " ┌───┴───┐     │   \n",
      " │      NOM    VP \n",
      " │       │     │   \n",
      "DET      N     V  \n",
      " │       │     │   \n",
      "ein     Hund rennt\n",
      "\n"
     ]
    }
   ],
   "source": [
    "parser = nltk.ChartParser(grammar, trace=1) # ChartParser: funktioniert\n",
    "for tree in parser.parse(sent.split()):\n",
    "    tree.pretty_print(unicodelines=True)"
   ]
  },
  {
   "cell_type": "code",
   "execution_count": 12,
   "metadata": {},
   "outputs": [
    {
     "name": "stdout",
     "output_type": "stream",
     "text": [
      "Parsing 'ein Hund rennt'\n",
      "    [ * ein Hund rennt]\n",
      "  S [ 'ein' * Hund rennt]\n",
      "  R [ DET * Hund rennt]\n",
      "  S [ DET 'Hund' * rennt]\n",
      "  R [ DET N * rennt]\n",
      "  R [ DET NOM * rennt]\n",
      "  R [ NP * rennt]\n",
      "  S [ NP 'rennt' * ]\n",
      "  R [ NP V * ]\n",
      "  R [ NP VP * ]\n",
      "  R [ S * ]\n",
      "         S        \n",
      "     ┌───┴─────┐   \n",
      "     NP        │  \n",
      " ┌───┴───┐     │   \n",
      " │      NOM    VP \n",
      " │       │     │   \n",
      "DET      N     V  \n",
      " │       │     │   \n",
      "ein     Hund rennt\n",
      "\n"
     ]
    }
   ],
   "source": [
    "parser = nltk.ShiftReduceParser(grammar,trace=2) # Shift-Reduce-Parser: funktioniert\n",
    "for tree in parser.parse(sent.split()):\n",
    "    tree.pretty_print(unicodelines=True)"
   ]
  },
  {
   "cell_type": "code",
   "execution_count": null,
   "metadata": {},
   "outputs": [],
   "source": [
    "parser = nltk.RecursiveDescentParser(grammar,trace=3) # Recursive-Descent-Parser: kein Parse möglich, Endlosschleife!\n",
    "for tree in parser.parse(sent.split()):\n",
    "    tree.pretty_print(unicodelines=True)"
   ]
  },
  {
   "cell_type": "markdown",
   "metadata": {},
   "source": [
    "```\n",
    "Parsing 'ein Hund rennt'\n",
    "Start:\n",
    "    [ * S ]\n",
    "Expand: S -> NP VP\n",
    "    [ * NP VP ]\n",
    "Expand: NP -> DET NOM\n",
    "    [ * DET NOM VP ]\n",
    "Expand: DET -> 'ein'\n",
    "    [ * 'ein' NOM VP ]\n",
    "Match: 'ein'\n",
    "    [ 'ein' * NOM VP ]\n",
    "Expand: NOM -> NOM PP\n",
    "    [ 'ein' * NOM PP VP ]\n",
    "Expand: NOM -> NOM PP\n",
    "    [ 'ein' * NOM PP PP VP ]\n",
    "Expand: NOM -> NOM PP\n",
    "    [ 'ein' * NOM PP PP PP VP ]\n",
    "Expand: NOM -> NOM PP\n",
    "    [ 'ein' * NOM PP PP PP PP VP ]\n",
    "Expand: NOM -> NOM PP\n",
    "    [ 'ein' * NOM PP PP PP PP PP VP ]\n",
    "Expand: NOM -> NOM PP\n",
    "    [ 'ein' * NOM PP PP PP PP PP PP VP ]\n",
    "\n",
    "...\n",
    "```"
   ]
  },
  {
   "cell_type": "markdown",
   "metadata": {},
   "source": [
    "### b) CFG mit rechtsrekursiven Regeln"
   ]
  },
  {
   "cell_type": "code",
   "execution_count": 13,
   "metadata": {},
   "outputs": [],
   "source": [
    "sent= \"ein Hund rennt\""
   ]
  },
  {
   "cell_type": "code",
   "execution_count": 14,
   "metadata": {},
   "outputs": [],
   "source": [
    "grammar = nltk.CFG.fromstring(\"\"\"\n",
    "    S -> NP VP\n",
    "    NP -> DET NOM\n",
    "    VP -> V\n",
    "\n",
    "#rechtsrekursiv:\n",
    "    NOM -> ADJ NOM\n",
    "    NOM -> N\n",
    "\n",
    "    DET -> \"ein\"\n",
    "    N -> \"Hund\"\n",
    "    V -> \"rennt\"\n",
    "    ADJ -> \"schneller\"\n",
    "\"\"\")"
   ]
  },
  {
   "cell_type": "code",
   "execution_count": 15,
   "metadata": {},
   "outputs": [
    {
     "name": "stdout",
     "output_type": "stream",
     "text": [
      "Parsing 'ein Hund rennt'\n",
      "Start:\n",
      "    [ * S ]\n",
      "Expand: S -> NP VP\n",
      "    [ * NP VP ]\n",
      "Expand: NP -> DET NOM\n",
      "    [ * DET NOM VP ]\n",
      "Expand: DET -> 'ein'\n",
      "    [ * 'ein' NOM VP ]\n",
      "Match: 'ein'\n",
      "    [ 'ein' * NOM VP ]\n",
      "Expand: NOM -> ADJ NOM\n",
      "    [ 'ein' * ADJ NOM VP ]\n",
      "Expand: ADJ -> 'schneller'\n",
      "    [ 'ein' * 'schneller' NOM VP ]\n",
      "Backtrack: 'Hund' match failed\n",
      "Expand: NOM -> N\n",
      "    [ 'ein' * N VP ]\n",
      "Expand: N -> 'Hund'\n",
      "    [ 'ein' * 'Hund' VP ]\n",
      "Match: 'Hund'\n",
      "    [ 'ein' 'Hund' * VP ]\n",
      "Expand: VP -> V\n",
      "    [ 'ein' 'Hund' * V ]\n",
      "Expand: V -> 'rennt'\n",
      "    [ 'ein' 'Hund' * 'rennt' ]\n",
      "Match: 'rennt'\n",
      "    [ 'ein' 'Hund' 'rennt' ]\n",
      "GOOD PARSE:\n",
      "    [ 'ein' 'Hund' 'rennt' ]\n",
      "         S        \n",
      "     ┌───┴─────┐   \n",
      "     NP        │  \n",
      " ┌───┴───┐     │   \n",
      " │      NOM    VP \n",
      " │       │     │   \n",
      "DET      N     V  \n",
      " │       │     │   \n",
      "ein     Hund rennt\n",
      "\n"
     ]
    }
   ],
   "source": [
    "parser = nltk.RecursiveDescentParser(grammar,trace=3) # Recursive-Descent-Parser: kann rechtsrekursive Regeln verarbeiten!\n",
    "for tree in parser.parse(sent.split()):\n",
    "    tree.pretty_print(unicodelines=True)"
   ]
  },
  {
   "cell_type": "code",
   "execution_count": 16,
   "metadata": {},
   "outputs": [],
   "source": [
    "sent= \"ein schneller Hund rennt\""
   ]
  },
  {
   "cell_type": "code",
   "execution_count": 17,
   "metadata": {},
   "outputs": [
    {
     "name": "stdout",
     "output_type": "stream",
     "text": [
      "Parsing 'ein schneller Hund rennt'\n",
      "Start:\n",
      "    [ * S ]\n",
      "Expand: S -> NP VP\n",
      "    [ * NP VP ]\n",
      "Expand: NP -> DET NOM\n",
      "    [ * DET NOM VP ]\n",
      "Expand: DET -> 'ein'\n",
      "    [ * 'ein' NOM VP ]\n",
      "Match: 'ein'\n",
      "    [ 'ein' * NOM VP ]\n",
      "Expand: NOM -> ADJ NOM\n",
      "    [ 'ein' * ADJ NOM VP ]\n",
      "Expand: ADJ -> 'schneller'\n",
      "    [ 'ein' * 'schneller' NOM VP ]\n",
      "Match: 'schneller'\n",
      "    [ 'ein' 'schneller' * NOM VP ]\n",
      "Expand: NOM -> ADJ NOM\n",
      "    [ 'ein' 'schneller' * ADJ NOM VP ]\n",
      "Expand: ADJ -> 'schneller'\n",
      "    [ 'ein' 'schneller' * 'schneller' NOM VP ]\n",
      "Backtrack: 'Hund' match failed\n",
      "Expand: NOM -> N\n",
      "    [ 'ein' 'schneller' * N VP ]\n",
      "Expand: N -> 'Hund'\n",
      "    [ 'ein' 'schneller' * 'Hund' VP ]\n",
      "Match: 'Hund'\n",
      "    [ 'ein' 'schneller' 'Hund' * VP ]\n",
      "Expand: VP -> V\n",
      "    [ 'ein' 'schneller' 'Hund' * V ]\n",
      "Expand: V -> 'rennt'\n",
      "    [ 'ein' 'schneller' 'Hund' * 'rennt' ]\n",
      "Match: 'rennt'\n",
      "    [ 'ein' 'schneller' 'Hund' 'rennt' ]\n",
      "GOOD PARSE:\n",
      "    [ 'ein' 'schneller' 'Hund' 'rennt' ]\n",
      "               S            \n",
      "        ┌──────┴─────────┐   \n",
      "        NP               │  \n",
      " ┌──────┴──────┐         │   \n",
      " │            NOM        │  \n",
      " │      ┌──────┴───┐     │   \n",
      " │      │         NOM    VP \n",
      " │      │          │     │   \n",
      "DET    ADJ         N     V  \n",
      " │      │          │     │   \n",
      "ein schneller     Hund rennt\n",
      "\n",
      "Expand: NOM -> N\n",
      "    [ 'ein' * N VP ]\n",
      "Expand: N -> 'Hund'\n",
      "    [ 'ein' * 'Hund' VP ]\n",
      "Backtrack: 'schneller' match failed\n"
     ]
    }
   ],
   "source": [
    "parser = nltk.RecursiveDescentParser(grammar,trace=3) # Recursive-Descent-Parser: funktioniert auch bei diesem erweiterten Beispielsatz\n",
    "for tree in parser.parse(sent.split()):\n",
    "    tree.pretty_print(unicodelines=True)"
   ]
  },
  {
   "cell_type": "markdown",
   "metadata": {},
   "source": [
    "### c) Backtracking bei Garden-Path-Sätzen"
   ]
  },
  {
   "cell_type": "code",
   "execution_count": 18,
   "metadata": {},
   "outputs": [],
   "source": [
    "sent = 'the old man the boat'"
   ]
  },
  {
   "cell_type": "code",
   "execution_count": 19,
   "metadata": {},
   "outputs": [],
   "source": [
    "grammar = nltk.CFG.fromstring(\"\"\"\n",
    "    S -> NP VP\n",
    "    NP -> DET ADJ N\n",
    "    NP -> DET N\n",
    "    VP -> V NP\n",
    "\n",
    "    DET -> 'the'\n",
    "    ADJ -> 'old'\n",
    "    N -> 'man' | 'boat' | 'old'\n",
    "    V -> 'man'\n",
    "\"\"\")"
   ]
  },
  {
   "cell_type": "code",
   "execution_count": 20,
   "metadata": {},
   "outputs": [
    {
     "name": "stdout",
     "output_type": "stream",
     "text": [
      "Warning: ADJ -> 'old' will never be used\n",
      "Warning: N -> 'man' will never be used\n",
      "Parsing 'the old man the boat'\n",
      "    [ * the old man the boat]\n",
      "  S [ 'the' * old man the boat]\n",
      "  R [ DET * old man the boat]\n",
      "  S [ DET 'old' * man the boat]\n",
      "  R [ DET ADJ * man the boat]\n",
      "  S [ DET ADJ 'man' * the boat]\n",
      "  R [ DET ADJ N * the boat]\n",
      "  R [ NP * the boat]\n",
      "  S [ NP 'the' * boat]\n",
      "  R [ NP DET * boat]\n",
      "  S [ NP DET 'boat' * ]\n",
      "  R [ NP DET N * ]\n",
      "  R [ NP NP * ]\n"
     ]
    }
   ],
   "source": [
    "parser = nltk.ShiftReduceParser(grammar,trace=2) # Shift-Reduce-Parser: nicht möglich, da im NLTK kein Backtracking implementiert!\n",
    "for tree in parser.parse(sent.split()):\n",
    "    tree.pretty_print(unicodelines=True)"
   ]
  },
  {
   "cell_type": "code",
   "execution_count": 21,
   "metadata": {},
   "outputs": [
    {
     "name": "stdout",
     "output_type": "stream",
     "text": [
      "Parsing 'the old man the boat'\n",
      "Start:\n",
      "    [ * S ]\n",
      "Expand: S -> NP VP\n",
      "    [ * NP VP ]\n",
      "Expand: NP -> DET ADJ N\n",
      "    [ * DET ADJ N VP ]\n",
      "Expand: DET -> 'the'\n",
      "    [ * 'the' ADJ N VP ]\n",
      "Match: 'the'\n",
      "    [ 'the' * ADJ N VP ]\n",
      "Expand: ADJ -> 'old'\n",
      "    [ 'the' * 'old' N VP ]\n",
      "Match: 'old'\n",
      "    [ 'the' 'old' * N VP ]\n",
      "Expand: N -> 'man'\n",
      "    [ 'the' 'old' * 'man' VP ]\n",
      "Match: 'man'\n",
      "    [ 'the' 'old' 'man' * VP ]\n",
      "Expand: VP -> V NP\n",
      "    [ 'the' 'old' 'man' * V NP ]\n",
      "Expand: V -> 'man'\n",
      "    [ 'the' 'old' 'man' * 'man' NP ]\n",
      "Backtrack: 'the' match failed\n",
      "Expand: N -> 'boat'\n",
      "    [ 'the' 'old' * 'boat' VP ]\n",
      "Backtrack: 'man' match failed\n",
      "Expand: N -> 'old'\n",
      "    [ 'the' 'old' * 'old' VP ]\n",
      "Backtrack: 'man' match failed\n",
      "Expand: NP -> DET N\n",
      "    [ * DET N VP ]\n",
      "Expand: DET -> 'the'\n",
      "    [ * 'the' N VP ]\n",
      "Match: 'the'\n",
      "    [ 'the' * N VP ]\n",
      "Expand: N -> 'man'\n",
      "    [ 'the' * 'man' VP ]\n",
      "Backtrack: 'old' match failed\n",
      "Expand: N -> 'boat'\n",
      "    [ 'the' * 'boat' VP ]\n",
      "Backtrack: 'old' match failed\n",
      "Expand: N -> 'old'\n",
      "    [ 'the' * 'old' VP ]\n",
      "Match: 'old'\n",
      "    [ 'the' 'old' * VP ]\n",
      "Expand: VP -> V NP\n",
      "    [ 'the' 'old' * V NP ]\n",
      "Expand: V -> 'man'\n",
      "    [ 'the' 'old' * 'man' NP ]\n",
      "Match: 'man'\n",
      "    [ 'the' 'old' 'man' * NP ]\n",
      "Expand: NP -> DET ADJ N\n",
      "    [ 'the' 'old' 'man' * DET ADJ N ]\n",
      "Expand: DET -> 'the'\n",
      "    [ 'the' 'old' 'man' * 'the' ADJ N ]\n",
      "Match: 'the'\n",
      "    [ 'the' 'old' 'man' 'the' * ADJ N ]\n",
      "Expand: ADJ -> 'old'\n",
      "    [ 'the' 'old' 'man' 'the' * 'old' N ]\n",
      "Backtrack: 'boat' match failed\n",
      "Expand: NP -> DET N\n",
      "    [ 'the' 'old' 'man' * DET N ]\n",
      "Expand: DET -> 'the'\n",
      "    [ 'the' 'old' 'man' * 'the' N ]\n",
      "Match: 'the'\n",
      "    [ 'the' 'old' 'man' 'the' * N ]\n",
      "Expand: N -> 'man'\n",
      "    [ 'the' 'old' 'man' 'the' * 'man' ]\n",
      "Backtrack: 'boat' match failed\n",
      "Expand: N -> 'boat'\n",
      "    [ 'the' 'old' 'man' 'the' * 'boat' ]\n",
      "Match: 'boat'\n",
      "    [ 'the' 'old' 'man' 'the' 'boat' ]\n",
      "GOOD PARSE:\n",
      "    [ 'the' 'old' 'man' 'the' 'boat' ]\n",
      "             S              \n",
      "     ┌───────┴───┐           \n",
      "     │           VP         \n",
      "     │       ┌───┴───┐       \n",
      "     NP      │       NP     \n",
      " ┌───┴───┐   │   ┌───┴───┐   \n",
      "DET      N   V  DET      N  \n",
      " │       │   │   │       │   \n",
      "the     old man the     boat\n",
      "\n",
      "Expand: N -> 'old'\n",
      "    [ 'the' 'old' 'man' 'the' * 'old' ]\n",
      "Backtrack: 'boat' match failed\n"
     ]
    }
   ],
   "source": [
    "parser = nltk.RecursiveDescentParser(grammar,trace=3) # Recursive-Descent-Parser: funktioniert, da Backtracking hier implementiert\n",
    "for tree in parser.parse(sent.split()):\n",
    "    tree.pretty_print(unicodelines=True)"
   ]
  },
  {
   "cell_type": "markdown",
   "metadata": {},
   "source": [
    "### d) Anpassung Regelreihenfolge Garden-Path\n",
    "\n",
    "#### Passen Sie die Reihenfolge der POS-ambigen Regeln an, so dass auch der Shift-Reduce-Parser ohne Backtracking den korrekten Parsebaum findet."
   ]
  },
  {
   "cell_type": "code",
   "execution_count": 25,
   "metadata": {},
   "outputs": [],
   "source": [
    "grammar = nltk.CFG.fromstring(\"\"\"\n",
    "    S -> NP VP\n",
    "    NP -> DET ADJ N\n",
    "    NP -> DET N\n",
    "    VP -> V NP\n",
    "\n",
    "#nach oben verschoben\n",
    "    V -> 'man'\n",
    "\n",
    "    DET -> 'the'\n",
    "    N -> 'man' | 'boat' | 'old'\n",
    "\n",
    "#nach unten verschoben:\n",
    "    ADJ -> 'old'\n",
    "\"\"\")"
   ]
  },
  {
   "cell_type": "code",
   "execution_count": 26,
   "metadata": {},
   "outputs": [
    {
     "name": "stdout",
     "output_type": "stream",
     "text": [
      "Warning: V -> 'man' will never be used\n",
      "Warning: N -> 'old' will never be used\n",
      "Parsing 'the old man the boat'\n",
      "    [ * the old man the boat]\n",
      "  S [ 'the' * old man the boat]\n",
      "  R [ DET * old man the boat]\n",
      "  S [ DET 'old' * man the boat]\n",
      "  R [ DET N * man the boat]\n",
      "  R [ NP * man the boat]\n",
      "  S [ NP 'man' * the boat]\n",
      "  R [ NP V * the boat]\n",
      "  S [ NP V 'the' * boat]\n",
      "  R [ NP V DET * boat]\n",
      "  S [ NP V DET 'boat' * ]\n",
      "  R [ NP V DET N * ]\n",
      "  R [ NP V NP * ]\n",
      "  R [ NP VP * ]\n",
      "  R [ S * ]\n",
      "             S              \n",
      "     ┌───────┴───┐           \n",
      "     │           VP         \n",
      "     │       ┌───┴───┐       \n",
      "     NP      │       NP     \n",
      " ┌───┴───┐   │   ┌───┴───┐   \n",
      "DET      N   V  DET      N  \n",
      " │       │   │   │       │   \n",
      "the     old man the     boat\n",
      "\n"
     ]
    }
   ],
   "source": [
    "parser = nltk.ShiftReduceParser(grammar,trace=2) # Shift-Reduce-Parser\n",
    "for tree in parser.parse(sent.split()):\n",
    "    tree.pretty_print(unicodelines=True)"
   ]
  }
 ],
 "metadata": {
  "kernelspec": {
   "display_name": "Python 3 (ipykernel)",
   "language": "python",
   "name": "python3"
  },
  "language_info": {
   "codemirror_mode": {
    "name": "ipython",
    "version": 3
   },
   "file_extension": ".py",
   "mimetype": "text/x-python",
   "name": "python",
   "nbconvert_exporter": "python",
   "pygments_lexer": "ipython3",
   "version": "3.9.12"
  }
 },
 "nbformat": 4,
 "nbformat_minor": 2
}
