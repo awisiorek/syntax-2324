{
 "cells": [
  {
   "cell_type": "markdown",
   "metadata": {},
   "source": [
    "Syntax natürlicher Sprachen, WS 2023/24\n",
    "\n",
    "# 03 - Übung"
   ]
  },
  {
   "cell_type": "code",
   "execution_count": 1,
   "metadata": {},
   "outputs": [],
   "source": [
    "import nltk\n",
    "from nltk.tree import Tree"
   ]
  },
  {
   "cell_type": "markdown",
   "metadata": {},
   "source": [
    "## Aufgabe 1 -  Syntaktische Ambiguität\n",
    "\n",
    "#### Gegeben sei folgende CFG-Grammatik für einen bekannten Beispielsatz aus einem Film der Marx Brothers (vgl. https://www.nltk.org/book/ch08.html#ex-marx-elephant). Führen Sie das Skript aus und beantworten Sie im Anschluss die untenstehenden Fragen."
   ]
  },
  {
   "cell_type": "code",
   "execution_count": 2,
   "metadata": {},
   "outputs": [
    {
     "name": "stdout",
     "output_type": "stream",
     "text": [
      "\n",
      "Länge der vom Parser wiedergegebenen Sequenz:  2 \n",
      "\n",
      "      S                                       \n",
      " ┌────┴──────────────┐                         \n",
      " │                   VP                       \n",
      " │         ┌─────────┴──────────┐              \n",
      " │         VP                   PP            \n",
      " │    ┌────┴───┐            ┌───┴───┐          \n",
      " NP   │        NP           │       NP        \n",
      " │    │    ┌───┴─────┐      │   ┌───┴─────┐    \n",
      "PRON  V   DET        N      P  DET        N   \n",
      " │    │    │         │      │   │         │    \n",
      " I   shot  an     elephant  in  my     pajamas\n",
      "\n",
      "      S                                   \n",
      " ┌────┴──────────┐                         \n",
      " │               VP                       \n",
      " │    ┌──────────┴──────┐                  \n",
      " │    │                 NP                \n",
      " │    │    ┌─────┬──────┴───┐              \n",
      " │    │    │     │          PP            \n",
      " │    │    │     │      ┌───┴───┐          \n",
      " NP   │    │     │      │       NP        \n",
      " │    │    │     │      │   ┌───┴─────┐    \n",
      "PRON  V   DET    N      P  DET        N   \n",
      " │    │    │     │      │   │         │    \n",
      " I   shot  an elephant  in  my     pajamas\n",
      "\n"
     ]
    }
   ],
   "source": [
    "sent = \"I shot an elephant in my pajamas\"\n",
    "\n",
    "grammar = nltk.CFG.fromstring(\"\"\"\n",
    "    S -> NP VP\n",
    "    NP -> DET N | DET N PP | PRON\n",
    "    VP -> V NP | VP PP\n",
    "    PP -> P NP\n",
    "    PRON -> 'I'\n",
    "    DET -> 'an' | 'my'\n",
    "    N -> 'elephant' | 'pajamas'\n",
    "    V -> 'shot'\n",
    "    P -> 'in'\n",
    "\"\"\")\n",
    "\n",
    "parser = nltk.ChartParser(grammar)\n",
    "trees = list(parser.parse(sent.split()))\n",
    "print(\"\\nLänge der vom Parser wiedergegebenen Sequenz: \", len(trees), \"\\n\")\n",
    "\n",
    "for tree in trees:\n",
    "    tree.pretty_print(unicodelines=True)"
   ]
  },
  {
   "cell_type": "markdown",
   "metadata": {},
   "source": [
    "#### 1. Warum gibt die parse-Funktion des Skripts eine Sequenz zurück?\n"
   ]
  },
  {
   "cell_type": "code",
   "execution_count": null,
   "metadata": {},
   "outputs": [],
   "source": [
    "#"
   ]
  },
  {
   "cell_type": "markdown",
   "metadata": {},
   "source": [
    "#### 2. Worin liegen die Unterschiede zwischen den ausgegebenen Bäumen?\n"
   ]
  },
  {
   "cell_type": "code",
   "execution_count": null,
   "metadata": {},
   "outputs": [],
   "source": [
    "#"
   ]
  },
  {
   "cell_type": "markdown",
   "metadata": {},
   "source": [
    "#### 3. Warum ist der gegebene Satz *I shot an elephant in my pajamas* syntaktisch ambig?"
   ]
  },
  {
   "cell_type": "code",
   "execution_count": null,
   "metadata": {},
   "outputs": [],
   "source": [
    "#"
   ]
  },
  {
   "cell_type": "markdown",
   "metadata": {},
   "source": [
    "#### 4. Welche Regeln ermöglichen die beiden Analysen? Wie unterscheiden sich die beiden Regeln?"
   ]
  },
  {
   "cell_type": "code",
   "execution_count": null,
   "metadata": {},
   "outputs": [],
   "source": [
    "#"
   ]
  },
  {
   "cell_type": "markdown",
   "metadata": {},
   "source": [
    "## Aufgabe 2 - Transformation in X-Bar-Struktur\n",
    "\n",
    "#### Ergänzen Sie die gegebene CFG mit X-Bar-Struktur-Regeln, um folgenden Satz linguistisch korrekt zu parsen:"
   ]
  },
  {
   "cell_type": "code",
   "execution_count": 3,
   "metadata": {},
   "outputs": [],
   "source": [
    "sent = \"I had shot a very very big elephant in my pajamas\""
   ]
  },
  {
   "cell_type": "code",
   "execution_count": null,
   "metadata": {},
   "outputs": [],
   "source": [
    "grammar = nltk.CFG.fromstring(\"\"\"\n",
    "    S -> NP VP\n",
    "    NP -> DET N | DET N PP | PRON\n",
    "    VP -> V NP | VP PP\n",
    "    PP -> P NP\n",
    "\n",
    "    PRON -> 'I'\n",
    "    DET -> 'a' | 'my'\n",
    "    N -> 'elephant' | 'pajamas'\n",
    "    V -> 'shot'\n",
    "    P -> 'in'\n",
    "    PRT -> 'very'\n",
    "    ADJ -> 'big'\n",
    "    AUX -> 'had'\n",
    "\"\"\")\n",
    "\n",
    "parser = nltk.ChartParser(grammar)\n",
    "trees = list(parser.parse(sent.split()))\n",
    "if trees: [tree.pretty_print(unicodelines=True) for tree in trees]\n",
    "else: print(f\"no parse found for: {sent}\")"
   ]
  },
  {
   "cell_type": "markdown",
   "metadata": {},
   "source": [
    "\n",
    "## Aufgabe 3 - Phrasenstrukturgrammatik mit X-Bar-Regeln\n",
    "\n",
    "### a) Schreiben Sie zunächst eine einfache kontextfreie Grammatik, die die folgenden beiden Sätze erkennt:"
   ]
  },
  {
   "cell_type": "code",
   "execution_count": 4,
   "metadata": {},
   "outputs": [],
   "source": [
    "sents = [\n",
    "    \"der Mann gibt der Frau das Buch\",\n",
    "    \"die Frau schenkt der Frau das Buch\"\n",
    "]"
   ]
  },
  {
   "cell_type": "code",
   "execution_count": null,
   "metadata": {},
   "outputs": [],
   "source": [
    "grammar = nltk.CFG.fromstring(\"\"\"\n",
    "    S -> \n",
    "\"\"\")\n",
    "\n",
    "parser = nltk.ChartParser(grammar)\n",
    "for sent in sents:\n",
    "    trees = list(parser.parse(sent.split()))\n",
    "    if trees: [tree.pretty_print(unicodelines=True) for tree in trees]\n",
    "    else: print(f\"no parse found for: {sent}\")"
   ]
  },
  {
   "cell_type": "markdown",
   "metadata": {},
   "source": [
    "### b) Erweiterung für ein- und zweistellige Verben\n",
    "\n",
    "#### Bis jetzt akzeptiert die Grammatik lediglich dreistellige Verben. Erweitern Sie sie so, dass auch Verben mit weniger als zwei Objekten korrekte Verbalphrasen bilden können.\n",
    "\n",
    "#### Folgende Sätze sollten akzeptiert werden:"
   ]
  },
  {
   "cell_type": "code",
   "execution_count": 5,
   "metadata": {},
   "outputs": [],
   "source": [
    "sents = [\n",
    "    \"der Mann schläft\",\n",
    "    \"das Buch gefällt der Frau\",\n",
    "    \"die Frau kennt das Buch\"\n",
    "]"
   ]
  },
  {
   "cell_type": "code",
   "execution_count": null,
   "metadata": {},
   "outputs": [],
   "source": [
    "grammar = nltk.CFG.fromstring(\"\"\"\n",
    "#Grammatik von oben herunterkopieren\n",
    "\"\"\")\n",
    "\n",
    "parser = nltk.ChartParser(grammar)\n",
    "for sent in sents:\n",
    "    trees = list(parser.parse(sent.split()))\n",
    "    if trees: [tree.pretty_print(unicodelines=True) for tree in trees]\n",
    "    else: print(f\"no parse found for: {sent}\")"
   ]
  },
  {
   "cell_type": "markdown",
   "metadata": {},
   "source": [
    "### c) Erweiterung für rekursive Adjektiv-Adjunkte\n",
    "\n",
    "#### Erweitern Sie die Grammatik nun derart, dass Nominalphrasen auch Adjektive enthalten dürfen – und zwar beliebig viele. Beachten Sie dabei, dass andererseits nur genau ein Determinierer in der NP-Phrase enthalten sein darf (und zwar als erstes Element).\n",
    "\n",
    "#### Verwenden Sie `NOM` als Label für die nominale Zwischenebene (X' in X-Bar-Schema).\n",
    "\n",
    "#### Folgende Sätze sollten akzeptiert werden:"
   ]
  },
  {
   "cell_type": "code",
   "execution_count": 6,
   "metadata": {},
   "outputs": [],
   "source": [
    "sents = [\n",
    "    \"die kluge schöne Frau kennt das Buch\",\n",
    "    \"der schöne kluge Mann gibt der Frau das dicke Buch\",\n",
    "    \"das dicke schöne kluge Buch schläft\"\n",
    "]"
   ]
  },
  {
   "cell_type": "code",
   "execution_count": null,
   "metadata": {},
   "outputs": [],
   "source": [
    "grammar = nltk.CFG.fromstring(\"\"\"\n",
    "#Grammatik von oben herunterkopieren\n",
    "\"\"\")\n",
    "\n",
    "parser = nltk.ChartParser(grammar)\n",
    "for sent in sents:\n",
    "    trees = list(parser.parse(sent.split()))\n",
    "    if trees: [tree.pretty_print(unicodelines=True) for tree in trees]\n",
    "    else: print(f\"no parse found for: {sent}\")"
   ]
  },
  {
   "cell_type": "markdown",
   "metadata": {},
   "source": [
    "#### Erweiterte Negativtests: Testen Sie auch, ob Ihre Grammatik für die folgenden (ungrammatischen) Sätze keine Ableitung liefert:"
   ]
  },
  {
   "cell_type": "code",
   "execution_count": null,
   "metadata": {},
   "outputs": [],
   "source": [
    "neg_sents = [\n",
    "    \"der der dicke der Mann gibt der Frau das Buch\"\n",
    "]\n",
    "\n",
    "parser = nltk.ChartParser(grammar)\n",
    "for sent in neg_sents:\n",
    "    trees = list(parser.parse(sent.split()))\n",
    "    if trees: [tree.pretty_print(unicodelines=True) for tree in trees]\n",
    "    else: print(f\"no parse found for: {sent}\")"
   ]
  },
  {
   "cell_type": "markdown",
   "metadata": {},
   "source": [
    "### d) Erweiterung um Präpositionalphrasen\n",
    "\n",
    "#### Erweitern Sie die Grammatik nun derart, dass sowohl Nominalphrasen als auch Verbalphrasen durch Präpositionalphrasen modifiziert werden können.\n",
    "\n",
    "#### Folgende Sätze sollten akzeptiert werden. Stellen Sie zudem sicher, dass für den 2. Satz zwei Analysen generiert werden (PP-Attachment-Ambiguität)."
   ]
  },
  {
   "cell_type": "code",
   "execution_count": 8,
   "metadata": {},
   "outputs": [],
   "source": [
    "sents = [\n",
    "    \"der Mann schläft neben dem Buch\",\n",
    "    \"die Frau schenkt dem Mann das Buch auf der Tanzfläche\"\n",
    "]"
   ]
  },
  {
   "cell_type": "code",
   "execution_count": null,
   "metadata": {},
   "outputs": [],
   "source": [
    "grammar = nltk.CFG.fromstring(\"\"\"\n",
    "#Grammatik von oben herunterkopieren\n",
    "\"\"\")\n",
    "\n",
    "parser = nltk.ChartParser(grammar)\n",
    "for sent in sents:\n",
    "    trees = list(parser.parse(sent.split()))\n",
    "    if trees: [tree.pretty_print(unicodelines=True) for tree in trees]\n",
    "    else: print(f\"no parse found for: {sent}\")"
   ]
  },
  {
   "cell_type": "markdown",
   "metadata": {},
   "source": [
    "#### Testen Sie abschließend, ob Ihre Grammatik weiterhin für alle Sätze eine korrekte Analyse liefert:"
   ]
  },
  {
   "cell_type": "code",
   "execution_count": 9,
   "metadata": {},
   "outputs": [],
   "source": [
    "all_sents = [\n",
    "    \"der Mann gibt der Frau das Buch\",\n",
    "    \"die Frau schenkt der Frau das Buch\",\n",
    "    \"der Mann schläft\",\n",
    "    \"das Buch gefällt der Frau\",\n",
    "    \"die Frau kennt das Buch\",\n",
    "    \"die kluge schöne Frau kennt das Buch\",\n",
    "    \"der schöne kluge Mann gibt der Frau das dicke Buch\",\n",
    "    \"das dicke schöne kluge Buch schläft\",\n",
    "    \"der Mann schläft neben dem Buch\",\n",
    "    \"die Frau schenkt dem Mann das Buch auf der Tanzfläche\"\n",
    "]"
   ]
  },
  {
   "cell_type": "code",
   "execution_count": null,
   "metadata": {},
   "outputs": [],
   "source": [
    "parser = nltk.ChartParser(grammar)\n",
    "for sent in all_sents:\n",
    "    trees = list(parser.parse(sent.split()))\n",
    "    if trees: [tree.pretty_print(unicodelines=True) for tree in trees]\n",
    "    else: print(f\"no parse found for: {sent}\")"
   ]
  }
 ],
 "metadata": {
  "kernelspec": {
   "display_name": "Python 3 (ipykernel)",
   "language": "python",
   "name": "python3"
  },
  "language_info": {
   "codemirror_mode": {
    "name": "ipython",
    "version": 3
   },
   "file_extension": ".py",
   "mimetype": "text/x-python",
   "name": "python",
   "nbconvert_exporter": "python",
   "pygments_lexer": "ipython3",
   "version": "3.9.12"
  }
 },
 "nbformat": 4,
 "nbformat_minor": 2
}
