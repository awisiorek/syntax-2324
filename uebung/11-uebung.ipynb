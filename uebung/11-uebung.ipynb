{
 "cells": [
  {
   "cell_type": "markdown",
   "metadata": {},
   "source": [
    "Syntax natürlicher Sprachen, WS 2023/24\n",
    "\n",
    "# 11 - Übung"
   ]
  },
  {
   "cell_type": "code",
   "execution_count": 1,
   "metadata": {},
   "outputs": [],
   "source": [
    "import nltk\n",
    "from nltk import Tree\n",
    "from nltk.grammar import ProbabilisticProduction, PCFG"
   ]
  },
  {
   "cell_type": "markdown",
   "metadata": {},
   "source": [
    "## Aufgabe 1 - Lexikalisierte CFG"
   ]
  },
  {
   "cell_type": "markdown",
   "metadata": {},
   "source": [
    "#### Gegeben sei folgende FCFG (für einen Satz mit mit adverbialem PP-Komplement) mit nur teilweise durchgeführter Kopfannotation über ein `HEAD`-Merkmal.\n",
    "\n",
    "#### Vervollständigen Sie die Kopfannotation gemäß UD-Regeln."
   ]
  },
  {
   "cell_type": "code",
   "execution_count": 2,
   "metadata": {},
   "outputs": [
    {
     "name": "stdout",
     "output_type": "stream",
     "text": [
      "(S[]\n",
      "  (NP[] (PRON[] sie))\n",
      "  (VP[]\n",
      "    (V[] stellt)\n",
      "    (NP[] (DET[] die) (N[] Blumen))\n",
      "    (PP[] (P[] in) (NP[] (DET[] die) (N[] Vase)))))\n",
      "        S[]                                        \n",
      "  ┌──────┴─────────────────┐                        \n",
      "  │                       VP[]                     \n",
      "  │      ┌───────────┬─────┴──────────┐             \n",
      "  │      │           │               PP[]          \n",
      "  │      │           │           ┌────┴────┐        \n",
      " NP[]    │          NP[]         │        NP[]     \n",
      "  │      │      ┌────┴─────┐     │    ┌────┴────┐   \n",
      "PRON[]  V[]   DET[]       N[]   P[] DET[]      N[] \n",
      "  │      │      │          │     │    │         │   \n",
      " sie   stellt  die       Blumen  in  die       Vase\n",
      "\n"
     ]
    }
   ],
   "source": [
    "sentence = \"sie stellt die Blumen in die Vase\"\n",
    "\n",
    "gramstring = r\"\"\"\n",
    "% start S\n",
    "    S[] -> NP[] VP[]\n",
    "    NP[] -> PRON[]\n",
    "    NP[] -> DET[] N[]\n",
    "    NP[] -> NP[] PP[]\n",
    "    VP[] -> V[] NP[] PP[]\n",
    "    PP[] -> P[] NP[]\n",
    "    \n",
    "    PRON[] -> \"sie\"\n",
    "    DET[] -> \"die\"\n",
    "    N[] -> \"Blumen\"\n",
    "    N[] -> \"Vase\"\n",
    "    V[] -> \"stellt\"\n",
    "    P[] -> \"in\"\n",
    "\"\"\"\n",
    "\n",
    "grammar = nltk.grammar.FeatureGrammar.fromstring(gramstring)\n",
    "parser = nltk.parse.FeatureChartParser(grammar,trace=0)\n",
    "\n",
    "for tree in parser.parse(sentence.split()):\n",
    "    print(tree)\n",
    "    tree = Tree.fromstring(str(tree).replace(\", \",\",\"))\n",
    "    tree.pretty_print(unicodelines=True)\n",
    "    #display(tree)"
   ]
  },
  {
   "cell_type": "markdown",
   "metadata": {},
   "source": [
    "## Aufgabe 2 - Parent Annotation"
   ]
  },
  {
   "cell_type": "markdown",
   "metadata": {},
   "source": [
    "#### Gegeben sei folgende CFG mit unvollständiger *Parent Annotation*.\n",
    "\n",
    "### a) Vervollständigen Sie über Symbolerweiterung (mit `^` als Trennerzeichen) die *Parent Annotation*, wie sie durch die Regelanwendungen im Syntaxbaum der Angabe impliziert ist.\n",
    "\n",
    "#### Führen Sie außerdem eine *Grandparent Annotation* durch.\n"
   ]
  },
  {
   "cell_type": "code",
   "execution_count": 3,
   "metadata": {},
   "outputs": [
    {
     "name": "stdout",
     "output_type": "stream",
     "text": [
      "            S                 \n",
      " ┌──────────┴────┐             \n",
      " │               VP           \n",
      " │     ┌─────────┴─────┐       \n",
      " NP    │               NP     \n",
      " │     │         ┌─────┴───┐   \n",
      "PRON   V       DET^NP      N  \n",
      " │     │         │         │   \n",
      "sie  sieht      die       Frau\n",
      "\n"
     ]
    }
   ],
   "source": [
    "sentence = \"sie sieht die Frau\"\n",
    "\n",
    "grammar = nltk.CFG.fromstring(\"\"\"\n",
    "    S   -> NP VP\n",
    "    VP  -> V NP\n",
    "    NP  -> DET^NP N\n",
    "    NP  -> PRON\n",
    "\n",
    "    DET^NP -> \"die\"\n",
    "    N      -> \"Frau\"\n",
    "    PRON   -> \"sie\"\n",
    "    V      -> \"sieht\"\n",
    "\"\"\")\n",
    "\n",
    "parser = nltk.ChartParser(grammar,trace=0)\n",
    "\n",
    "for tree in parser.parse(sentence.split()):\n",
    "    tree.pretty_print(unicodelines=True)    "
   ]
  },
  {
   "cell_type": "markdown",
   "metadata": {},
   "source": [
    "### b) Vergleichen Sie Ihre Lösung anschließend mit dem Resultat der entsprechenden Normalisierung mit NLTK (Chomsky-Normalform-Binarisierung mit Grandparent-Annotation):"
   ]
  },
  {
   "cell_type": "code",
   "execution_count": null,
   "metadata": {},
   "outputs": [],
   "source": [
    "#parent annotation:\n",
    "tree = nltk.Tree.fromstring(\"\"\"\n",
    "(S\n",
    "   (NP (PRON sie))\n",
    "   (VP\n",
    "    (V sieht) \n",
    "    (NP (DET die) (N Frau))\n",
    "    ))\n",
    "\"\"\")\n",
    "\n",
    "#tree_copy = copy.deepcopy(tree)\n",
    "tree.chomsky_normal_form(vertMarkov=1) \n",
    "tree.pretty_print(unicodelines=True)"
   ]
  },
  {
   "cell_type": "code",
   "execution_count": null,
   "metadata": {},
   "outputs": [],
   "source": [
    "#grandparent annotation:\n",
    "tree = nltk.Tree.fromstring(\"\"\"\n",
    "(S\n",
    "   (NP (PRON sie))\n",
    "   (VP\n",
    "    (V sieht) \n",
    "    (NP (DET die) (N Frau))\n",
    "    ))\n",
    "\"\"\")\n",
    "\n",
    "#tree_copy = copy.deepcopy(tree)\n",
    "tree.chomsky_normal_form(vertMarkov=2) \n",
    "tree.pretty_print(unicodelines=True)"
   ]
  },
  {
   "cell_type": "markdown",
   "metadata": {},
   "source": [
    "### c) Vergleichen Sie auch das Ergebnis der entsprechende Normalisierung mit folgender Variante des Syntaxbaums mit flacher Struktur ohne VP:"
   ]
  },
  {
   "cell_type": "code",
   "execution_count": 4,
   "metadata": {},
   "outputs": [
    {
     "name": "stdout",
     "output_type": "stream",
     "text": [
      "       S               \n",
      " ┌─────┼────────┐       \n",
      " NP    │        NP     \n",
      " │     │    ┌───┴───┐   \n",
      "PRON   V   DET      N  \n",
      " │     │    │       │   \n",
      "sie  sieht die     Frau\n",
      "\n"
     ]
    }
   ],
   "source": [
    "tree = nltk.Tree.fromstring(\"\"\"\n",
    "(S\n",
    "   (NP (PRON sie))\n",
    "   (V sieht) \n",
    "   (NP (DET die) (N Frau))\n",
    "    )\n",
    "\"\"\")\n",
    "tree.pretty_print(unicodelines=True)"
   ]
  },
  {
   "cell_type": "code",
   "execution_count": null,
   "metadata": {},
   "outputs": [],
   "source": [
    "#parent annotation und binarization:\n",
    "tree.chomsky_normal_form(vertMarkov=1) \n",
    "tree.pretty_print(unicodelines=True)"
   ]
  },
  {
   "cell_type": "markdown",
   "metadata": {},
   "source": [
    "## *Aufgabe 3 - Grammatikinduktion aus Penn Treebank*"
   ]
  },
  {
   "cell_type": "markdown",
   "metadata": {},
   "source": [
    "#### In dieser Aufgabe soll vollautomatisch aus Daten (Syntaxbäumen) eine probabilistische kontextfreie Grammatik erzeugt werden."
   ]
  },
  {
   "cell_type": "markdown",
   "metadata": {},
   "source": [
    "###  a) Herunterladen von Ressourcen und Beispiel\n",
    "\n",
    "#### Laden Sie zunächst die Ressource „corpora/treebank“ mithilfe des NLTK-Download-Managers herunter, falls diese noch nicht installiert ist."
   ]
  },
  {
   "cell_type": "code",
   "execution_count": 5,
   "metadata": {},
   "outputs": [],
   "source": [
    "# nltk.download()"
   ]
  },
  {
   "cell_type": "markdown",
   "metadata": {},
   "source": [
    " #### Hier ein Beispiel für geparste Sätze in der Penn Treebank:"
   ]
  },
  {
   "cell_type": "code",
   "execution_count": 6,
   "metadata": {},
   "outputs": [
    {
     "name": "stdout",
     "output_type": "stream",
     "text": [
      "(S\n",
      "  (NP-SBJ\n",
      "    (NP (NNP Pierre) (NNP Vinken))\n",
      "    (, ,)\n",
      "    (ADJP (NP (CD 61) (NNS years)) (JJ old))\n",
      "    (, ,))\n",
      "  (VP\n",
      "    (MD will)\n",
      "    (VP\n",
      "      (VB join)\n",
      "      (NP (DT the) (NN board))\n",
      "      (PP-CLR (IN as) (NP (DT a) (JJ nonexecutive) (NN director)))\n",
      "      (NP-TMP (NNP Nov.) (CD 29))))\n",
      "  (. .))\n",
      "(S\n",
      "  (NP-SBJ (NNP Mr.) (NNP Vinken))\n",
      "  (VP\n",
      "    (VBZ is)\n",
      "    (NP-PRD\n",
      "      (NP (NN chairman))\n",
      "      (PP\n",
      "        (IN of)\n",
      "        (NP\n",
      "          (NP (NNP Elsevier) (NNP N.V.))\n",
      "          (, ,)\n",
      "          (NP (DT the) (NNP Dutch) (VBG publishing) (NN group))))))\n",
      "  (. .))\n"
     ]
    }
   ],
   "source": [
    "from nltk.corpus import treebank\n",
    "\n",
    "for tree in treebank.parsed_sents('wsj_0001.mrg'):\n",
    "    print(tree)"
   ]
  },
  {
   "cell_type": "markdown",
   "metadata": {},
   "source": [
    "#### Hier ein Beispiel für Gramatikinduktion mit `nltk.induce_pcfg`:"
   ]
  },
  {
   "cell_type": "code",
   "execution_count": 7,
   "metadata": {},
   "outputs": [
    {
     "data": {
      "text/plain": [
       "51"
      ]
     },
     "execution_count": 7,
     "metadata": {},
     "output_type": "execute_result"
    }
   ],
   "source": [
    "productions = []\n",
    "S = nltk.Nonterminal('S')\n",
    "for tree in nltk.corpus.treebank.parsed_sents('wsj_0001.mrg'):\n",
    "    productions += tree.productions()\n",
    "len(productions)"
   ]
  },
  {
   "cell_type": "code",
   "execution_count": 8,
   "metadata": {},
   "outputs": [
    {
     "name": "stdout",
     "output_type": "stream",
     "text": [
      "44\n",
      "S -> NP-SBJ VP . [1.0]\n",
      "NP-SBJ -> NP , ADJP , [0.5]\n",
      "NP -> NNP NNP [0.25]\n",
      "NNP -> 'Pierre' [0.125]\n",
      "NNP -> 'Vinken' [0.25]\n",
      ", -> ',' [1.0]\n",
      "ADJP -> NP JJ [1.0]\n",
      "NP -> CD NNS [0.125]\n",
      "CD -> '61' [0.5]\n",
      "NNS -> 'years' [1.0]\n",
      "JJ -> 'old' [0.5]\n",
      "VP -> MD VP [0.333333]\n",
      "MD -> 'will' [1.0]\n",
      "VP -> VB NP PP-CLR NP-TMP [0.333333]\n",
      "VB -> 'join' [1.0]\n",
      "NP -> DT NN [0.125]\n",
      "DT -> 'the' [0.666667]\n",
      "NN -> 'board' [0.25]\n",
      "PP-CLR -> IN NP [1.0]\n",
      "IN -> 'as' [0.5]\n",
      "NP -> DT JJ NN [0.125]\n",
      "DT -> 'a' [0.333333]\n",
      "JJ -> 'nonexecutive' [0.5]\n",
      "NN -> 'director' [0.25]\n",
      "NP-TMP -> NNP CD [1.0]\n",
      "NNP -> 'Nov.' [0.125]\n",
      "CD -> '29' [0.5]\n",
      ". -> '.' [1.0]\n",
      "NP-SBJ -> NNP NNP [0.5]\n",
      "NNP -> 'Mr.' [0.125]\n",
      "VP -> VBZ NP-PRD [0.333333]\n",
      "VBZ -> 'is' [1.0]\n",
      "NP-PRD -> NP PP [1.0]\n",
      "NP -> NN [0.125]\n",
      "NN -> 'chairman' [0.25]\n",
      "PP -> IN NP [1.0]\n",
      "IN -> 'of' [0.5]\n",
      "NP -> NP , NP [0.125]\n",
      "NNP -> 'Elsevier' [0.125]\n",
      "NNP -> 'N.V.' [0.125]\n",
      "NP -> DT NNP VBG NN [0.125]\n",
      "NNP -> 'Dutch' [0.125]\n",
      "VBG -> 'publishing' [1.0]\n",
      "NN -> 'group' [0.25]\n"
     ]
    }
   ],
   "source": [
    "grammar = nltk.induce_pcfg(S, productions)\n",
    "\n",
    "print(len(grammar.productions()))\n",
    "for production in grammar.productions():\n",
    "    print(production)"
   ]
  },
  {
   "cell_type": "markdown",
   "metadata": {},
   "source": [
    "#### Beispiel-Parse mit induzierter Grammatik:"
   ]
  },
  {
   "cell_type": "code",
   "execution_count": 9,
   "metadata": {},
   "outputs": [
    {
     "name": "stdout",
     "output_type": "stream",
     "text": [
      "(S\n",
      "  (NP-SBJ (NNP Mr.) (NNP Pierre))\n",
      "  (VP\n",
      "    (VBZ is)\n",
      "    (NP-PRD\n",
      "      (NP (DT the) (NN director))\n",
      "      (PP (IN of) (NP (NNP Elsevier) (NNP N.V.)))))\n",
      "  (. .)) (p=1.05964e-07)\n",
      "                                 S                                 \n",
      "      ┌──────────────────────────┼───────────────────────────────┐  \n",
      "      │                          VP                              │ \n",
      "      │            ┌─────────────┴───────┐                       │  \n",
      "      │            │                   NP-PRD                    │ \n",
      "      │            │       ┌─────────────┴───────┐               │  \n",
      "      │            │       │                     PP              │ \n",
      "      │            │       │             ┌───────┴──────┐        │  \n",
      "    NP-SBJ         │       NP            │              NP       │ \n",
      " ┌────┴──────┐     │   ┌───┴─────┐       │       ┌──────┴───┐    │  \n",
      "NNP         NNP   VBZ  DT        NN      IN     NNP        NNP   . \n",
      " │           │     │   │         │       │       │          │    │  \n",
      "Mr.        Pierre  is the     director   of   Elsevier     N.V.  . \n",
      "\n"
     ]
    }
   ],
   "source": [
    "parser = nltk.ViterbiParser(grammar)\n",
    "sent = \"Mr. Pierre is the director of Elsevier N.V. .\".split()\n",
    "for tree in parser.parse(sent):\n",
    "    print(tree)\n",
    "    tree.pretty_print(unicodelines=True)"
   ]
  },
  {
   "cell_type": "markdown",
   "metadata": {},
   "source": [
    "### b) Induktion von PCFG-Regeln aus der Penn-Treebank"
   ]
  },
  {
   "cell_type": "markdown",
   "metadata": {},
   "source": [
    "#### Im Folgenden wollen wir  - analog zur `induce_pcfg`-Methode des NLTK - vollautomatisch eine aus den Syntaxbäumen der Penn Treebank induzierte Grammatik erzeugen.\n",
    "\n",
    "#### Füllen Sie die Lücken im untenstehenden Code und versuchen Sie, mit Hilfe der automatisch erstellten PCFG die folgenden Sätze zu parsen:"
   ]
  },
  {
   "cell_type": "code",
   "execution_count": 10,
   "metadata": {},
   "outputs": [],
   "source": [
    "test_sentences = [\n",
    "    \"the men saw a car .\",\n",
    "    \"the woman gave the man a book .\",\n",
    "    \"she gave a book to the man .\",\n",
    "    \"yesterday , all my trouble seemed so far away .\"\n",
    "]"
   ]
  },
  {
   "cell_type": "code",
   "execution_count": 11,
   "metadata": {},
   "outputs": [],
   "source": [
    "from collections import defaultdict\n",
    "\n",
    "# Production count: the number of times a given production occurs\n",
    "pcount = defaultdict(int)\n",
    "\n",
    "# LHS-count: counts the number of times a given lhs occurs\n",
    "lcount = defaultdict(int)\n",
    "\n",
    "for tree in []:\n",
    "    # TODO\n",
    "    pass\n",
    "        \n",
    "productions = [\n",
    "    ProbabilisticProduction(\n",
    "        p.lhs(), p.rhs(),\n",
    "        prob=None # TODO\n",
    "    )\n",
    "    for p in pcount\n",
    "]\n",
    "\n",
    "start = nltk.Nonterminal('S')\n",
    "grammar = PCFG(start, productions)\n",
    "parser = nltk.ViterbiParser(grammar)"
   ]
  },
  {
   "cell_type": "code",
   "execution_count": null,
   "metadata": {},
   "outputs": [],
   "source": [
    "for s in test_sentences:\n",
    "    for t in parser.parse(nltk.word_tokenize(s)):\n",
    "        print(t.prob())\n",
    "        t.pretty_print(unicodelines=True)"
   ]
  },
  {
   "cell_type": "markdown",
   "metadata": {},
   "source": [
    "## Aufgabe 4 - Disambiguierung mit PCFG"
   ]
  },
  {
   "cell_type": "markdown",
   "metadata": {},
   "source": [
    "### a) Gegeben sei folgende Mini-Treebank mit PP-Attachment-Sätzen:"
   ]
  },
  {
   "cell_type": "code",
   "execution_count": 12,
   "metadata": {},
   "outputs": [
    {
     "name": "stdout",
     "output_type": "stream",
     "text": [
      "       S                                    \n",
      " ┌─────┴────────────┐                        \n",
      " │                  VP                      \n",
      " │     ┌────────────┴────┐                   \n",
      " │     │                 NP                 \n",
      " │     │        ┌────────┴───┐               \n",
      " │     │        │            PP             \n",
      " │     │        │        ┌───┴───┐           \n",
      " NP    │        NP       │       NP         \n",
      " │     │    ┌───┴───┐    │   ┌───┴─────┐     \n",
      "PRON   V   DET      N    P  DET        N    \n",
      " │     │    │       │    │   │         │     \n",
      "sie  kennt den     Mann mit dem     Fernglas\n",
      "\n",
      "         S                                       \n",
      " ┌───────┴───────────────┐                        \n",
      " │                       VP                      \n",
      " │               ┌───────┴────────┐               \n",
      " │               VP               PP             \n",
      " │       ┌───────┴───┐        ┌───┴───┐           \n",
      " NP      │           NP       │       NP         \n",
      " │       │       ┌───┴───┐    │   ┌───┴─────┐     \n",
      "PRON     V      DET      N    P  DET        N    \n",
      " │       │       │       │    │   │         │     \n",
      "sie  beobachtet den     Mann mit dem     Fernglas\n",
      "\n",
      "       S                                   \n",
      " ┌─────┴──────────────┐                     \n",
      " │                    VP                   \n",
      " │           ┌────────┴─────────┐           \n",
      " │           VP                 PP         \n",
      " │     ┌─────┴───┐          ┌───┴───┐       \n",
      " NP    │         NP         │       NP     \n",
      " │     │     ┌───┴────┐     │   ┌───┴───┐   \n",
      "PRON   V    DET       N     P  DET      N  \n",
      " │     │     │        │     │   │       │   \n",
      "sie  stellt die     Blumen  in die     Vase\n",
      "\n"
     ]
    }
   ],
   "source": [
    "treestrings = [\n",
    "\"\"\"(S\n",
    "   (NP (PRON sie))\n",
    "   (VP\n",
    "    (V kennt) \n",
    "    (NP\n",
    "      (NP (DET den) (N Mann))\n",
    "      (PP (P mit) (NP (DET dem) (N Fernglas))))))\"\"\",\n",
    "\n",
    "\"\"\"(S\n",
    "   (NP (PRON sie))\n",
    "   (VP\n",
    "    (VP (V beobachtet) (NP (DET den) (N Mann)))\n",
    "    (PP (P mit) (NP (DET dem) (N Fernglas)))))\"\"\",\n",
    "\n",
    "\n",
    "\"\"\"(S\n",
    "   (NP (PRON sie))\n",
    "   (VP\n",
    "    (VP (V stellt) (NP (DET die) (N Blumen)))\n",
    "    (PP (P in) (NP (DET die) (N Vase)))))\"\"\",\n",
    "\n",
    "]\n",
    "\n",
    "trees = [Tree.fromstring(treestring).pretty_print(unicodelines=True) for treestring in treestrings]"
   ]
  },
  {
   "cell_type": "markdown",
   "metadata": {},
   "source": [
    "#### Passen Sie diese Mini-Treebank durch Duplizieren einer minimalen Anzahl an Sätzen so an, dass die daraus induzierte Grammatik für den ersten Satz eine korrekte Analyse liefert (so dass die Grammatik also das PP-Attachment an die NP bevorzugt)."
   ]
  },
  {
   "cell_type": "code",
   "execution_count": 13,
   "metadata": {},
   "outputs": [
    {
     "name": "stdout",
     "output_type": "stream",
     "text": [
      "S -> NP VP [1.0]\n",
      "NP -> PRON [0.3]\n",
      "PRON -> 'sie' [1.0]\n",
      "VP -> V NP [0.6]\n",
      "V -> 'kennt' [0.333333]\n",
      "NP -> NP PP [0.1]\n",
      "NP -> DET N [0.6]\n",
      "DET -> 'den' [0.333333]\n",
      "N -> 'Mann' [0.333333]\n",
      "PP -> P NP [1.0]\n",
      "P -> 'mit' [0.666667]\n",
      "DET -> 'dem' [0.333333]\n",
      "N -> 'Fernglas' [0.333333]\n",
      "VP -> VP PP [0.4]\n",
      "V -> 'beobachtet' [0.333333]\n",
      "V -> 'stellt' [0.333333]\n",
      "DET -> 'die' [0.333333]\n",
      "N -> 'Blumen' [0.166667]\n",
      "P -> 'in' [0.333333]\n",
      "N -> 'Vase' [0.166667]\n",
      "(S\n",
      "  (NP (PRON sie))\n",
      "  (VP\n",
      "    (VP (V kennt) (NP (DET den) (N Mann)))\n",
      "    (PP (P mit) (NP (DET dem) (N Fernglas))))) (p=7.11111e-05)\n",
      "       S                                    \n",
      " ┌─────┴────────────┐                        \n",
      " │                  VP                      \n",
      " │          ┌───────┴────────┐               \n",
      " │          VP               PP             \n",
      " │     ┌────┴───┐        ┌───┴───┐           \n",
      " NP    │        NP       │       NP         \n",
      " │     │    ┌───┴───┐    │   ┌───┴─────┐     \n",
      "PRON   V   DET      N    P  DET        N    \n",
      " │     │    │       │    │   │         │     \n",
      "sie  kennt den     Mann mit dem     Fernglas\n",
      "\n",
      "(S\n",
      "  (NP (PRON sie))\n",
      "  (VP\n",
      "    (V kennt)\n",
      "    (NP\n",
      "      (NP (DET den) (N Mann))\n",
      "      (PP (P mit) (NP (DET dem) (N Fernglas)))))) (p=1.77778e-05)\n",
      "       S                                    \n",
      " ┌─────┴────────────┐                        \n",
      " │                  VP                      \n",
      " │     ┌────────────┴────┐                   \n",
      " │     │                 NP                 \n",
      " │     │        ┌────────┴───┐               \n",
      " │     │        │            PP             \n",
      " │     │        │        ┌───┴───┐           \n",
      " NP    │        NP       │       NP         \n",
      " │     │    ┌───┴───┐    │   ┌───┴─────┐     \n",
      "PRON   V   DET      N    P  DET        N    \n",
      " │     │    │       │    │   │         │     \n",
      "sie  kennt den     Mann mit dem     Fernglas\n",
      "\n"
     ]
    }
   ],
   "source": [
    "treestrings = [\n",
    "\"\"\"(S\n",
    "   (NP (PRON sie))\n",
    "   (VP\n",
    "    (V kennt) \n",
    "    (NP\n",
    "      (NP (DET den) (N Mann))\n",
    "      (PP (P mit) (NP (DET dem) (N Fernglas))))))\"\"\",\n",
    "\n",
    "\"\"\"(S\n",
    "   (NP (PRON sie))\n",
    "   (VP\n",
    "    (VP (V beobachtet) (NP (DET den) (N Mann)))\n",
    "    (PP (P mit) (NP (DET dem) (N Fernglas)))))\"\"\",\n",
    "\n",
    "\n",
    "\"\"\"(S\n",
    "   (NP (PRON sie))\n",
    "   (VP\n",
    "    (VP (V stellt) (NP (DET die) (N Blumen)))\n",
    "    (PP (P in) (NP (DET die) (N Vase)))))\"\"\",\n",
    "\n",
    "]\n",
    "\n",
    "\n",
    "trees = [Tree.fromstring(treestring) for treestring in treestrings]\n",
    "\n",
    "#grammar induction:    \n",
    "productions = []\n",
    "S = nltk.Nonterminal('S')\n",
    "\n",
    "for tree in trees:\n",
    "    productions += tree.productions()\n",
    "\n",
    "grammar = nltk.induce_pcfg(S, productions)\n",
    "for production in grammar.productions():\n",
    "    print(production)    \n",
    "\n",
    "#parse first tree with grammar:\n",
    "parser = nltk.InsideChartParser(grammar)\n",
    "for parse in parser.parse(trees[0].leaves()):\n",
    "    print(parse)\n",
    "    parse.pretty_print(unicodelines=True)"
   ]
  },
  {
   "cell_type": "markdown",
   "metadata": {},
   "source": [
    "#### Parsen Sie abschließend die Sätze mit der induzierten Grammatik:"
   ]
  },
  {
   "cell_type": "code",
   "execution_count": 14,
   "metadata": {},
   "outputs": [
    {
     "name": "stdout",
     "output_type": "stream",
     "text": [
      "       S                                    \n",
      " ┌─────┴────────────┐                        \n",
      " │                  VP                      \n",
      " │          ┌───────┴────────┐               \n",
      " │          VP               PP             \n",
      " │     ┌────┴───┐        ┌───┴───┐           \n",
      " NP    │        NP       │       NP         \n",
      " │     │    ┌───┴───┐    │   ┌───┴─────┐     \n",
      "PRON   V   DET      N    P  DET        N    \n",
      " │     │    │       │    │   │         │     \n",
      "sie  kennt den     Mann mit dem     Fernglas\n",
      "\n",
      "         S                                       \n",
      " ┌───────┴───────────────┐                        \n",
      " │                       VP                      \n",
      " │               ┌───────┴────────┐               \n",
      " │               VP               PP             \n",
      " │       ┌───────┴───┐        ┌───┴───┐           \n",
      " NP      │           NP       │       NP         \n",
      " │       │       ┌───┴───┐    │   ┌───┴─────┐     \n",
      "PRON     V      DET      N    P  DET        N    \n",
      " │       │       │       │    │   │         │     \n",
      "sie  beobachtet den     Mann mit dem     Fernglas\n",
      "\n",
      "       S                                   \n",
      " ┌─────┴──────────────┐                     \n",
      " │                    VP                   \n",
      " │           ┌────────┴─────────┐           \n",
      " │           VP                 PP         \n",
      " │     ┌─────┴───┐          ┌───┴───┐       \n",
      " NP    │         NP         │       NP     \n",
      " │     │     ┌───┴────┐     │   ┌───┴───┐   \n",
      "PRON   V    DET       N     P  DET      N  \n",
      " │     │     │        │     │   │       │   \n",
      "sie  stellt die     Blumen  in die     Vase\n",
      "\n"
     ]
    }
   ],
   "source": [
    "#parse trees with grammar:\n",
    "parser = nltk.ViterbiParser(grammar)\n",
    "for tree in trees:\n",
    "    for parse in parser.parse(tree.leaves()):\n",
    "        #print(parse)\n",
    "        parse.pretty_print(unicodelines=True)"
   ]
  },
  {
   "cell_type": "markdown",
   "metadata": {},
   "source": [
    "### b) Verbesserung durch Lexikalisierung\n",
    "\n",
    "#### Führen Sie in der ursprünglichen Mini-Treebank eine teilweise Lexikalisierung durch Kopfannotation durch, so dass je nach Verb die entsprechende Konstruktion bevorzugt wird."
   ]
  },
  {
   "cell_type": "code",
   "execution_count": 15,
   "metadata": {},
   "outputs": [
    {
     "name": "stdout",
     "output_type": "stream",
     "text": [
      "S -> NP VP [1.0]\n",
      "NP -> PRON [0.3]\n",
      "PRON -> 'sie' [1.0]\n",
      "VP -> V NP [0.6]\n",
      "V -> 'kennt' [0.333333]\n",
      "NP -> NP PP [0.1]\n",
      "NP -> DET N [0.6]\n",
      "DET -> 'den' [0.333333]\n",
      "N -> 'Mann' [0.333333]\n",
      "PP -> P NP [1.0]\n",
      "P -> 'mit' [0.666667]\n",
      "DET -> 'dem' [0.333333]\n",
      "N -> 'Fernglas' [0.333333]\n",
      "VP -> VP PP [0.4]\n",
      "V -> 'beobachtet' [0.333333]\n",
      "V -> 'stellt' [0.333333]\n",
      "DET -> 'die' [0.333333]\n",
      "N -> 'Blumen' [0.166667]\n",
      "P -> 'in' [0.333333]\n",
      "N -> 'Vase' [0.166667]\n",
      "(S\n",
      "  (NP (PRON sie))\n",
      "  (VP\n",
      "    (VP (V kennt) (NP (DET den) (N Mann)))\n",
      "    (PP (P mit) (NP (DET dem) (N Fernglas))))) (p=7.11111e-05)\n",
      "       S                                    \n",
      " ┌─────┴────────────┐                        \n",
      " │                  VP                      \n",
      " │          ┌───────┴────────┐               \n",
      " │          VP               PP             \n",
      " │     ┌────┴───┐        ┌───┴───┐           \n",
      " NP    │        NP       │       NP         \n",
      " │     │    ┌───┴───┐    │   ┌───┴─────┐     \n",
      "PRON   V   DET      N    P  DET        N    \n",
      " │     │    │       │    │   │         │     \n",
      "sie  kennt den     Mann mit dem     Fernglas\n",
      "\n",
      "(S\n",
      "  (NP (PRON sie))\n",
      "  (VP\n",
      "    (VP (V beobachtet) (NP (DET den) (N Mann)))\n",
      "    (PP (P mit) (NP (DET dem) (N Fernglas))))) (p=7.11111e-05)\n",
      "         S                                       \n",
      " ┌───────┴───────────────┐                        \n",
      " │                       VP                      \n",
      " │               ┌───────┴────────┐               \n",
      " │               VP               PP             \n",
      " │       ┌───────┴───┐        ┌───┴───┐           \n",
      " NP      │           NP       │       NP         \n",
      " │       │       ┌───┴───┐    │   ┌───┴─────┐     \n",
      "PRON     V      DET      N    P  DET        N    \n",
      " │       │       │       │    │   │         │     \n",
      "sie  beobachtet den     Mann mit dem     Fernglas\n",
      "\n",
      "(S\n",
      "  (NP (PRON sie))\n",
      "  (VP\n",
      "    (VP (V stellt) (NP (DET die) (N Blumen)))\n",
      "    (PP (P in) (NP (DET die) (N Vase))))) (p=8.88889e-06)\n",
      "       S                                   \n",
      " ┌─────┴──────────────┐                     \n",
      " │                    VP                   \n",
      " │           ┌────────┴─────────┐           \n",
      " │           VP                 PP         \n",
      " │     ┌─────┴───┐          ┌───┴───┐       \n",
      " NP    │         NP         │       NP     \n",
      " │     │     ┌───┴────┐     │   ┌───┴───┐   \n",
      "PRON   V    DET       N     P  DET      N  \n",
      " │     │     │        │     │   │       │   \n",
      "sie  stellt die     Blumen  in die     Vase\n",
      "\n"
     ]
    }
   ],
   "source": [
    "treestrings = [\n",
    "\"\"\"(S\n",
    "   (NP (PRON sie))\n",
    "   (VP\n",
    "    (V kennt) \n",
    "    (NP\n",
    "      (NP (DET den) (N Mann))\n",
    "      (PP (P mit) (NP (DET dem) (N Fernglas))))))\"\"\",\n",
    "\n",
    "\"\"\"(S\n",
    "   (NP (PRON sie))\n",
    "   (VP\n",
    "    (VP (V beobachtet) (NP (DET den) (N Mann)))\n",
    "    (PP (P mit) (NP (DET dem) (N Fernglas)))))\"\"\",\n",
    "\n",
    "\"\"\"(S\n",
    "   (NP (PRON sie))\n",
    "   (VP\n",
    "    (VP (V stellt) (NP (DET die) (N Blumen)))\n",
    "    (PP (P in) (NP (DET die) (N Vase)))))\"\"\",\n",
    "\n",
    "]\n",
    "\n",
    "\n",
    "trees = [Tree.fromstring(treestring) for treestring in treestrings]\n",
    "\n",
    "#grammar induction:    \n",
    "productions = []\n",
    "S = nltk.Nonterminal('S')\n",
    "\n",
    "for tree in trees:\n",
    "    productions += tree.productions()\n",
    "\n",
    "grammar = nltk.induce_pcfg(S, productions)\n",
    "for production in grammar.productions():\n",
    "    print(production)    \n",
    "\n",
    "#parse trees with grammar:\n",
    "parser = nltk.ViterbiParser(grammar)\n",
    "for tree in trees:\n",
    "    for parse in parser.parse(tree.leaves()):\n",
    "        print(parse)\n",
    "        parse.pretty_print(unicodelines=True)"
   ]
  },
  {
   "cell_type": "markdown",
   "metadata": {},
   "source": [
    "### c) Verbesserung durch Parent-Annotation\n",
    "\n",
    "#### Folgend Mini-Treebank enthält Sätze mit unterschiedlicher Anzahl pronominaler bzw. nominaler NPs unter S-Knoten.\n",
    "\n",
    "#### Warum sind in der induzierten Grammatik die Ableitungswahrscheinlichkeiten gleich, obwohl eine Konstruktion überwiegt?\n",
    "\n",
    "#### Führen Sie eine teilweise Parent Annotation durch um ein adäquateres Modell zu bekommen (d.h. die Wahrscheinlichkeit für die letzte Ableitung mit nominaler NP unter S-Knoten soll kleiner als die für die anderen werden)."
   ]
  },
  {
   "cell_type": "code",
   "execution_count": null,
   "metadata": {},
   "outputs": [],
   "source": [
    "# Antwort:\n",
    "#"
   ]
  },
  {
   "cell_type": "code",
   "execution_count": 16,
   "metadata": {},
   "outputs": [
    {
     "name": "stdout",
     "output_type": "stream",
     "text": [
      "S -> NP VP [1.0]\n",
      "NP -> PRON [0.5]\n",
      "PRON -> 'sie' [1.0]\n",
      "VP -> V NP [1.0]\n",
      "V -> 'sieht' [1.0]\n",
      "NP -> DET N [0.5]\n",
      "DET -> 'die' [1.0]\n",
      "N -> 'Frau' [1.0]\n",
      "(S (NP (PRON sie)) (VP (V sieht) (NP (DET die) (N Frau)))) (p=0.25)\n",
      "            S              \n",
      " ┌──────────┴───┐           \n",
      " │              VP         \n",
      " │     ┌────────┴───┐       \n",
      " NP    │            NP     \n",
      " │     │        ┌───┴───┐   \n",
      "PRON   V       DET      N  \n",
      " │     │        │       │   \n",
      "sie  sieht     die     Frau\n",
      "\n",
      "(S (NP (PRON sie)) (VP (V sieht) (NP (DET die) (N Frau)))) (p=0.25)\n",
      "            S              \n",
      " ┌──────────┴───┐           \n",
      " │              VP         \n",
      " │     ┌────────┴───┐       \n",
      " NP    │            NP     \n",
      " │     │        ┌───┴───┐   \n",
      "PRON   V       DET      N  \n",
      " │     │        │       │   \n",
      "sie  sieht     die     Frau\n",
      "\n",
      "(S (NP (DET die) (N Frau)) (VP (V sieht) (NP (PRON sie)))) (p=0.25)\n",
      "              S                \n",
      "     ┌────────┴─────────┐       \n",
      "     │                  VP     \n",
      "     │             ┌────┴───┐   \n",
      "     NP            │        NP \n",
      " ┌───┴───┐         │        │   \n",
      "DET      N         V       PRON\n",
      " │       │         │        │   \n",
      "die     Frau     sieht     sie \n",
      "\n"
     ]
    }
   ],
   "source": [
    "treestrings = [\n",
    "\"\"\"(S\n",
    "   (NP (PRON sie))\n",
    "   (VP\n",
    "    (V sieht) \n",
    "    (NP (DET die) (N Frau))\n",
    "    ))\n",
    "\"\"\",\n",
    "\n",
    "\"\"\"(S\n",
    "   (NP (PRON sie))\n",
    "   (VP\n",
    "    (V sieht) \n",
    "    (NP (DET die) (N Frau))\n",
    "    ))\n",
    "\"\"\",\n",
    "\n",
    "\n",
    "\"\"\"(S\n",
    "    (NP (DET die) (N Frau))\n",
    "   (VP\n",
    "    (V sieht) \n",
    "   (NP (PRON sie))\n",
    "    ))\n",
    "\"\"\",\n",
    "\n",
    "]\n",
    "\n",
    "\n",
    "trees = [Tree.fromstring(treestring) for treestring in treestrings]\n",
    "\n",
    "#grammar induction:    \n",
    "productions = []\n",
    "S = nltk.Nonterminal('S')\n",
    "\n",
    "for tree in trees:\n",
    "    productions += tree.productions()\n",
    "\n",
    "grammar = nltk.induce_pcfg(S, productions)\n",
    "for production in grammar.productions():\n",
    "    print(production)    \n",
    "\n",
    "#parse trees with grammar:\n",
    "parser = nltk.ViterbiParser(grammar)\n",
    "for tree in trees:\n",
    "    for parse in parser.parse(tree.leaves()):\n",
    "        print(parse)\n",
    "        parse.pretty_print(unicodelines=True)"
   ]
  }
 ],
 "metadata": {
  "kernelspec": {
   "display_name": "Python 3 (ipykernel)",
   "language": "python",
   "name": "python3"
  },
  "language_info": {
   "codemirror_mode": {
    "name": "ipython",
    "version": 3
   },
   "file_extension": ".py",
   "mimetype": "text/x-python",
   "name": "python",
   "nbconvert_exporter": "python",
   "pygments_lexer": "ipython3",
   "version": "3.9.12"
  }
 },
 "nbformat": 4,
 "nbformat_minor": 2
}
