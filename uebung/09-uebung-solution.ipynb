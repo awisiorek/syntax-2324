{
 "cells": [
  {
   "cell_type": "markdown",
   "metadata": {},
   "source": [
    "Syntax natürlicher Sprachen, WS 2023/24\n",
    "\n",
    "# 09 - Übung (Lösung)"
   ]
  },
  {
   "cell_type": "code",
   "execution_count": 1,
   "metadata": {},
   "outputs": [],
   "source": [
    "import nltk\n",
    "from nltk import Tree\n",
    "from nltk import parse\n",
    "from nltk.grammar import FeatureGrammar"
   ]
  },
  {
   "cell_type": "code",
   "execution_count": 2,
   "metadata": {},
   "outputs": [],
   "source": [
    "def show_FeatTree(tree, style=0, draw=1):\n",
    "    if draw:\n",
    "        tree = Tree.fromstring(str(tree).replace(\", \",\",\"))\n",
    "        if style: \n",
    "            display(tree)\n",
    "        else: \n",
    "            tree.pretty_print(unicodelines=True)\n",
    "    else: print(\"FOUND PARSE:\\n\", str(tree).replace(\"\\n\",\" \"))"
   ]
  },
  {
   "cell_type": "markdown",
   "metadata": {},
   "source": [
    "## Aufgabe 1 - FCFG-Erweiterung (Kasus, Agreement, Subkategorisierung)"
   ]
  },
  {
   "cell_type": "markdown",
   "metadata": {},
   "source": [
    "### a) Übergenerierende CFG\n",
    "\n",
    "#### Betrachten Sie die Parsingergebnisse untenstehender Sätze mit der folgenden einfachen CFG-Grammatik und geben Sie an, welches grammatikalische Constraint jeweils verletzt ist (Kasus, Agreement, Subkategorisierung)."
   ]
  },
  {
   "cell_type": "code",
   "execution_count": 3,
   "metadata": {},
   "outputs": [],
   "source": [
    "grammar = nltk.CFG.fromstring(\"\"\"\n",
    "S -> NP VP\n",
    "NP -> DET N\n",
    "VP -> V\n",
    "VP -> V NP\n",
    "\n",
    "DET -> 'der' | 'dem' | 'den' | 'die'\n",
    "N -> 'Hund' | 'Hunde' |'Hunden' |'Katze' |'Katzen'\n",
    "V -> 'sieht' | 'sehen' | 'hilft' | 'helfen' | 'läuft' | 'laufen'\n",
    "\"\"\")"
   ]
  },
  {
   "cell_type": "code",
   "execution_count": 4,
   "metadata": {},
   "outputs": [],
   "source": [
    "pos_sent = \"der Hund sieht die Katze\""
   ]
  },
  {
   "cell_type": "code",
   "execution_count": 5,
   "metadata": {},
   "outputs": [
    {
     "name": "stdout",
     "output_type": "stream",
     "text": [
      "               S                \n",
      "     ┌─────────┴────┐            \n",
      "     │              VP          \n",
      "     │         ┌────┴───┐        \n",
      "     NP        │        NP      \n",
      " ┌───┴───┐     │    ┌───┴────┐   \n",
      "DET      N     V   DET       N  \n",
      " │       │     │    │        │   \n",
      "der     Hund sieht die     Katze\n",
      "\n"
     ]
    }
   ],
   "source": [
    "parser = nltk.ChartParser(grammar)\n",
    "trees = list(parser.parse(pos_sent.split()))\n",
    "if trees: [tree.pretty_print(unicodelines=True) for tree in trees]\n",
    "else: print(f\"no parse found for: {sent}\")"
   ]
  },
  {
   "cell_type": "code",
   "execution_count": 6,
   "metadata": {},
   "outputs": [],
   "source": [
    "neg_sents = [\n",
    "    \"der Hund sieht\", #Subkategorisierung\n",
    "    \"dem Hund sieht der Katze\", #Kasus (Subjekt- und Objektkasus)\n",
    "    \"der Hund sehen die Katze\", #verbales Agreement (Subjekt-Verb-Kongruenz)\n",
    "]"
   ]
  },
  {
   "cell_type": "code",
   "execution_count": 7,
   "metadata": {},
   "outputs": [
    {
     "name": "stdout",
     "output_type": "stream",
     "text": [
      "         S        \n",
      "     ┌───┴─────┐   \n",
      "     NP        VP \n",
      " ┌───┴───┐     │   \n",
      "DET      N     V  \n",
      " │       │     │   \n",
      "der     Hund sieht\n",
      "\n",
      "               S                \n",
      "     ┌─────────┴────┐            \n",
      "     │              VP          \n",
      "     │         ┌────┴───┐        \n",
      "     NP        │        NP      \n",
      " ┌───┴───┐     │    ┌───┴────┐   \n",
      "DET      N     V   DET       N  \n",
      " │       │     │    │        │   \n",
      "dem     Hund sieht der     Katze\n",
      "\n",
      "               S                \n",
      "     ┌─────────┴────┐            \n",
      "     │              VP          \n",
      "     │         ┌────┴───┐        \n",
      "     NP        │        NP      \n",
      " ┌───┴───┐     │    ┌───┴────┐   \n",
      "DET      N     V   DET       N  \n",
      " │       │     │    │        │   \n",
      "der     Hund sehen die     Katze\n",
      "\n"
     ]
    }
   ],
   "source": [
    "parser = nltk.ChartParser(grammar)\n",
    "for sent in neg_sents:\n",
    "    trees = list(parser.parse(sent.split()))\n",
    "    if trees: [tree.pretty_print(unicodelines=True) for tree in trees]\n",
    "    else: print(f\"no parse found for: {sent}\")"
   ]
  },
  {
   "cell_type": "markdown",
   "metadata": {},
   "source": [
    "### b) Fügen Sie schrittweise Constraints hinzu um diese drei Überproduktionen zu verhindern.\n"
   ]
  },
  {
   "cell_type": "code",
   "execution_count": 8,
   "metadata": {},
   "outputs": [],
   "source": [
    "#Lösung Teil 1: Subkategorisierung\n",
    "grammar = FeatureGrammar.fromstring(r\"\"\"\n",
    "% start S\n",
    "\n",
    "S -> NP VP\n",
    "NP -> DET N\n",
    "VP -> V[SUBCAT=0]\n",
    "VP -> V[SUBCAT=1] NP\n",
    "\n",
    "DET -> 'der' | 'dem' | 'den' | 'die'\n",
    "N -> 'Hund' | 'Hunde' |'Hunden' |'Katze' |'Katzen'\n",
    "\n",
    "V[SUBCAT=1] -> 'sieht'\n",
    "V[SUBCAT=1] -> 'sehen'\n",
    "V[SUBCAT=1] -> 'hilft'\n",
    "V[SUBCAT=1] -> 'helfen'\n",
    "V[SUBCAT=0] -> 'läuft'\n",
    "V[SUBCAT=0] -> 'laufen' \n",
    "\"\"\")"
   ]
  },
  {
   "cell_type": "code",
   "execution_count": 9,
   "metadata": {},
   "outputs": [
    {
     "name": "stdout",
     "output_type": "stream",
     "text": [
      "no parse found for: der Hund sieht\n"
     ]
    },
    {
     "data": {
      "image/svg+xml": [
       "<svg baseProfile=\"full\" height=\"216px\" preserveAspectRatio=\"xMidYMid meet\" style=\"font-family: times, serif; font-weight:normal; font-style: normal; font-size: 16px;\" version=\"1.1\" viewBox=\"0,0,320.0,216.0\" width=\"320px\" xmlns=\"http://www.w3.org/2000/svg\" xmlns:ev=\"http://www.w3.org/2001/xml-events\" xmlns:xlink=\"http://www.w3.org/1999/xlink\"><defs /><svg width=\"100%\" x=\"0\" y=\"0em\"><defs /><text text-anchor=\"middle\" x=\"50%\" y=\"1em\">S[]</text></svg><svg width=\"32.5%\" x=\"0%\" y=\"3em\"><defs /><svg width=\"100%\" x=\"0\" y=\"0em\"><defs /><text text-anchor=\"middle\" x=\"50%\" y=\"1em\">NP[]</text></svg><svg width=\"53.8462%\" x=\"0%\" y=\"3em\"><defs /><svg width=\"100%\" x=\"0\" y=\"0em\"><defs /><text text-anchor=\"middle\" x=\"50%\" y=\"1em\">DET[]</text></svg><svg width=\"100%\" x=\"0%\" y=\"3em\"><defs /><svg width=\"100%\" x=\"0\" y=\"0em\"><defs /><text text-anchor=\"middle\" x=\"50%\" y=\"1em\">dem</text></svg></svg><line stroke=\"black\" x1=\"50%\" x2=\"50%\" y1=\"1.2em\" y2=\"3em\" /></svg><line stroke=\"black\" x1=\"50%\" x2=\"26.9231%\" y1=\"1.2em\" y2=\"3em\" /><svg width=\"46.1538%\" x=\"53.8462%\" y=\"3em\"><defs /><svg width=\"100%\" x=\"0\" y=\"0em\"><defs /><text text-anchor=\"middle\" x=\"50%\" y=\"1em\">N[]</text></svg><svg width=\"100%\" x=\"0%\" y=\"3em\"><defs /><svg width=\"100%\" x=\"0\" y=\"0em\"><defs /><text text-anchor=\"middle\" x=\"50%\" y=\"1em\">Hund</text></svg></svg><line stroke=\"black\" x1=\"50%\" x2=\"50%\" y1=\"1.2em\" y2=\"3em\" /></svg><line stroke=\"black\" x1=\"50%\" x2=\"76.9231%\" y1=\"1.2em\" y2=\"3em\" /></svg><line stroke=\"black\" x1=\"50%\" x2=\"16.25%\" y1=\"1.2em\" y2=\"3em\" /><svg width=\"67.5%\" x=\"32.5%\" y=\"3em\"><defs /><svg width=\"100%\" x=\"0\" y=\"0em\"><defs /><text text-anchor=\"middle\" x=\"50%\" y=\"1em\">VP[]</text></svg><svg width=\"48.1481%\" x=\"0%\" y=\"3em\"><defs /><svg width=\"100%\" x=\"0\" y=\"0em\"><defs /><text text-anchor=\"middle\" x=\"50%\" y=\"1em\">V[SUBCAT=1]</text></svg><svg width=\"100%\" x=\"0%\" y=\"3em\"><defs /><svg width=\"100%\" x=\"0\" y=\"0em\"><defs /><text text-anchor=\"middle\" x=\"50%\" y=\"1em\">sieht</text></svg></svg><line stroke=\"black\" x1=\"50%\" x2=\"50%\" y1=\"1.2em\" y2=\"3em\" /></svg><line stroke=\"black\" x1=\"50%\" x2=\"24.0741%\" y1=\"1.2em\" y2=\"3em\" /><svg width=\"51.8519%\" x=\"48.1481%\" y=\"3em\"><defs /><svg width=\"100%\" x=\"0\" y=\"0em\"><defs /><text text-anchor=\"middle\" x=\"50%\" y=\"1em\">NP[]</text></svg><svg width=\"50%\" x=\"0%\" y=\"3em\"><defs /><svg width=\"100%\" x=\"0\" y=\"0em\"><defs /><text text-anchor=\"middle\" x=\"50%\" y=\"1em\">DET[]</text></svg><svg width=\"100%\" x=\"0%\" y=\"3em\"><defs /><svg width=\"100%\" x=\"0\" y=\"0em\"><defs /><text text-anchor=\"middle\" x=\"50%\" y=\"1em\">der</text></svg></svg><line stroke=\"black\" x1=\"50%\" x2=\"50%\" y1=\"1.2em\" y2=\"3em\" /></svg><line stroke=\"black\" x1=\"50%\" x2=\"25%\" y1=\"1.2em\" y2=\"3em\" /><svg width=\"50%\" x=\"50%\" y=\"3em\"><defs /><svg width=\"100%\" x=\"0\" y=\"0em\"><defs /><text text-anchor=\"middle\" x=\"50%\" y=\"1em\">N[]</text></svg><svg width=\"100%\" x=\"0%\" y=\"3em\"><defs /><svg width=\"100%\" x=\"0\" y=\"0em\"><defs /><text text-anchor=\"middle\" x=\"50%\" y=\"1em\">Katze</text></svg></svg><line stroke=\"black\" x1=\"50%\" x2=\"50%\" y1=\"1.2em\" y2=\"3em\" /></svg><line stroke=\"black\" x1=\"50%\" x2=\"75%\" y1=\"1.2em\" y2=\"3em\" /></svg><line stroke=\"black\" x1=\"50%\" x2=\"74.0741%\" y1=\"1.2em\" y2=\"3em\" /></svg><line stroke=\"black\" x1=\"50%\" x2=\"66.25%\" y1=\"1.2em\" y2=\"3em\" /></svg>"
      ],
      "text/plain": [
       "Tree('S[]', [Tree('NP[]', [Tree('DET[]', ['dem']), Tree('N[]', ['Hund'])]), Tree('VP[]', [Tree('V[SUBCAT=1]', ['sieht']), Tree('NP[]', [Tree('DET[]', ['der']), Tree('N[]', ['Katze'])])])])"
      ]
     },
     "metadata": {},
     "output_type": "display_data"
    },
    {
     "data": {
      "image/svg+xml": [
       "<svg baseProfile=\"full\" height=\"216px\" preserveAspectRatio=\"xMidYMid meet\" style=\"font-family: times, serif; font-weight:normal; font-style: normal; font-size: 16px;\" version=\"1.1\" viewBox=\"0,0,320.0,216.0\" width=\"320px\" xmlns=\"http://www.w3.org/2000/svg\" xmlns:ev=\"http://www.w3.org/2001/xml-events\" xmlns:xlink=\"http://www.w3.org/1999/xlink\"><defs /><svg width=\"100%\" x=\"0\" y=\"0em\"><defs /><text text-anchor=\"middle\" x=\"50%\" y=\"1em\">S[]</text></svg><svg width=\"32.5%\" x=\"0%\" y=\"3em\"><defs /><svg width=\"100%\" x=\"0\" y=\"0em\"><defs /><text text-anchor=\"middle\" x=\"50%\" y=\"1em\">NP[]</text></svg><svg width=\"53.8462%\" x=\"0%\" y=\"3em\"><defs /><svg width=\"100%\" x=\"0\" y=\"0em\"><defs /><text text-anchor=\"middle\" x=\"50%\" y=\"1em\">DET[]</text></svg><svg width=\"100%\" x=\"0%\" y=\"3em\"><defs /><svg width=\"100%\" x=\"0\" y=\"0em\"><defs /><text text-anchor=\"middle\" x=\"50%\" y=\"1em\">der</text></svg></svg><line stroke=\"black\" x1=\"50%\" x2=\"50%\" y1=\"1.2em\" y2=\"3em\" /></svg><line stroke=\"black\" x1=\"50%\" x2=\"26.9231%\" y1=\"1.2em\" y2=\"3em\" /><svg width=\"46.1538%\" x=\"53.8462%\" y=\"3em\"><defs /><svg width=\"100%\" x=\"0\" y=\"0em\"><defs /><text text-anchor=\"middle\" x=\"50%\" y=\"1em\">N[]</text></svg><svg width=\"100%\" x=\"0%\" y=\"3em\"><defs /><svg width=\"100%\" x=\"0\" y=\"0em\"><defs /><text text-anchor=\"middle\" x=\"50%\" y=\"1em\">Hund</text></svg></svg><line stroke=\"black\" x1=\"50%\" x2=\"50%\" y1=\"1.2em\" y2=\"3em\" /></svg><line stroke=\"black\" x1=\"50%\" x2=\"76.9231%\" y1=\"1.2em\" y2=\"3em\" /></svg><line stroke=\"black\" x1=\"50%\" x2=\"16.25%\" y1=\"1.2em\" y2=\"3em\" /><svg width=\"67.5%\" x=\"32.5%\" y=\"3em\"><defs /><svg width=\"100%\" x=\"0\" y=\"0em\"><defs /><text text-anchor=\"middle\" x=\"50%\" y=\"1em\">VP[]</text></svg><svg width=\"48.1481%\" x=\"0%\" y=\"3em\"><defs /><svg width=\"100%\" x=\"0\" y=\"0em\"><defs /><text text-anchor=\"middle\" x=\"50%\" y=\"1em\">V[SUBCAT=1]</text></svg><svg width=\"100%\" x=\"0%\" y=\"3em\"><defs /><svg width=\"100%\" x=\"0\" y=\"0em\"><defs /><text text-anchor=\"middle\" x=\"50%\" y=\"1em\">sehen</text></svg></svg><line stroke=\"black\" x1=\"50%\" x2=\"50%\" y1=\"1.2em\" y2=\"3em\" /></svg><line stroke=\"black\" x1=\"50%\" x2=\"24.0741%\" y1=\"1.2em\" y2=\"3em\" /><svg width=\"51.8519%\" x=\"48.1481%\" y=\"3em\"><defs /><svg width=\"100%\" x=\"0\" y=\"0em\"><defs /><text text-anchor=\"middle\" x=\"50%\" y=\"1em\">NP[]</text></svg><svg width=\"50%\" x=\"0%\" y=\"3em\"><defs /><svg width=\"100%\" x=\"0\" y=\"0em\"><defs /><text text-anchor=\"middle\" x=\"50%\" y=\"1em\">DET[]</text></svg><svg width=\"100%\" x=\"0%\" y=\"3em\"><defs /><svg width=\"100%\" x=\"0\" y=\"0em\"><defs /><text text-anchor=\"middle\" x=\"50%\" y=\"1em\">die</text></svg></svg><line stroke=\"black\" x1=\"50%\" x2=\"50%\" y1=\"1.2em\" y2=\"3em\" /></svg><line stroke=\"black\" x1=\"50%\" x2=\"25%\" y1=\"1.2em\" y2=\"3em\" /><svg width=\"50%\" x=\"50%\" y=\"3em\"><defs /><svg width=\"100%\" x=\"0\" y=\"0em\"><defs /><text text-anchor=\"middle\" x=\"50%\" y=\"1em\">N[]</text></svg><svg width=\"100%\" x=\"0%\" y=\"3em\"><defs /><svg width=\"100%\" x=\"0\" y=\"0em\"><defs /><text text-anchor=\"middle\" x=\"50%\" y=\"1em\">Katze</text></svg></svg><line stroke=\"black\" x1=\"50%\" x2=\"50%\" y1=\"1.2em\" y2=\"3em\" /></svg><line stroke=\"black\" x1=\"50%\" x2=\"75%\" y1=\"1.2em\" y2=\"3em\" /></svg><line stroke=\"black\" x1=\"50%\" x2=\"74.0741%\" y1=\"1.2em\" y2=\"3em\" /></svg><line stroke=\"black\" x1=\"50%\" x2=\"66.25%\" y1=\"1.2em\" y2=\"3em\" /></svg>"
      ],
      "text/plain": [
       "Tree('S[]', [Tree('NP[]', [Tree('DET[]', ['der']), Tree('N[]', ['Hund'])]), Tree('VP[]', [Tree('V[SUBCAT=1]', ['sehen']), Tree('NP[]', [Tree('DET[]', ['die']), Tree('N[]', ['Katze'])])])])"
      ]
     },
     "metadata": {},
     "output_type": "display_data"
    }
   ],
   "source": [
    "parser = nltk.FeatureChartParser(grammar)\n",
    "for sent in neg_sents:\n",
    "    trees = list(parser.parse(sent.split()))\n",
    "    if trees: [show_FeatTree(tree, style=1) for tree in trees]\n",
    "    else: print(f\"no parse found for: {sent}\")"
   ]
  },
  {
   "cell_type": "code",
   "execution_count": 10,
   "metadata": {},
   "outputs": [],
   "source": [
    "#Lösung Teil 2: Kasus-Constraints (Subjekt- und Objektkasus)\n",
    "grammar = FeatureGrammar.fromstring(r\"\"\"\n",
    "% start S\n",
    "\n",
    "S -> NP[CASE=nom] VP\n",
    "NP[CASE=?x] -> DET[CASE=?x] N[CASE=?x]\n",
    "VP -> V[SUBCAT=0]\n",
    "VP -> V[SUBCAT=1, OBJCASE=?x] NP[CASE=?x]\n",
    "\n",
    "DET[CASE=nom] -> 'der'\n",
    "DET[CASE=dat] -> 'dem'\n",
    "DET[CASE=akk] -> 'den'\n",
    "DET[CASE=nom] -> 'die'\n",
    "\n",
    "N[CASE=nom] -> 'Hund'\n",
    "N[CASE=nom] -> 'Hunde'\n",
    "N[CASE=akk] -> 'Hunden'\n",
    "N -> 'Katze'\n",
    "N -> 'Katzen'\n",
    "\n",
    "V[SUBCAT=1] -> 'sieht'\n",
    "V[SUBCAT=1] -> 'sehen'\n",
    "V[SUBCAT=1] -> 'hilft'\n",
    "V[SUBCAT=1] -> 'helfen'\n",
    "V[SUBCAT=0] -> 'läuft'\n",
    "V[SUBCAT=0] -> 'laufen'\n",
    "\"\"\")"
   ]
  },
  {
   "cell_type": "code",
   "execution_count": 11,
   "metadata": {},
   "outputs": [
    {
     "name": "stdout",
     "output_type": "stream",
     "text": [
      "no parse found for: der Hund sieht\n",
      "no parse found for: dem Hund sieht der Katze\n"
     ]
    },
    {
     "data": {
      "image/svg+xml": [
       "<svg baseProfile=\"full\" height=\"216px\" preserveAspectRatio=\"xMidYMid meet\" style=\"font-family: times, serif; font-weight:normal; font-style: normal; font-size: 16px;\" version=\"1.1\" viewBox=\"0,0,552.0,216.0\" width=\"552px\" xmlns=\"http://www.w3.org/2000/svg\" xmlns:ev=\"http://www.w3.org/2001/xml-events\" xmlns:xlink=\"http://www.w3.org/1999/xlink\"><defs /><svg width=\"100%\" x=\"0\" y=\"0em\"><defs /><text text-anchor=\"middle\" x=\"50%\" y=\"1em\">S[]</text></svg><svg width=\"46.3768%\" x=\"0%\" y=\"3em\"><defs /><svg width=\"100%\" x=\"0\" y=\"0em\"><defs /><text text-anchor=\"middle\" x=\"50%\" y=\"1em\">NP[CASE='nom']</text></svg><svg width=\"53.125%\" x=\"0%\" y=\"3em\"><defs /><svg width=\"100%\" x=\"0\" y=\"0em\"><defs /><text text-anchor=\"middle\" x=\"50%\" y=\"1em\">DET[CASE='nom']</text></svg><svg width=\"100%\" x=\"0%\" y=\"3em\"><defs /><svg width=\"100%\" x=\"0\" y=\"0em\"><defs /><text text-anchor=\"middle\" x=\"50%\" y=\"1em\">der</text></svg></svg><line stroke=\"black\" x1=\"50%\" x2=\"50%\" y1=\"1.2em\" y2=\"3em\" /></svg><line stroke=\"black\" x1=\"50%\" x2=\"26.5625%\" y1=\"1.2em\" y2=\"3em\" /><svg width=\"46.875%\" x=\"53.125%\" y=\"3em\"><defs /><svg width=\"100%\" x=\"0\" y=\"0em\"><defs /><text text-anchor=\"middle\" x=\"50%\" y=\"1em\">N[CASE='nom']</text></svg><svg width=\"100%\" x=\"0%\" y=\"3em\"><defs /><svg width=\"100%\" x=\"0\" y=\"0em\"><defs /><text text-anchor=\"middle\" x=\"50%\" y=\"1em\">Hund</text></svg></svg><line stroke=\"black\" x1=\"50%\" x2=\"50%\" y1=\"1.2em\" y2=\"3em\" /></svg><line stroke=\"black\" x1=\"50%\" x2=\"76.5625%\" y1=\"1.2em\" y2=\"3em\" /></svg><line stroke=\"black\" x1=\"50%\" x2=\"23.1884%\" y1=\"1.2em\" y2=\"3em\" /><svg width=\"53.6232%\" x=\"46.3768%\" y=\"3em\"><defs /><svg width=\"100%\" x=\"0\" y=\"0em\"><defs /><text text-anchor=\"middle\" x=\"50%\" y=\"1em\">VP[]</text></svg><svg width=\"35.1351%\" x=\"0%\" y=\"3em\"><defs /><svg width=\"100%\" x=\"0\" y=\"0em\"><defs /><text text-anchor=\"middle\" x=\"50%\" y=\"1em\">V[SUBCAT=1]</text></svg><svg width=\"100%\" x=\"0%\" y=\"3em\"><defs /><svg width=\"100%\" x=\"0\" y=\"0em\"><defs /><text text-anchor=\"middle\" x=\"50%\" y=\"1em\">sehen</text></svg></svg><line stroke=\"black\" x1=\"50%\" x2=\"50%\" y1=\"1.2em\" y2=\"3em\" /></svg><line stroke=\"black\" x1=\"50%\" x2=\"17.5676%\" y1=\"1.2em\" y2=\"3em\" /><svg width=\"64.8649%\" x=\"35.1351%\" y=\"3em\"><defs /><svg width=\"100%\" x=\"0\" y=\"0em\"><defs /><text text-anchor=\"middle\" x=\"50%\" y=\"1em\">NP[CASE='nom']</text></svg><svg width=\"70.8333%\" x=\"0%\" y=\"3em\"><defs /><svg width=\"100%\" x=\"0\" y=\"0em\"><defs /><text text-anchor=\"middle\" x=\"50%\" y=\"1em\">DET[CASE='nom']</text></svg><svg width=\"100%\" x=\"0%\" y=\"3em\"><defs /><svg width=\"100%\" x=\"0\" y=\"0em\"><defs /><text text-anchor=\"middle\" x=\"50%\" y=\"1em\">die</text></svg></svg><line stroke=\"black\" x1=\"50%\" x2=\"50%\" y1=\"1.2em\" y2=\"3em\" /></svg><line stroke=\"black\" x1=\"50%\" x2=\"35.4167%\" y1=\"1.2em\" y2=\"3em\" /><svg width=\"29.1667%\" x=\"70.8333%\" y=\"3em\"><defs /><svg width=\"100%\" x=\"0\" y=\"0em\"><defs /><text text-anchor=\"middle\" x=\"50%\" y=\"1em\">N[]</text></svg><svg width=\"100%\" x=\"0%\" y=\"3em\"><defs /><svg width=\"100%\" x=\"0\" y=\"0em\"><defs /><text text-anchor=\"middle\" x=\"50%\" y=\"1em\">Katze</text></svg></svg><line stroke=\"black\" x1=\"50%\" x2=\"50%\" y1=\"1.2em\" y2=\"3em\" /></svg><line stroke=\"black\" x1=\"50%\" x2=\"85.4167%\" y1=\"1.2em\" y2=\"3em\" /></svg><line stroke=\"black\" x1=\"50%\" x2=\"67.5676%\" y1=\"1.2em\" y2=\"3em\" /></svg><line stroke=\"black\" x1=\"50%\" x2=\"73.1884%\" y1=\"1.2em\" y2=\"3em\" /></svg>"
      ],
      "text/plain": [
       "Tree('S[]', [Tree(\"NP[CASE='nom']\", [Tree(\"DET[CASE='nom']\", ['der']), Tree(\"N[CASE='nom']\", ['Hund'])]), Tree('VP[]', [Tree('V[SUBCAT=1]', ['sehen']), Tree(\"NP[CASE='nom']\", [Tree(\"DET[CASE='nom']\", ['die']), Tree('N[]', ['Katze'])])])])"
      ]
     },
     "metadata": {},
     "output_type": "display_data"
    }
   ],
   "source": [
    "parser = nltk.FeatureChartParser(grammar)\n",
    "for sent in neg_sents:\n",
    "    trees = list(parser.parse(sent.split()))\n",
    "    if trees: [show_FeatTree(tree, style=1) for tree in trees]\n",
    "    else: print(f\"no parse found for: {sent}\")"
   ]
  },
  {
   "cell_type": "code",
   "execution_count": 12,
   "metadata": {},
   "outputs": [],
   "source": [
    "#Lösung Teil 3: Agreement (DET:N und Subjekt-NP:VP)\n",
    "grammar = FeatureGrammar.fromstring(r\"\"\"\n",
    "% start S\n",
    "    ## Subjekt-Kasusrektion: <NP CASE> = nom\n",
    "    ## Subjekt-Verb-Agreement: <NP AGR> = <VP AGR> \n",
    "S -> NP[CASE=nom, AGR=?y] VP[AGR=?y]\n",
    "    ## nominales Agreement = Zeile 6: <Det AGR> = <N AGR>\n",
    "NP[CASE=?x, AGR=?y] -> DET[CASE=?x, AGR=?y] N[CASE=?x, AGR=?y]\n",
    "    ## Subkategorisierung: <V SUBCAT>= 0/1\n",
    "VP[AGR=?y] -> V[SUBCAT=0, AGR=?y]\n",
    "    ## Objekt-Kasusrektion: <V OBJCASE> = <NP CASE>\n",
    "VP[AGR=?y] -> V[SUBCAT=1, OBJCASE=?x, AGR=?y] NP[CASE=?x]\n",
    "\n",
    "# masc\n",
    "DET[CASE=nom, AGR=[GND=masc,PER=3,NUM=sg]] -> 'der' \n",
    "DET[CASE=dat, AGR=[GND=masc,PER=3,NUM=sg]] -> 'dem'\n",
    "DET[CASE=acc, AGR=[GND=masc,PER=3,NUM=sg]] -> 'den'\n",
    "\n",
    "# fem\n",
    "DET[CASE=nom, AGR=[GND=fem,PER=3,NUM=sg]] -> 'die' \n",
    "DET[CASE=dat, AGR=[GND=fem,PER=3,NUM=sg]] -> 'der'\n",
    "DET[CASE=acc, AGR=[GND=fem,PER=3,NUM=sg]] -> 'die' \n",
    "\n",
    "# Plural determiners\n",
    "DET[CASE=nom, AGR=[PER=3,NUM=pl]] -> 'die' \n",
    "DET[CASE=dat, AGR=[PER=3,NUM=pl]] -> 'den' \n",
    "DET[CASE=acc, AGR=[PER=3,NUM=pl]] -> 'die' \n",
    "\n",
    "# Nouns\n",
    "N[AGR=[GND=masc,PER=3,NUM=sg]] -> 'Hund'\n",
    "N[CASE=nom, AGR=[GND=masc,PER=3,NUM=pl]] -> 'Hunde'\n",
    "N[CASE=dat, AGR=[GND=masc,PER=3,NUM=pl]] -> 'Hunden'\n",
    "N[CASE=acc, AGR=[GND=masc,PER=3,NUM=pl]] -> 'Hunde'\n",
    "\n",
    "N[AGR=[GND=fem,PER=3,NUM=sg]] -> 'Katze'\n",
    "N[AGR=[GND=fem,PER=3,NUM=pl]] -> 'Katzen'\n",
    "\n",
    "# Verbs\n",
    "V[OBJCASE=acc, AGR=[NUM=sg,PER=3], SUBCAT=1] -> 'sieht'\n",
    "V[OBJCASE=acc, AGR=[NUM=pl,PER=3], SUBCAT=1] -> 'sehen'\n",
    "V[OBJCASE=dat, AGR=[NUM=sg,PER=3], SUBCAT=1] -> 'hilft'\n",
    "V[OBJCASE=dat, AGR=[NUM=pl,PER=3], SUBCAT=1] -> 'helfen'\n",
    "V[AGR=[NUM=sg,PER=3], SUBCAT=0] -> 'läuft'\n",
    "V[AGR=[NUM=pl,PER=3], SUBCAT=0] -> 'laufen' \n",
    "\"\"\")"
   ]
  },
  {
   "cell_type": "code",
   "execution_count": 13,
   "metadata": {},
   "outputs": [
    {
     "name": "stdout",
     "output_type": "stream",
     "text": [
      "no parse found for: der Hund sieht\n",
      "no parse found for: dem Hund sieht der Katze\n",
      "no parse found for: der Hund sehen die Katze\n"
     ]
    }
   ],
   "source": [
    "parser = nltk.FeatureChartParser(grammar)\n",
    "for sent in neg_sents:\n",
    "    trees = list(parser.parse(sent.split()))\n",
    "    if trees: [show_FeatTree(tree, style=1) for tree in trees]\n",
    "    else: print(f\"no parse found for: {sent}\")"
   ]
  },
  {
   "cell_type": "markdown",
   "metadata": {},
   "source": [
    "### c) Testen Sie abschließend, ob folgende Sätze weiterhin erkannt werden:"
   ]
  },
  {
   "cell_type": "code",
   "execution_count": 14,
   "metadata": {},
   "outputs": [],
   "source": [
    "pos_sents = [\n",
    "    \"der Hund sieht die Katze\", \n",
    "    \"die Hunde laufen\",\n",
    "    \"der Hund läuft\"\n",
    "]"
   ]
  },
  {
   "cell_type": "code",
   "execution_count": 15,
   "metadata": {},
   "outputs": [
    {
     "name": "stdout",
     "output_type": "stream",
     "text": [
      "FOUND PARSE:\n",
      " (S[]   (NP[AGR=[GND='masc', NUM='sg', PER=3], CASE='nom']     (DET[AGR=[GND='masc', NUM='sg', PER=3], CASE='nom'] der)     (N[AGR=[GND='masc', NUM='sg', PER=3]] Hund))   (VP[AGR=[NUM='sg', PER=3]]     (V[AGR=[NUM='sg', PER=3], OBJCASE='acc', SUBCAT=1] sieht)     (NP[AGR=[GND='fem', NUM='sg', PER=3], CASE='acc']       (DET[AGR=[GND='fem', NUM='sg', PER=3], CASE='acc'] die)       (N[AGR=[GND='fem', NUM='sg', PER=3]] Katze))))\n",
      "FOUND PARSE:\n",
      " (S[]   (NP[AGR=[GND='masc', NUM='pl', PER=3], CASE='nom']     (DET[AGR=[NUM='pl', PER=3], CASE='nom'] die)     (N[AGR=[GND='masc', NUM='pl', PER=3], CASE='nom'] Hunde))   (VP[AGR=[NUM='pl', PER=3]]     (V[AGR=[NUM='pl', PER=3], SUBCAT=0] laufen)))\n",
      "FOUND PARSE:\n",
      " (S[]   (NP[AGR=[GND='masc', NUM='sg', PER=3], CASE='nom']     (DET[AGR=[GND='masc', NUM='sg', PER=3], CASE='nom'] der)     (N[AGR=[GND='masc', NUM='sg', PER=3]] Hund))   (VP[AGR=[NUM='sg', PER=3]]     (V[AGR=[NUM='sg', PER=3], SUBCAT=0] läuft)))\n"
     ]
    }
   ],
   "source": [
    "parser = nltk.FeatureChartParser(grammar)\n",
    "for sent in pos_sents:\n",
    "    trees = list(parser.parse(sent.split()))\n",
    "    if trees: [show_FeatTree(tree, draw=0) for tree in trees]\n",
    "    else: print(f\"no parse found for: {sent}\")"
   ]
  },
  {
   "cell_type": "code",
   "execution_count": 16,
   "metadata": {},
   "outputs": [
    {
     "name": "stdout",
     "output_type": "stream",
     "text": [
      "|.der .Hund.läuf.|\n",
      "Leaf Init Rule:\n",
      "|[----]    .    .| [0:1] 'der'\n",
      "|.    [----]    .| [1:2] 'Hund'\n",
      "|.    .    [----]| [2:3] 'läuft'\n",
      "Feature Bottom Up Predict Combine Rule:\n",
      "|[----]    .    .| [0:1] DET[AGR=[GND='masc', NUM='sg', PER=3], CASE='nom'] -> 'der' *\n",
      "|[----]    .    .| [0:1] DET[AGR=[GND='fem', NUM='sg', PER=3], CASE='dat'] -> 'der' *\n",
      "Feature Bottom Up Predict Combine Rule:\n",
      "|[---->    .    .| [0:1] NP[AGR=?y, CASE=?x] -> DET[AGR=?y, CASE=?x] * N[AGR=?y, CASE=?x] {?x: 'dat', ?y: [GND='fem', NUM='sg', PER=3]}\n",
      "Feature Bottom Up Predict Combine Rule:\n",
      "|[---->    .    .| [0:1] NP[AGR=?y, CASE=?x] -> DET[AGR=?y, CASE=?x] * N[AGR=?y, CASE=?x] {?x: 'nom', ?y: [GND='masc', NUM='sg', PER=3]}\n",
      "Feature Bottom Up Predict Combine Rule:\n",
      "|.    [----]    .| [1:2] N[AGR=[GND='masc', NUM='sg', PER=3]] -> 'Hund' *\n",
      "Feature Single Edge Fundamental Rule:\n",
      "|[---------]    .| [0:2] NP[AGR=[GND='masc', NUM='sg', PER=3], CASE='nom'] -> DET[AGR=[GND='masc', NUM='sg', PER=3], CASE='nom'] N[AGR=[GND='masc', NUM='sg', PER=3], CASE='nom'] *\n",
      "Feature Bottom Up Predict Combine Rule:\n",
      "|[--------->    .| [0:2] S[] -> NP[AGR=?y, CASE='nom'] * VP[AGR=?y] {?y: [GND='masc', NUM='sg', PER=3]}\n",
      "Feature Bottom Up Predict Combine Rule:\n",
      "|.    .    [----]| [2:3] V[AGR=[NUM='sg', PER=3], SUBCAT=0] -> 'läuft' *\n",
      "Feature Bottom Up Predict Combine Rule:\n",
      "|.    .    [----]| [2:3] VP[AGR=[NUM='sg', PER=3]] -> V[AGR=[NUM='sg', PER=3], SUBCAT=0] *\n",
      "Feature Single Edge Fundamental Rule:\n",
      "|[==============]| [0:3] S[] -> NP[AGR=[GND='masc', NUM='sg', PER=3], CASE='nom'] VP[AGR=[GND='masc', NUM='sg', PER=3]] *\n"
     ]
    },
    {
     "data": {
      "text/plain": [
       "<generator object FeatureChart.parses at 0x1561c07b0>"
      ]
     },
     "execution_count": 16,
     "metadata": {},
     "output_type": "execute_result"
    }
   ],
   "source": [
    "# Tracing-Beispiel\n",
    "parser = nltk.FeatureChartParser(grammar, trace=2)\n",
    "parser.parse(pos_sents[2].split())"
   ]
  },
  {
   "cell_type": "markdown",
   "metadata": {},
   "source": [
    "## Aufgabe 2 - FCFG-Erweiterungen (Agreement, Kasus und Subkategorisierung)\n",
    "\n",
    "#### Gegeben sei folgende Grammatik, die in den folgenden Teilaufgaben schrittweise um verschiedenen grammatikalische Constraints erweitert werden soll, um Überproduktion zu verhindern."
   ]
  },
  {
   "cell_type": "code",
   "execution_count": 17,
   "metadata": {},
   "outputs": [],
   "source": [
    "grammar = \"\"\"\n",
    "S -> NP VP\n",
    "\n",
    "NP -> DET NOM\n",
    "NOM -> N\n",
    "VP -> V NP NP | V NP | V\n",
    "\n",
    "DET -> \"der\" | \"die\" | \"das\"\n",
    "N -> \"Mann\" | \"Frau\" | \"Buch\"\n",
    "\n",
    "V -> \"gibt\" | \"schenkt\" | \"schlaeft\" | \"gefaellt\" | \"kennt\"\n",
    "\"\"\""
   ]
  },
  {
   "cell_type": "markdown",
   "metadata": {},
   "source": [
    "### a) Kongruenz in der Nominalphrase\n",
    "\n",
    "#### Orientieren Sie sich an folgender Tabelle zur Mehrdeutigkeit der Formen des bestimmen Artikels im Deutschen und passen Sie die Grammatik unten so an, dass sie nur noch grammatikalisch korrekte Nominalphrasen als Teil von Sätzen akzeptiert. Konzentrieren Sie sich auf die Kongruenz von Artikel und Nomen im Genus.\n",
    "\n",
    "|Form|mögliche Merkmale|\n",
    "|----|-----------------|\n",
    "|der|[NUM=sg, GEN=mask, CASE=nom]|\n",
    "|&nbsp;|[NUM=sg, GEN=fem, CASE=dat]|\n",
    "|&nbsp;|[NUM=sg, GEN=fem, CASE=GEN]|\n",
    "|&nbsp;|[NUM=pl, CASE=GEN]|\n",
    "|die|[NUM=sg, GEN=fem, CASE=nom]|\n",
    "|&nbsp;|[NUM=sg, GEN=fem, CASE=akk]|\n",
    "|&nbsp;|[NUM=pl, CASE=nom]|\n",
    "|&nbsp;|[NUM=pl, CASE=akk]|\n",
    "|das|[NUM=sg, GEN=neut, CASE=nom]|\n",
    "|&nbsp;|[NUM=sg, GEN=neut, CASE=akk]|"
   ]
  },
  {
   "cell_type": "code",
   "execution_count": 18,
   "metadata": {},
   "outputs": [],
   "source": [
    "grammar = FeatureGrammar.fromstring(r\"\"\"\n",
    "S -> NP VP\n",
    "\n",
    "NP -> DET[GEN=?x] NOM[GEN=?x]\n",
    "NOM[GEN=?x] -> N[GEN=?x]\n",
    "VP -> V NP NP | V NP | V\n",
    "\n",
    "DET[GEN=mask] -> \"der\"\n",
    "DET[GEN=fem] -> \"die\"\n",
    "DET[GEN=neut] -> \"das\"\n",
    "\n",
    "N[GEN=mask] -> \"Mann\"\n",
    "N[GEN=fem]  -> \"Frau\"\n",
    "N[GEN=neut] -> \"Buch\"\n",
    "\n",
    "V -> \"gibt\" | \"schenkt\" | \"schlaeft\" | \"gefaellt\" | \"kennt\"\n",
    "\"\"\")"
   ]
  },
  {
   "cell_type": "code",
   "execution_count": 19,
   "metadata": {},
   "outputs": [],
   "source": [
    "pos_neg_sents = [\n",
    "    \"der Mann schlaeft\", \n",
    "    \"das Mann schlaeft\"\n",
    "]"
   ]
  },
  {
   "cell_type": "code",
   "execution_count": 20,
   "metadata": {},
   "outputs": [
    {
     "data": {
      "image/svg+xml": [
       "<svg baseProfile=\"full\" height=\"216px\" preserveAspectRatio=\"xMidYMid meet\" style=\"font-family: times, serif; font-weight:normal; font-style: normal; font-size: 16px;\" version=\"1.1\" viewBox=\"0,0,352.0,216.0\" width=\"352px\" xmlns=\"http://www.w3.org/2000/svg\" xmlns:ev=\"http://www.w3.org/2001/xml-events\" xmlns:xlink=\"http://www.w3.org/1999/xlink\"><defs /><svg width=\"100%\" x=\"0\" y=\"0em\"><defs /><text text-anchor=\"middle\" x=\"50%\" y=\"1em\">S[]</text></svg><svg width=\"77.2727%\" x=\"0%\" y=\"3em\"><defs /><svg width=\"100%\" x=\"0\" y=\"0em\"><defs /><text text-anchor=\"middle\" x=\"50%\" y=\"1em\">NP[]</text></svg><svg width=\"50%\" x=\"0%\" y=\"3em\"><defs /><svg width=\"100%\" x=\"0\" y=\"0em\"><defs /><text text-anchor=\"middle\" x=\"50%\" y=\"1em\">DET[GEN='mask']</text></svg><svg width=\"100%\" x=\"0%\" y=\"3em\"><defs /><svg width=\"100%\" x=\"0\" y=\"0em\"><defs /><text text-anchor=\"middle\" x=\"50%\" y=\"1em\">der</text></svg></svg><line stroke=\"black\" x1=\"50%\" x2=\"50%\" y1=\"1.2em\" y2=\"3em\" /></svg><line stroke=\"black\" x1=\"50%\" x2=\"25%\" y1=\"1.2em\" y2=\"3em\" /><svg width=\"50%\" x=\"50%\" y=\"3em\"><defs /><svg width=\"100%\" x=\"0\" y=\"0em\"><defs /><text text-anchor=\"middle\" x=\"50%\" y=\"1em\">NOM[GEN='mask']</text></svg><svg width=\"100%\" x=\"0%\" y=\"3em\"><defs /><svg width=\"100%\" x=\"0\" y=\"0em\"><defs /><text text-anchor=\"middle\" x=\"50%\" y=\"1em\">N[GEN='mask']</text></svg><svg width=\"100%\" x=\"0%\" y=\"3em\"><defs /><svg width=\"100%\" x=\"0\" y=\"0em\"><defs /><text text-anchor=\"middle\" x=\"50%\" y=\"1em\">Mann</text></svg></svg><line stroke=\"black\" x1=\"50%\" x2=\"50%\" y1=\"1.2em\" y2=\"3em\" /></svg><line stroke=\"black\" x1=\"50%\" x2=\"50%\" y1=\"1.2em\" y2=\"3em\" /></svg><line stroke=\"black\" x1=\"50%\" x2=\"75%\" y1=\"1.2em\" y2=\"3em\" /></svg><line stroke=\"black\" x1=\"50%\" x2=\"38.6364%\" y1=\"1.2em\" y2=\"3em\" /><svg width=\"22.7273%\" x=\"77.2727%\" y=\"3em\"><defs /><svg width=\"100%\" x=\"0\" y=\"0em\"><defs /><text text-anchor=\"middle\" x=\"50%\" y=\"1em\">VP[]</text></svg><svg width=\"100%\" x=\"0%\" y=\"3em\"><defs /><svg width=\"100%\" x=\"0\" y=\"0em\"><defs /><text text-anchor=\"middle\" x=\"50%\" y=\"1em\">V[]</text></svg><svg width=\"100%\" x=\"0%\" y=\"3em\"><defs /><svg width=\"100%\" x=\"0\" y=\"0em\"><defs /><text text-anchor=\"middle\" x=\"50%\" y=\"1em\">schlaeft</text></svg></svg><line stroke=\"black\" x1=\"50%\" x2=\"50%\" y1=\"1.2em\" y2=\"3em\" /></svg><line stroke=\"black\" x1=\"50%\" x2=\"50%\" y1=\"1.2em\" y2=\"3em\" /></svg><line stroke=\"black\" x1=\"50%\" x2=\"88.6364%\" y1=\"1.2em\" y2=\"3em\" /></svg>"
      ],
      "text/plain": [
       "Tree('S[]', [Tree('NP[]', [Tree(\"DET[GEN='mask']\", ['der']), Tree(\"NOM[GEN='mask']\", [Tree(\"N[GEN='mask']\", ['Mann'])])]), Tree('VP[]', [Tree('V[]', ['schlaeft'])])])"
      ]
     },
     "metadata": {},
     "output_type": "display_data"
    },
    {
     "name": "stdout",
     "output_type": "stream",
     "text": [
      "no parse found for: das Mann schlaeft\n"
     ]
    }
   ],
   "source": [
    "parser = nltk.FeatureChartParser(grammar)\n",
    "for sent in pos_neg_sents:\n",
    "    trees = list(parser.parse(sent.split()))\n",
    "    if trees: [show_FeatTree(tree, style=1) for tree in trees]\n",
    "    else: print(f\"no parse found for: {sent}\")"
   ]
  },
  {
   "cell_type": "markdown",
   "metadata": {},
   "source": [
    "#### Optional können Sie auch folgende NP-Grammatik, die die Features aus der Tabelle oben enthält, um syntaktische Constraints erweitern und testen:"
   ]
  },
  {
   "cell_type": "code",
   "execution_count": 21,
   "metadata": {},
   "outputs": [],
   "source": [
    "grammar = FeatureGrammar.fromstring(r\"\"\"\n",
    "\n",
    "NP[AGR=?x] -> DET[AGR=?x] NOM[AGR=?x]\n",
    "NOM[AGR=?x] -> N[AGR=?x]\n",
    "\n",
    "DET[AGR=[NUM=sg, GEN=mask, CASE=nom]] -> \"der\"\n",
    "DET[AGR=[NUM=sg, GEN=fem, CASE=dat]] -> \"der\"\n",
    "DET[AGR=[NUM=sg, GEN=fem, CASE=gen]] -> \"der\"\n",
    "DET[AGR=[NUM=pl, CASE=gen]] -> \"der\"\n",
    "\n",
    "DET[AGR=[NUM=sg, GEN=fem, CASE=nom]] -> \"die\"\n",
    "DET[AGR=[NUM=sg, GEN=fem, CASE=akk]] -> \"die\"\n",
    "DET[AGR=[NUM=pl, CASE=nom]] -> \"die\"\n",
    "DET[AGR=[NUM=pl, CASE=akk]] -> \"die\"\n",
    "\n",
    "DET[AGR=[NUM=sg, GEN=neut, CASE=nom]] -> \"das\"\n",
    "DET[AGR=[NUM=sg, GEN=neut, CASE=akk]] -> \"das\"\n",
    "\n",
    "\n",
    "N[AGR=[NUM=sg, GEN=mask]] -> \"Mann\"\n",
    "N[AGR=[NUM=sg, GEN=fem]] -> \"Frau\"\n",
    "N[AGR=[NUM=sg, GEN=neut]] -> \"Buch\"\n",
    "\"\"\")"
   ]
  },
  {
   "cell_type": "code",
   "execution_count": 22,
   "metadata": {},
   "outputs": [],
   "source": [
    "pos_sg_NPs = [\"der Mann\", \"der Frau\", \"die Frau\", \"das Buch\"]\n",
    "neg_sg_NPs = [\"das Mann\", \"die Mann\", \"das Frau\", \"der Buch\", \"die Buch\"]"
   ]
  },
  {
   "cell_type": "code",
   "execution_count": 26,
   "metadata": {},
   "outputs": [
    {
     "name": "stdout",
     "output_type": "stream",
     "text": [
      "no parse found for: das Mann\n",
      "no parse found for: die Mann\n",
      "no parse found for: das Frau\n",
      "no parse found for: der Buch\n",
      "no parse found for: die Buch\n"
     ]
    }
   ],
   "source": [
    "parser = nltk.FeatureChartParser(grammar)\n",
    "for sent in neg_sg_NPs:\n",
    "    trees = list(parser.parse(sent.split()))\n",
    "    if trees: [show_FeatTree(tree, draw=0) for tree in trees]\n",
    "    else: print(f\"no parse found for: {sent}\")"
   ]
  },
  {
   "cell_type": "code",
   "execution_count": 27,
   "metadata": {},
   "outputs": [
    {
     "name": "stdout",
     "output_type": "stream",
     "text": [
      "FOUND PARSE:\n",
      " (NP[AGR=[CASE='nom', GEN='mask', NUM='sg']]   (DET[AGR=[CASE='nom', GEN='mask', NUM='sg']] der)   (NOM[AGR=[GEN='mask', NUM='sg']]     (N[AGR=[GEN='mask', NUM='sg']] Mann)))\n",
      "FOUND PARSE:\n",
      " (NP[AGR=[CASE='gen', GEN='fem', NUM='sg']]   (DET[AGR=[CASE='gen', GEN='fem', NUM='sg']] der)   (NOM[AGR=[GEN='fem', NUM='sg']]     (N[AGR=[GEN='fem', NUM='sg']] Frau)))\n",
      "FOUND PARSE:\n",
      " (NP[AGR=[CASE='dat', GEN='fem', NUM='sg']]   (DET[AGR=[CASE='dat', GEN='fem', NUM='sg']] der)   (NOM[AGR=[GEN='fem', NUM='sg']]     (N[AGR=[GEN='fem', NUM='sg']] Frau)))\n",
      "FOUND PARSE:\n",
      " (NP[AGR=[CASE='akk', GEN='fem', NUM='sg']]   (DET[AGR=[CASE='akk', GEN='fem', NUM='sg']] die)   (NOM[AGR=[GEN='fem', NUM='sg']]     (N[AGR=[GEN='fem', NUM='sg']] Frau)))\n",
      "FOUND PARSE:\n",
      " (NP[AGR=[CASE='nom', GEN='fem', NUM='sg']]   (DET[AGR=[CASE='nom', GEN='fem', NUM='sg']] die)   (NOM[AGR=[GEN='fem', NUM='sg']]     (N[AGR=[GEN='fem', NUM='sg']] Frau)))\n",
      "FOUND PARSE:\n",
      " (NP[AGR=[CASE='akk', GEN='neut', NUM='sg']]   (DET[AGR=[CASE='akk', GEN='neut', NUM='sg']] das)   (NOM[AGR=[GEN='neut', NUM='sg']]     (N[AGR=[GEN='neut', NUM='sg']] Buch)))\n",
      "FOUND PARSE:\n",
      " (NP[AGR=[CASE='nom', GEN='neut', NUM='sg']]   (DET[AGR=[CASE='nom', GEN='neut', NUM='sg']] das)   (NOM[AGR=[GEN='neut', NUM='sg']]     (N[AGR=[GEN='neut', NUM='sg']] Buch)))\n"
     ]
    }
   ],
   "source": [
    "parser = nltk.FeatureChartParser(grammar)\n",
    "for sent in pos_sg_NPs:\n",
    "    trees = list(parser.parse(sent.split()))\n",
    "    if trees: [show_FeatTree(tree, draw=0) for tree in trees]\n",
    "    else: print(f\"no parse found for: {sent}\")"
   ]
  },
  {
   "cell_type": "markdown",
   "metadata": {},
   "source": [
    "### b) Kasus und Subkategorisierung\n",
    "\n",
    "#### Als nächstes sollen Kasusbedingungen in die Grammatik integriert werden (fügen Sie ggf. neue lexikalische Regeln für die Beispielsätze hinzu):\n",
    "\n",
    "1. Es gibt nur eine Nominalphrase im Nominativ (Subjekt).\n",
    "1. Je nach Valenzstellen des Verbes sollen nur Nominalphrasen in den korrekten Kasus akzeptiert werden.\n",
    "1. *Optional:* Versuchen Sie die freie Satzstellung des Deutschen zu berücksichtigen. (Sie können dazu die VP-Struktur auflösen, also flachere Satzregeln verwenden, und ein zusätzliches SBJCASE-Merkmal verwenden.)"
   ]
  },
  {
   "cell_type": "code",
   "execution_count": 29,
   "metadata": {},
   "outputs": [],
   "source": [
    "pos_sents = [   \n",
    "    \"das Buch gefaellt der Frau\",\n",
    "    \"das Buch kennt die Frau\",\n",
    "    \"der Mann gibt der Frau das Buch\"\n",
    "]\n",
    "\n",
    "neg_sents = [\n",
    "    \"das Mann schlaeft\",\n",
    "    \"der Mann schlaeft das Buch\",  #Verletzung Subkategorisierung-Constraint\n",
    "    \"die Frau gefaellt das Buch\",  #Verletzung Objektkasus-Constraint\n",
    "    \"den Mann schlaeft\",  #Verletzung Subjektkasus-Constraint\n",
    "    \"die Frau gibt das Buch\"  #Verletzung Subkategorisierung-Constraint\n",
    "]"
   ]
  },
  {
   "cell_type": "code",
   "execution_count": 30,
   "metadata": {},
   "outputs": [],
   "source": [
    "# Lösung für Bedingungen 1 + 2: \n",
    "grammar = FeatureGrammar.fromstring(r\"\"\"\n",
    "\n",
    "S -> NP[CASE=nom] VP\n",
    "\n",
    "NP[CASE=?y] -> DET[GEN=?x,CASE=?y] NOM[GEN=?x,CASE=?y]\n",
    "NOM[GEN=?x] -> N[GEN=?x]\n",
    "\n",
    "VP -> V[SUBCAT=0]\n",
    "VP -> V[SUBCAT=1,OBJCASE=?o] NP[CASE=?o]\n",
    "VP -> V[SUBCAT=2,IOBJCASE=?io,OBJCASE=?o] NP[CASE=?io] NP[CASE=?o]\n",
    "\n",
    "N[GEN=mask] -> \"Mann\"\n",
    "N[GEN=fem] -> \"Frau\"\n",
    "N[GEN=neut] -> \"Buch\"\n",
    "\n",
    "V[SUBCAT=0] -> \"schlaeft\"\n",
    "V[SUBCAT=1,OBJCASE=dat] -> \"gefaellt\"\n",
    "V[SUBCAT=1,OBJCASE=akk] -> \"kennt\"\n",
    "V[SUBCAT=2, IOBJCASE=dat, OBJCASE=akk] -> \"gibt\" | \"schenkt\"\n",
    "\n",
    "DET[GEN=mask,CASE=akk] -> \"den\"\n",
    "DET[GEN=mask,CASE=nom] -> \"der\"\n",
    "DET[GEN=fem,CASE=dat] -> \"der\"\n",
    "DET[GEN=fem,CASE=nom] -> \"die\"\n",
    "DET[GEN=fem,CASE=akk] -> \"die\"\n",
    "DET[GEN=neut,CASE=nom] -> \"das\"\n",
    "DET[GEN=neut,CASE=akk] -> \"das\"\n",
    "\"\"\")\n",
    "\n",
    "parser = nltk.FeatureChartParser(grammar)"
   ]
  },
  {
   "cell_type": "code",
   "execution_count": 31,
   "metadata": {},
   "outputs": [
    {
     "name": "stdout",
     "output_type": "stream",
     "text": [
      "no parse found for: das Mann schlaeft\n",
      "no parse found for: der Mann schlaeft das Buch\n",
      "no parse found for: die Frau gefaellt das Buch\n",
      "no parse found for: den Mann schlaeft\n",
      "no parse found for: die Frau gibt das Buch\n"
     ]
    }
   ],
   "source": [
    "for sent in neg_sents:\n",
    "    trees = list(parser.parse(sent.split()))\n",
    "    if trees: [show_FeatTree(tree, style=1) for tree in trees]\n",
    "    else: print(f\"no parse found for: {sent}\")"
   ]
  },
  {
   "cell_type": "code",
   "execution_count": 32,
   "metadata": {},
   "outputs": [
    {
     "name": "stdout",
     "output_type": "stream",
     "text": [
      "FOUND PARSE:\n",
      " (S[]   (NP[CASE='nom']     (DET[CASE='nom', GEN='neut'] das)     (NOM[GEN='neut'] (N[GEN='neut'] Buch)))   (VP[]     (V[OBJCASE='dat', SUBCAT=1] gefaellt)     (NP[CASE='dat']       (DET[CASE='dat', GEN='fem'] der)       (NOM[GEN='fem'] (N[GEN='fem'] Frau)))))\n",
      "FOUND PARSE:\n",
      " (S[]   (NP[CASE='nom']     (DET[CASE='nom', GEN='neut'] das)     (NOM[GEN='neut'] (N[GEN='neut'] Buch)))   (VP[]     (V[OBJCASE='akk', SUBCAT=1] kennt)     (NP[CASE='akk']       (DET[CASE='akk', GEN='fem'] die)       (NOM[GEN='fem'] (N[GEN='fem'] Frau)))))\n",
      "FOUND PARSE:\n",
      " (S[]   (NP[CASE='nom']     (DET[CASE='nom', GEN='mask'] der)     (NOM[GEN='mask'] (N[GEN='mask'] Mann)))   (VP[]     (V[IOBJCASE='dat', OBJCASE='akk', SUBCAT=2] gibt)     (NP[CASE='dat']       (DET[CASE='dat', GEN='fem'] der)       (NOM[GEN='fem'] (N[GEN='fem'] Frau)))     (NP[CASE='akk']       (DET[CASE='akk', GEN='neut'] das)       (NOM[GEN='neut'] (N[GEN='neut'] Buch)))))\n"
     ]
    }
   ],
   "source": [
    "for sent in pos_sents:\n",
    "    trees = list(parser.parse(sent.split()))\n",
    "    if trees: [show_FeatTree(tree, style=1, draw=0) for tree in trees]\n",
    "    else: print(f\"no parse found for: {sent}\")"
   ]
  },
  {
   "cell_type": "markdown",
   "metadata": {},
   "source": [
    "#### Testsätze für invertierte Wortstellung (Bedingung 3):"
   ]
  },
  {
   "cell_type": "code",
   "execution_count": 33,
   "metadata": {},
   "outputs": [],
   "source": [
    "pos_inv_sents = [\n",
    "    \"den Mann kennt die Frau\",\n",
    "    \"die Frau kennt der Mann\",\n",
    "    \"der Frau gibt der Mann das Buch\",\n",
    "    \"das Buch gibt der Mann der Frau\"\n",
    "]"
   ]
  },
  {
   "cell_type": "code",
   "execution_count": 34,
   "metadata": {},
   "outputs": [],
   "source": [
    "# Lösung A für Bedingungen 1 + 2 + 3 (beliebige NP in Vorfeld = satzinitial):\n",
    "\n",
    "#    -> Auflösung VP-Struktur (flachere Satzregeln, vgl. TIGER-Treebank)\n",
    "#    -> zusätzliches SBJCASE-Merkmal\n",
    "\n",
    "grammar = FeatureGrammar.fromstring(r\"\"\"\n",
    "\n",
    "#intransitiv:\n",
    "S -> NP[CASE=?s] V[SUBCAT=0,SBJCASE=?s]\n",
    "\n",
    "#transitiv (\"die Frau kennt den Mann\"  vs  \"den Mann kennt die Frau\"):\n",
    "S -> NP[CASE=?s] V[SUBCAT=1,SBJCASE=?s,OBJCASE=?o] NP[CASE=?o]\n",
    "S -> NP[CASE=?o] V[SUBCAT=1,SBJCASE=?s,OBJCASE=?o] NP[CASE=?s]\n",
    "\n",
    "#ditransitiv (\"der Mann gibt der Frau das Buch\" vs \"der Mann gibt das Buch der Frau\")\n",
    "S -> NP[CASE=?s] V[SUBCAT=2,SBJCASE=?s,IOBJCASE=?io,OBJCASE=?o] NP[CASE=?io] NP[CASE=?o]\n",
    "S -> NP[CASE=?s] V[SUBCAT=2,SBJCASE=?s,IOBJCASE=?io,OBJCASE=?o] NP[CASE=?o] NP[CASE=?io]\n",
    "\n",
    "#ditransitiv (\"der Frau gibt der Mann das Buch\" vs \"das Buch gibt der Mann der Frau\"):\n",
    "S -> NP[CASE=?io] V[SUBCAT=2,SBJCASE=?s,IOBJCASE=?io,OBJCASE=?o] NP[CASE=?s] NP[CASE=?o]\n",
    "S -> NP[CASE=?o] V[SUBCAT=2,SBJCASE=?s,IOBJCASE=?io,OBJCASE=?o] NP[CASE=?s] NP[CASE=?io]\n",
    "\n",
    "\n",
    "NP[CASE=?y] -> DET[GEN=?x,CASE=?y] NOM[GEN=?x,CASE=?y]\n",
    "NOM[GEN=?x] -> N[GEN=?x]\n",
    "\n",
    "\n",
    "N[GEN=mask] -> \"Mann\"\n",
    "N[GEN=fem] -> \"Frau\"\n",
    "N[GEN=neut] -> \"Buch\"\n",
    "\n",
    "V[SUBCAT=0,SBJCASE=nom] -> \"schlaeft\"\n",
    "V[SUBCAT=1,SBJCASE=nom,OBJCASE=dat] -> \"gefaellt\"\n",
    "V[SUBCAT=1,SBJCASE=nom,OBJCASE=akk] -> \"kennt\"\n",
    "V[SUBCAT=2,SBJCASE=nom, IOBJCASE=dat, OBJCASE=akk] -> \"gibt\" | \"schenkt\"\n",
    "\n",
    "DET[GEN=mask,CASE=akk] -> \"den\"\n",
    "DET[GEN=mask,CASE=nom] -> \"der\"\n",
    "DET[GEN=fem,CASE=dat] -> \"der\"\n",
    "DET[GEN=fem,CASE=nom] -> \"die\"\n",
    "DET[GEN=fem,CASE=akk] -> \"die\"\n",
    "DET[GEN=neut,CASE=nom] -> \"das\"\n",
    "DET[GEN=neut,CASE=akk] -> \"das\"\n",
    "\"\"\")\n",
    "\n",
    "parser = nltk.FeatureChartParser(grammar)"
   ]
  },
  {
   "cell_type": "code",
   "execution_count": 35,
   "metadata": {},
   "outputs": [
    {
     "name": "stdout",
     "output_type": "stream",
     "text": [
      "FOUND PARSE:\n",
      " (S[]   (NP[CASE='akk']     (DET[CASE='akk', GEN='mask'] den)     (NOM[GEN='mask'] (N[GEN='mask'] Mann)))   (V[OBJCASE='akk', SBJCASE='nom', SUBCAT=1] kennt)   (NP[CASE='nom']     (DET[CASE='nom', GEN='fem'] die)     (NOM[GEN='fem'] (N[GEN='fem'] Frau))))\n",
      "FOUND PARSE:\n",
      " (S[]   (NP[CASE='akk']     (DET[CASE='akk', GEN='fem'] die)     (NOM[GEN='fem'] (N[GEN='fem'] Frau)))   (V[OBJCASE='akk', SBJCASE='nom', SUBCAT=1] kennt)   (NP[CASE='nom']     (DET[CASE='nom', GEN='mask'] der)     (NOM[GEN='mask'] (N[GEN='mask'] Mann))))\n",
      "FOUND PARSE:\n",
      " (S[]   (NP[CASE='dat']     (DET[CASE='dat', GEN='fem'] der)     (NOM[GEN='fem'] (N[GEN='fem'] Frau)))   (V[IOBJCASE='dat', OBJCASE='akk', SBJCASE='nom', SUBCAT=2] gibt)   (NP[CASE='nom']     (DET[CASE='nom', GEN='mask'] der)     (NOM[GEN='mask'] (N[GEN='mask'] Mann)))   (NP[CASE='akk']     (DET[CASE='akk', GEN='neut'] das)     (NOM[GEN='neut'] (N[GEN='neut'] Buch))))\n",
      "FOUND PARSE:\n",
      " (S[]   (NP[CASE='akk']     (DET[CASE='akk', GEN='neut'] das)     (NOM[GEN='neut'] (N[GEN='neut'] Buch)))   (V[IOBJCASE='dat', OBJCASE='akk', SBJCASE='nom', SUBCAT=2] gibt)   (NP[CASE='nom']     (DET[CASE='nom', GEN='mask'] der)     (NOM[GEN='mask'] (N[GEN='mask'] Mann)))   (NP[CASE='dat']     (DET[CASE='dat', GEN='fem'] der)     (NOM[GEN='fem'] (N[GEN='fem'] Frau))))\n"
     ]
    }
   ],
   "source": [
    "for sent in pos_inv_sents:\n",
    "    trees = list(parser.parse(sent.split()))\n",
    "    if trees: [show_FeatTree(tree, style=1, draw=0) for tree in trees]\n",
    "    else: print(f\"no parse found for: {sent}\")"
   ]
  },
  {
   "cell_type": "markdown",
   "metadata": {},
   "source": [
    "### c) Kasus und Subkategorisierung mit Slah-Kategorie\n",
    "\n",
    "#### Wiederholen Sie die Modellierung für Kasusbedingungen über ein INV-Feature für die invertierte VP bei transitiven Verben und eines Gap-Features (Slash-Kategorie) für die an das Satzende gestellte Objekt-NP.\n"
   ]
  },
  {
   "cell_type": "code",
   "execution_count": 36,
   "metadata": {},
   "outputs": [],
   "source": [
    "# Lösung B für Bedingungen 1 + 2 + 3 mit INV-Merkmal und Slash-Kategorie (Gap-Merkmal):\n",
    "\n",
    "#   -> invertierte VP bei transitiven Verben: (NP V)=VP NP\n",
    "#   -> Slash-Kategorie für die an das Satzende gestellte Objekt-NP bzw. Indirekt-Objekt-NP in ditransitiven Sätzen\n",
    "\n",
    "grammar = FeatureGrammar.fromstring(r\"\"\"\n",
    "\n",
    "S -> NP[CASE=nom] VP\n",
    "\n",
    "#####Regeln für invertierte transitive Sätze (ohne Slash-Feature, nur Wortstellung in VP vertauscht):\n",
    "S -> VP[+INV] NP[CASE=nom]\n",
    "VP[+INV] -> NP[CASE=?x] V[SUBCAT=1,OBJCASE=?x]\n",
    "\n",
    "#####Regeln für invertierte ditransitive Sätze (mit Slash-Kategorie für long distance dependency am Satzende):\n",
    "S -> VP[+INV]/NP[CASE=?x] NP[CASE=nom] NP[CASE=?x]\n",
    "VP[+INV]/NP[CASE=?io] -> NP/NP[CASE=?io] NP[CASE=?o] V[SUBCAT=2,IOBJCASE=?io,OBJCASE=?o] \n",
    "VP[+INV]/NP[CASE=?o] -> NP[CASE=?io] NP/NP[CASE=?o] V[SUBCAT=2,IOBJCASE=?io,OBJCASE=?o] \n",
    "NP/NP -> \n",
    "\n",
    "\n",
    "NP[CASE=?y] -> DET[GEN=?x,CASE=?y] NOM[GEN=?x,CASE=?y]\n",
    "NOM[GEN=?x] -> N[GEN=?x]\n",
    "\n",
    "VP -> V[SUBCAT=0]\n",
    "VP -> V[SUBCAT=1,OBJCASE=?x] NP[CASE=?x]\n",
    "VP -> V[SUBCAT=2,IOBJCASE=?x,OBJCASE=?y] NP[CASE=?x] NP[CASE=?y]\n",
    "\n",
    "N[GEN=mask] -> \"Mann\"\n",
    "N[GEN=fem] -> \"Frau\"\n",
    "N[GEN=neut] -> \"Buch\"\n",
    "\n",
    "V[SUBCAT=0] -> \"schlaeft\"\n",
    "V[SUBCAT=1,OBJCASE=dat] -> \"gefaellt\"\n",
    "V[SUBCAT=1,OBJCASE=akk] -> \"kennt\"\n",
    "V[SUBCAT=2, IOBJCASE=dat, OBJCASE=akk] -> \"gibt\" | \"schenkt\"\n",
    "\n",
    "DET[GEN=mask,CASE=akk] -> \"den\"\n",
    "DET[GEN=mask,CASE=nom] -> \"der\"\n",
    "DET[GEN=fem,CASE=dat] -> \"der\"\n",
    "DET[GEN=fem,CASE=nom] -> \"die\"\n",
    "DET[GEN=fem,CASE=akk] -> \"die\"\n",
    "DET[GEN=neut,CASE=nom] -> \"das\"\n",
    "DET[GEN=neut,CASE=akk] -> \"das\"\n",
    "\"\"\")\n",
    "\n",
    "parser = nltk.FeatureChartParser(grammar)"
   ]
  },
  {
   "cell_type": "code",
   "execution_count": 37,
   "metadata": {
    "scrolled": true
   },
   "outputs": [
    {
     "name": "stdout",
     "output_type": "stream",
     "text": [
      "FOUND PARSE:\n",
      " (S[]   (VP[+INV]     (NP[CASE='akk']       (DET[CASE='akk', GEN='mask'] den)       (NOM[GEN='mask'] (N[GEN='mask'] Mann)))     (V[OBJCASE='akk', SUBCAT=1] kennt))   (NP[CASE='nom']     (DET[CASE='nom', GEN='fem'] die)     (NOM[GEN='fem'] (N[GEN='fem'] Frau))))\n",
      "FOUND PARSE:\n",
      " (S[]   (VP[+INV]     (NP[CASE='akk']       (DET[CASE='akk', GEN='fem'] die)       (NOM[GEN='fem'] (N[GEN='fem'] Frau)))     (V[OBJCASE='akk', SUBCAT=1] kennt))   (NP[CASE='nom']     (DET[CASE='nom', GEN='mask'] der)     (NOM[GEN='mask'] (N[GEN='mask'] Mann))))\n",
      "FOUND PARSE:\n",
      " (S[]   (VP[+INV]/NP[CASE='akk']     (NP[CASE='dat']       (DET[CASE='dat', GEN='fem'] der)       (NOM[GEN='fem'] (N[GEN='fem'] Frau)))     (NP[]/NP[] )     (V[IOBJCASE='dat', OBJCASE='akk', SUBCAT=2] gibt))   (NP[CASE='nom']     (DET[CASE='nom', GEN='mask'] der)     (NOM[GEN='mask'] (N[GEN='mask'] Mann)))   (NP[CASE='akk']     (DET[CASE='akk', GEN='neut'] das)     (NOM[GEN='neut'] (N[GEN='neut'] Buch))))\n",
      "FOUND PARSE:\n",
      " (S[]   (VP[+INV]/NP[CASE='dat']     (NP[]/NP[] )     (NP[CASE='akk']       (DET[CASE='akk', GEN='neut'] das)       (NOM[GEN='neut'] (N[GEN='neut'] Buch)))     (V[IOBJCASE='dat', OBJCASE='akk', SUBCAT=2] gibt))   (NP[CASE='nom']     (DET[CASE='nom', GEN='mask'] der)     (NOM[GEN='mask'] (N[GEN='mask'] Mann)))   (NP[CASE='dat']     (DET[CASE='dat', GEN='fem'] der)     (NOM[GEN='fem'] (N[GEN='fem'] Frau))))\n"
     ]
    }
   ],
   "source": [
    "for sent in pos_inv_sents:\n",
    "    trees = list(parser.parse(sent.split()))\n",
    "    if trees: [show_FeatTree(tree, style=1, draw=0) for tree in trees]\n",
    "    else: print(f\"no parse found for: {sent}\")"
   ]
  },
  {
   "cell_type": "code",
   "execution_count": 38,
   "metadata": {},
   "outputs": [
    {
     "name": "stdout",
     "output_type": "stream",
     "text": [
      "no parse found for: das Mann schlaeft\n",
      "no parse found for: der Mann schlaeft das Buch\n",
      "no parse found for: die Frau gefaellt das Buch\n",
      "no parse found for: den Mann schlaeft\n",
      "no parse found for: die Frau gibt das Buch\n"
     ]
    }
   ],
   "source": [
    "for sent in neg_sents:\n",
    "    trees = list(parser.parse(sent.split()))\n",
    "    if trees: [show_FeatTree(tree, style=1) for tree in trees]\n",
    "    else: print(f\"no parse found for: {sent}\")"
   ]
  },
  {
   "cell_type": "code",
   "execution_count": 39,
   "metadata": {},
   "outputs": [
    {
     "name": "stdout",
     "output_type": "stream",
     "text": [
      "FOUND PARSE:\n",
      " (S[]   (NP[CASE='nom']     (DET[CASE='nom', GEN='neut'] das)     (NOM[GEN='neut'] (N[GEN='neut'] Buch)))   (VP[]     (V[OBJCASE='dat', SUBCAT=1] gefaellt)     (NP[CASE='dat']       (DET[CASE='dat', GEN='fem'] der)       (NOM[GEN='fem'] (N[GEN='fem'] Frau)))))\n",
      "FOUND PARSE:\n",
      " (S[]   (VP[+INV]     (NP[CASE='akk']       (DET[CASE='akk', GEN='neut'] das)       (NOM[GEN='neut'] (N[GEN='neut'] Buch)))     (V[OBJCASE='akk', SUBCAT=1] kennt))   (NP[CASE='nom']     (DET[CASE='nom', GEN='fem'] die)     (NOM[GEN='fem'] (N[GEN='fem'] Frau))))\n",
      "FOUND PARSE:\n",
      " (S[]   (NP[CASE='nom']     (DET[CASE='nom', GEN='neut'] das)     (NOM[GEN='neut'] (N[GEN='neut'] Buch)))   (VP[]     (V[OBJCASE='akk', SUBCAT=1] kennt)     (NP[CASE='akk']       (DET[CASE='akk', GEN='fem'] die)       (NOM[GEN='fem'] (N[GEN='fem'] Frau)))))\n",
      "FOUND PARSE:\n",
      " (S[]   (NP[CASE='nom']     (DET[CASE='nom', GEN='mask'] der)     (NOM[GEN='mask'] (N[GEN='mask'] Mann)))   (VP[]     (V[IOBJCASE='dat', OBJCASE='akk', SUBCAT=2] gibt)     (NP[CASE='dat']       (DET[CASE='dat', GEN='fem'] der)       (NOM[GEN='fem'] (N[GEN='fem'] Frau)))     (NP[CASE='akk']       (DET[CASE='akk', GEN='neut'] das)       (NOM[GEN='neut'] (N[GEN='neut'] Buch)))))\n"
     ]
    }
   ],
   "source": [
    "for sent in pos_sents:\n",
    "    trees = list(parser.parse(sent.split()))\n",
    "    if trees: [show_FeatTree(tree, style=1, draw=0) for tree in trees]\n",
    "    else: print(f\"no parse found for: {sent}\")"
   ]
  },
  {
   "cell_type": "markdown",
   "metadata": {},
   "source": [
    "### d) Plural-Agreement für Subjekt und Verb\n",
    "\n",
    "#### Ergänzen Sie die Grammatik aus b) um die Möglichkeit, das Subjekt in den Plural zu setzen.\n",
    "\n",
    "#### Dafür müssen Sie folgendes tun:\n",
    "  1. Erstellen Sie lexikalische Regeln für Pluralformen der Verben und Substantive (Nominativ ist ausreichend.).\n",
    "  1. Vervollständigen Sie die lexikalischen Regeln für die Form des Artikels *die* um die korrekte Merkmalstruktur für den Plural.\n",
    "  1. Formulieren Sie eine Kongruenzbedingung in Numerus zwischen Verb und Subjekt."
   ]
  },
  {
   "cell_type": "code",
   "execution_count": 40,
   "metadata": {},
   "outputs": [],
   "source": [
    "pos_sents = [   \n",
    "    \"das Buch gefaellt der Frau\",\n",
    "    \"das Buch kennt die Frau\",\n",
    "    \"der Mann gibt der Frau das Buch\",\n",
    "    \n",
    "    \"die Maenner geben der Frau das Buch\",\n",
    "    \"die Bücher gefallen der Frau\",\n",
    "    \"die Frauen schlafen\"\n",
    "]\n",
    "\n",
    "neg_sents = [\n",
    "    \"das Mann schlaeft\",\n",
    "    \"der Mann schlaeft das Buch\",\n",
    "    \"die Frau gefaellt das Buch\",\n",
    "    \"den Mann schlaeft\",\n",
    "    \"die Frau gibt das Buch\",\n",
    "    \n",
    "    \"der Mann geben der Frau das Buch\",\n",
    "    \"das Buch gefaellt der Frauen\",\n",
    "    \"die Frauen schlaeft\"\n",
    "]"
   ]
  },
  {
   "cell_type": "code",
   "execution_count": 41,
   "metadata": {},
   "outputs": [],
   "source": [
    "#Lösung A:\n",
    "grammar = FeatureGrammar.fromstring(r\"\"\"\n",
    "\n",
    "S -> NP[CASE=nom,NUM=?x] VP[NUM=?x]\n",
    "\n",
    "NP[CASE=?y,NUM=?z] -> DET[GEN=?x,CASE=?y,NUM=?z] NOM[GEN=?x,NUM=?z]\n",
    "NOM[GEN=?x,NUM=?z] -> N[GEN=?x,NUM=?z]\n",
    "\n",
    "VP[NUM=?z] -> V[SUBCAT=intr,NUM=?z]\n",
    "VP[NUM=?z] -> V[SUBCAT=tr,OBJCASE=?x,NUM=?z] NP[CASE=?x]\n",
    "VP[NUM=?z] -> V[SUBCAT=ditr,OBJCASE1=?x,OBJCASE2=?y,NUM=?z] NP[CASE=?x] NP[CASE=?y]\n",
    "\n",
    "N[GEN=mask,NUM=sg] -> \"Mann\"\n",
    "N[GEN=mask,NUM=pl] -> \"Maenner\"\n",
    "N[GEN=fem,NUM=sg] -> \"Frau\"\n",
    "N[GEN=fem,NUM=pl] -> \"Frauen\"\n",
    "N[GEN=neut,NUM=sg] -> \"Buch\"\n",
    "N[GEN=neut,NUM=pl] -> \"Bücher\"\n",
    "\n",
    "V[SUBCAT=intr,NUM=sg] -> \"schlaeft\"\n",
    "V[SUBCAT=intr,NUM=pl] -> \"schlafen\"\n",
    "V[SUBCAT=tr,OBJCASE=dat,NUM=sg] -> \"gefaellt\"\n",
    "V[SUBCAT=tr,OBJCASE=dat,NUM=pl] -> \"gefallen\"\n",
    "V[SUBCAT=tr,OBJCASE=akk,NUM=sg] -> \"kennt\"\n",
    "V[SUBCAT=tr,OBJCASE=akk,NUM=pl] -> \"kennen\"\n",
    "V[SUBCAT=ditr, OBJCASE1=dat, OBJCASE2=akk,NUM=sg] -> \"gibt\" | \"schenkt\"\n",
    "V[SUBCAT=ditr, OBJCASE1=dat, OBJCASE2=akk,NUM=pl] -> \"geben\" | \"schenken\"\n",
    "\n",
    "DET[GEN=mask,CASE=akk,NUM=sg] -> \"den\"\n",
    "DET[GEN=mask,CASE=nom,NUM=sg] -> \"der\"\n",
    "DET[GEN=fem,CASE=dat,NUM=sg] -> \"der\"\n",
    "DET[GEN=fem,CASE=nom,NUM=sg] -> \"die\"\n",
    "DET[GEN=fem,CASE=akk,NUM=sg] -> \"die\"\n",
    "DET[GEN=neut,CASE=nom,NUM=sg] -> \"das\"\n",
    "DET[GEN=neut,CASE=akk,NUM=sg] -> \"das\"\n",
    "\n",
    "DET[CASE=nom,NUM=pl] -> \"die\"\n",
    "DET[CASE=akk,NUM=pl] -> \"die\"\n",
    "\"\"\")\n",
    "\n",
    "parser = nltk.FeatureChartParser(grammar)"
   ]
  },
  {
   "cell_type": "code",
   "execution_count": 42,
   "metadata": {},
   "outputs": [
    {
     "name": "stdout",
     "output_type": "stream",
     "text": [
      "no parse found for: das Mann schlaeft\n",
      "no parse found for: der Mann schlaeft das Buch\n",
      "no parse found for: die Frau gefaellt das Buch\n",
      "no parse found for: den Mann schlaeft\n",
      "no parse found for: die Frau gibt das Buch\n",
      "no parse found for: der Mann geben der Frau das Buch\n",
      "no parse found for: das Buch gefaellt der Frauen\n",
      "no parse found for: die Frauen schlaeft\n"
     ]
    }
   ],
   "source": [
    "for sent in neg_sents:\n",
    "    trees = list(parser.parse(sent.split()))\n",
    "    if trees: [show_FeatTree(tree, style=1) for tree in trees]\n",
    "    else: print(f\"no parse found for: {sent}\")"
   ]
  },
  {
   "cell_type": "code",
   "execution_count": 43,
   "metadata": {},
   "outputs": [
    {
     "name": "stdout",
     "output_type": "stream",
     "text": [
      "FOUND PARSE:\n",
      " (S[]   (NP[CASE='nom', NUM='sg']     (DET[CASE='nom', GEN='neut', NUM='sg'] das)     (NOM[GEN='neut', NUM='sg'] (N[GEN='neut', NUM='sg'] Buch)))   (VP[NUM='sg']     (V[NUM='sg', OBJCASE='dat', SUBCAT='tr'] gefaellt)     (NP[CASE='dat', NUM='sg']       (DET[CASE='dat', GEN='fem', NUM='sg'] der)       (NOM[GEN='fem', NUM='sg'] (N[GEN='fem', NUM='sg'] Frau)))))\n",
      "FOUND PARSE:\n",
      " (S[]   (NP[CASE='nom', NUM='sg']     (DET[CASE='nom', GEN='neut', NUM='sg'] das)     (NOM[GEN='neut', NUM='sg'] (N[GEN='neut', NUM='sg'] Buch)))   (VP[NUM='sg']     (V[NUM='sg', OBJCASE='akk', SUBCAT='tr'] kennt)     (NP[CASE='akk', NUM='sg']       (DET[CASE='akk', GEN='fem', NUM='sg'] die)       (NOM[GEN='fem', NUM='sg'] (N[GEN='fem', NUM='sg'] Frau)))))\n",
      "FOUND PARSE:\n",
      " (S[]   (NP[CASE='nom', NUM='sg']     (DET[CASE='nom', GEN='mask', NUM='sg'] der)     (NOM[GEN='mask', NUM='sg'] (N[GEN='mask', NUM='sg'] Mann)))   (VP[NUM='sg']     (V[NUM='sg', OBJCASE1='dat', OBJCASE2='akk', SUBCAT='ditr'] gibt)     (NP[CASE='dat', NUM='sg']       (DET[CASE='dat', GEN='fem', NUM='sg'] der)       (NOM[GEN='fem', NUM='sg'] (N[GEN='fem', NUM='sg'] Frau)))     (NP[CASE='akk', NUM='sg']       (DET[CASE='akk', GEN='neut', NUM='sg'] das)       (NOM[GEN='neut', NUM='sg'] (N[GEN='neut', NUM='sg'] Buch)))))\n",
      "FOUND PARSE:\n",
      " (S[]   (NP[CASE='nom', NUM='pl']     (DET[CASE='nom', NUM='pl'] die)     (NOM[GEN='mask', NUM='pl'] (N[GEN='mask', NUM='pl'] Maenner)))   (VP[NUM='pl']     (V[NUM='pl', OBJCASE1='dat', OBJCASE2='akk', SUBCAT='ditr']       geben)     (NP[CASE='dat', NUM='sg']       (DET[CASE='dat', GEN='fem', NUM='sg'] der)       (NOM[GEN='fem', NUM='sg'] (N[GEN='fem', NUM='sg'] Frau)))     (NP[CASE='akk', NUM='sg']       (DET[CASE='akk', GEN='neut', NUM='sg'] das)       (NOM[GEN='neut', NUM='sg'] (N[GEN='neut', NUM='sg'] Buch)))))\n",
      "FOUND PARSE:\n",
      " (S[]   (NP[CASE='nom', NUM='pl']     (DET[CASE='nom', NUM='pl'] die)     (NOM[GEN='neut', NUM='pl'] (N[GEN='neut', NUM='pl'] Bücher)))   (VP[NUM='pl']     (V[NUM='pl', OBJCASE='dat', SUBCAT='tr'] gefallen)     (NP[CASE='dat', NUM='sg']       (DET[CASE='dat', GEN='fem', NUM='sg'] der)       (NOM[GEN='fem', NUM='sg'] (N[GEN='fem', NUM='sg'] Frau)))))\n",
      "FOUND PARSE:\n",
      " (S[]   (NP[CASE='nom', NUM='pl']     (DET[CASE='nom', NUM='pl'] die)     (NOM[GEN='fem', NUM='pl'] (N[GEN='fem', NUM='pl'] Frauen)))   (VP[NUM='pl'] (V[NUM='pl', SUBCAT='intr'] schlafen)))\n"
     ]
    }
   ],
   "source": [
    "for sent in pos_sents:\n",
    "    trees = list(parser.parse(sent.split()))\n",
    "    if trees: [show_FeatTree(tree, style=1, draw=0) for tree in trees]\n",
    "    else: print(f\"no parse found for: {sent}\")"
   ]
  },
  {
   "cell_type": "code",
   "execution_count": 44,
   "metadata": {},
   "outputs": [],
   "source": [
    "# Lösung B (mit komplexem AGR-Feature):\n",
    "grammar = FeatureGrammar.fromstring(r\"\"\"\n",
    "\n",
    "S -> NP[CASE=nom,AGR=?x] VP[AGR=?x]\n",
    "\n",
    "NP[CASE=?y,AGR=?x] -> DET[CASE=?y,AGR=?x] NOM[AGR=?x]\n",
    "NOM[AGR=?x] -> N[AGR=?x]\n",
    "\n",
    "VP[AGR=?x] -> V[SUBCAT=intr,AGR=?x]\n",
    "VP[AGR=?x] -> V[SUBCAT=tr,OBJCASE=?o,AGR=?x] NP[CASE=?o]\n",
    "VP[AGR=?x] -> V[SUBCAT=ditr,OBJCASE1=?io,OBJCASE2=?o,AGR=?x] NP[CASE=?io] NP[CASE=?o]\n",
    "\n",
    "\n",
    "N[AGR=[GEN=mask,NUM=sg]] -> \"Mann\"\n",
    "N[AGR=[GEN=mask,NUM=pl]] -> \"Maenner\"\n",
    "N[AGR=[GEN=fem,NUM=sg]] -> \"Frau\"\n",
    "N[AGR=[GEN=fem,NUM=pl]] -> \"Frauen\"\n",
    "N[AGR=[GEN=neut,NUM=sg]] -> \"Buch\"\n",
    "N[AGR=[GEN=neut,NUM=pl]] -> \"Bücher\"\n",
    "\n",
    "V[SUBCAT=intr,AGR=[NUM=sg]] -> \"schlaeft\"\n",
    "V[SUBCAT=intr,AGR=[NUM=pl]] -> \"schlafen\"\n",
    "V[SUBCAT=tr,OBJCASE=dat,AGR=[NUM=sg]] -> \"gefaellt\"\n",
    "V[SUBCAT=tr,OBJCASE=dat,AGR=[NUM=pl]] -> \"gefallen\"\n",
    "V[SUBCAT=tr,OBJCASE=akk,AGR=[NUM=sg]] -> \"kennt\"\n",
    "V[SUBCAT=tr,OBJCASE=akk,AGR=[NUM=pl]] -> \"kennen\"\n",
    "V[SUBCAT=ditr, OBJCASE1=dat, OBJCASE2=akk,AGR=[NUM=sg]] -> \"gibt\" | \"schenkt\"\n",
    "V[SUBCAT=ditr, OBJCASE1=dat, OBJCASE2=akk,AGR=[NUM=pl]] -> \"geben\" | \"schenken\"\n",
    "\n",
    "DET[GEN=mask,CASE=akk,NUM=sg] -> \"den\"\n",
    "DET[CASE=nom,AGR=[GEN=mask,NUM=sg]] -> \"der\"\n",
    "DET[CASE=dat,AGR=[GEN=fem,NUM=sg]] -> \"der\"\n",
    "DET[CASE=nom,AGR=[GEN=fem,NUM=sg]] -> \"die\"\n",
    "DET[CASE=akk,AGR=[GEN=fem,NUM=sg]] -> \"die\"\n",
    "DET[CASE=nom,AGR=[GEN=neut,NUM=sg]] -> \"das\"\n",
    "DET[CASE=akk,AGR=[GEN=neut,NUM=sg]] -> \"das\"\n",
    "\n",
    "DET[CASE=nom,AGR=[NUM=pl]] -> \"die\"\n",
    "DET[CASE=akk,AGR=[NUM=pl]] -> \"die\"\n",
    "\"\"\")\n",
    "\n",
    "parser = nltk.FeatureChartParser(grammar)"
   ]
  },
  {
   "cell_type": "code",
   "execution_count": 45,
   "metadata": {},
   "outputs": [
    {
     "name": "stdout",
     "output_type": "stream",
     "text": [
      "no parse found for: das Mann schlaeft\n",
      "no parse found for: der Mann schlaeft das Buch\n",
      "no parse found for: die Frau gefaellt das Buch\n",
      "no parse found for: den Mann schlaeft\n",
      "no parse found for: die Frau gibt das Buch\n",
      "no parse found for: der Mann geben der Frau das Buch\n",
      "no parse found for: das Buch gefaellt der Frauen\n",
      "no parse found for: die Frauen schlaeft\n"
     ]
    }
   ],
   "source": [
    "for sent in neg_sents:\n",
    "    trees = list(parser.parse(sent.split()))\n",
    "    if trees: [show_FeatTree(tree, style=1) for tree in trees]\n",
    "    else: print(f\"no parse found for: {sent}\")"
   ]
  },
  {
   "cell_type": "code",
   "execution_count": 46,
   "metadata": {},
   "outputs": [
    {
     "name": "stdout",
     "output_type": "stream",
     "text": [
      "FOUND PARSE:\n",
      " (S[]   (NP[AGR=[GEN='neut', NUM='sg'], CASE='nom']     (DET[AGR=[GEN='neut', NUM='sg'], CASE='nom'] das)     (NOM[AGR=[GEN='neut', NUM='sg']]       (N[AGR=[GEN='neut', NUM='sg']] Buch)))   (VP[AGR=[NUM='sg']]     (V[AGR=[NUM='sg'], OBJCASE='dat', SUBCAT='tr'] gefaellt)     (NP[AGR=[GEN='fem', NUM='sg'], CASE='dat']       (DET[AGR=[GEN='fem', NUM='sg'], CASE='dat'] der)       (NOM[AGR=[GEN='fem', NUM='sg']]         (N[AGR=[GEN='fem', NUM='sg']] Frau)))))\n",
      "FOUND PARSE:\n",
      " (S[]   (NP[AGR=[GEN='neut', NUM='sg'], CASE='nom']     (DET[AGR=[GEN='neut', NUM='sg'], CASE='nom'] das)     (NOM[AGR=[GEN='neut', NUM='sg']]       (N[AGR=[GEN='neut', NUM='sg']] Buch)))   (VP[AGR=[NUM='sg']]     (V[AGR=[NUM='sg'], OBJCASE='akk', SUBCAT='tr'] kennt)     (NP[AGR=[GEN='fem', NUM='sg'], CASE='akk']       (DET[AGR=[GEN='fem', NUM='sg'], CASE='akk'] die)       (NOM[AGR=[GEN='fem', NUM='sg']]         (N[AGR=[GEN='fem', NUM='sg']] Frau)))))\n",
      "FOUND PARSE:\n",
      " (S[]   (NP[AGR=[GEN='mask', NUM='sg'], CASE='nom']     (DET[AGR=[GEN='mask', NUM='sg'], CASE='nom'] der)     (NOM[AGR=[GEN='mask', NUM='sg']]       (N[AGR=[GEN='mask', NUM='sg']] Mann)))   (VP[AGR=[NUM='sg']]     (V[AGR=[NUM='sg'], OBJCASE1='dat', OBJCASE2='akk', SUBCAT='ditr']       gibt)     (NP[AGR=[GEN='fem', NUM='sg'], CASE='dat']       (DET[AGR=[GEN='fem', NUM='sg'], CASE='dat'] der)       (NOM[AGR=[GEN='fem', NUM='sg']]         (N[AGR=[GEN='fem', NUM='sg']] Frau)))     (NP[AGR=[GEN='neut', NUM='sg'], CASE='akk']       (DET[AGR=[GEN='neut', NUM='sg'], CASE='akk'] das)       (NOM[AGR=[GEN='neut', NUM='sg']]         (N[AGR=[GEN='neut', NUM='sg']] Buch)))))\n",
      "FOUND PARSE:\n",
      " (S[]   (NP[AGR=[GEN='mask', NUM='pl'], CASE='nom']     (DET[AGR=[NUM='pl'], CASE='nom'] die)     (NOM[AGR=[GEN='mask', NUM='pl']]       (N[AGR=[GEN='mask', NUM='pl']] Maenner)))   (VP[AGR=[NUM='pl']]     (V[AGR=[NUM='pl'], OBJCASE1='dat', OBJCASE2='akk', SUBCAT='ditr']       geben)     (NP[AGR=[GEN='fem', NUM='sg'], CASE='dat']       (DET[AGR=[GEN='fem', NUM='sg'], CASE='dat'] der)       (NOM[AGR=[GEN='fem', NUM='sg']]         (N[AGR=[GEN='fem', NUM='sg']] Frau)))     (NP[AGR=[GEN='neut', NUM='sg'], CASE='akk']       (DET[AGR=[GEN='neut', NUM='sg'], CASE='akk'] das)       (NOM[AGR=[GEN='neut', NUM='sg']]         (N[AGR=[GEN='neut', NUM='sg']] Buch)))))\n",
      "FOUND PARSE:\n",
      " (S[]   (NP[AGR=[GEN='neut', NUM='pl'], CASE='nom']     (DET[AGR=[NUM='pl'], CASE='nom'] die)     (NOM[AGR=[GEN='neut', NUM='pl']]       (N[AGR=[GEN='neut', NUM='pl']] Bücher)))   (VP[AGR=[NUM='pl']]     (V[AGR=[NUM='pl'], OBJCASE='dat', SUBCAT='tr'] gefallen)     (NP[AGR=[GEN='fem', NUM='sg'], CASE='dat']       (DET[AGR=[GEN='fem', NUM='sg'], CASE='dat'] der)       (NOM[AGR=[GEN='fem', NUM='sg']]         (N[AGR=[GEN='fem', NUM='sg']] Frau)))))\n",
      "FOUND PARSE:\n",
      " (S[]   (NP[AGR=[GEN='fem', NUM='pl'], CASE='nom']     (DET[AGR=[NUM='pl'], CASE='nom'] die)     (NOM[AGR=[GEN='fem', NUM='pl']]       (N[AGR=[GEN='fem', NUM='pl']] Frauen)))   (VP[AGR=[NUM='pl']] (V[AGR=[NUM='pl'], SUBCAT='intr'] schlafen)))\n"
     ]
    }
   ],
   "source": [
    "for sent in pos_sents:\n",
    "    trees = list(parser.parse(sent.split()))\n",
    "    if trees: [show_FeatTree(tree, style=1, draw=0) for tree in trees]\n",
    "    else: print(f\"no parse found for: {sent}\")"
   ]
  },
  {
   "cell_type": "markdown",
   "metadata": {},
   "source": [
    "### e) Adverben und Verbzweitstellung\n",
    "\n",
    "#### Fügen Sie der untenstehende Grammatik die zwei Adverben *heute* und *morgen* hinzu. Adverben können prinzipiell sehr frei im Satz platziert werden. Eine Besonderheit des Deutschen ist aber die sog. Verbzweitstellung, wie sie z. B. in Sätzen wie *Heute schlaeft der Mann* deutlich wird.\n",
    "#### Versuchen Sie alle Möglichkeiten zu implementieren:"
   ]
  },
  {
   "cell_type": "code",
   "execution_count": 47,
   "metadata": {},
   "outputs": [],
   "source": [
    "pos_sents = [\n",
    "  \"heute gibt der Mann der Frau das Buch\",\n",
    "  \"der Mann gibt heute der Frau das Buch\",\n",
    "  \"der Mann gibt der Frau heute das Buch\",\n",
    "  \"der Mann gibt der Frau das Buch heute\"\n",
    "]\n",
    "\n",
    "neg_sents = [\n",
    "    \"heute der Mann gibt der Frau das Buch\"\n",
    "]"
   ]
  },
  {
   "cell_type": "code",
   "execution_count": 48,
   "metadata": {},
   "outputs": [],
   "source": [
    "grammar = FeatureGrammar.fromstring(r\"\"\"\n",
    "\n",
    "#intransitiv:\n",
    "S -> ADV V[SUBCAT=intr,NUM=?x] NP[CASE=nom,NUM=?x]\n",
    "S -> NP[CASE=nom,NUM=?x] V[SUBCAT=intr,NUM=?x] ADV\n",
    "\n",
    "#transitiv:\n",
    "S -> ADV V[SUBCAT=tr,OBJCASE=?o,NUM=?x] NP[CASE=nom,NUM=?x] NP[CASE=?o,NUM=?x] \n",
    "S -> NP[CASE=nom,NUM=?x] V[SUBCAT=tr,OBJCASE=?o,NUM=?x] ADV NP[CASE=?o,NUM=?x]\n",
    "S -> NP[CASE=?o,NUM=?x] V[SUBCAT=tr,OBJCASE=?o,NUM=?x] NP[CASE=nom,NUM=?x] ADV \n",
    "\n",
    "\n",
    "#ditransitiv:\n",
    "S -> ADV V[SUBCAT=ditr,OBJCASE1=?io,OBJCASE2=?o,NUM=?x] NP[CASE=nom,NUM=?x] NP[CASE=?io,NUM=?x] NP[CASE=?o,NUM=?x] \n",
    "S -> NP[CASE=nom,NUM=?x] V[SUBCAT=ditr,OBJCASE1=?io,OBJCASE2=?o,NUM=?x] ADV NP[CASE=?io,NUM=?x] NP[CASE=?o,NUM=?x] \n",
    "S -> NP[CASE=nom,NUM=?x] V[SUBCAT=ditr,OBJCASE1=?io,OBJCASE2=?o,NUM=?x] NP[CASE=?io,NUM=?x] ADV NP[CASE=?o,NUM=?x] \n",
    "S -> NP[CASE=nom,NUM=?x] V[SUBCAT=ditr,OBJCASE1=?io,OBJCASE2=?o,NUM=?x] NP[CASE=?io,NUM=?x] NP[CASE=?o,NUM=?x] ADV\n",
    "#usw. (s.o. Aufgabe 2) \n",
    "\n",
    "NP[CASE=?y,NUM=?z] -> DET[GEN=?x,CASE=?y,NUM=?z] NOM[GEN=?x,NUM=?z]\n",
    "NOM[GEN=?x,NUM=?z] -> N[GEN=?x,NUM=?z]\n",
    "\n",
    "\n",
    "ADV -> \"heute\" | \"morgen\"\n",
    "\n",
    "N[GEN=mask,NUM=sg] -> \"Mann\"\n",
    "N[GEN=mask,NUM=pl] -> \"Maenner\"\n",
    "N[GEN=fem,NUM=sg] -> \"Frau\"\n",
    "N[GEN=fem,NUM=pl] -> \"Frauen\"\n",
    "N[GEN=neut,NUM=sg] -> \"Buch\"\n",
    "N[GEN=neut,NUM=pl] -> \"Bücher\"\n",
    "\n",
    "V[SUBCAT=ditr, OBJCASE1=dat, OBJCASE2=akk,NUM=sg] -> \"gibt\" | \"schenkt\"\n",
    "V[SUBCAT=ditr, OBJCASE1=dat, OBJCASE2=akk,NUM=pl] -> \"geben\" | \"schenken\"\n",
    "V[SUBCAT=intr,NUM=sg] -> \"schlaeft\"\n",
    "V[SUBCAT=intr,NUM=pl] -> \"schlafen\"\n",
    "V[SUBCAT=tr,OBJCASE=dat,NUM=sg] -> \"gefaellt\"\n",
    "V[SUBCAT=tr,OBJCASE=dat,NUM=pl] -> \"gefallen\"\n",
    "V[SUBCAT=tr,OBJCASE=akk,NUM=sg] -> \"kennt\"\n",
    "V[SUBCAT=tr,OBJCASE=akk,NUM=pl] -> \"kennen\"\n",
    "\n",
    "DET[GEN=mask,CASE=nom,NUM=sg] -> \"der\"\n",
    "DET[GEN=fem,CASE=dat,NUM=sg] -> \"der\"\n",
    "\n",
    "DET[GEN=fem,CASE=nom,NUM=sg] -> \"die\"\n",
    "DET[GEN=fem,CASE=akk,NUM=sg] -> \"die\"\n",
    "DET[GEN=neut,CASE=nom,NUM=sg] -> \"das\"\n",
    "DET[GEN=neut,CASE=akk,NUM=sg] -> \"das\"\n",
    "\n",
    "DET[CASE=nom,NUM=pl] -> \"die\"\n",
    "DET[CASE=akk,NUM=pl] -> \"die\"\n",
    "\"\"\")\n",
    "\n",
    "parser = nltk.FeatureChartParser(grammar)"
   ]
  },
  {
   "cell_type": "code",
   "execution_count": 49,
   "metadata": {},
   "outputs": [
    {
     "name": "stdout",
     "output_type": "stream",
     "text": [
      "no parse found for: heute der Mann gibt der Frau das Buch\n"
     ]
    }
   ],
   "source": [
    "for sent in neg_sents:\n",
    "    trees = list(parser.parse(sent.split()))\n",
    "    if trees: [show_FeatTree(tree, style=1) for tree in trees]\n",
    "    else: print(f\"no parse found for: {sent}\")"
   ]
  },
  {
   "cell_type": "code",
   "execution_count": 50,
   "metadata": {},
   "outputs": [
    {
     "name": "stdout",
     "output_type": "stream",
     "text": [
      "FOUND PARSE:\n",
      " (S[]   (ADV[] heute)   (V[NUM='sg', OBJCASE1='dat', OBJCASE2='akk', SUBCAT='ditr'] gibt)   (NP[CASE='nom', NUM='sg']     (DET[CASE='nom', GEN='mask', NUM='sg'] der)     (NOM[GEN='mask', NUM='sg'] (N[GEN='mask', NUM='sg'] Mann)))   (NP[CASE='dat', NUM='sg']     (DET[CASE='dat', GEN='fem', NUM='sg'] der)     (NOM[GEN='fem', NUM='sg'] (N[GEN='fem', NUM='sg'] Frau)))   (NP[CASE='akk', NUM='sg']     (DET[CASE='akk', GEN='neut', NUM='sg'] das)     (NOM[GEN='neut', NUM='sg'] (N[GEN='neut', NUM='sg'] Buch))))\n",
      "FOUND PARSE:\n",
      " (S[]   (NP[CASE='nom', NUM='sg']     (DET[CASE='nom', GEN='mask', NUM='sg'] der)     (NOM[GEN='mask', NUM='sg'] (N[GEN='mask', NUM='sg'] Mann)))   (V[NUM='sg', OBJCASE1='dat', OBJCASE2='akk', SUBCAT='ditr'] gibt)   (ADV[] heute)   (NP[CASE='dat', NUM='sg']     (DET[CASE='dat', GEN='fem', NUM='sg'] der)     (NOM[GEN='fem', NUM='sg'] (N[GEN='fem', NUM='sg'] Frau)))   (NP[CASE='akk', NUM='sg']     (DET[CASE='akk', GEN='neut', NUM='sg'] das)     (NOM[GEN='neut', NUM='sg'] (N[GEN='neut', NUM='sg'] Buch))))\n",
      "FOUND PARSE:\n",
      " (S[]   (NP[CASE='nom', NUM='sg']     (DET[CASE='nom', GEN='mask', NUM='sg'] der)     (NOM[GEN='mask', NUM='sg'] (N[GEN='mask', NUM='sg'] Mann)))   (V[NUM='sg', OBJCASE1='dat', OBJCASE2='akk', SUBCAT='ditr'] gibt)   (NP[CASE='dat', NUM='sg']     (DET[CASE='dat', GEN='fem', NUM='sg'] der)     (NOM[GEN='fem', NUM='sg'] (N[GEN='fem', NUM='sg'] Frau)))   (ADV[] heute)   (NP[CASE='akk', NUM='sg']     (DET[CASE='akk', GEN='neut', NUM='sg'] das)     (NOM[GEN='neut', NUM='sg'] (N[GEN='neut', NUM='sg'] Buch))))\n",
      "FOUND PARSE:\n",
      " (S[]   (NP[CASE='nom', NUM='sg']     (DET[CASE='nom', GEN='mask', NUM='sg'] der)     (NOM[GEN='mask', NUM='sg'] (N[GEN='mask', NUM='sg'] Mann)))   (V[NUM='sg', OBJCASE1='dat', OBJCASE2='akk', SUBCAT='ditr'] gibt)   (NP[CASE='dat', NUM='sg']     (DET[CASE='dat', GEN='fem', NUM='sg'] der)     (NOM[GEN='fem', NUM='sg'] (N[GEN='fem', NUM='sg'] Frau)))   (NP[CASE='akk', NUM='sg']     (DET[CASE='akk', GEN='neut', NUM='sg'] das)     (NOM[GEN='neut', NUM='sg'] (N[GEN='neut', NUM='sg'] Buch)))   (ADV[] heute))\n"
     ]
    }
   ],
   "source": [
    "for sent in pos_sents:\n",
    "    trees = list(parser.parse(sent.split()))\n",
    "    if trees: [show_FeatTree(tree, style=1, draw=0) for tree in trees]\n",
    "    else: print(f\"no parse found for: {sent}\")"
   ]
  }
 ],
 "metadata": {
  "kernelspec": {
   "display_name": "Python 3 (ipykernel)",
   "language": "python",
   "name": "python3"
  },
  "language_info": {
   "codemirror_mode": {
    "name": "ipython",
    "version": 3
   },
   "file_extension": ".py",
   "mimetype": "text/x-python",
   "name": "python",
   "nbconvert_exporter": "python",
   "pygments_lexer": "ipython3",
   "version": "3.9.12"
  }
 },
 "nbformat": 4,
 "nbformat_minor": 2
}
