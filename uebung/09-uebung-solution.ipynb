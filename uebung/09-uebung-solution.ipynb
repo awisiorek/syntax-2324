{
 "cells": [
  {
   "cell_type": "markdown",
   "metadata": {},
   "source": [
    "Syntax natürlicher Sprachen, WS 2023/24\n",
    "\n",
    "# 09 - Übung (Lösung)"
   ]
  },
  {
   "cell_type": "code",
   "execution_count": 1,
   "metadata": {},
   "outputs": [],
   "source": [
    "import nltk\n",
    "from nltk import Tree\n",
    "from nltk import parse\n",
    "from nltk.grammar import FeatureGrammar"
   ]
  },
  {
   "cell_type": "code",
   "execution_count": 2,
   "metadata": {},
   "outputs": [],
   "source": [
    "def show_FeatTree(tree, style=0, draw=1):\n",
    "    if draw:\n",
    "        tree = Tree.fromstring(str(tree).replace(\", \",\",\"))\n",
    "        if style: \n",
    "            display(tree)\n",
    "        else: \n",
    "            tree.pretty_print(unicodelines=True)\n",
    "    else: print(\"FOUND PARSE:\\n\", str(tree).replace(\"\\n\",\" \"))"
   ]
  },
  {
   "cell_type": "markdown",
   "metadata": {},
   "source": [
    "## Aufgabe 1 - FCFG-Erweiterung (Kasus, Agreement, Subkategorisierung)"
   ]
  },
  {
   "cell_type": "markdown",
   "metadata": {},
   "source": [
    "### a) Übergenerierende CFG\n",
    "\n",
    "#### Betrachten Sie die Parsingergebnisse untenstehender Sätze mit der folgenden einfachen CFG-Grammatik und geben Sie an, welches grammatikalische Constraint jeweils verletzt ist (Kasus, Agreement, Subkategorisierung)."
   ]
  },
  {
   "cell_type": "code",
   "execution_count": 3,
   "metadata": {},
   "outputs": [],
   "source": [
    "grammar = nltk.CFG.fromstring(\"\"\"\n",
    "S -> NP VP\n",
    "NP -> DET N\n",
    "VP -> V\n",
    "VP -> V NP\n",
    "\n",
    "DET -> 'der' | 'dem' | 'den' | 'die'\n",
    "N -> 'Hund' | 'Hunde' |'Hunden' |'Katze' |'Katzen'\n",
    "V -> 'sieht' | 'sehen' | 'hilft' | 'helfen' | 'läuft' | 'laufen'\n",
    "\"\"\")"
   ]
  },
  {
   "cell_type": "code",
   "execution_count": 4,
   "metadata": {},
   "outputs": [],
   "source": [
    "pos_sent = \"der Hund sieht die Katze\""
   ]
  },
  {
   "cell_type": "code",
   "execution_count": 5,
   "metadata": {},
   "outputs": [
    {
     "name": "stdout",
     "output_type": "stream",
     "text": [
      "               S                \n",
      "     ┌─────────┴────┐            \n",
      "     │              VP          \n",
      "     │         ┌────┴───┐        \n",
      "     NP        │        NP      \n",
      " ┌───┴───┐     │    ┌───┴────┐   \n",
      "DET      N     V   DET       N  \n",
      " │       │     │    │        │   \n",
      "der     Hund sieht die     Katze\n",
      "\n"
     ]
    }
   ],
   "source": [
    "parser = nltk.ChartParser(grammar)\n",
    "trees = list(parser.parse(pos_sent.split()))\n",
    "if trees: [tree.pretty_print(unicodelines=True) for tree in trees]\n",
    "else: print(f\"no parse found for: {sent}\")"
   ]
  },
  {
   "cell_type": "code",
   "execution_count": 6,
   "metadata": {},
   "outputs": [],
   "source": [
    "neg_sents = [\n",
    "    \"der Hund sieht\", #Subkategorisierung\n",
    "    \"dem Hund sieht der Katze\", #Kasus (Subjekt- und Objektkasus)\n",
    "    \"der Hund sehen die Katze\", #verbales Agreement (Subjekt-Verb-Kongruenz)\n",
    "]"
   ]
  },
  {
   "cell_type": "code",
   "execution_count": 7,
   "metadata": {},
   "outputs": [
    {
     "name": "stdout",
     "output_type": "stream",
     "text": [
      "         S        \n",
      "     ┌───┴─────┐   \n",
      "     NP        VP \n",
      " ┌───┴───┐     │   \n",
      "DET      N     V  \n",
      " │       │     │   \n",
      "der     Hund sieht\n",
      "\n",
      "               S                \n",
      "     ┌─────────┴────┐            \n",
      "     │              VP          \n",
      "     │         ┌────┴───┐        \n",
      "     NP        │        NP      \n",
      " ┌───┴───┐     │    ┌───┴────┐   \n",
      "DET      N     V   DET       N  \n",
      " │       │     │    │        │   \n",
      "dem     Hund sieht der     Katze\n",
      "\n",
      "               S                \n",
      "     ┌─────────┴────┐            \n",
      "     │              VP          \n",
      "     │         ┌────┴───┐        \n",
      "     NP        │        NP      \n",
      " ┌───┴───┐     │    ┌───┴────┐   \n",
      "DET      N     V   DET       N  \n",
      " │       │     │    │        │   \n",
      "der     Hund sehen die     Katze\n",
      "\n"
     ]
    }
   ],
   "source": [
    "parser = nltk.ChartParser(grammar)\n",
    "for sent in neg_sents:\n",
    "    trees = list(parser.parse(sent.split()))\n",
    "    if trees: [tree.pretty_print(unicodelines=True) for tree in trees]\n",
    "    else: print(f\"no parse found for: {sent}\")"
   ]
  },
  {
   "cell_type": "markdown",
   "metadata": {},
   "source": [
    "### b) Fügen Sie schrittweise Constraints hinzu um diese drei Überproduktionen zu verhindern.\n"
   ]
  },
  {
   "cell_type": "code",
   "execution_count": 8,
   "metadata": {},
   "outputs": [],
   "source": [
    "#Lösung Teil 1: Subkategorisierung\n",
    "grammar = FeatureGrammar.fromstring(r\"\"\"\n",
    "% start S\n",
    "\n",
    "S -> NP VP\n",
    "NP -> DET N\n",
    "VP -> V[SUBCAT=0]\n",
    "VP -> V[SUBCAT=1] NP\n",
    "\n",
    "DET -> 'der' | 'dem' | 'den' | 'die'\n",
    "N -> 'Hund' | 'Hunde' |'Hunden' |'Katze' |'Katzen'\n",
    "\n",
    "V[SUBCAT=1] -> 'sieht'\n",
    "V[SUBCAT=1] -> 'sehen'\n",
    "V[SUBCAT=1] -> 'hilft'\n",
    "V[SUBCAT=1] -> 'helfen'\n",
    "V[SUBCAT=0] -> 'läuft'\n",
    "V[SUBCAT=0] -> 'laufen' \n",
    "\"\"\")"
   ]
  },
  {
   "cell_type": "code",
   "execution_count": 9,
   "metadata": {},
   "outputs": [
    {
     "name": "stdout",
     "output_type": "stream",
     "text": [
      "no parse found for: der Hund sieht\n"
     ]
    },
    {
     "data": {
      "image/svg+xml": [
       "<svg baseProfile=\"full\" height=\"216px\" preserveAspectRatio=\"xMidYMid meet\" style=\"font-family: times, serif; font-weight:normal; font-style: normal; font-size: 16px;\" version=\"1.1\" viewBox=\"0,0,320.0,216.0\" width=\"320px\" xmlns=\"http://www.w3.org/2000/svg\" xmlns:ev=\"http://www.w3.org/2001/xml-events\" xmlns:xlink=\"http://www.w3.org/1999/xlink\"><defs /><svg width=\"100%\" x=\"0\" y=\"0em\"><defs /><text text-anchor=\"middle\" x=\"50%\" y=\"1em\">S[]</text></svg><svg width=\"32.5%\" x=\"0%\" y=\"3em\"><defs /><svg width=\"100%\" x=\"0\" y=\"0em\"><defs /><text text-anchor=\"middle\" x=\"50%\" y=\"1em\">NP[]</text></svg><svg width=\"53.8462%\" x=\"0%\" y=\"3em\"><defs /><svg width=\"100%\" x=\"0\" y=\"0em\"><defs /><text text-anchor=\"middle\" x=\"50%\" y=\"1em\">DET[]</text></svg><svg width=\"100%\" x=\"0%\" y=\"3em\"><defs /><svg width=\"100%\" x=\"0\" y=\"0em\"><defs /><text text-anchor=\"middle\" x=\"50%\" y=\"1em\">dem</text></svg></svg><line stroke=\"black\" x1=\"50%\" x2=\"50%\" y1=\"1.2em\" y2=\"3em\" /></svg><line stroke=\"black\" x1=\"50%\" x2=\"26.9231%\" y1=\"1.2em\" y2=\"3em\" /><svg width=\"46.1538%\" x=\"53.8462%\" y=\"3em\"><defs /><svg width=\"100%\" x=\"0\" y=\"0em\"><defs /><text text-anchor=\"middle\" x=\"50%\" y=\"1em\">N[]</text></svg><svg width=\"100%\" x=\"0%\" y=\"3em\"><defs /><svg width=\"100%\" x=\"0\" y=\"0em\"><defs /><text text-anchor=\"middle\" x=\"50%\" y=\"1em\">Hund</text></svg></svg><line stroke=\"black\" x1=\"50%\" x2=\"50%\" y1=\"1.2em\" y2=\"3em\" /></svg><line stroke=\"black\" x1=\"50%\" x2=\"76.9231%\" y1=\"1.2em\" y2=\"3em\" /></svg><line stroke=\"black\" x1=\"50%\" x2=\"16.25%\" y1=\"1.2em\" y2=\"3em\" /><svg width=\"67.5%\" x=\"32.5%\" y=\"3em\"><defs /><svg width=\"100%\" x=\"0\" y=\"0em\"><defs /><text text-anchor=\"middle\" x=\"50%\" y=\"1em\">VP[]</text></svg><svg width=\"48.1481%\" x=\"0%\" y=\"3em\"><defs /><svg width=\"100%\" x=\"0\" y=\"0em\"><defs /><text text-anchor=\"middle\" x=\"50%\" y=\"1em\">V[SUBCAT=1]</text></svg><svg width=\"100%\" x=\"0%\" y=\"3em\"><defs /><svg width=\"100%\" x=\"0\" y=\"0em\"><defs /><text text-anchor=\"middle\" x=\"50%\" y=\"1em\">sieht</text></svg></svg><line stroke=\"black\" x1=\"50%\" x2=\"50%\" y1=\"1.2em\" y2=\"3em\" /></svg><line stroke=\"black\" x1=\"50%\" x2=\"24.0741%\" y1=\"1.2em\" y2=\"3em\" /><svg width=\"51.8519%\" x=\"48.1481%\" y=\"3em\"><defs /><svg width=\"100%\" x=\"0\" y=\"0em\"><defs /><text text-anchor=\"middle\" x=\"50%\" y=\"1em\">NP[]</text></svg><svg width=\"50%\" x=\"0%\" y=\"3em\"><defs /><svg width=\"100%\" x=\"0\" y=\"0em\"><defs /><text text-anchor=\"middle\" x=\"50%\" y=\"1em\">DET[]</text></svg><svg width=\"100%\" x=\"0%\" y=\"3em\"><defs /><svg width=\"100%\" x=\"0\" y=\"0em\"><defs /><text text-anchor=\"middle\" x=\"50%\" y=\"1em\">der</text></svg></svg><line stroke=\"black\" x1=\"50%\" x2=\"50%\" y1=\"1.2em\" y2=\"3em\" /></svg><line stroke=\"black\" x1=\"50%\" x2=\"25%\" y1=\"1.2em\" y2=\"3em\" /><svg width=\"50%\" x=\"50%\" y=\"3em\"><defs /><svg width=\"100%\" x=\"0\" y=\"0em\"><defs /><text text-anchor=\"middle\" x=\"50%\" y=\"1em\">N[]</text></svg><svg width=\"100%\" x=\"0%\" y=\"3em\"><defs /><svg width=\"100%\" x=\"0\" y=\"0em\"><defs /><text text-anchor=\"middle\" x=\"50%\" y=\"1em\">Katze</text></svg></svg><line stroke=\"black\" x1=\"50%\" x2=\"50%\" y1=\"1.2em\" y2=\"3em\" /></svg><line stroke=\"black\" x1=\"50%\" x2=\"75%\" y1=\"1.2em\" y2=\"3em\" /></svg><line stroke=\"black\" x1=\"50%\" x2=\"74.0741%\" y1=\"1.2em\" y2=\"3em\" /></svg><line stroke=\"black\" x1=\"50%\" x2=\"66.25%\" y1=\"1.2em\" y2=\"3em\" /></svg>"
      ],
      "text/plain": [
       "Tree('S[]', [Tree('NP[]', [Tree('DET[]', ['dem']), Tree('N[]', ['Hund'])]), Tree('VP[]', [Tree('V[SUBCAT=1]', ['sieht']), Tree('NP[]', [Tree('DET[]', ['der']), Tree('N[]', ['Katze'])])])])"
      ]
     },
     "metadata": {},
     "output_type": "display_data"
    },
    {
     "data": {
      "image/svg+xml": [
       "<svg baseProfile=\"full\" height=\"216px\" preserveAspectRatio=\"xMidYMid meet\" style=\"font-family: times, serif; font-weight:normal; font-style: normal; font-size: 16px;\" version=\"1.1\" viewBox=\"0,0,320.0,216.0\" width=\"320px\" xmlns=\"http://www.w3.org/2000/svg\" xmlns:ev=\"http://www.w3.org/2001/xml-events\" xmlns:xlink=\"http://www.w3.org/1999/xlink\"><defs /><svg width=\"100%\" x=\"0\" y=\"0em\"><defs /><text text-anchor=\"middle\" x=\"50%\" y=\"1em\">S[]</text></svg><svg width=\"32.5%\" x=\"0%\" y=\"3em\"><defs /><svg width=\"100%\" x=\"0\" y=\"0em\"><defs /><text text-anchor=\"middle\" x=\"50%\" y=\"1em\">NP[]</text></svg><svg width=\"53.8462%\" x=\"0%\" y=\"3em\"><defs /><svg width=\"100%\" x=\"0\" y=\"0em\"><defs /><text text-anchor=\"middle\" x=\"50%\" y=\"1em\">DET[]</text></svg><svg width=\"100%\" x=\"0%\" y=\"3em\"><defs /><svg width=\"100%\" x=\"0\" y=\"0em\"><defs /><text text-anchor=\"middle\" x=\"50%\" y=\"1em\">der</text></svg></svg><line stroke=\"black\" x1=\"50%\" x2=\"50%\" y1=\"1.2em\" y2=\"3em\" /></svg><line stroke=\"black\" x1=\"50%\" x2=\"26.9231%\" y1=\"1.2em\" y2=\"3em\" /><svg width=\"46.1538%\" x=\"53.8462%\" y=\"3em\"><defs /><svg width=\"100%\" x=\"0\" y=\"0em\"><defs /><text text-anchor=\"middle\" x=\"50%\" y=\"1em\">N[]</text></svg><svg width=\"100%\" x=\"0%\" y=\"3em\"><defs /><svg width=\"100%\" x=\"0\" y=\"0em\"><defs /><text text-anchor=\"middle\" x=\"50%\" y=\"1em\">Hund</text></svg></svg><line stroke=\"black\" x1=\"50%\" x2=\"50%\" y1=\"1.2em\" y2=\"3em\" /></svg><line stroke=\"black\" x1=\"50%\" x2=\"76.9231%\" y1=\"1.2em\" y2=\"3em\" /></svg><line stroke=\"black\" x1=\"50%\" x2=\"16.25%\" y1=\"1.2em\" y2=\"3em\" /><svg width=\"67.5%\" x=\"32.5%\" y=\"3em\"><defs /><svg width=\"100%\" x=\"0\" y=\"0em\"><defs /><text text-anchor=\"middle\" x=\"50%\" y=\"1em\">VP[]</text></svg><svg width=\"48.1481%\" x=\"0%\" y=\"3em\"><defs /><svg width=\"100%\" x=\"0\" y=\"0em\"><defs /><text text-anchor=\"middle\" x=\"50%\" y=\"1em\">V[SUBCAT=1]</text></svg><svg width=\"100%\" x=\"0%\" y=\"3em\"><defs /><svg width=\"100%\" x=\"0\" y=\"0em\"><defs /><text text-anchor=\"middle\" x=\"50%\" y=\"1em\">sehen</text></svg></svg><line stroke=\"black\" x1=\"50%\" x2=\"50%\" y1=\"1.2em\" y2=\"3em\" /></svg><line stroke=\"black\" x1=\"50%\" x2=\"24.0741%\" y1=\"1.2em\" y2=\"3em\" /><svg width=\"51.8519%\" x=\"48.1481%\" y=\"3em\"><defs /><svg width=\"100%\" x=\"0\" y=\"0em\"><defs /><text text-anchor=\"middle\" x=\"50%\" y=\"1em\">NP[]</text></svg><svg width=\"50%\" x=\"0%\" y=\"3em\"><defs /><svg width=\"100%\" x=\"0\" y=\"0em\"><defs /><text text-anchor=\"middle\" x=\"50%\" y=\"1em\">DET[]</text></svg><svg width=\"100%\" x=\"0%\" y=\"3em\"><defs /><svg width=\"100%\" x=\"0\" y=\"0em\"><defs /><text text-anchor=\"middle\" x=\"50%\" y=\"1em\">die</text></svg></svg><line stroke=\"black\" x1=\"50%\" x2=\"50%\" y1=\"1.2em\" y2=\"3em\" /></svg><line stroke=\"black\" x1=\"50%\" x2=\"25%\" y1=\"1.2em\" y2=\"3em\" /><svg width=\"50%\" x=\"50%\" y=\"3em\"><defs /><svg width=\"100%\" x=\"0\" y=\"0em\"><defs /><text text-anchor=\"middle\" x=\"50%\" y=\"1em\">N[]</text></svg><svg width=\"100%\" x=\"0%\" y=\"3em\"><defs /><svg width=\"100%\" x=\"0\" y=\"0em\"><defs /><text text-anchor=\"middle\" x=\"50%\" y=\"1em\">Katze</text></svg></svg><line stroke=\"black\" x1=\"50%\" x2=\"50%\" y1=\"1.2em\" y2=\"3em\" /></svg><line stroke=\"black\" x1=\"50%\" x2=\"75%\" y1=\"1.2em\" y2=\"3em\" /></svg><line stroke=\"black\" x1=\"50%\" x2=\"74.0741%\" y1=\"1.2em\" y2=\"3em\" /></svg><line stroke=\"black\" x1=\"50%\" x2=\"66.25%\" y1=\"1.2em\" y2=\"3em\" /></svg>"
      ],
      "text/plain": [
       "Tree('S[]', [Tree('NP[]', [Tree('DET[]', ['der']), Tree('N[]', ['Hund'])]), Tree('VP[]', [Tree('V[SUBCAT=1]', ['sehen']), Tree('NP[]', [Tree('DET[]', ['die']), Tree('N[]', ['Katze'])])])])"
      ]
     },
     "metadata": {},
     "output_type": "display_data"
    }
   ],
   "source": [
    "parser = nltk.FeatureChartParser(grammar)\n",
    "for sent in neg_sents:\n",
    "    trees = list(parser.parse(sent.split()))\n",
    "    if trees: [show_FeatTree(tree, style=1) for tree in trees]\n",
    "    else: print(f\"no parse found for: {sent}\")"
   ]
  },
  {
   "cell_type": "code",
   "execution_count": 10,
   "metadata": {},
   "outputs": [],
   "source": [
    "#Lösung Teil 2: Kasus-Constraints (Subjekt- und Objektkasus)\n",
    "grammar = FeatureGrammar.fromstring(r\"\"\"\n",
    "% start S\n",
    "\n",
    "S -> NP[CASE=nom] VP\n",
    "NP[CASE=?x] -> DET[CASE=?x] N[CASE=?x]\n",
    "VP -> V[SUBCAT=0]\n",
    "VP -> V[SUBCAT=1, OBJCASE=?x] NP[CASE=?x]\n",
    "\n",
    "DET[CASE=nom] -> 'der'\n",
    "DET[CASE=dat] -> 'dem'\n",
    "DET[CASE=akk] -> 'den'\n",
    "DET[CASE=nom] -> 'die'\n",
    "\n",
    "N[CASE=nom] -> 'Hund'\n",
    "N[CASE=nom] -> 'Hunde'\n",
    "N[CASE=akk] -> 'Hunden'\n",
    "N -> 'Katze'\n",
    "N -> 'Katzen'\n",
    "\n",
    "V[SUBCAT=1] -> 'sieht'\n",
    "V[SUBCAT=1] -> 'sehen'\n",
    "V[SUBCAT=1] -> 'hilft'\n",
    "V[SUBCAT=1] -> 'helfen'\n",
    "V[SUBCAT=0] -> 'läuft'\n",
    "V[SUBCAT=0] -> 'laufen'\n",
    "\"\"\")"
   ]
  },
  {
   "cell_type": "code",
   "execution_count": 11,
   "metadata": {},
   "outputs": [
    {
     "name": "stdout",
     "output_type": "stream",
     "text": [
      "no parse found for: der Hund sieht\n",
      "no parse found for: dem Hund sieht der Katze\n"
     ]
    },
    {
     "data": {
      "image/svg+xml": [
       "<svg baseProfile=\"full\" height=\"216px\" preserveAspectRatio=\"xMidYMid meet\" style=\"font-family: times, serif; font-weight:normal; font-style: normal; font-size: 16px;\" version=\"1.1\" viewBox=\"0,0,552.0,216.0\" width=\"552px\" xmlns=\"http://www.w3.org/2000/svg\" xmlns:ev=\"http://www.w3.org/2001/xml-events\" xmlns:xlink=\"http://www.w3.org/1999/xlink\"><defs /><svg width=\"100%\" x=\"0\" y=\"0em\"><defs /><text text-anchor=\"middle\" x=\"50%\" y=\"1em\">S[]</text></svg><svg width=\"46.3768%\" x=\"0%\" y=\"3em\"><defs /><svg width=\"100%\" x=\"0\" y=\"0em\"><defs /><text text-anchor=\"middle\" x=\"50%\" y=\"1em\">NP[CASE='nom']</text></svg><svg width=\"53.125%\" x=\"0%\" y=\"3em\"><defs /><svg width=\"100%\" x=\"0\" y=\"0em\"><defs /><text text-anchor=\"middle\" x=\"50%\" y=\"1em\">DET[CASE='nom']</text></svg><svg width=\"100%\" x=\"0%\" y=\"3em\"><defs /><svg width=\"100%\" x=\"0\" y=\"0em\"><defs /><text text-anchor=\"middle\" x=\"50%\" y=\"1em\">der</text></svg></svg><line stroke=\"black\" x1=\"50%\" x2=\"50%\" y1=\"1.2em\" y2=\"3em\" /></svg><line stroke=\"black\" x1=\"50%\" x2=\"26.5625%\" y1=\"1.2em\" y2=\"3em\" /><svg width=\"46.875%\" x=\"53.125%\" y=\"3em\"><defs /><svg width=\"100%\" x=\"0\" y=\"0em\"><defs /><text text-anchor=\"middle\" x=\"50%\" y=\"1em\">N[CASE='nom']</text></svg><svg width=\"100%\" x=\"0%\" y=\"3em\"><defs /><svg width=\"100%\" x=\"0\" y=\"0em\"><defs /><text text-anchor=\"middle\" x=\"50%\" y=\"1em\">Hund</text></svg></svg><line stroke=\"black\" x1=\"50%\" x2=\"50%\" y1=\"1.2em\" y2=\"3em\" /></svg><line stroke=\"black\" x1=\"50%\" x2=\"76.5625%\" y1=\"1.2em\" y2=\"3em\" /></svg><line stroke=\"black\" x1=\"50%\" x2=\"23.1884%\" y1=\"1.2em\" y2=\"3em\" /><svg width=\"53.6232%\" x=\"46.3768%\" y=\"3em\"><defs /><svg width=\"100%\" x=\"0\" y=\"0em\"><defs /><text text-anchor=\"middle\" x=\"50%\" y=\"1em\">VP[]</text></svg><svg width=\"35.1351%\" x=\"0%\" y=\"3em\"><defs /><svg width=\"100%\" x=\"0\" y=\"0em\"><defs /><text text-anchor=\"middle\" x=\"50%\" y=\"1em\">V[SUBCAT=1]</text></svg><svg width=\"100%\" x=\"0%\" y=\"3em\"><defs /><svg width=\"100%\" x=\"0\" y=\"0em\"><defs /><text text-anchor=\"middle\" x=\"50%\" y=\"1em\">sehen</text></svg></svg><line stroke=\"black\" x1=\"50%\" x2=\"50%\" y1=\"1.2em\" y2=\"3em\" /></svg><line stroke=\"black\" x1=\"50%\" x2=\"17.5676%\" y1=\"1.2em\" y2=\"3em\" /><svg width=\"64.8649%\" x=\"35.1351%\" y=\"3em\"><defs /><svg width=\"100%\" x=\"0\" y=\"0em\"><defs /><text text-anchor=\"middle\" x=\"50%\" y=\"1em\">NP[CASE='nom']</text></svg><svg width=\"70.8333%\" x=\"0%\" y=\"3em\"><defs /><svg width=\"100%\" x=\"0\" y=\"0em\"><defs /><text text-anchor=\"middle\" x=\"50%\" y=\"1em\">DET[CASE='nom']</text></svg><svg width=\"100%\" x=\"0%\" y=\"3em\"><defs /><svg width=\"100%\" x=\"0\" y=\"0em\"><defs /><text text-anchor=\"middle\" x=\"50%\" y=\"1em\">die</text></svg></svg><line stroke=\"black\" x1=\"50%\" x2=\"50%\" y1=\"1.2em\" y2=\"3em\" /></svg><line stroke=\"black\" x1=\"50%\" x2=\"35.4167%\" y1=\"1.2em\" y2=\"3em\" /><svg width=\"29.1667%\" x=\"70.8333%\" y=\"3em\"><defs /><svg width=\"100%\" x=\"0\" y=\"0em\"><defs /><text text-anchor=\"middle\" x=\"50%\" y=\"1em\">N[]</text></svg><svg width=\"100%\" x=\"0%\" y=\"3em\"><defs /><svg width=\"100%\" x=\"0\" y=\"0em\"><defs /><text text-anchor=\"middle\" x=\"50%\" y=\"1em\">Katze</text></svg></svg><line stroke=\"black\" x1=\"50%\" x2=\"50%\" y1=\"1.2em\" y2=\"3em\" /></svg><line stroke=\"black\" x1=\"50%\" x2=\"85.4167%\" y1=\"1.2em\" y2=\"3em\" /></svg><line stroke=\"black\" x1=\"50%\" x2=\"67.5676%\" y1=\"1.2em\" y2=\"3em\" /></svg><line stroke=\"black\" x1=\"50%\" x2=\"73.1884%\" y1=\"1.2em\" y2=\"3em\" /></svg>"
      ],
      "text/plain": [
       "Tree('S[]', [Tree(\"NP[CASE='nom']\", [Tree(\"DET[CASE='nom']\", ['der']), Tree(\"N[CASE='nom']\", ['Hund'])]), Tree('VP[]', [Tree('V[SUBCAT=1]', ['sehen']), Tree(\"NP[CASE='nom']\", [Tree(\"DET[CASE='nom']\", ['die']), Tree('N[]', ['Katze'])])])])"
      ]
     },
     "metadata": {},
     "output_type": "display_data"
    }
   ],
   "source": [
    "parser = nltk.FeatureChartParser(grammar)\n",
    "for sent in neg_sents:\n",
    "    trees = list(parser.parse(sent.split()))\n",
    "    if trees: [show_FeatTree(tree, style=1) for tree in trees]\n",
    "    else: print(f\"no parse found for: {sent}\")"
   ]
  },
  {
   "cell_type": "code",
   "execution_count": 12,
   "metadata": {},
   "outputs": [],
   "source": [
    "#Lösung Teil 3: Agreement (DET:N und Subjekt-NP:VP)\n",
    "grammar = FeatureGrammar.fromstring(r\"\"\"\n",
    "% start S\n",
    "    ## Subjekt-Kasusrektion: <NP CASE> = nom\n",
    "    ## Subjekt-Verb-Agreement: <NP AGR> = <VP AGR> \n",
    "S -> NP[CASE=nom, AGR=?y] VP[AGR=?y]\n",
    "    ## nominales Agreement = Zeile 6: <Det AGR> = <N AGR>\n",
    "NP[CASE=?x, AGR=?y] -> DET[CASE=?x, AGR=?y] N[CASE=?x, AGR=?y]\n",
    "    ## Subkategorisierung: <V SUBCAT>= 0/1\n",
    "VP[AGR=?y] -> V[SUBCAT=0, AGR=?y]\n",
    "    ## Objekt-Kasusrektion: <V OBJCASE> = <NP CASE>\n",
    "VP[AGR=?y] -> V[SUBCAT=1, OBJCASE=?x, AGR=?y] NP[CASE=?x]\n",
    "\n",
    "# masc\n",
    "DET[CASE=nom, AGR=[GND=masc,PER=3,NUM=sg]] -> 'der' \n",
    "DET[CASE=dat, AGR=[GND=masc,PER=3,NUM=sg]] -> 'dem'\n",
    "DET[CASE=acc, AGR=[GND=masc,PER=3,NUM=sg]] -> 'den'\n",
    "\n",
    "# fem\n",
    "DET[CASE=nom, AGR=[GND=fem,PER=3,NUM=sg]] -> 'die' \n",
    "DET[CASE=dat, AGR=[GND=fem,PER=3,NUM=sg]] -> 'der'\n",
    "DET[CASE=acc, AGR=[GND=fem,PER=3,NUM=sg]] -> 'die' \n",
    "\n",
    "# Plural determiners\n",
    "DET[CASE=nom, AGR=[PER=3,NUM=pl]] -> 'die' \n",
    "DET[CASE=dat, AGR=[PER=3,NUM=pl]] -> 'den' \n",
    "DET[CASE=acc, AGR=[PER=3,NUM=pl]] -> 'die' \n",
    "\n",
    "# Nouns\n",
    "N[AGR=[GND=masc,PER=3,NUM=sg]] -> 'Hund'\n",
    "N[CASE=nom, AGR=[GND=masc,PER=3,NUM=pl]] -> 'Hunde'\n",
    "N[CASE=dat, AGR=[GND=masc,PER=3,NUM=pl]] -> 'Hunden'\n",
    "N[CASE=acc, AGR=[GND=masc,PER=3,NUM=pl]] -> 'Hunde'\n",
    "\n",
    "N[AGR=[GND=fem,PER=3,NUM=sg]] -> 'Katze'\n",
    "N[AGR=[GND=fem,PER=3,NUM=pl]] -> 'Katzen'\n",
    "\n",
    "# Verbs\n",
    "V[OBJCASE=acc, AGR=[NUM=sg,PER=3], SUBCAT=1] -> 'sieht'\n",
    "V[OBJCASE=acc, AGR=[NUM=pl,PER=3], SUBCAT=1] -> 'sehen'\n",
    "V[OBJCASE=dat, AGR=[NUM=sg,PER=3], SUBCAT=1] -> 'hilft'\n",
    "V[OBJCASE=dat, AGR=[NUM=pl,PER=3], SUBCAT=1] -> 'helfen'\n",
    "V[AGR=[NUM=sg,PER=3], SUBCAT=0] -> 'läuft'\n",
    "V[AGR=[NUM=pl,PER=3], SUBCAT=0] -> 'laufen' \n",
    "\"\"\")"
   ]
  },
  {
   "cell_type": "code",
   "execution_count": 13,
   "metadata": {},
   "outputs": [
    {
     "name": "stdout",
     "output_type": "stream",
     "text": [
      "no parse found for: der Hund sieht\n",
      "no parse found for: dem Hund sieht der Katze\n",
      "no parse found for: der Hund sehen die Katze\n"
     ]
    }
   ],
   "source": [
    "parser = nltk.FeatureChartParser(grammar)\n",
    "for sent in neg_sents:\n",
    "    trees = list(parser.parse(sent.split()))\n",
    "    if trees: [show_FeatTree(tree, style=1) for tree in trees]\n",
    "    else: print(f\"no parse found for: {sent}\")"
   ]
  },
  {
   "cell_type": "markdown",
   "metadata": {},
   "source": [
    "### c) Testen Sie abschließend, ob folgende Sätze weiterhin erkannt werden:"
   ]
  },
  {
   "cell_type": "code",
   "execution_count": 14,
   "metadata": {},
   "outputs": [],
   "source": [
    "pos_sents = [\n",
    "    \"der Hund sieht die Katze\", \n",
    "    \"die Hunde laufen\",\n",
    "    \"der Hund läuft\"\n",
    "]"
   ]
  },
  {
   "cell_type": "code",
   "execution_count": 15,
   "metadata": {},
   "outputs": [
    {
     "data": {
      "image/svg+xml": [
       "<svg baseProfile=\"full\" height=\"216px\" preserveAspectRatio=\"xMidYMid meet\" style=\"font-family: times, serif; font-weight:normal; font-style: normal; font-size: 16px;\" version=\"1.1\" viewBox=\"0,0,1728.0,216.0\" width=\"1728px\" xmlns=\"http://www.w3.org/2000/svg\" xmlns:ev=\"http://www.w3.org/2001/xml-events\" xmlns:xlink=\"http://www.w3.org/1999/xlink\"><defs /><svg width=\"100%\" x=\"0\" y=\"0em\"><defs /><text text-anchor=\"middle\" x=\"50%\" y=\"1em\">S[]</text></svg><svg width=\"39.3519%\" x=\"0%\" y=\"3em\"><defs /><svg width=\"100%\" x=\"0\" y=\"0em\"><defs /><text text-anchor=\"middle\" x=\"50%\" y=\"1em\">NP[AGR=[GND='masc',NUM='sg',PER=3],CASE='nom']</text></svg><svg width=\"57.6471%\" x=\"0%\" y=\"3em\"><defs /><svg width=\"100%\" x=\"0\" y=\"0em\"><defs /><text text-anchor=\"middle\" x=\"50%\" y=\"1em\">DET[AGR=[GND='masc',NUM='sg',PER=3],CASE='nom']</text></svg><svg width=\"100%\" x=\"0%\" y=\"3em\"><defs /><svg width=\"100%\" x=\"0\" y=\"0em\"><defs /><text text-anchor=\"middle\" x=\"50%\" y=\"1em\">der</text></svg></svg><line stroke=\"black\" x1=\"50%\" x2=\"50%\" y1=\"1.2em\" y2=\"3em\" /></svg><line stroke=\"black\" x1=\"50%\" x2=\"28.8235%\" y1=\"1.2em\" y2=\"3em\" /><svg width=\"42.3529%\" x=\"57.6471%\" y=\"3em\"><defs /><svg width=\"100%\" x=\"0\" y=\"0em\"><defs /><text text-anchor=\"middle\" x=\"50%\" y=\"1em\">N[AGR=[GND='masc',NUM='sg',PER=3]]</text></svg><svg width=\"100%\" x=\"0%\" y=\"3em\"><defs /><svg width=\"100%\" x=\"0\" y=\"0em\"><defs /><text text-anchor=\"middle\" x=\"50%\" y=\"1em\">Hund</text></svg></svg><line stroke=\"black\" x1=\"50%\" x2=\"50%\" y1=\"1.2em\" y2=\"3em\" /></svg><line stroke=\"black\" x1=\"50%\" x2=\"78.8235%\" y1=\"1.2em\" y2=\"3em\" /></svg><line stroke=\"black\" x1=\"50%\" x2=\"19.6759%\" y1=\"1.2em\" y2=\"3em\" /><svg width=\"60.6481%\" x=\"39.3519%\" y=\"3em\"><defs /><svg width=\"100%\" x=\"0\" y=\"0em\"><defs /><text text-anchor=\"middle\" x=\"50%\" y=\"1em\">VP[AGR=[NUM='sg',PER=3]]</text></svg><svg width=\"36.6412%\" x=\"0%\" y=\"3em\"><defs /><svg width=\"100%\" x=\"0\" y=\"0em\"><defs /><text text-anchor=\"middle\" x=\"50%\" y=\"1em\">V[AGR=[NUM='sg',PER=3],OBJCASE='acc',SUBCAT=1]</text></svg><svg width=\"100%\" x=\"0%\" y=\"3em\"><defs /><svg width=\"100%\" x=\"0\" y=\"0em\"><defs /><text text-anchor=\"middle\" x=\"50%\" y=\"1em\">sieht</text></svg></svg><line stroke=\"black\" x1=\"50%\" x2=\"50%\" y1=\"1.2em\" y2=\"3em\" /></svg><line stroke=\"black\" x1=\"50%\" x2=\"18.3206%\" y1=\"1.2em\" y2=\"3em\" /><svg width=\"63.3588%\" x=\"36.6412%\" y=\"3em\"><defs /><svg width=\"100%\" x=\"0\" y=\"0em\"><defs /><text text-anchor=\"middle\" x=\"50%\" y=\"1em\">NP[AGR=[GND='fem',NUM='sg',PER=3],CASE='acc']</text></svg><svg width=\"57.8313%\" x=\"0%\" y=\"3em\"><defs /><svg width=\"100%\" x=\"0\" y=\"0em\"><defs /><text text-anchor=\"middle\" x=\"50%\" y=\"1em\">DET[AGR=[GND='fem',NUM='sg',PER=3],CASE='acc']</text></svg><svg width=\"100%\" x=\"0%\" y=\"3em\"><defs /><svg width=\"100%\" x=\"0\" y=\"0em\"><defs /><text text-anchor=\"middle\" x=\"50%\" y=\"1em\">die</text></svg></svg><line stroke=\"black\" x1=\"50%\" x2=\"50%\" y1=\"1.2em\" y2=\"3em\" /></svg><line stroke=\"black\" x1=\"50%\" x2=\"28.9157%\" y1=\"1.2em\" y2=\"3em\" /><svg width=\"42.1687%\" x=\"57.8313%\" y=\"3em\"><defs /><svg width=\"100%\" x=\"0\" y=\"0em\"><defs /><text text-anchor=\"middle\" x=\"50%\" y=\"1em\">N[AGR=[GND='fem',NUM='sg',PER=3]]</text></svg><svg width=\"100%\" x=\"0%\" y=\"3em\"><defs /><svg width=\"100%\" x=\"0\" y=\"0em\"><defs /><text text-anchor=\"middle\" x=\"50%\" y=\"1em\">Katze</text></svg></svg><line stroke=\"black\" x1=\"50%\" x2=\"50%\" y1=\"1.2em\" y2=\"3em\" /></svg><line stroke=\"black\" x1=\"50%\" x2=\"78.9157%\" y1=\"1.2em\" y2=\"3em\" /></svg><line stroke=\"black\" x1=\"50%\" x2=\"68.3206%\" y1=\"1.2em\" y2=\"3em\" /></svg><line stroke=\"black\" x1=\"50%\" x2=\"69.6759%\" y1=\"1.2em\" y2=\"3em\" /></svg>"
      ],
      "text/plain": [
       "Tree('S[]', [Tree(\"NP[AGR=[GND='masc',NUM='sg',PER=3],CASE='nom']\", [Tree(\"DET[AGR=[GND='masc',NUM='sg',PER=3],CASE='nom']\", ['der']), Tree(\"N[AGR=[GND='masc',NUM='sg',PER=3]]\", ['Hund'])]), Tree(\"VP[AGR=[NUM='sg',PER=3]]\", [Tree(\"V[AGR=[NUM='sg',PER=3],OBJCASE='acc',SUBCAT=1]\", ['sieht']), Tree(\"NP[AGR=[GND='fem',NUM='sg',PER=3],CASE='acc']\", [Tree(\"DET[AGR=[GND='fem',NUM='sg',PER=3],CASE='acc']\", ['die']), Tree(\"N[AGR=[GND='fem',NUM='sg',PER=3]]\", ['Katze'])])])])"
      ]
     },
     "metadata": {},
     "output_type": "display_data"
    },
    {
     "data": {
      "image/svg+xml": [
       "<svg baseProfile=\"full\" height=\"168px\" preserveAspectRatio=\"xMidYMid meet\" style=\"font-family: times, serif; font-weight:normal; font-style: normal; font-size: 16px;\" version=\"1.1\" viewBox=\"0,0,952.0,168.0\" width=\"952px\" xmlns=\"http://www.w3.org/2000/svg\" xmlns:ev=\"http://www.w3.org/2001/xml-events\" xmlns:xlink=\"http://www.w3.org/1999/xlink\"><defs /><svg width=\"100%\" x=\"0\" y=\"0em\"><defs /><text text-anchor=\"middle\" x=\"50%\" y=\"1em\">S[]</text></svg><svg width=\"71.4286%\" x=\"0%\" y=\"3em\"><defs /><svg width=\"100%\" x=\"0\" y=\"0em\"><defs /><text text-anchor=\"middle\" x=\"50%\" y=\"1em\">NP[AGR=[GND='masc',NUM='pl',PER=3],CASE='nom']</text></svg><svg width=\"44.7059%\" x=\"0%\" y=\"3em\"><defs /><svg width=\"100%\" x=\"0\" y=\"0em\"><defs /><text text-anchor=\"middle\" x=\"50%\" y=\"1em\">DET[AGR=[NUM='pl',PER=3],CASE='nom']</text></svg><svg width=\"100%\" x=\"0%\" y=\"3em\"><defs /><svg width=\"100%\" x=\"0\" y=\"0em\"><defs /><text text-anchor=\"middle\" x=\"50%\" y=\"1em\">die</text></svg></svg><line stroke=\"black\" x1=\"50%\" x2=\"50%\" y1=\"1.2em\" y2=\"3em\" /></svg><line stroke=\"black\" x1=\"50%\" x2=\"22.3529%\" y1=\"1.2em\" y2=\"3em\" /><svg width=\"55.2941%\" x=\"44.7059%\" y=\"3em\"><defs /><svg width=\"100%\" x=\"0\" y=\"0em\"><defs /><text text-anchor=\"middle\" x=\"50%\" y=\"1em\">N[AGR=[GND='masc',NUM='pl',PER=3],CASE='nom']</text></svg><svg width=\"100%\" x=\"0%\" y=\"3em\"><defs /><svg width=\"100%\" x=\"0\" y=\"0em\"><defs /><text text-anchor=\"middle\" x=\"50%\" y=\"1em\">Hunde</text></svg></svg><line stroke=\"black\" x1=\"50%\" x2=\"50%\" y1=\"1.2em\" y2=\"3em\" /></svg><line stroke=\"black\" x1=\"50%\" x2=\"72.3529%\" y1=\"1.2em\" y2=\"3em\" /></svg><line stroke=\"black\" x1=\"50%\" x2=\"35.7143%\" y1=\"1.2em\" y2=\"3em\" /><svg width=\"28.5714%\" x=\"71.4286%\" y=\"3em\"><defs /><svg width=\"100%\" x=\"0\" y=\"0em\"><defs /><text text-anchor=\"middle\" x=\"50%\" y=\"1em\">VP[AGR=[NUM='pl',PER=3]]</text></svg><svg width=\"100%\" x=\"0%\" y=\"3em\"><defs /><svg width=\"100%\" x=\"0\" y=\"0em\"><defs /><text text-anchor=\"middle\" x=\"50%\" y=\"1em\">V[AGR=[NUM='pl',PER=3],SUBCAT=0]</text></svg><svg width=\"100%\" x=\"0%\" y=\"3em\"><defs /><svg width=\"100%\" x=\"0\" y=\"0em\"><defs /><text text-anchor=\"middle\" x=\"50%\" y=\"1em\">laufen</text></svg></svg><line stroke=\"black\" x1=\"50%\" x2=\"50%\" y1=\"1.2em\" y2=\"3em\" /></svg><line stroke=\"black\" x1=\"50%\" x2=\"50%\" y1=\"1.2em\" y2=\"3em\" /></svg><line stroke=\"black\" x1=\"50%\" x2=\"85.7143%\" y1=\"1.2em\" y2=\"3em\" /></svg>"
      ],
      "text/plain": [
       "Tree('S[]', [Tree(\"NP[AGR=[GND='masc',NUM='pl',PER=3],CASE='nom']\", [Tree(\"DET[AGR=[NUM='pl',PER=3],CASE='nom']\", ['die']), Tree(\"N[AGR=[GND='masc',NUM='pl',PER=3],CASE='nom']\", ['Hunde'])]), Tree(\"VP[AGR=[NUM='pl',PER=3]]\", [Tree(\"V[AGR=[NUM='pl',PER=3],SUBCAT=0]\", ['laufen'])])])"
      ]
     },
     "metadata": {},
     "output_type": "display_data"
    },
    {
     "data": {
      "image/svg+xml": [
       "<svg baseProfile=\"full\" height=\"168px\" preserveAspectRatio=\"xMidYMid meet\" style=\"font-family: times, serif; font-weight:normal; font-style: normal; font-size: 16px;\" version=\"1.1\" viewBox=\"0,0,952.0,168.0\" width=\"952px\" xmlns=\"http://www.w3.org/2000/svg\" xmlns:ev=\"http://www.w3.org/2001/xml-events\" xmlns:xlink=\"http://www.w3.org/1999/xlink\"><defs /><svg width=\"100%\" x=\"0\" y=\"0em\"><defs /><text text-anchor=\"middle\" x=\"50%\" y=\"1em\">S[]</text></svg><svg width=\"71.4286%\" x=\"0%\" y=\"3em\"><defs /><svg width=\"100%\" x=\"0\" y=\"0em\"><defs /><text text-anchor=\"middle\" x=\"50%\" y=\"1em\">NP[AGR=[GND='masc',NUM='sg',PER=3],CASE='nom']</text></svg><svg width=\"57.6471%\" x=\"0%\" y=\"3em\"><defs /><svg width=\"100%\" x=\"0\" y=\"0em\"><defs /><text text-anchor=\"middle\" x=\"50%\" y=\"1em\">DET[AGR=[GND='masc',NUM='sg',PER=3],CASE='nom']</text></svg><svg width=\"100%\" x=\"0%\" y=\"3em\"><defs /><svg width=\"100%\" x=\"0\" y=\"0em\"><defs /><text text-anchor=\"middle\" x=\"50%\" y=\"1em\">der</text></svg></svg><line stroke=\"black\" x1=\"50%\" x2=\"50%\" y1=\"1.2em\" y2=\"3em\" /></svg><line stroke=\"black\" x1=\"50%\" x2=\"28.8235%\" y1=\"1.2em\" y2=\"3em\" /><svg width=\"42.3529%\" x=\"57.6471%\" y=\"3em\"><defs /><svg width=\"100%\" x=\"0\" y=\"0em\"><defs /><text text-anchor=\"middle\" x=\"50%\" y=\"1em\">N[AGR=[GND='masc',NUM='sg',PER=3]]</text></svg><svg width=\"100%\" x=\"0%\" y=\"3em\"><defs /><svg width=\"100%\" x=\"0\" y=\"0em\"><defs /><text text-anchor=\"middle\" x=\"50%\" y=\"1em\">Hund</text></svg></svg><line stroke=\"black\" x1=\"50%\" x2=\"50%\" y1=\"1.2em\" y2=\"3em\" /></svg><line stroke=\"black\" x1=\"50%\" x2=\"78.8235%\" y1=\"1.2em\" y2=\"3em\" /></svg><line stroke=\"black\" x1=\"50%\" x2=\"35.7143%\" y1=\"1.2em\" y2=\"3em\" /><svg width=\"28.5714%\" x=\"71.4286%\" y=\"3em\"><defs /><svg width=\"100%\" x=\"0\" y=\"0em\"><defs /><text text-anchor=\"middle\" x=\"50%\" y=\"1em\">VP[AGR=[NUM='sg',PER=3]]</text></svg><svg width=\"100%\" x=\"0%\" y=\"3em\"><defs /><svg width=\"100%\" x=\"0\" y=\"0em\"><defs /><text text-anchor=\"middle\" x=\"50%\" y=\"1em\">V[AGR=[NUM='sg',PER=3],SUBCAT=0]</text></svg><svg width=\"100%\" x=\"0%\" y=\"3em\"><defs /><svg width=\"100%\" x=\"0\" y=\"0em\"><defs /><text text-anchor=\"middle\" x=\"50%\" y=\"1em\">läuft</text></svg></svg><line stroke=\"black\" x1=\"50%\" x2=\"50%\" y1=\"1.2em\" y2=\"3em\" /></svg><line stroke=\"black\" x1=\"50%\" x2=\"50%\" y1=\"1.2em\" y2=\"3em\" /></svg><line stroke=\"black\" x1=\"50%\" x2=\"85.7143%\" y1=\"1.2em\" y2=\"3em\" /></svg>"
      ],
      "text/plain": [
       "Tree('S[]', [Tree(\"NP[AGR=[GND='masc',NUM='sg',PER=3],CASE='nom']\", [Tree(\"DET[AGR=[GND='masc',NUM='sg',PER=3],CASE='nom']\", ['der']), Tree(\"N[AGR=[GND='masc',NUM='sg',PER=3]]\", ['Hund'])]), Tree(\"VP[AGR=[NUM='sg',PER=3]]\", [Tree(\"V[AGR=[NUM='sg',PER=3],SUBCAT=0]\", ['läuft'])])])"
      ]
     },
     "metadata": {},
     "output_type": "display_data"
    }
   ],
   "source": [
    "parser = nltk.FeatureChartParser(grammar)\n",
    "for sent in pos_sents:\n",
    "    trees = list(parser.parse(sent.split()))\n",
    "    if trees: [show_FeatTree(tree, style=1, draw=1) for tree in trees]\n",
    "    else: print(f\"no parse found for: {sent}\")"
   ]
  },
  {
   "cell_type": "code",
   "execution_count": 16,
   "metadata": {},
   "outputs": [
    {
     "name": "stdout",
     "output_type": "stream",
     "text": [
      "|.der .Hund.läuf.|\n",
      "Leaf Init Rule:\n",
      "|[----]    .    .| [0:1] 'der'\n",
      "|.    [----]    .| [1:2] 'Hund'\n",
      "|.    .    [----]| [2:3] 'läuft'\n",
      "Feature Bottom Up Predict Combine Rule:\n",
      "|[----]    .    .| [0:1] DET[AGR=[GND='masc', NUM='sg', PER=3], CASE='nom'] -> 'der' *\n",
      "|[----]    .    .| [0:1] DET[AGR=[GND='fem', NUM='sg', PER=3], CASE='dat'] -> 'der' *\n",
      "Feature Bottom Up Predict Combine Rule:\n",
      "|[---->    .    .| [0:1] NP[AGR=?y, CASE=?x] -> DET[AGR=?y, CASE=?x] * N[AGR=?y, CASE=?x] {?x: 'dat', ?y: [GND='fem', NUM='sg', PER=3]}\n",
      "Feature Bottom Up Predict Combine Rule:\n",
      "|[---->    .    .| [0:1] NP[AGR=?y, CASE=?x] -> DET[AGR=?y, CASE=?x] * N[AGR=?y, CASE=?x] {?x: 'nom', ?y: [GND='masc', NUM='sg', PER=3]}\n",
      "Feature Bottom Up Predict Combine Rule:\n",
      "|.    [----]    .| [1:2] N[AGR=[GND='masc', NUM='sg', PER=3]] -> 'Hund' *\n",
      "Feature Single Edge Fundamental Rule:\n",
      "|[---------]    .| [0:2] NP[AGR=[GND='masc', NUM='sg', PER=3], CASE='nom'] -> DET[AGR=[GND='masc', NUM='sg', PER=3], CASE='nom'] N[AGR=[GND='masc', NUM='sg', PER=3], CASE='nom'] *\n",
      "Feature Bottom Up Predict Combine Rule:\n",
      "|[--------->    .| [0:2] S[] -> NP[AGR=?y, CASE='nom'] * VP[AGR=?y] {?y: [GND='masc', NUM='sg', PER=3]}\n",
      "Feature Bottom Up Predict Combine Rule:\n",
      "|.    .    [----]| [2:3] V[AGR=[NUM='sg', PER=3], SUBCAT=0] -> 'läuft' *\n",
      "Feature Bottom Up Predict Combine Rule:\n",
      "|.    .    [----]| [2:3] VP[AGR=[NUM='sg', PER=3]] -> V[AGR=[NUM='sg', PER=3], SUBCAT=0] *\n",
      "Feature Single Edge Fundamental Rule:\n",
      "|[==============]| [0:3] S[] -> NP[AGR=[GND='masc', NUM='sg', PER=3], CASE='nom'] VP[AGR=[GND='masc', NUM='sg', PER=3]] *\n"
     ]
    },
    {
     "data": {
      "text/plain": [
       "<generator object FeatureChart.parses at 0x14388a9e0>"
      ]
     },
     "execution_count": 16,
     "metadata": {},
     "output_type": "execute_result"
    }
   ],
   "source": [
    "# Tracing-Beispiel\n",
    "parser = nltk.FeatureChartParser(grammar, trace=2)\n",
    "parser.parse(pos_sents[2].split())"
   ]
  },
  {
   "cell_type": "markdown",
   "metadata": {},
   "source": [
    "## Aufgabe 2 - FCFG-Erweiterungen (Agreement, Kasus und Subkategorisierung)\n",
    "\n",
    "#### Gegeben sei folgende Grammatik, die in den folgenden Teilaufgaben schrittweise um verschiedenen grammatikalische Constraints erweitert werden soll, um Überproduktion zu verhindern."
   ]
  },
  {
   "cell_type": "code",
   "execution_count": 17,
   "metadata": {},
   "outputs": [],
   "source": [
    "grammar = \"\"\"\n",
    "S -> NP VP\n",
    "\n",
    "NP -> DET NOM\n",
    "NOM -> N\n",
    "VP -> V NP NP | V NP | V\n",
    "\n",
    "DET -> \"der\" | \"die\" | \"das\"\n",
    "N -> \"Mann\" | \"Frau\" | \"Buch\"\n",
    "\n",
    "V -> \"gibt\" | \"schenkt\" | \"schlaeft\" | \"gefaellt\" | \"kennt\"\n",
    "\"\"\""
   ]
  },
  {
   "cell_type": "markdown",
   "metadata": {},
   "source": [
    "### a) Kongruenz in der Nominalphrase\n",
    "\n",
    "#### Orientieren Sie sich an folgender Tabelle zur Mehrdeutigkeit der Formen des bestimmen Artikels im Deutschen und passen Sie die Grammatik unten so an, dass sie nur noch grammatikalisch korrekte Nominalphrasen als Teil von Sätzen akzeptiert. Konzentrieren Sie sich auf die Kongruenz von Artikel und Nomen im Genus.\n",
    "\n",
    "|Form|mögliche Merkmale|\n",
    "|----|-----------------|\n",
    "|der|[NUM=sg, GEN=mask, CASE=nom]|\n",
    "|&nbsp;|[NUM=sg, GEN=fem, CASE=dat]|\n",
    "|&nbsp;|[NUM=sg, GEN=fem, CASE=GEN]|\n",
    "|&nbsp;|[NUM=pl, CASE=GEN]|\n",
    "|die|[NUM=sg, GEN=fem, CASE=nom]|\n",
    "|&nbsp;|[NUM=sg, GEN=fem, CASE=akk]|\n",
    "|&nbsp;|[NUM=pl, CASE=nom]|\n",
    "|&nbsp;|[NUM=pl, CASE=akk]|\n",
    "|das|[NUM=sg, GEN=neut, CASE=nom]|\n",
    "|&nbsp;|[NUM=sg, GEN=neut, CASE=akk]|"
   ]
  },
  {
   "cell_type": "code",
   "execution_count": 18,
   "metadata": {},
   "outputs": [],
   "source": [
    "grammar = FeatureGrammar.fromstring(r\"\"\"\n",
    "S -> NP VP\n",
    "\n",
    "NP -> DET[GEN=?x] NOM[GEN=?x]\n",
    "NOM[GEN=?x] -> N[GEN=?x]\n",
    "VP -> V NP NP | V NP | V\n",
    "\n",
    "DET[GEN=mask] -> \"der\"\n",
    "DET[GEN=fem] -> \"die\"\n",
    "DET[GEN=neut] -> \"das\"\n",
    "\n",
    "N[GEN=mask] -> \"Mann\"\n",
    "N[GEN=fem]  -> \"Frau\"\n",
    "N[GEN=neut] -> \"Buch\"\n",
    "\n",
    "V -> \"gibt\" | \"schenkt\" | \"schlaeft\" | \"gefaellt\" | \"kennt\"\n",
    "\"\"\")"
   ]
  },
  {
   "cell_type": "code",
   "execution_count": 19,
   "metadata": {},
   "outputs": [],
   "source": [
    "pos_neg_sents = [\n",
    "    \"der Mann schlaeft\", \n",
    "    \"das Mann schlaeft\"\n",
    "]"
   ]
  },
  {
   "cell_type": "code",
   "execution_count": 20,
   "metadata": {},
   "outputs": [
    {
     "data": {
      "image/svg+xml": [
       "<svg baseProfile=\"full\" height=\"216px\" preserveAspectRatio=\"xMidYMid meet\" style=\"font-family: times, serif; font-weight:normal; font-style: normal; font-size: 16px;\" version=\"1.1\" viewBox=\"0,0,352.0,216.0\" width=\"352px\" xmlns=\"http://www.w3.org/2000/svg\" xmlns:ev=\"http://www.w3.org/2001/xml-events\" xmlns:xlink=\"http://www.w3.org/1999/xlink\"><defs /><svg width=\"100%\" x=\"0\" y=\"0em\"><defs /><text text-anchor=\"middle\" x=\"50%\" y=\"1em\">S[]</text></svg><svg width=\"77.2727%\" x=\"0%\" y=\"3em\"><defs /><svg width=\"100%\" x=\"0\" y=\"0em\"><defs /><text text-anchor=\"middle\" x=\"50%\" y=\"1em\">NP[]</text></svg><svg width=\"50%\" x=\"0%\" y=\"3em\"><defs /><svg width=\"100%\" x=\"0\" y=\"0em\"><defs /><text text-anchor=\"middle\" x=\"50%\" y=\"1em\">DET[GEN='mask']</text></svg><svg width=\"100%\" x=\"0%\" y=\"3em\"><defs /><svg width=\"100%\" x=\"0\" y=\"0em\"><defs /><text text-anchor=\"middle\" x=\"50%\" y=\"1em\">der</text></svg></svg><line stroke=\"black\" x1=\"50%\" x2=\"50%\" y1=\"1.2em\" y2=\"3em\" /></svg><line stroke=\"black\" x1=\"50%\" x2=\"25%\" y1=\"1.2em\" y2=\"3em\" /><svg width=\"50%\" x=\"50%\" y=\"3em\"><defs /><svg width=\"100%\" x=\"0\" y=\"0em\"><defs /><text text-anchor=\"middle\" x=\"50%\" y=\"1em\">NOM[GEN='mask']</text></svg><svg width=\"100%\" x=\"0%\" y=\"3em\"><defs /><svg width=\"100%\" x=\"0\" y=\"0em\"><defs /><text text-anchor=\"middle\" x=\"50%\" y=\"1em\">N[GEN='mask']</text></svg><svg width=\"100%\" x=\"0%\" y=\"3em\"><defs /><svg width=\"100%\" x=\"0\" y=\"0em\"><defs /><text text-anchor=\"middle\" x=\"50%\" y=\"1em\">Mann</text></svg></svg><line stroke=\"black\" x1=\"50%\" x2=\"50%\" y1=\"1.2em\" y2=\"3em\" /></svg><line stroke=\"black\" x1=\"50%\" x2=\"50%\" y1=\"1.2em\" y2=\"3em\" /></svg><line stroke=\"black\" x1=\"50%\" x2=\"75%\" y1=\"1.2em\" y2=\"3em\" /></svg><line stroke=\"black\" x1=\"50%\" x2=\"38.6364%\" y1=\"1.2em\" y2=\"3em\" /><svg width=\"22.7273%\" x=\"77.2727%\" y=\"3em\"><defs /><svg width=\"100%\" x=\"0\" y=\"0em\"><defs /><text text-anchor=\"middle\" x=\"50%\" y=\"1em\">VP[]</text></svg><svg width=\"100%\" x=\"0%\" y=\"3em\"><defs /><svg width=\"100%\" x=\"0\" y=\"0em\"><defs /><text text-anchor=\"middle\" x=\"50%\" y=\"1em\">V[]</text></svg><svg width=\"100%\" x=\"0%\" y=\"3em\"><defs /><svg width=\"100%\" x=\"0\" y=\"0em\"><defs /><text text-anchor=\"middle\" x=\"50%\" y=\"1em\">schlaeft</text></svg></svg><line stroke=\"black\" x1=\"50%\" x2=\"50%\" y1=\"1.2em\" y2=\"3em\" /></svg><line stroke=\"black\" x1=\"50%\" x2=\"50%\" y1=\"1.2em\" y2=\"3em\" /></svg><line stroke=\"black\" x1=\"50%\" x2=\"88.6364%\" y1=\"1.2em\" y2=\"3em\" /></svg>"
      ],
      "text/plain": [
       "Tree('S[]', [Tree('NP[]', [Tree(\"DET[GEN='mask']\", ['der']), Tree(\"NOM[GEN='mask']\", [Tree(\"N[GEN='mask']\", ['Mann'])])]), Tree('VP[]', [Tree('V[]', ['schlaeft'])])])"
      ]
     },
     "metadata": {},
     "output_type": "display_data"
    },
    {
     "name": "stdout",
     "output_type": "stream",
     "text": [
      "no parse found for: das Mann schlaeft\n"
     ]
    }
   ],
   "source": [
    "parser = nltk.FeatureChartParser(grammar)\n",
    "for sent in pos_neg_sents:\n",
    "    trees = list(parser.parse(sent.split()))\n",
    "    if trees: [show_FeatTree(tree, style=1) for tree in trees]\n",
    "    else: print(f\"no parse found for: {sent}\")"
   ]
  },
  {
   "cell_type": "markdown",
   "metadata": {},
   "source": [
    "#### Optional können Sie auch folgende NP-Grammatik, die die Features aus der Tabelle oben enthält, um syntaktische Constraints erweitern und testen:"
   ]
  },
  {
   "cell_type": "code",
   "execution_count": 21,
   "metadata": {},
   "outputs": [],
   "source": [
    "grammar = FeatureGrammar.fromstring(r\"\"\"\n",
    "\n",
    "NP[AGR=?x] -> DET[AGR=?x] NOM[AGR=?x]\n",
    "NOM[AGR=?x] -> N[AGR=?x]\n",
    "\n",
    "DET[AGR=[NUM=sg, GEN=mask, CASE=nom]] -> \"der\"\n",
    "DET[AGR=[NUM=sg, GEN=fem, CASE=dat]] -> \"der\"\n",
    "DET[AGR=[NUM=sg, GEN=fem, CASE=gen]] -> \"der\"\n",
    "DET[AGR=[NUM=pl, CASE=gen]] -> \"der\"\n",
    "\n",
    "DET[AGR=[NUM=sg, GEN=fem, CASE=nom]] -> \"die\"\n",
    "DET[AGR=[NUM=sg, GEN=fem, CASE=akk]] -> \"die\"\n",
    "DET[AGR=[NUM=pl, CASE=nom]] -> \"die\"\n",
    "DET[AGR=[NUM=pl, CASE=akk]] -> \"die\"\n",
    "\n",
    "DET[AGR=[NUM=sg, GEN=neut, CASE=nom]] -> \"das\"\n",
    "DET[AGR=[NUM=sg, GEN=neut, CASE=akk]] -> \"das\"\n",
    "\n",
    "\n",
    "N[AGR=[NUM=sg, GEN=mask]] -> \"Mann\"\n",
    "N[AGR=[NUM=sg, GEN=fem]] -> \"Frau\"\n",
    "N[AGR=[NUM=sg, GEN=neut]] -> \"Buch\"\n",
    "\"\"\")"
   ]
  },
  {
   "cell_type": "code",
   "execution_count": 22,
   "metadata": {},
   "outputs": [],
   "source": [
    "pos_sg_NPs = [\"der Mann\", \"der Frau\", \"die Frau\", \"das Buch\"]\n",
    "neg_sg_NPs = [\"das Mann\", \"die Mann\", \"das Frau\", \"der Buch\", \"die Buch\"]"
   ]
  },
  {
   "cell_type": "code",
   "execution_count": 23,
   "metadata": {},
   "outputs": [
    {
     "name": "stdout",
     "output_type": "stream",
     "text": [
      "no parse found for: das Mann\n",
      "no parse found for: die Mann\n",
      "no parse found for: das Frau\n",
      "no parse found for: der Buch\n",
      "no parse found for: die Buch\n"
     ]
    }
   ],
   "source": [
    "parser = nltk.FeatureChartParser(grammar)\n",
    "for sent in neg_sg_NPs:\n",
    "    trees = list(parser.parse(sent.split()))\n",
    "    if trees: [show_FeatTree(tree, draw=1) for tree in trees]\n",
    "    else: print(f\"no parse found for: {sent}\")"
   ]
  },
  {
   "cell_type": "code",
   "execution_count": 24,
   "metadata": {},
   "outputs": [
    {
     "data": {
      "image/svg+xml": [
       "<svg baseProfile=\"full\" height=\"168px\" preserveAspectRatio=\"xMidYMid meet\" style=\"font-family: times, serif; font-weight:normal; font-style: normal; font-size: 16px;\" version=\"1.1\" viewBox=\"0,0,600.0,168.0\" width=\"600px\" xmlns=\"http://www.w3.org/2000/svg\" xmlns:ev=\"http://www.w3.org/2001/xml-events\" xmlns:xlink=\"http://www.w3.org/1999/xlink\"><defs /><svg width=\"100%\" x=\"0\" y=\"0em\"><defs /><text text-anchor=\"middle\" x=\"50%\" y=\"1em\">NP[AGR=[CASE='nom',GEN='mask',NUM='sg']]</text></svg><svg width=\"57.3333%\" x=\"0%\" y=\"3em\"><defs /><svg width=\"100%\" x=\"0\" y=\"0em\"><defs /><text text-anchor=\"middle\" x=\"50%\" y=\"1em\">DET[AGR=[CASE='nom',GEN='mask',NUM='sg']]</text></svg><svg width=\"100%\" x=\"0%\" y=\"3em\"><defs /><svg width=\"100%\" x=\"0\" y=\"0em\"><defs /><text text-anchor=\"middle\" x=\"50%\" y=\"1em\">der</text></svg></svg><line stroke=\"black\" x1=\"50%\" x2=\"50%\" y1=\"1.2em\" y2=\"3em\" /></svg><line stroke=\"black\" x1=\"50%\" x2=\"28.6667%\" y1=\"1.2em\" y2=\"3em\" /><svg width=\"42.6667%\" x=\"57.3333%\" y=\"3em\"><defs /><svg width=\"100%\" x=\"0\" y=\"0em\"><defs /><text text-anchor=\"middle\" x=\"50%\" y=\"1em\">NOM[AGR=[GEN='mask',NUM='sg']]</text></svg><svg width=\"100%\" x=\"0%\" y=\"3em\"><defs /><svg width=\"100%\" x=\"0\" y=\"0em\"><defs /><text text-anchor=\"middle\" x=\"50%\" y=\"1em\">N[AGR=[GEN='mask',NUM='sg']]</text></svg><svg width=\"100%\" x=\"0%\" y=\"3em\"><defs /><svg width=\"100%\" x=\"0\" y=\"0em\"><defs /><text text-anchor=\"middle\" x=\"50%\" y=\"1em\">Mann</text></svg></svg><line stroke=\"black\" x1=\"50%\" x2=\"50%\" y1=\"1.2em\" y2=\"3em\" /></svg><line stroke=\"black\" x1=\"50%\" x2=\"50%\" y1=\"1.2em\" y2=\"3em\" /></svg><line stroke=\"black\" x1=\"50%\" x2=\"78.6667%\" y1=\"1.2em\" y2=\"3em\" /></svg>"
      ],
      "text/plain": [
       "Tree(\"NP[AGR=[CASE='nom',GEN='mask',NUM='sg']]\", [Tree(\"DET[AGR=[CASE='nom',GEN='mask',NUM='sg']]\", ['der']), Tree(\"NOM[AGR=[GEN='mask',NUM='sg']]\", [Tree(\"N[AGR=[GEN='mask',NUM='sg']]\", ['Mann'])])])"
      ]
     },
     "metadata": {},
     "output_type": "display_data"
    },
    {
     "data": {
      "image/svg+xml": [
       "<svg baseProfile=\"full\" height=\"168px\" preserveAspectRatio=\"xMidYMid meet\" style=\"font-family: times, serif; font-weight:normal; font-style: normal; font-size: 16px;\" version=\"1.1\" viewBox=\"0,0,584.0,168.0\" width=\"584px\" xmlns=\"http://www.w3.org/2000/svg\" xmlns:ev=\"http://www.w3.org/2001/xml-events\" xmlns:xlink=\"http://www.w3.org/1999/xlink\"><defs /><svg width=\"100%\" x=\"0\" y=\"0em\"><defs /><text text-anchor=\"middle\" x=\"50%\" y=\"1em\">NP[AGR=[CASE='gen',GEN='fem',NUM='sg']]</text></svg><svg width=\"57.5342%\" x=\"0%\" y=\"3em\"><defs /><svg width=\"100%\" x=\"0\" y=\"0em\"><defs /><text text-anchor=\"middle\" x=\"50%\" y=\"1em\">DET[AGR=[CASE='gen',GEN='fem',NUM='sg']]</text></svg><svg width=\"100%\" x=\"0%\" y=\"3em\"><defs /><svg width=\"100%\" x=\"0\" y=\"0em\"><defs /><text text-anchor=\"middle\" x=\"50%\" y=\"1em\">der</text></svg></svg><line stroke=\"black\" x1=\"50%\" x2=\"50%\" y1=\"1.2em\" y2=\"3em\" /></svg><line stroke=\"black\" x1=\"50%\" x2=\"28.7671%\" y1=\"1.2em\" y2=\"3em\" /><svg width=\"42.4658%\" x=\"57.5342%\" y=\"3em\"><defs /><svg width=\"100%\" x=\"0\" y=\"0em\"><defs /><text text-anchor=\"middle\" x=\"50%\" y=\"1em\">NOM[AGR=[GEN='fem',NUM='sg']]</text></svg><svg width=\"100%\" x=\"0%\" y=\"3em\"><defs /><svg width=\"100%\" x=\"0\" y=\"0em\"><defs /><text text-anchor=\"middle\" x=\"50%\" y=\"1em\">N[AGR=[GEN='fem',NUM='sg']]</text></svg><svg width=\"100%\" x=\"0%\" y=\"3em\"><defs /><svg width=\"100%\" x=\"0\" y=\"0em\"><defs /><text text-anchor=\"middle\" x=\"50%\" y=\"1em\">Frau</text></svg></svg><line stroke=\"black\" x1=\"50%\" x2=\"50%\" y1=\"1.2em\" y2=\"3em\" /></svg><line stroke=\"black\" x1=\"50%\" x2=\"50%\" y1=\"1.2em\" y2=\"3em\" /></svg><line stroke=\"black\" x1=\"50%\" x2=\"78.7671%\" y1=\"1.2em\" y2=\"3em\" /></svg>"
      ],
      "text/plain": [
       "Tree(\"NP[AGR=[CASE='gen',GEN='fem',NUM='sg']]\", [Tree(\"DET[AGR=[CASE='gen',GEN='fem',NUM='sg']]\", ['der']), Tree(\"NOM[AGR=[GEN='fem',NUM='sg']]\", [Tree(\"N[AGR=[GEN='fem',NUM='sg']]\", ['Frau'])])])"
      ]
     },
     "metadata": {},
     "output_type": "display_data"
    },
    {
     "data": {
      "image/svg+xml": [
       "<svg baseProfile=\"full\" height=\"168px\" preserveAspectRatio=\"xMidYMid meet\" style=\"font-family: times, serif; font-weight:normal; font-style: normal; font-size: 16px;\" version=\"1.1\" viewBox=\"0,0,584.0,168.0\" width=\"584px\" xmlns=\"http://www.w3.org/2000/svg\" xmlns:ev=\"http://www.w3.org/2001/xml-events\" xmlns:xlink=\"http://www.w3.org/1999/xlink\"><defs /><svg width=\"100%\" x=\"0\" y=\"0em\"><defs /><text text-anchor=\"middle\" x=\"50%\" y=\"1em\">NP[AGR=[CASE='dat',GEN='fem',NUM='sg']]</text></svg><svg width=\"57.5342%\" x=\"0%\" y=\"3em\"><defs /><svg width=\"100%\" x=\"0\" y=\"0em\"><defs /><text text-anchor=\"middle\" x=\"50%\" y=\"1em\">DET[AGR=[CASE='dat',GEN='fem',NUM='sg']]</text></svg><svg width=\"100%\" x=\"0%\" y=\"3em\"><defs /><svg width=\"100%\" x=\"0\" y=\"0em\"><defs /><text text-anchor=\"middle\" x=\"50%\" y=\"1em\">der</text></svg></svg><line stroke=\"black\" x1=\"50%\" x2=\"50%\" y1=\"1.2em\" y2=\"3em\" /></svg><line stroke=\"black\" x1=\"50%\" x2=\"28.7671%\" y1=\"1.2em\" y2=\"3em\" /><svg width=\"42.4658%\" x=\"57.5342%\" y=\"3em\"><defs /><svg width=\"100%\" x=\"0\" y=\"0em\"><defs /><text text-anchor=\"middle\" x=\"50%\" y=\"1em\">NOM[AGR=[GEN='fem',NUM='sg']]</text></svg><svg width=\"100%\" x=\"0%\" y=\"3em\"><defs /><svg width=\"100%\" x=\"0\" y=\"0em\"><defs /><text text-anchor=\"middle\" x=\"50%\" y=\"1em\">N[AGR=[GEN='fem',NUM='sg']]</text></svg><svg width=\"100%\" x=\"0%\" y=\"3em\"><defs /><svg width=\"100%\" x=\"0\" y=\"0em\"><defs /><text text-anchor=\"middle\" x=\"50%\" y=\"1em\">Frau</text></svg></svg><line stroke=\"black\" x1=\"50%\" x2=\"50%\" y1=\"1.2em\" y2=\"3em\" /></svg><line stroke=\"black\" x1=\"50%\" x2=\"50%\" y1=\"1.2em\" y2=\"3em\" /></svg><line stroke=\"black\" x1=\"50%\" x2=\"78.7671%\" y1=\"1.2em\" y2=\"3em\" /></svg>"
      ],
      "text/plain": [
       "Tree(\"NP[AGR=[CASE='dat',GEN='fem',NUM='sg']]\", [Tree(\"DET[AGR=[CASE='dat',GEN='fem',NUM='sg']]\", ['der']), Tree(\"NOM[AGR=[GEN='fem',NUM='sg']]\", [Tree(\"N[AGR=[GEN='fem',NUM='sg']]\", ['Frau'])])])"
      ]
     },
     "metadata": {},
     "output_type": "display_data"
    },
    {
     "data": {
      "image/svg+xml": [
       "<svg baseProfile=\"full\" height=\"168px\" preserveAspectRatio=\"xMidYMid meet\" style=\"font-family: times, serif; font-weight:normal; font-style: normal; font-size: 16px;\" version=\"1.1\" viewBox=\"0,0,584.0,168.0\" width=\"584px\" xmlns=\"http://www.w3.org/2000/svg\" xmlns:ev=\"http://www.w3.org/2001/xml-events\" xmlns:xlink=\"http://www.w3.org/1999/xlink\"><defs /><svg width=\"100%\" x=\"0\" y=\"0em\"><defs /><text text-anchor=\"middle\" x=\"50%\" y=\"1em\">NP[AGR=[CASE='akk',GEN='fem',NUM='sg']]</text></svg><svg width=\"57.5342%\" x=\"0%\" y=\"3em\"><defs /><svg width=\"100%\" x=\"0\" y=\"0em\"><defs /><text text-anchor=\"middle\" x=\"50%\" y=\"1em\">DET[AGR=[CASE='akk',GEN='fem',NUM='sg']]</text></svg><svg width=\"100%\" x=\"0%\" y=\"3em\"><defs /><svg width=\"100%\" x=\"0\" y=\"0em\"><defs /><text text-anchor=\"middle\" x=\"50%\" y=\"1em\">die</text></svg></svg><line stroke=\"black\" x1=\"50%\" x2=\"50%\" y1=\"1.2em\" y2=\"3em\" /></svg><line stroke=\"black\" x1=\"50%\" x2=\"28.7671%\" y1=\"1.2em\" y2=\"3em\" /><svg width=\"42.4658%\" x=\"57.5342%\" y=\"3em\"><defs /><svg width=\"100%\" x=\"0\" y=\"0em\"><defs /><text text-anchor=\"middle\" x=\"50%\" y=\"1em\">NOM[AGR=[GEN='fem',NUM='sg']]</text></svg><svg width=\"100%\" x=\"0%\" y=\"3em\"><defs /><svg width=\"100%\" x=\"0\" y=\"0em\"><defs /><text text-anchor=\"middle\" x=\"50%\" y=\"1em\">N[AGR=[GEN='fem',NUM='sg']]</text></svg><svg width=\"100%\" x=\"0%\" y=\"3em\"><defs /><svg width=\"100%\" x=\"0\" y=\"0em\"><defs /><text text-anchor=\"middle\" x=\"50%\" y=\"1em\">Frau</text></svg></svg><line stroke=\"black\" x1=\"50%\" x2=\"50%\" y1=\"1.2em\" y2=\"3em\" /></svg><line stroke=\"black\" x1=\"50%\" x2=\"50%\" y1=\"1.2em\" y2=\"3em\" /></svg><line stroke=\"black\" x1=\"50%\" x2=\"78.7671%\" y1=\"1.2em\" y2=\"3em\" /></svg>"
      ],
      "text/plain": [
       "Tree(\"NP[AGR=[CASE='akk',GEN='fem',NUM='sg']]\", [Tree(\"DET[AGR=[CASE='akk',GEN='fem',NUM='sg']]\", ['die']), Tree(\"NOM[AGR=[GEN='fem',NUM='sg']]\", [Tree(\"N[AGR=[GEN='fem',NUM='sg']]\", ['Frau'])])])"
      ]
     },
     "metadata": {},
     "output_type": "display_data"
    },
    {
     "data": {
      "image/svg+xml": [
       "<svg baseProfile=\"full\" height=\"168px\" preserveAspectRatio=\"xMidYMid meet\" style=\"font-family: times, serif; font-weight:normal; font-style: normal; font-size: 16px;\" version=\"1.1\" viewBox=\"0,0,584.0,168.0\" width=\"584px\" xmlns=\"http://www.w3.org/2000/svg\" xmlns:ev=\"http://www.w3.org/2001/xml-events\" xmlns:xlink=\"http://www.w3.org/1999/xlink\"><defs /><svg width=\"100%\" x=\"0\" y=\"0em\"><defs /><text text-anchor=\"middle\" x=\"50%\" y=\"1em\">NP[AGR=[CASE='nom',GEN='fem',NUM='sg']]</text></svg><svg width=\"57.5342%\" x=\"0%\" y=\"3em\"><defs /><svg width=\"100%\" x=\"0\" y=\"0em\"><defs /><text text-anchor=\"middle\" x=\"50%\" y=\"1em\">DET[AGR=[CASE='nom',GEN='fem',NUM='sg']]</text></svg><svg width=\"100%\" x=\"0%\" y=\"3em\"><defs /><svg width=\"100%\" x=\"0\" y=\"0em\"><defs /><text text-anchor=\"middle\" x=\"50%\" y=\"1em\">die</text></svg></svg><line stroke=\"black\" x1=\"50%\" x2=\"50%\" y1=\"1.2em\" y2=\"3em\" /></svg><line stroke=\"black\" x1=\"50%\" x2=\"28.7671%\" y1=\"1.2em\" y2=\"3em\" /><svg width=\"42.4658%\" x=\"57.5342%\" y=\"3em\"><defs /><svg width=\"100%\" x=\"0\" y=\"0em\"><defs /><text text-anchor=\"middle\" x=\"50%\" y=\"1em\">NOM[AGR=[GEN='fem',NUM='sg']]</text></svg><svg width=\"100%\" x=\"0%\" y=\"3em\"><defs /><svg width=\"100%\" x=\"0\" y=\"0em\"><defs /><text text-anchor=\"middle\" x=\"50%\" y=\"1em\">N[AGR=[GEN='fem',NUM='sg']]</text></svg><svg width=\"100%\" x=\"0%\" y=\"3em\"><defs /><svg width=\"100%\" x=\"0\" y=\"0em\"><defs /><text text-anchor=\"middle\" x=\"50%\" y=\"1em\">Frau</text></svg></svg><line stroke=\"black\" x1=\"50%\" x2=\"50%\" y1=\"1.2em\" y2=\"3em\" /></svg><line stroke=\"black\" x1=\"50%\" x2=\"50%\" y1=\"1.2em\" y2=\"3em\" /></svg><line stroke=\"black\" x1=\"50%\" x2=\"78.7671%\" y1=\"1.2em\" y2=\"3em\" /></svg>"
      ],
      "text/plain": [
       "Tree(\"NP[AGR=[CASE='nom',GEN='fem',NUM='sg']]\", [Tree(\"DET[AGR=[CASE='nom',GEN='fem',NUM='sg']]\", ['die']), Tree(\"NOM[AGR=[GEN='fem',NUM='sg']]\", [Tree(\"N[AGR=[GEN='fem',NUM='sg']]\", ['Frau'])])])"
      ]
     },
     "metadata": {},
     "output_type": "display_data"
    },
    {
     "data": {
      "image/svg+xml": [
       "<svg baseProfile=\"full\" height=\"168px\" preserveAspectRatio=\"xMidYMid meet\" style=\"font-family: times, serif; font-weight:normal; font-style: normal; font-size: 16px;\" version=\"1.1\" viewBox=\"0,0,600.0,168.0\" width=\"600px\" xmlns=\"http://www.w3.org/2000/svg\" xmlns:ev=\"http://www.w3.org/2001/xml-events\" xmlns:xlink=\"http://www.w3.org/1999/xlink\"><defs /><svg width=\"100%\" x=\"0\" y=\"0em\"><defs /><text text-anchor=\"middle\" x=\"50%\" y=\"1em\">NP[AGR=[CASE='akk',GEN='neut',NUM='sg']]</text></svg><svg width=\"57.3333%\" x=\"0%\" y=\"3em\"><defs /><svg width=\"100%\" x=\"0\" y=\"0em\"><defs /><text text-anchor=\"middle\" x=\"50%\" y=\"1em\">DET[AGR=[CASE='akk',GEN='neut',NUM='sg']]</text></svg><svg width=\"100%\" x=\"0%\" y=\"3em\"><defs /><svg width=\"100%\" x=\"0\" y=\"0em\"><defs /><text text-anchor=\"middle\" x=\"50%\" y=\"1em\">das</text></svg></svg><line stroke=\"black\" x1=\"50%\" x2=\"50%\" y1=\"1.2em\" y2=\"3em\" /></svg><line stroke=\"black\" x1=\"50%\" x2=\"28.6667%\" y1=\"1.2em\" y2=\"3em\" /><svg width=\"42.6667%\" x=\"57.3333%\" y=\"3em\"><defs /><svg width=\"100%\" x=\"0\" y=\"0em\"><defs /><text text-anchor=\"middle\" x=\"50%\" y=\"1em\">NOM[AGR=[GEN='neut',NUM='sg']]</text></svg><svg width=\"100%\" x=\"0%\" y=\"3em\"><defs /><svg width=\"100%\" x=\"0\" y=\"0em\"><defs /><text text-anchor=\"middle\" x=\"50%\" y=\"1em\">N[AGR=[GEN='neut',NUM='sg']]</text></svg><svg width=\"100%\" x=\"0%\" y=\"3em\"><defs /><svg width=\"100%\" x=\"0\" y=\"0em\"><defs /><text text-anchor=\"middle\" x=\"50%\" y=\"1em\">Buch</text></svg></svg><line stroke=\"black\" x1=\"50%\" x2=\"50%\" y1=\"1.2em\" y2=\"3em\" /></svg><line stroke=\"black\" x1=\"50%\" x2=\"50%\" y1=\"1.2em\" y2=\"3em\" /></svg><line stroke=\"black\" x1=\"50%\" x2=\"78.6667%\" y1=\"1.2em\" y2=\"3em\" /></svg>"
      ],
      "text/plain": [
       "Tree(\"NP[AGR=[CASE='akk',GEN='neut',NUM='sg']]\", [Tree(\"DET[AGR=[CASE='akk',GEN='neut',NUM='sg']]\", ['das']), Tree(\"NOM[AGR=[GEN='neut',NUM='sg']]\", [Tree(\"N[AGR=[GEN='neut',NUM='sg']]\", ['Buch'])])])"
      ]
     },
     "metadata": {},
     "output_type": "display_data"
    },
    {
     "data": {
      "image/svg+xml": [
       "<svg baseProfile=\"full\" height=\"168px\" preserveAspectRatio=\"xMidYMid meet\" style=\"font-family: times, serif; font-weight:normal; font-style: normal; font-size: 16px;\" version=\"1.1\" viewBox=\"0,0,600.0,168.0\" width=\"600px\" xmlns=\"http://www.w3.org/2000/svg\" xmlns:ev=\"http://www.w3.org/2001/xml-events\" xmlns:xlink=\"http://www.w3.org/1999/xlink\"><defs /><svg width=\"100%\" x=\"0\" y=\"0em\"><defs /><text text-anchor=\"middle\" x=\"50%\" y=\"1em\">NP[AGR=[CASE='nom',GEN='neut',NUM='sg']]</text></svg><svg width=\"57.3333%\" x=\"0%\" y=\"3em\"><defs /><svg width=\"100%\" x=\"0\" y=\"0em\"><defs /><text text-anchor=\"middle\" x=\"50%\" y=\"1em\">DET[AGR=[CASE='nom',GEN='neut',NUM='sg']]</text></svg><svg width=\"100%\" x=\"0%\" y=\"3em\"><defs /><svg width=\"100%\" x=\"0\" y=\"0em\"><defs /><text text-anchor=\"middle\" x=\"50%\" y=\"1em\">das</text></svg></svg><line stroke=\"black\" x1=\"50%\" x2=\"50%\" y1=\"1.2em\" y2=\"3em\" /></svg><line stroke=\"black\" x1=\"50%\" x2=\"28.6667%\" y1=\"1.2em\" y2=\"3em\" /><svg width=\"42.6667%\" x=\"57.3333%\" y=\"3em\"><defs /><svg width=\"100%\" x=\"0\" y=\"0em\"><defs /><text text-anchor=\"middle\" x=\"50%\" y=\"1em\">NOM[AGR=[GEN='neut',NUM='sg']]</text></svg><svg width=\"100%\" x=\"0%\" y=\"3em\"><defs /><svg width=\"100%\" x=\"0\" y=\"0em\"><defs /><text text-anchor=\"middle\" x=\"50%\" y=\"1em\">N[AGR=[GEN='neut',NUM='sg']]</text></svg><svg width=\"100%\" x=\"0%\" y=\"3em\"><defs /><svg width=\"100%\" x=\"0\" y=\"0em\"><defs /><text text-anchor=\"middle\" x=\"50%\" y=\"1em\">Buch</text></svg></svg><line stroke=\"black\" x1=\"50%\" x2=\"50%\" y1=\"1.2em\" y2=\"3em\" /></svg><line stroke=\"black\" x1=\"50%\" x2=\"50%\" y1=\"1.2em\" y2=\"3em\" /></svg><line stroke=\"black\" x1=\"50%\" x2=\"78.6667%\" y1=\"1.2em\" y2=\"3em\" /></svg>"
      ],
      "text/plain": [
       "Tree(\"NP[AGR=[CASE='nom',GEN='neut',NUM='sg']]\", [Tree(\"DET[AGR=[CASE='nom',GEN='neut',NUM='sg']]\", ['das']), Tree(\"NOM[AGR=[GEN='neut',NUM='sg']]\", [Tree(\"N[AGR=[GEN='neut',NUM='sg']]\", ['Buch'])])])"
      ]
     },
     "metadata": {},
     "output_type": "display_data"
    }
   ],
   "source": [
    "parser = nltk.FeatureChartParser(grammar)\n",
    "for sent in pos_sg_NPs:\n",
    "    trees = list(parser.parse(sent.split()))\n",
    "    if trees: [show_FeatTree(tree, style=1, draw=1) for tree in trees]\n",
    "    else: print(f\"no parse found for: {sent}\")"
   ]
  },
  {
   "cell_type": "markdown",
   "metadata": {},
   "source": [
    "### b) Kasus und Subkategorisierung\n",
    "\n",
    "#### Als nächstes sollen Kasusbedingungen in die Grammatik integriert werden (fügen Sie ggf. neue lexikalische Regeln für die Beispielsätze hinzu):\n",
    "\n",
    "1. Es gibt nur eine Nominalphrase im Nominativ (Subjekt).\n",
    "1. Je nach Valenzstellen des Verbes sollen nur Nominalphrasen in den korrekten Kasus akzeptiert werden.\n",
    "1. *Optional:* Versuchen Sie die freie Satzstellung des Deutschen zu berücksichtigen. (Sie können dazu die VP-Struktur auflösen, also flachere Satzregeln verwenden, und ein zusätzliches SBJCASE-Merkmal verwenden.)"
   ]
  },
  {
   "cell_type": "code",
   "execution_count": 25,
   "metadata": {},
   "outputs": [],
   "source": [
    "pos_sents = [   \n",
    "    \"das Buch gefaellt der Frau\",\n",
    "    \"das Buch kennt die Frau\",\n",
    "    \"der Mann gibt der Frau das Buch\"\n",
    "]\n",
    "\n",
    "neg_sents = [\n",
    "    \"das Mann schlaeft\",\n",
    "    \"der Mann schlaeft das Buch\",  #Verletzung Subkategorisierung-Constraint\n",
    "    \"die Frau gefaellt das Buch\",  #Verletzung Objektkasus-Constraint\n",
    "    \"den Mann schlaeft\",  #Verletzung Subjektkasus-Constraint\n",
    "    \"die Frau gibt das Buch\"  #Verletzung Subkategorisierung-Constraint\n",
    "]"
   ]
  },
  {
   "cell_type": "code",
   "execution_count": 26,
   "metadata": {},
   "outputs": [],
   "source": [
    "# Lösung für Bedingungen 1 + 2: \n",
    "grammar = FeatureGrammar.fromstring(r\"\"\"\n",
    "\n",
    "S -> NP[CASE=nom] VP\n",
    "\n",
    "NP[CASE=?y] -> DET[GEN=?x,CASE=?y] NOM[GEN=?x,CASE=?y]\n",
    "NOM[GEN=?x] -> N[GEN=?x]\n",
    "\n",
    "VP -> V[SUBCAT=0]\n",
    "VP -> V[SUBCAT=1,OBJCASE=?o] NP[CASE=?o]\n",
    "VP -> V[SUBCAT=2,IOBJCASE=?io,OBJCASE=?o] NP[CASE=?io] NP[CASE=?o]\n",
    "\n",
    "N[GEN=mask] -> \"Mann\"\n",
    "N[GEN=fem] -> \"Frau\"\n",
    "N[GEN=neut] -> \"Buch\"\n",
    "\n",
    "V[SUBCAT=0] -> \"schlaeft\"\n",
    "V[SUBCAT=1,OBJCASE=dat] -> \"gefaellt\"\n",
    "V[SUBCAT=1,OBJCASE=akk] -> \"kennt\"\n",
    "V[SUBCAT=2, IOBJCASE=dat, OBJCASE=akk] -> \"gibt\" | \"schenkt\"\n",
    "\n",
    "DET[GEN=mask,CASE=akk] -> \"den\"\n",
    "DET[GEN=mask,CASE=nom] -> \"der\"\n",
    "DET[GEN=fem,CASE=dat] -> \"der\"\n",
    "DET[GEN=fem,CASE=nom] -> \"die\"\n",
    "DET[GEN=fem,CASE=akk] -> \"die\"\n",
    "DET[GEN=neut,CASE=nom] -> \"das\"\n",
    "DET[GEN=neut,CASE=akk] -> \"das\"\n",
    "\"\"\")\n",
    "\n",
    "parser = nltk.FeatureChartParser(grammar)"
   ]
  },
  {
   "cell_type": "code",
   "execution_count": 27,
   "metadata": {},
   "outputs": [
    {
     "name": "stdout",
     "output_type": "stream",
     "text": [
      "no parse found for: das Mann schlaeft\n",
      "no parse found for: der Mann schlaeft das Buch\n",
      "no parse found for: die Frau gefaellt das Buch\n",
      "no parse found for: den Mann schlaeft\n",
      "no parse found for: die Frau gibt das Buch\n"
     ]
    }
   ],
   "source": [
    "for sent in neg_sents:\n",
    "    trees = list(parser.parse(sent.split()))\n",
    "    if trees: [show_FeatTree(tree, style=1) for tree in trees]\n",
    "    else: print(f\"no parse found for: {sent}\")"
   ]
  },
  {
   "cell_type": "code",
   "execution_count": 28,
   "metadata": {},
   "outputs": [
    {
     "data": {
      "image/svg+xml": [
       "<svg baseProfile=\"full\" height=\"264px\" preserveAspectRatio=\"xMidYMid meet\" style=\"font-family: times, serif; font-weight:normal; font-style: normal; font-size: 16px;\" version=\"1.1\" viewBox=\"0,0,920.0,264.0\" width=\"920px\" xmlns=\"http://www.w3.org/2000/svg\" xmlns:ev=\"http://www.w3.org/2001/xml-events\" xmlns:xlink=\"http://www.w3.org/1999/xlink\"><defs /><svg width=\"100%\" x=\"0\" y=\"0em\"><defs /><text text-anchor=\"middle\" x=\"50%\" y=\"1em\">S[]</text></svg><svg width=\"39.1304%\" x=\"0%\" y=\"3em\"><defs /><svg width=\"100%\" x=\"0\" y=\"0em\"><defs /><text text-anchor=\"middle\" x=\"50%\" y=\"1em\">NP[CASE='nom']</text></svg><svg width=\"62.2222%\" x=\"0%\" y=\"3em\"><defs /><svg width=\"100%\" x=\"0\" y=\"0em\"><defs /><text text-anchor=\"middle\" x=\"50%\" y=\"1em\">DET[CASE='nom',GEN='neut']</text></svg><svg width=\"100%\" x=\"0%\" y=\"3em\"><defs /><svg width=\"100%\" x=\"0\" y=\"0em\"><defs /><text text-anchor=\"middle\" x=\"50%\" y=\"1em\">das</text></svg></svg><line stroke=\"black\" x1=\"50%\" x2=\"50%\" y1=\"1.2em\" y2=\"3em\" /></svg><line stroke=\"black\" x1=\"50%\" x2=\"31.1111%\" y1=\"1.2em\" y2=\"3em\" /><svg width=\"37.7778%\" x=\"62.2222%\" y=\"3em\"><defs /><svg width=\"100%\" x=\"0\" y=\"0em\"><defs /><text text-anchor=\"middle\" x=\"50%\" y=\"1em\">NOM[GEN='neut']</text></svg><svg width=\"100%\" x=\"0%\" y=\"3em\"><defs /><svg width=\"100%\" x=\"0\" y=\"0em\"><defs /><text text-anchor=\"middle\" x=\"50%\" y=\"1em\">N[GEN='neut']</text></svg><svg width=\"100%\" x=\"0%\" y=\"3em\"><defs /><svg width=\"100%\" x=\"0\" y=\"0em\"><defs /><text text-anchor=\"middle\" x=\"50%\" y=\"1em\">Buch</text></svg></svg><line stroke=\"black\" x1=\"50%\" x2=\"50%\" y1=\"1.2em\" y2=\"3em\" /></svg><line stroke=\"black\" x1=\"50%\" x2=\"50%\" y1=\"1.2em\" y2=\"3em\" /></svg><line stroke=\"black\" x1=\"50%\" x2=\"81.1111%\" y1=\"1.2em\" y2=\"3em\" /></svg><line stroke=\"black\" x1=\"50%\" x2=\"19.5652%\" y1=\"1.2em\" y2=\"3em\" /><svg width=\"60.8696%\" x=\"39.1304%\" y=\"3em\"><defs /><svg width=\"100%\" x=\"0\" y=\"0em\"><defs /><text text-anchor=\"middle\" x=\"50%\" y=\"1em\">VP[]</text></svg><svg width=\"38.5714%\" x=\"0%\" y=\"3em\"><defs /><svg width=\"100%\" x=\"0\" y=\"0em\"><defs /><text text-anchor=\"middle\" x=\"50%\" y=\"1em\">V[OBJCASE='dat',SUBCAT=1]</text></svg><svg width=\"100%\" x=\"0%\" y=\"3em\"><defs /><svg width=\"100%\" x=\"0\" y=\"0em\"><defs /><text text-anchor=\"middle\" x=\"50%\" y=\"1em\">gefaellt</text></svg></svg><line stroke=\"black\" x1=\"50%\" x2=\"50%\" y1=\"1.2em\" y2=\"3em\" /></svg><line stroke=\"black\" x1=\"50%\" x2=\"19.2857%\" y1=\"1.2em\" y2=\"3em\" /><svg width=\"61.4286%\" x=\"38.5714%\" y=\"3em\"><defs /><svg width=\"100%\" x=\"0\" y=\"0em\"><defs /><text text-anchor=\"middle\" x=\"50%\" y=\"1em\">NP[CASE='dat']</text></svg><svg width=\"62.7907%\" x=\"0%\" y=\"3em\"><defs /><svg width=\"100%\" x=\"0\" y=\"0em\"><defs /><text text-anchor=\"middle\" x=\"50%\" y=\"1em\">DET[CASE='dat',GEN='fem']</text></svg><svg width=\"100%\" x=\"0%\" y=\"3em\"><defs /><svg width=\"100%\" x=\"0\" y=\"0em\"><defs /><text text-anchor=\"middle\" x=\"50%\" y=\"1em\">der</text></svg></svg><line stroke=\"black\" x1=\"50%\" x2=\"50%\" y1=\"1.2em\" y2=\"3em\" /></svg><line stroke=\"black\" x1=\"50%\" x2=\"31.3953%\" y1=\"1.2em\" y2=\"3em\" /><svg width=\"37.2093%\" x=\"62.7907%\" y=\"3em\"><defs /><svg width=\"100%\" x=\"0\" y=\"0em\"><defs /><text text-anchor=\"middle\" x=\"50%\" y=\"1em\">NOM[GEN='fem']</text></svg><svg width=\"100%\" x=\"0%\" y=\"3em\"><defs /><svg width=\"100%\" x=\"0\" y=\"0em\"><defs /><text text-anchor=\"middle\" x=\"50%\" y=\"1em\">N[GEN='fem']</text></svg><svg width=\"100%\" x=\"0%\" y=\"3em\"><defs /><svg width=\"100%\" x=\"0\" y=\"0em\"><defs /><text text-anchor=\"middle\" x=\"50%\" y=\"1em\">Frau</text></svg></svg><line stroke=\"black\" x1=\"50%\" x2=\"50%\" y1=\"1.2em\" y2=\"3em\" /></svg><line stroke=\"black\" x1=\"50%\" x2=\"50%\" y1=\"1.2em\" y2=\"3em\" /></svg><line stroke=\"black\" x1=\"50%\" x2=\"81.3953%\" y1=\"1.2em\" y2=\"3em\" /></svg><line stroke=\"black\" x1=\"50%\" x2=\"69.2857%\" y1=\"1.2em\" y2=\"3em\" /></svg><line stroke=\"black\" x1=\"50%\" x2=\"69.5652%\" y1=\"1.2em\" y2=\"3em\" /></svg>"
      ],
      "text/plain": [
       "Tree('S[]', [Tree(\"NP[CASE='nom']\", [Tree(\"DET[CASE='nom',GEN='neut']\", ['das']), Tree(\"NOM[GEN='neut']\", [Tree(\"N[GEN='neut']\", ['Buch'])])]), Tree('VP[]', [Tree(\"V[OBJCASE='dat',SUBCAT=1]\", ['gefaellt']), Tree(\"NP[CASE='dat']\", [Tree(\"DET[CASE='dat',GEN='fem']\", ['der']), Tree(\"NOM[GEN='fem']\", [Tree(\"N[GEN='fem']\", ['Frau'])])])])])"
      ]
     },
     "metadata": {},
     "output_type": "display_data"
    },
    {
     "data": {
      "image/svg+xml": [
       "<svg baseProfile=\"full\" height=\"264px\" preserveAspectRatio=\"xMidYMid meet\" style=\"font-family: times, serif; font-weight:normal; font-style: normal; font-size: 16px;\" version=\"1.1\" viewBox=\"0,0,920.0,264.0\" width=\"920px\" xmlns=\"http://www.w3.org/2000/svg\" xmlns:ev=\"http://www.w3.org/2001/xml-events\" xmlns:xlink=\"http://www.w3.org/1999/xlink\"><defs /><svg width=\"100%\" x=\"0\" y=\"0em\"><defs /><text text-anchor=\"middle\" x=\"50%\" y=\"1em\">S[]</text></svg><svg width=\"39.1304%\" x=\"0%\" y=\"3em\"><defs /><svg width=\"100%\" x=\"0\" y=\"0em\"><defs /><text text-anchor=\"middle\" x=\"50%\" y=\"1em\">NP[CASE='nom']</text></svg><svg width=\"62.2222%\" x=\"0%\" y=\"3em\"><defs /><svg width=\"100%\" x=\"0\" y=\"0em\"><defs /><text text-anchor=\"middle\" x=\"50%\" y=\"1em\">DET[CASE='nom',GEN='neut']</text></svg><svg width=\"100%\" x=\"0%\" y=\"3em\"><defs /><svg width=\"100%\" x=\"0\" y=\"0em\"><defs /><text text-anchor=\"middle\" x=\"50%\" y=\"1em\">das</text></svg></svg><line stroke=\"black\" x1=\"50%\" x2=\"50%\" y1=\"1.2em\" y2=\"3em\" /></svg><line stroke=\"black\" x1=\"50%\" x2=\"31.1111%\" y1=\"1.2em\" y2=\"3em\" /><svg width=\"37.7778%\" x=\"62.2222%\" y=\"3em\"><defs /><svg width=\"100%\" x=\"0\" y=\"0em\"><defs /><text text-anchor=\"middle\" x=\"50%\" y=\"1em\">NOM[GEN='neut']</text></svg><svg width=\"100%\" x=\"0%\" y=\"3em\"><defs /><svg width=\"100%\" x=\"0\" y=\"0em\"><defs /><text text-anchor=\"middle\" x=\"50%\" y=\"1em\">N[GEN='neut']</text></svg><svg width=\"100%\" x=\"0%\" y=\"3em\"><defs /><svg width=\"100%\" x=\"0\" y=\"0em\"><defs /><text text-anchor=\"middle\" x=\"50%\" y=\"1em\">Buch</text></svg></svg><line stroke=\"black\" x1=\"50%\" x2=\"50%\" y1=\"1.2em\" y2=\"3em\" /></svg><line stroke=\"black\" x1=\"50%\" x2=\"50%\" y1=\"1.2em\" y2=\"3em\" /></svg><line stroke=\"black\" x1=\"50%\" x2=\"81.1111%\" y1=\"1.2em\" y2=\"3em\" /></svg><line stroke=\"black\" x1=\"50%\" x2=\"19.5652%\" y1=\"1.2em\" y2=\"3em\" /><svg width=\"60.8696%\" x=\"39.1304%\" y=\"3em\"><defs /><svg width=\"100%\" x=\"0\" y=\"0em\"><defs /><text text-anchor=\"middle\" x=\"50%\" y=\"1em\">VP[]</text></svg><svg width=\"38.5714%\" x=\"0%\" y=\"3em\"><defs /><svg width=\"100%\" x=\"0\" y=\"0em\"><defs /><text text-anchor=\"middle\" x=\"50%\" y=\"1em\">V[OBJCASE='akk',SUBCAT=1]</text></svg><svg width=\"100%\" x=\"0%\" y=\"3em\"><defs /><svg width=\"100%\" x=\"0\" y=\"0em\"><defs /><text text-anchor=\"middle\" x=\"50%\" y=\"1em\">kennt</text></svg></svg><line stroke=\"black\" x1=\"50%\" x2=\"50%\" y1=\"1.2em\" y2=\"3em\" /></svg><line stroke=\"black\" x1=\"50%\" x2=\"19.2857%\" y1=\"1.2em\" y2=\"3em\" /><svg width=\"61.4286%\" x=\"38.5714%\" y=\"3em\"><defs /><svg width=\"100%\" x=\"0\" y=\"0em\"><defs /><text text-anchor=\"middle\" x=\"50%\" y=\"1em\">NP[CASE='akk']</text></svg><svg width=\"62.7907%\" x=\"0%\" y=\"3em\"><defs /><svg width=\"100%\" x=\"0\" y=\"0em\"><defs /><text text-anchor=\"middle\" x=\"50%\" y=\"1em\">DET[CASE='akk',GEN='fem']</text></svg><svg width=\"100%\" x=\"0%\" y=\"3em\"><defs /><svg width=\"100%\" x=\"0\" y=\"0em\"><defs /><text text-anchor=\"middle\" x=\"50%\" y=\"1em\">die</text></svg></svg><line stroke=\"black\" x1=\"50%\" x2=\"50%\" y1=\"1.2em\" y2=\"3em\" /></svg><line stroke=\"black\" x1=\"50%\" x2=\"31.3953%\" y1=\"1.2em\" y2=\"3em\" /><svg width=\"37.2093%\" x=\"62.7907%\" y=\"3em\"><defs /><svg width=\"100%\" x=\"0\" y=\"0em\"><defs /><text text-anchor=\"middle\" x=\"50%\" y=\"1em\">NOM[GEN='fem']</text></svg><svg width=\"100%\" x=\"0%\" y=\"3em\"><defs /><svg width=\"100%\" x=\"0\" y=\"0em\"><defs /><text text-anchor=\"middle\" x=\"50%\" y=\"1em\">N[GEN='fem']</text></svg><svg width=\"100%\" x=\"0%\" y=\"3em\"><defs /><svg width=\"100%\" x=\"0\" y=\"0em\"><defs /><text text-anchor=\"middle\" x=\"50%\" y=\"1em\">Frau</text></svg></svg><line stroke=\"black\" x1=\"50%\" x2=\"50%\" y1=\"1.2em\" y2=\"3em\" /></svg><line stroke=\"black\" x1=\"50%\" x2=\"50%\" y1=\"1.2em\" y2=\"3em\" /></svg><line stroke=\"black\" x1=\"50%\" x2=\"81.3953%\" y1=\"1.2em\" y2=\"3em\" /></svg><line stroke=\"black\" x1=\"50%\" x2=\"69.2857%\" y1=\"1.2em\" y2=\"3em\" /></svg><line stroke=\"black\" x1=\"50%\" x2=\"69.5652%\" y1=\"1.2em\" y2=\"3em\" /></svg>"
      ],
      "text/plain": [
       "Tree('S[]', [Tree(\"NP[CASE='nom']\", [Tree(\"DET[CASE='nom',GEN='neut']\", ['das']), Tree(\"NOM[GEN='neut']\", [Tree(\"N[GEN='neut']\", ['Buch'])])]), Tree('VP[]', [Tree(\"V[OBJCASE='akk',SUBCAT=1]\", ['kennt']), Tree(\"NP[CASE='akk']\", [Tree(\"DET[CASE='akk',GEN='fem']\", ['die']), Tree(\"NOM[GEN='fem']\", [Tree(\"N[GEN='fem']\", ['Frau'])])])])])"
      ]
     },
     "metadata": {},
     "output_type": "display_data"
    },
    {
     "data": {
      "image/svg+xml": [
       "<svg baseProfile=\"full\" height=\"264px\" preserveAspectRatio=\"xMidYMid meet\" style=\"font-family: times, serif; font-weight:normal; font-style: normal; font-size: 16px;\" version=\"1.1\" viewBox=\"0,0,1400.0,264.0\" width=\"1400px\" xmlns=\"http://www.w3.org/2000/svg\" xmlns:ev=\"http://www.w3.org/2001/xml-events\" xmlns:xlink=\"http://www.w3.org/1999/xlink\"><defs /><svg width=\"100%\" x=\"0\" y=\"0em\"><defs /><text text-anchor=\"middle\" x=\"50%\" y=\"1em\">S[]</text></svg><svg width=\"25.7143%\" x=\"0%\" y=\"3em\"><defs /><svg width=\"100%\" x=\"0\" y=\"0em\"><defs /><text text-anchor=\"middle\" x=\"50%\" y=\"1em\">NP[CASE='nom']</text></svg><svg width=\"62.2222%\" x=\"0%\" y=\"3em\"><defs /><svg width=\"100%\" x=\"0\" y=\"0em\"><defs /><text text-anchor=\"middle\" x=\"50%\" y=\"1em\">DET[CASE='nom',GEN='mask']</text></svg><svg width=\"100%\" x=\"0%\" y=\"3em\"><defs /><svg width=\"100%\" x=\"0\" y=\"0em\"><defs /><text text-anchor=\"middle\" x=\"50%\" y=\"1em\">der</text></svg></svg><line stroke=\"black\" x1=\"50%\" x2=\"50%\" y1=\"1.2em\" y2=\"3em\" /></svg><line stroke=\"black\" x1=\"50%\" x2=\"31.1111%\" y1=\"1.2em\" y2=\"3em\" /><svg width=\"37.7778%\" x=\"62.2222%\" y=\"3em\"><defs /><svg width=\"100%\" x=\"0\" y=\"0em\"><defs /><text text-anchor=\"middle\" x=\"50%\" y=\"1em\">NOM[GEN='mask']</text></svg><svg width=\"100%\" x=\"0%\" y=\"3em\"><defs /><svg width=\"100%\" x=\"0\" y=\"0em\"><defs /><text text-anchor=\"middle\" x=\"50%\" y=\"1em\">N[GEN='mask']</text></svg><svg width=\"100%\" x=\"0%\" y=\"3em\"><defs /><svg width=\"100%\" x=\"0\" y=\"0em\"><defs /><text text-anchor=\"middle\" x=\"50%\" y=\"1em\">Mann</text></svg></svg><line stroke=\"black\" x1=\"50%\" x2=\"50%\" y1=\"1.2em\" y2=\"3em\" /></svg><line stroke=\"black\" x1=\"50%\" x2=\"50%\" y1=\"1.2em\" y2=\"3em\" /></svg><line stroke=\"black\" x1=\"50%\" x2=\"81.1111%\" y1=\"1.2em\" y2=\"3em\" /></svg><line stroke=\"black\" x1=\"50%\" x2=\"12.8571%\" y1=\"1.2em\" y2=\"3em\" /><svg width=\"74.2857%\" x=\"25.7143%\" y=\"3em\"><defs /><svg width=\"100%\" x=\"0\" y=\"0em\"><defs /><text text-anchor=\"middle\" x=\"50%\" y=\"1em\">VP[]</text></svg><svg width=\"32.3077%\" x=\"0%\" y=\"3em\"><defs /><svg width=\"100%\" x=\"0\" y=\"0em\"><defs /><text text-anchor=\"middle\" x=\"50%\" y=\"1em\">V[IOBJCASE='dat',OBJCASE='akk',SUBCAT=2]</text></svg><svg width=\"100%\" x=\"0%\" y=\"3em\"><defs /><svg width=\"100%\" x=\"0\" y=\"0em\"><defs /><text text-anchor=\"middle\" x=\"50%\" y=\"1em\">gibt</text></svg></svg><line stroke=\"black\" x1=\"50%\" x2=\"50%\" y1=\"1.2em\" y2=\"3em\" /></svg><line stroke=\"black\" x1=\"50%\" x2=\"16.1538%\" y1=\"1.2em\" y2=\"3em\" /><svg width=\"33.0769%\" x=\"32.3077%\" y=\"3em\"><defs /><svg width=\"100%\" x=\"0\" y=\"0em\"><defs /><text text-anchor=\"middle\" x=\"50%\" y=\"1em\">NP[CASE='dat']</text></svg><svg width=\"62.7907%\" x=\"0%\" y=\"3em\"><defs /><svg width=\"100%\" x=\"0\" y=\"0em\"><defs /><text text-anchor=\"middle\" x=\"50%\" y=\"1em\">DET[CASE='dat',GEN='fem']</text></svg><svg width=\"100%\" x=\"0%\" y=\"3em\"><defs /><svg width=\"100%\" x=\"0\" y=\"0em\"><defs /><text text-anchor=\"middle\" x=\"50%\" y=\"1em\">der</text></svg></svg><line stroke=\"black\" x1=\"50%\" x2=\"50%\" y1=\"1.2em\" y2=\"3em\" /></svg><line stroke=\"black\" x1=\"50%\" x2=\"31.3953%\" y1=\"1.2em\" y2=\"3em\" /><svg width=\"37.2093%\" x=\"62.7907%\" y=\"3em\"><defs /><svg width=\"100%\" x=\"0\" y=\"0em\"><defs /><text text-anchor=\"middle\" x=\"50%\" y=\"1em\">NOM[GEN='fem']</text></svg><svg width=\"100%\" x=\"0%\" y=\"3em\"><defs /><svg width=\"100%\" x=\"0\" y=\"0em\"><defs /><text text-anchor=\"middle\" x=\"50%\" y=\"1em\">N[GEN='fem']</text></svg><svg width=\"100%\" x=\"0%\" y=\"3em\"><defs /><svg width=\"100%\" x=\"0\" y=\"0em\"><defs /><text text-anchor=\"middle\" x=\"50%\" y=\"1em\">Frau</text></svg></svg><line stroke=\"black\" x1=\"50%\" x2=\"50%\" y1=\"1.2em\" y2=\"3em\" /></svg><line stroke=\"black\" x1=\"50%\" x2=\"50%\" y1=\"1.2em\" y2=\"3em\" /></svg><line stroke=\"black\" x1=\"50%\" x2=\"81.3953%\" y1=\"1.2em\" y2=\"3em\" /></svg><line stroke=\"black\" x1=\"50%\" x2=\"48.8462%\" y1=\"1.2em\" y2=\"3em\" /><svg width=\"34.6154%\" x=\"65.3846%\" y=\"3em\"><defs /><svg width=\"100%\" x=\"0\" y=\"0em\"><defs /><text text-anchor=\"middle\" x=\"50%\" y=\"1em\">NP[CASE='akk']</text></svg><svg width=\"62.2222%\" x=\"0%\" y=\"3em\"><defs /><svg width=\"100%\" x=\"0\" y=\"0em\"><defs /><text text-anchor=\"middle\" x=\"50%\" y=\"1em\">DET[CASE='akk',GEN='neut']</text></svg><svg width=\"100%\" x=\"0%\" y=\"3em\"><defs /><svg width=\"100%\" x=\"0\" y=\"0em\"><defs /><text text-anchor=\"middle\" x=\"50%\" y=\"1em\">das</text></svg></svg><line stroke=\"black\" x1=\"50%\" x2=\"50%\" y1=\"1.2em\" y2=\"3em\" /></svg><line stroke=\"black\" x1=\"50%\" x2=\"31.1111%\" y1=\"1.2em\" y2=\"3em\" /><svg width=\"37.7778%\" x=\"62.2222%\" y=\"3em\"><defs /><svg width=\"100%\" x=\"0\" y=\"0em\"><defs /><text text-anchor=\"middle\" x=\"50%\" y=\"1em\">NOM[GEN='neut']</text></svg><svg width=\"100%\" x=\"0%\" y=\"3em\"><defs /><svg width=\"100%\" x=\"0\" y=\"0em\"><defs /><text text-anchor=\"middle\" x=\"50%\" y=\"1em\">N[GEN='neut']</text></svg><svg width=\"100%\" x=\"0%\" y=\"3em\"><defs /><svg width=\"100%\" x=\"0\" y=\"0em\"><defs /><text text-anchor=\"middle\" x=\"50%\" y=\"1em\">Buch</text></svg></svg><line stroke=\"black\" x1=\"50%\" x2=\"50%\" y1=\"1.2em\" y2=\"3em\" /></svg><line stroke=\"black\" x1=\"50%\" x2=\"50%\" y1=\"1.2em\" y2=\"3em\" /></svg><line stroke=\"black\" x1=\"50%\" x2=\"81.1111%\" y1=\"1.2em\" y2=\"3em\" /></svg><line stroke=\"black\" x1=\"50%\" x2=\"82.6923%\" y1=\"1.2em\" y2=\"3em\" /></svg><line stroke=\"black\" x1=\"50%\" x2=\"62.8571%\" y1=\"1.2em\" y2=\"3em\" /></svg>"
      ],
      "text/plain": [
       "Tree('S[]', [Tree(\"NP[CASE='nom']\", [Tree(\"DET[CASE='nom',GEN='mask']\", ['der']), Tree(\"NOM[GEN='mask']\", [Tree(\"N[GEN='mask']\", ['Mann'])])]), Tree('VP[]', [Tree(\"V[IOBJCASE='dat',OBJCASE='akk',SUBCAT=2]\", ['gibt']), Tree(\"NP[CASE='dat']\", [Tree(\"DET[CASE='dat',GEN='fem']\", ['der']), Tree(\"NOM[GEN='fem']\", [Tree(\"N[GEN='fem']\", ['Frau'])])]), Tree(\"NP[CASE='akk']\", [Tree(\"DET[CASE='akk',GEN='neut']\", ['das']), Tree(\"NOM[GEN='neut']\", [Tree(\"N[GEN='neut']\", ['Buch'])])])])])"
      ]
     },
     "metadata": {},
     "output_type": "display_data"
    }
   ],
   "source": [
    "for sent in pos_sents:\n",
    "    trees = list(parser.parse(sent.split()))\n",
    "    if trees: [show_FeatTree(tree, style=1, draw=1) for tree in trees]\n",
    "    else: print(f\"no parse found for: {sent}\")"
   ]
  },
  {
   "cell_type": "markdown",
   "metadata": {},
   "source": [
    "#### Testsätze für invertierte Wortstellung (Bedingung 3):"
   ]
  },
  {
   "cell_type": "code",
   "execution_count": 29,
   "metadata": {},
   "outputs": [],
   "source": [
    "pos_inv_sents = [\n",
    "    \"den Mann kennt die Frau\",\n",
    "    \"die Frau kennt der Mann\",\n",
    "    \"der Frau gibt der Mann das Buch\",\n",
    "    \"das Buch gibt der Mann der Frau\"\n",
    "]"
   ]
  },
  {
   "cell_type": "code",
   "execution_count": 30,
   "metadata": {},
   "outputs": [],
   "source": [
    "# Lösung A für Bedingungen 1 + 2 + 3 (beliebige NP in Vorfeld = satzinitial):\n",
    "\n",
    "#    -> Auflösung VP-Struktur (flachere Satzregeln, vgl. TIGER-Treebank)\n",
    "#    -> zusätzliches SBJCASE-Merkmal\n",
    "\n",
    "grammar = FeatureGrammar.fromstring(r\"\"\"\n",
    "\n",
    "#intransitiv:\n",
    "S -> NP[CASE=?s] V[SUBCAT=0,SBJCASE=?s]\n",
    "\n",
    "#transitiv (\"die Frau kennt den Mann\"  vs  \"den Mann kennt die Frau\"):\n",
    "S -> NP[CASE=?s] V[SUBCAT=1,SBJCASE=?s,OBJCASE=?o] NP[CASE=?o]\n",
    "S -> NP[CASE=?o] V[SUBCAT=1,SBJCASE=?s,OBJCASE=?o] NP[CASE=?s]\n",
    "\n",
    "#ditransitiv (\"der Mann gibt der Frau das Buch\" vs \"der Mann gibt das Buch der Frau\")\n",
    "S -> NP[CASE=?s] V[SUBCAT=2,SBJCASE=?s,IOBJCASE=?io,OBJCASE=?o] NP[CASE=?io] NP[CASE=?o]\n",
    "S -> NP[CASE=?s] V[SUBCAT=2,SBJCASE=?s,IOBJCASE=?io,OBJCASE=?o] NP[CASE=?o] NP[CASE=?io]\n",
    "\n",
    "#ditransitiv (\"der Frau gibt der Mann das Buch\" vs \"das Buch gibt der Mann der Frau\"):\n",
    "S -> NP[CASE=?io] V[SUBCAT=2,SBJCASE=?s,IOBJCASE=?io,OBJCASE=?o] NP[CASE=?s] NP[CASE=?o]\n",
    "S -> NP[CASE=?o] V[SUBCAT=2,SBJCASE=?s,IOBJCASE=?io,OBJCASE=?o] NP[CASE=?s] NP[CASE=?io]\n",
    "\n",
    "\n",
    "NP[CASE=?y] -> DET[GEN=?x,CASE=?y] NOM[GEN=?x,CASE=?y]\n",
    "NOM[GEN=?x] -> N[GEN=?x]\n",
    "\n",
    "\n",
    "N[GEN=mask] -> \"Mann\"\n",
    "N[GEN=fem] -> \"Frau\"\n",
    "N[GEN=neut] -> \"Buch\"\n",
    "\n",
    "V[SUBCAT=0,SBJCASE=nom] -> \"schlaeft\"\n",
    "V[SUBCAT=1,SBJCASE=nom,OBJCASE=dat] -> \"gefaellt\"\n",
    "V[SUBCAT=1,SBJCASE=nom,OBJCASE=akk] -> \"kennt\"\n",
    "V[SUBCAT=2,SBJCASE=nom, IOBJCASE=dat, OBJCASE=akk] -> \"gibt\" | \"schenkt\"\n",
    "\n",
    "DET[GEN=mask,CASE=akk] -> \"den\"\n",
    "DET[GEN=mask,CASE=nom] -> \"der\"\n",
    "DET[GEN=fem,CASE=dat] -> \"der\"\n",
    "DET[GEN=fem,CASE=nom] -> \"die\"\n",
    "DET[GEN=fem,CASE=akk] -> \"die\"\n",
    "DET[GEN=neut,CASE=nom] -> \"das\"\n",
    "DET[GEN=neut,CASE=akk] -> \"das\"\n",
    "\"\"\")\n",
    "\n",
    "parser = nltk.FeatureChartParser(grammar)"
   ]
  },
  {
   "cell_type": "code",
   "execution_count": 31,
   "metadata": {},
   "outputs": [
    {
     "data": {
      "image/svg+xml": [
       "<svg baseProfile=\"full\" height=\"216px\" preserveAspectRatio=\"xMidYMid meet\" style=\"font-family: times, serif; font-weight:normal; font-style: normal; font-size: 16px;\" version=\"1.1\" viewBox=\"0,0,1032.0,216.0\" width=\"1032px\" xmlns=\"http://www.w3.org/2000/svg\" xmlns:ev=\"http://www.w3.org/2001/xml-events\" xmlns:xlink=\"http://www.w3.org/1999/xlink\"><defs /><svg width=\"100%\" x=\"0\" y=\"0em\"><defs /><text text-anchor=\"middle\" x=\"50%\" y=\"1em\">S[]</text></svg><svg width=\"34.8837%\" x=\"0%\" y=\"3em\"><defs /><svg width=\"100%\" x=\"0\" y=\"0em\"><defs /><text text-anchor=\"middle\" x=\"50%\" y=\"1em\">NP[CASE='akk']</text></svg><svg width=\"62.2222%\" x=\"0%\" y=\"3em\"><defs /><svg width=\"100%\" x=\"0\" y=\"0em\"><defs /><text text-anchor=\"middle\" x=\"50%\" y=\"1em\">DET[CASE='akk',GEN='mask']</text></svg><svg width=\"100%\" x=\"0%\" y=\"3em\"><defs /><svg width=\"100%\" x=\"0\" y=\"0em\"><defs /><text text-anchor=\"middle\" x=\"50%\" y=\"1em\">den</text></svg></svg><line stroke=\"black\" x1=\"50%\" x2=\"50%\" y1=\"1.2em\" y2=\"3em\" /></svg><line stroke=\"black\" x1=\"50%\" x2=\"31.1111%\" y1=\"1.2em\" y2=\"3em\" /><svg width=\"37.7778%\" x=\"62.2222%\" y=\"3em\"><defs /><svg width=\"100%\" x=\"0\" y=\"0em\"><defs /><text text-anchor=\"middle\" x=\"50%\" y=\"1em\">NOM[GEN='mask']</text></svg><svg width=\"100%\" x=\"0%\" y=\"3em\"><defs /><svg width=\"100%\" x=\"0\" y=\"0em\"><defs /><text text-anchor=\"middle\" x=\"50%\" y=\"1em\">N[GEN='mask']</text></svg><svg width=\"100%\" x=\"0%\" y=\"3em\"><defs /><svg width=\"100%\" x=\"0\" y=\"0em\"><defs /><text text-anchor=\"middle\" x=\"50%\" y=\"1em\">Mann</text></svg></svg><line stroke=\"black\" x1=\"50%\" x2=\"50%\" y1=\"1.2em\" y2=\"3em\" /></svg><line stroke=\"black\" x1=\"50%\" x2=\"50%\" y1=\"1.2em\" y2=\"3em\" /></svg><line stroke=\"black\" x1=\"50%\" x2=\"81.1111%\" y1=\"1.2em\" y2=\"3em\" /></svg><line stroke=\"black\" x1=\"50%\" x2=\"17.4419%\" y1=\"1.2em\" y2=\"3em\" /><svg width=\"31.7829%\" x=\"34.8837%\" y=\"3em\"><defs /><svg width=\"100%\" x=\"0\" y=\"0em\"><defs /><text text-anchor=\"middle\" x=\"50%\" y=\"1em\">V[OBJCASE='akk',SBJCASE='nom',SUBCAT=1]</text></svg><svg width=\"100%\" x=\"0%\" y=\"3em\"><defs /><svg width=\"100%\" x=\"0\" y=\"0em\"><defs /><text text-anchor=\"middle\" x=\"50%\" y=\"1em\">kennt</text></svg></svg><line stroke=\"black\" x1=\"50%\" x2=\"50%\" y1=\"1.2em\" y2=\"3em\" /></svg><line stroke=\"black\" x1=\"50%\" x2=\"50.7752%\" y1=\"1.2em\" y2=\"3em\" /><svg width=\"33.3333%\" x=\"66.6667%\" y=\"3em\"><defs /><svg width=\"100%\" x=\"0\" y=\"0em\"><defs /><text text-anchor=\"middle\" x=\"50%\" y=\"1em\">NP[CASE='nom']</text></svg><svg width=\"62.7907%\" x=\"0%\" y=\"3em\"><defs /><svg width=\"100%\" x=\"0\" y=\"0em\"><defs /><text text-anchor=\"middle\" x=\"50%\" y=\"1em\">DET[CASE='nom',GEN='fem']</text></svg><svg width=\"100%\" x=\"0%\" y=\"3em\"><defs /><svg width=\"100%\" x=\"0\" y=\"0em\"><defs /><text text-anchor=\"middle\" x=\"50%\" y=\"1em\">die</text></svg></svg><line stroke=\"black\" x1=\"50%\" x2=\"50%\" y1=\"1.2em\" y2=\"3em\" /></svg><line stroke=\"black\" x1=\"50%\" x2=\"31.3953%\" y1=\"1.2em\" y2=\"3em\" /><svg width=\"37.2093%\" x=\"62.7907%\" y=\"3em\"><defs /><svg width=\"100%\" x=\"0\" y=\"0em\"><defs /><text text-anchor=\"middle\" x=\"50%\" y=\"1em\">NOM[GEN='fem']</text></svg><svg width=\"100%\" x=\"0%\" y=\"3em\"><defs /><svg width=\"100%\" x=\"0\" y=\"0em\"><defs /><text text-anchor=\"middle\" x=\"50%\" y=\"1em\">N[GEN='fem']</text></svg><svg width=\"100%\" x=\"0%\" y=\"3em\"><defs /><svg width=\"100%\" x=\"0\" y=\"0em\"><defs /><text text-anchor=\"middle\" x=\"50%\" y=\"1em\">Frau</text></svg></svg><line stroke=\"black\" x1=\"50%\" x2=\"50%\" y1=\"1.2em\" y2=\"3em\" /></svg><line stroke=\"black\" x1=\"50%\" x2=\"50%\" y1=\"1.2em\" y2=\"3em\" /></svg><line stroke=\"black\" x1=\"50%\" x2=\"81.3953%\" y1=\"1.2em\" y2=\"3em\" /></svg><line stroke=\"black\" x1=\"50%\" x2=\"83.3333%\" y1=\"1.2em\" y2=\"3em\" /></svg>"
      ],
      "text/plain": [
       "Tree('S[]', [Tree(\"NP[CASE='akk']\", [Tree(\"DET[CASE='akk',GEN='mask']\", ['den']), Tree(\"NOM[GEN='mask']\", [Tree(\"N[GEN='mask']\", ['Mann'])])]), Tree(\"V[OBJCASE='akk',SBJCASE='nom',SUBCAT=1]\", ['kennt']), Tree(\"NP[CASE='nom']\", [Tree(\"DET[CASE='nom',GEN='fem']\", ['die']), Tree(\"NOM[GEN='fem']\", [Tree(\"N[GEN='fem']\", ['Frau'])])])])"
      ]
     },
     "metadata": {},
     "output_type": "display_data"
    },
    {
     "data": {
      "image/svg+xml": [
       "<svg baseProfile=\"full\" height=\"216px\" preserveAspectRatio=\"xMidYMid meet\" style=\"font-family: times, serif; font-weight:normal; font-style: normal; font-size: 16px;\" version=\"1.1\" viewBox=\"0,0,1032.0,216.0\" width=\"1032px\" xmlns=\"http://www.w3.org/2000/svg\" xmlns:ev=\"http://www.w3.org/2001/xml-events\" xmlns:xlink=\"http://www.w3.org/1999/xlink\"><defs /><svg width=\"100%\" x=\"0\" y=\"0em\"><defs /><text text-anchor=\"middle\" x=\"50%\" y=\"1em\">S[]</text></svg><svg width=\"33.3333%\" x=\"0%\" y=\"3em\"><defs /><svg width=\"100%\" x=\"0\" y=\"0em\"><defs /><text text-anchor=\"middle\" x=\"50%\" y=\"1em\">NP[CASE='akk']</text></svg><svg width=\"62.7907%\" x=\"0%\" y=\"3em\"><defs /><svg width=\"100%\" x=\"0\" y=\"0em\"><defs /><text text-anchor=\"middle\" x=\"50%\" y=\"1em\">DET[CASE='akk',GEN='fem']</text></svg><svg width=\"100%\" x=\"0%\" y=\"3em\"><defs /><svg width=\"100%\" x=\"0\" y=\"0em\"><defs /><text text-anchor=\"middle\" x=\"50%\" y=\"1em\">die</text></svg></svg><line stroke=\"black\" x1=\"50%\" x2=\"50%\" y1=\"1.2em\" y2=\"3em\" /></svg><line stroke=\"black\" x1=\"50%\" x2=\"31.3953%\" y1=\"1.2em\" y2=\"3em\" /><svg width=\"37.2093%\" x=\"62.7907%\" y=\"3em\"><defs /><svg width=\"100%\" x=\"0\" y=\"0em\"><defs /><text text-anchor=\"middle\" x=\"50%\" y=\"1em\">NOM[GEN='fem']</text></svg><svg width=\"100%\" x=\"0%\" y=\"3em\"><defs /><svg width=\"100%\" x=\"0\" y=\"0em\"><defs /><text text-anchor=\"middle\" x=\"50%\" y=\"1em\">N[GEN='fem']</text></svg><svg width=\"100%\" x=\"0%\" y=\"3em\"><defs /><svg width=\"100%\" x=\"0\" y=\"0em\"><defs /><text text-anchor=\"middle\" x=\"50%\" y=\"1em\">Frau</text></svg></svg><line stroke=\"black\" x1=\"50%\" x2=\"50%\" y1=\"1.2em\" y2=\"3em\" /></svg><line stroke=\"black\" x1=\"50%\" x2=\"50%\" y1=\"1.2em\" y2=\"3em\" /></svg><line stroke=\"black\" x1=\"50%\" x2=\"81.3953%\" y1=\"1.2em\" y2=\"3em\" /></svg><line stroke=\"black\" x1=\"50%\" x2=\"16.6667%\" y1=\"1.2em\" y2=\"3em\" /><svg width=\"31.7829%\" x=\"33.3333%\" y=\"3em\"><defs /><svg width=\"100%\" x=\"0\" y=\"0em\"><defs /><text text-anchor=\"middle\" x=\"50%\" y=\"1em\">V[OBJCASE='akk',SBJCASE='nom',SUBCAT=1]</text></svg><svg width=\"100%\" x=\"0%\" y=\"3em\"><defs /><svg width=\"100%\" x=\"0\" y=\"0em\"><defs /><text text-anchor=\"middle\" x=\"50%\" y=\"1em\">kennt</text></svg></svg><line stroke=\"black\" x1=\"50%\" x2=\"50%\" y1=\"1.2em\" y2=\"3em\" /></svg><line stroke=\"black\" x1=\"50%\" x2=\"49.2248%\" y1=\"1.2em\" y2=\"3em\" /><svg width=\"34.8837%\" x=\"65.1163%\" y=\"3em\"><defs /><svg width=\"100%\" x=\"0\" y=\"0em\"><defs /><text text-anchor=\"middle\" x=\"50%\" y=\"1em\">NP[CASE='nom']</text></svg><svg width=\"62.2222%\" x=\"0%\" y=\"3em\"><defs /><svg width=\"100%\" x=\"0\" y=\"0em\"><defs /><text text-anchor=\"middle\" x=\"50%\" y=\"1em\">DET[CASE='nom',GEN='mask']</text></svg><svg width=\"100%\" x=\"0%\" y=\"3em\"><defs /><svg width=\"100%\" x=\"0\" y=\"0em\"><defs /><text text-anchor=\"middle\" x=\"50%\" y=\"1em\">der</text></svg></svg><line stroke=\"black\" x1=\"50%\" x2=\"50%\" y1=\"1.2em\" y2=\"3em\" /></svg><line stroke=\"black\" x1=\"50%\" x2=\"31.1111%\" y1=\"1.2em\" y2=\"3em\" /><svg width=\"37.7778%\" x=\"62.2222%\" y=\"3em\"><defs /><svg width=\"100%\" x=\"0\" y=\"0em\"><defs /><text text-anchor=\"middle\" x=\"50%\" y=\"1em\">NOM[GEN='mask']</text></svg><svg width=\"100%\" x=\"0%\" y=\"3em\"><defs /><svg width=\"100%\" x=\"0\" y=\"0em\"><defs /><text text-anchor=\"middle\" x=\"50%\" y=\"1em\">N[GEN='mask']</text></svg><svg width=\"100%\" x=\"0%\" y=\"3em\"><defs /><svg width=\"100%\" x=\"0\" y=\"0em\"><defs /><text text-anchor=\"middle\" x=\"50%\" y=\"1em\">Mann</text></svg></svg><line stroke=\"black\" x1=\"50%\" x2=\"50%\" y1=\"1.2em\" y2=\"3em\" /></svg><line stroke=\"black\" x1=\"50%\" x2=\"50%\" y1=\"1.2em\" y2=\"3em\" /></svg><line stroke=\"black\" x1=\"50%\" x2=\"81.1111%\" y1=\"1.2em\" y2=\"3em\" /></svg><line stroke=\"black\" x1=\"50%\" x2=\"82.5581%\" y1=\"1.2em\" y2=\"3em\" /></svg>"
      ],
      "text/plain": [
       "Tree('S[]', [Tree(\"NP[CASE='akk']\", [Tree(\"DET[CASE='akk',GEN='fem']\", ['die']), Tree(\"NOM[GEN='fem']\", [Tree(\"N[GEN='fem']\", ['Frau'])])]), Tree(\"V[OBJCASE='akk',SBJCASE='nom',SUBCAT=1]\", ['kennt']), Tree(\"NP[CASE='nom']\", [Tree(\"DET[CASE='nom',GEN='mask']\", ['der']), Tree(\"NOM[GEN='mask']\", [Tree(\"N[GEN='mask']\", ['Mann'])])])])"
      ]
     },
     "metadata": {},
     "output_type": "display_data"
    },
    {
     "data": {
      "image/svg+xml": [
       "<svg baseProfile=\"full\" height=\"216px\" preserveAspectRatio=\"xMidYMid meet\" style=\"font-family: times, serif; font-weight:normal; font-style: normal; font-size: 16px;\" version=\"1.1\" viewBox=\"0,0,1512.0,216.0\" width=\"1512px\" xmlns=\"http://www.w3.org/2000/svg\" xmlns:ev=\"http://www.w3.org/2001/xml-events\" xmlns:xlink=\"http://www.w3.org/1999/xlink\"><defs /><svg width=\"100%\" x=\"0\" y=\"0em\"><defs /><text text-anchor=\"middle\" x=\"50%\" y=\"1em\">S[]</text></svg><svg width=\"22.7513%\" x=\"0%\" y=\"3em\"><defs /><svg width=\"100%\" x=\"0\" y=\"0em\"><defs /><text text-anchor=\"middle\" x=\"50%\" y=\"1em\">NP[CASE='dat']</text></svg><svg width=\"62.7907%\" x=\"0%\" y=\"3em\"><defs /><svg width=\"100%\" x=\"0\" y=\"0em\"><defs /><text text-anchor=\"middle\" x=\"50%\" y=\"1em\">DET[CASE='dat',GEN='fem']</text></svg><svg width=\"100%\" x=\"0%\" y=\"3em\"><defs /><svg width=\"100%\" x=\"0\" y=\"0em\"><defs /><text text-anchor=\"middle\" x=\"50%\" y=\"1em\">der</text></svg></svg><line stroke=\"black\" x1=\"50%\" x2=\"50%\" y1=\"1.2em\" y2=\"3em\" /></svg><line stroke=\"black\" x1=\"50%\" x2=\"31.3953%\" y1=\"1.2em\" y2=\"3em\" /><svg width=\"37.2093%\" x=\"62.7907%\" y=\"3em\"><defs /><svg width=\"100%\" x=\"0\" y=\"0em\"><defs /><text text-anchor=\"middle\" x=\"50%\" y=\"1em\">NOM[GEN='fem']</text></svg><svg width=\"100%\" x=\"0%\" y=\"3em\"><defs /><svg width=\"100%\" x=\"0\" y=\"0em\"><defs /><text text-anchor=\"middle\" x=\"50%\" y=\"1em\">N[GEN='fem']</text></svg><svg width=\"100%\" x=\"0%\" y=\"3em\"><defs /><svg width=\"100%\" x=\"0\" y=\"0em\"><defs /><text text-anchor=\"middle\" x=\"50%\" y=\"1em\">Frau</text></svg></svg><line stroke=\"black\" x1=\"50%\" x2=\"50%\" y1=\"1.2em\" y2=\"3em\" /></svg><line stroke=\"black\" x1=\"50%\" x2=\"50%\" y1=\"1.2em\" y2=\"3em\" /></svg><line stroke=\"black\" x1=\"50%\" x2=\"81.3953%\" y1=\"1.2em\" y2=\"3em\" /></svg><line stroke=\"black\" x1=\"50%\" x2=\"11.3757%\" y1=\"1.2em\" y2=\"3em\" /><svg width=\"29.6296%\" x=\"22.7513%\" y=\"3em\"><defs /><svg width=\"100%\" x=\"0\" y=\"0em\"><defs /><text text-anchor=\"middle\" x=\"50%\" y=\"1em\">V[IOBJCASE='dat',OBJCASE='akk',SBJCASE='nom',SUBCAT=2]</text></svg><svg width=\"100%\" x=\"0%\" y=\"3em\"><defs /><svg width=\"100%\" x=\"0\" y=\"0em\"><defs /><text text-anchor=\"middle\" x=\"50%\" y=\"1em\">gibt</text></svg></svg><line stroke=\"black\" x1=\"50%\" x2=\"50%\" y1=\"1.2em\" y2=\"3em\" /></svg><line stroke=\"black\" x1=\"50%\" x2=\"37.5661%\" y1=\"1.2em\" y2=\"3em\" /><svg width=\"23.8095%\" x=\"52.381%\" y=\"3em\"><defs /><svg width=\"100%\" x=\"0\" y=\"0em\"><defs /><text text-anchor=\"middle\" x=\"50%\" y=\"1em\">NP[CASE='nom']</text></svg><svg width=\"62.2222%\" x=\"0%\" y=\"3em\"><defs /><svg width=\"100%\" x=\"0\" y=\"0em\"><defs /><text text-anchor=\"middle\" x=\"50%\" y=\"1em\">DET[CASE='nom',GEN='mask']</text></svg><svg width=\"100%\" x=\"0%\" y=\"3em\"><defs /><svg width=\"100%\" x=\"0\" y=\"0em\"><defs /><text text-anchor=\"middle\" x=\"50%\" y=\"1em\">der</text></svg></svg><line stroke=\"black\" x1=\"50%\" x2=\"50%\" y1=\"1.2em\" y2=\"3em\" /></svg><line stroke=\"black\" x1=\"50%\" x2=\"31.1111%\" y1=\"1.2em\" y2=\"3em\" /><svg width=\"37.7778%\" x=\"62.2222%\" y=\"3em\"><defs /><svg width=\"100%\" x=\"0\" y=\"0em\"><defs /><text text-anchor=\"middle\" x=\"50%\" y=\"1em\">NOM[GEN='mask']</text></svg><svg width=\"100%\" x=\"0%\" y=\"3em\"><defs /><svg width=\"100%\" x=\"0\" y=\"0em\"><defs /><text text-anchor=\"middle\" x=\"50%\" y=\"1em\">N[GEN='mask']</text></svg><svg width=\"100%\" x=\"0%\" y=\"3em\"><defs /><svg width=\"100%\" x=\"0\" y=\"0em\"><defs /><text text-anchor=\"middle\" x=\"50%\" y=\"1em\">Mann</text></svg></svg><line stroke=\"black\" x1=\"50%\" x2=\"50%\" y1=\"1.2em\" y2=\"3em\" /></svg><line stroke=\"black\" x1=\"50%\" x2=\"50%\" y1=\"1.2em\" y2=\"3em\" /></svg><line stroke=\"black\" x1=\"50%\" x2=\"81.1111%\" y1=\"1.2em\" y2=\"3em\" /></svg><line stroke=\"black\" x1=\"50%\" x2=\"64.2857%\" y1=\"1.2em\" y2=\"3em\" /><svg width=\"23.8095%\" x=\"76.1905%\" y=\"3em\"><defs /><svg width=\"100%\" x=\"0\" y=\"0em\"><defs /><text text-anchor=\"middle\" x=\"50%\" y=\"1em\">NP[CASE='akk']</text></svg><svg width=\"62.2222%\" x=\"0%\" y=\"3em\"><defs /><svg width=\"100%\" x=\"0\" y=\"0em\"><defs /><text text-anchor=\"middle\" x=\"50%\" y=\"1em\">DET[CASE='akk',GEN='neut']</text></svg><svg width=\"100%\" x=\"0%\" y=\"3em\"><defs /><svg width=\"100%\" x=\"0\" y=\"0em\"><defs /><text text-anchor=\"middle\" x=\"50%\" y=\"1em\">das</text></svg></svg><line stroke=\"black\" x1=\"50%\" x2=\"50%\" y1=\"1.2em\" y2=\"3em\" /></svg><line stroke=\"black\" x1=\"50%\" x2=\"31.1111%\" y1=\"1.2em\" y2=\"3em\" /><svg width=\"37.7778%\" x=\"62.2222%\" y=\"3em\"><defs /><svg width=\"100%\" x=\"0\" y=\"0em\"><defs /><text text-anchor=\"middle\" x=\"50%\" y=\"1em\">NOM[GEN='neut']</text></svg><svg width=\"100%\" x=\"0%\" y=\"3em\"><defs /><svg width=\"100%\" x=\"0\" y=\"0em\"><defs /><text text-anchor=\"middle\" x=\"50%\" y=\"1em\">N[GEN='neut']</text></svg><svg width=\"100%\" x=\"0%\" y=\"3em\"><defs /><svg width=\"100%\" x=\"0\" y=\"0em\"><defs /><text text-anchor=\"middle\" x=\"50%\" y=\"1em\">Buch</text></svg></svg><line stroke=\"black\" x1=\"50%\" x2=\"50%\" y1=\"1.2em\" y2=\"3em\" /></svg><line stroke=\"black\" x1=\"50%\" x2=\"50%\" y1=\"1.2em\" y2=\"3em\" /></svg><line stroke=\"black\" x1=\"50%\" x2=\"81.1111%\" y1=\"1.2em\" y2=\"3em\" /></svg><line stroke=\"black\" x1=\"50%\" x2=\"88.0952%\" y1=\"1.2em\" y2=\"3em\" /></svg>"
      ],
      "text/plain": [
       "Tree('S[]', [Tree(\"NP[CASE='dat']\", [Tree(\"DET[CASE='dat',GEN='fem']\", ['der']), Tree(\"NOM[GEN='fem']\", [Tree(\"N[GEN='fem']\", ['Frau'])])]), Tree(\"V[IOBJCASE='dat',OBJCASE='akk',SBJCASE='nom',SUBCAT=2]\", ['gibt']), Tree(\"NP[CASE='nom']\", [Tree(\"DET[CASE='nom',GEN='mask']\", ['der']), Tree(\"NOM[GEN='mask']\", [Tree(\"N[GEN='mask']\", ['Mann'])])]), Tree(\"NP[CASE='akk']\", [Tree(\"DET[CASE='akk',GEN='neut']\", ['das']), Tree(\"NOM[GEN='neut']\", [Tree(\"N[GEN='neut']\", ['Buch'])])])])"
      ]
     },
     "metadata": {},
     "output_type": "display_data"
    },
    {
     "data": {
      "image/svg+xml": [
       "<svg baseProfile=\"full\" height=\"216px\" preserveAspectRatio=\"xMidYMid meet\" style=\"font-family: times, serif; font-weight:normal; font-style: normal; font-size: 16px;\" version=\"1.1\" viewBox=\"0,0,1512.0,216.0\" width=\"1512px\" xmlns=\"http://www.w3.org/2000/svg\" xmlns:ev=\"http://www.w3.org/2001/xml-events\" xmlns:xlink=\"http://www.w3.org/1999/xlink\"><defs /><svg width=\"100%\" x=\"0\" y=\"0em\"><defs /><text text-anchor=\"middle\" x=\"50%\" y=\"1em\">S[]</text></svg><svg width=\"23.8095%\" x=\"0%\" y=\"3em\"><defs /><svg width=\"100%\" x=\"0\" y=\"0em\"><defs /><text text-anchor=\"middle\" x=\"50%\" y=\"1em\">NP[CASE='akk']</text></svg><svg width=\"62.2222%\" x=\"0%\" y=\"3em\"><defs /><svg width=\"100%\" x=\"0\" y=\"0em\"><defs /><text text-anchor=\"middle\" x=\"50%\" y=\"1em\">DET[CASE='akk',GEN='neut']</text></svg><svg width=\"100%\" x=\"0%\" y=\"3em\"><defs /><svg width=\"100%\" x=\"0\" y=\"0em\"><defs /><text text-anchor=\"middle\" x=\"50%\" y=\"1em\">das</text></svg></svg><line stroke=\"black\" x1=\"50%\" x2=\"50%\" y1=\"1.2em\" y2=\"3em\" /></svg><line stroke=\"black\" x1=\"50%\" x2=\"31.1111%\" y1=\"1.2em\" y2=\"3em\" /><svg width=\"37.7778%\" x=\"62.2222%\" y=\"3em\"><defs /><svg width=\"100%\" x=\"0\" y=\"0em\"><defs /><text text-anchor=\"middle\" x=\"50%\" y=\"1em\">NOM[GEN='neut']</text></svg><svg width=\"100%\" x=\"0%\" y=\"3em\"><defs /><svg width=\"100%\" x=\"0\" y=\"0em\"><defs /><text text-anchor=\"middle\" x=\"50%\" y=\"1em\">N[GEN='neut']</text></svg><svg width=\"100%\" x=\"0%\" y=\"3em\"><defs /><svg width=\"100%\" x=\"0\" y=\"0em\"><defs /><text text-anchor=\"middle\" x=\"50%\" y=\"1em\">Buch</text></svg></svg><line stroke=\"black\" x1=\"50%\" x2=\"50%\" y1=\"1.2em\" y2=\"3em\" /></svg><line stroke=\"black\" x1=\"50%\" x2=\"50%\" y1=\"1.2em\" y2=\"3em\" /></svg><line stroke=\"black\" x1=\"50%\" x2=\"81.1111%\" y1=\"1.2em\" y2=\"3em\" /></svg><line stroke=\"black\" x1=\"50%\" x2=\"11.9048%\" y1=\"1.2em\" y2=\"3em\" /><svg width=\"29.6296%\" x=\"23.8095%\" y=\"3em\"><defs /><svg width=\"100%\" x=\"0\" y=\"0em\"><defs /><text text-anchor=\"middle\" x=\"50%\" y=\"1em\">V[IOBJCASE='dat',OBJCASE='akk',SBJCASE='nom',SUBCAT=2]</text></svg><svg width=\"100%\" x=\"0%\" y=\"3em\"><defs /><svg width=\"100%\" x=\"0\" y=\"0em\"><defs /><text text-anchor=\"middle\" x=\"50%\" y=\"1em\">gibt</text></svg></svg><line stroke=\"black\" x1=\"50%\" x2=\"50%\" y1=\"1.2em\" y2=\"3em\" /></svg><line stroke=\"black\" x1=\"50%\" x2=\"38.6243%\" y1=\"1.2em\" y2=\"3em\" /><svg width=\"23.8095%\" x=\"53.4392%\" y=\"3em\"><defs /><svg width=\"100%\" x=\"0\" y=\"0em\"><defs /><text text-anchor=\"middle\" x=\"50%\" y=\"1em\">NP[CASE='nom']</text></svg><svg width=\"62.2222%\" x=\"0%\" y=\"3em\"><defs /><svg width=\"100%\" x=\"0\" y=\"0em\"><defs /><text text-anchor=\"middle\" x=\"50%\" y=\"1em\">DET[CASE='nom',GEN='mask']</text></svg><svg width=\"100%\" x=\"0%\" y=\"3em\"><defs /><svg width=\"100%\" x=\"0\" y=\"0em\"><defs /><text text-anchor=\"middle\" x=\"50%\" y=\"1em\">der</text></svg></svg><line stroke=\"black\" x1=\"50%\" x2=\"50%\" y1=\"1.2em\" y2=\"3em\" /></svg><line stroke=\"black\" x1=\"50%\" x2=\"31.1111%\" y1=\"1.2em\" y2=\"3em\" /><svg width=\"37.7778%\" x=\"62.2222%\" y=\"3em\"><defs /><svg width=\"100%\" x=\"0\" y=\"0em\"><defs /><text text-anchor=\"middle\" x=\"50%\" y=\"1em\">NOM[GEN='mask']</text></svg><svg width=\"100%\" x=\"0%\" y=\"3em\"><defs /><svg width=\"100%\" x=\"0\" y=\"0em\"><defs /><text text-anchor=\"middle\" x=\"50%\" y=\"1em\">N[GEN='mask']</text></svg><svg width=\"100%\" x=\"0%\" y=\"3em\"><defs /><svg width=\"100%\" x=\"0\" y=\"0em\"><defs /><text text-anchor=\"middle\" x=\"50%\" y=\"1em\">Mann</text></svg></svg><line stroke=\"black\" x1=\"50%\" x2=\"50%\" y1=\"1.2em\" y2=\"3em\" /></svg><line stroke=\"black\" x1=\"50%\" x2=\"50%\" y1=\"1.2em\" y2=\"3em\" /></svg><line stroke=\"black\" x1=\"50%\" x2=\"81.1111%\" y1=\"1.2em\" y2=\"3em\" /></svg><line stroke=\"black\" x1=\"50%\" x2=\"65.3439%\" y1=\"1.2em\" y2=\"3em\" /><svg width=\"22.7513%\" x=\"77.2487%\" y=\"3em\"><defs /><svg width=\"100%\" x=\"0\" y=\"0em\"><defs /><text text-anchor=\"middle\" x=\"50%\" y=\"1em\">NP[CASE='dat']</text></svg><svg width=\"62.7907%\" x=\"0%\" y=\"3em\"><defs /><svg width=\"100%\" x=\"0\" y=\"0em\"><defs /><text text-anchor=\"middle\" x=\"50%\" y=\"1em\">DET[CASE='dat',GEN='fem']</text></svg><svg width=\"100%\" x=\"0%\" y=\"3em\"><defs /><svg width=\"100%\" x=\"0\" y=\"0em\"><defs /><text text-anchor=\"middle\" x=\"50%\" y=\"1em\">der</text></svg></svg><line stroke=\"black\" x1=\"50%\" x2=\"50%\" y1=\"1.2em\" y2=\"3em\" /></svg><line stroke=\"black\" x1=\"50%\" x2=\"31.3953%\" y1=\"1.2em\" y2=\"3em\" /><svg width=\"37.2093%\" x=\"62.7907%\" y=\"3em\"><defs /><svg width=\"100%\" x=\"0\" y=\"0em\"><defs /><text text-anchor=\"middle\" x=\"50%\" y=\"1em\">NOM[GEN='fem']</text></svg><svg width=\"100%\" x=\"0%\" y=\"3em\"><defs /><svg width=\"100%\" x=\"0\" y=\"0em\"><defs /><text text-anchor=\"middle\" x=\"50%\" y=\"1em\">N[GEN='fem']</text></svg><svg width=\"100%\" x=\"0%\" y=\"3em\"><defs /><svg width=\"100%\" x=\"0\" y=\"0em\"><defs /><text text-anchor=\"middle\" x=\"50%\" y=\"1em\">Frau</text></svg></svg><line stroke=\"black\" x1=\"50%\" x2=\"50%\" y1=\"1.2em\" y2=\"3em\" /></svg><line stroke=\"black\" x1=\"50%\" x2=\"50%\" y1=\"1.2em\" y2=\"3em\" /></svg><line stroke=\"black\" x1=\"50%\" x2=\"81.3953%\" y1=\"1.2em\" y2=\"3em\" /></svg><line stroke=\"black\" x1=\"50%\" x2=\"88.6243%\" y1=\"1.2em\" y2=\"3em\" /></svg>"
      ],
      "text/plain": [
       "Tree('S[]', [Tree(\"NP[CASE='akk']\", [Tree(\"DET[CASE='akk',GEN='neut']\", ['das']), Tree(\"NOM[GEN='neut']\", [Tree(\"N[GEN='neut']\", ['Buch'])])]), Tree(\"V[IOBJCASE='dat',OBJCASE='akk',SBJCASE='nom',SUBCAT=2]\", ['gibt']), Tree(\"NP[CASE='nom']\", [Tree(\"DET[CASE='nom',GEN='mask']\", ['der']), Tree(\"NOM[GEN='mask']\", [Tree(\"N[GEN='mask']\", ['Mann'])])]), Tree(\"NP[CASE='dat']\", [Tree(\"DET[CASE='dat',GEN='fem']\", ['der']), Tree(\"NOM[GEN='fem']\", [Tree(\"N[GEN='fem']\", ['Frau'])])])])"
      ]
     },
     "metadata": {},
     "output_type": "display_data"
    }
   ],
   "source": [
    "for sent in pos_inv_sents:\n",
    "    trees = list(parser.parse(sent.split()))\n",
    "    if trees: [show_FeatTree(tree, style=1, draw=1) for tree in trees]\n",
    "    else: print(f\"no parse found for: {sent}\")"
   ]
  },
  {
   "cell_type": "markdown",
   "metadata": {},
   "source": [
    "### c) Kasus und Subkategorisierung mit Slah-Kategorie\n",
    "\n",
    "#### Wiederholen Sie die Modellierung für Kasusbedingungen über ein INV-Feature für die invertierte VP bei transitiven Verben und eines Gap-Features (Slash-Kategorie) für die an das Satzende gestellte Objekt-NP.\n"
   ]
  },
  {
   "cell_type": "code",
   "execution_count": 32,
   "metadata": {},
   "outputs": [],
   "source": [
    "# Lösung B für Bedingungen 1 + 2 + 3 mit INV-Merkmal und Slash-Kategorie (Gap-Merkmal):\n",
    "\n",
    "#   -> invertierte VP bei transitiven Verben: (NP V)=VP NP\n",
    "#   -> Slash-Kategorie für die an das Satzende gestellte Objekt-NP bzw. Indirekt-Objekt-NP in ditransitiven Sätzen\n",
    "\n",
    "grammar = FeatureGrammar.fromstring(r\"\"\"\n",
    "\n",
    "S -> NP[CASE=nom] VP\n",
    "\n",
    "#####Regeln für invertierte transitive Sätze (ohne Slash-Feature, nur Wortstellung in VP vertauscht):\n",
    "S -> VP[+INV] NP[CASE=nom]\n",
    "VP[+INV] -> NP[CASE=?x] V[SUBCAT=1,OBJCASE=?x]\n",
    "\n",
    "#####Regeln für invertierte ditransitive Sätze (mit Slash-Kategorie für long distance dependency am Satzende):\n",
    "S -> VP[+INV]/NP[CASE=?x] NP[CASE=nom] NP[CASE=?x]\n",
    "VP[+INV]/NP[CASE=?io] -> NP/NP[CASE=?io] NP[CASE=?o] V[SUBCAT=2,IOBJCASE=?io,OBJCASE=?o] \n",
    "VP[+INV]/NP[CASE=?o] -> NP[CASE=?io] NP/NP[CASE=?o] V[SUBCAT=2,IOBJCASE=?io,OBJCASE=?o] \n",
    "NP/NP -> \n",
    "\n",
    "\n",
    "NP[CASE=?y] -> DET[GEN=?x,CASE=?y] NOM[GEN=?x,CASE=?y]\n",
    "NOM[GEN=?x] -> N[GEN=?x]\n",
    "\n",
    "VP -> V[SUBCAT=0]\n",
    "VP -> V[SUBCAT=1,OBJCASE=?x] NP[CASE=?x]\n",
    "VP -> V[SUBCAT=2,IOBJCASE=?x,OBJCASE=?y] NP[CASE=?x] NP[CASE=?y]\n",
    "\n",
    "N[GEN=mask] -> \"Mann\"\n",
    "N[GEN=fem] -> \"Frau\"\n",
    "N[GEN=neut] -> \"Buch\"\n",
    "\n",
    "V[SUBCAT=0] -> \"schlaeft\"\n",
    "V[SUBCAT=1,OBJCASE=dat] -> \"gefaellt\"\n",
    "V[SUBCAT=1,OBJCASE=akk] -> \"kennt\"\n",
    "V[SUBCAT=2, IOBJCASE=dat, OBJCASE=akk] -> \"gibt\" | \"schenkt\"\n",
    "\n",
    "DET[GEN=mask,CASE=akk] -> \"den\"\n",
    "DET[GEN=mask,CASE=nom] -> \"der\"\n",
    "DET[GEN=fem,CASE=dat] -> \"der\"\n",
    "DET[GEN=fem,CASE=nom] -> \"die\"\n",
    "DET[GEN=fem,CASE=akk] -> \"die\"\n",
    "DET[GEN=neut,CASE=nom] -> \"das\"\n",
    "DET[GEN=neut,CASE=akk] -> \"das\"\n",
    "\"\"\")\n",
    "\n",
    "parser = nltk.FeatureChartParser(grammar)"
   ]
  },
  {
   "cell_type": "code",
   "execution_count": 33,
   "metadata": {
    "scrolled": true
   },
   "outputs": [
    {
     "data": {
      "image/svg+xml": [
       "<svg baseProfile=\"full\" height=\"264px\" preserveAspectRatio=\"xMidYMid meet\" style=\"font-family: times, serif; font-weight:normal; font-style: normal; font-size: 16px;\" version=\"1.1\" viewBox=\"0,0,920.0,264.0\" width=\"920px\" xmlns=\"http://www.w3.org/2000/svg\" xmlns:ev=\"http://www.w3.org/2001/xml-events\" xmlns:xlink=\"http://www.w3.org/1999/xlink\"><defs /><svg width=\"100%\" x=\"0\" y=\"0em\"><defs /><text text-anchor=\"middle\" x=\"50%\" y=\"1em\">S[]</text></svg><svg width=\"62.6087%\" x=\"0%\" y=\"3em\"><defs /><svg width=\"100%\" x=\"0\" y=\"0em\"><defs /><text text-anchor=\"middle\" x=\"50%\" y=\"1em\">VP[+INV]</text></svg><svg width=\"62.5%\" x=\"0%\" y=\"3em\"><defs /><svg width=\"100%\" x=\"0\" y=\"0em\"><defs /><text text-anchor=\"middle\" x=\"50%\" y=\"1em\">NP[CASE='akk']</text></svg><svg width=\"62.2222%\" x=\"0%\" y=\"3em\"><defs /><svg width=\"100%\" x=\"0\" y=\"0em\"><defs /><text text-anchor=\"middle\" x=\"50%\" y=\"1em\">DET[CASE='akk',GEN='mask']</text></svg><svg width=\"100%\" x=\"0%\" y=\"3em\"><defs /><svg width=\"100%\" x=\"0\" y=\"0em\"><defs /><text text-anchor=\"middle\" x=\"50%\" y=\"1em\">den</text></svg></svg><line stroke=\"black\" x1=\"50%\" x2=\"50%\" y1=\"1.2em\" y2=\"3em\" /></svg><line stroke=\"black\" x1=\"50%\" x2=\"31.1111%\" y1=\"1.2em\" y2=\"3em\" /><svg width=\"37.7778%\" x=\"62.2222%\" y=\"3em\"><defs /><svg width=\"100%\" x=\"0\" y=\"0em\"><defs /><text text-anchor=\"middle\" x=\"50%\" y=\"1em\">NOM[GEN='mask']</text></svg><svg width=\"100%\" x=\"0%\" y=\"3em\"><defs /><svg width=\"100%\" x=\"0\" y=\"0em\"><defs /><text text-anchor=\"middle\" x=\"50%\" y=\"1em\">N[GEN='mask']</text></svg><svg width=\"100%\" x=\"0%\" y=\"3em\"><defs /><svg width=\"100%\" x=\"0\" y=\"0em\"><defs /><text text-anchor=\"middle\" x=\"50%\" y=\"1em\">Mann</text></svg></svg><line stroke=\"black\" x1=\"50%\" x2=\"50%\" y1=\"1.2em\" y2=\"3em\" /></svg><line stroke=\"black\" x1=\"50%\" x2=\"50%\" y1=\"1.2em\" y2=\"3em\" /></svg><line stroke=\"black\" x1=\"50%\" x2=\"81.1111%\" y1=\"1.2em\" y2=\"3em\" /></svg><line stroke=\"black\" x1=\"50%\" x2=\"31.25%\" y1=\"1.2em\" y2=\"3em\" /><svg width=\"37.5%\" x=\"62.5%\" y=\"3em\"><defs /><svg width=\"100%\" x=\"0\" y=\"0em\"><defs /><text text-anchor=\"middle\" x=\"50%\" y=\"1em\">V[OBJCASE='akk',SUBCAT=1]</text></svg><svg width=\"100%\" x=\"0%\" y=\"3em\"><defs /><svg width=\"100%\" x=\"0\" y=\"0em\"><defs /><text text-anchor=\"middle\" x=\"50%\" y=\"1em\">kennt</text></svg></svg><line stroke=\"black\" x1=\"50%\" x2=\"50%\" y1=\"1.2em\" y2=\"3em\" /></svg><line stroke=\"black\" x1=\"50%\" x2=\"81.25%\" y1=\"1.2em\" y2=\"3em\" /></svg><line stroke=\"black\" x1=\"50%\" x2=\"31.3043%\" y1=\"1.2em\" y2=\"3em\" /><svg width=\"37.3913%\" x=\"62.6087%\" y=\"3em\"><defs /><svg width=\"100%\" x=\"0\" y=\"0em\"><defs /><text text-anchor=\"middle\" x=\"50%\" y=\"1em\">NP[CASE='nom']</text></svg><svg width=\"62.7907%\" x=\"0%\" y=\"3em\"><defs /><svg width=\"100%\" x=\"0\" y=\"0em\"><defs /><text text-anchor=\"middle\" x=\"50%\" y=\"1em\">DET[CASE='nom',GEN='fem']</text></svg><svg width=\"100%\" x=\"0%\" y=\"3em\"><defs /><svg width=\"100%\" x=\"0\" y=\"0em\"><defs /><text text-anchor=\"middle\" x=\"50%\" y=\"1em\">die</text></svg></svg><line stroke=\"black\" x1=\"50%\" x2=\"50%\" y1=\"1.2em\" y2=\"3em\" /></svg><line stroke=\"black\" x1=\"50%\" x2=\"31.3953%\" y1=\"1.2em\" y2=\"3em\" /><svg width=\"37.2093%\" x=\"62.7907%\" y=\"3em\"><defs /><svg width=\"100%\" x=\"0\" y=\"0em\"><defs /><text text-anchor=\"middle\" x=\"50%\" y=\"1em\">NOM[GEN='fem']</text></svg><svg width=\"100%\" x=\"0%\" y=\"3em\"><defs /><svg width=\"100%\" x=\"0\" y=\"0em\"><defs /><text text-anchor=\"middle\" x=\"50%\" y=\"1em\">N[GEN='fem']</text></svg><svg width=\"100%\" x=\"0%\" y=\"3em\"><defs /><svg width=\"100%\" x=\"0\" y=\"0em\"><defs /><text text-anchor=\"middle\" x=\"50%\" y=\"1em\">Frau</text></svg></svg><line stroke=\"black\" x1=\"50%\" x2=\"50%\" y1=\"1.2em\" y2=\"3em\" /></svg><line stroke=\"black\" x1=\"50%\" x2=\"50%\" y1=\"1.2em\" y2=\"3em\" /></svg><line stroke=\"black\" x1=\"50%\" x2=\"81.3953%\" y1=\"1.2em\" y2=\"3em\" /></svg><line stroke=\"black\" x1=\"50%\" x2=\"81.3043%\" y1=\"1.2em\" y2=\"3em\" /></svg>"
      ],
      "text/plain": [
       "Tree('S[]', [Tree('VP[+INV]', [Tree(\"NP[CASE='akk']\", [Tree(\"DET[CASE='akk',GEN='mask']\", ['den']), Tree(\"NOM[GEN='mask']\", [Tree(\"N[GEN='mask']\", ['Mann'])])]), Tree(\"V[OBJCASE='akk',SUBCAT=1]\", ['kennt'])]), Tree(\"NP[CASE='nom']\", [Tree(\"DET[CASE='nom',GEN='fem']\", ['die']), Tree(\"NOM[GEN='fem']\", [Tree(\"N[GEN='fem']\", ['Frau'])])])])"
      ]
     },
     "metadata": {},
     "output_type": "display_data"
    },
    {
     "data": {
      "image/svg+xml": [
       "<svg baseProfile=\"full\" height=\"264px\" preserveAspectRatio=\"xMidYMid meet\" style=\"font-family: times, serif; font-weight:normal; font-style: normal; font-size: 16px;\" version=\"1.1\" viewBox=\"0,0,920.0,264.0\" width=\"920px\" xmlns=\"http://www.w3.org/2000/svg\" xmlns:ev=\"http://www.w3.org/2001/xml-events\" xmlns:xlink=\"http://www.w3.org/1999/xlink\"><defs /><svg width=\"100%\" x=\"0\" y=\"0em\"><defs /><text text-anchor=\"middle\" x=\"50%\" y=\"1em\">S[]</text></svg><svg width=\"60.8696%\" x=\"0%\" y=\"3em\"><defs /><svg width=\"100%\" x=\"0\" y=\"0em\"><defs /><text text-anchor=\"middle\" x=\"50%\" y=\"1em\">VP[+INV]</text></svg><svg width=\"61.4286%\" x=\"0%\" y=\"3em\"><defs /><svg width=\"100%\" x=\"0\" y=\"0em\"><defs /><text text-anchor=\"middle\" x=\"50%\" y=\"1em\">NP[CASE='akk']</text></svg><svg width=\"62.7907%\" x=\"0%\" y=\"3em\"><defs /><svg width=\"100%\" x=\"0\" y=\"0em\"><defs /><text text-anchor=\"middle\" x=\"50%\" y=\"1em\">DET[CASE='akk',GEN='fem']</text></svg><svg width=\"100%\" x=\"0%\" y=\"3em\"><defs /><svg width=\"100%\" x=\"0\" y=\"0em\"><defs /><text text-anchor=\"middle\" x=\"50%\" y=\"1em\">die</text></svg></svg><line stroke=\"black\" x1=\"50%\" x2=\"50%\" y1=\"1.2em\" y2=\"3em\" /></svg><line stroke=\"black\" x1=\"50%\" x2=\"31.3953%\" y1=\"1.2em\" y2=\"3em\" /><svg width=\"37.2093%\" x=\"62.7907%\" y=\"3em\"><defs /><svg width=\"100%\" x=\"0\" y=\"0em\"><defs /><text text-anchor=\"middle\" x=\"50%\" y=\"1em\">NOM[GEN='fem']</text></svg><svg width=\"100%\" x=\"0%\" y=\"3em\"><defs /><svg width=\"100%\" x=\"0\" y=\"0em\"><defs /><text text-anchor=\"middle\" x=\"50%\" y=\"1em\">N[GEN='fem']</text></svg><svg width=\"100%\" x=\"0%\" y=\"3em\"><defs /><svg width=\"100%\" x=\"0\" y=\"0em\"><defs /><text text-anchor=\"middle\" x=\"50%\" y=\"1em\">Frau</text></svg></svg><line stroke=\"black\" x1=\"50%\" x2=\"50%\" y1=\"1.2em\" y2=\"3em\" /></svg><line stroke=\"black\" x1=\"50%\" x2=\"50%\" y1=\"1.2em\" y2=\"3em\" /></svg><line stroke=\"black\" x1=\"50%\" x2=\"81.3953%\" y1=\"1.2em\" y2=\"3em\" /></svg><line stroke=\"black\" x1=\"50%\" x2=\"30.7143%\" y1=\"1.2em\" y2=\"3em\" /><svg width=\"38.5714%\" x=\"61.4286%\" y=\"3em\"><defs /><svg width=\"100%\" x=\"0\" y=\"0em\"><defs /><text text-anchor=\"middle\" x=\"50%\" y=\"1em\">V[OBJCASE='akk',SUBCAT=1]</text></svg><svg width=\"100%\" x=\"0%\" y=\"3em\"><defs /><svg width=\"100%\" x=\"0\" y=\"0em\"><defs /><text text-anchor=\"middle\" x=\"50%\" y=\"1em\">kennt</text></svg></svg><line stroke=\"black\" x1=\"50%\" x2=\"50%\" y1=\"1.2em\" y2=\"3em\" /></svg><line stroke=\"black\" x1=\"50%\" x2=\"80.7143%\" y1=\"1.2em\" y2=\"3em\" /></svg><line stroke=\"black\" x1=\"50%\" x2=\"30.4348%\" y1=\"1.2em\" y2=\"3em\" /><svg width=\"39.1304%\" x=\"60.8696%\" y=\"3em\"><defs /><svg width=\"100%\" x=\"0\" y=\"0em\"><defs /><text text-anchor=\"middle\" x=\"50%\" y=\"1em\">NP[CASE='nom']</text></svg><svg width=\"62.2222%\" x=\"0%\" y=\"3em\"><defs /><svg width=\"100%\" x=\"0\" y=\"0em\"><defs /><text text-anchor=\"middle\" x=\"50%\" y=\"1em\">DET[CASE='nom',GEN='mask']</text></svg><svg width=\"100%\" x=\"0%\" y=\"3em\"><defs /><svg width=\"100%\" x=\"0\" y=\"0em\"><defs /><text text-anchor=\"middle\" x=\"50%\" y=\"1em\">der</text></svg></svg><line stroke=\"black\" x1=\"50%\" x2=\"50%\" y1=\"1.2em\" y2=\"3em\" /></svg><line stroke=\"black\" x1=\"50%\" x2=\"31.1111%\" y1=\"1.2em\" y2=\"3em\" /><svg width=\"37.7778%\" x=\"62.2222%\" y=\"3em\"><defs /><svg width=\"100%\" x=\"0\" y=\"0em\"><defs /><text text-anchor=\"middle\" x=\"50%\" y=\"1em\">NOM[GEN='mask']</text></svg><svg width=\"100%\" x=\"0%\" y=\"3em\"><defs /><svg width=\"100%\" x=\"0\" y=\"0em\"><defs /><text text-anchor=\"middle\" x=\"50%\" y=\"1em\">N[GEN='mask']</text></svg><svg width=\"100%\" x=\"0%\" y=\"3em\"><defs /><svg width=\"100%\" x=\"0\" y=\"0em\"><defs /><text text-anchor=\"middle\" x=\"50%\" y=\"1em\">Mann</text></svg></svg><line stroke=\"black\" x1=\"50%\" x2=\"50%\" y1=\"1.2em\" y2=\"3em\" /></svg><line stroke=\"black\" x1=\"50%\" x2=\"50%\" y1=\"1.2em\" y2=\"3em\" /></svg><line stroke=\"black\" x1=\"50%\" x2=\"81.1111%\" y1=\"1.2em\" y2=\"3em\" /></svg><line stroke=\"black\" x1=\"50%\" x2=\"80.4348%\" y1=\"1.2em\" y2=\"3em\" /></svg>"
      ],
      "text/plain": [
       "Tree('S[]', [Tree('VP[+INV]', [Tree(\"NP[CASE='akk']\", [Tree(\"DET[CASE='akk',GEN='fem']\", ['die']), Tree(\"NOM[GEN='fem']\", [Tree(\"N[GEN='fem']\", ['Frau'])])]), Tree(\"V[OBJCASE='akk',SUBCAT=1]\", ['kennt'])]), Tree(\"NP[CASE='nom']\", [Tree(\"DET[CASE='nom',GEN='mask']\", ['der']), Tree(\"NOM[GEN='mask']\", [Tree(\"N[GEN='mask']\", ['Mann'])])])])"
      ]
     },
     "metadata": {},
     "output_type": "display_data"
    },
    {
     "data": {
      "image/svg+xml": [
       "<svg baseProfile=\"full\" height=\"264px\" preserveAspectRatio=\"xMidYMid meet\" style=\"font-family: times, serif; font-weight:normal; font-style: normal; font-size: 16px;\" version=\"1.1\" viewBox=\"0,0,1488.0,264.0\" width=\"1488px\" xmlns=\"http://www.w3.org/2000/svg\" xmlns:ev=\"http://www.w3.org/2001/xml-events\" xmlns:xlink=\"http://www.w3.org/1999/xlink\"><defs /><svg width=\"100%\" x=\"0\" y=\"0em\"><defs /><text text-anchor=\"middle\" x=\"50%\" y=\"1em\">S[]</text></svg><svg width=\"51.6129%\" x=\"0%\" y=\"3em\"><defs /><svg width=\"100%\" x=\"0\" y=\"0em\"><defs /><text text-anchor=\"middle\" x=\"50%\" y=\"1em\">VP[+INV]/NP[CASE='akk']</text></svg><svg width=\"44.7917%\" x=\"0%\" y=\"3em\"><defs /><svg width=\"100%\" x=\"0\" y=\"0em\"><defs /><text text-anchor=\"middle\" x=\"50%\" y=\"1em\">NP[CASE='dat']</text></svg><svg width=\"62.7907%\" x=\"0%\" y=\"3em\"><defs /><svg width=\"100%\" x=\"0\" y=\"0em\"><defs /><text text-anchor=\"middle\" x=\"50%\" y=\"1em\">DET[CASE='dat',GEN='fem']</text></svg><svg width=\"100%\" x=\"0%\" y=\"3em\"><defs /><svg width=\"100%\" x=\"0\" y=\"0em\"><defs /><text text-anchor=\"middle\" x=\"50%\" y=\"1em\">der</text></svg></svg><line stroke=\"black\" x1=\"50%\" x2=\"50%\" y1=\"1.2em\" y2=\"3em\" /></svg><line stroke=\"black\" x1=\"50%\" x2=\"31.3953%\" y1=\"1.2em\" y2=\"3em\" /><svg width=\"37.2093%\" x=\"62.7907%\" y=\"3em\"><defs /><svg width=\"100%\" x=\"0\" y=\"0em\"><defs /><text text-anchor=\"middle\" x=\"50%\" y=\"1em\">NOM[GEN='fem']</text></svg><svg width=\"100%\" x=\"0%\" y=\"3em\"><defs /><svg width=\"100%\" x=\"0\" y=\"0em\"><defs /><text text-anchor=\"middle\" x=\"50%\" y=\"1em\">N[GEN='fem']</text></svg><svg width=\"100%\" x=\"0%\" y=\"3em\"><defs /><svg width=\"100%\" x=\"0\" y=\"0em\"><defs /><text text-anchor=\"middle\" x=\"50%\" y=\"1em\">Frau</text></svg></svg><line stroke=\"black\" x1=\"50%\" x2=\"50%\" y1=\"1.2em\" y2=\"3em\" /></svg><line stroke=\"black\" x1=\"50%\" x2=\"50%\" y1=\"1.2em\" y2=\"3em\" /></svg><line stroke=\"black\" x1=\"50%\" x2=\"81.3953%\" y1=\"1.2em\" y2=\"3em\" /></svg><line stroke=\"black\" x1=\"50%\" x2=\"22.3958%\" y1=\"1.2em\" y2=\"3em\" /><svg width=\"11.4583%\" x=\"44.7917%\" y=\"3em\"><defs /><svg width=\"100%\" x=\"0\" y=\"0em\"><defs /><text text-anchor=\"middle\" x=\"50%\" y=\"1em\">NP[]/NP[]</text></svg></svg><line stroke=\"black\" x1=\"50%\" x2=\"50.5208%\" y1=\"1.2em\" y2=\"3em\" /><svg width=\"43.75%\" x=\"56.25%\" y=\"3em\"><defs /><svg width=\"100%\" x=\"0\" y=\"0em\"><defs /><text text-anchor=\"middle\" x=\"50%\" y=\"1em\">V[IOBJCASE='dat',OBJCASE='akk',SUBCAT=2]</text></svg><svg width=\"100%\" x=\"0%\" y=\"3em\"><defs /><svg width=\"100%\" x=\"0\" y=\"0em\"><defs /><text text-anchor=\"middle\" x=\"50%\" y=\"1em\">gibt</text></svg></svg><line stroke=\"black\" x1=\"50%\" x2=\"50%\" y1=\"1.2em\" y2=\"3em\" /></svg><line stroke=\"black\" x1=\"50%\" x2=\"78.125%\" y1=\"1.2em\" y2=\"3em\" /></svg><line stroke=\"black\" x1=\"50%\" x2=\"25.8065%\" y1=\"1.2em\" y2=\"3em\" /><svg width=\"24.1935%\" x=\"51.6129%\" y=\"3em\"><defs /><svg width=\"100%\" x=\"0\" y=\"0em\"><defs /><text text-anchor=\"middle\" x=\"50%\" y=\"1em\">NP[CASE='nom']</text></svg><svg width=\"62.2222%\" x=\"0%\" y=\"3em\"><defs /><svg width=\"100%\" x=\"0\" y=\"0em\"><defs /><text text-anchor=\"middle\" x=\"50%\" y=\"1em\">DET[CASE='nom',GEN='mask']</text></svg><svg width=\"100%\" x=\"0%\" y=\"3em\"><defs /><svg width=\"100%\" x=\"0\" y=\"0em\"><defs /><text text-anchor=\"middle\" x=\"50%\" y=\"1em\">der</text></svg></svg><line stroke=\"black\" x1=\"50%\" x2=\"50%\" y1=\"1.2em\" y2=\"3em\" /></svg><line stroke=\"black\" x1=\"50%\" x2=\"31.1111%\" y1=\"1.2em\" y2=\"3em\" /><svg width=\"37.7778%\" x=\"62.2222%\" y=\"3em\"><defs /><svg width=\"100%\" x=\"0\" y=\"0em\"><defs /><text text-anchor=\"middle\" x=\"50%\" y=\"1em\">NOM[GEN='mask']</text></svg><svg width=\"100%\" x=\"0%\" y=\"3em\"><defs /><svg width=\"100%\" x=\"0\" y=\"0em\"><defs /><text text-anchor=\"middle\" x=\"50%\" y=\"1em\">N[GEN='mask']</text></svg><svg width=\"100%\" x=\"0%\" y=\"3em\"><defs /><svg width=\"100%\" x=\"0\" y=\"0em\"><defs /><text text-anchor=\"middle\" x=\"50%\" y=\"1em\">Mann</text></svg></svg><line stroke=\"black\" x1=\"50%\" x2=\"50%\" y1=\"1.2em\" y2=\"3em\" /></svg><line stroke=\"black\" x1=\"50%\" x2=\"50%\" y1=\"1.2em\" y2=\"3em\" /></svg><line stroke=\"black\" x1=\"50%\" x2=\"81.1111%\" y1=\"1.2em\" y2=\"3em\" /></svg><line stroke=\"black\" x1=\"50%\" x2=\"63.7097%\" y1=\"1.2em\" y2=\"3em\" /><svg width=\"24.1935%\" x=\"75.8065%\" y=\"3em\"><defs /><svg width=\"100%\" x=\"0\" y=\"0em\"><defs /><text text-anchor=\"middle\" x=\"50%\" y=\"1em\">NP[CASE='akk']</text></svg><svg width=\"62.2222%\" x=\"0%\" y=\"3em\"><defs /><svg width=\"100%\" x=\"0\" y=\"0em\"><defs /><text text-anchor=\"middle\" x=\"50%\" y=\"1em\">DET[CASE='akk',GEN='neut']</text></svg><svg width=\"100%\" x=\"0%\" y=\"3em\"><defs /><svg width=\"100%\" x=\"0\" y=\"0em\"><defs /><text text-anchor=\"middle\" x=\"50%\" y=\"1em\">das</text></svg></svg><line stroke=\"black\" x1=\"50%\" x2=\"50%\" y1=\"1.2em\" y2=\"3em\" /></svg><line stroke=\"black\" x1=\"50%\" x2=\"31.1111%\" y1=\"1.2em\" y2=\"3em\" /><svg width=\"37.7778%\" x=\"62.2222%\" y=\"3em\"><defs /><svg width=\"100%\" x=\"0\" y=\"0em\"><defs /><text text-anchor=\"middle\" x=\"50%\" y=\"1em\">NOM[GEN='neut']</text></svg><svg width=\"100%\" x=\"0%\" y=\"3em\"><defs /><svg width=\"100%\" x=\"0\" y=\"0em\"><defs /><text text-anchor=\"middle\" x=\"50%\" y=\"1em\">N[GEN='neut']</text></svg><svg width=\"100%\" x=\"0%\" y=\"3em\"><defs /><svg width=\"100%\" x=\"0\" y=\"0em\"><defs /><text text-anchor=\"middle\" x=\"50%\" y=\"1em\">Buch</text></svg></svg><line stroke=\"black\" x1=\"50%\" x2=\"50%\" y1=\"1.2em\" y2=\"3em\" /></svg><line stroke=\"black\" x1=\"50%\" x2=\"50%\" y1=\"1.2em\" y2=\"3em\" /></svg><line stroke=\"black\" x1=\"50%\" x2=\"81.1111%\" y1=\"1.2em\" y2=\"3em\" /></svg><line stroke=\"black\" x1=\"50%\" x2=\"87.9032%\" y1=\"1.2em\" y2=\"3em\" /></svg>"
      ],
      "text/plain": [
       "Tree('S[]', [Tree(\"VP[+INV]/NP[CASE='akk']\", [Tree(\"NP[CASE='dat']\", [Tree(\"DET[CASE='dat',GEN='fem']\", ['der']), Tree(\"NOM[GEN='fem']\", [Tree(\"N[GEN='fem']\", ['Frau'])])]), Tree('NP[]/NP[]', []), Tree(\"V[IOBJCASE='dat',OBJCASE='akk',SUBCAT=2]\", ['gibt'])]), Tree(\"NP[CASE='nom']\", [Tree(\"DET[CASE='nom',GEN='mask']\", ['der']), Tree(\"NOM[GEN='mask']\", [Tree(\"N[GEN='mask']\", ['Mann'])])]), Tree(\"NP[CASE='akk']\", [Tree(\"DET[CASE='akk',GEN='neut']\", ['das']), Tree(\"NOM[GEN='neut']\", [Tree(\"N[GEN='neut']\", ['Buch'])])])])"
      ]
     },
     "metadata": {},
     "output_type": "display_data"
    },
    {
     "data": {
      "image/svg+xml": [
       "<svg baseProfile=\"full\" height=\"264px\" preserveAspectRatio=\"xMidYMid meet\" style=\"font-family: times, serif; font-weight:normal; font-style: normal; font-size: 16px;\" version=\"1.1\" viewBox=\"0,0,1488.0,264.0\" width=\"1488px\" xmlns=\"http://www.w3.org/2000/svg\" xmlns:ev=\"http://www.w3.org/2001/xml-events\" xmlns:xlink=\"http://www.w3.org/1999/xlink\"><defs /><svg width=\"100%\" x=\"0\" y=\"0em\"><defs /><text text-anchor=\"middle\" x=\"50%\" y=\"1em\">S[]</text></svg><svg width=\"52.6882%\" x=\"0%\" y=\"3em\"><defs /><svg width=\"100%\" x=\"0\" y=\"0em\"><defs /><text text-anchor=\"middle\" x=\"50%\" y=\"1em\">VP[+INV]/NP[CASE='dat']</text></svg><svg width=\"11.2245%\" x=\"0%\" y=\"3em\"><defs /><svg width=\"100%\" x=\"0\" y=\"0em\"><defs /><text text-anchor=\"middle\" x=\"50%\" y=\"1em\">NP[]/NP[]</text></svg></svg><line stroke=\"black\" x1=\"50%\" x2=\"5.61224%\" y1=\"1.2em\" y2=\"3em\" /><svg width=\"45.9184%\" x=\"11.2245%\" y=\"3em\"><defs /><svg width=\"100%\" x=\"0\" y=\"0em\"><defs /><text text-anchor=\"middle\" x=\"50%\" y=\"1em\">NP[CASE='akk']</text></svg><svg width=\"62.2222%\" x=\"0%\" y=\"3em\"><defs /><svg width=\"100%\" x=\"0\" y=\"0em\"><defs /><text text-anchor=\"middle\" x=\"50%\" y=\"1em\">DET[CASE='akk',GEN='neut']</text></svg><svg width=\"100%\" x=\"0%\" y=\"3em\"><defs /><svg width=\"100%\" x=\"0\" y=\"0em\"><defs /><text text-anchor=\"middle\" x=\"50%\" y=\"1em\">das</text></svg></svg><line stroke=\"black\" x1=\"50%\" x2=\"50%\" y1=\"1.2em\" y2=\"3em\" /></svg><line stroke=\"black\" x1=\"50%\" x2=\"31.1111%\" y1=\"1.2em\" y2=\"3em\" /><svg width=\"37.7778%\" x=\"62.2222%\" y=\"3em\"><defs /><svg width=\"100%\" x=\"0\" y=\"0em\"><defs /><text text-anchor=\"middle\" x=\"50%\" y=\"1em\">NOM[GEN='neut']</text></svg><svg width=\"100%\" x=\"0%\" y=\"3em\"><defs /><svg width=\"100%\" x=\"0\" y=\"0em\"><defs /><text text-anchor=\"middle\" x=\"50%\" y=\"1em\">N[GEN='neut']</text></svg><svg width=\"100%\" x=\"0%\" y=\"3em\"><defs /><svg width=\"100%\" x=\"0\" y=\"0em\"><defs /><text text-anchor=\"middle\" x=\"50%\" y=\"1em\">Buch</text></svg></svg><line stroke=\"black\" x1=\"50%\" x2=\"50%\" y1=\"1.2em\" y2=\"3em\" /></svg><line stroke=\"black\" x1=\"50%\" x2=\"50%\" y1=\"1.2em\" y2=\"3em\" /></svg><line stroke=\"black\" x1=\"50%\" x2=\"81.1111%\" y1=\"1.2em\" y2=\"3em\" /></svg><line stroke=\"black\" x1=\"50%\" x2=\"34.1837%\" y1=\"1.2em\" y2=\"3em\" /><svg width=\"42.8571%\" x=\"57.1429%\" y=\"3em\"><defs /><svg width=\"100%\" x=\"0\" y=\"0em\"><defs /><text text-anchor=\"middle\" x=\"50%\" y=\"1em\">V[IOBJCASE='dat',OBJCASE='akk',SUBCAT=2]</text></svg><svg width=\"100%\" x=\"0%\" y=\"3em\"><defs /><svg width=\"100%\" x=\"0\" y=\"0em\"><defs /><text text-anchor=\"middle\" x=\"50%\" y=\"1em\">gibt</text></svg></svg><line stroke=\"black\" x1=\"50%\" x2=\"50%\" y1=\"1.2em\" y2=\"3em\" /></svg><line stroke=\"black\" x1=\"50%\" x2=\"78.5714%\" y1=\"1.2em\" y2=\"3em\" /></svg><line stroke=\"black\" x1=\"50%\" x2=\"26.3441%\" y1=\"1.2em\" y2=\"3em\" /><svg width=\"24.1935%\" x=\"52.6882%\" y=\"3em\"><defs /><svg width=\"100%\" x=\"0\" y=\"0em\"><defs /><text text-anchor=\"middle\" x=\"50%\" y=\"1em\">NP[CASE='nom']</text></svg><svg width=\"62.2222%\" x=\"0%\" y=\"3em\"><defs /><svg width=\"100%\" x=\"0\" y=\"0em\"><defs /><text text-anchor=\"middle\" x=\"50%\" y=\"1em\">DET[CASE='nom',GEN='mask']</text></svg><svg width=\"100%\" x=\"0%\" y=\"3em\"><defs /><svg width=\"100%\" x=\"0\" y=\"0em\"><defs /><text text-anchor=\"middle\" x=\"50%\" y=\"1em\">der</text></svg></svg><line stroke=\"black\" x1=\"50%\" x2=\"50%\" y1=\"1.2em\" y2=\"3em\" /></svg><line stroke=\"black\" x1=\"50%\" x2=\"31.1111%\" y1=\"1.2em\" y2=\"3em\" /><svg width=\"37.7778%\" x=\"62.2222%\" y=\"3em\"><defs /><svg width=\"100%\" x=\"0\" y=\"0em\"><defs /><text text-anchor=\"middle\" x=\"50%\" y=\"1em\">NOM[GEN='mask']</text></svg><svg width=\"100%\" x=\"0%\" y=\"3em\"><defs /><svg width=\"100%\" x=\"0\" y=\"0em\"><defs /><text text-anchor=\"middle\" x=\"50%\" y=\"1em\">N[GEN='mask']</text></svg><svg width=\"100%\" x=\"0%\" y=\"3em\"><defs /><svg width=\"100%\" x=\"0\" y=\"0em\"><defs /><text text-anchor=\"middle\" x=\"50%\" y=\"1em\">Mann</text></svg></svg><line stroke=\"black\" x1=\"50%\" x2=\"50%\" y1=\"1.2em\" y2=\"3em\" /></svg><line stroke=\"black\" x1=\"50%\" x2=\"50%\" y1=\"1.2em\" y2=\"3em\" /></svg><line stroke=\"black\" x1=\"50%\" x2=\"81.1111%\" y1=\"1.2em\" y2=\"3em\" /></svg><line stroke=\"black\" x1=\"50%\" x2=\"64.7849%\" y1=\"1.2em\" y2=\"3em\" /><svg width=\"23.1183%\" x=\"76.8817%\" y=\"3em\"><defs /><svg width=\"100%\" x=\"0\" y=\"0em\"><defs /><text text-anchor=\"middle\" x=\"50%\" y=\"1em\">NP[CASE='dat']</text></svg><svg width=\"62.7907%\" x=\"0%\" y=\"3em\"><defs /><svg width=\"100%\" x=\"0\" y=\"0em\"><defs /><text text-anchor=\"middle\" x=\"50%\" y=\"1em\">DET[CASE='dat',GEN='fem']</text></svg><svg width=\"100%\" x=\"0%\" y=\"3em\"><defs /><svg width=\"100%\" x=\"0\" y=\"0em\"><defs /><text text-anchor=\"middle\" x=\"50%\" y=\"1em\">der</text></svg></svg><line stroke=\"black\" x1=\"50%\" x2=\"50%\" y1=\"1.2em\" y2=\"3em\" /></svg><line stroke=\"black\" x1=\"50%\" x2=\"31.3953%\" y1=\"1.2em\" y2=\"3em\" /><svg width=\"37.2093%\" x=\"62.7907%\" y=\"3em\"><defs /><svg width=\"100%\" x=\"0\" y=\"0em\"><defs /><text text-anchor=\"middle\" x=\"50%\" y=\"1em\">NOM[GEN='fem']</text></svg><svg width=\"100%\" x=\"0%\" y=\"3em\"><defs /><svg width=\"100%\" x=\"0\" y=\"0em\"><defs /><text text-anchor=\"middle\" x=\"50%\" y=\"1em\">N[GEN='fem']</text></svg><svg width=\"100%\" x=\"0%\" y=\"3em\"><defs /><svg width=\"100%\" x=\"0\" y=\"0em\"><defs /><text text-anchor=\"middle\" x=\"50%\" y=\"1em\">Frau</text></svg></svg><line stroke=\"black\" x1=\"50%\" x2=\"50%\" y1=\"1.2em\" y2=\"3em\" /></svg><line stroke=\"black\" x1=\"50%\" x2=\"50%\" y1=\"1.2em\" y2=\"3em\" /></svg><line stroke=\"black\" x1=\"50%\" x2=\"81.3953%\" y1=\"1.2em\" y2=\"3em\" /></svg><line stroke=\"black\" x1=\"50%\" x2=\"88.4409%\" y1=\"1.2em\" y2=\"3em\" /></svg>"
      ],
      "text/plain": [
       "Tree('S[]', [Tree(\"VP[+INV]/NP[CASE='dat']\", [Tree('NP[]/NP[]', []), Tree(\"NP[CASE='akk']\", [Tree(\"DET[CASE='akk',GEN='neut']\", ['das']), Tree(\"NOM[GEN='neut']\", [Tree(\"N[GEN='neut']\", ['Buch'])])]), Tree(\"V[IOBJCASE='dat',OBJCASE='akk',SUBCAT=2]\", ['gibt'])]), Tree(\"NP[CASE='nom']\", [Tree(\"DET[CASE='nom',GEN='mask']\", ['der']), Tree(\"NOM[GEN='mask']\", [Tree(\"N[GEN='mask']\", ['Mann'])])]), Tree(\"NP[CASE='dat']\", [Tree(\"DET[CASE='dat',GEN='fem']\", ['der']), Tree(\"NOM[GEN='fem']\", [Tree(\"N[GEN='fem']\", ['Frau'])])])])"
      ]
     },
     "metadata": {},
     "output_type": "display_data"
    }
   ],
   "source": [
    "for sent in pos_inv_sents:\n",
    "    trees = list(parser.parse(sent.split()))\n",
    "    if trees: [show_FeatTree(tree, style=1, draw=1) for tree in trees]\n",
    "    else: print(f\"no parse found for: {sent}\")"
   ]
  },
  {
   "cell_type": "code",
   "execution_count": 34,
   "metadata": {},
   "outputs": [
    {
     "name": "stdout",
     "output_type": "stream",
     "text": [
      "no parse found for: das Mann schlaeft\n",
      "no parse found for: der Mann schlaeft das Buch\n",
      "no parse found for: die Frau gefaellt das Buch\n",
      "no parse found for: den Mann schlaeft\n",
      "no parse found for: die Frau gibt das Buch\n"
     ]
    }
   ],
   "source": [
    "for sent in neg_sents:\n",
    "    trees = list(parser.parse(sent.split()))\n",
    "    if trees: [show_FeatTree(tree, style=1) for tree in trees]\n",
    "    else: print(f\"no parse found for: {sent}\")"
   ]
  },
  {
   "cell_type": "code",
   "execution_count": 35,
   "metadata": {},
   "outputs": [
    {
     "data": {
      "image/svg+xml": [
       "<svg baseProfile=\"full\" height=\"264px\" preserveAspectRatio=\"xMidYMid meet\" style=\"font-family: times, serif; font-weight:normal; font-style: normal; font-size: 16px;\" version=\"1.1\" viewBox=\"0,0,920.0,264.0\" width=\"920px\" xmlns=\"http://www.w3.org/2000/svg\" xmlns:ev=\"http://www.w3.org/2001/xml-events\" xmlns:xlink=\"http://www.w3.org/1999/xlink\"><defs /><svg width=\"100%\" x=\"0\" y=\"0em\"><defs /><text text-anchor=\"middle\" x=\"50%\" y=\"1em\">S[]</text></svg><svg width=\"39.1304%\" x=\"0%\" y=\"3em\"><defs /><svg width=\"100%\" x=\"0\" y=\"0em\"><defs /><text text-anchor=\"middle\" x=\"50%\" y=\"1em\">NP[CASE='nom']</text></svg><svg width=\"62.2222%\" x=\"0%\" y=\"3em\"><defs /><svg width=\"100%\" x=\"0\" y=\"0em\"><defs /><text text-anchor=\"middle\" x=\"50%\" y=\"1em\">DET[CASE='nom',GEN='neut']</text></svg><svg width=\"100%\" x=\"0%\" y=\"3em\"><defs /><svg width=\"100%\" x=\"0\" y=\"0em\"><defs /><text text-anchor=\"middle\" x=\"50%\" y=\"1em\">das</text></svg></svg><line stroke=\"black\" x1=\"50%\" x2=\"50%\" y1=\"1.2em\" y2=\"3em\" /></svg><line stroke=\"black\" x1=\"50%\" x2=\"31.1111%\" y1=\"1.2em\" y2=\"3em\" /><svg width=\"37.7778%\" x=\"62.2222%\" y=\"3em\"><defs /><svg width=\"100%\" x=\"0\" y=\"0em\"><defs /><text text-anchor=\"middle\" x=\"50%\" y=\"1em\">NOM[GEN='neut']</text></svg><svg width=\"100%\" x=\"0%\" y=\"3em\"><defs /><svg width=\"100%\" x=\"0\" y=\"0em\"><defs /><text text-anchor=\"middle\" x=\"50%\" y=\"1em\">N[GEN='neut']</text></svg><svg width=\"100%\" x=\"0%\" y=\"3em\"><defs /><svg width=\"100%\" x=\"0\" y=\"0em\"><defs /><text text-anchor=\"middle\" x=\"50%\" y=\"1em\">Buch</text></svg></svg><line stroke=\"black\" x1=\"50%\" x2=\"50%\" y1=\"1.2em\" y2=\"3em\" /></svg><line stroke=\"black\" x1=\"50%\" x2=\"50%\" y1=\"1.2em\" y2=\"3em\" /></svg><line stroke=\"black\" x1=\"50%\" x2=\"81.1111%\" y1=\"1.2em\" y2=\"3em\" /></svg><line stroke=\"black\" x1=\"50%\" x2=\"19.5652%\" y1=\"1.2em\" y2=\"3em\" /><svg width=\"60.8696%\" x=\"39.1304%\" y=\"3em\"><defs /><svg width=\"100%\" x=\"0\" y=\"0em\"><defs /><text text-anchor=\"middle\" x=\"50%\" y=\"1em\">VP[]</text></svg><svg width=\"38.5714%\" x=\"0%\" y=\"3em\"><defs /><svg width=\"100%\" x=\"0\" y=\"0em\"><defs /><text text-anchor=\"middle\" x=\"50%\" y=\"1em\">V[OBJCASE='dat',SUBCAT=1]</text></svg><svg width=\"100%\" x=\"0%\" y=\"3em\"><defs /><svg width=\"100%\" x=\"0\" y=\"0em\"><defs /><text text-anchor=\"middle\" x=\"50%\" y=\"1em\">gefaellt</text></svg></svg><line stroke=\"black\" x1=\"50%\" x2=\"50%\" y1=\"1.2em\" y2=\"3em\" /></svg><line stroke=\"black\" x1=\"50%\" x2=\"19.2857%\" y1=\"1.2em\" y2=\"3em\" /><svg width=\"61.4286%\" x=\"38.5714%\" y=\"3em\"><defs /><svg width=\"100%\" x=\"0\" y=\"0em\"><defs /><text text-anchor=\"middle\" x=\"50%\" y=\"1em\">NP[CASE='dat']</text></svg><svg width=\"62.7907%\" x=\"0%\" y=\"3em\"><defs /><svg width=\"100%\" x=\"0\" y=\"0em\"><defs /><text text-anchor=\"middle\" x=\"50%\" y=\"1em\">DET[CASE='dat',GEN='fem']</text></svg><svg width=\"100%\" x=\"0%\" y=\"3em\"><defs /><svg width=\"100%\" x=\"0\" y=\"0em\"><defs /><text text-anchor=\"middle\" x=\"50%\" y=\"1em\">der</text></svg></svg><line stroke=\"black\" x1=\"50%\" x2=\"50%\" y1=\"1.2em\" y2=\"3em\" /></svg><line stroke=\"black\" x1=\"50%\" x2=\"31.3953%\" y1=\"1.2em\" y2=\"3em\" /><svg width=\"37.2093%\" x=\"62.7907%\" y=\"3em\"><defs /><svg width=\"100%\" x=\"0\" y=\"0em\"><defs /><text text-anchor=\"middle\" x=\"50%\" y=\"1em\">NOM[GEN='fem']</text></svg><svg width=\"100%\" x=\"0%\" y=\"3em\"><defs /><svg width=\"100%\" x=\"0\" y=\"0em\"><defs /><text text-anchor=\"middle\" x=\"50%\" y=\"1em\">N[GEN='fem']</text></svg><svg width=\"100%\" x=\"0%\" y=\"3em\"><defs /><svg width=\"100%\" x=\"0\" y=\"0em\"><defs /><text text-anchor=\"middle\" x=\"50%\" y=\"1em\">Frau</text></svg></svg><line stroke=\"black\" x1=\"50%\" x2=\"50%\" y1=\"1.2em\" y2=\"3em\" /></svg><line stroke=\"black\" x1=\"50%\" x2=\"50%\" y1=\"1.2em\" y2=\"3em\" /></svg><line stroke=\"black\" x1=\"50%\" x2=\"81.3953%\" y1=\"1.2em\" y2=\"3em\" /></svg><line stroke=\"black\" x1=\"50%\" x2=\"69.2857%\" y1=\"1.2em\" y2=\"3em\" /></svg><line stroke=\"black\" x1=\"50%\" x2=\"69.5652%\" y1=\"1.2em\" y2=\"3em\" /></svg>"
      ],
      "text/plain": [
       "Tree('S[]', [Tree(\"NP[CASE='nom']\", [Tree(\"DET[CASE='nom',GEN='neut']\", ['das']), Tree(\"NOM[GEN='neut']\", [Tree(\"N[GEN='neut']\", ['Buch'])])]), Tree('VP[]', [Tree(\"V[OBJCASE='dat',SUBCAT=1]\", ['gefaellt']), Tree(\"NP[CASE='dat']\", [Tree(\"DET[CASE='dat',GEN='fem']\", ['der']), Tree(\"NOM[GEN='fem']\", [Tree(\"N[GEN='fem']\", ['Frau'])])])])])"
      ]
     },
     "metadata": {},
     "output_type": "display_data"
    },
    {
     "data": {
      "image/svg+xml": [
       "<svg baseProfile=\"full\" height=\"264px\" preserveAspectRatio=\"xMidYMid meet\" style=\"font-family: times, serif; font-weight:normal; font-style: normal; font-size: 16px;\" version=\"1.1\" viewBox=\"0,0,920.0,264.0\" width=\"920px\" xmlns=\"http://www.w3.org/2000/svg\" xmlns:ev=\"http://www.w3.org/2001/xml-events\" xmlns:xlink=\"http://www.w3.org/1999/xlink\"><defs /><svg width=\"100%\" x=\"0\" y=\"0em\"><defs /><text text-anchor=\"middle\" x=\"50%\" y=\"1em\">S[]</text></svg><svg width=\"62.6087%\" x=\"0%\" y=\"3em\"><defs /><svg width=\"100%\" x=\"0\" y=\"0em\"><defs /><text text-anchor=\"middle\" x=\"50%\" y=\"1em\">VP[+INV]</text></svg><svg width=\"62.5%\" x=\"0%\" y=\"3em\"><defs /><svg width=\"100%\" x=\"0\" y=\"0em\"><defs /><text text-anchor=\"middle\" x=\"50%\" y=\"1em\">NP[CASE='akk']</text></svg><svg width=\"62.2222%\" x=\"0%\" y=\"3em\"><defs /><svg width=\"100%\" x=\"0\" y=\"0em\"><defs /><text text-anchor=\"middle\" x=\"50%\" y=\"1em\">DET[CASE='akk',GEN='neut']</text></svg><svg width=\"100%\" x=\"0%\" y=\"3em\"><defs /><svg width=\"100%\" x=\"0\" y=\"0em\"><defs /><text text-anchor=\"middle\" x=\"50%\" y=\"1em\">das</text></svg></svg><line stroke=\"black\" x1=\"50%\" x2=\"50%\" y1=\"1.2em\" y2=\"3em\" /></svg><line stroke=\"black\" x1=\"50%\" x2=\"31.1111%\" y1=\"1.2em\" y2=\"3em\" /><svg width=\"37.7778%\" x=\"62.2222%\" y=\"3em\"><defs /><svg width=\"100%\" x=\"0\" y=\"0em\"><defs /><text text-anchor=\"middle\" x=\"50%\" y=\"1em\">NOM[GEN='neut']</text></svg><svg width=\"100%\" x=\"0%\" y=\"3em\"><defs /><svg width=\"100%\" x=\"0\" y=\"0em\"><defs /><text text-anchor=\"middle\" x=\"50%\" y=\"1em\">N[GEN='neut']</text></svg><svg width=\"100%\" x=\"0%\" y=\"3em\"><defs /><svg width=\"100%\" x=\"0\" y=\"0em\"><defs /><text text-anchor=\"middle\" x=\"50%\" y=\"1em\">Buch</text></svg></svg><line stroke=\"black\" x1=\"50%\" x2=\"50%\" y1=\"1.2em\" y2=\"3em\" /></svg><line stroke=\"black\" x1=\"50%\" x2=\"50%\" y1=\"1.2em\" y2=\"3em\" /></svg><line stroke=\"black\" x1=\"50%\" x2=\"81.1111%\" y1=\"1.2em\" y2=\"3em\" /></svg><line stroke=\"black\" x1=\"50%\" x2=\"31.25%\" y1=\"1.2em\" y2=\"3em\" /><svg width=\"37.5%\" x=\"62.5%\" y=\"3em\"><defs /><svg width=\"100%\" x=\"0\" y=\"0em\"><defs /><text text-anchor=\"middle\" x=\"50%\" y=\"1em\">V[OBJCASE='akk',SUBCAT=1]</text></svg><svg width=\"100%\" x=\"0%\" y=\"3em\"><defs /><svg width=\"100%\" x=\"0\" y=\"0em\"><defs /><text text-anchor=\"middle\" x=\"50%\" y=\"1em\">kennt</text></svg></svg><line stroke=\"black\" x1=\"50%\" x2=\"50%\" y1=\"1.2em\" y2=\"3em\" /></svg><line stroke=\"black\" x1=\"50%\" x2=\"81.25%\" y1=\"1.2em\" y2=\"3em\" /></svg><line stroke=\"black\" x1=\"50%\" x2=\"31.3043%\" y1=\"1.2em\" y2=\"3em\" /><svg width=\"37.3913%\" x=\"62.6087%\" y=\"3em\"><defs /><svg width=\"100%\" x=\"0\" y=\"0em\"><defs /><text text-anchor=\"middle\" x=\"50%\" y=\"1em\">NP[CASE='nom']</text></svg><svg width=\"62.7907%\" x=\"0%\" y=\"3em\"><defs /><svg width=\"100%\" x=\"0\" y=\"0em\"><defs /><text text-anchor=\"middle\" x=\"50%\" y=\"1em\">DET[CASE='nom',GEN='fem']</text></svg><svg width=\"100%\" x=\"0%\" y=\"3em\"><defs /><svg width=\"100%\" x=\"0\" y=\"0em\"><defs /><text text-anchor=\"middle\" x=\"50%\" y=\"1em\">die</text></svg></svg><line stroke=\"black\" x1=\"50%\" x2=\"50%\" y1=\"1.2em\" y2=\"3em\" /></svg><line stroke=\"black\" x1=\"50%\" x2=\"31.3953%\" y1=\"1.2em\" y2=\"3em\" /><svg width=\"37.2093%\" x=\"62.7907%\" y=\"3em\"><defs /><svg width=\"100%\" x=\"0\" y=\"0em\"><defs /><text text-anchor=\"middle\" x=\"50%\" y=\"1em\">NOM[GEN='fem']</text></svg><svg width=\"100%\" x=\"0%\" y=\"3em\"><defs /><svg width=\"100%\" x=\"0\" y=\"0em\"><defs /><text text-anchor=\"middle\" x=\"50%\" y=\"1em\">N[GEN='fem']</text></svg><svg width=\"100%\" x=\"0%\" y=\"3em\"><defs /><svg width=\"100%\" x=\"0\" y=\"0em\"><defs /><text text-anchor=\"middle\" x=\"50%\" y=\"1em\">Frau</text></svg></svg><line stroke=\"black\" x1=\"50%\" x2=\"50%\" y1=\"1.2em\" y2=\"3em\" /></svg><line stroke=\"black\" x1=\"50%\" x2=\"50%\" y1=\"1.2em\" y2=\"3em\" /></svg><line stroke=\"black\" x1=\"50%\" x2=\"81.3953%\" y1=\"1.2em\" y2=\"3em\" /></svg><line stroke=\"black\" x1=\"50%\" x2=\"81.3043%\" y1=\"1.2em\" y2=\"3em\" /></svg>"
      ],
      "text/plain": [
       "Tree('S[]', [Tree('VP[+INV]', [Tree(\"NP[CASE='akk']\", [Tree(\"DET[CASE='akk',GEN='neut']\", ['das']), Tree(\"NOM[GEN='neut']\", [Tree(\"N[GEN='neut']\", ['Buch'])])]), Tree(\"V[OBJCASE='akk',SUBCAT=1]\", ['kennt'])]), Tree(\"NP[CASE='nom']\", [Tree(\"DET[CASE='nom',GEN='fem']\", ['die']), Tree(\"NOM[GEN='fem']\", [Tree(\"N[GEN='fem']\", ['Frau'])])])])"
      ]
     },
     "metadata": {},
     "output_type": "display_data"
    },
    {
     "data": {
      "image/svg+xml": [
       "<svg baseProfile=\"full\" height=\"264px\" preserveAspectRatio=\"xMidYMid meet\" style=\"font-family: times, serif; font-weight:normal; font-style: normal; font-size: 16px;\" version=\"1.1\" viewBox=\"0,0,920.0,264.0\" width=\"920px\" xmlns=\"http://www.w3.org/2000/svg\" xmlns:ev=\"http://www.w3.org/2001/xml-events\" xmlns:xlink=\"http://www.w3.org/1999/xlink\"><defs /><svg width=\"100%\" x=\"0\" y=\"0em\"><defs /><text text-anchor=\"middle\" x=\"50%\" y=\"1em\">S[]</text></svg><svg width=\"39.1304%\" x=\"0%\" y=\"3em\"><defs /><svg width=\"100%\" x=\"0\" y=\"0em\"><defs /><text text-anchor=\"middle\" x=\"50%\" y=\"1em\">NP[CASE='nom']</text></svg><svg width=\"62.2222%\" x=\"0%\" y=\"3em\"><defs /><svg width=\"100%\" x=\"0\" y=\"0em\"><defs /><text text-anchor=\"middle\" x=\"50%\" y=\"1em\">DET[CASE='nom',GEN='neut']</text></svg><svg width=\"100%\" x=\"0%\" y=\"3em\"><defs /><svg width=\"100%\" x=\"0\" y=\"0em\"><defs /><text text-anchor=\"middle\" x=\"50%\" y=\"1em\">das</text></svg></svg><line stroke=\"black\" x1=\"50%\" x2=\"50%\" y1=\"1.2em\" y2=\"3em\" /></svg><line stroke=\"black\" x1=\"50%\" x2=\"31.1111%\" y1=\"1.2em\" y2=\"3em\" /><svg width=\"37.7778%\" x=\"62.2222%\" y=\"3em\"><defs /><svg width=\"100%\" x=\"0\" y=\"0em\"><defs /><text text-anchor=\"middle\" x=\"50%\" y=\"1em\">NOM[GEN='neut']</text></svg><svg width=\"100%\" x=\"0%\" y=\"3em\"><defs /><svg width=\"100%\" x=\"0\" y=\"0em\"><defs /><text text-anchor=\"middle\" x=\"50%\" y=\"1em\">N[GEN='neut']</text></svg><svg width=\"100%\" x=\"0%\" y=\"3em\"><defs /><svg width=\"100%\" x=\"0\" y=\"0em\"><defs /><text text-anchor=\"middle\" x=\"50%\" y=\"1em\">Buch</text></svg></svg><line stroke=\"black\" x1=\"50%\" x2=\"50%\" y1=\"1.2em\" y2=\"3em\" /></svg><line stroke=\"black\" x1=\"50%\" x2=\"50%\" y1=\"1.2em\" y2=\"3em\" /></svg><line stroke=\"black\" x1=\"50%\" x2=\"81.1111%\" y1=\"1.2em\" y2=\"3em\" /></svg><line stroke=\"black\" x1=\"50%\" x2=\"19.5652%\" y1=\"1.2em\" y2=\"3em\" /><svg width=\"60.8696%\" x=\"39.1304%\" y=\"3em\"><defs /><svg width=\"100%\" x=\"0\" y=\"0em\"><defs /><text text-anchor=\"middle\" x=\"50%\" y=\"1em\">VP[]</text></svg><svg width=\"38.5714%\" x=\"0%\" y=\"3em\"><defs /><svg width=\"100%\" x=\"0\" y=\"0em\"><defs /><text text-anchor=\"middle\" x=\"50%\" y=\"1em\">V[OBJCASE='akk',SUBCAT=1]</text></svg><svg width=\"100%\" x=\"0%\" y=\"3em\"><defs /><svg width=\"100%\" x=\"0\" y=\"0em\"><defs /><text text-anchor=\"middle\" x=\"50%\" y=\"1em\">kennt</text></svg></svg><line stroke=\"black\" x1=\"50%\" x2=\"50%\" y1=\"1.2em\" y2=\"3em\" /></svg><line stroke=\"black\" x1=\"50%\" x2=\"19.2857%\" y1=\"1.2em\" y2=\"3em\" /><svg width=\"61.4286%\" x=\"38.5714%\" y=\"3em\"><defs /><svg width=\"100%\" x=\"0\" y=\"0em\"><defs /><text text-anchor=\"middle\" x=\"50%\" y=\"1em\">NP[CASE='akk']</text></svg><svg width=\"62.7907%\" x=\"0%\" y=\"3em\"><defs /><svg width=\"100%\" x=\"0\" y=\"0em\"><defs /><text text-anchor=\"middle\" x=\"50%\" y=\"1em\">DET[CASE='akk',GEN='fem']</text></svg><svg width=\"100%\" x=\"0%\" y=\"3em\"><defs /><svg width=\"100%\" x=\"0\" y=\"0em\"><defs /><text text-anchor=\"middle\" x=\"50%\" y=\"1em\">die</text></svg></svg><line stroke=\"black\" x1=\"50%\" x2=\"50%\" y1=\"1.2em\" y2=\"3em\" /></svg><line stroke=\"black\" x1=\"50%\" x2=\"31.3953%\" y1=\"1.2em\" y2=\"3em\" /><svg width=\"37.2093%\" x=\"62.7907%\" y=\"3em\"><defs /><svg width=\"100%\" x=\"0\" y=\"0em\"><defs /><text text-anchor=\"middle\" x=\"50%\" y=\"1em\">NOM[GEN='fem']</text></svg><svg width=\"100%\" x=\"0%\" y=\"3em\"><defs /><svg width=\"100%\" x=\"0\" y=\"0em\"><defs /><text text-anchor=\"middle\" x=\"50%\" y=\"1em\">N[GEN='fem']</text></svg><svg width=\"100%\" x=\"0%\" y=\"3em\"><defs /><svg width=\"100%\" x=\"0\" y=\"0em\"><defs /><text text-anchor=\"middle\" x=\"50%\" y=\"1em\">Frau</text></svg></svg><line stroke=\"black\" x1=\"50%\" x2=\"50%\" y1=\"1.2em\" y2=\"3em\" /></svg><line stroke=\"black\" x1=\"50%\" x2=\"50%\" y1=\"1.2em\" y2=\"3em\" /></svg><line stroke=\"black\" x1=\"50%\" x2=\"81.3953%\" y1=\"1.2em\" y2=\"3em\" /></svg><line stroke=\"black\" x1=\"50%\" x2=\"69.2857%\" y1=\"1.2em\" y2=\"3em\" /></svg><line stroke=\"black\" x1=\"50%\" x2=\"69.5652%\" y1=\"1.2em\" y2=\"3em\" /></svg>"
      ],
      "text/plain": [
       "Tree('S[]', [Tree(\"NP[CASE='nom']\", [Tree(\"DET[CASE='nom',GEN='neut']\", ['das']), Tree(\"NOM[GEN='neut']\", [Tree(\"N[GEN='neut']\", ['Buch'])])]), Tree('VP[]', [Tree(\"V[OBJCASE='akk',SUBCAT=1]\", ['kennt']), Tree(\"NP[CASE='akk']\", [Tree(\"DET[CASE='akk',GEN='fem']\", ['die']), Tree(\"NOM[GEN='fem']\", [Tree(\"N[GEN='fem']\", ['Frau'])])])])])"
      ]
     },
     "metadata": {},
     "output_type": "display_data"
    },
    {
     "data": {
      "image/svg+xml": [
       "<svg baseProfile=\"full\" height=\"264px\" preserveAspectRatio=\"xMidYMid meet\" style=\"font-family: times, serif; font-weight:normal; font-style: normal; font-size: 16px;\" version=\"1.1\" viewBox=\"0,0,1400.0,264.0\" width=\"1400px\" xmlns=\"http://www.w3.org/2000/svg\" xmlns:ev=\"http://www.w3.org/2001/xml-events\" xmlns:xlink=\"http://www.w3.org/1999/xlink\"><defs /><svg width=\"100%\" x=\"0\" y=\"0em\"><defs /><text text-anchor=\"middle\" x=\"50%\" y=\"1em\">S[]</text></svg><svg width=\"25.7143%\" x=\"0%\" y=\"3em\"><defs /><svg width=\"100%\" x=\"0\" y=\"0em\"><defs /><text text-anchor=\"middle\" x=\"50%\" y=\"1em\">NP[CASE='nom']</text></svg><svg width=\"62.2222%\" x=\"0%\" y=\"3em\"><defs /><svg width=\"100%\" x=\"0\" y=\"0em\"><defs /><text text-anchor=\"middle\" x=\"50%\" y=\"1em\">DET[CASE='nom',GEN='mask']</text></svg><svg width=\"100%\" x=\"0%\" y=\"3em\"><defs /><svg width=\"100%\" x=\"0\" y=\"0em\"><defs /><text text-anchor=\"middle\" x=\"50%\" y=\"1em\">der</text></svg></svg><line stroke=\"black\" x1=\"50%\" x2=\"50%\" y1=\"1.2em\" y2=\"3em\" /></svg><line stroke=\"black\" x1=\"50%\" x2=\"31.1111%\" y1=\"1.2em\" y2=\"3em\" /><svg width=\"37.7778%\" x=\"62.2222%\" y=\"3em\"><defs /><svg width=\"100%\" x=\"0\" y=\"0em\"><defs /><text text-anchor=\"middle\" x=\"50%\" y=\"1em\">NOM[GEN='mask']</text></svg><svg width=\"100%\" x=\"0%\" y=\"3em\"><defs /><svg width=\"100%\" x=\"0\" y=\"0em\"><defs /><text text-anchor=\"middle\" x=\"50%\" y=\"1em\">N[GEN='mask']</text></svg><svg width=\"100%\" x=\"0%\" y=\"3em\"><defs /><svg width=\"100%\" x=\"0\" y=\"0em\"><defs /><text text-anchor=\"middle\" x=\"50%\" y=\"1em\">Mann</text></svg></svg><line stroke=\"black\" x1=\"50%\" x2=\"50%\" y1=\"1.2em\" y2=\"3em\" /></svg><line stroke=\"black\" x1=\"50%\" x2=\"50%\" y1=\"1.2em\" y2=\"3em\" /></svg><line stroke=\"black\" x1=\"50%\" x2=\"81.1111%\" y1=\"1.2em\" y2=\"3em\" /></svg><line stroke=\"black\" x1=\"50%\" x2=\"12.8571%\" y1=\"1.2em\" y2=\"3em\" /><svg width=\"74.2857%\" x=\"25.7143%\" y=\"3em\"><defs /><svg width=\"100%\" x=\"0\" y=\"0em\"><defs /><text text-anchor=\"middle\" x=\"50%\" y=\"1em\">VP[]</text></svg><svg width=\"32.3077%\" x=\"0%\" y=\"3em\"><defs /><svg width=\"100%\" x=\"0\" y=\"0em\"><defs /><text text-anchor=\"middle\" x=\"50%\" y=\"1em\">V[IOBJCASE='dat',OBJCASE='akk',SUBCAT=2]</text></svg><svg width=\"100%\" x=\"0%\" y=\"3em\"><defs /><svg width=\"100%\" x=\"0\" y=\"0em\"><defs /><text text-anchor=\"middle\" x=\"50%\" y=\"1em\">gibt</text></svg></svg><line stroke=\"black\" x1=\"50%\" x2=\"50%\" y1=\"1.2em\" y2=\"3em\" /></svg><line stroke=\"black\" x1=\"50%\" x2=\"16.1538%\" y1=\"1.2em\" y2=\"3em\" /><svg width=\"33.0769%\" x=\"32.3077%\" y=\"3em\"><defs /><svg width=\"100%\" x=\"0\" y=\"0em\"><defs /><text text-anchor=\"middle\" x=\"50%\" y=\"1em\">NP[CASE='dat']</text></svg><svg width=\"62.7907%\" x=\"0%\" y=\"3em\"><defs /><svg width=\"100%\" x=\"0\" y=\"0em\"><defs /><text text-anchor=\"middle\" x=\"50%\" y=\"1em\">DET[CASE='dat',GEN='fem']</text></svg><svg width=\"100%\" x=\"0%\" y=\"3em\"><defs /><svg width=\"100%\" x=\"0\" y=\"0em\"><defs /><text text-anchor=\"middle\" x=\"50%\" y=\"1em\">der</text></svg></svg><line stroke=\"black\" x1=\"50%\" x2=\"50%\" y1=\"1.2em\" y2=\"3em\" /></svg><line stroke=\"black\" x1=\"50%\" x2=\"31.3953%\" y1=\"1.2em\" y2=\"3em\" /><svg width=\"37.2093%\" x=\"62.7907%\" y=\"3em\"><defs /><svg width=\"100%\" x=\"0\" y=\"0em\"><defs /><text text-anchor=\"middle\" x=\"50%\" y=\"1em\">NOM[GEN='fem']</text></svg><svg width=\"100%\" x=\"0%\" y=\"3em\"><defs /><svg width=\"100%\" x=\"0\" y=\"0em\"><defs /><text text-anchor=\"middle\" x=\"50%\" y=\"1em\">N[GEN='fem']</text></svg><svg width=\"100%\" x=\"0%\" y=\"3em\"><defs /><svg width=\"100%\" x=\"0\" y=\"0em\"><defs /><text text-anchor=\"middle\" x=\"50%\" y=\"1em\">Frau</text></svg></svg><line stroke=\"black\" x1=\"50%\" x2=\"50%\" y1=\"1.2em\" y2=\"3em\" /></svg><line stroke=\"black\" x1=\"50%\" x2=\"50%\" y1=\"1.2em\" y2=\"3em\" /></svg><line stroke=\"black\" x1=\"50%\" x2=\"81.3953%\" y1=\"1.2em\" y2=\"3em\" /></svg><line stroke=\"black\" x1=\"50%\" x2=\"48.8462%\" y1=\"1.2em\" y2=\"3em\" /><svg width=\"34.6154%\" x=\"65.3846%\" y=\"3em\"><defs /><svg width=\"100%\" x=\"0\" y=\"0em\"><defs /><text text-anchor=\"middle\" x=\"50%\" y=\"1em\">NP[CASE='akk']</text></svg><svg width=\"62.2222%\" x=\"0%\" y=\"3em\"><defs /><svg width=\"100%\" x=\"0\" y=\"0em\"><defs /><text text-anchor=\"middle\" x=\"50%\" y=\"1em\">DET[CASE='akk',GEN='neut']</text></svg><svg width=\"100%\" x=\"0%\" y=\"3em\"><defs /><svg width=\"100%\" x=\"0\" y=\"0em\"><defs /><text text-anchor=\"middle\" x=\"50%\" y=\"1em\">das</text></svg></svg><line stroke=\"black\" x1=\"50%\" x2=\"50%\" y1=\"1.2em\" y2=\"3em\" /></svg><line stroke=\"black\" x1=\"50%\" x2=\"31.1111%\" y1=\"1.2em\" y2=\"3em\" /><svg width=\"37.7778%\" x=\"62.2222%\" y=\"3em\"><defs /><svg width=\"100%\" x=\"0\" y=\"0em\"><defs /><text text-anchor=\"middle\" x=\"50%\" y=\"1em\">NOM[GEN='neut']</text></svg><svg width=\"100%\" x=\"0%\" y=\"3em\"><defs /><svg width=\"100%\" x=\"0\" y=\"0em\"><defs /><text text-anchor=\"middle\" x=\"50%\" y=\"1em\">N[GEN='neut']</text></svg><svg width=\"100%\" x=\"0%\" y=\"3em\"><defs /><svg width=\"100%\" x=\"0\" y=\"0em\"><defs /><text text-anchor=\"middle\" x=\"50%\" y=\"1em\">Buch</text></svg></svg><line stroke=\"black\" x1=\"50%\" x2=\"50%\" y1=\"1.2em\" y2=\"3em\" /></svg><line stroke=\"black\" x1=\"50%\" x2=\"50%\" y1=\"1.2em\" y2=\"3em\" /></svg><line stroke=\"black\" x1=\"50%\" x2=\"81.1111%\" y1=\"1.2em\" y2=\"3em\" /></svg><line stroke=\"black\" x1=\"50%\" x2=\"82.6923%\" y1=\"1.2em\" y2=\"3em\" /></svg><line stroke=\"black\" x1=\"50%\" x2=\"62.8571%\" y1=\"1.2em\" y2=\"3em\" /></svg>"
      ],
      "text/plain": [
       "Tree('S[]', [Tree(\"NP[CASE='nom']\", [Tree(\"DET[CASE='nom',GEN='mask']\", ['der']), Tree(\"NOM[GEN='mask']\", [Tree(\"N[GEN='mask']\", ['Mann'])])]), Tree('VP[]', [Tree(\"V[IOBJCASE='dat',OBJCASE='akk',SUBCAT=2]\", ['gibt']), Tree(\"NP[CASE='dat']\", [Tree(\"DET[CASE='dat',GEN='fem']\", ['der']), Tree(\"NOM[GEN='fem']\", [Tree(\"N[GEN='fem']\", ['Frau'])])]), Tree(\"NP[CASE='akk']\", [Tree(\"DET[CASE='akk',GEN='neut']\", ['das']), Tree(\"NOM[GEN='neut']\", [Tree(\"N[GEN='neut']\", ['Buch'])])])])])"
      ]
     },
     "metadata": {},
     "output_type": "display_data"
    }
   ],
   "source": [
    "for sent in pos_sents:\n",
    "    trees = list(parser.parse(sent.split()))\n",
    "    if trees: [show_FeatTree(tree, style=1, draw=1) for tree in trees]\n",
    "    else: print(f\"no parse found for: {sent}\")"
   ]
  },
  {
   "cell_type": "markdown",
   "metadata": {},
   "source": [
    "### d) Plural-Agreement für Subjekt und Verb\n",
    "\n",
    "#### Ergänzen Sie die Grammatik aus b) um die Möglichkeit, das Subjekt in den Plural zu setzen.\n",
    "\n",
    "#### Dafür müssen Sie folgendes tun:\n",
    "  1. Erstellen Sie lexikalische Regeln für Pluralformen der Verben und Substantive (Nominativ ist ausreichend.).\n",
    "  1. Vervollständigen Sie die lexikalischen Regeln für die Form des Artikels *die* um die korrekte Merkmalstruktur für den Plural.\n",
    "  1. Formulieren Sie eine Kongruenzbedingung in Numerus zwischen Verb und Subjekt."
   ]
  },
  {
   "cell_type": "code",
   "execution_count": 36,
   "metadata": {},
   "outputs": [],
   "source": [
    "pos_sents = [   \n",
    "    \"das Buch gefaellt der Frau\",\n",
    "    \"das Buch kennt die Frau\",\n",
    "    \"der Mann gibt der Frau das Buch\",\n",
    "    \n",
    "    \"die Maenner geben der Frau das Buch\",\n",
    "    \"die Bücher gefallen der Frau\",\n",
    "    \"die Frauen schlafen\"\n",
    "]\n",
    "\n",
    "neg_sents = [\n",
    "    \"das Mann schlaeft\",\n",
    "    \"der Mann schlaeft das Buch\",\n",
    "    \"die Frau gefaellt das Buch\",\n",
    "    \"den Mann schlaeft\",\n",
    "    \"die Frau gibt das Buch\",\n",
    "    \n",
    "    \"der Mann geben der Frau das Buch\",\n",
    "    \"das Buch gefaellt der Frauen\",\n",
    "    \"die Frauen schlaeft\"\n",
    "]"
   ]
  },
  {
   "cell_type": "code",
   "execution_count": 37,
   "metadata": {},
   "outputs": [],
   "source": [
    "#Lösung A:\n",
    "grammar = FeatureGrammar.fromstring(r\"\"\"\n",
    "\n",
    "S -> NP[CASE=nom,NUM=?x] VP[NUM=?x]\n",
    "\n",
    "NP[CASE=?y,NUM=?z] -> DET[GEN=?x,CASE=?y,NUM=?z] NOM[GEN=?x,NUM=?z]\n",
    "NOM[GEN=?x,NUM=?z] -> N[GEN=?x,NUM=?z]\n",
    "\n",
    "VP[NUM=?z] -> V[SUBCAT=intr,NUM=?z]\n",
    "VP[NUM=?z] -> V[SUBCAT=tr,OBJCASE=?x,NUM=?z] NP[CASE=?x]\n",
    "VP[NUM=?z] -> V[SUBCAT=ditr,OBJCASE1=?x,OBJCASE2=?y,NUM=?z] NP[CASE=?x] NP[CASE=?y]\n",
    "\n",
    "N[GEN=mask,NUM=sg] -> \"Mann\"\n",
    "N[GEN=mask,NUM=pl] -> \"Maenner\"\n",
    "N[GEN=fem,NUM=sg] -> \"Frau\"\n",
    "N[GEN=fem,NUM=pl] -> \"Frauen\"\n",
    "N[GEN=neut,NUM=sg] -> \"Buch\"\n",
    "N[GEN=neut,NUM=pl] -> \"Bücher\"\n",
    "\n",
    "V[SUBCAT=intr,NUM=sg] -> \"schlaeft\"\n",
    "V[SUBCAT=intr,NUM=pl] -> \"schlafen\"\n",
    "V[SUBCAT=tr,OBJCASE=dat,NUM=sg] -> \"gefaellt\"\n",
    "V[SUBCAT=tr,OBJCASE=dat,NUM=pl] -> \"gefallen\"\n",
    "V[SUBCAT=tr,OBJCASE=akk,NUM=sg] -> \"kennt\"\n",
    "V[SUBCAT=tr,OBJCASE=akk,NUM=pl] -> \"kennen\"\n",
    "V[SUBCAT=ditr, OBJCASE1=dat, OBJCASE2=akk,NUM=sg] -> \"gibt\" | \"schenkt\"\n",
    "V[SUBCAT=ditr, OBJCASE1=dat, OBJCASE2=akk,NUM=pl] -> \"geben\" | \"schenken\"\n",
    "\n",
    "DET[GEN=mask,CASE=akk,NUM=sg] -> \"den\"\n",
    "DET[GEN=mask,CASE=nom,NUM=sg] -> \"der\"\n",
    "DET[GEN=fem,CASE=dat,NUM=sg] -> \"der\"\n",
    "DET[GEN=fem,CASE=nom,NUM=sg] -> \"die\"\n",
    "DET[GEN=fem,CASE=akk,NUM=sg] -> \"die\"\n",
    "DET[GEN=neut,CASE=nom,NUM=sg] -> \"das\"\n",
    "DET[GEN=neut,CASE=akk,NUM=sg] -> \"das\"\n",
    "\n",
    "DET[CASE=nom,NUM=pl] -> \"die\"\n",
    "DET[CASE=akk,NUM=pl] -> \"die\"\n",
    "\"\"\")\n",
    "\n",
    "parser = nltk.FeatureChartParser(grammar)"
   ]
  },
  {
   "cell_type": "code",
   "execution_count": 38,
   "metadata": {},
   "outputs": [
    {
     "name": "stdout",
     "output_type": "stream",
     "text": [
      "no parse found for: das Mann schlaeft\n",
      "no parse found for: der Mann schlaeft das Buch\n",
      "no parse found for: die Frau gefaellt das Buch\n",
      "no parse found for: den Mann schlaeft\n",
      "no parse found for: die Frau gibt das Buch\n",
      "no parse found for: der Mann geben der Frau das Buch\n",
      "no parse found for: das Buch gefaellt der Frauen\n",
      "no parse found for: die Frauen schlaeft\n"
     ]
    }
   ],
   "source": [
    "for sent in neg_sents:\n",
    "    trees = list(parser.parse(sent.split()))\n",
    "    if trees: [show_FeatTree(tree, style=1) for tree in trees]\n",
    "    else: print(f\"no parse found for: {sent}\")"
   ]
  },
  {
   "cell_type": "code",
   "execution_count": 39,
   "metadata": {},
   "outputs": [
    {
     "data": {
      "image/svg+xml": [
       "<svg baseProfile=\"full\" height=\"264px\" preserveAspectRatio=\"xMidYMid meet\" style=\"font-family: times, serif; font-weight:normal; font-style: normal; font-size: 16px;\" version=\"1.1\" viewBox=\"0,0,1304.0,264.0\" width=\"1304px\" xmlns=\"http://www.w3.org/2000/svg\" xmlns:ev=\"http://www.w3.org/2001/xml-events\" xmlns:xlink=\"http://www.w3.org/1999/xlink\"><defs /><svg width=\"100%\" x=\"0\" y=\"0em\"><defs /><text text-anchor=\"middle\" x=\"50%\" y=\"1em\">S[]</text></svg><svg width=\"38.6503%\" x=\"0%\" y=\"3em\"><defs /><svg width=\"100%\" x=\"0\" y=\"0em\"><defs /><text text-anchor=\"middle\" x=\"50%\" y=\"1em\">NP[CASE='nom',NUM='sg']</text></svg><svg width=\"58.7302%\" x=\"0%\" y=\"3em\"><defs /><svg width=\"100%\" x=\"0\" y=\"0em\"><defs /><text text-anchor=\"middle\" x=\"50%\" y=\"1em\">DET[CASE='nom',GEN='neut',NUM='sg']</text></svg><svg width=\"100%\" x=\"0%\" y=\"3em\"><defs /><svg width=\"100%\" x=\"0\" y=\"0em\"><defs /><text text-anchor=\"middle\" x=\"50%\" y=\"1em\">das</text></svg></svg><line stroke=\"black\" x1=\"50%\" x2=\"50%\" y1=\"1.2em\" y2=\"3em\" /></svg><line stroke=\"black\" x1=\"50%\" x2=\"29.3651%\" y1=\"1.2em\" y2=\"3em\" /><svg width=\"41.2698%\" x=\"58.7302%\" y=\"3em\"><defs /><svg width=\"100%\" x=\"0\" y=\"0em\"><defs /><text text-anchor=\"middle\" x=\"50%\" y=\"1em\">NOM[GEN='neut',NUM='sg']</text></svg><svg width=\"100%\" x=\"0%\" y=\"3em\"><defs /><svg width=\"100%\" x=\"0\" y=\"0em\"><defs /><text text-anchor=\"middle\" x=\"50%\" y=\"1em\">N[GEN='neut',NUM='sg']</text></svg><svg width=\"100%\" x=\"0%\" y=\"3em\"><defs /><svg width=\"100%\" x=\"0\" y=\"0em\"><defs /><text text-anchor=\"middle\" x=\"50%\" y=\"1em\">Buch</text></svg></svg><line stroke=\"black\" x1=\"50%\" x2=\"50%\" y1=\"1.2em\" y2=\"3em\" /></svg><line stroke=\"black\" x1=\"50%\" x2=\"50%\" y1=\"1.2em\" y2=\"3em\" /></svg><line stroke=\"black\" x1=\"50%\" x2=\"79.3651%\" y1=\"1.2em\" y2=\"3em\" /></svg><line stroke=\"black\" x1=\"50%\" x2=\"19.3252%\" y1=\"1.2em\" y2=\"3em\" /><svg width=\"61.3497%\" x=\"38.6503%\" y=\"3em\"><defs /><svg width=\"100%\" x=\"0\" y=\"0em\"><defs /><text text-anchor=\"middle\" x=\"50%\" y=\"1em\">VP[NUM='sg']</text></svg><svg width=\"39%\" x=\"0%\" y=\"3em\"><defs /><svg width=\"100%\" x=\"0\" y=\"0em\"><defs /><text text-anchor=\"middle\" x=\"50%\" y=\"1em\">V[NUM='sg',OBJCASE='dat',SUBCAT='tr']</text></svg><svg width=\"100%\" x=\"0%\" y=\"3em\"><defs /><svg width=\"100%\" x=\"0\" y=\"0em\"><defs /><text text-anchor=\"middle\" x=\"50%\" y=\"1em\">gefaellt</text></svg></svg><line stroke=\"black\" x1=\"50%\" x2=\"50%\" y1=\"1.2em\" y2=\"3em\" /></svg><line stroke=\"black\" x1=\"50%\" x2=\"19.5%\" y1=\"1.2em\" y2=\"3em\" /><svg width=\"61%\" x=\"39%\" y=\"3em\"><defs /><svg width=\"100%\" x=\"0\" y=\"0em\"><defs /><text text-anchor=\"middle\" x=\"50%\" y=\"1em\">NP[CASE='dat',NUM='sg']</text></svg><svg width=\"59.0164%\" x=\"0%\" y=\"3em\"><defs /><svg width=\"100%\" x=\"0\" y=\"0em\"><defs /><text text-anchor=\"middle\" x=\"50%\" y=\"1em\">DET[CASE='dat',GEN='fem',NUM='sg']</text></svg><svg width=\"100%\" x=\"0%\" y=\"3em\"><defs /><svg width=\"100%\" x=\"0\" y=\"0em\"><defs /><text text-anchor=\"middle\" x=\"50%\" y=\"1em\">der</text></svg></svg><line stroke=\"black\" x1=\"50%\" x2=\"50%\" y1=\"1.2em\" y2=\"3em\" /></svg><line stroke=\"black\" x1=\"50%\" x2=\"29.5082%\" y1=\"1.2em\" y2=\"3em\" /><svg width=\"40.9836%\" x=\"59.0164%\" y=\"3em\"><defs /><svg width=\"100%\" x=\"0\" y=\"0em\"><defs /><text text-anchor=\"middle\" x=\"50%\" y=\"1em\">NOM[GEN='fem',NUM='sg']</text></svg><svg width=\"100%\" x=\"0%\" y=\"3em\"><defs /><svg width=\"100%\" x=\"0\" y=\"0em\"><defs /><text text-anchor=\"middle\" x=\"50%\" y=\"1em\">N[GEN='fem',NUM='sg']</text></svg><svg width=\"100%\" x=\"0%\" y=\"3em\"><defs /><svg width=\"100%\" x=\"0\" y=\"0em\"><defs /><text text-anchor=\"middle\" x=\"50%\" y=\"1em\">Frau</text></svg></svg><line stroke=\"black\" x1=\"50%\" x2=\"50%\" y1=\"1.2em\" y2=\"3em\" /></svg><line stroke=\"black\" x1=\"50%\" x2=\"50%\" y1=\"1.2em\" y2=\"3em\" /></svg><line stroke=\"black\" x1=\"50%\" x2=\"79.5082%\" y1=\"1.2em\" y2=\"3em\" /></svg><line stroke=\"black\" x1=\"50%\" x2=\"69.5%\" y1=\"1.2em\" y2=\"3em\" /></svg><line stroke=\"black\" x1=\"50%\" x2=\"69.3252%\" y1=\"1.2em\" y2=\"3em\" /></svg>"
      ],
      "text/plain": [
       "Tree('S[]', [Tree(\"NP[CASE='nom',NUM='sg']\", [Tree(\"DET[CASE='nom',GEN='neut',NUM='sg']\", ['das']), Tree(\"NOM[GEN='neut',NUM='sg']\", [Tree(\"N[GEN='neut',NUM='sg']\", ['Buch'])])]), Tree(\"VP[NUM='sg']\", [Tree(\"V[NUM='sg',OBJCASE='dat',SUBCAT='tr']\", ['gefaellt']), Tree(\"NP[CASE='dat',NUM='sg']\", [Tree(\"DET[CASE='dat',GEN='fem',NUM='sg']\", ['der']), Tree(\"NOM[GEN='fem',NUM='sg']\", [Tree(\"N[GEN='fem',NUM='sg']\", ['Frau'])])])])])"
      ]
     },
     "metadata": {},
     "output_type": "display_data"
    },
    {
     "data": {
      "image/svg+xml": [
       "<svg baseProfile=\"full\" height=\"264px\" preserveAspectRatio=\"xMidYMid meet\" style=\"font-family: times, serif; font-weight:normal; font-style: normal; font-size: 16px;\" version=\"1.1\" viewBox=\"0,0,1304.0,264.0\" width=\"1304px\" xmlns=\"http://www.w3.org/2000/svg\" xmlns:ev=\"http://www.w3.org/2001/xml-events\" xmlns:xlink=\"http://www.w3.org/1999/xlink\"><defs /><svg width=\"100%\" x=\"0\" y=\"0em\"><defs /><text text-anchor=\"middle\" x=\"50%\" y=\"1em\">S[]</text></svg><svg width=\"38.6503%\" x=\"0%\" y=\"3em\"><defs /><svg width=\"100%\" x=\"0\" y=\"0em\"><defs /><text text-anchor=\"middle\" x=\"50%\" y=\"1em\">NP[CASE='nom',NUM='sg']</text></svg><svg width=\"58.7302%\" x=\"0%\" y=\"3em\"><defs /><svg width=\"100%\" x=\"0\" y=\"0em\"><defs /><text text-anchor=\"middle\" x=\"50%\" y=\"1em\">DET[CASE='nom',GEN='neut',NUM='sg']</text></svg><svg width=\"100%\" x=\"0%\" y=\"3em\"><defs /><svg width=\"100%\" x=\"0\" y=\"0em\"><defs /><text text-anchor=\"middle\" x=\"50%\" y=\"1em\">das</text></svg></svg><line stroke=\"black\" x1=\"50%\" x2=\"50%\" y1=\"1.2em\" y2=\"3em\" /></svg><line stroke=\"black\" x1=\"50%\" x2=\"29.3651%\" y1=\"1.2em\" y2=\"3em\" /><svg width=\"41.2698%\" x=\"58.7302%\" y=\"3em\"><defs /><svg width=\"100%\" x=\"0\" y=\"0em\"><defs /><text text-anchor=\"middle\" x=\"50%\" y=\"1em\">NOM[GEN='neut',NUM='sg']</text></svg><svg width=\"100%\" x=\"0%\" y=\"3em\"><defs /><svg width=\"100%\" x=\"0\" y=\"0em\"><defs /><text text-anchor=\"middle\" x=\"50%\" y=\"1em\">N[GEN='neut',NUM='sg']</text></svg><svg width=\"100%\" x=\"0%\" y=\"3em\"><defs /><svg width=\"100%\" x=\"0\" y=\"0em\"><defs /><text text-anchor=\"middle\" x=\"50%\" y=\"1em\">Buch</text></svg></svg><line stroke=\"black\" x1=\"50%\" x2=\"50%\" y1=\"1.2em\" y2=\"3em\" /></svg><line stroke=\"black\" x1=\"50%\" x2=\"50%\" y1=\"1.2em\" y2=\"3em\" /></svg><line stroke=\"black\" x1=\"50%\" x2=\"79.3651%\" y1=\"1.2em\" y2=\"3em\" /></svg><line stroke=\"black\" x1=\"50%\" x2=\"19.3252%\" y1=\"1.2em\" y2=\"3em\" /><svg width=\"61.3497%\" x=\"38.6503%\" y=\"3em\"><defs /><svg width=\"100%\" x=\"0\" y=\"0em\"><defs /><text text-anchor=\"middle\" x=\"50%\" y=\"1em\">VP[NUM='sg']</text></svg><svg width=\"39%\" x=\"0%\" y=\"3em\"><defs /><svg width=\"100%\" x=\"0\" y=\"0em\"><defs /><text text-anchor=\"middle\" x=\"50%\" y=\"1em\">V[NUM='sg',OBJCASE='akk',SUBCAT='tr']</text></svg><svg width=\"100%\" x=\"0%\" y=\"3em\"><defs /><svg width=\"100%\" x=\"0\" y=\"0em\"><defs /><text text-anchor=\"middle\" x=\"50%\" y=\"1em\">kennt</text></svg></svg><line stroke=\"black\" x1=\"50%\" x2=\"50%\" y1=\"1.2em\" y2=\"3em\" /></svg><line stroke=\"black\" x1=\"50%\" x2=\"19.5%\" y1=\"1.2em\" y2=\"3em\" /><svg width=\"61%\" x=\"39%\" y=\"3em\"><defs /><svg width=\"100%\" x=\"0\" y=\"0em\"><defs /><text text-anchor=\"middle\" x=\"50%\" y=\"1em\">NP[CASE='akk',NUM='sg']</text></svg><svg width=\"59.0164%\" x=\"0%\" y=\"3em\"><defs /><svg width=\"100%\" x=\"0\" y=\"0em\"><defs /><text text-anchor=\"middle\" x=\"50%\" y=\"1em\">DET[CASE='akk',GEN='fem',NUM='sg']</text></svg><svg width=\"100%\" x=\"0%\" y=\"3em\"><defs /><svg width=\"100%\" x=\"0\" y=\"0em\"><defs /><text text-anchor=\"middle\" x=\"50%\" y=\"1em\">die</text></svg></svg><line stroke=\"black\" x1=\"50%\" x2=\"50%\" y1=\"1.2em\" y2=\"3em\" /></svg><line stroke=\"black\" x1=\"50%\" x2=\"29.5082%\" y1=\"1.2em\" y2=\"3em\" /><svg width=\"40.9836%\" x=\"59.0164%\" y=\"3em\"><defs /><svg width=\"100%\" x=\"0\" y=\"0em\"><defs /><text text-anchor=\"middle\" x=\"50%\" y=\"1em\">NOM[GEN='fem',NUM='sg']</text></svg><svg width=\"100%\" x=\"0%\" y=\"3em\"><defs /><svg width=\"100%\" x=\"0\" y=\"0em\"><defs /><text text-anchor=\"middle\" x=\"50%\" y=\"1em\">N[GEN='fem',NUM='sg']</text></svg><svg width=\"100%\" x=\"0%\" y=\"3em\"><defs /><svg width=\"100%\" x=\"0\" y=\"0em\"><defs /><text text-anchor=\"middle\" x=\"50%\" y=\"1em\">Frau</text></svg></svg><line stroke=\"black\" x1=\"50%\" x2=\"50%\" y1=\"1.2em\" y2=\"3em\" /></svg><line stroke=\"black\" x1=\"50%\" x2=\"50%\" y1=\"1.2em\" y2=\"3em\" /></svg><line stroke=\"black\" x1=\"50%\" x2=\"79.5082%\" y1=\"1.2em\" y2=\"3em\" /></svg><line stroke=\"black\" x1=\"50%\" x2=\"69.5%\" y1=\"1.2em\" y2=\"3em\" /></svg><line stroke=\"black\" x1=\"50%\" x2=\"69.3252%\" y1=\"1.2em\" y2=\"3em\" /></svg>"
      ],
      "text/plain": [
       "Tree('S[]', [Tree(\"NP[CASE='nom',NUM='sg']\", [Tree(\"DET[CASE='nom',GEN='neut',NUM='sg']\", ['das']), Tree(\"NOM[GEN='neut',NUM='sg']\", [Tree(\"N[GEN='neut',NUM='sg']\", ['Buch'])])]), Tree(\"VP[NUM='sg']\", [Tree(\"V[NUM='sg',OBJCASE='akk',SUBCAT='tr']\", ['kennt']), Tree(\"NP[CASE='akk',NUM='sg']\", [Tree(\"DET[CASE='akk',GEN='fem',NUM='sg']\", ['die']), Tree(\"NOM[GEN='fem',NUM='sg']\", [Tree(\"N[GEN='fem',NUM='sg']\", ['Frau'])])])])])"
      ]
     },
     "metadata": {},
     "output_type": "display_data"
    },
    {
     "data": {
      "image/svg+xml": [
       "<svg baseProfile=\"full\" height=\"264px\" preserveAspectRatio=\"xMidYMid meet\" style=\"font-family: times, serif; font-weight:normal; font-style: normal; font-size: 16px;\" version=\"1.1\" viewBox=\"0,0,1952.0,264.0\" width=\"1952px\" xmlns=\"http://www.w3.org/2000/svg\" xmlns:ev=\"http://www.w3.org/2001/xml-events\" xmlns:xlink=\"http://www.w3.org/1999/xlink\"><defs /><svg width=\"100%\" x=\"0\" y=\"0em\"><defs /><text text-anchor=\"middle\" x=\"50%\" y=\"1em\">S[]</text></svg><svg width=\"25.8197%\" x=\"0%\" y=\"3em\"><defs /><svg width=\"100%\" x=\"0\" y=\"0em\"><defs /><text text-anchor=\"middle\" x=\"50%\" y=\"1em\">NP[CASE='nom',NUM='sg']</text></svg><svg width=\"58.7302%\" x=\"0%\" y=\"3em\"><defs /><svg width=\"100%\" x=\"0\" y=\"0em\"><defs /><text text-anchor=\"middle\" x=\"50%\" y=\"1em\">DET[CASE='nom',GEN='mask',NUM='sg']</text></svg><svg width=\"100%\" x=\"0%\" y=\"3em\"><defs /><svg width=\"100%\" x=\"0\" y=\"0em\"><defs /><text text-anchor=\"middle\" x=\"50%\" y=\"1em\">der</text></svg></svg><line stroke=\"black\" x1=\"50%\" x2=\"50%\" y1=\"1.2em\" y2=\"3em\" /></svg><line stroke=\"black\" x1=\"50%\" x2=\"29.3651%\" y1=\"1.2em\" y2=\"3em\" /><svg width=\"41.2698%\" x=\"58.7302%\" y=\"3em\"><defs /><svg width=\"100%\" x=\"0\" y=\"0em\"><defs /><text text-anchor=\"middle\" x=\"50%\" y=\"1em\">NOM[GEN='mask',NUM='sg']</text></svg><svg width=\"100%\" x=\"0%\" y=\"3em\"><defs /><svg width=\"100%\" x=\"0\" y=\"0em\"><defs /><text text-anchor=\"middle\" x=\"50%\" y=\"1em\">N[GEN='mask',NUM='sg']</text></svg><svg width=\"100%\" x=\"0%\" y=\"3em\"><defs /><svg width=\"100%\" x=\"0\" y=\"0em\"><defs /><text text-anchor=\"middle\" x=\"50%\" y=\"1em\">Mann</text></svg></svg><line stroke=\"black\" x1=\"50%\" x2=\"50%\" y1=\"1.2em\" y2=\"3em\" /></svg><line stroke=\"black\" x1=\"50%\" x2=\"50%\" y1=\"1.2em\" y2=\"3em\" /></svg><line stroke=\"black\" x1=\"50%\" x2=\"79.3651%\" y1=\"1.2em\" y2=\"3em\" /></svg><line stroke=\"black\" x1=\"50%\" x2=\"12.9098%\" y1=\"1.2em\" y2=\"3em\" /><svg width=\"74.1803%\" x=\"25.8197%\" y=\"3em\"><defs /><svg width=\"100%\" x=\"0\" y=\"0em\"><defs /><text text-anchor=\"middle\" x=\"50%\" y=\"1em\">VP[NUM='sg']</text></svg><svg width=\"31.4917%\" x=\"0%\" y=\"3em\"><defs /><svg width=\"100%\" x=\"0\" y=\"0em\"><defs /><text text-anchor=\"middle\" x=\"50%\" y=\"1em\">V[NUM='sg',OBJCASE1='dat',OBJCASE2='akk',SUBCAT='ditr']</text></svg><svg width=\"100%\" x=\"0%\" y=\"3em\"><defs /><svg width=\"100%\" x=\"0\" y=\"0em\"><defs /><text text-anchor=\"middle\" x=\"50%\" y=\"1em\">gibt</text></svg></svg><line stroke=\"black\" x1=\"50%\" x2=\"50%\" y1=\"1.2em\" y2=\"3em\" /></svg><line stroke=\"black\" x1=\"50%\" x2=\"15.7459%\" y1=\"1.2em\" y2=\"3em\" /><svg width=\"33.7017%\" x=\"31.4917%\" y=\"3em\"><defs /><svg width=\"100%\" x=\"0\" y=\"0em\"><defs /><text text-anchor=\"middle\" x=\"50%\" y=\"1em\">NP[CASE='dat',NUM='sg']</text></svg><svg width=\"59.0164%\" x=\"0%\" y=\"3em\"><defs /><svg width=\"100%\" x=\"0\" y=\"0em\"><defs /><text text-anchor=\"middle\" x=\"50%\" y=\"1em\">DET[CASE='dat',GEN='fem',NUM='sg']</text></svg><svg width=\"100%\" x=\"0%\" y=\"3em\"><defs /><svg width=\"100%\" x=\"0\" y=\"0em\"><defs /><text text-anchor=\"middle\" x=\"50%\" y=\"1em\">der</text></svg></svg><line stroke=\"black\" x1=\"50%\" x2=\"50%\" y1=\"1.2em\" y2=\"3em\" /></svg><line stroke=\"black\" x1=\"50%\" x2=\"29.5082%\" y1=\"1.2em\" y2=\"3em\" /><svg width=\"40.9836%\" x=\"59.0164%\" y=\"3em\"><defs /><svg width=\"100%\" x=\"0\" y=\"0em\"><defs /><text text-anchor=\"middle\" x=\"50%\" y=\"1em\">NOM[GEN='fem',NUM='sg']</text></svg><svg width=\"100%\" x=\"0%\" y=\"3em\"><defs /><svg width=\"100%\" x=\"0\" y=\"0em\"><defs /><text text-anchor=\"middle\" x=\"50%\" y=\"1em\">N[GEN='fem',NUM='sg']</text></svg><svg width=\"100%\" x=\"0%\" y=\"3em\"><defs /><svg width=\"100%\" x=\"0\" y=\"0em\"><defs /><text text-anchor=\"middle\" x=\"50%\" y=\"1em\">Frau</text></svg></svg><line stroke=\"black\" x1=\"50%\" x2=\"50%\" y1=\"1.2em\" y2=\"3em\" /></svg><line stroke=\"black\" x1=\"50%\" x2=\"50%\" y1=\"1.2em\" y2=\"3em\" /></svg><line stroke=\"black\" x1=\"50%\" x2=\"79.5082%\" y1=\"1.2em\" y2=\"3em\" /></svg><line stroke=\"black\" x1=\"50%\" x2=\"48.3425%\" y1=\"1.2em\" y2=\"3em\" /><svg width=\"34.8066%\" x=\"65.1934%\" y=\"3em\"><defs /><svg width=\"100%\" x=\"0\" y=\"0em\"><defs /><text text-anchor=\"middle\" x=\"50%\" y=\"1em\">NP[CASE='akk',NUM='sg']</text></svg><svg width=\"58.7302%\" x=\"0%\" y=\"3em\"><defs /><svg width=\"100%\" x=\"0\" y=\"0em\"><defs /><text text-anchor=\"middle\" x=\"50%\" y=\"1em\">DET[CASE='akk',GEN='neut',NUM='sg']</text></svg><svg width=\"100%\" x=\"0%\" y=\"3em\"><defs /><svg width=\"100%\" x=\"0\" y=\"0em\"><defs /><text text-anchor=\"middle\" x=\"50%\" y=\"1em\">das</text></svg></svg><line stroke=\"black\" x1=\"50%\" x2=\"50%\" y1=\"1.2em\" y2=\"3em\" /></svg><line stroke=\"black\" x1=\"50%\" x2=\"29.3651%\" y1=\"1.2em\" y2=\"3em\" /><svg width=\"41.2698%\" x=\"58.7302%\" y=\"3em\"><defs /><svg width=\"100%\" x=\"0\" y=\"0em\"><defs /><text text-anchor=\"middle\" x=\"50%\" y=\"1em\">NOM[GEN='neut',NUM='sg']</text></svg><svg width=\"100%\" x=\"0%\" y=\"3em\"><defs /><svg width=\"100%\" x=\"0\" y=\"0em\"><defs /><text text-anchor=\"middle\" x=\"50%\" y=\"1em\">N[GEN='neut',NUM='sg']</text></svg><svg width=\"100%\" x=\"0%\" y=\"3em\"><defs /><svg width=\"100%\" x=\"0\" y=\"0em\"><defs /><text text-anchor=\"middle\" x=\"50%\" y=\"1em\">Buch</text></svg></svg><line stroke=\"black\" x1=\"50%\" x2=\"50%\" y1=\"1.2em\" y2=\"3em\" /></svg><line stroke=\"black\" x1=\"50%\" x2=\"50%\" y1=\"1.2em\" y2=\"3em\" /></svg><line stroke=\"black\" x1=\"50%\" x2=\"79.3651%\" y1=\"1.2em\" y2=\"3em\" /></svg><line stroke=\"black\" x1=\"50%\" x2=\"82.5967%\" y1=\"1.2em\" y2=\"3em\" /></svg><line stroke=\"black\" x1=\"50%\" x2=\"62.9098%\" y1=\"1.2em\" y2=\"3em\" /></svg>"
      ],
      "text/plain": [
       "Tree('S[]', [Tree(\"NP[CASE='nom',NUM='sg']\", [Tree(\"DET[CASE='nom',GEN='mask',NUM='sg']\", ['der']), Tree(\"NOM[GEN='mask',NUM='sg']\", [Tree(\"N[GEN='mask',NUM='sg']\", ['Mann'])])]), Tree(\"VP[NUM='sg']\", [Tree(\"V[NUM='sg',OBJCASE1='dat',OBJCASE2='akk',SUBCAT='ditr']\", ['gibt']), Tree(\"NP[CASE='dat',NUM='sg']\", [Tree(\"DET[CASE='dat',GEN='fem',NUM='sg']\", ['der']), Tree(\"NOM[GEN='fem',NUM='sg']\", [Tree(\"N[GEN='fem',NUM='sg']\", ['Frau'])])]), Tree(\"NP[CASE='akk',NUM='sg']\", [Tree(\"DET[CASE='akk',GEN='neut',NUM='sg']\", ['das']), Tree(\"NOM[GEN='neut',NUM='sg']\", [Tree(\"N[GEN='neut',NUM='sg']\", ['Buch'])])])])])"
      ]
     },
     "metadata": {},
     "output_type": "display_data"
    },
    {
     "data": {
      "image/svg+xml": [
       "<svg baseProfile=\"full\" height=\"264px\" preserveAspectRatio=\"xMidYMid meet\" style=\"font-family: times, serif; font-weight:normal; font-style: normal; font-size: 16px;\" version=\"1.1\" viewBox=\"0,0,1864.0,264.0\" width=\"1864px\" xmlns=\"http://www.w3.org/2000/svg\" xmlns:ev=\"http://www.w3.org/2001/xml-events\" xmlns:xlink=\"http://www.w3.org/1999/xlink\"><defs /><svg width=\"100%\" x=\"0\" y=\"0em\"><defs /><text text-anchor=\"middle\" x=\"50%\" y=\"1em\">S[]</text></svg><svg width=\"22.3176%\" x=\"0%\" y=\"3em\"><defs /><svg width=\"100%\" x=\"0\" y=\"0em\"><defs /><text text-anchor=\"middle\" x=\"50%\" y=\"1em\">NP[CASE='nom',NUM='pl']</text></svg><svg width=\"50%\" x=\"0%\" y=\"3em\"><defs /><svg width=\"100%\" x=\"0\" y=\"0em\"><defs /><text text-anchor=\"middle\" x=\"50%\" y=\"1em\">DET[CASE='nom',NUM='pl']</text></svg><svg width=\"100%\" x=\"0%\" y=\"3em\"><defs /><svg width=\"100%\" x=\"0\" y=\"0em\"><defs /><text text-anchor=\"middle\" x=\"50%\" y=\"1em\">die</text></svg></svg><line stroke=\"black\" x1=\"50%\" x2=\"50%\" y1=\"1.2em\" y2=\"3em\" /></svg><line stroke=\"black\" x1=\"50%\" x2=\"25%\" y1=\"1.2em\" y2=\"3em\" /><svg width=\"50%\" x=\"50%\" y=\"3em\"><defs /><svg width=\"100%\" x=\"0\" y=\"0em\"><defs /><text text-anchor=\"middle\" x=\"50%\" y=\"1em\">NOM[GEN='mask',NUM='pl']</text></svg><svg width=\"100%\" x=\"0%\" y=\"3em\"><defs /><svg width=\"100%\" x=\"0\" y=\"0em\"><defs /><text text-anchor=\"middle\" x=\"50%\" y=\"1em\">N[GEN='mask',NUM='pl']</text></svg><svg width=\"100%\" x=\"0%\" y=\"3em\"><defs /><svg width=\"100%\" x=\"0\" y=\"0em\"><defs /><text text-anchor=\"middle\" x=\"50%\" y=\"1em\">Maenner</text></svg></svg><line stroke=\"black\" x1=\"50%\" x2=\"50%\" y1=\"1.2em\" y2=\"3em\" /></svg><line stroke=\"black\" x1=\"50%\" x2=\"50%\" y1=\"1.2em\" y2=\"3em\" /></svg><line stroke=\"black\" x1=\"50%\" x2=\"75%\" y1=\"1.2em\" y2=\"3em\" /></svg><line stroke=\"black\" x1=\"50%\" x2=\"11.1588%\" y1=\"1.2em\" y2=\"3em\" /><svg width=\"77.6824%\" x=\"22.3176%\" y=\"3em\"><defs /><svg width=\"100%\" x=\"0\" y=\"0em\"><defs /><text text-anchor=\"middle\" x=\"50%\" y=\"1em\">VP[NUM='pl']</text></svg><svg width=\"31.4917%\" x=\"0%\" y=\"3em\"><defs /><svg width=\"100%\" x=\"0\" y=\"0em\"><defs /><text text-anchor=\"middle\" x=\"50%\" y=\"1em\">V[NUM='pl',OBJCASE1='dat',OBJCASE2='akk',SUBCAT='ditr']</text></svg><svg width=\"100%\" x=\"0%\" y=\"3em\"><defs /><svg width=\"100%\" x=\"0\" y=\"0em\"><defs /><text text-anchor=\"middle\" x=\"50%\" y=\"1em\">geben</text></svg></svg><line stroke=\"black\" x1=\"50%\" x2=\"50%\" y1=\"1.2em\" y2=\"3em\" /></svg><line stroke=\"black\" x1=\"50%\" x2=\"15.7459%\" y1=\"1.2em\" y2=\"3em\" /><svg width=\"33.7017%\" x=\"31.4917%\" y=\"3em\"><defs /><svg width=\"100%\" x=\"0\" y=\"0em\"><defs /><text text-anchor=\"middle\" x=\"50%\" y=\"1em\">NP[CASE='dat',NUM='sg']</text></svg><svg width=\"59.0164%\" x=\"0%\" y=\"3em\"><defs /><svg width=\"100%\" x=\"0\" y=\"0em\"><defs /><text text-anchor=\"middle\" x=\"50%\" y=\"1em\">DET[CASE='dat',GEN='fem',NUM='sg']</text></svg><svg width=\"100%\" x=\"0%\" y=\"3em\"><defs /><svg width=\"100%\" x=\"0\" y=\"0em\"><defs /><text text-anchor=\"middle\" x=\"50%\" y=\"1em\">der</text></svg></svg><line stroke=\"black\" x1=\"50%\" x2=\"50%\" y1=\"1.2em\" y2=\"3em\" /></svg><line stroke=\"black\" x1=\"50%\" x2=\"29.5082%\" y1=\"1.2em\" y2=\"3em\" /><svg width=\"40.9836%\" x=\"59.0164%\" y=\"3em\"><defs /><svg width=\"100%\" x=\"0\" y=\"0em\"><defs /><text text-anchor=\"middle\" x=\"50%\" y=\"1em\">NOM[GEN='fem',NUM='sg']</text></svg><svg width=\"100%\" x=\"0%\" y=\"3em\"><defs /><svg width=\"100%\" x=\"0\" y=\"0em\"><defs /><text text-anchor=\"middle\" x=\"50%\" y=\"1em\">N[GEN='fem',NUM='sg']</text></svg><svg width=\"100%\" x=\"0%\" y=\"3em\"><defs /><svg width=\"100%\" x=\"0\" y=\"0em\"><defs /><text text-anchor=\"middle\" x=\"50%\" y=\"1em\">Frau</text></svg></svg><line stroke=\"black\" x1=\"50%\" x2=\"50%\" y1=\"1.2em\" y2=\"3em\" /></svg><line stroke=\"black\" x1=\"50%\" x2=\"50%\" y1=\"1.2em\" y2=\"3em\" /></svg><line stroke=\"black\" x1=\"50%\" x2=\"79.5082%\" y1=\"1.2em\" y2=\"3em\" /></svg><line stroke=\"black\" x1=\"50%\" x2=\"48.3425%\" y1=\"1.2em\" y2=\"3em\" /><svg width=\"34.8066%\" x=\"65.1934%\" y=\"3em\"><defs /><svg width=\"100%\" x=\"0\" y=\"0em\"><defs /><text text-anchor=\"middle\" x=\"50%\" y=\"1em\">NP[CASE='akk',NUM='sg']</text></svg><svg width=\"58.7302%\" x=\"0%\" y=\"3em\"><defs /><svg width=\"100%\" x=\"0\" y=\"0em\"><defs /><text text-anchor=\"middle\" x=\"50%\" y=\"1em\">DET[CASE='akk',GEN='neut',NUM='sg']</text></svg><svg width=\"100%\" x=\"0%\" y=\"3em\"><defs /><svg width=\"100%\" x=\"0\" y=\"0em\"><defs /><text text-anchor=\"middle\" x=\"50%\" y=\"1em\">das</text></svg></svg><line stroke=\"black\" x1=\"50%\" x2=\"50%\" y1=\"1.2em\" y2=\"3em\" /></svg><line stroke=\"black\" x1=\"50%\" x2=\"29.3651%\" y1=\"1.2em\" y2=\"3em\" /><svg width=\"41.2698%\" x=\"58.7302%\" y=\"3em\"><defs /><svg width=\"100%\" x=\"0\" y=\"0em\"><defs /><text text-anchor=\"middle\" x=\"50%\" y=\"1em\">NOM[GEN='neut',NUM='sg']</text></svg><svg width=\"100%\" x=\"0%\" y=\"3em\"><defs /><svg width=\"100%\" x=\"0\" y=\"0em\"><defs /><text text-anchor=\"middle\" x=\"50%\" y=\"1em\">N[GEN='neut',NUM='sg']</text></svg><svg width=\"100%\" x=\"0%\" y=\"3em\"><defs /><svg width=\"100%\" x=\"0\" y=\"0em\"><defs /><text text-anchor=\"middle\" x=\"50%\" y=\"1em\">Buch</text></svg></svg><line stroke=\"black\" x1=\"50%\" x2=\"50%\" y1=\"1.2em\" y2=\"3em\" /></svg><line stroke=\"black\" x1=\"50%\" x2=\"50%\" y1=\"1.2em\" y2=\"3em\" /></svg><line stroke=\"black\" x1=\"50%\" x2=\"79.3651%\" y1=\"1.2em\" y2=\"3em\" /></svg><line stroke=\"black\" x1=\"50%\" x2=\"82.5967%\" y1=\"1.2em\" y2=\"3em\" /></svg><line stroke=\"black\" x1=\"50%\" x2=\"61.1588%\" y1=\"1.2em\" y2=\"3em\" /></svg>"
      ],
      "text/plain": [
       "Tree('S[]', [Tree(\"NP[CASE='nom',NUM='pl']\", [Tree(\"DET[CASE='nom',NUM='pl']\", ['die']), Tree(\"NOM[GEN='mask',NUM='pl']\", [Tree(\"N[GEN='mask',NUM='pl']\", ['Maenner'])])]), Tree(\"VP[NUM='pl']\", [Tree(\"V[NUM='pl',OBJCASE1='dat',OBJCASE2='akk',SUBCAT='ditr']\", ['geben']), Tree(\"NP[CASE='dat',NUM='sg']\", [Tree(\"DET[CASE='dat',GEN='fem',NUM='sg']\", ['der']), Tree(\"NOM[GEN='fem',NUM='sg']\", [Tree(\"N[GEN='fem',NUM='sg']\", ['Frau'])])]), Tree(\"NP[CASE='akk',NUM='sg']\", [Tree(\"DET[CASE='akk',GEN='neut',NUM='sg']\", ['das']), Tree(\"NOM[GEN='neut',NUM='sg']\", [Tree(\"N[GEN='neut',NUM='sg']\", ['Buch'])])])])])"
      ]
     },
     "metadata": {},
     "output_type": "display_data"
    },
    {
     "data": {
      "image/svg+xml": [
       "<svg baseProfile=\"full\" height=\"264px\" preserveAspectRatio=\"xMidYMid meet\" style=\"font-family: times, serif; font-weight:normal; font-style: normal; font-size: 16px;\" version=\"1.1\" viewBox=\"0,0,1216.0,264.0\" width=\"1216px\" xmlns=\"http://www.w3.org/2000/svg\" xmlns:ev=\"http://www.w3.org/2001/xml-events\" xmlns:xlink=\"http://www.w3.org/1999/xlink\"><defs /><svg width=\"100%\" x=\"0\" y=\"0em\"><defs /><text text-anchor=\"middle\" x=\"50%\" y=\"1em\">S[]</text></svg><svg width=\"34.2105%\" x=\"0%\" y=\"3em\"><defs /><svg width=\"100%\" x=\"0\" y=\"0em\"><defs /><text text-anchor=\"middle\" x=\"50%\" y=\"1em\">NP[CASE='nom',NUM='pl']</text></svg><svg width=\"50%\" x=\"0%\" y=\"3em\"><defs /><svg width=\"100%\" x=\"0\" y=\"0em\"><defs /><text text-anchor=\"middle\" x=\"50%\" y=\"1em\">DET[CASE='nom',NUM='pl']</text></svg><svg width=\"100%\" x=\"0%\" y=\"3em\"><defs /><svg width=\"100%\" x=\"0\" y=\"0em\"><defs /><text text-anchor=\"middle\" x=\"50%\" y=\"1em\">die</text></svg></svg><line stroke=\"black\" x1=\"50%\" x2=\"50%\" y1=\"1.2em\" y2=\"3em\" /></svg><line stroke=\"black\" x1=\"50%\" x2=\"25%\" y1=\"1.2em\" y2=\"3em\" /><svg width=\"50%\" x=\"50%\" y=\"3em\"><defs /><svg width=\"100%\" x=\"0\" y=\"0em\"><defs /><text text-anchor=\"middle\" x=\"50%\" y=\"1em\">NOM[GEN='neut',NUM='pl']</text></svg><svg width=\"100%\" x=\"0%\" y=\"3em\"><defs /><svg width=\"100%\" x=\"0\" y=\"0em\"><defs /><text text-anchor=\"middle\" x=\"50%\" y=\"1em\">N[GEN='neut',NUM='pl']</text></svg><svg width=\"100%\" x=\"0%\" y=\"3em\"><defs /><svg width=\"100%\" x=\"0\" y=\"0em\"><defs /><text text-anchor=\"middle\" x=\"50%\" y=\"1em\">Bücher</text></svg></svg><line stroke=\"black\" x1=\"50%\" x2=\"50%\" y1=\"1.2em\" y2=\"3em\" /></svg><line stroke=\"black\" x1=\"50%\" x2=\"50%\" y1=\"1.2em\" y2=\"3em\" /></svg><line stroke=\"black\" x1=\"50%\" x2=\"75%\" y1=\"1.2em\" y2=\"3em\" /></svg><line stroke=\"black\" x1=\"50%\" x2=\"17.1053%\" y1=\"1.2em\" y2=\"3em\" /><svg width=\"65.7895%\" x=\"34.2105%\" y=\"3em\"><defs /><svg width=\"100%\" x=\"0\" y=\"0em\"><defs /><text text-anchor=\"middle\" x=\"50%\" y=\"1em\">VP[NUM='pl']</text></svg><svg width=\"39%\" x=\"0%\" y=\"3em\"><defs /><svg width=\"100%\" x=\"0\" y=\"0em\"><defs /><text text-anchor=\"middle\" x=\"50%\" y=\"1em\">V[NUM='pl',OBJCASE='dat',SUBCAT='tr']</text></svg><svg width=\"100%\" x=\"0%\" y=\"3em\"><defs /><svg width=\"100%\" x=\"0\" y=\"0em\"><defs /><text text-anchor=\"middle\" x=\"50%\" y=\"1em\">gefallen</text></svg></svg><line stroke=\"black\" x1=\"50%\" x2=\"50%\" y1=\"1.2em\" y2=\"3em\" /></svg><line stroke=\"black\" x1=\"50%\" x2=\"19.5%\" y1=\"1.2em\" y2=\"3em\" /><svg width=\"61%\" x=\"39%\" y=\"3em\"><defs /><svg width=\"100%\" x=\"0\" y=\"0em\"><defs /><text text-anchor=\"middle\" x=\"50%\" y=\"1em\">NP[CASE='dat',NUM='sg']</text></svg><svg width=\"59.0164%\" x=\"0%\" y=\"3em\"><defs /><svg width=\"100%\" x=\"0\" y=\"0em\"><defs /><text text-anchor=\"middle\" x=\"50%\" y=\"1em\">DET[CASE='dat',GEN='fem',NUM='sg']</text></svg><svg width=\"100%\" x=\"0%\" y=\"3em\"><defs /><svg width=\"100%\" x=\"0\" y=\"0em\"><defs /><text text-anchor=\"middle\" x=\"50%\" y=\"1em\">der</text></svg></svg><line stroke=\"black\" x1=\"50%\" x2=\"50%\" y1=\"1.2em\" y2=\"3em\" /></svg><line stroke=\"black\" x1=\"50%\" x2=\"29.5082%\" y1=\"1.2em\" y2=\"3em\" /><svg width=\"40.9836%\" x=\"59.0164%\" y=\"3em\"><defs /><svg width=\"100%\" x=\"0\" y=\"0em\"><defs /><text text-anchor=\"middle\" x=\"50%\" y=\"1em\">NOM[GEN='fem',NUM='sg']</text></svg><svg width=\"100%\" x=\"0%\" y=\"3em\"><defs /><svg width=\"100%\" x=\"0\" y=\"0em\"><defs /><text text-anchor=\"middle\" x=\"50%\" y=\"1em\">N[GEN='fem',NUM='sg']</text></svg><svg width=\"100%\" x=\"0%\" y=\"3em\"><defs /><svg width=\"100%\" x=\"0\" y=\"0em\"><defs /><text text-anchor=\"middle\" x=\"50%\" y=\"1em\">Frau</text></svg></svg><line stroke=\"black\" x1=\"50%\" x2=\"50%\" y1=\"1.2em\" y2=\"3em\" /></svg><line stroke=\"black\" x1=\"50%\" x2=\"50%\" y1=\"1.2em\" y2=\"3em\" /></svg><line stroke=\"black\" x1=\"50%\" x2=\"79.5082%\" y1=\"1.2em\" y2=\"3em\" /></svg><line stroke=\"black\" x1=\"50%\" x2=\"69.5%\" y1=\"1.2em\" y2=\"3em\" /></svg><line stroke=\"black\" x1=\"50%\" x2=\"67.1053%\" y1=\"1.2em\" y2=\"3em\" /></svg>"
      ],
      "text/plain": [
       "Tree('S[]', [Tree(\"NP[CASE='nom',NUM='pl']\", [Tree(\"DET[CASE='nom',NUM='pl']\", ['die']), Tree(\"NOM[GEN='neut',NUM='pl']\", [Tree(\"N[GEN='neut',NUM='pl']\", ['Bücher'])])]), Tree(\"VP[NUM='pl']\", [Tree(\"V[NUM='pl',OBJCASE='dat',SUBCAT='tr']\", ['gefallen']), Tree(\"NP[CASE='dat',NUM='sg']\", [Tree(\"DET[CASE='dat',GEN='fem',NUM='sg']\", ['der']), Tree(\"NOM[GEN='fem',NUM='sg']\", [Tree(\"N[GEN='fem',NUM='sg']\", ['Frau'])])])])])"
      ]
     },
     "metadata": {},
     "output_type": "display_data"
    },
    {
     "data": {
      "image/svg+xml": [
       "<svg baseProfile=\"full\" height=\"216px\" preserveAspectRatio=\"xMidYMid meet\" style=\"font-family: times, serif; font-weight:normal; font-style: normal; font-size: 16px;\" version=\"1.1\" viewBox=\"0,0,624.0,216.0\" width=\"624px\" xmlns=\"http://www.w3.org/2000/svg\" xmlns:ev=\"http://www.w3.org/2001/xml-events\" xmlns:xlink=\"http://www.w3.org/1999/xlink\"><defs /><svg width=\"100%\" x=\"0\" y=\"0em\"><defs /><text text-anchor=\"middle\" x=\"50%\" y=\"1em\">S[]</text></svg><svg width=\"65.3846%\" x=\"0%\" y=\"3em\"><defs /><svg width=\"100%\" x=\"0\" y=\"0em\"><defs /><text text-anchor=\"middle\" x=\"50%\" y=\"1em\">NP[CASE='nom',NUM='pl']</text></svg><svg width=\"50.9804%\" x=\"0%\" y=\"3em\"><defs /><svg width=\"100%\" x=\"0\" y=\"0em\"><defs /><text text-anchor=\"middle\" x=\"50%\" y=\"1em\">DET[CASE='nom',NUM='pl']</text></svg><svg width=\"100%\" x=\"0%\" y=\"3em\"><defs /><svg width=\"100%\" x=\"0\" y=\"0em\"><defs /><text text-anchor=\"middle\" x=\"50%\" y=\"1em\">die</text></svg></svg><line stroke=\"black\" x1=\"50%\" x2=\"50%\" y1=\"1.2em\" y2=\"3em\" /></svg><line stroke=\"black\" x1=\"50%\" x2=\"25.4902%\" y1=\"1.2em\" y2=\"3em\" /><svg width=\"49.0196%\" x=\"50.9804%\" y=\"3em\"><defs /><svg width=\"100%\" x=\"0\" y=\"0em\"><defs /><text text-anchor=\"middle\" x=\"50%\" y=\"1em\">NOM[GEN='fem',NUM='pl']</text></svg><svg width=\"100%\" x=\"0%\" y=\"3em\"><defs /><svg width=\"100%\" x=\"0\" y=\"0em\"><defs /><text text-anchor=\"middle\" x=\"50%\" y=\"1em\">N[GEN='fem',NUM='pl']</text></svg><svg width=\"100%\" x=\"0%\" y=\"3em\"><defs /><svg width=\"100%\" x=\"0\" y=\"0em\"><defs /><text text-anchor=\"middle\" x=\"50%\" y=\"1em\">Frauen</text></svg></svg><line stroke=\"black\" x1=\"50%\" x2=\"50%\" y1=\"1.2em\" y2=\"3em\" /></svg><line stroke=\"black\" x1=\"50%\" x2=\"50%\" y1=\"1.2em\" y2=\"3em\" /></svg><line stroke=\"black\" x1=\"50%\" x2=\"75.4902%\" y1=\"1.2em\" y2=\"3em\" /></svg><line stroke=\"black\" x1=\"50%\" x2=\"32.6923%\" y1=\"1.2em\" y2=\"3em\" /><svg width=\"34.6154%\" x=\"65.3846%\" y=\"3em\"><defs /><svg width=\"100%\" x=\"0\" y=\"0em\"><defs /><text text-anchor=\"middle\" x=\"50%\" y=\"1em\">VP[NUM='pl']</text></svg><svg width=\"100%\" x=\"0%\" y=\"3em\"><defs /><svg width=\"100%\" x=\"0\" y=\"0em\"><defs /><text text-anchor=\"middle\" x=\"50%\" y=\"1em\">V[NUM='pl',SUBCAT='intr']</text></svg><svg width=\"100%\" x=\"0%\" y=\"3em\"><defs /><svg width=\"100%\" x=\"0\" y=\"0em\"><defs /><text text-anchor=\"middle\" x=\"50%\" y=\"1em\">schlafen</text></svg></svg><line stroke=\"black\" x1=\"50%\" x2=\"50%\" y1=\"1.2em\" y2=\"3em\" /></svg><line stroke=\"black\" x1=\"50%\" x2=\"50%\" y1=\"1.2em\" y2=\"3em\" /></svg><line stroke=\"black\" x1=\"50%\" x2=\"82.6923%\" y1=\"1.2em\" y2=\"3em\" /></svg>"
      ],
      "text/plain": [
       "Tree('S[]', [Tree(\"NP[CASE='nom',NUM='pl']\", [Tree(\"DET[CASE='nom',NUM='pl']\", ['die']), Tree(\"NOM[GEN='fem',NUM='pl']\", [Tree(\"N[GEN='fem',NUM='pl']\", ['Frauen'])])]), Tree(\"VP[NUM='pl']\", [Tree(\"V[NUM='pl',SUBCAT='intr']\", ['schlafen'])])])"
      ]
     },
     "metadata": {},
     "output_type": "display_data"
    }
   ],
   "source": [
    "for sent in pos_sents:\n",
    "    trees = list(parser.parse(sent.split()))\n",
    "    if trees: [show_FeatTree(tree, style=1, draw=1) for tree in trees]\n",
    "    else: print(f\"no parse found for: {sent}\")"
   ]
  },
  {
   "cell_type": "code",
   "execution_count": 40,
   "metadata": {},
   "outputs": [],
   "source": [
    "# Lösung B (mit komplexem AGR-Feature):\n",
    "grammar = FeatureGrammar.fromstring(r\"\"\"\n",
    "\n",
    "S -> NP[CASE=nom,AGR=?x] VP[AGR=?x]\n",
    "\n",
    "NP[CASE=?y,AGR=?x] -> DET[CASE=?y,AGR=?x] NOM[AGR=?x]\n",
    "NOM[AGR=?x] -> N[AGR=?x]\n",
    "\n",
    "VP[AGR=?x] -> V[SUBCAT=intr,AGR=?x]\n",
    "VP[AGR=?x] -> V[SUBCAT=tr,OBJCASE=?o,AGR=?x] NP[CASE=?o]\n",
    "VP[AGR=?x] -> V[SUBCAT=ditr,OBJCASE1=?io,OBJCASE2=?o,AGR=?x] NP[CASE=?io] NP[CASE=?o]\n",
    "\n",
    "\n",
    "N[AGR=[GEN=mask,NUM=sg]] -> \"Mann\"\n",
    "N[AGR=[GEN=mask,NUM=pl]] -> \"Maenner\"\n",
    "N[AGR=[GEN=fem,NUM=sg]] -> \"Frau\"\n",
    "N[AGR=[GEN=fem,NUM=pl]] -> \"Frauen\"\n",
    "N[AGR=[GEN=neut,NUM=sg]] -> \"Buch\"\n",
    "N[AGR=[GEN=neut,NUM=pl]] -> \"Bücher\"\n",
    "\n",
    "V[SUBCAT=intr,AGR=[NUM=sg]] -> \"schlaeft\"\n",
    "V[SUBCAT=intr,AGR=[NUM=pl]] -> \"schlafen\"\n",
    "V[SUBCAT=tr,OBJCASE=dat,AGR=[NUM=sg]] -> \"gefaellt\"\n",
    "V[SUBCAT=tr,OBJCASE=dat,AGR=[NUM=pl]] -> \"gefallen\"\n",
    "V[SUBCAT=tr,OBJCASE=akk,AGR=[NUM=sg]] -> \"kennt\"\n",
    "V[SUBCAT=tr,OBJCASE=akk,AGR=[NUM=pl]] -> \"kennen\"\n",
    "V[SUBCAT=ditr, OBJCASE1=dat, OBJCASE2=akk,AGR=[NUM=sg]] -> \"gibt\" | \"schenkt\"\n",
    "V[SUBCAT=ditr, OBJCASE1=dat, OBJCASE2=akk,AGR=[NUM=pl]] -> \"geben\" | \"schenken\"\n",
    "\n",
    "DET[GEN=mask,CASE=akk,NUM=sg] -> \"den\"\n",
    "DET[CASE=nom,AGR=[GEN=mask,NUM=sg]] -> \"der\"\n",
    "DET[CASE=dat,AGR=[GEN=fem,NUM=sg]] -> \"der\"\n",
    "DET[CASE=nom,AGR=[GEN=fem,NUM=sg]] -> \"die\"\n",
    "DET[CASE=akk,AGR=[GEN=fem,NUM=sg]] -> \"die\"\n",
    "DET[CASE=nom,AGR=[GEN=neut,NUM=sg]] -> \"das\"\n",
    "DET[CASE=akk,AGR=[GEN=neut,NUM=sg]] -> \"das\"\n",
    "\n",
    "DET[CASE=nom,AGR=[NUM=pl]] -> \"die\"\n",
    "DET[CASE=akk,AGR=[NUM=pl]] -> \"die\"\n",
    "\"\"\")\n",
    "\n",
    "parser = nltk.FeatureChartParser(grammar)"
   ]
  },
  {
   "cell_type": "code",
   "execution_count": 41,
   "metadata": {},
   "outputs": [
    {
     "name": "stdout",
     "output_type": "stream",
     "text": [
      "no parse found for: das Mann schlaeft\n",
      "no parse found for: der Mann schlaeft das Buch\n",
      "no parse found for: die Frau gefaellt das Buch\n",
      "no parse found for: den Mann schlaeft\n",
      "no parse found for: die Frau gibt das Buch\n",
      "no parse found for: der Mann geben der Frau das Buch\n",
      "no parse found for: das Buch gefaellt der Frauen\n",
      "no parse found for: die Frauen schlaeft\n"
     ]
    }
   ],
   "source": [
    "for sent in neg_sents:\n",
    "    trees = list(parser.parse(sent.split()))\n",
    "    if trees: [show_FeatTree(tree, style=1) for tree in trees]\n",
    "    else: print(f\"no parse found for: {sent}\")"
   ]
  },
  {
   "cell_type": "code",
   "execution_count": 42,
   "metadata": {},
   "outputs": [
    {
     "data": {
      "image/svg+xml": [
       "<svg baseProfile=\"full\" height=\"264px\" preserveAspectRatio=\"xMidYMid meet\" style=\"font-family: times, serif; font-weight:normal; font-style: normal; font-size: 16px;\" version=\"1.1\" viewBox=\"0,0,1544.0,264.0\" width=\"1544px\" xmlns=\"http://www.w3.org/2000/svg\" xmlns:ev=\"http://www.w3.org/2001/xml-events\" xmlns:xlink=\"http://www.w3.org/1999/xlink\"><defs /><svg width=\"100%\" x=\"0\" y=\"0em\"><defs /><text text-anchor=\"middle\" x=\"50%\" y=\"1em\">S[]</text></svg><svg width=\"38.8601%\" x=\"0%\" y=\"3em\"><defs /><svg width=\"100%\" x=\"0\" y=\"0em\"><defs /><text text-anchor=\"middle\" x=\"50%\" y=\"1em\">NP[AGR=[GEN='neut',NUM='sg'],CASE='nom']</text></svg><svg width=\"57.3333%\" x=\"0%\" y=\"3em\"><defs /><svg width=\"100%\" x=\"0\" y=\"0em\"><defs /><text text-anchor=\"middle\" x=\"50%\" y=\"1em\">DET[AGR=[GEN='neut',NUM='sg'],CASE='nom']</text></svg><svg width=\"100%\" x=\"0%\" y=\"3em\"><defs /><svg width=\"100%\" x=\"0\" y=\"0em\"><defs /><text text-anchor=\"middle\" x=\"50%\" y=\"1em\">das</text></svg></svg><line stroke=\"black\" x1=\"50%\" x2=\"50%\" y1=\"1.2em\" y2=\"3em\" /></svg><line stroke=\"black\" x1=\"50%\" x2=\"28.6667%\" y1=\"1.2em\" y2=\"3em\" /><svg width=\"42.6667%\" x=\"57.3333%\" y=\"3em\"><defs /><svg width=\"100%\" x=\"0\" y=\"0em\"><defs /><text text-anchor=\"middle\" x=\"50%\" y=\"1em\">NOM[AGR=[GEN='neut',NUM='sg']]</text></svg><svg width=\"100%\" x=\"0%\" y=\"3em\"><defs /><svg width=\"100%\" x=\"0\" y=\"0em\"><defs /><text text-anchor=\"middle\" x=\"50%\" y=\"1em\">N[AGR=[GEN='neut',NUM='sg']]</text></svg><svg width=\"100%\" x=\"0%\" y=\"3em\"><defs /><svg width=\"100%\" x=\"0\" y=\"0em\"><defs /><text text-anchor=\"middle\" x=\"50%\" y=\"1em\">Buch</text></svg></svg><line stroke=\"black\" x1=\"50%\" x2=\"50%\" y1=\"1.2em\" y2=\"3em\" /></svg><line stroke=\"black\" x1=\"50%\" x2=\"50%\" y1=\"1.2em\" y2=\"3em\" /></svg><line stroke=\"black\" x1=\"50%\" x2=\"78.6667%\" y1=\"1.2em\" y2=\"3em\" /></svg><line stroke=\"black\" x1=\"50%\" x2=\"19.4301%\" y1=\"1.2em\" y2=\"3em\" /><svg width=\"61.1399%\" x=\"38.8601%\" y=\"3em\"><defs /><svg width=\"100%\" x=\"0\" y=\"0em\"><defs /><text text-anchor=\"middle\" x=\"50%\" y=\"1em\">VP[AGR=[NUM='sg']]</text></svg><svg width=\"38.1356%\" x=\"0%\" y=\"3em\"><defs /><svg width=\"100%\" x=\"0\" y=\"0em\"><defs /><text text-anchor=\"middle\" x=\"50%\" y=\"1em\">V[AGR=[NUM='sg'],OBJCASE='dat',SUBCAT='tr']</text></svg><svg width=\"100%\" x=\"0%\" y=\"3em\"><defs /><svg width=\"100%\" x=\"0\" y=\"0em\"><defs /><text text-anchor=\"middle\" x=\"50%\" y=\"1em\">gefaellt</text></svg></svg><line stroke=\"black\" x1=\"50%\" x2=\"50%\" y1=\"1.2em\" y2=\"3em\" /></svg><line stroke=\"black\" x1=\"50%\" x2=\"19.0678%\" y1=\"1.2em\" y2=\"3em\" /><svg width=\"61.8644%\" x=\"38.1356%\" y=\"3em\"><defs /><svg width=\"100%\" x=\"0\" y=\"0em\"><defs /><text text-anchor=\"middle\" x=\"50%\" y=\"1em\">NP[AGR=[GEN='fem',NUM='sg'],CASE='dat']</text></svg><svg width=\"57.5342%\" x=\"0%\" y=\"3em\"><defs /><svg width=\"100%\" x=\"0\" y=\"0em\"><defs /><text text-anchor=\"middle\" x=\"50%\" y=\"1em\">DET[AGR=[GEN='fem',NUM='sg'],CASE='dat']</text></svg><svg width=\"100%\" x=\"0%\" y=\"3em\"><defs /><svg width=\"100%\" x=\"0\" y=\"0em\"><defs /><text text-anchor=\"middle\" x=\"50%\" y=\"1em\">der</text></svg></svg><line stroke=\"black\" x1=\"50%\" x2=\"50%\" y1=\"1.2em\" y2=\"3em\" /></svg><line stroke=\"black\" x1=\"50%\" x2=\"28.7671%\" y1=\"1.2em\" y2=\"3em\" /><svg width=\"42.4658%\" x=\"57.5342%\" y=\"3em\"><defs /><svg width=\"100%\" x=\"0\" y=\"0em\"><defs /><text text-anchor=\"middle\" x=\"50%\" y=\"1em\">NOM[AGR=[GEN='fem',NUM='sg']]</text></svg><svg width=\"100%\" x=\"0%\" y=\"3em\"><defs /><svg width=\"100%\" x=\"0\" y=\"0em\"><defs /><text text-anchor=\"middle\" x=\"50%\" y=\"1em\">N[AGR=[GEN='fem',NUM='sg']]</text></svg><svg width=\"100%\" x=\"0%\" y=\"3em\"><defs /><svg width=\"100%\" x=\"0\" y=\"0em\"><defs /><text text-anchor=\"middle\" x=\"50%\" y=\"1em\">Frau</text></svg></svg><line stroke=\"black\" x1=\"50%\" x2=\"50%\" y1=\"1.2em\" y2=\"3em\" /></svg><line stroke=\"black\" x1=\"50%\" x2=\"50%\" y1=\"1.2em\" y2=\"3em\" /></svg><line stroke=\"black\" x1=\"50%\" x2=\"78.7671%\" y1=\"1.2em\" y2=\"3em\" /></svg><line stroke=\"black\" x1=\"50%\" x2=\"69.0678%\" y1=\"1.2em\" y2=\"3em\" /></svg><line stroke=\"black\" x1=\"50%\" x2=\"69.4301%\" y1=\"1.2em\" y2=\"3em\" /></svg>"
      ],
      "text/plain": [
       "Tree('S[]', [Tree(\"NP[AGR=[GEN='neut',NUM='sg'],CASE='nom']\", [Tree(\"DET[AGR=[GEN='neut',NUM='sg'],CASE='nom']\", ['das']), Tree(\"NOM[AGR=[GEN='neut',NUM='sg']]\", [Tree(\"N[AGR=[GEN='neut',NUM='sg']]\", ['Buch'])])]), Tree(\"VP[AGR=[NUM='sg']]\", [Tree(\"V[AGR=[NUM='sg'],OBJCASE='dat',SUBCAT='tr']\", ['gefaellt']), Tree(\"NP[AGR=[GEN='fem',NUM='sg'],CASE='dat']\", [Tree(\"DET[AGR=[GEN='fem',NUM='sg'],CASE='dat']\", ['der']), Tree(\"NOM[AGR=[GEN='fem',NUM='sg']]\", [Tree(\"N[AGR=[GEN='fem',NUM='sg']]\", ['Frau'])])])])])"
      ]
     },
     "metadata": {},
     "output_type": "display_data"
    },
    {
     "data": {
      "image/svg+xml": [
       "<svg baseProfile=\"full\" height=\"264px\" preserveAspectRatio=\"xMidYMid meet\" style=\"font-family: times, serif; font-weight:normal; font-style: normal; font-size: 16px;\" version=\"1.1\" viewBox=\"0,0,1544.0,264.0\" width=\"1544px\" xmlns=\"http://www.w3.org/2000/svg\" xmlns:ev=\"http://www.w3.org/2001/xml-events\" xmlns:xlink=\"http://www.w3.org/1999/xlink\"><defs /><svg width=\"100%\" x=\"0\" y=\"0em\"><defs /><text text-anchor=\"middle\" x=\"50%\" y=\"1em\">S[]</text></svg><svg width=\"38.8601%\" x=\"0%\" y=\"3em\"><defs /><svg width=\"100%\" x=\"0\" y=\"0em\"><defs /><text text-anchor=\"middle\" x=\"50%\" y=\"1em\">NP[AGR=[GEN='neut',NUM='sg'],CASE='nom']</text></svg><svg width=\"57.3333%\" x=\"0%\" y=\"3em\"><defs /><svg width=\"100%\" x=\"0\" y=\"0em\"><defs /><text text-anchor=\"middle\" x=\"50%\" y=\"1em\">DET[AGR=[GEN='neut',NUM='sg'],CASE='nom']</text></svg><svg width=\"100%\" x=\"0%\" y=\"3em\"><defs /><svg width=\"100%\" x=\"0\" y=\"0em\"><defs /><text text-anchor=\"middle\" x=\"50%\" y=\"1em\">das</text></svg></svg><line stroke=\"black\" x1=\"50%\" x2=\"50%\" y1=\"1.2em\" y2=\"3em\" /></svg><line stroke=\"black\" x1=\"50%\" x2=\"28.6667%\" y1=\"1.2em\" y2=\"3em\" /><svg width=\"42.6667%\" x=\"57.3333%\" y=\"3em\"><defs /><svg width=\"100%\" x=\"0\" y=\"0em\"><defs /><text text-anchor=\"middle\" x=\"50%\" y=\"1em\">NOM[AGR=[GEN='neut',NUM='sg']]</text></svg><svg width=\"100%\" x=\"0%\" y=\"3em\"><defs /><svg width=\"100%\" x=\"0\" y=\"0em\"><defs /><text text-anchor=\"middle\" x=\"50%\" y=\"1em\">N[AGR=[GEN='neut',NUM='sg']]</text></svg><svg width=\"100%\" x=\"0%\" y=\"3em\"><defs /><svg width=\"100%\" x=\"0\" y=\"0em\"><defs /><text text-anchor=\"middle\" x=\"50%\" y=\"1em\">Buch</text></svg></svg><line stroke=\"black\" x1=\"50%\" x2=\"50%\" y1=\"1.2em\" y2=\"3em\" /></svg><line stroke=\"black\" x1=\"50%\" x2=\"50%\" y1=\"1.2em\" y2=\"3em\" /></svg><line stroke=\"black\" x1=\"50%\" x2=\"78.6667%\" y1=\"1.2em\" y2=\"3em\" /></svg><line stroke=\"black\" x1=\"50%\" x2=\"19.4301%\" y1=\"1.2em\" y2=\"3em\" /><svg width=\"61.1399%\" x=\"38.8601%\" y=\"3em\"><defs /><svg width=\"100%\" x=\"0\" y=\"0em\"><defs /><text text-anchor=\"middle\" x=\"50%\" y=\"1em\">VP[AGR=[NUM='sg']]</text></svg><svg width=\"38.1356%\" x=\"0%\" y=\"3em\"><defs /><svg width=\"100%\" x=\"0\" y=\"0em\"><defs /><text text-anchor=\"middle\" x=\"50%\" y=\"1em\">V[AGR=[NUM='sg'],OBJCASE='akk',SUBCAT='tr']</text></svg><svg width=\"100%\" x=\"0%\" y=\"3em\"><defs /><svg width=\"100%\" x=\"0\" y=\"0em\"><defs /><text text-anchor=\"middle\" x=\"50%\" y=\"1em\">kennt</text></svg></svg><line stroke=\"black\" x1=\"50%\" x2=\"50%\" y1=\"1.2em\" y2=\"3em\" /></svg><line stroke=\"black\" x1=\"50%\" x2=\"19.0678%\" y1=\"1.2em\" y2=\"3em\" /><svg width=\"61.8644%\" x=\"38.1356%\" y=\"3em\"><defs /><svg width=\"100%\" x=\"0\" y=\"0em\"><defs /><text text-anchor=\"middle\" x=\"50%\" y=\"1em\">NP[AGR=[GEN='fem',NUM='sg'],CASE='akk']</text></svg><svg width=\"57.5342%\" x=\"0%\" y=\"3em\"><defs /><svg width=\"100%\" x=\"0\" y=\"0em\"><defs /><text text-anchor=\"middle\" x=\"50%\" y=\"1em\">DET[AGR=[GEN='fem',NUM='sg'],CASE='akk']</text></svg><svg width=\"100%\" x=\"0%\" y=\"3em\"><defs /><svg width=\"100%\" x=\"0\" y=\"0em\"><defs /><text text-anchor=\"middle\" x=\"50%\" y=\"1em\">die</text></svg></svg><line stroke=\"black\" x1=\"50%\" x2=\"50%\" y1=\"1.2em\" y2=\"3em\" /></svg><line stroke=\"black\" x1=\"50%\" x2=\"28.7671%\" y1=\"1.2em\" y2=\"3em\" /><svg width=\"42.4658%\" x=\"57.5342%\" y=\"3em\"><defs /><svg width=\"100%\" x=\"0\" y=\"0em\"><defs /><text text-anchor=\"middle\" x=\"50%\" y=\"1em\">NOM[AGR=[GEN='fem',NUM='sg']]</text></svg><svg width=\"100%\" x=\"0%\" y=\"3em\"><defs /><svg width=\"100%\" x=\"0\" y=\"0em\"><defs /><text text-anchor=\"middle\" x=\"50%\" y=\"1em\">N[AGR=[GEN='fem',NUM='sg']]</text></svg><svg width=\"100%\" x=\"0%\" y=\"3em\"><defs /><svg width=\"100%\" x=\"0\" y=\"0em\"><defs /><text text-anchor=\"middle\" x=\"50%\" y=\"1em\">Frau</text></svg></svg><line stroke=\"black\" x1=\"50%\" x2=\"50%\" y1=\"1.2em\" y2=\"3em\" /></svg><line stroke=\"black\" x1=\"50%\" x2=\"50%\" y1=\"1.2em\" y2=\"3em\" /></svg><line stroke=\"black\" x1=\"50%\" x2=\"78.7671%\" y1=\"1.2em\" y2=\"3em\" /></svg><line stroke=\"black\" x1=\"50%\" x2=\"69.0678%\" y1=\"1.2em\" y2=\"3em\" /></svg><line stroke=\"black\" x1=\"50%\" x2=\"69.4301%\" y1=\"1.2em\" y2=\"3em\" /></svg>"
      ],
      "text/plain": [
       "Tree('S[]', [Tree(\"NP[AGR=[GEN='neut',NUM='sg'],CASE='nom']\", [Tree(\"DET[AGR=[GEN='neut',NUM='sg'],CASE='nom']\", ['das']), Tree(\"NOM[AGR=[GEN='neut',NUM='sg']]\", [Tree(\"N[AGR=[GEN='neut',NUM='sg']]\", ['Buch'])])]), Tree(\"VP[AGR=[NUM='sg']]\", [Tree(\"V[AGR=[NUM='sg'],OBJCASE='akk',SUBCAT='tr']\", ['kennt']), Tree(\"NP[AGR=[GEN='fem',NUM='sg'],CASE='akk']\", [Tree(\"DET[AGR=[GEN='fem',NUM='sg'],CASE='akk']\", ['die']), Tree(\"NOM[AGR=[GEN='fem',NUM='sg']]\", [Tree(\"N[AGR=[GEN='fem',NUM='sg']]\", ['Frau'])])])])])"
      ]
     },
     "metadata": {},
     "output_type": "display_data"
    },
    {
     "data": {
      "image/svg+xml": [
       "<svg baseProfile=\"full\" height=\"264px\" preserveAspectRatio=\"xMidYMid meet\" style=\"font-family: times, serif; font-weight:normal; font-style: normal; font-size: 16px;\" version=\"1.1\" viewBox=\"0,0,2288.0,264.0\" width=\"2288px\" xmlns=\"http://www.w3.org/2000/svg\" xmlns:ev=\"http://www.w3.org/2001/xml-events\" xmlns:xlink=\"http://www.w3.org/1999/xlink\"><defs /><svg width=\"100%\" x=\"0\" y=\"0em\"><defs /><text text-anchor=\"middle\" x=\"50%\" y=\"1em\">S[]</text></svg><svg width=\"26.2238%\" x=\"0%\" y=\"3em\"><defs /><svg width=\"100%\" x=\"0\" y=\"0em\"><defs /><text text-anchor=\"middle\" x=\"50%\" y=\"1em\">NP[AGR=[GEN='mask',NUM='sg'],CASE='nom']</text></svg><svg width=\"57.3333%\" x=\"0%\" y=\"3em\"><defs /><svg width=\"100%\" x=\"0\" y=\"0em\"><defs /><text text-anchor=\"middle\" x=\"50%\" y=\"1em\">DET[AGR=[GEN='mask',NUM='sg'],CASE='nom']</text></svg><svg width=\"100%\" x=\"0%\" y=\"3em\"><defs /><svg width=\"100%\" x=\"0\" y=\"0em\"><defs /><text text-anchor=\"middle\" x=\"50%\" y=\"1em\">der</text></svg></svg><line stroke=\"black\" x1=\"50%\" x2=\"50%\" y1=\"1.2em\" y2=\"3em\" /></svg><line stroke=\"black\" x1=\"50%\" x2=\"28.6667%\" y1=\"1.2em\" y2=\"3em\" /><svg width=\"42.6667%\" x=\"57.3333%\" y=\"3em\"><defs /><svg width=\"100%\" x=\"0\" y=\"0em\"><defs /><text text-anchor=\"middle\" x=\"50%\" y=\"1em\">NOM[AGR=[GEN='mask',NUM='sg']]</text></svg><svg width=\"100%\" x=\"0%\" y=\"3em\"><defs /><svg width=\"100%\" x=\"0\" y=\"0em\"><defs /><text text-anchor=\"middle\" x=\"50%\" y=\"1em\">N[AGR=[GEN='mask',NUM='sg']]</text></svg><svg width=\"100%\" x=\"0%\" y=\"3em\"><defs /><svg width=\"100%\" x=\"0\" y=\"0em\"><defs /><text text-anchor=\"middle\" x=\"50%\" y=\"1em\">Mann</text></svg></svg><line stroke=\"black\" x1=\"50%\" x2=\"50%\" y1=\"1.2em\" y2=\"3em\" /></svg><line stroke=\"black\" x1=\"50%\" x2=\"50%\" y1=\"1.2em\" y2=\"3em\" /></svg><line stroke=\"black\" x1=\"50%\" x2=\"78.6667%\" y1=\"1.2em\" y2=\"3em\" /></svg><line stroke=\"black\" x1=\"50%\" x2=\"13.1119%\" y1=\"1.2em\" y2=\"3em\" /><svg width=\"73.7762%\" x=\"26.2238%\" y=\"3em\"><defs /><svg width=\"100%\" x=\"0\" y=\"0em\"><defs /><text text-anchor=\"middle\" x=\"50%\" y=\"1em\">VP[AGR=[NUM='sg']]</text></svg><svg width=\"29.8578%\" x=\"0%\" y=\"3em\"><defs /><svg width=\"100%\" x=\"0\" y=\"0em\"><defs /><text text-anchor=\"middle\" x=\"50%\" y=\"1em\">V[AGR=[NUM='sg'],OBJCASE1='dat',OBJCASE2='akk',SUBCAT='ditr']</text></svg><svg width=\"100%\" x=\"0%\" y=\"3em\"><defs /><svg width=\"100%\" x=\"0\" y=\"0em\"><defs /><text text-anchor=\"middle\" x=\"50%\" y=\"1em\">gibt</text></svg></svg><line stroke=\"black\" x1=\"50%\" x2=\"50%\" y1=\"1.2em\" y2=\"3em\" /></svg><line stroke=\"black\" x1=\"50%\" x2=\"14.9289%\" y1=\"1.2em\" y2=\"3em\" /><svg width=\"34.5972%\" x=\"29.8578%\" y=\"3em\"><defs /><svg width=\"100%\" x=\"0\" y=\"0em\"><defs /><text text-anchor=\"middle\" x=\"50%\" y=\"1em\">NP[AGR=[GEN='fem',NUM='sg'],CASE='dat']</text></svg><svg width=\"57.5342%\" x=\"0%\" y=\"3em\"><defs /><svg width=\"100%\" x=\"0\" y=\"0em\"><defs /><text text-anchor=\"middle\" x=\"50%\" y=\"1em\">DET[AGR=[GEN='fem',NUM='sg'],CASE='dat']</text></svg><svg width=\"100%\" x=\"0%\" y=\"3em\"><defs /><svg width=\"100%\" x=\"0\" y=\"0em\"><defs /><text text-anchor=\"middle\" x=\"50%\" y=\"1em\">der</text></svg></svg><line stroke=\"black\" x1=\"50%\" x2=\"50%\" y1=\"1.2em\" y2=\"3em\" /></svg><line stroke=\"black\" x1=\"50%\" x2=\"28.7671%\" y1=\"1.2em\" y2=\"3em\" /><svg width=\"42.4658%\" x=\"57.5342%\" y=\"3em\"><defs /><svg width=\"100%\" x=\"0\" y=\"0em\"><defs /><text text-anchor=\"middle\" x=\"50%\" y=\"1em\">NOM[AGR=[GEN='fem',NUM='sg']]</text></svg><svg width=\"100%\" x=\"0%\" y=\"3em\"><defs /><svg width=\"100%\" x=\"0\" y=\"0em\"><defs /><text text-anchor=\"middle\" x=\"50%\" y=\"1em\">N[AGR=[GEN='fem',NUM='sg']]</text></svg><svg width=\"100%\" x=\"0%\" y=\"3em\"><defs /><svg width=\"100%\" x=\"0\" y=\"0em\"><defs /><text text-anchor=\"middle\" x=\"50%\" y=\"1em\">Frau</text></svg></svg><line stroke=\"black\" x1=\"50%\" x2=\"50%\" y1=\"1.2em\" y2=\"3em\" /></svg><line stroke=\"black\" x1=\"50%\" x2=\"50%\" y1=\"1.2em\" y2=\"3em\" /></svg><line stroke=\"black\" x1=\"50%\" x2=\"78.7671%\" y1=\"1.2em\" y2=\"3em\" /></svg><line stroke=\"black\" x1=\"50%\" x2=\"47.1564%\" y1=\"1.2em\" y2=\"3em\" /><svg width=\"35.545%\" x=\"64.455%\" y=\"3em\"><defs /><svg width=\"100%\" x=\"0\" y=\"0em\"><defs /><text text-anchor=\"middle\" x=\"50%\" y=\"1em\">NP[AGR=[GEN='neut',NUM='sg'],CASE='akk']</text></svg><svg width=\"57.3333%\" x=\"0%\" y=\"3em\"><defs /><svg width=\"100%\" x=\"0\" y=\"0em\"><defs /><text text-anchor=\"middle\" x=\"50%\" y=\"1em\">DET[AGR=[GEN='neut',NUM='sg'],CASE='akk']</text></svg><svg width=\"100%\" x=\"0%\" y=\"3em\"><defs /><svg width=\"100%\" x=\"0\" y=\"0em\"><defs /><text text-anchor=\"middle\" x=\"50%\" y=\"1em\">das</text></svg></svg><line stroke=\"black\" x1=\"50%\" x2=\"50%\" y1=\"1.2em\" y2=\"3em\" /></svg><line stroke=\"black\" x1=\"50%\" x2=\"28.6667%\" y1=\"1.2em\" y2=\"3em\" /><svg width=\"42.6667%\" x=\"57.3333%\" y=\"3em\"><defs /><svg width=\"100%\" x=\"0\" y=\"0em\"><defs /><text text-anchor=\"middle\" x=\"50%\" y=\"1em\">NOM[AGR=[GEN='neut',NUM='sg']]</text></svg><svg width=\"100%\" x=\"0%\" y=\"3em\"><defs /><svg width=\"100%\" x=\"0\" y=\"0em\"><defs /><text text-anchor=\"middle\" x=\"50%\" y=\"1em\">N[AGR=[GEN='neut',NUM='sg']]</text></svg><svg width=\"100%\" x=\"0%\" y=\"3em\"><defs /><svg width=\"100%\" x=\"0\" y=\"0em\"><defs /><text text-anchor=\"middle\" x=\"50%\" y=\"1em\">Buch</text></svg></svg><line stroke=\"black\" x1=\"50%\" x2=\"50%\" y1=\"1.2em\" y2=\"3em\" /></svg><line stroke=\"black\" x1=\"50%\" x2=\"50%\" y1=\"1.2em\" y2=\"3em\" /></svg><line stroke=\"black\" x1=\"50%\" x2=\"78.6667%\" y1=\"1.2em\" y2=\"3em\" /></svg><line stroke=\"black\" x1=\"50%\" x2=\"82.2275%\" y1=\"1.2em\" y2=\"3em\" /></svg><line stroke=\"black\" x1=\"50%\" x2=\"63.1119%\" y1=\"1.2em\" y2=\"3em\" /></svg>"
      ],
      "text/plain": [
       "Tree('S[]', [Tree(\"NP[AGR=[GEN='mask',NUM='sg'],CASE='nom']\", [Tree(\"DET[AGR=[GEN='mask',NUM='sg'],CASE='nom']\", ['der']), Tree(\"NOM[AGR=[GEN='mask',NUM='sg']]\", [Tree(\"N[AGR=[GEN='mask',NUM='sg']]\", ['Mann'])])]), Tree(\"VP[AGR=[NUM='sg']]\", [Tree(\"V[AGR=[NUM='sg'],OBJCASE1='dat',OBJCASE2='akk',SUBCAT='ditr']\", ['gibt']), Tree(\"NP[AGR=[GEN='fem',NUM='sg'],CASE='dat']\", [Tree(\"DET[AGR=[GEN='fem',NUM='sg'],CASE='dat']\", ['der']), Tree(\"NOM[AGR=[GEN='fem',NUM='sg']]\", [Tree(\"N[AGR=[GEN='fem',NUM='sg']]\", ['Frau'])])]), Tree(\"NP[AGR=[GEN='neut',NUM='sg'],CASE='akk']\", [Tree(\"DET[AGR=[GEN='neut',NUM='sg'],CASE='akk']\", ['das']), Tree(\"NOM[AGR=[GEN='neut',NUM='sg']]\", [Tree(\"N[AGR=[GEN='neut',NUM='sg']]\", ['Buch'])])])])])"
      ]
     },
     "metadata": {},
     "output_type": "display_data"
    },
    {
     "data": {
      "image/svg+xml": [
       "<svg baseProfile=\"full\" height=\"264px\" preserveAspectRatio=\"xMidYMid meet\" style=\"font-family: times, serif; font-weight:normal; font-style: normal; font-size: 16px;\" version=\"1.1\" viewBox=\"0,0,2200.0,264.0\" width=\"2200px\" xmlns=\"http://www.w3.org/2000/svg\" xmlns:ev=\"http://www.w3.org/2001/xml-events\" xmlns:xlink=\"http://www.w3.org/1999/xlink\"><defs /><svg width=\"100%\" x=\"0\" y=\"0em\"><defs /><text text-anchor=\"middle\" x=\"50%\" y=\"1em\">S[]</text></svg><svg width=\"23.2727%\" x=\"0%\" y=\"3em\"><defs /><svg width=\"100%\" x=\"0\" y=\"0em\"><defs /><text text-anchor=\"middle\" x=\"50%\" y=\"1em\">NP[AGR=[GEN='mask',NUM='pl'],CASE='nom']</text></svg><svg width=\"50%\" x=\"0%\" y=\"3em\"><defs /><svg width=\"100%\" x=\"0\" y=\"0em\"><defs /><text text-anchor=\"middle\" x=\"50%\" y=\"1em\">DET[AGR=[NUM='pl'],CASE='nom']</text></svg><svg width=\"100%\" x=\"0%\" y=\"3em\"><defs /><svg width=\"100%\" x=\"0\" y=\"0em\"><defs /><text text-anchor=\"middle\" x=\"50%\" y=\"1em\">die</text></svg></svg><line stroke=\"black\" x1=\"50%\" x2=\"50%\" y1=\"1.2em\" y2=\"3em\" /></svg><line stroke=\"black\" x1=\"50%\" x2=\"25%\" y1=\"1.2em\" y2=\"3em\" /><svg width=\"50%\" x=\"50%\" y=\"3em\"><defs /><svg width=\"100%\" x=\"0\" y=\"0em\"><defs /><text text-anchor=\"middle\" x=\"50%\" y=\"1em\">NOM[AGR=[GEN='mask',NUM='pl']]</text></svg><svg width=\"100%\" x=\"0%\" y=\"3em\"><defs /><svg width=\"100%\" x=\"0\" y=\"0em\"><defs /><text text-anchor=\"middle\" x=\"50%\" y=\"1em\">N[AGR=[GEN='mask',NUM='pl']]</text></svg><svg width=\"100%\" x=\"0%\" y=\"3em\"><defs /><svg width=\"100%\" x=\"0\" y=\"0em\"><defs /><text text-anchor=\"middle\" x=\"50%\" y=\"1em\">Maenner</text></svg></svg><line stroke=\"black\" x1=\"50%\" x2=\"50%\" y1=\"1.2em\" y2=\"3em\" /></svg><line stroke=\"black\" x1=\"50%\" x2=\"50%\" y1=\"1.2em\" y2=\"3em\" /></svg><line stroke=\"black\" x1=\"50%\" x2=\"75%\" y1=\"1.2em\" y2=\"3em\" /></svg><line stroke=\"black\" x1=\"50%\" x2=\"11.6364%\" y1=\"1.2em\" y2=\"3em\" /><svg width=\"76.7273%\" x=\"23.2727%\" y=\"3em\"><defs /><svg width=\"100%\" x=\"0\" y=\"0em\"><defs /><text text-anchor=\"middle\" x=\"50%\" y=\"1em\">VP[AGR=[NUM='pl']]</text></svg><svg width=\"29.8578%\" x=\"0%\" y=\"3em\"><defs /><svg width=\"100%\" x=\"0\" y=\"0em\"><defs /><text text-anchor=\"middle\" x=\"50%\" y=\"1em\">V[AGR=[NUM='pl'],OBJCASE1='dat',OBJCASE2='akk',SUBCAT='ditr']</text></svg><svg width=\"100%\" x=\"0%\" y=\"3em\"><defs /><svg width=\"100%\" x=\"0\" y=\"0em\"><defs /><text text-anchor=\"middle\" x=\"50%\" y=\"1em\">geben</text></svg></svg><line stroke=\"black\" x1=\"50%\" x2=\"50%\" y1=\"1.2em\" y2=\"3em\" /></svg><line stroke=\"black\" x1=\"50%\" x2=\"14.9289%\" y1=\"1.2em\" y2=\"3em\" /><svg width=\"34.5972%\" x=\"29.8578%\" y=\"3em\"><defs /><svg width=\"100%\" x=\"0\" y=\"0em\"><defs /><text text-anchor=\"middle\" x=\"50%\" y=\"1em\">NP[AGR=[GEN='fem',NUM='sg'],CASE='dat']</text></svg><svg width=\"57.5342%\" x=\"0%\" y=\"3em\"><defs /><svg width=\"100%\" x=\"0\" y=\"0em\"><defs /><text text-anchor=\"middle\" x=\"50%\" y=\"1em\">DET[AGR=[GEN='fem',NUM='sg'],CASE='dat']</text></svg><svg width=\"100%\" x=\"0%\" y=\"3em\"><defs /><svg width=\"100%\" x=\"0\" y=\"0em\"><defs /><text text-anchor=\"middle\" x=\"50%\" y=\"1em\">der</text></svg></svg><line stroke=\"black\" x1=\"50%\" x2=\"50%\" y1=\"1.2em\" y2=\"3em\" /></svg><line stroke=\"black\" x1=\"50%\" x2=\"28.7671%\" y1=\"1.2em\" y2=\"3em\" /><svg width=\"42.4658%\" x=\"57.5342%\" y=\"3em\"><defs /><svg width=\"100%\" x=\"0\" y=\"0em\"><defs /><text text-anchor=\"middle\" x=\"50%\" y=\"1em\">NOM[AGR=[GEN='fem',NUM='sg']]</text></svg><svg width=\"100%\" x=\"0%\" y=\"3em\"><defs /><svg width=\"100%\" x=\"0\" y=\"0em\"><defs /><text text-anchor=\"middle\" x=\"50%\" y=\"1em\">N[AGR=[GEN='fem',NUM='sg']]</text></svg><svg width=\"100%\" x=\"0%\" y=\"3em\"><defs /><svg width=\"100%\" x=\"0\" y=\"0em\"><defs /><text text-anchor=\"middle\" x=\"50%\" y=\"1em\">Frau</text></svg></svg><line stroke=\"black\" x1=\"50%\" x2=\"50%\" y1=\"1.2em\" y2=\"3em\" /></svg><line stroke=\"black\" x1=\"50%\" x2=\"50%\" y1=\"1.2em\" y2=\"3em\" /></svg><line stroke=\"black\" x1=\"50%\" x2=\"78.7671%\" y1=\"1.2em\" y2=\"3em\" /></svg><line stroke=\"black\" x1=\"50%\" x2=\"47.1564%\" y1=\"1.2em\" y2=\"3em\" /><svg width=\"35.545%\" x=\"64.455%\" y=\"3em\"><defs /><svg width=\"100%\" x=\"0\" y=\"0em\"><defs /><text text-anchor=\"middle\" x=\"50%\" y=\"1em\">NP[AGR=[GEN='neut',NUM='sg'],CASE='akk']</text></svg><svg width=\"57.3333%\" x=\"0%\" y=\"3em\"><defs /><svg width=\"100%\" x=\"0\" y=\"0em\"><defs /><text text-anchor=\"middle\" x=\"50%\" y=\"1em\">DET[AGR=[GEN='neut',NUM='sg'],CASE='akk']</text></svg><svg width=\"100%\" x=\"0%\" y=\"3em\"><defs /><svg width=\"100%\" x=\"0\" y=\"0em\"><defs /><text text-anchor=\"middle\" x=\"50%\" y=\"1em\">das</text></svg></svg><line stroke=\"black\" x1=\"50%\" x2=\"50%\" y1=\"1.2em\" y2=\"3em\" /></svg><line stroke=\"black\" x1=\"50%\" x2=\"28.6667%\" y1=\"1.2em\" y2=\"3em\" /><svg width=\"42.6667%\" x=\"57.3333%\" y=\"3em\"><defs /><svg width=\"100%\" x=\"0\" y=\"0em\"><defs /><text text-anchor=\"middle\" x=\"50%\" y=\"1em\">NOM[AGR=[GEN='neut',NUM='sg']]</text></svg><svg width=\"100%\" x=\"0%\" y=\"3em\"><defs /><svg width=\"100%\" x=\"0\" y=\"0em\"><defs /><text text-anchor=\"middle\" x=\"50%\" y=\"1em\">N[AGR=[GEN='neut',NUM='sg']]</text></svg><svg width=\"100%\" x=\"0%\" y=\"3em\"><defs /><svg width=\"100%\" x=\"0\" y=\"0em\"><defs /><text text-anchor=\"middle\" x=\"50%\" y=\"1em\">Buch</text></svg></svg><line stroke=\"black\" x1=\"50%\" x2=\"50%\" y1=\"1.2em\" y2=\"3em\" /></svg><line stroke=\"black\" x1=\"50%\" x2=\"50%\" y1=\"1.2em\" y2=\"3em\" /></svg><line stroke=\"black\" x1=\"50%\" x2=\"78.6667%\" y1=\"1.2em\" y2=\"3em\" /></svg><line stroke=\"black\" x1=\"50%\" x2=\"82.2275%\" y1=\"1.2em\" y2=\"3em\" /></svg><line stroke=\"black\" x1=\"50%\" x2=\"61.6364%\" y1=\"1.2em\" y2=\"3em\" /></svg>"
      ],
      "text/plain": [
       "Tree('S[]', [Tree(\"NP[AGR=[GEN='mask',NUM='pl'],CASE='nom']\", [Tree(\"DET[AGR=[NUM='pl'],CASE='nom']\", ['die']), Tree(\"NOM[AGR=[GEN='mask',NUM='pl']]\", [Tree(\"N[AGR=[GEN='mask',NUM='pl']]\", ['Maenner'])])]), Tree(\"VP[AGR=[NUM='pl']]\", [Tree(\"V[AGR=[NUM='pl'],OBJCASE1='dat',OBJCASE2='akk',SUBCAT='ditr']\", ['geben']), Tree(\"NP[AGR=[GEN='fem',NUM='sg'],CASE='dat']\", [Tree(\"DET[AGR=[GEN='fem',NUM='sg'],CASE='dat']\", ['der']), Tree(\"NOM[AGR=[GEN='fem',NUM='sg']]\", [Tree(\"N[AGR=[GEN='fem',NUM='sg']]\", ['Frau'])])]), Tree(\"NP[AGR=[GEN='neut',NUM='sg'],CASE='akk']\", [Tree(\"DET[AGR=[GEN='neut',NUM='sg'],CASE='akk']\", ['das']), Tree(\"NOM[AGR=[GEN='neut',NUM='sg']]\", [Tree(\"N[AGR=[GEN='neut',NUM='sg']]\", ['Buch'])])])])])"
      ]
     },
     "metadata": {},
     "output_type": "display_data"
    },
    {
     "data": {
      "image/svg+xml": [
       "<svg baseProfile=\"full\" height=\"264px\" preserveAspectRatio=\"xMidYMid meet\" style=\"font-family: times, serif; font-weight:normal; font-style: normal; font-size: 16px;\" version=\"1.1\" viewBox=\"0,0,1456.0,264.0\" width=\"1456px\" xmlns=\"http://www.w3.org/2000/svg\" xmlns:ev=\"http://www.w3.org/2001/xml-events\" xmlns:xlink=\"http://www.w3.org/1999/xlink\"><defs /><svg width=\"100%\" x=\"0\" y=\"0em\"><defs /><text text-anchor=\"middle\" x=\"50%\" y=\"1em\">S[]</text></svg><svg width=\"35.1648%\" x=\"0%\" y=\"3em\"><defs /><svg width=\"100%\" x=\"0\" y=\"0em\"><defs /><text text-anchor=\"middle\" x=\"50%\" y=\"1em\">NP[AGR=[GEN='neut',NUM='pl'],CASE='nom']</text></svg><svg width=\"50%\" x=\"0%\" y=\"3em\"><defs /><svg width=\"100%\" x=\"0\" y=\"0em\"><defs /><text text-anchor=\"middle\" x=\"50%\" y=\"1em\">DET[AGR=[NUM='pl'],CASE='nom']</text></svg><svg width=\"100%\" x=\"0%\" y=\"3em\"><defs /><svg width=\"100%\" x=\"0\" y=\"0em\"><defs /><text text-anchor=\"middle\" x=\"50%\" y=\"1em\">die</text></svg></svg><line stroke=\"black\" x1=\"50%\" x2=\"50%\" y1=\"1.2em\" y2=\"3em\" /></svg><line stroke=\"black\" x1=\"50%\" x2=\"25%\" y1=\"1.2em\" y2=\"3em\" /><svg width=\"50%\" x=\"50%\" y=\"3em\"><defs /><svg width=\"100%\" x=\"0\" y=\"0em\"><defs /><text text-anchor=\"middle\" x=\"50%\" y=\"1em\">NOM[AGR=[GEN='neut',NUM='pl']]</text></svg><svg width=\"100%\" x=\"0%\" y=\"3em\"><defs /><svg width=\"100%\" x=\"0\" y=\"0em\"><defs /><text text-anchor=\"middle\" x=\"50%\" y=\"1em\">N[AGR=[GEN='neut',NUM='pl']]</text></svg><svg width=\"100%\" x=\"0%\" y=\"3em\"><defs /><svg width=\"100%\" x=\"0\" y=\"0em\"><defs /><text text-anchor=\"middle\" x=\"50%\" y=\"1em\">Bücher</text></svg></svg><line stroke=\"black\" x1=\"50%\" x2=\"50%\" y1=\"1.2em\" y2=\"3em\" /></svg><line stroke=\"black\" x1=\"50%\" x2=\"50%\" y1=\"1.2em\" y2=\"3em\" /></svg><line stroke=\"black\" x1=\"50%\" x2=\"75%\" y1=\"1.2em\" y2=\"3em\" /></svg><line stroke=\"black\" x1=\"50%\" x2=\"17.5824%\" y1=\"1.2em\" y2=\"3em\" /><svg width=\"64.8352%\" x=\"35.1648%\" y=\"3em\"><defs /><svg width=\"100%\" x=\"0\" y=\"0em\"><defs /><text text-anchor=\"middle\" x=\"50%\" y=\"1em\">VP[AGR=[NUM='pl']]</text></svg><svg width=\"38.1356%\" x=\"0%\" y=\"3em\"><defs /><svg width=\"100%\" x=\"0\" y=\"0em\"><defs /><text text-anchor=\"middle\" x=\"50%\" y=\"1em\">V[AGR=[NUM='pl'],OBJCASE='dat',SUBCAT='tr']</text></svg><svg width=\"100%\" x=\"0%\" y=\"3em\"><defs /><svg width=\"100%\" x=\"0\" y=\"0em\"><defs /><text text-anchor=\"middle\" x=\"50%\" y=\"1em\">gefallen</text></svg></svg><line stroke=\"black\" x1=\"50%\" x2=\"50%\" y1=\"1.2em\" y2=\"3em\" /></svg><line stroke=\"black\" x1=\"50%\" x2=\"19.0678%\" y1=\"1.2em\" y2=\"3em\" /><svg width=\"61.8644%\" x=\"38.1356%\" y=\"3em\"><defs /><svg width=\"100%\" x=\"0\" y=\"0em\"><defs /><text text-anchor=\"middle\" x=\"50%\" y=\"1em\">NP[AGR=[GEN='fem',NUM='sg'],CASE='dat']</text></svg><svg width=\"57.5342%\" x=\"0%\" y=\"3em\"><defs /><svg width=\"100%\" x=\"0\" y=\"0em\"><defs /><text text-anchor=\"middle\" x=\"50%\" y=\"1em\">DET[AGR=[GEN='fem',NUM='sg'],CASE='dat']</text></svg><svg width=\"100%\" x=\"0%\" y=\"3em\"><defs /><svg width=\"100%\" x=\"0\" y=\"0em\"><defs /><text text-anchor=\"middle\" x=\"50%\" y=\"1em\">der</text></svg></svg><line stroke=\"black\" x1=\"50%\" x2=\"50%\" y1=\"1.2em\" y2=\"3em\" /></svg><line stroke=\"black\" x1=\"50%\" x2=\"28.7671%\" y1=\"1.2em\" y2=\"3em\" /><svg width=\"42.4658%\" x=\"57.5342%\" y=\"3em\"><defs /><svg width=\"100%\" x=\"0\" y=\"0em\"><defs /><text text-anchor=\"middle\" x=\"50%\" y=\"1em\">NOM[AGR=[GEN='fem',NUM='sg']]</text></svg><svg width=\"100%\" x=\"0%\" y=\"3em\"><defs /><svg width=\"100%\" x=\"0\" y=\"0em\"><defs /><text text-anchor=\"middle\" x=\"50%\" y=\"1em\">N[AGR=[GEN='fem',NUM='sg']]</text></svg><svg width=\"100%\" x=\"0%\" y=\"3em\"><defs /><svg width=\"100%\" x=\"0\" y=\"0em\"><defs /><text text-anchor=\"middle\" x=\"50%\" y=\"1em\">Frau</text></svg></svg><line stroke=\"black\" x1=\"50%\" x2=\"50%\" y1=\"1.2em\" y2=\"3em\" /></svg><line stroke=\"black\" x1=\"50%\" x2=\"50%\" y1=\"1.2em\" y2=\"3em\" /></svg><line stroke=\"black\" x1=\"50%\" x2=\"78.7671%\" y1=\"1.2em\" y2=\"3em\" /></svg><line stroke=\"black\" x1=\"50%\" x2=\"69.0678%\" y1=\"1.2em\" y2=\"3em\" /></svg><line stroke=\"black\" x1=\"50%\" x2=\"67.5824%\" y1=\"1.2em\" y2=\"3em\" /></svg>"
      ],
      "text/plain": [
       "Tree('S[]', [Tree(\"NP[AGR=[GEN='neut',NUM='pl'],CASE='nom']\", [Tree(\"DET[AGR=[NUM='pl'],CASE='nom']\", ['die']), Tree(\"NOM[AGR=[GEN='neut',NUM='pl']]\", [Tree(\"N[AGR=[GEN='neut',NUM='pl']]\", ['Bücher'])])]), Tree(\"VP[AGR=[NUM='pl']]\", [Tree(\"V[AGR=[NUM='pl'],OBJCASE='dat',SUBCAT='tr']\", ['gefallen']), Tree(\"NP[AGR=[GEN='fem',NUM='sg'],CASE='dat']\", [Tree(\"DET[AGR=[GEN='fem',NUM='sg'],CASE='dat']\", ['der']), Tree(\"NOM[AGR=[GEN='fem',NUM='sg']]\", [Tree(\"N[AGR=[GEN='fem',NUM='sg']]\", ['Frau'])])])])])"
      ]
     },
     "metadata": {},
     "output_type": "display_data"
    },
    {
     "data": {
      "image/svg+xml": [
       "<svg baseProfile=\"full\" height=\"216px\" preserveAspectRatio=\"xMidYMid meet\" style=\"font-family: times, serif; font-weight:normal; font-style: normal; font-size: 16px;\" version=\"1.1\" viewBox=\"0,0,768.0,216.0\" width=\"768px\" xmlns=\"http://www.w3.org/2000/svg\" xmlns:ev=\"http://www.w3.org/2001/xml-events\" xmlns:xlink=\"http://www.w3.org/1999/xlink\"><defs /><svg width=\"100%\" x=\"0\" y=\"0em\"><defs /><text text-anchor=\"middle\" x=\"50%\" y=\"1em\">S[]</text></svg><svg width=\"65.625%\" x=\"0%\" y=\"3em\"><defs /><svg width=\"100%\" x=\"0\" y=\"0em\"><defs /><text text-anchor=\"middle\" x=\"50%\" y=\"1em\">NP[AGR=[GEN='fem',NUM='pl'],CASE='nom']</text></svg><svg width=\"50.7937%\" x=\"0%\" y=\"3em\"><defs /><svg width=\"100%\" x=\"0\" y=\"0em\"><defs /><text text-anchor=\"middle\" x=\"50%\" y=\"1em\">DET[AGR=[NUM='pl'],CASE='nom']</text></svg><svg width=\"100%\" x=\"0%\" y=\"3em\"><defs /><svg width=\"100%\" x=\"0\" y=\"0em\"><defs /><text text-anchor=\"middle\" x=\"50%\" y=\"1em\">die</text></svg></svg><line stroke=\"black\" x1=\"50%\" x2=\"50%\" y1=\"1.2em\" y2=\"3em\" /></svg><line stroke=\"black\" x1=\"50%\" x2=\"25.3968%\" y1=\"1.2em\" y2=\"3em\" /><svg width=\"49.2063%\" x=\"50.7937%\" y=\"3em\"><defs /><svg width=\"100%\" x=\"0\" y=\"0em\"><defs /><text text-anchor=\"middle\" x=\"50%\" y=\"1em\">NOM[AGR=[GEN='fem',NUM='pl']]</text></svg><svg width=\"100%\" x=\"0%\" y=\"3em\"><defs /><svg width=\"100%\" x=\"0\" y=\"0em\"><defs /><text text-anchor=\"middle\" x=\"50%\" y=\"1em\">N[AGR=[GEN='fem',NUM='pl']]</text></svg><svg width=\"100%\" x=\"0%\" y=\"3em\"><defs /><svg width=\"100%\" x=\"0\" y=\"0em\"><defs /><text text-anchor=\"middle\" x=\"50%\" y=\"1em\">Frauen</text></svg></svg><line stroke=\"black\" x1=\"50%\" x2=\"50%\" y1=\"1.2em\" y2=\"3em\" /></svg><line stroke=\"black\" x1=\"50%\" x2=\"50%\" y1=\"1.2em\" y2=\"3em\" /></svg><line stroke=\"black\" x1=\"50%\" x2=\"75.3968%\" y1=\"1.2em\" y2=\"3em\" /></svg><line stroke=\"black\" x1=\"50%\" x2=\"32.8125%\" y1=\"1.2em\" y2=\"3em\" /><svg width=\"34.375%\" x=\"65.625%\" y=\"3em\"><defs /><svg width=\"100%\" x=\"0\" y=\"0em\"><defs /><text text-anchor=\"middle\" x=\"50%\" y=\"1em\">VP[AGR=[NUM='pl']]</text></svg><svg width=\"100%\" x=\"0%\" y=\"3em\"><defs /><svg width=\"100%\" x=\"0\" y=\"0em\"><defs /><text text-anchor=\"middle\" x=\"50%\" y=\"1em\">V[AGR=[NUM='pl'],SUBCAT='intr']</text></svg><svg width=\"100%\" x=\"0%\" y=\"3em\"><defs /><svg width=\"100%\" x=\"0\" y=\"0em\"><defs /><text text-anchor=\"middle\" x=\"50%\" y=\"1em\">schlafen</text></svg></svg><line stroke=\"black\" x1=\"50%\" x2=\"50%\" y1=\"1.2em\" y2=\"3em\" /></svg><line stroke=\"black\" x1=\"50%\" x2=\"50%\" y1=\"1.2em\" y2=\"3em\" /></svg><line stroke=\"black\" x1=\"50%\" x2=\"82.8125%\" y1=\"1.2em\" y2=\"3em\" /></svg>"
      ],
      "text/plain": [
       "Tree('S[]', [Tree(\"NP[AGR=[GEN='fem',NUM='pl'],CASE='nom']\", [Tree(\"DET[AGR=[NUM='pl'],CASE='nom']\", ['die']), Tree(\"NOM[AGR=[GEN='fem',NUM='pl']]\", [Tree(\"N[AGR=[GEN='fem',NUM='pl']]\", ['Frauen'])])]), Tree(\"VP[AGR=[NUM='pl']]\", [Tree(\"V[AGR=[NUM='pl'],SUBCAT='intr']\", ['schlafen'])])])"
      ]
     },
     "metadata": {},
     "output_type": "display_data"
    }
   ],
   "source": [
    "for sent in pos_sents:\n",
    "    trees = list(parser.parse(sent.split()))\n",
    "    if trees: [show_FeatTree(tree, style=1, draw=1) for tree in trees]\n",
    "    else: print(f\"no parse found for: {sent}\")"
   ]
  },
  {
   "cell_type": "markdown",
   "metadata": {},
   "source": [
    "### e) Adverben und Verbzweitstellung\n",
    "\n",
    "#### Fügen Sie der untenstehende Grammatik die zwei Adverben *heute* und *morgen* hinzu. Adverben können prinzipiell sehr frei im Satz platziert werden. Eine Besonderheit des Deutschen ist aber die sog. Verbzweitstellung, wie sie z. B. in Sätzen wie *Heute schlaeft der Mann* deutlich wird.\n",
    "#### Versuchen Sie alle Möglichkeiten zu implementieren:"
   ]
  },
  {
   "cell_type": "code",
   "execution_count": 43,
   "metadata": {},
   "outputs": [],
   "source": [
    "pos_sents = [\n",
    "  \"heute gibt der Mann der Frau das Buch\",\n",
    "  \"der Mann gibt heute der Frau das Buch\",\n",
    "  \"der Mann gibt der Frau heute das Buch\",\n",
    "  \"der Mann gibt der Frau das Buch heute\"\n",
    "]\n",
    "\n",
    "neg_sents = [\n",
    "    \"heute der Mann gibt der Frau das Buch\"\n",
    "]"
   ]
  },
  {
   "cell_type": "code",
   "execution_count": 44,
   "metadata": {},
   "outputs": [],
   "source": [
    "grammar = FeatureGrammar.fromstring(r\"\"\"\n",
    "\n",
    "#intransitiv:\n",
    "S -> ADV V[SUBCAT=intr,NUM=?x] NP[CASE=nom,NUM=?x]\n",
    "S -> NP[CASE=nom,NUM=?x] V[SUBCAT=intr,NUM=?x] ADV\n",
    "\n",
    "#transitiv:\n",
    "S -> ADV V[SUBCAT=tr,OBJCASE=?o,NUM=?x] NP[CASE=nom,NUM=?x] NP[CASE=?o,NUM=?x] \n",
    "S -> NP[CASE=nom,NUM=?x] V[SUBCAT=tr,OBJCASE=?o,NUM=?x] ADV NP[CASE=?o,NUM=?x]\n",
    "S -> NP[CASE=?o,NUM=?x] V[SUBCAT=tr,OBJCASE=?o,NUM=?x] NP[CASE=nom,NUM=?x] ADV \n",
    "\n",
    "\n",
    "#ditransitiv:\n",
    "S -> ADV V[SUBCAT=ditr,OBJCASE1=?io,OBJCASE2=?o,NUM=?x] NP[CASE=nom,NUM=?x] NP[CASE=?io,NUM=?x] NP[CASE=?o,NUM=?x] \n",
    "S -> NP[CASE=nom,NUM=?x] V[SUBCAT=ditr,OBJCASE1=?io,OBJCASE2=?o,NUM=?x] ADV NP[CASE=?io,NUM=?x] NP[CASE=?o,NUM=?x] \n",
    "S -> NP[CASE=nom,NUM=?x] V[SUBCAT=ditr,OBJCASE1=?io,OBJCASE2=?o,NUM=?x] NP[CASE=?io,NUM=?x] ADV NP[CASE=?o,NUM=?x] \n",
    "S -> NP[CASE=nom,NUM=?x] V[SUBCAT=ditr,OBJCASE1=?io,OBJCASE2=?o,NUM=?x] NP[CASE=?io,NUM=?x] NP[CASE=?o,NUM=?x] ADV\n",
    "#usw. (s.o. Aufgabe 2) \n",
    "\n",
    "NP[CASE=?y,NUM=?z] -> DET[GEN=?x,CASE=?y,NUM=?z] NOM[GEN=?x,NUM=?z]\n",
    "NOM[GEN=?x,NUM=?z] -> N[GEN=?x,NUM=?z]\n",
    "\n",
    "\n",
    "ADV -> \"heute\" | \"morgen\"\n",
    "\n",
    "N[GEN=mask,NUM=sg] -> \"Mann\"\n",
    "N[GEN=mask,NUM=pl] -> \"Maenner\"\n",
    "N[GEN=fem,NUM=sg] -> \"Frau\"\n",
    "N[GEN=fem,NUM=pl] -> \"Frauen\"\n",
    "N[GEN=neut,NUM=sg] -> \"Buch\"\n",
    "N[GEN=neut,NUM=pl] -> \"Bücher\"\n",
    "\n",
    "V[SUBCAT=ditr, OBJCASE1=dat, OBJCASE2=akk,NUM=sg] -> \"gibt\" | \"schenkt\"\n",
    "V[SUBCAT=ditr, OBJCASE1=dat, OBJCASE2=akk,NUM=pl] -> \"geben\" | \"schenken\"\n",
    "V[SUBCAT=intr,NUM=sg] -> \"schlaeft\"\n",
    "V[SUBCAT=intr,NUM=pl] -> \"schlafen\"\n",
    "V[SUBCAT=tr,OBJCASE=dat,NUM=sg] -> \"gefaellt\"\n",
    "V[SUBCAT=tr,OBJCASE=dat,NUM=pl] -> \"gefallen\"\n",
    "V[SUBCAT=tr,OBJCASE=akk,NUM=sg] -> \"kennt\"\n",
    "V[SUBCAT=tr,OBJCASE=akk,NUM=pl] -> \"kennen\"\n",
    "\n",
    "DET[GEN=mask,CASE=nom,NUM=sg] -> \"der\"\n",
    "DET[GEN=fem,CASE=dat,NUM=sg] -> \"der\"\n",
    "\n",
    "DET[GEN=fem,CASE=nom,NUM=sg] -> \"die\"\n",
    "DET[GEN=fem,CASE=akk,NUM=sg] -> \"die\"\n",
    "DET[GEN=neut,CASE=nom,NUM=sg] -> \"das\"\n",
    "DET[GEN=neut,CASE=akk,NUM=sg] -> \"das\"\n",
    "\n",
    "DET[CASE=nom,NUM=pl] -> \"die\"\n",
    "DET[CASE=akk,NUM=pl] -> \"die\"\n",
    "\"\"\")\n",
    "\n",
    "parser = nltk.FeatureChartParser(grammar)"
   ]
  },
  {
   "cell_type": "code",
   "execution_count": 45,
   "metadata": {},
   "outputs": [
    {
     "name": "stdout",
     "output_type": "stream",
     "text": [
      "no parse found for: heute der Mann gibt der Frau das Buch\n"
     ]
    }
   ],
   "source": [
    "for sent in neg_sents:\n",
    "    trees = list(parser.parse(sent.split()))\n",
    "    if trees: [show_FeatTree(tree, style=1) for tree in trees]\n",
    "    else: print(f\"no parse found for: {sent}\")"
   ]
  },
  {
   "cell_type": "code",
   "execution_count": 46,
   "metadata": {},
   "outputs": [
    {
     "data": {
      "image/svg+xml": [
       "<svg baseProfile=\"full\" height=\"216px\" preserveAspectRatio=\"xMidYMid meet\" style=\"font-family: times, serif; font-weight:normal; font-style: normal; font-size: 16px;\" version=\"1.1\" viewBox=\"0,0,2008.0,216.0\" width=\"2008px\" xmlns=\"http://www.w3.org/2000/svg\" xmlns:ev=\"http://www.w3.org/2001/xml-events\" xmlns:xlink=\"http://www.w3.org/1999/xlink\"><defs /><svg width=\"100%\" x=\"0\" y=\"0em\"><defs /><text text-anchor=\"middle\" x=\"50%\" y=\"1em\">S[]</text></svg><svg width=\"2.78884%\" x=\"0%\" y=\"3em\"><defs /><svg width=\"100%\" x=\"0\" y=\"0em\"><defs /><text text-anchor=\"middle\" x=\"50%\" y=\"1em\">ADV[]</text></svg><svg width=\"100%\" x=\"0%\" y=\"3em\"><defs /><svg width=\"100%\" x=\"0\" y=\"0em\"><defs /><text text-anchor=\"middle\" x=\"50%\" y=\"1em\">heute</text></svg></svg><line stroke=\"black\" x1=\"50%\" x2=\"50%\" y1=\"1.2em\" y2=\"3em\" /></svg><line stroke=\"black\" x1=\"50%\" x2=\"1.39442%\" y1=\"1.2em\" y2=\"3em\" /><svg width=\"22.7092%\" x=\"2.78884%\" y=\"3em\"><defs /><svg width=\"100%\" x=\"0\" y=\"0em\"><defs /><text text-anchor=\"middle\" x=\"50%\" y=\"1em\">V[NUM='sg',OBJCASE1='dat',OBJCASE2='akk',SUBCAT='ditr']</text></svg><svg width=\"100%\" x=\"0%\" y=\"3em\"><defs /><svg width=\"100%\" x=\"0\" y=\"0em\"><defs /><text text-anchor=\"middle\" x=\"50%\" y=\"1em\">gibt</text></svg></svg><line stroke=\"black\" x1=\"50%\" x2=\"50%\" y1=\"1.2em\" y2=\"3em\" /></svg><line stroke=\"black\" x1=\"50%\" x2=\"14.1434%\" y1=\"1.2em\" y2=\"3em\" /><svg width=\"25.0996%\" x=\"25.498%\" y=\"3em\"><defs /><svg width=\"100%\" x=\"0\" y=\"0em\"><defs /><text text-anchor=\"middle\" x=\"50%\" y=\"1em\">NP[CASE='nom',NUM='sg']</text></svg><svg width=\"58.7302%\" x=\"0%\" y=\"3em\"><defs /><svg width=\"100%\" x=\"0\" y=\"0em\"><defs /><text text-anchor=\"middle\" x=\"50%\" y=\"1em\">DET[CASE='nom',GEN='mask',NUM='sg']</text></svg><svg width=\"100%\" x=\"0%\" y=\"3em\"><defs /><svg width=\"100%\" x=\"0\" y=\"0em\"><defs /><text text-anchor=\"middle\" x=\"50%\" y=\"1em\">der</text></svg></svg><line stroke=\"black\" x1=\"50%\" x2=\"50%\" y1=\"1.2em\" y2=\"3em\" /></svg><line stroke=\"black\" x1=\"50%\" x2=\"29.3651%\" y1=\"1.2em\" y2=\"3em\" /><svg width=\"41.2698%\" x=\"58.7302%\" y=\"3em\"><defs /><svg width=\"100%\" x=\"0\" y=\"0em\"><defs /><text text-anchor=\"middle\" x=\"50%\" y=\"1em\">NOM[GEN='mask',NUM='sg']</text></svg><svg width=\"100%\" x=\"0%\" y=\"3em\"><defs /><svg width=\"100%\" x=\"0\" y=\"0em\"><defs /><text text-anchor=\"middle\" x=\"50%\" y=\"1em\">N[GEN='mask',NUM='sg']</text></svg><svg width=\"100%\" x=\"0%\" y=\"3em\"><defs /><svg width=\"100%\" x=\"0\" y=\"0em\"><defs /><text text-anchor=\"middle\" x=\"50%\" y=\"1em\">Mann</text></svg></svg><line stroke=\"black\" x1=\"50%\" x2=\"50%\" y1=\"1.2em\" y2=\"3em\" /></svg><line stroke=\"black\" x1=\"50%\" x2=\"50%\" y1=\"1.2em\" y2=\"3em\" /></svg><line stroke=\"black\" x1=\"50%\" x2=\"79.3651%\" y1=\"1.2em\" y2=\"3em\" /></svg><line stroke=\"black\" x1=\"50%\" x2=\"38.0478%\" y1=\"1.2em\" y2=\"3em\" /><svg width=\"24.3028%\" x=\"50.5976%\" y=\"3em\"><defs /><svg width=\"100%\" x=\"0\" y=\"0em\"><defs /><text text-anchor=\"middle\" x=\"50%\" y=\"1em\">NP[CASE='dat',NUM='sg']</text></svg><svg width=\"59.0164%\" x=\"0%\" y=\"3em\"><defs /><svg width=\"100%\" x=\"0\" y=\"0em\"><defs /><text text-anchor=\"middle\" x=\"50%\" y=\"1em\">DET[CASE='dat',GEN='fem',NUM='sg']</text></svg><svg width=\"100%\" x=\"0%\" y=\"3em\"><defs /><svg width=\"100%\" x=\"0\" y=\"0em\"><defs /><text text-anchor=\"middle\" x=\"50%\" y=\"1em\">der</text></svg></svg><line stroke=\"black\" x1=\"50%\" x2=\"50%\" y1=\"1.2em\" y2=\"3em\" /></svg><line stroke=\"black\" x1=\"50%\" x2=\"29.5082%\" y1=\"1.2em\" y2=\"3em\" /><svg width=\"40.9836%\" x=\"59.0164%\" y=\"3em\"><defs /><svg width=\"100%\" x=\"0\" y=\"0em\"><defs /><text text-anchor=\"middle\" x=\"50%\" y=\"1em\">NOM[GEN='fem',NUM='sg']</text></svg><svg width=\"100%\" x=\"0%\" y=\"3em\"><defs /><svg width=\"100%\" x=\"0\" y=\"0em\"><defs /><text text-anchor=\"middle\" x=\"50%\" y=\"1em\">N[GEN='fem',NUM='sg']</text></svg><svg width=\"100%\" x=\"0%\" y=\"3em\"><defs /><svg width=\"100%\" x=\"0\" y=\"0em\"><defs /><text text-anchor=\"middle\" x=\"50%\" y=\"1em\">Frau</text></svg></svg><line stroke=\"black\" x1=\"50%\" x2=\"50%\" y1=\"1.2em\" y2=\"3em\" /></svg><line stroke=\"black\" x1=\"50%\" x2=\"50%\" y1=\"1.2em\" y2=\"3em\" /></svg><line stroke=\"black\" x1=\"50%\" x2=\"79.5082%\" y1=\"1.2em\" y2=\"3em\" /></svg><line stroke=\"black\" x1=\"50%\" x2=\"62.749%\" y1=\"1.2em\" y2=\"3em\" /><svg width=\"25.0996%\" x=\"74.9004%\" y=\"3em\"><defs /><svg width=\"100%\" x=\"0\" y=\"0em\"><defs /><text text-anchor=\"middle\" x=\"50%\" y=\"1em\">NP[CASE='akk',NUM='sg']</text></svg><svg width=\"58.7302%\" x=\"0%\" y=\"3em\"><defs /><svg width=\"100%\" x=\"0\" y=\"0em\"><defs /><text text-anchor=\"middle\" x=\"50%\" y=\"1em\">DET[CASE='akk',GEN='neut',NUM='sg']</text></svg><svg width=\"100%\" x=\"0%\" y=\"3em\"><defs /><svg width=\"100%\" x=\"0\" y=\"0em\"><defs /><text text-anchor=\"middle\" x=\"50%\" y=\"1em\">das</text></svg></svg><line stroke=\"black\" x1=\"50%\" x2=\"50%\" y1=\"1.2em\" y2=\"3em\" /></svg><line stroke=\"black\" x1=\"50%\" x2=\"29.3651%\" y1=\"1.2em\" y2=\"3em\" /><svg width=\"41.2698%\" x=\"58.7302%\" y=\"3em\"><defs /><svg width=\"100%\" x=\"0\" y=\"0em\"><defs /><text text-anchor=\"middle\" x=\"50%\" y=\"1em\">NOM[GEN='neut',NUM='sg']</text></svg><svg width=\"100%\" x=\"0%\" y=\"3em\"><defs /><svg width=\"100%\" x=\"0\" y=\"0em\"><defs /><text text-anchor=\"middle\" x=\"50%\" y=\"1em\">N[GEN='neut',NUM='sg']</text></svg><svg width=\"100%\" x=\"0%\" y=\"3em\"><defs /><svg width=\"100%\" x=\"0\" y=\"0em\"><defs /><text text-anchor=\"middle\" x=\"50%\" y=\"1em\">Buch</text></svg></svg><line stroke=\"black\" x1=\"50%\" x2=\"50%\" y1=\"1.2em\" y2=\"3em\" /></svg><line stroke=\"black\" x1=\"50%\" x2=\"50%\" y1=\"1.2em\" y2=\"3em\" /></svg><line stroke=\"black\" x1=\"50%\" x2=\"79.3651%\" y1=\"1.2em\" y2=\"3em\" /></svg><line stroke=\"black\" x1=\"50%\" x2=\"87.4502%\" y1=\"1.2em\" y2=\"3em\" /></svg>"
      ],
      "text/plain": [
       "Tree('S[]', [Tree('ADV[]', ['heute']), Tree(\"V[NUM='sg',OBJCASE1='dat',OBJCASE2='akk',SUBCAT='ditr']\", ['gibt']), Tree(\"NP[CASE='nom',NUM='sg']\", [Tree(\"DET[CASE='nom',GEN='mask',NUM='sg']\", ['der']), Tree(\"NOM[GEN='mask',NUM='sg']\", [Tree(\"N[GEN='mask',NUM='sg']\", ['Mann'])])]), Tree(\"NP[CASE='dat',NUM='sg']\", [Tree(\"DET[CASE='dat',GEN='fem',NUM='sg']\", ['der']), Tree(\"NOM[GEN='fem',NUM='sg']\", [Tree(\"N[GEN='fem',NUM='sg']\", ['Frau'])])]), Tree(\"NP[CASE='akk',NUM='sg']\", [Tree(\"DET[CASE='akk',GEN='neut',NUM='sg']\", ['das']), Tree(\"NOM[GEN='neut',NUM='sg']\", [Tree(\"N[GEN='neut',NUM='sg']\", ['Buch'])])])])"
      ]
     },
     "metadata": {},
     "output_type": "display_data"
    },
    {
     "data": {
      "image/svg+xml": [
       "<svg baseProfile=\"full\" height=\"216px\" preserveAspectRatio=\"xMidYMid meet\" style=\"font-family: times, serif; font-weight:normal; font-style: normal; font-size: 16px;\" version=\"1.1\" viewBox=\"0,0,2008.0,216.0\" width=\"2008px\" xmlns=\"http://www.w3.org/2000/svg\" xmlns:ev=\"http://www.w3.org/2001/xml-events\" xmlns:xlink=\"http://www.w3.org/1999/xlink\"><defs /><svg width=\"100%\" x=\"0\" y=\"0em\"><defs /><text text-anchor=\"middle\" x=\"50%\" y=\"1em\">S[]</text></svg><svg width=\"25.0996%\" x=\"0%\" y=\"3em\"><defs /><svg width=\"100%\" x=\"0\" y=\"0em\"><defs /><text text-anchor=\"middle\" x=\"50%\" y=\"1em\">NP[CASE='nom',NUM='sg']</text></svg><svg width=\"58.7302%\" x=\"0%\" y=\"3em\"><defs /><svg width=\"100%\" x=\"0\" y=\"0em\"><defs /><text text-anchor=\"middle\" x=\"50%\" y=\"1em\">DET[CASE='nom',GEN='mask',NUM='sg']</text></svg><svg width=\"100%\" x=\"0%\" y=\"3em\"><defs /><svg width=\"100%\" x=\"0\" y=\"0em\"><defs /><text text-anchor=\"middle\" x=\"50%\" y=\"1em\">der</text></svg></svg><line stroke=\"black\" x1=\"50%\" x2=\"50%\" y1=\"1.2em\" y2=\"3em\" /></svg><line stroke=\"black\" x1=\"50%\" x2=\"29.3651%\" y1=\"1.2em\" y2=\"3em\" /><svg width=\"41.2698%\" x=\"58.7302%\" y=\"3em\"><defs /><svg width=\"100%\" x=\"0\" y=\"0em\"><defs /><text text-anchor=\"middle\" x=\"50%\" y=\"1em\">NOM[GEN='mask',NUM='sg']</text></svg><svg width=\"100%\" x=\"0%\" y=\"3em\"><defs /><svg width=\"100%\" x=\"0\" y=\"0em\"><defs /><text text-anchor=\"middle\" x=\"50%\" y=\"1em\">N[GEN='mask',NUM='sg']</text></svg><svg width=\"100%\" x=\"0%\" y=\"3em\"><defs /><svg width=\"100%\" x=\"0\" y=\"0em\"><defs /><text text-anchor=\"middle\" x=\"50%\" y=\"1em\">Mann</text></svg></svg><line stroke=\"black\" x1=\"50%\" x2=\"50%\" y1=\"1.2em\" y2=\"3em\" /></svg><line stroke=\"black\" x1=\"50%\" x2=\"50%\" y1=\"1.2em\" y2=\"3em\" /></svg><line stroke=\"black\" x1=\"50%\" x2=\"79.3651%\" y1=\"1.2em\" y2=\"3em\" /></svg><line stroke=\"black\" x1=\"50%\" x2=\"12.5498%\" y1=\"1.2em\" y2=\"3em\" /><svg width=\"22.7092%\" x=\"25.0996%\" y=\"3em\"><defs /><svg width=\"100%\" x=\"0\" y=\"0em\"><defs /><text text-anchor=\"middle\" x=\"50%\" y=\"1em\">V[NUM='sg',OBJCASE1='dat',OBJCASE2='akk',SUBCAT='ditr']</text></svg><svg width=\"100%\" x=\"0%\" y=\"3em\"><defs /><svg width=\"100%\" x=\"0\" y=\"0em\"><defs /><text text-anchor=\"middle\" x=\"50%\" y=\"1em\">gibt</text></svg></svg><line stroke=\"black\" x1=\"50%\" x2=\"50%\" y1=\"1.2em\" y2=\"3em\" /></svg><line stroke=\"black\" x1=\"50%\" x2=\"36.4542%\" y1=\"1.2em\" y2=\"3em\" /><svg width=\"2.78884%\" x=\"47.8088%\" y=\"3em\"><defs /><svg width=\"100%\" x=\"0\" y=\"0em\"><defs /><text text-anchor=\"middle\" x=\"50%\" y=\"1em\">ADV[]</text></svg><svg width=\"100%\" x=\"0%\" y=\"3em\"><defs /><svg width=\"100%\" x=\"0\" y=\"0em\"><defs /><text text-anchor=\"middle\" x=\"50%\" y=\"1em\">heute</text></svg></svg><line stroke=\"black\" x1=\"50%\" x2=\"50%\" y1=\"1.2em\" y2=\"3em\" /></svg><line stroke=\"black\" x1=\"50%\" x2=\"49.2032%\" y1=\"1.2em\" y2=\"3em\" /><svg width=\"24.3028%\" x=\"50.5976%\" y=\"3em\"><defs /><svg width=\"100%\" x=\"0\" y=\"0em\"><defs /><text text-anchor=\"middle\" x=\"50%\" y=\"1em\">NP[CASE='dat',NUM='sg']</text></svg><svg width=\"59.0164%\" x=\"0%\" y=\"3em\"><defs /><svg width=\"100%\" x=\"0\" y=\"0em\"><defs /><text text-anchor=\"middle\" x=\"50%\" y=\"1em\">DET[CASE='dat',GEN='fem',NUM='sg']</text></svg><svg width=\"100%\" x=\"0%\" y=\"3em\"><defs /><svg width=\"100%\" x=\"0\" y=\"0em\"><defs /><text text-anchor=\"middle\" x=\"50%\" y=\"1em\">der</text></svg></svg><line stroke=\"black\" x1=\"50%\" x2=\"50%\" y1=\"1.2em\" y2=\"3em\" /></svg><line stroke=\"black\" x1=\"50%\" x2=\"29.5082%\" y1=\"1.2em\" y2=\"3em\" /><svg width=\"40.9836%\" x=\"59.0164%\" y=\"3em\"><defs /><svg width=\"100%\" x=\"0\" y=\"0em\"><defs /><text text-anchor=\"middle\" x=\"50%\" y=\"1em\">NOM[GEN='fem',NUM='sg']</text></svg><svg width=\"100%\" x=\"0%\" y=\"3em\"><defs /><svg width=\"100%\" x=\"0\" y=\"0em\"><defs /><text text-anchor=\"middle\" x=\"50%\" y=\"1em\">N[GEN='fem',NUM='sg']</text></svg><svg width=\"100%\" x=\"0%\" y=\"3em\"><defs /><svg width=\"100%\" x=\"0\" y=\"0em\"><defs /><text text-anchor=\"middle\" x=\"50%\" y=\"1em\">Frau</text></svg></svg><line stroke=\"black\" x1=\"50%\" x2=\"50%\" y1=\"1.2em\" y2=\"3em\" /></svg><line stroke=\"black\" x1=\"50%\" x2=\"50%\" y1=\"1.2em\" y2=\"3em\" /></svg><line stroke=\"black\" x1=\"50%\" x2=\"79.5082%\" y1=\"1.2em\" y2=\"3em\" /></svg><line stroke=\"black\" x1=\"50%\" x2=\"62.749%\" y1=\"1.2em\" y2=\"3em\" /><svg width=\"25.0996%\" x=\"74.9004%\" y=\"3em\"><defs /><svg width=\"100%\" x=\"0\" y=\"0em\"><defs /><text text-anchor=\"middle\" x=\"50%\" y=\"1em\">NP[CASE='akk',NUM='sg']</text></svg><svg width=\"58.7302%\" x=\"0%\" y=\"3em\"><defs /><svg width=\"100%\" x=\"0\" y=\"0em\"><defs /><text text-anchor=\"middle\" x=\"50%\" y=\"1em\">DET[CASE='akk',GEN='neut',NUM='sg']</text></svg><svg width=\"100%\" x=\"0%\" y=\"3em\"><defs /><svg width=\"100%\" x=\"0\" y=\"0em\"><defs /><text text-anchor=\"middle\" x=\"50%\" y=\"1em\">das</text></svg></svg><line stroke=\"black\" x1=\"50%\" x2=\"50%\" y1=\"1.2em\" y2=\"3em\" /></svg><line stroke=\"black\" x1=\"50%\" x2=\"29.3651%\" y1=\"1.2em\" y2=\"3em\" /><svg width=\"41.2698%\" x=\"58.7302%\" y=\"3em\"><defs /><svg width=\"100%\" x=\"0\" y=\"0em\"><defs /><text text-anchor=\"middle\" x=\"50%\" y=\"1em\">NOM[GEN='neut',NUM='sg']</text></svg><svg width=\"100%\" x=\"0%\" y=\"3em\"><defs /><svg width=\"100%\" x=\"0\" y=\"0em\"><defs /><text text-anchor=\"middle\" x=\"50%\" y=\"1em\">N[GEN='neut',NUM='sg']</text></svg><svg width=\"100%\" x=\"0%\" y=\"3em\"><defs /><svg width=\"100%\" x=\"0\" y=\"0em\"><defs /><text text-anchor=\"middle\" x=\"50%\" y=\"1em\">Buch</text></svg></svg><line stroke=\"black\" x1=\"50%\" x2=\"50%\" y1=\"1.2em\" y2=\"3em\" /></svg><line stroke=\"black\" x1=\"50%\" x2=\"50%\" y1=\"1.2em\" y2=\"3em\" /></svg><line stroke=\"black\" x1=\"50%\" x2=\"79.3651%\" y1=\"1.2em\" y2=\"3em\" /></svg><line stroke=\"black\" x1=\"50%\" x2=\"87.4502%\" y1=\"1.2em\" y2=\"3em\" /></svg>"
      ],
      "text/plain": [
       "Tree('S[]', [Tree(\"NP[CASE='nom',NUM='sg']\", [Tree(\"DET[CASE='nom',GEN='mask',NUM='sg']\", ['der']), Tree(\"NOM[GEN='mask',NUM='sg']\", [Tree(\"N[GEN='mask',NUM='sg']\", ['Mann'])])]), Tree(\"V[NUM='sg',OBJCASE1='dat',OBJCASE2='akk',SUBCAT='ditr']\", ['gibt']), Tree('ADV[]', ['heute']), Tree(\"NP[CASE='dat',NUM='sg']\", [Tree(\"DET[CASE='dat',GEN='fem',NUM='sg']\", ['der']), Tree(\"NOM[GEN='fem',NUM='sg']\", [Tree(\"N[GEN='fem',NUM='sg']\", ['Frau'])])]), Tree(\"NP[CASE='akk',NUM='sg']\", [Tree(\"DET[CASE='akk',GEN='neut',NUM='sg']\", ['das']), Tree(\"NOM[GEN='neut',NUM='sg']\", [Tree(\"N[GEN='neut',NUM='sg']\", ['Buch'])])])])"
      ]
     },
     "metadata": {},
     "output_type": "display_data"
    },
    {
     "data": {
      "image/svg+xml": [
       "<svg baseProfile=\"full\" height=\"216px\" preserveAspectRatio=\"xMidYMid meet\" style=\"font-family: times, serif; font-weight:normal; font-style: normal; font-size: 16px;\" version=\"1.1\" viewBox=\"0,0,2008.0,216.0\" width=\"2008px\" xmlns=\"http://www.w3.org/2000/svg\" xmlns:ev=\"http://www.w3.org/2001/xml-events\" xmlns:xlink=\"http://www.w3.org/1999/xlink\"><defs /><svg width=\"100%\" x=\"0\" y=\"0em\"><defs /><text text-anchor=\"middle\" x=\"50%\" y=\"1em\">S[]</text></svg><svg width=\"25.0996%\" x=\"0%\" y=\"3em\"><defs /><svg width=\"100%\" x=\"0\" y=\"0em\"><defs /><text text-anchor=\"middle\" x=\"50%\" y=\"1em\">NP[CASE='nom',NUM='sg']</text></svg><svg width=\"58.7302%\" x=\"0%\" y=\"3em\"><defs /><svg width=\"100%\" x=\"0\" y=\"0em\"><defs /><text text-anchor=\"middle\" x=\"50%\" y=\"1em\">DET[CASE='nom',GEN='mask',NUM='sg']</text></svg><svg width=\"100%\" x=\"0%\" y=\"3em\"><defs /><svg width=\"100%\" x=\"0\" y=\"0em\"><defs /><text text-anchor=\"middle\" x=\"50%\" y=\"1em\">der</text></svg></svg><line stroke=\"black\" x1=\"50%\" x2=\"50%\" y1=\"1.2em\" y2=\"3em\" /></svg><line stroke=\"black\" x1=\"50%\" x2=\"29.3651%\" y1=\"1.2em\" y2=\"3em\" /><svg width=\"41.2698%\" x=\"58.7302%\" y=\"3em\"><defs /><svg width=\"100%\" x=\"0\" y=\"0em\"><defs /><text text-anchor=\"middle\" x=\"50%\" y=\"1em\">NOM[GEN='mask',NUM='sg']</text></svg><svg width=\"100%\" x=\"0%\" y=\"3em\"><defs /><svg width=\"100%\" x=\"0\" y=\"0em\"><defs /><text text-anchor=\"middle\" x=\"50%\" y=\"1em\">N[GEN='mask',NUM='sg']</text></svg><svg width=\"100%\" x=\"0%\" y=\"3em\"><defs /><svg width=\"100%\" x=\"0\" y=\"0em\"><defs /><text text-anchor=\"middle\" x=\"50%\" y=\"1em\">Mann</text></svg></svg><line stroke=\"black\" x1=\"50%\" x2=\"50%\" y1=\"1.2em\" y2=\"3em\" /></svg><line stroke=\"black\" x1=\"50%\" x2=\"50%\" y1=\"1.2em\" y2=\"3em\" /></svg><line stroke=\"black\" x1=\"50%\" x2=\"79.3651%\" y1=\"1.2em\" y2=\"3em\" /></svg><line stroke=\"black\" x1=\"50%\" x2=\"12.5498%\" y1=\"1.2em\" y2=\"3em\" /><svg width=\"22.7092%\" x=\"25.0996%\" y=\"3em\"><defs /><svg width=\"100%\" x=\"0\" y=\"0em\"><defs /><text text-anchor=\"middle\" x=\"50%\" y=\"1em\">V[NUM='sg',OBJCASE1='dat',OBJCASE2='akk',SUBCAT='ditr']</text></svg><svg width=\"100%\" x=\"0%\" y=\"3em\"><defs /><svg width=\"100%\" x=\"0\" y=\"0em\"><defs /><text text-anchor=\"middle\" x=\"50%\" y=\"1em\">gibt</text></svg></svg><line stroke=\"black\" x1=\"50%\" x2=\"50%\" y1=\"1.2em\" y2=\"3em\" /></svg><line stroke=\"black\" x1=\"50%\" x2=\"36.4542%\" y1=\"1.2em\" y2=\"3em\" /><svg width=\"24.3028%\" x=\"47.8088%\" y=\"3em\"><defs /><svg width=\"100%\" x=\"0\" y=\"0em\"><defs /><text text-anchor=\"middle\" x=\"50%\" y=\"1em\">NP[CASE='dat',NUM='sg']</text></svg><svg width=\"59.0164%\" x=\"0%\" y=\"3em\"><defs /><svg width=\"100%\" x=\"0\" y=\"0em\"><defs /><text text-anchor=\"middle\" x=\"50%\" y=\"1em\">DET[CASE='dat',GEN='fem',NUM='sg']</text></svg><svg width=\"100%\" x=\"0%\" y=\"3em\"><defs /><svg width=\"100%\" x=\"0\" y=\"0em\"><defs /><text text-anchor=\"middle\" x=\"50%\" y=\"1em\">der</text></svg></svg><line stroke=\"black\" x1=\"50%\" x2=\"50%\" y1=\"1.2em\" y2=\"3em\" /></svg><line stroke=\"black\" x1=\"50%\" x2=\"29.5082%\" y1=\"1.2em\" y2=\"3em\" /><svg width=\"40.9836%\" x=\"59.0164%\" y=\"3em\"><defs /><svg width=\"100%\" x=\"0\" y=\"0em\"><defs /><text text-anchor=\"middle\" x=\"50%\" y=\"1em\">NOM[GEN='fem',NUM='sg']</text></svg><svg width=\"100%\" x=\"0%\" y=\"3em\"><defs /><svg width=\"100%\" x=\"0\" y=\"0em\"><defs /><text text-anchor=\"middle\" x=\"50%\" y=\"1em\">N[GEN='fem',NUM='sg']</text></svg><svg width=\"100%\" x=\"0%\" y=\"3em\"><defs /><svg width=\"100%\" x=\"0\" y=\"0em\"><defs /><text text-anchor=\"middle\" x=\"50%\" y=\"1em\">Frau</text></svg></svg><line stroke=\"black\" x1=\"50%\" x2=\"50%\" y1=\"1.2em\" y2=\"3em\" /></svg><line stroke=\"black\" x1=\"50%\" x2=\"50%\" y1=\"1.2em\" y2=\"3em\" /></svg><line stroke=\"black\" x1=\"50%\" x2=\"79.5082%\" y1=\"1.2em\" y2=\"3em\" /></svg><line stroke=\"black\" x1=\"50%\" x2=\"59.9602%\" y1=\"1.2em\" y2=\"3em\" /><svg width=\"2.78884%\" x=\"72.1116%\" y=\"3em\"><defs /><svg width=\"100%\" x=\"0\" y=\"0em\"><defs /><text text-anchor=\"middle\" x=\"50%\" y=\"1em\">ADV[]</text></svg><svg width=\"100%\" x=\"0%\" y=\"3em\"><defs /><svg width=\"100%\" x=\"0\" y=\"0em\"><defs /><text text-anchor=\"middle\" x=\"50%\" y=\"1em\">heute</text></svg></svg><line stroke=\"black\" x1=\"50%\" x2=\"50%\" y1=\"1.2em\" y2=\"3em\" /></svg><line stroke=\"black\" x1=\"50%\" x2=\"73.506%\" y1=\"1.2em\" y2=\"3em\" /><svg width=\"25.0996%\" x=\"74.9004%\" y=\"3em\"><defs /><svg width=\"100%\" x=\"0\" y=\"0em\"><defs /><text text-anchor=\"middle\" x=\"50%\" y=\"1em\">NP[CASE='akk',NUM='sg']</text></svg><svg width=\"58.7302%\" x=\"0%\" y=\"3em\"><defs /><svg width=\"100%\" x=\"0\" y=\"0em\"><defs /><text text-anchor=\"middle\" x=\"50%\" y=\"1em\">DET[CASE='akk',GEN='neut',NUM='sg']</text></svg><svg width=\"100%\" x=\"0%\" y=\"3em\"><defs /><svg width=\"100%\" x=\"0\" y=\"0em\"><defs /><text text-anchor=\"middle\" x=\"50%\" y=\"1em\">das</text></svg></svg><line stroke=\"black\" x1=\"50%\" x2=\"50%\" y1=\"1.2em\" y2=\"3em\" /></svg><line stroke=\"black\" x1=\"50%\" x2=\"29.3651%\" y1=\"1.2em\" y2=\"3em\" /><svg width=\"41.2698%\" x=\"58.7302%\" y=\"3em\"><defs /><svg width=\"100%\" x=\"0\" y=\"0em\"><defs /><text text-anchor=\"middle\" x=\"50%\" y=\"1em\">NOM[GEN='neut',NUM='sg']</text></svg><svg width=\"100%\" x=\"0%\" y=\"3em\"><defs /><svg width=\"100%\" x=\"0\" y=\"0em\"><defs /><text text-anchor=\"middle\" x=\"50%\" y=\"1em\">N[GEN='neut',NUM='sg']</text></svg><svg width=\"100%\" x=\"0%\" y=\"3em\"><defs /><svg width=\"100%\" x=\"0\" y=\"0em\"><defs /><text text-anchor=\"middle\" x=\"50%\" y=\"1em\">Buch</text></svg></svg><line stroke=\"black\" x1=\"50%\" x2=\"50%\" y1=\"1.2em\" y2=\"3em\" /></svg><line stroke=\"black\" x1=\"50%\" x2=\"50%\" y1=\"1.2em\" y2=\"3em\" /></svg><line stroke=\"black\" x1=\"50%\" x2=\"79.3651%\" y1=\"1.2em\" y2=\"3em\" /></svg><line stroke=\"black\" x1=\"50%\" x2=\"87.4502%\" y1=\"1.2em\" y2=\"3em\" /></svg>"
      ],
      "text/plain": [
       "Tree('S[]', [Tree(\"NP[CASE='nom',NUM='sg']\", [Tree(\"DET[CASE='nom',GEN='mask',NUM='sg']\", ['der']), Tree(\"NOM[GEN='mask',NUM='sg']\", [Tree(\"N[GEN='mask',NUM='sg']\", ['Mann'])])]), Tree(\"V[NUM='sg',OBJCASE1='dat',OBJCASE2='akk',SUBCAT='ditr']\", ['gibt']), Tree(\"NP[CASE='dat',NUM='sg']\", [Tree(\"DET[CASE='dat',GEN='fem',NUM='sg']\", ['der']), Tree(\"NOM[GEN='fem',NUM='sg']\", [Tree(\"N[GEN='fem',NUM='sg']\", ['Frau'])])]), Tree('ADV[]', ['heute']), Tree(\"NP[CASE='akk',NUM='sg']\", [Tree(\"DET[CASE='akk',GEN='neut',NUM='sg']\", ['das']), Tree(\"NOM[GEN='neut',NUM='sg']\", [Tree(\"N[GEN='neut',NUM='sg']\", ['Buch'])])])])"
      ]
     },
     "metadata": {},
     "output_type": "display_data"
    },
    {
     "data": {
      "image/svg+xml": [
       "<svg baseProfile=\"full\" height=\"216px\" preserveAspectRatio=\"xMidYMid meet\" style=\"font-family: times, serif; font-weight:normal; font-style: normal; font-size: 16px;\" version=\"1.1\" viewBox=\"0,0,2008.0,216.0\" width=\"2008px\" xmlns=\"http://www.w3.org/2000/svg\" xmlns:ev=\"http://www.w3.org/2001/xml-events\" xmlns:xlink=\"http://www.w3.org/1999/xlink\"><defs /><svg width=\"100%\" x=\"0\" y=\"0em\"><defs /><text text-anchor=\"middle\" x=\"50%\" y=\"1em\">S[]</text></svg><svg width=\"25.0996%\" x=\"0%\" y=\"3em\"><defs /><svg width=\"100%\" x=\"0\" y=\"0em\"><defs /><text text-anchor=\"middle\" x=\"50%\" y=\"1em\">NP[CASE='nom',NUM='sg']</text></svg><svg width=\"58.7302%\" x=\"0%\" y=\"3em\"><defs /><svg width=\"100%\" x=\"0\" y=\"0em\"><defs /><text text-anchor=\"middle\" x=\"50%\" y=\"1em\">DET[CASE='nom',GEN='mask',NUM='sg']</text></svg><svg width=\"100%\" x=\"0%\" y=\"3em\"><defs /><svg width=\"100%\" x=\"0\" y=\"0em\"><defs /><text text-anchor=\"middle\" x=\"50%\" y=\"1em\">der</text></svg></svg><line stroke=\"black\" x1=\"50%\" x2=\"50%\" y1=\"1.2em\" y2=\"3em\" /></svg><line stroke=\"black\" x1=\"50%\" x2=\"29.3651%\" y1=\"1.2em\" y2=\"3em\" /><svg width=\"41.2698%\" x=\"58.7302%\" y=\"3em\"><defs /><svg width=\"100%\" x=\"0\" y=\"0em\"><defs /><text text-anchor=\"middle\" x=\"50%\" y=\"1em\">NOM[GEN='mask',NUM='sg']</text></svg><svg width=\"100%\" x=\"0%\" y=\"3em\"><defs /><svg width=\"100%\" x=\"0\" y=\"0em\"><defs /><text text-anchor=\"middle\" x=\"50%\" y=\"1em\">N[GEN='mask',NUM='sg']</text></svg><svg width=\"100%\" x=\"0%\" y=\"3em\"><defs /><svg width=\"100%\" x=\"0\" y=\"0em\"><defs /><text text-anchor=\"middle\" x=\"50%\" y=\"1em\">Mann</text></svg></svg><line stroke=\"black\" x1=\"50%\" x2=\"50%\" y1=\"1.2em\" y2=\"3em\" /></svg><line stroke=\"black\" x1=\"50%\" x2=\"50%\" y1=\"1.2em\" y2=\"3em\" /></svg><line stroke=\"black\" x1=\"50%\" x2=\"79.3651%\" y1=\"1.2em\" y2=\"3em\" /></svg><line stroke=\"black\" x1=\"50%\" x2=\"12.5498%\" y1=\"1.2em\" y2=\"3em\" /><svg width=\"22.7092%\" x=\"25.0996%\" y=\"3em\"><defs /><svg width=\"100%\" x=\"0\" y=\"0em\"><defs /><text text-anchor=\"middle\" x=\"50%\" y=\"1em\">V[NUM='sg',OBJCASE1='dat',OBJCASE2='akk',SUBCAT='ditr']</text></svg><svg width=\"100%\" x=\"0%\" y=\"3em\"><defs /><svg width=\"100%\" x=\"0\" y=\"0em\"><defs /><text text-anchor=\"middle\" x=\"50%\" y=\"1em\">gibt</text></svg></svg><line stroke=\"black\" x1=\"50%\" x2=\"50%\" y1=\"1.2em\" y2=\"3em\" /></svg><line stroke=\"black\" x1=\"50%\" x2=\"36.4542%\" y1=\"1.2em\" y2=\"3em\" /><svg width=\"24.3028%\" x=\"47.8088%\" y=\"3em\"><defs /><svg width=\"100%\" x=\"0\" y=\"0em\"><defs /><text text-anchor=\"middle\" x=\"50%\" y=\"1em\">NP[CASE='dat',NUM='sg']</text></svg><svg width=\"59.0164%\" x=\"0%\" y=\"3em\"><defs /><svg width=\"100%\" x=\"0\" y=\"0em\"><defs /><text text-anchor=\"middle\" x=\"50%\" y=\"1em\">DET[CASE='dat',GEN='fem',NUM='sg']</text></svg><svg width=\"100%\" x=\"0%\" y=\"3em\"><defs /><svg width=\"100%\" x=\"0\" y=\"0em\"><defs /><text text-anchor=\"middle\" x=\"50%\" y=\"1em\">der</text></svg></svg><line stroke=\"black\" x1=\"50%\" x2=\"50%\" y1=\"1.2em\" y2=\"3em\" /></svg><line stroke=\"black\" x1=\"50%\" x2=\"29.5082%\" y1=\"1.2em\" y2=\"3em\" /><svg width=\"40.9836%\" x=\"59.0164%\" y=\"3em\"><defs /><svg width=\"100%\" x=\"0\" y=\"0em\"><defs /><text text-anchor=\"middle\" x=\"50%\" y=\"1em\">NOM[GEN='fem',NUM='sg']</text></svg><svg width=\"100%\" x=\"0%\" y=\"3em\"><defs /><svg width=\"100%\" x=\"0\" y=\"0em\"><defs /><text text-anchor=\"middle\" x=\"50%\" y=\"1em\">N[GEN='fem',NUM='sg']</text></svg><svg width=\"100%\" x=\"0%\" y=\"3em\"><defs /><svg width=\"100%\" x=\"0\" y=\"0em\"><defs /><text text-anchor=\"middle\" x=\"50%\" y=\"1em\">Frau</text></svg></svg><line stroke=\"black\" x1=\"50%\" x2=\"50%\" y1=\"1.2em\" y2=\"3em\" /></svg><line stroke=\"black\" x1=\"50%\" x2=\"50%\" y1=\"1.2em\" y2=\"3em\" /></svg><line stroke=\"black\" x1=\"50%\" x2=\"79.5082%\" y1=\"1.2em\" y2=\"3em\" /></svg><line stroke=\"black\" x1=\"50%\" x2=\"59.9602%\" y1=\"1.2em\" y2=\"3em\" /><svg width=\"25.0996%\" x=\"72.1116%\" y=\"3em\"><defs /><svg width=\"100%\" x=\"0\" y=\"0em\"><defs /><text text-anchor=\"middle\" x=\"50%\" y=\"1em\">NP[CASE='akk',NUM='sg']</text></svg><svg width=\"58.7302%\" x=\"0%\" y=\"3em\"><defs /><svg width=\"100%\" x=\"0\" y=\"0em\"><defs /><text text-anchor=\"middle\" x=\"50%\" y=\"1em\">DET[CASE='akk',GEN='neut',NUM='sg']</text></svg><svg width=\"100%\" x=\"0%\" y=\"3em\"><defs /><svg width=\"100%\" x=\"0\" y=\"0em\"><defs /><text text-anchor=\"middle\" x=\"50%\" y=\"1em\">das</text></svg></svg><line stroke=\"black\" x1=\"50%\" x2=\"50%\" y1=\"1.2em\" y2=\"3em\" /></svg><line stroke=\"black\" x1=\"50%\" x2=\"29.3651%\" y1=\"1.2em\" y2=\"3em\" /><svg width=\"41.2698%\" x=\"58.7302%\" y=\"3em\"><defs /><svg width=\"100%\" x=\"0\" y=\"0em\"><defs /><text text-anchor=\"middle\" x=\"50%\" y=\"1em\">NOM[GEN='neut',NUM='sg']</text></svg><svg width=\"100%\" x=\"0%\" y=\"3em\"><defs /><svg width=\"100%\" x=\"0\" y=\"0em\"><defs /><text text-anchor=\"middle\" x=\"50%\" y=\"1em\">N[GEN='neut',NUM='sg']</text></svg><svg width=\"100%\" x=\"0%\" y=\"3em\"><defs /><svg width=\"100%\" x=\"0\" y=\"0em\"><defs /><text text-anchor=\"middle\" x=\"50%\" y=\"1em\">Buch</text></svg></svg><line stroke=\"black\" x1=\"50%\" x2=\"50%\" y1=\"1.2em\" y2=\"3em\" /></svg><line stroke=\"black\" x1=\"50%\" x2=\"50%\" y1=\"1.2em\" y2=\"3em\" /></svg><line stroke=\"black\" x1=\"50%\" x2=\"79.3651%\" y1=\"1.2em\" y2=\"3em\" /></svg><line stroke=\"black\" x1=\"50%\" x2=\"84.6614%\" y1=\"1.2em\" y2=\"3em\" /><svg width=\"2.78884%\" x=\"97.2112%\" y=\"3em\"><defs /><svg width=\"100%\" x=\"0\" y=\"0em\"><defs /><text text-anchor=\"middle\" x=\"50%\" y=\"1em\">ADV[]</text></svg><svg width=\"100%\" x=\"0%\" y=\"3em\"><defs /><svg width=\"100%\" x=\"0\" y=\"0em\"><defs /><text text-anchor=\"middle\" x=\"50%\" y=\"1em\">heute</text></svg></svg><line stroke=\"black\" x1=\"50%\" x2=\"50%\" y1=\"1.2em\" y2=\"3em\" /></svg><line stroke=\"black\" x1=\"50%\" x2=\"98.6056%\" y1=\"1.2em\" y2=\"3em\" /></svg>"
      ],
      "text/plain": [
       "Tree('S[]', [Tree(\"NP[CASE='nom',NUM='sg']\", [Tree(\"DET[CASE='nom',GEN='mask',NUM='sg']\", ['der']), Tree(\"NOM[GEN='mask',NUM='sg']\", [Tree(\"N[GEN='mask',NUM='sg']\", ['Mann'])])]), Tree(\"V[NUM='sg',OBJCASE1='dat',OBJCASE2='akk',SUBCAT='ditr']\", ['gibt']), Tree(\"NP[CASE='dat',NUM='sg']\", [Tree(\"DET[CASE='dat',GEN='fem',NUM='sg']\", ['der']), Tree(\"NOM[GEN='fem',NUM='sg']\", [Tree(\"N[GEN='fem',NUM='sg']\", ['Frau'])])]), Tree(\"NP[CASE='akk',NUM='sg']\", [Tree(\"DET[CASE='akk',GEN='neut',NUM='sg']\", ['das']), Tree(\"NOM[GEN='neut',NUM='sg']\", [Tree(\"N[GEN='neut',NUM='sg']\", ['Buch'])])]), Tree('ADV[]', ['heute'])])"
      ]
     },
     "metadata": {},
     "output_type": "display_data"
    }
   ],
   "source": [
    "for sent in pos_sents:\n",
    "    trees = list(parser.parse(sent.split()))\n",
    "    if trees: [show_FeatTree(tree, style=1, draw=1) for tree in trees]\n",
    "    else: print(f\"no parse found for: {sent}\")"
   ]
  }
 ],
 "metadata": {
  "kernelspec": {
   "display_name": "Python 3 (ipykernel)",
   "language": "python",
   "name": "python3"
  },
  "language_info": {
   "codemirror_mode": {
    "name": "ipython",
    "version": 3
   },
   "file_extension": ".py",
   "mimetype": "text/x-python",
   "name": "python",
   "nbconvert_exporter": "python",
   "pygments_lexer": "ipython3",
   "version": "3.9.12"
  }
 },
 "nbformat": 4,
 "nbformat_minor": 2
}
