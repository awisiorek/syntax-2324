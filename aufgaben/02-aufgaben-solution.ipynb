{
 "cells": [
  {
   "cell_type": "markdown",
   "metadata": {},
   "source": [
    "Syntax natürlicher Sprachen, WS 2023/24\n",
    "\n",
    "# 02 - Aufgabenblatt (Lösung)"
   ]
  },
  {
   "cell_type": "code",
   "execution_count": 1,
   "metadata": {},
   "outputs": [],
   "source": [
    "import nltk\n",
    "from nltk.tree import Tree"
   ]
  },
  {
   "cell_type": "markdown",
   "metadata": {},
   "source": [
    "\n",
    "## Aufgabe 1 - Ergänzung um Phrasenkategorien"
   ]
  },
  {
   "cell_type": "markdown",
   "metadata": {},
   "source": [
    "\n",
    "#### Ergänzen Sie in folgendem Klammerausdruck (aus dem vorherigen Aufgabenblatt) die Phrasenkategorie-Label und generieren Sie den entsprechenden Syntaxbaum, indem Sie die Codezelle anschließend ausführen."
   ]
  },
  {
   "cell_type": "code",
   "execution_count": 2,
   "metadata": {},
   "outputs": [
    {
     "name": "stdout",
     "output_type": "stream",
     "text": [
      "                             S                                          \n",
      "           ┌─────────────────┴────────────┐                              \n",
      "           │                              VP                            \n",
      "           │                 ┌────────────┴──────┐                       \n",
      "           │                 │                   NP                     \n",
      "           │                 │     ┌─────────────┴──────┐                \n",
      "           NP                │     │                    NP              \n",
      "    ┌──────┴────────┐        │     │             ┌──────┴────────┐       \n",
      "    NP              NP       │     NP            NP              NP     \n",
      "    │               │        │     │             │               │       \n",
      "Die_Kunst     des_Ausruhens ist ein_Teil     der_Kunst     des_Arbeitens\n",
      "\n"
     ]
    }
   ],
   "source": [
    "#Lösung\n",
    "tree = Tree.fromstring(\"\"\"\n",
    "(S\n",
    "    (NP\n",
    "        (NP Die_Kunst)\n",
    "        (NP des_Ausruhens)\n",
    "    )\n",
    "    (VP\n",
    "        ist\n",
    "        (NP\n",
    "            (NP ein_Teil)\n",
    "            (NP\n",
    "                (NP der_Kunst)\n",
    "                (NP des_Arbeitens)\n",
    "            )\n",
    "        )\n",
    "    )\n",
    ")\n",
    "\"\"\")\n",
    "\n",
    "tree.pretty_print(unicodelines=True)"
   ]
  },
  {
   "cell_type": "markdown",
   "metadata": {},
   "source": [
    "\n",
    "## Aufgabe 2 - Phrasenstrukturbaum\n",
    "\n",
    "#### Geben Sie für den folgenden Satz einen vollständigen Phrasenstrukturbaum an.\n",
    "\n",
    "*Die Studierende schenkte ihnen ein Buch von Chomsky.*\n"
   ]
  },
  {
   "cell_type": "code",
   "execution_count": 3,
   "metadata": {},
   "outputs": [
    {
     "name": "stdout",
     "output_type": "stream",
     "text": [
      "                               S                                   \n",
      "     ┌─────────────────────────┴────┐                               \n",
      "     │                              VP                             \n",
      "     │                 ┌───────┬────┴────────────┐                  \n",
      "     │                 │       │                 NP                \n",
      "     │                 │       │        ┌────────┴───────┐          \n",
      "     │                 │       │        │                PP        \n",
      "     │                 │       │        │            ┌───┴─────┐    \n",
      "     NP                │       NP       NP           │         NP  \n",
      " ┌───┴───────┐         │       │    ┌───┴───┐        │         │    \n",
      "DET          N         V      PRON DET      N        P       PROPN \n",
      " │           │         │       │    │       │        │         │    \n",
      "Die     Studierende schenkte ihnen ein     Buch     von     Chomsky\n",
      "\n"
     ]
    }
   ],
   "source": [
    "#Lösung\n",
    "tree = Tree.fromstring(\"\"\"\n",
    "(S\n",
    "    (NP (DET Die) (N Studierende))\n",
    "    (VP\n",
    "        (V schenkte)\n",
    "        (NP (PRON ihnen))\n",
    "        (NP \n",
    "            (NP (DET ein) (N Buch))\n",
    "            (PP (P von) (NP (PROPN Chomsky)))\n",
    "        )\n",
    "    )\n",
    ")\n",
    "\"\"\")\n",
    "\n",
    "tree.pretty_print(unicodelines=True)"
   ]
  },
  {
   "cell_type": "markdown",
   "metadata": {},
   "source": [
    "## Aufgabe 3 - Phrasenstrukturgrammatik\n",
    "\n",
    "#### Schreiben Sie eine kontextfreie Grammatik, die den (um die PP gekürzten) Satz aus der vorherigen Aufgabe erkennt:\n",
    "\n",
    "*Die Studierende schenkte ihnen ein Buch.*\n"
   ]
  },
  {
   "cell_type": "code",
   "execution_count": 4,
   "metadata": {},
   "outputs": [],
   "source": [
    "sent = \"die Studierende schenkte ihnen ein Buch\""
   ]
  },
  {
   "cell_type": "code",
   "execution_count": 5,
   "metadata": {},
   "outputs": [
    {
     "name": "stdout",
     "output_type": "stream",
     "text": [
      "                       S                       \n",
      "     ┌─────────────────┴───────┐                \n",
      "     │                         VP              \n",
      "     │                 ┌───────┼────────┐       \n",
      "     NP                │       NP       NP     \n",
      " ┌───┴───────┐         │       │    ┌───┴───┐   \n",
      "DET          N         V      PRON DET      N  \n",
      " │           │         │       │    │       │   \n",
      "die     Studierende schenkte ihnen ein     Buch\n",
      "\n"
     ]
    }
   ],
   "source": [
    "#Lösung\n",
    "grammar = nltk.CFG.fromstring(\"\"\"\n",
    "    S -> NP VP\n",
    "    NP -> DET N | PRON\n",
    "    VP -> V NP NP\n",
    "    DET -> \"die\" | \"ein\"\n",
    "    N -> \"Studierende\" | \"Buch\"\n",
    "    PRON -> \"ihnen\"\n",
    "    V -> \"schenkte\"\n",
    "\"\"\")\n",
    "\n",
    "parser = nltk.ChartParser(grammar)\n",
    "for tree in parser.parse(sent.split()):\n",
    "    tree.pretty_print(unicodelines=True)"
   ]
  },
  {
   "cell_type": "markdown",
   "metadata": {},
   "source": [
    "## Aufgabe 4 - Erweiterung Phrasenstrukturgrammatik\n",
    "\n",
    "### (a) Erweitern Sie die Grammatikregeln aus der vorherigen Aufgabe um lexikalische sowie syntaktische Regeln für: \n",
    "\n",
    "1. Eigennamen (können ohne Artikel eine Nominalphrase bilden)\n",
    "2. PPs als Attribute von NPs\n",
    "\n",
    "Folgende Sätze sollten nun korrekt analysiert werden:\n"
   ]
  },
  {
   "cell_type": "code",
   "execution_count": 6,
   "metadata": {},
   "outputs": [],
   "source": [
    "sents = [\n",
    "    \"die Studierende schenkte ihnen ein Buch\",\n",
    "# neu:\n",
    "    \"Maria schenkte ihnen ein Buch von Noam Chomsky\"\n",
    "]"
   ]
  },
  {
   "cell_type": "code",
   "execution_count": 7,
   "metadata": {},
   "outputs": [
    {
     "name": "stdout",
     "output_type": "stream",
     "text": [
      "                       S                       \n",
      "     ┌─────────────────┴───────┐                \n",
      "     │                         VP              \n",
      "     │                 ┌───────┼────────┐       \n",
      "     NP                │       NP       NP     \n",
      " ┌───┴───────┐         │       │    ┌───┴───┐   \n",
      "DET          N         V      PRON DET      N  \n",
      " │           │         │       │    │       │   \n",
      "die     Studierende schenkte ihnen ein     Buch\n",
      "\n",
      "                      S                                \n",
      "  ┌───────────────────┴───────┐                         \n",
      "  │                           VP                       \n",
      "  │      ┌───────┬────────────┴────┐                    \n",
      "  │      │       │                 NP                  \n",
      "  │      │       │        ┌────────┴────┐               \n",
      "  │      │       │        │             PP             \n",
      "  │      │       │        │        ┌────┴────┐          \n",
      "  NP     │       NP       NP       │         NP        \n",
      "  │      │       │    ┌───┴───┐    │    ┌────┴─────┐    \n",
      "PROPN    V      PRON DET      N    P  PROPN      PROPN \n",
      "  │      │       │    │       │    │    │          │    \n",
      "Maria schenkte ihnen ein     Buch von  Noam     Chomsky\n",
      "\n"
     ]
    }
   ],
   "source": [
    "#Lösung\n",
    "grammar = nltk.CFG.fromstring(\"\"\"\n",
    "    S -> NP VP\n",
    "    NP -> DET N | PRON\n",
    "    VP -> V NP NP\n",
    "    DET -> \"die\" | \"ein\"\n",
    "    N -> \"Studierende\" | \"Buch\"\n",
    "    PRON -> \"ihnen\"\n",
    "    V -> \"schenkte\"\n",
    "\n",
    "    NP -> PROPN | PROPN PROPN\n",
    "    PROPN -> \"Chomsky\" | \"Noam\" | \"Maria\" | \"Moritz\"\n",
    "\n",
    "    PP -> P NP\n",
    "    P -> \"von\"\n",
    "    NP -> NP PP\n",
    "\"\"\")\n",
    "\n",
    "parser = nltk.ChartParser(grammar)\n",
    "for sent in sents:\n",
    "    trees = list(parser.parse(sent.split()))\n",
    "    if trees: [tree.pretty_print(unicodelines=True) for tree in trees]\n",
    "    else: print(f\"no parse found for: {sent}\")"
   ]
  },
  {
   "cell_type": "markdown",
   "metadata": {},
   "source": [
    "### (b) Stellen Sie außerdem sicher, dass folgende Sätze KEINE Analyse liefern! Passen Sie die Grammatik in (a) ggf. an.\n",
    "\n"
   ]
  },
  {
   "cell_type": "code",
   "execution_count": 8,
   "metadata": {},
   "outputs": [
    {
     "name": "stdout",
     "output_type": "stream",
     "text": [
      "no parse found for: Studierende schenkte ihnen ein Buch\n",
      "no parse found for: die Maria schenkte ihnen ein Buch\n"
     ]
    }
   ],
   "source": [
    "neg_sents = [\n",
    "    \"Studierende schenkte ihnen ein Buch\",\n",
    "    \"die Maria schenkte ihnen ein Buch\"\n",
    "]\n",
    "\n",
    "parser = nltk.ChartParser(grammar)\n",
    "for sent in neg_sents:\n",
    "    trees = list(parser.parse(sent.split()))\n",
    "    if trees: [tree.pretty_print(unicodelines=True) for tree in trees]\n",
    "    else: print(f\"no parse found for: {sent}\")"
   ]
  },
  {
   "cell_type": "code",
   "execution_count": 9,
   "metadata": {},
   "outputs": [
    {
     "name": "stdout",
     "output_type": "stream",
     "text": [
      "               S                       \n",
      "     ┌─────────┴───────┐                \n",
      "     │                 VP              \n",
      "     │         ┌───────┼────────┐       \n",
      "     NP        │       NP       NP     \n",
      "     │         │       │    ┌───┴───┐   \n",
      "     N         V      PRON DET      N  \n",
      "     │         │       │    │       │   \n",
      "Studierende schenkte ihnen ein     Buch\n",
      "\n",
      "                 S                       \n",
      "     ┌───────────┴───────┐                \n",
      "     │                   VP              \n",
      "     │           ┌───────┼────────┐       \n",
      "     NP          │       NP       NP     \n",
      " ┌───┴────┐      │       │    ┌───┴───┐   \n",
      "DET       N      V      PRON DET      N  \n",
      " │        │      │       │    │       │   \n",
      "die     Maria schenkte ihnen ein     Buch\n",
      "\n"
     ]
    }
   ],
   "source": [
    "# Hinweis: Analyse möglich wenn statt PROPN N:\n",
    "grammar = nltk.CFG.fromstring(\"\"\"\n",
    "    S -> NP VP\n",
    "    NP -> DET N | PRON\n",
    "    VP -> V NP NP\n",
    "    DET -> \"die\" | \"ein\"\n",
    "    N -> \"Studierende\" | \"Buch\"\n",
    "    PRON -> \"ihnen\"\n",
    "    V -> \"schenkte\"\n",
    "\n",
    "    NP -> N | N N\n",
    "    N -> \"Chomsky\" | \"Noam\" | \"Maria\" | \"Moritz\"\n",
    "\n",
    "    PP -> P NP\n",
    "    P -> \"von\"\n",
    "    NP -> NP PP\n",
    "\"\"\")\n",
    "\n",
    "parser = nltk.ChartParser(grammar)\n",
    "for sent in neg_sents:\n",
    "    for tree in parser.parse(sent.split()):\n",
    "        tree.pretty_print(unicodelines=True)"
   ]
  }
 ],
 "metadata": {
  "kernelspec": {
   "display_name": "Python 3 (ipykernel)",
   "language": "python",
   "name": "python3"
  },
  "language_info": {
   "codemirror_mode": {
    "name": "ipython",
    "version": 3
   },
   "file_extension": ".py",
   "mimetype": "text/x-python",
   "name": "python",
   "nbconvert_exporter": "python",
   "pygments_lexer": "ipython3",
   "version": "3.9.12"
  }
 },
 "nbformat": 4,
 "nbformat_minor": 2
}
