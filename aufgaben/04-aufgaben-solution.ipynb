{
 "cells": [
  {
   "cell_type": "markdown",
   "metadata": {},
   "source": [
    "Syntax natürlicher Sprachen, WS 2023/24\n",
    "\n",
    "# 04 - Aufgabenblatt (Lösung)"
   ]
  },
  {
   "cell_type": "code",
   "execution_count": 1,
   "metadata": {},
   "outputs": [],
   "source": [
    "import nltk"
   ]
  },
  {
   "cell_type": "markdown",
   "metadata": {},
   "source": [
    "## Aufgabe 1 - Operationen der Parsing-Algorithmen"
   ]
  },
  {
   "cell_type": "markdown",
   "metadata": {},
   "source": [
    "### a)\n",
    "\n",
    "![earley_3](https://github.com/awisiorek/syntax-1819/raw/master/uebung/img/earley_3.png)"
   ]
  },
  {
   "cell_type": "markdown",
   "metadata": {},
   "source": [
    "#### Um welchen Parser handelt es sich?\n"
   ]
  },
  {
   "cell_type": "code",
   "execution_count": null,
   "metadata": {},
   "outputs": [],
   "source": [
    "# Earley"
   ]
  },
  {
   "cell_type": "markdown",
   "metadata": {},
   "source": [
    "#### Welche Operation folgt als nächstes?\n"
   ]
  },
  {
   "cell_type": "code",
   "execution_count": null,
   "metadata": {},
   "outputs": [],
   "source": [
    "# Predict"
   ]
  },
  {
   "cell_type": "markdown",
   "metadata": {},
   "source": [
    "### b)\n",
    "\n",
    "![recdes_3](https://github.com/awisiorek/syntax-1819/raw/master/uebung/img/recdes_3.png)"
   ]
  },
  {
   "cell_type": "markdown",
   "metadata": {},
   "source": [
    "#### Um welchen Parser handelt es sich?\n"
   ]
  },
  {
   "cell_type": "code",
   "execution_count": null,
   "metadata": {},
   "outputs": [],
   "source": [
    "# Recursive Descent"
   ]
  },
  {
   "cell_type": "markdown",
   "metadata": {},
   "source": [
    "#### Welche Operation folgt als nächstes?\n"
   ]
  },
  {
   "cell_type": "code",
   "execution_count": null,
   "metadata": {},
   "outputs": [],
   "source": [
    "# Scan"
   ]
  },
  {
   "cell_type": "markdown",
   "metadata": {},
   "source": [
    "### c)\n",
    "\n",
    "![shiftred_3](https://github.com/awisiorek/syntax-1819/raw/master/uebung/img/shiftred_3.png)"
   ]
  },
  {
   "cell_type": "markdown",
   "metadata": {},
   "source": [
    "#### Um welchen Parser handelt es sich?\n"
   ]
  },
  {
   "cell_type": "code",
   "execution_count": null,
   "metadata": {},
   "outputs": [],
   "source": [
    "# Shift Reduce"
   ]
  },
  {
   "cell_type": "markdown",
   "metadata": {},
   "source": [
    "#### Welche Operation folgt als nächstes?\n"
   ]
  },
  {
   "cell_type": "code",
   "execution_count": null,
   "metadata": {},
   "outputs": [],
   "source": [
    "# Reduce"
   ]
  },
  {
   "cell_type": "markdown",
   "metadata": {},
   "source": [
    "\n",
    "## Aufgabe 2 - Parsing-Algorithmen\n",
    "\n",
    "#### Gegeben sei folgende kontextfreie Grammatik:"
   ]
  },
  {
   "cell_type": "code",
   "execution_count": 2,
   "metadata": {},
   "outputs": [],
   "source": [
    "grammar = nltk.CFG.fromstring(\"\"\"\n",
    "S -> NP VP\n",
    "NP  -> DET NOM\n",
    "NOM -> ADJ NOM | N\n",
    "VP -> V NP | V\n",
    "\n",
    "ADJ -> \"kluge\" | \"dicke\"\n",
    "DET -> \"der\" | \"die\" | \"das\"\n",
    "N   -> \"Frau\" | \"Buch\"\n",
    "V  ->  \"kennt\"\n",
    "\"\"\")"
   ]
  },
  {
   "cell_type": "markdown",
   "metadata": {},
   "source": [
    "#### Parsen Sie den unten angegebenen Satz mit jedem der folgenden Parsing-Algorithmen. Bei der Auswahl von Regeln soll immer von oben nach unten und (bei Alternativen) von links nach rechts vorgegangen werden.\n",
    "\n",
    "a) Recursive Descent <br>\n",
    "b) Shift Reduce <br>\n",
    "c) Earley Algorithmus <br>\n"
   ]
  },
  {
   "cell_type": "code",
   "execution_count": 3,
   "metadata": {},
   "outputs": [],
   "source": [
    "sent = 'die kluge Frau kennt das dicke Buch'"
   ]
  },
  {
   "cell_type": "code",
   "execution_count": null,
   "metadata": {},
   "outputs": [],
   "source": [
    "##Recursive Descent Parser:\n",
    "\n",
    "# Lösung siehe unten"
   ]
  },
  {
   "cell_type": "code",
   "execution_count": null,
   "metadata": {},
   "outputs": [],
   "source": [
    "##Shift Reduce Parser:\n",
    "\n",
    "# Lösung siehe unten"
   ]
  },
  {
   "cell_type": "code",
   "execution_count": null,
   "metadata": {},
   "outputs": [],
   "source": [
    "## Earley Parser:\n",
    "\n",
    "# Lösung siehe unten"
   ]
  },
  {
   "cell_type": "markdown",
   "metadata": {},
   "source": [
    "#### Zur Überprüfung Ihres Resultats können Sie dieses anschließend mit dem Tracing-Output der entsprechenden Parsern im NLTK vergleichen:"
   ]
  },
  {
   "cell_type": "code",
   "execution_count": 4,
   "metadata": {},
   "outputs": [
    {
     "name": "stdout",
     "output_type": "stream",
     "text": [
      "Parsing 'die kluge Frau kennt das dicke Buch'\n",
      "Start:\n",
      "    [ * S ]\n",
      "Expand: S -> NP VP\n",
      "    [ * NP VP ]\n",
      "Expand: NP -> DET NOM\n",
      "    [ * DET NOM VP ]\n",
      "Expand: DET -> 'der'\n",
      "    [ * 'der' NOM VP ]\n",
      "Backtrack: 'die' match failed\n",
      "Expand: DET -> 'die'\n",
      "    [ * 'die' NOM VP ]\n",
      "Match: 'die'\n",
      "    [ 'die' * NOM VP ]\n",
      "Expand: NOM -> ADJ NOM\n",
      "    [ 'die' * ADJ NOM VP ]\n",
      "Expand: ADJ -> 'kluge'\n",
      "    [ 'die' * 'kluge' NOM VP ]\n",
      "Match: 'kluge'\n",
      "    [ 'die' 'kluge' * NOM VP ]\n",
      "Expand: NOM -> ADJ NOM\n",
      "    [ 'die' 'kluge' * ADJ NOM VP ]\n",
      "Expand: ADJ -> 'kluge'\n",
      "    [ 'die' 'kluge' * 'kluge' NOM VP ]\n",
      "Backtrack: 'Frau' match failed\n",
      "Expand: ADJ -> 'dicke'\n",
      "    [ 'die' 'kluge' * 'dicke' NOM VP ]\n",
      "Backtrack: 'Frau' match failed\n",
      "Expand: NOM -> N\n",
      "    [ 'die' 'kluge' * N VP ]\n",
      "Expand: N -> 'Frau'\n",
      "    [ 'die' 'kluge' * 'Frau' VP ]\n",
      "Match: 'Frau'\n",
      "    [ 'die' 'kluge' 'Frau' * VP ]\n",
      "Expand: VP -> V NP\n",
      "    [ 'die' 'kluge' 'Frau' * V NP ]\n",
      "Expand: V -> 'kennt'\n",
      "    [ 'die' 'kluge' 'Frau' * 'kennt' NP ]\n",
      "Match: 'kennt'\n",
      "    [ 'die' 'kluge' 'Frau' 'kennt' * NP ]\n",
      "Expand: NP -> DET NOM\n",
      "    [ 'die' 'kluge' 'Frau' 'kennt' * DET NOM ]\n",
      "Expand: DET -> 'der'\n",
      "    [ 'die' 'kluge' 'Frau' 'kennt' * 'der' NOM ]\n",
      "Backtrack: 'das' match failed\n",
      "Expand: DET -> 'die'\n",
      "    [ 'die' 'kluge' 'Frau' 'kennt' * 'die' NOM ]\n",
      "Backtrack: 'das' match failed\n",
      "Expand: DET -> 'das'\n",
      "    [ 'die' 'kluge' 'Frau' 'kennt' * 'das' NOM ]\n",
      "Match: 'das'\n",
      "    [ 'die' 'kluge' 'Frau' 'kennt' 'das' * NOM ]\n",
      "Expand: NOM -> ADJ NOM\n",
      "    [ 'die' 'kluge' 'Frau' 'kennt' 'das' * ADJ NOM ]\n",
      "Expand: ADJ -> 'kluge'\n",
      "    [ 'die' 'kluge' 'Frau' 'kennt' 'das' * 'kluge' NOM ]\n",
      "Backtrack: 'dicke' match failed\n",
      "Expand: ADJ -> 'dicke'\n",
      "    [ 'die' 'kluge' 'Frau' 'kennt' 'das' * 'dicke' NOM ]\n",
      "Match: 'dicke'\n",
      "    [ 'die' 'kluge' 'Frau' 'kennt' 'das' 'dicke' * NOM ]\n",
      "Expand: NOM -> ADJ NOM\n",
      "    [ 'die' 'kluge' 'Frau' 'kennt' 'das' 'dicke' * ADJ NOM ]\n",
      "Expand: ADJ -> 'kluge'\n",
      "    [ 'die' 'kluge' 'Frau' 'kennt' 'das' 'dicke' * 'kluge' NOM ]\n",
      "Backtrack: 'Buch' match failed\n",
      "Expand: ADJ -> 'dicke'\n",
      "    [ 'die' 'kluge' 'Frau' 'kennt' 'das' 'dicke' * 'dicke' NOM ]\n",
      "Backtrack: 'Buch' match failed\n",
      "Expand: NOM -> N\n",
      "    [ 'die' 'kluge' 'Frau' 'kennt' 'das' 'dicke' * N ]\n",
      "Expand: N -> 'Frau'\n",
      "    [ 'die' 'kluge' 'Frau' 'kennt' 'das' 'dicke' * 'Frau' ]\n",
      "Backtrack: 'Buch' match failed\n",
      "Expand: N -> 'Buch'\n",
      "    [ 'die' 'kluge' 'Frau' 'kennt' 'das' 'dicke' * 'Buch' ]\n",
      "Match: 'Buch'\n",
      "    [ 'die' 'kluge' 'Frau' 'kennt' 'das' 'dicke' 'Buch' ]\n",
      "GOOD PARSE:\n",
      "    [ 'die' 'kluge' 'Frau' 'kennt' 'das' 'dicke' 'Buch' ]\n",
      "                     S                         \n",
      "      ┌──────────────┴────────┐                 \n",
      "      │                       VP               \n",
      "      │              ┌────────┴────┐            \n",
      "      NP             │             NP          \n",
      " ┌────┴────┐         │    ┌────────┴────┐       \n",
      " │        NOM        │    │            NOM     \n",
      " │    ┌────┴───┐     │    │        ┌────┴───┐   \n",
      " │    │       NOM    │    │        │       NOM \n",
      " │    │        │     │    │        │        │   \n",
      "DET  ADJ       N     V   DET      ADJ       N  \n",
      " │    │        │     │    │        │        │   \n",
      "die kluge     Frau kennt das     dicke     Buch\n",
      "\n",
      "Expand: NOM -> N\n",
      "    [ 'die' 'kluge' 'Frau' 'kennt' 'das' * N ]\n",
      "Expand: N -> 'Frau'\n",
      "    [ 'die' 'kluge' 'Frau' 'kennt' 'das' * 'Frau' ]\n",
      "Backtrack: 'dicke' match failed\n",
      "Expand: N -> 'Buch'\n",
      "    [ 'die' 'kluge' 'Frau' 'kennt' 'das' * 'Buch' ]\n",
      "Backtrack: 'dicke' match failed\n",
      "Expand: VP -> V\n",
      "    [ 'die' 'kluge' 'Frau' * V ]\n",
      "Expand: V -> 'kennt'\n",
      "    [ 'die' 'kluge' 'Frau' * 'kennt' ]\n",
      "Match: 'kennt'\n",
      "    [ 'die' 'kluge' 'Frau' 'kennt' ]\n",
      "Backtrack\n",
      "Expand: N -> 'Buch'\n",
      "    [ 'die' 'kluge' * 'Buch' VP ]\n",
      "Backtrack: 'Frau' match failed\n",
      "Expand: ADJ -> 'dicke'\n",
      "    [ 'die' * 'dicke' NOM VP ]\n",
      "Backtrack: 'kluge' match failed\n",
      "Expand: NOM -> N\n",
      "    [ 'die' * N VP ]\n",
      "Expand: N -> 'Frau'\n",
      "    [ 'die' * 'Frau' VP ]\n",
      "Backtrack: 'kluge' match failed\n",
      "Expand: N -> 'Buch'\n",
      "    [ 'die' * 'Buch' VP ]\n",
      "Backtrack: 'kluge' match failed\n",
      "Expand: DET -> 'das'\n",
      "    [ * 'das' NOM VP ]\n",
      "Backtrack: 'die' match failed\n"
     ]
    }
   ],
   "source": [
    "##Recursive Descent Parser:\n",
    "parser = nltk.RecursiveDescentParser(grammar, trace=3)\n",
    "for tree in parser.parse(sent.split()):\n",
    "    tree.pretty_print(unicodelines=True)"
   ]
  },
  {
   "cell_type": "code",
   "execution_count": 5,
   "metadata": {},
   "outputs": [
    {
     "name": "stdout",
     "output_type": "stream",
     "text": [
      "Warning: VP -> V NP will never be used\n",
      "Parsing 'die kluge Frau kennt das dicke Buch'\n",
      "    [ * die kluge Frau kennt das dicke Buch]\n",
      "  S [ 'die' * kluge Frau kennt das dicke Buch]\n",
      "  R [ DET * kluge Frau kennt das dicke Buch]\n",
      "  S [ DET 'kluge' * Frau kennt das dicke Buch]\n",
      "  R [ DET ADJ * Frau kennt das dicke Buch]\n",
      "  S [ DET ADJ 'Frau' * kennt das dicke Buch]\n",
      "  R [ DET ADJ N * kennt das dicke Buch]\n",
      "  R [ DET ADJ NOM * kennt das dicke Buch]\n",
      "  R [ DET NOM * kennt das dicke Buch]\n",
      "  R [ NP * kennt das dicke Buch]\n",
      "  S [ NP 'kennt' * das dicke Buch]\n",
      "  R [ NP V * das dicke Buch]\n",
      "  R [ NP VP * das dicke Buch]\n",
      "  R [ S * das dicke Buch]\n",
      "  S [ S 'das' * dicke Buch]\n",
      "  R [ S DET * dicke Buch]\n",
      "  S [ S DET 'dicke' * Buch]\n",
      "  R [ S DET ADJ * Buch]\n",
      "  S [ S DET ADJ 'Buch' * ]\n",
      "  R [ S DET ADJ N * ]\n",
      "  R [ S DET ADJ NOM * ]\n",
      "  R [ S DET NOM * ]\n",
      "  R [ S NP * ]\n"
     ]
    }
   ],
   "source": [
    "##Shift Reduce Parser:\n",
    "parser = nltk.ShiftReduceParser(grammar, trace=2)\n",
    "for tree in parser.parse(sent.split()):\n",
    "    tree.pretty_print(unicodelines=True)"
   ]
  },
  {
   "cell_type": "code",
   "execution_count": 6,
   "metadata": {},
   "outputs": [
    {
     "name": "stdout",
     "output_type": "stream",
     "text": [
      "|. die .kluge. Frau.kennt. das .dicke. Buch.|\n",
      "Leaf Init Rule:\n",
      "|[-----]     .     .     .     .     .     .| [0:1] 'die'\n",
      "|.     [-----]     .     .     .     .     .| [1:2] 'kluge'\n",
      "|.     .     [-----]     .     .     .     .| [2:3] 'Frau'\n",
      "|.     .     .     [-----]     .     .     .| [3:4] 'kennt'\n",
      "|.     .     .     .     [-----]     .     .| [4:5] 'das'\n",
      "|.     .     .     .     .     [-----]     .| [5:6] 'dicke'\n",
      "|.     .     .     .     .     .     [-----]| [6:7] 'Buch'\n",
      "Top Down Init Rule:\n",
      "|>     .     .     .     .     .     .     .| [0:0] S  -> * NP VP\n",
      "\n",
      "* Processing queue: 0 \n",
      "\n",
      "Predictor Rule:\n",
      "|>     .     .     .     .     .     .     .| [0:0] NP -> * DET NOM\n",
      "Predictor Rule:\n",
      "|>     .     .     .     .     .     .     .| [0:0] DET -> * 'die'\n",
      "\n",
      "* Processing queue: 1 \n",
      "\n",
      "Scanner Rule:\n",
      "|[-----]     .     .     .     .     .     .| [0:1] DET -> 'die' *\n",
      "Completer Rule:\n",
      "|[----->     .     .     .     .     .     .| [0:1] NP -> DET * NOM\n",
      "Predictor Rule:\n",
      "|.     >     .     .     .     .     .     .| [1:1] NOM -> * ADJ NOM\n",
      "|.     >     .     .     .     .     .     .| [1:1] NOM -> * N\n",
      "Predictor Rule:\n",
      "|.     >     .     .     .     .     .     .| [1:1] ADJ -> * 'kluge'\n",
      "\n",
      "* Processing queue: 2 \n",
      "\n",
      "Scanner Rule:\n",
      "|.     [-----]     .     .     .     .     .| [1:2] ADJ -> 'kluge' *\n",
      "Completer Rule:\n",
      "|.     [----->     .     .     .     .     .| [1:2] NOM -> ADJ * NOM\n",
      "Predictor Rule:\n",
      "|.     .     >     .     .     .     .     .| [2:2] NOM -> * ADJ NOM\n",
      "|.     .     >     .     .     .     .     .| [2:2] NOM -> * N\n",
      "Predictor Rule:\n",
      "|.     .     >     .     .     .     .     .| [2:2] N  -> * 'Frau'\n",
      "\n",
      "* Processing queue: 3 \n",
      "\n",
      "Scanner Rule:\n",
      "|.     .     [-----]     .     .     .     .| [2:3] N  -> 'Frau' *\n",
      "Completer Rule:\n",
      "|.     .     [-----]     .     .     .     .| [2:3] NOM -> N *\n",
      "Completer Rule:\n",
      "|.     [-----------]     .     .     .     .| [1:3] NOM -> ADJ NOM *\n",
      "Completer Rule:\n",
      "|[-----------------]     .     .     .     .| [0:3] NP -> DET NOM *\n",
      "Completer Rule:\n",
      "|[----------------->     .     .     .     .| [0:3] S  -> NP * VP\n",
      "Predictor Rule:\n",
      "|.     .     .     >     .     .     .     .| [3:3] VP -> * V NP\n",
      "|.     .     .     >     .     .     .     .| [3:3] VP -> * V\n",
      "Predictor Rule:\n",
      "|.     .     .     >     .     .     .     .| [3:3] V  -> * 'kennt'\n",
      "\n",
      "* Processing queue: 4 \n",
      "\n",
      "Scanner Rule:\n",
      "|.     .     .     [-----]     .     .     .| [3:4] V  -> 'kennt' *\n",
      "Completer Rule:\n",
      "|.     .     .     [----->     .     .     .| [3:4] VP -> V * NP\n",
      "|.     .     .     [-----]     .     .     .| [3:4] VP -> V *\n",
      "Completer Rule:\n",
      "|[-----------------------]     .     .     .| [0:4] S  -> NP VP *\n",
      "Predictor Rule:\n",
      "|.     .     .     .     >     .     .     .| [4:4] NP -> * DET NOM\n",
      "Predictor Rule:\n",
      "|.     .     .     .     >     .     .     .| [4:4] DET -> * 'das'\n",
      "\n",
      "* Processing queue: 5 \n",
      "\n",
      "Scanner Rule:\n",
      "|.     .     .     .     [-----]     .     .| [4:5] DET -> 'das' *\n",
      "Completer Rule:\n",
      "|.     .     .     .     [----->     .     .| [4:5] NP -> DET * NOM\n",
      "Predictor Rule:\n",
      "|.     .     .     .     .     >     .     .| [5:5] NOM -> * ADJ NOM\n",
      "|.     .     .     .     .     >     .     .| [5:5] NOM -> * N\n",
      "Predictor Rule:\n",
      "|.     .     .     .     .     >     .     .| [5:5] ADJ -> * 'dicke'\n",
      "\n",
      "* Processing queue: 6 \n",
      "\n",
      "Scanner Rule:\n",
      "|.     .     .     .     .     [-----]     .| [5:6] ADJ -> 'dicke' *\n",
      "Completer Rule:\n",
      "|.     .     .     .     .     [----->     .| [5:6] NOM -> ADJ * NOM\n",
      "Predictor Rule:\n",
      "|.     .     .     .     .     .     >     .| [6:6] NOM -> * ADJ NOM\n",
      "|.     .     .     .     .     .     >     .| [6:6] NOM -> * N\n",
      "Predictor Rule:\n",
      "|.     .     .     .     .     .     >     .| [6:6] N  -> * 'Buch'\n",
      "\n",
      "* Processing queue: 7 \n",
      "\n",
      "Scanner Rule:\n",
      "|.     .     .     .     .     .     [-----]| [6:7] N  -> 'Buch' *\n",
      "Completer Rule:\n",
      "|.     .     .     .     .     .     [-----]| [6:7] NOM -> N *\n",
      "Completer Rule:\n",
      "|.     .     .     .     .     [-----------]| [5:7] NOM -> ADJ NOM *\n",
      "Completer Rule:\n",
      "|.     .     .     .     [-----------------]| [4:7] NP -> DET NOM *\n",
      "Completer Rule:\n",
      "|.     .     .     [-----------------------]| [3:7] VP -> V NP *\n",
      "Completer Rule:\n",
      "|[=========================================]| [0:7] S  -> NP VP *\n",
      "                     S                         \n",
      "      ┌──────────────┴────────┐                 \n",
      "      │                       VP               \n",
      "      │              ┌────────┴────┐            \n",
      "      NP             │             NP          \n",
      " ┌────┴────┐         │    ┌────────┴────┐       \n",
      " │        NOM        │    │            NOM     \n",
      " │    ┌────┴───┐     │    │        ┌────┴───┐   \n",
      " │    │       NOM    │    │        │       NOM \n",
      " │    │        │     │    │        │        │   \n",
      "DET  ADJ       N     V   DET      ADJ       N  \n",
      " │    │        │     │    │        │        │   \n",
      "die kluge     Frau kennt das     dicke     Buch\n",
      "\n"
     ]
    }
   ],
   "source": [
    "## Earley Parser:\n",
    "parser = nltk.EarleyChartParser(grammar, trace=2)\n",
    "for tree in parser.parse(sent.split()):\n",
    "    tree.pretty_print(unicodelines=True)"
   ]
  }
 ],
 "metadata": {
  "kernelspec": {
   "display_name": "Python 3 (ipykernel)",
   "language": "python",
   "name": "python3"
  },
  "language_info": {
   "codemirror_mode": {
    "name": "ipython",
    "version": 3
   },
   "file_extension": ".py",
   "mimetype": "text/x-python",
   "name": "python",
   "nbconvert_exporter": "python",
   "pygments_lexer": "ipython3",
   "version": "3.9.12"
  }
 },
 "nbformat": 4,
 "nbformat_minor": 2
}
