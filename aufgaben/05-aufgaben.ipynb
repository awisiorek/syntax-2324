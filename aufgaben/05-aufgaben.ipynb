{
 "cells": [
  {
   "cell_type": "markdown",
   "metadata": {},
   "source": [
    "Syntax natürlicher Sprachen, WS 2023/24\n",
    "\n",
    "# 05 - Aufgabenblatt"
   ]
  },
  {
   "cell_type": "code",
   "execution_count": 1,
   "metadata": {},
   "outputs": [],
   "source": [
    "import nltk\n",
    "from nltk import Tree\n",
    "from nltk import DependencyGraph\n",
    "from spacy import displacy\n",
    "from itertools import chain"
   ]
  },
  {
   "cell_type": "code",
   "execution_count": 2,
   "metadata": {},
   "outputs": [],
   "source": [
    "def _tree_labeled(self, i):\n",
    "    node = self.get_by_address(i)\n",
    "    word, rel = node[\"word\"], node[\"rel\"]\n",
    "    deps = sorted(chain.from_iterable(node[\"deps\"].values()))\n",
    "    return Tree(word + '(' + rel + ')', [self._tree_labeled(dep) for dep in deps]) if deps else word + '(' + rel + ')'\n",
    "\n",
    "def tree_labeled(self):\n",
    "    node = self.root\n",
    "    word, rel = node[\"word\"], node[\"rel\"]\n",
    "    deps = sorted(chain.from_iterable(node[\"deps\"].values()))\n",
    "    return Tree(word+'('+rel+')', [self._tree_labeled(dep) for dep in deps])\n",
    "\n",
    "DependencyGraph._tree_labeled = _tree_labeled\n",
    "DependencyGraph.tree_labeled = tree_labeled\n",
    "\n",
    "def transform_nr_conll(sent_nr):\n",
    "    sent_list = []\n",
    "    for line in list(filter(None, sent_nr.split(\"\\n\"))):\n",
    "        line_list = line.split(); line_list.pop(0); line_list.insert(1,\"_\")\n",
    "        sent_list.append(\" \".join([i for i in line_list[0:]]))\n",
    "    return \"\\n\".join([i for i in sent_list[0:]])\n",
    "\n",
    "def displacy_dep_input(sent):\n",
    "    deps = []\n",
    "    for dep in sent.split('\\n'):\n",
    "        deps.append(dep.split())\n",
    "    deps = [x for x in deps if x]\n",
    "    ex, word_list, arc_list = [], [], []\n",
    "    for index, dep in enumerate(deps):\n",
    "        word_list.append({\"text\": dep[0], \"tag\": \"\"})\n",
    "        line = index+1; head = int(dep[2]); label = dep[3]\n",
    "        if head>line:\n",
    "            start = index; end = head-1; direction = \"left\"\n",
    "        else:\n",
    "            start = head-1; end = index; direction = \"right\"\n",
    "        if(label.lower() != \"root\"):\n",
    "            arc_list.append({\"start\": start, \"end\": end, \"label\": label, \"dir\": direction})\n",
    "    ex.append({\"words\": word_list,\"arcs\": arc_list})\n",
    "    return ex\n",
    "\n",
    "def show_dep_trees(sent_nr,style=1):\n",
    "    sent = transform_nr_conll(sent_nr)\n",
    "    dg = DependencyGraph(sent)\n",
    "    if style == 0 or style == 2:\n",
    "        tree_labeled = dg.tree_labeled()\n",
    "        tree_labeled.pretty_print(unicodelines=True)   \n",
    "    if style == 1 or style == 2:\n",
    "        ex = displacy_dep_input(sent)\n",
    "        html = displacy.render(ex, style=\"dep\", manual=True, options={'distance':100})"
   ]
  },
  {
   "cell_type": "markdown",
   "metadata": {},
   "source": [
    "## Aufgabe 1 - Darstellung von Dependenz-Strukturen\n"
   ]
  },
  {
   "cell_type": "markdown",
   "metadata": {},
   "source": [
    "\n",
    "#### Geben Sie in folgender Codezelle den entsprechenden Klammerausdruck der Dependenzstruktur des folgenden Satzes an und generieren Sie den entsprechenden Syntaxbaum, indem Sie die Codezelle anschließend ausführen.\n"
   ]
  },
  {
   "cell_type": "code",
   "execution_count": null,
   "metadata": {},
   "outputs": [],
   "source": [
    "tree = Tree.fromstring(\"\"\"\n",
    "(ROOT\n",
    "    Maria schenkte ihnen ein Buch aus dem Buchladen\n",
    ")\n",
    "\"\"\")\n",
    "\n",
    "tree.pretty_print(unicodelines=True)"
   ]
  },
  {
   "cell_type": "markdown",
   "metadata": {},
   "source": [
    "## Aufgabe 2 - Dependenzgrammatik\n",
    "\n",
    "#### Schreiben Sie zu dem folgenden Satz eine Dependenzgrammatik, die die syntaktische Ambiguität der Satzanalyse erhält. (Verwenden Sie dabei die [*Primacy-of-Content-Words*](https://universaldependencies.org/u/overview/syntax.html#the-primacy-of-content-words)-Maxime des Universal-Dependencies-Schemas für die PP-Analyse)."
   ]
  },
  {
   "cell_type": "code",
   "execution_count": 4,
   "metadata": {},
   "outputs": [],
   "source": [
    "sent = \"I shot an elephant in my pajamas\""
   ]
  },
  {
   "cell_type": "code",
   "execution_count": 5,
   "metadata": {},
   "outputs": [
    {
     "name": "stdout",
     "output_type": "stream",
     "text": [
      "no parse found for: I shot an elephant in my pajamas\n"
     ]
    }
   ],
   "source": [
    "grammar = nltk.DependencyGrammar.fromstring(\"\"\"\n",
    "    'shot' -> 'I'\n",
    "    \n",
    "    \"\"\")\n",
    "\n",
    "parser = nltk.ProjectiveDependencyParser(grammar)\n",
    "\n",
    "for tree in parser.parse(sent.split()):\n",
    "    print(tree)\n",
    "    tree.pretty_print(unicodelines=True)\n",
    "\n",
    "trees = list(parser.parse(sent.split()))\n",
    "if trees: [tree.pretty_print(unicodelines=True) for tree in trees]\n",
    "else: print(f\"no parse found for: {sent}\")"
   ]
  },
  {
   "cell_type": "markdown",
   "metadata": {},
   "source": [
    "## Aufgabe 3 - Manuelle Dependenzanalyse"
   ]
  },
  {
   "cell_type": "markdown",
   "metadata": {},
   "source": [
    "#### Stellen Sie folgenden Satz im Dependenzmodell dar:\n",
    "*Ich kenne einen älteren Bruder von zwei sehr lebhaften Mädchen.*\n",
    "\n",
    "### a) Ergänzen Sie dafür zunächst den Konstituentenbaum mit Angabe der perkolierten (hochgereichten) Köpfe.\n",
    "\n",
    "(Regeln für Baum:\n",
    "`S=NP+VP`, `NP=DET+(ADJP)+N+(PP)` oder `NP=PRON` oder `NP=NUM+(ADJP)+N`, `PP=P+NP`, `ADJP=(ADV)+ADJ`, `VP=V+NP`)\n",
    "\n",
    "#### Bestimmen Sie die Köpfe gemäß der UD *Primacy of Content Words*:\n",
    "(`head(PP) = head(NP)`)\n",
    "\n",
    "(`head(S) = head(VP)`)\n"
   ]
  },
  {
   "cell_type": "code",
   "execution_count": null,
   "metadata": {},
   "outputs": [
    {
     "name": "stdout",
     "output_type": "stream",
     "text": [
      "         S ()                                                                      \n",
      "   ┌──────┴─────────────┐                                                           \n",
      "   │                  VP ()                                                        \n",
      "   │      ┌─────────────┴──────────────┐                                            \n",
      "   │      │                          NP ()                                         \n",
      "   │      │     ┌───────┬───────┬──────┴─────┐                                      \n",
      "   │      │     │       │       │          PP ()                                   \n",
      "   │      │     │       │       │      ┌─────┴──────┐                               \n",
      "   │      │     │       │       │      │          NP ()                            \n",
      "   │      │     │       │       │      │     ┌──────┴───────┬─────────────────┐     \n",
      " NP ()    │     │    ADJP ()    │      │     │           ADJP ()              │    \n",
      "   │      │     │       │       │      │     │      ┌───────┴────────┐        │     \n",
      "PRON ()  V () DET ()  ADJ ()   N ()   P () NUM () ADV ()           ADJ ()    N ()  \n",
      "   │      │     │       │       │      │     │      │                │        │     \n",
      "  Ich   kenne einen  aelteren Bruder  von   zwei   sehr          lebhaften Maedchen\n",
      "\n"
     ]
    }
   ],
   "source": [
    "np1 = Tree(\n",
    "    'NP ()',\n",
    "    [Tree('PRON ()', ['Ich'])]\n",
    ")\n",
    "adjp2 = Tree (\n",
    " 'ADJP ()',\n",
    "    [Tree('ADV ()', ['sehr']), Tree('ADJ ()', ['lebhaften'])]\n",
    ")\n",
    "np3 = Tree(\n",
    "'NP ()',\n",
    "    [Tree('NUM ()', ['zwei'] ), adjp2, Tree('N ()',['Maedchen'] )]\n",
    ")\n",
    "pp = Tree(\n",
    "    'PP ()',\n",
    "    [Tree ('P ()', ['von']), np3]\n",
    ")\n",
    "adjp1 = Tree(\n",
    "    'ADJP ()',\n",
    "    [Tree('ADJ ()', ['aelteren'])]\n",
    ")\n",
    "np2 = Tree(\n",
    "    'NP ()',\n",
    "    [ Tree ('DET ()', ['einen']), adjp1, Tree ('N ()', ['Bruder']), pp]\n",
    ")\n",
    "vp = Tree(\n",
    "    'VP ()',\n",
    "    [Tree('V ()', ['kenne']), np2]\n",
    ")\n",
    "s = Tree(\n",
    "    'S ()',\n",
    "    [np1, vp]\n",
    ")\n",
    "\n",
    "s.pretty_print(unicodelines=True)"
   ]
  },
  {
   "cell_type": "code",
   "execution_count": 31,
   "metadata": {},
   "outputs": [
    {
     "name": "stdout",
     "output_type": "stream",
     "text": [
      "           S (kenne)                                                                                                                             \n",
      "    ┌──────────┴────────────────────────┐                                                                                                         \n",
      "    │                               VP (kenne)                                                                                                   \n",
      "    │          ┌────────────────────────┴────────────────────────┐                                                                                \n",
      "    │          │                                            NP (Bruder)                                                                          \n",
      "    │          │          ┌─────────────┬────────────┬───────────┴────────────┐                                                                   \n",
      "    │          │          │             │            │                  PP (Maedchen)                                                            \n",
      "    │          │          │             │            │           ┌────────────┴─────────────┐                                                     \n",
      "    │          │          │             │            │           │                    NP (Maedchen)                                              \n",
      "    │          │          │             │            │           │            ┌─────────────┴──────────────┬──────────────────────────────┐       \n",
      " NP (ich)      │          │      ADJP (aelteren)     │           │            │                     ADJP (lebhaften)                      │      \n",
      "    │          │          │             │            │           │            │             ┌──────────────┴────────────────┐             │       \n",
      "PRON (Ich) V (kenne) DET (einen)  ADJ (aelteren) N (Bruder)   P (von)     NUM (zwei)    ADV (sehr)                   ADJ (lebhaften) N (Maedchen)\n",
      "    │          │          │             │            │           │            │             │                               │             │       \n",
      "   Ich       kenne      einen        aelteren      Bruder       von          zwei          sehr                         lebhaften      Maedchen  \n",
      "\n"
     ]
    }
   ],
   "source": [
    "#Lösung\n",
    "np1 = Tree(\n",
    "    'NP (ich)',\n",
    "    [Tree('PRON (Ich)', ['Ich'])]\n",
    ")\n",
    "adjp2 = Tree (\n",
    " 'ADJP (lebhaften)',\n",
    "    [Tree('ADV (sehr)', ['sehr']), Tree('ADJ (lebhaften)', ['lebhaften'])]\n",
    ")\n",
    "np3 = Tree(\n",
    "'NP (Maedchen)',\n",
    "    [Tree('NUM (zwei)', ['zwei'] ), adjp2, Tree('N (Maedchen)',['Maedchen'] )]\n",
    ")\n",
    "pp = Tree(\n",
    "    'PP (Maedchen)',\n",
    "    [Tree ('P (von)', ['von']), np3]\n",
    ")\n",
    "adjp1 = Tree(\n",
    "    'ADJP (aelteren)',\n",
    "    [Tree('ADJ (aelteren)', ['aelteren'])]\n",
    ")\n",
    "np2 = Tree(\n",
    "    'NP (Bruder)',\n",
    "    [ Tree ('DET (einen)', ['einen']), adjp1, Tree ('N (Bruder)', ['Bruder']), pp]\n",
    ")\n",
    "vp = Tree(\n",
    "    'VP (kenne)',\n",
    "    [Tree('V (kenne)', ['kenne']), np2]\n",
    ")\n",
    "s = Tree(\n",
    "    'S (kenne)',\n",
    "    [np1, vp]\n",
    ")\n",
    "\n",
    "s.pretty_print(unicodelines=True)"
   ]
  },
  {
   "cell_type": "markdown",
   "metadata": {},
   "source": [
    "### b) Fertigen Sie nun eine Tabelle an, in der Sie zu jedem Kopfwort seine Dependenten notieren. Für jede Gruppe unmittelbarer Konstituenten einer Phrase (Ko-Konstituenten) gilt dabei, dass die nicht-hochgereichten Köpfe die Dependenten des hochgereichten Kopfes sind (Nicht-Köpfe in der Phrase sind abhängig vom Kopf der Phrase).\n"
   ]
  },
  {
   "cell_type": "markdown",
   "metadata": {},
   "source": [
    "\n",
    "|Kopf|Dependenten|\n",
    "|----|-----------|\n"
   ]
  },
  {
   "cell_type": "markdown",
   "metadata": {},
   "source": [
    "### c) Konvertieren Sie Ihre Tabelle nun in einen Dependenzbaum (Stemma)."
   ]
  },
  {
   "cell_type": "code",
   "execution_count": 6,
   "metadata": {},
   "outputs": [
    {
     "name": "stdout",
     "output_type": "stream",
     "text": [
      "     H     \n",
      "  ___|___   \n",
      " H1  H2 ...\n",
      "\n"
     ]
    }
   ],
   "source": [
    "dep_tree = Tree(\n",
    "    \"H\",\n",
    "    [\"H1\", \"H2\", \"...\"]\n",
    ")\n",
    "\n",
    "dep_tree.pretty_print()"
   ]
  },
  {
   "cell_type": "markdown",
   "metadata": {},
   "source": [
    "## Aufgabe 4 - Übergangsbasierter Shift-Reduce-Dependency-Parser"
   ]
  },
  {
   "cell_type": "markdown",
   "metadata": {},
   "source": [
    "#### Gegeben sei folgender Dependenzgraph:"
   ]
  },
  {
   "cell_type": "code",
   "execution_count": 7,
   "metadata": {},
   "outputs": [
    {
     "data": {
      "text/html": [
       "<span class=\"tex2jax_ignore\"><svg xmlns=\"http://www.w3.org/2000/svg\" xmlns:xlink=\"http://www.w3.org/1999/xlink\" xml:lang=\"en\" id=\"a9d089eafefe4cf7a8bdc44237284718-0\" class=\"displacy\" width=\"850\" height=\"387.0\" direction=\"ltr\" style=\"max-width: none; height: 387.0px; color: #000000; background: #ffffff; font-family: Arial; direction: ltr\">\n",
       "<text class=\"displacy-token\" fill=\"currentColor\" text-anchor=\"middle\" y=\"297.0\">\n",
       "    <tspan class=\"displacy-word\" fill=\"currentColor\" x=\"50\">fährt</tspan>\n",
       "    <tspan class=\"displacy-tag\" dy=\"2em\" fill=\"currentColor\" x=\"50\"></tspan>\n",
       "</text>\n",
       "\n",
       "<text class=\"displacy-token\" fill=\"currentColor\" text-anchor=\"middle\" y=\"297.0\">\n",
       "    <tspan class=\"displacy-word\" fill=\"currentColor\" x=\"150\">ein</tspan>\n",
       "    <tspan class=\"displacy-tag\" dy=\"2em\" fill=\"currentColor\" x=\"150\"></tspan>\n",
       "</text>\n",
       "\n",
       "<text class=\"displacy-token\" fill=\"currentColor\" text-anchor=\"middle\" y=\"297.0\">\n",
       "    <tspan class=\"displacy-word\" fill=\"currentColor\" x=\"250\">elektrisches</tspan>\n",
       "    <tspan class=\"displacy-tag\" dy=\"2em\" fill=\"currentColor\" x=\"250\"></tspan>\n",
       "</text>\n",
       "\n",
       "<text class=\"displacy-token\" fill=\"currentColor\" text-anchor=\"middle\" y=\"297.0\">\n",
       "    <tspan class=\"displacy-word\" fill=\"currentColor\" x=\"350\">Auto</tspan>\n",
       "    <tspan class=\"displacy-tag\" dy=\"2em\" fill=\"currentColor\" x=\"350\"></tspan>\n",
       "</text>\n",
       "\n",
       "<text class=\"displacy-token\" fill=\"currentColor\" text-anchor=\"middle\" y=\"297.0\">\n",
       "    <tspan class=\"displacy-word\" fill=\"currentColor\" x=\"450\">von</tspan>\n",
       "    <tspan class=\"displacy-tag\" dy=\"2em\" fill=\"currentColor\" x=\"450\"></tspan>\n",
       "</text>\n",
       "\n",
       "<text class=\"displacy-token\" fill=\"currentColor\" text-anchor=\"middle\" y=\"297.0\">\n",
       "    <tspan class=\"displacy-word\" fill=\"currentColor\" x=\"550\">Tesla</tspan>\n",
       "    <tspan class=\"displacy-tag\" dy=\"2em\" fill=\"currentColor\" x=\"550\"></tspan>\n",
       "</text>\n",
       "\n",
       "<text class=\"displacy-token\" fill=\"currentColor\" text-anchor=\"middle\" y=\"297.0\">\n",
       "    <tspan class=\"displacy-word\" fill=\"currentColor\" x=\"650\">schnell</tspan>\n",
       "    <tspan class=\"displacy-tag\" dy=\"2em\" fill=\"currentColor\" x=\"650\"></tspan>\n",
       "</text>\n",
       "\n",
       "<text class=\"displacy-token\" fill=\"currentColor\" text-anchor=\"middle\" y=\"297.0\">\n",
       "    <tspan class=\"displacy-word\" fill=\"currentColor\" x=\"750\">?</tspan>\n",
       "    <tspan class=\"displacy-tag\" dy=\"2em\" fill=\"currentColor\" x=\"750\"></tspan>\n",
       "</text>\n",
       "\n",
       "<g class=\"displacy-arrow\">\n",
       "    <path class=\"displacy-arc\" id=\"arrow-a9d089eafefe4cf7a8bdc44237284718-0-0\" stroke-width=\"2px\" d=\"M170,252.0 C170,152.0 335.0,152.0 335.0,252.0\" fill=\"none\" stroke=\"currentColor\"/>\n",
       "    <text dy=\"1.25em\" style=\"font-size: 0.8em; letter-spacing: 1px\">\n",
       "        <textPath xlink:href=\"#arrow-a9d089eafefe4cf7a8bdc44237284718-0-0\" class=\"displacy-label\" startOffset=\"50%\" side=\"left\" fill=\"currentColor\" text-anchor=\"middle\">-</textPath>\n",
       "    </text>\n",
       "    <path class=\"displacy-arrowhead\" d=\"M170,254.0 L162,242.0 178,242.0\" fill=\"currentColor\"/>\n",
       "</g>\n",
       "\n",
       "<g class=\"displacy-arrow\">\n",
       "    <path class=\"displacy-arc\" id=\"arrow-a9d089eafefe4cf7a8bdc44237284718-0-1\" stroke-width=\"2px\" d=\"M270,252.0 C270,202.0 330.0,202.0 330.0,252.0\" fill=\"none\" stroke=\"currentColor\"/>\n",
       "    <text dy=\"1.25em\" style=\"font-size: 0.8em; letter-spacing: 1px\">\n",
       "        <textPath xlink:href=\"#arrow-a9d089eafefe4cf7a8bdc44237284718-0-1\" class=\"displacy-label\" startOffset=\"50%\" side=\"left\" fill=\"currentColor\" text-anchor=\"middle\">-</textPath>\n",
       "    </text>\n",
       "    <path class=\"displacy-arrowhead\" d=\"M270,254.0 L262,242.0 278,242.0\" fill=\"currentColor\"/>\n",
       "</g>\n",
       "\n",
       "<g class=\"displacy-arrow\">\n",
       "    <path class=\"displacy-arc\" id=\"arrow-a9d089eafefe4cf7a8bdc44237284718-0-2\" stroke-width=\"2px\" d=\"M70,252.0 C70,102.0 340.0,102.0 340.0,252.0\" fill=\"none\" stroke=\"currentColor\"/>\n",
       "    <text dy=\"1.25em\" style=\"font-size: 0.8em; letter-spacing: 1px\">\n",
       "        <textPath xlink:href=\"#arrow-a9d089eafefe4cf7a8bdc44237284718-0-2\" class=\"displacy-label\" startOffset=\"50%\" side=\"left\" fill=\"currentColor\" text-anchor=\"middle\">-</textPath>\n",
       "    </text>\n",
       "    <path class=\"displacy-arrowhead\" d=\"M340.0,254.0 L348.0,242.0 332.0,242.0\" fill=\"currentColor\"/>\n",
       "</g>\n",
       "\n",
       "<g class=\"displacy-arrow\">\n",
       "    <path class=\"displacy-arc\" id=\"arrow-a9d089eafefe4cf7a8bdc44237284718-0-3\" stroke-width=\"2px\" d=\"M470,252.0 C470,202.0 530.0,202.0 530.0,252.0\" fill=\"none\" stroke=\"currentColor\"/>\n",
       "    <text dy=\"1.25em\" style=\"font-size: 0.8em; letter-spacing: 1px\">\n",
       "        <textPath xlink:href=\"#arrow-a9d089eafefe4cf7a8bdc44237284718-0-3\" class=\"displacy-label\" startOffset=\"50%\" side=\"left\" fill=\"currentColor\" text-anchor=\"middle\">-</textPath>\n",
       "    </text>\n",
       "    <path class=\"displacy-arrowhead\" d=\"M470,254.0 L462,242.0 478,242.0\" fill=\"currentColor\"/>\n",
       "</g>\n",
       "\n",
       "<g class=\"displacy-arrow\">\n",
       "    <path class=\"displacy-arc\" id=\"arrow-a9d089eafefe4cf7a8bdc44237284718-0-4\" stroke-width=\"2px\" d=\"M370,252.0 C370,152.0 535.0,152.0 535.0,252.0\" fill=\"none\" stroke=\"currentColor\"/>\n",
       "    <text dy=\"1.25em\" style=\"font-size: 0.8em; letter-spacing: 1px\">\n",
       "        <textPath xlink:href=\"#arrow-a9d089eafefe4cf7a8bdc44237284718-0-4\" class=\"displacy-label\" startOffset=\"50%\" side=\"left\" fill=\"currentColor\" text-anchor=\"middle\">-</textPath>\n",
       "    </text>\n",
       "    <path class=\"displacy-arrowhead\" d=\"M535.0,254.0 L543.0,242.0 527.0,242.0\" fill=\"currentColor\"/>\n",
       "</g>\n",
       "\n",
       "<g class=\"displacy-arrow\">\n",
       "    <path class=\"displacy-arc\" id=\"arrow-a9d089eafefe4cf7a8bdc44237284718-0-5\" stroke-width=\"2px\" d=\"M70,252.0 C70,52.0 645.0,52.0 645.0,252.0\" fill=\"none\" stroke=\"currentColor\"/>\n",
       "    <text dy=\"1.25em\" style=\"font-size: 0.8em; letter-spacing: 1px\">\n",
       "        <textPath xlink:href=\"#arrow-a9d089eafefe4cf7a8bdc44237284718-0-5\" class=\"displacy-label\" startOffset=\"50%\" side=\"left\" fill=\"currentColor\" text-anchor=\"middle\">-</textPath>\n",
       "    </text>\n",
       "    <path class=\"displacy-arrowhead\" d=\"M645.0,254.0 L653.0,242.0 637.0,242.0\" fill=\"currentColor\"/>\n",
       "</g>\n",
       "\n",
       "<g class=\"displacy-arrow\">\n",
       "    <path class=\"displacy-arc\" id=\"arrow-a9d089eafefe4cf7a8bdc44237284718-0-6\" stroke-width=\"2px\" d=\"M70,252.0 C70,2.0 750.0,2.0 750.0,252.0\" fill=\"none\" stroke=\"currentColor\"/>\n",
       "    <text dy=\"1.25em\" style=\"font-size: 0.8em; letter-spacing: 1px\">\n",
       "        <textPath xlink:href=\"#arrow-a9d089eafefe4cf7a8bdc44237284718-0-6\" class=\"displacy-label\" startOffset=\"50%\" side=\"left\" fill=\"currentColor\" text-anchor=\"middle\">-</textPath>\n",
       "    </text>\n",
       "    <path class=\"displacy-arrowhead\" d=\"M750.0,254.0 L758.0,242.0 742.0,242.0\" fill=\"currentColor\"/>\n",
       "</g>\n",
       "</svg></span>"
      ],
      "text/plain": [
       "<IPython.core.display.HTML object>"
      ]
     },
     "metadata": {},
     "output_type": "display_data"
    }
   ],
   "source": [
    "sent_nr = \"\"\"\n",
    "1 fährt 0 ROOT\n",
    "2 ein 4 -\n",
    "3 elektrisches 4 -\n",
    "4 Auto 1 -\n",
    "5 von 6 -\n",
    "6 Tesla 4 -\n",
    "7 schnell 1 - \n",
    "8 ? 1 -\n",
    "\"\"\"\n",
    "\n",
    "show_dep_trees(sent_nr)"
   ]
  },
  {
   "cell_type": "markdown",
   "metadata": {},
   "source": [
    "#### Geben Sie  den Typ der REDUCE-Übergänge (`LEFTARC`, `RIGHTARC`) sowie die Reihenfolge deren Durchführung bei Verarbeitung dieser Struktur mit einem Shift-Reduce-Dependency-Parser an.\n"
   ]
  },
  {
   "cell_type": "code",
   "execution_count": null,
   "metadata": {},
   "outputs": [],
   "source": [
    "sent_nr = \"\"\"\n",
    "1 fährt 0 ROOT\n",
    "2 ein 4 -\n",
    "3 elektrisches 4 -\n",
    "4 Auto 1 -\n",
    "5 von 6 -\n",
    "6 Tesla 4 -\n",
    "7 schnell 1 - \n",
    "8 ? 1 -\n",
    "\"\"\"\n",
    "\n",
    "show_dep_trees(sent_nr)"
   ]
  }
 ],
 "metadata": {
  "kernelspec": {
   "display_name": "Python 3 (ipykernel)",
   "language": "python",
   "name": "python3"
  },
  "language_info": {
   "codemirror_mode": {
    "name": "ipython",
    "version": 3
   },
   "file_extension": ".py",
   "mimetype": "text/x-python",
   "name": "python",
   "nbconvert_exporter": "python",
   "pygments_lexer": "ipython3",
   "version": "3.9.12"
  }
 },
 "nbformat": 4,
 "nbformat_minor": 2
}
