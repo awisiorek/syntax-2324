{
 "cells": [
  {
   "cell_type": "markdown",
   "metadata": {},
   "source": [
    "Syntax natürlicher Sprachen, WS 2023/24\n",
    "\n",
    "# 10 - Aufgabenblatt"
   ]
  },
  {
   "cell_type": "code",
   "execution_count": 1,
   "metadata": {},
   "outputs": [],
   "source": [
    "import nltk"
   ]
  },
  {
   "cell_type": "markdown",
   "metadata": {},
   "source": [
    "## Aufgabe 1 - Gewichte und Ableitungswahrscheinlichkeit\n",
    "\n",
    "#### Betrachten Sie folgende (unvollständige) PCFG:"
   ]
  },
  {
   "cell_type": "code",
   "execution_count": null,
   "metadata": {},
   "outputs": [],
   "source": [
    "grammar = nltk.PCFG.fromstring(\"\"\"\n",
    "    S -> NP VP [**]\n",
    "    NP -> PROPN [**]\n",
    "    VP -> V NP [0.3]\n",
    "    VP -> V NP ADJP [**]\n",
    "    ADJP -> ADJ [**]\n",
    "    ADJP -> PRT ADJP [0.1]\n",
    "\n",
    "    PROPN -> \"Maria\" [0.5]\n",
    "    PROPN -> \"Moritz\" [**]\n",
    "    V -> \"kennt\" [**]\n",
    "    PRT -> \"sehr\" [**]\n",
    "    ADJ -> \"gut\" [**]\n",
    "\"\"\")\n",
    "\n",
    "sent = \"Maria kennt Moritz sehr sehr gut\"\n",
    "\n",
    "viterbi_parser = nltk.ViterbiParser(grammar)\n",
    "for tree in viterbi_parser.parse(sent.split()):\n",
    "    tree.pretty_print(unicodelines=True)\n",
    "    print(tree)"
   ]
  },
  {
   "cell_type": "markdown",
   "metadata": {},
   "source": [
    "#### Ergänzen Sie die fehlenden (mit ** markierten) Gewichte und geben Sie die Berechnung für die Ableitungswahrscheinlichkeit durch den Viterbi-Parser an."
   ]
  },
  {
   "cell_type": "code",
   "execution_count": null,
   "metadata": {},
   "outputs": [],
   "source": [
    "grammar = nltk.PCFG.fromstring(\"\"\"\n",
    "    S -> NP VP [**]\n",
    "    NP -> PROPN [**]\n",
    "    VP -> V NP [0.3]\n",
    "    VP -> V NP ADJP [**]\n",
    "    ADJP -> ADJ [**]\n",
    "    ADJP -> PRT ADJP [0.1]\n",
    "\n",
    "    PROPN -> \"Maria\" [0.5]\n",
    "    PROPN -> \"Moritz\" [**]\n",
    "    V -> \"kennt\" [**]\n",
    "    PRT -> \"sehr\" [**]\n",
    "    ADJ -> \"gut\" [**]\n",
    "\"\"\")\n",
    "\n",
    "sent = \"Maria kennt Moritz sehr sehr gut\"\n",
    "\n",
    "viterbi_parser = nltk.ViterbiParser(grammar)\n",
    "for tree in viterbi_parser.parse(sent.split()):\n",
    "    tree.pretty_print(unicodelines=True)\n",
    "    print(tree)"
   ]
  },
  {
   "cell_type": "code",
   "execution_count": null,
   "metadata": {},
   "outputs": [],
   "source": [
    "# Berechnung der Ableitungswahrscheinlichkeit:\n",
    "# "
   ]
  },
  {
   "cell_type": "markdown",
   "metadata": {},
   "source": [
    "## Aufgabe 2  - PCFG Parsing\n",
    "#### Betrachten Sie das folgende PCFG-Parsing:"
   ]
  },
  {
   "cell_type": "code",
   "execution_count": 3,
   "metadata": {},
   "outputs": [
    {
     "name": "stdout",
     "output_type": "stream",
     "text": [
      "(NP (JJ big) (NNS (NNS cats) (CC and) (NNS dogs))) (p=0.000864)\n",
      "          NP         \n",
      " ┌────────┴───┐       \n",
      " │           NNS     \n",
      " │   ┌────────┼───┐   \n",
      " JJ NNS       CC NNS \n",
      " │   │        │   │   \n",
      "big cats     and dogs\n",
      "\n"
     ]
    }
   ],
   "source": [
    "grammar = nltk.PCFG.fromstring('''\n",
    "  NP  -> NNS [0.5] | JJ NNS [0.3] | NP CC NP [0.2]\n",
    "  NNS -> \"cats\" [0.1] | \"dogs\" [0.2] | \"mice\" [0.3] | NNS CC NNS [0.4]\n",
    "  JJ  -> \"big\" [0.4] | \"small\" [0.6]\n",
    "  CC  -> \"and\" [0.9] | \"or\" [0.1]\n",
    "  ''')\n",
    "\n",
    "sent = \"big cats and dogs\"\n",
    "\n",
    "viterbi_parser = nltk.ViterbiParser(grammar)\n",
    "for tree in viterbi_parser.parse(sent.split()):\n",
    "    print(tree)\n",
    "    tree.pretty_print(unicodelines=True)\n"
   ]
  },
  {
   "cell_type": "markdown",
   "metadata": {},
   "source": [
    "### a) Berechnen Sie die Wahrscheinlichkeit für die Ableitung mit dem Viterbi-Parser."
   ]
  },
  {
   "cell_type": "code",
   "execution_count": null,
   "metadata": {},
   "outputs": [],
   "source": [
    "# Berechnung der Ableitungswahrscheinlichkeit:\n",
    "# "
   ]
  },
  {
   "cell_type": "markdown",
   "metadata": {},
   "source": [
    "### b) Betrachten Sie das dazugehörige Tracing-Output des ViterbiParsers. Warum werden die Analysen in den Discard-Zeilen verworfen?\n",
    "\n",
    "```\n",
    ">>> sent = 'big cats and dogs'.split()\n",
    ">>> viterbi_parser = nltk.ViterbiParser(grammar, trace = 3)\n",
    ">>> for tree in viterbi_parser.parse(sent):\n",
    ">>>     print(tree)\n",
    "\n",
    "Inserting tokens into the most likely constituents table...\n",
    "   Insert: |=...| big\n",
    "   Insert: |.=..| cats\n",
    "   Insert: |..=.| and\n",
    "   Insert: |...=| dogs\n",
    "Finding the most likely constituents spanning 1 text elements...\n",
    "   Insert: |=...| JJ -> 'big' [0.4]                 0.4000000000\n",
    "   Insert: |.=..| NNS -> 'cats' [0.1]               0.1000000000\n",
    "   Insert: |.=..| NP -> NNS [0.5]                   0.0500000000\n",
    "   Insert: |..=.| CC -> 'and' [0.9]                 0.9000000000\n",
    "   Insert: |...=| NNS -> 'dogs' [0.2]               0.2000000000\n",
    "   Insert: |...=| NP -> NNS [0.5]                   0.1000000000\n",
    "Finding the most likely constituents spanning 2 text elements...\n",
    "   Insert: |==..| NP -> JJ NNS [0.3]                0.0120000000\n",
    "Finding the most likely constituents spanning 3 text elements...\n",
    "   Insert: |.===| NP -> NP CC NP [0.2]              0.0009000000\n",
    "   Insert: |.===| NNS -> NNS CC NNS [0.4]           0.0072000000\n",
    "   Insert: |.===| NP -> NNS [0.5]                   0.0036000000\n",
    "  Discard: |.===| NP -> NP CC NP [0.2]              0.0009000000\n",
    "  Discard: |.===| NP -> NP CC NP [0.2]              0.0009000000\n",
    "Finding the most likely constituents spanning 4 text elements...\n",
    "   Insert: |====| NP -> JJ NNS [0.3]                0.0008640000\n",
    "  Discard: |====| NP -> NP CC NP [0.2]              0.0002160000\n",
    "  Discard: |====| NP -> NP CC NP [0.2]              0.0002160000\n",
    "(NP (JJ big) (NNS (NNS cats) (CC and) (NNS dogs))) (p=***)\n",
    "```"
   ]
  },
  {
   "cell_type": "code",
   "execution_count": null,
   "metadata": {},
   "outputs": [],
   "source": [
    "# Antwort:\n",
    "#"
   ]
  },
  {
   "cell_type": "markdown",
   "metadata": {},
   "source": [
    "### c) Ein statistischer ChartParser findet folgende 2 Ableitungen für die NP big cats and dogs. Um welchen probabilistischen Parsingalgorithmus kann es sich NICHT handeln?\n",
    "```\n",
    "(NP (JJ big) (NNS (NNS cats) (CC and) (NNS dogs))) (p=0.000864)\n",
    "(NP (NP (JJ big) (NNS cats)) (CC and) (NP (NNS dogs))) (p=0.000216)\n",
    "```"
   ]
  },
  {
   "cell_type": "code",
   "execution_count": 4,
   "metadata": {},
   "outputs": [
    {
     "name": "stdout",
     "output_type": "stream",
     "text": [
      "          NP         \n",
      " ┌────────┴───┐       \n",
      " │           NNS     \n",
      " │   ┌────────┼───┐   \n",
      " JJ NNS       CC NNS \n",
      " │   │        │   │   \n",
      "big cats     and dogs\n",
      "\n",
      "         NP          \n",
      "     ┌───┴────┬───┐   \n",
      "     NP       │   NP \n",
      " ┌───┴───┐    │   │   \n",
      " JJ     NNS   CC NNS \n",
      " │       │    │   │   \n",
      "big     cats and dogs\n",
      "\n"
     ]
    }
   ],
   "source": [
    "from nltk import Tree\n",
    "tree1 = Tree.fromstring(\"(NP (JJ big) (NNS (NNS cats) (CC and) (NNS dogs)))\")\n",
    "tree2 = Tree.fromstring(\"(NP (NP (JJ big) (NNS cats)) (CC and) (NP (NNS dogs)))\")\n",
    "tree1.pretty_print(unicodelines=True)\n",
    "tree2.pretty_print(unicodelines=True)"
   ]
  },
  {
   "cell_type": "code",
   "execution_count": null,
   "metadata": {},
   "outputs": [],
   "source": [
    "# Antwort:\n",
    "#"
   ]
  },
  {
   "cell_type": "markdown",
   "metadata": {},
   "source": [
    "### d) Nach welchem Kriterium wird beim Parsen mit dem InsideChartParser (= Lowest-Cost-First-Strategie) die *edge queue* sortiert?"
   ]
  },
  {
   "cell_type": "code",
   "execution_count": null,
   "metadata": {},
   "outputs": [],
   "source": [
    "# Antwort:\n",
    "#"
   ]
  }
 ],
 "metadata": {
  "kernelspec": {
   "display_name": "Python 3 (ipykernel)",
   "language": "python",
   "name": "python3"
  },
  "language_info": {
   "codemirror_mode": {
    "name": "ipython",
    "version": 3
   },
   "file_extension": ".py",
   "mimetype": "text/x-python",
   "name": "python",
   "nbconvert_exporter": "python",
   "pygments_lexer": "ipython3",
   "version": "3.9.12"
  }
 },
 "nbformat": 4,
 "nbformat_minor": 2
}
