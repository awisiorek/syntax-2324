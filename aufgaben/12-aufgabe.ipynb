{
 "cells": [
  {
   "cell_type": "markdown",
   "metadata": {},
   "source": [
    "Syntax natürlicher Sprachen, WS 2023/24\n",
    "\n",
    "# 12 - Aufgabenblatt"
   ]
  },
  {
   "cell_type": "code",
   "execution_count": 1,
   "metadata": {},
   "outputs": [],
   "source": [
    "from nltk import conlltags2tree"
   ]
  },
  {
   "cell_type": "markdown",
   "metadata": {},
   "source": [
    "## Aufgabe 1 - IOB-Tagging\n",
    "\n",
    "### a) Vervollständigen Sie den die folgende *IOB-Tag-Sequenz* einer NP-PP-Chunk-Analyse erfüllenden deutschen Satz.\n",
    "\n",
    "#### (Beachten Sie auch die gegebenen Satzzeichen bzgl. möglicher Satztypen und entsprechender Worstellung.)\n"
   ]
  },
  {
   "cell_type": "code",
   "execution_count": null,
   "metadata": {},
   "outputs": [],
   "source": [
    "iob_list = [\n",
    "(\"O\", \"Haben\"), \n",
    "(\"B-NP\", \"\"),\n",
    "(\"B-NP\", \"\"),\n",
    "(\"B-NP\", \"\"),\n",
    "(\"I-NP\", \"\"),\n",
    "(\"B-PP\", \"\"),\n",
    "(\"B-NP\", \"\"),\n",
    "(\"I-NP\", \"\"),\n",
    "(\"O\", \"geschenkt\"), \n",
    "(\"O\", \"?\")\n",
    "]\n",
    "\n",
    "tree = conlltags2tree([(word, \"\", iobtag)for iobtag, word in iob_list])\n",
    "tree.pretty_print(unicodelines=True)"
   ]
  },
  {
   "cell_type": "markdown",
   "metadata": {},
   "source": [
    "### b) Geben Sie die *IOB-Tag-Sequenz* und *POS-Label* einer vollständigen flachen Chunk-Analyse für den folgenden Satz an:\n",
    "\n",
    "- *Kafkas Werke wurden zum größeren Teil erst nach seinem Tod und gegen seine letztwillige Verfügung von Max Brod veröffentlicht.*"
   ]
  },
  {
   "cell_type": "code",
   "execution_count": 2,
   "metadata": {},
   "outputs": [
    {
     "name": "stdout",
     "output_type": "stream",
     "text": [
      "         S            \n",
      "         │             \n",
      "         NP           \n",
      "   ┌─────┴──────┐      \n",
      "ein/DET     Beispiel/N\n",
      "\n"
     ]
    }
   ],
   "source": [
    "iob_list = [\n",
    "(\"ein\", \"DET\", \"B-NP\"),\n",
    "(\"Beispiel\", \"N\", \"I-NP\"),\n",
    "]\n",
    "\n",
    "tree = conlltags2tree(iob_list)\n",
    "tree.pretty_print(unicodelines=True)"
   ]
  },
  {
   "cell_type": "code",
   "execution_count": null,
   "metadata": {},
   "outputs": [],
   "source": [
    "iob_list = [\n",
    "(\"Kafkas\", \"\", \"\"),\n",
    "(\"Werke\", \"\", \"\"),\n",
    "(\"wurden\", \"\", \"\"),\n",
    "(\"zum\", \"\", \"\"),\n",
    "(\"größeren\", \"\", \"\"),\n",
    "(\"Teil\", \"\", \"\"),\n",
    "(\"erst\", \"\", \"\"),\n",
    "(\"nach\", \"\", \"\"),\n",
    "(\"seinem\", \"\", \"\"),\n",
    "(\"Tod\", \"\", \"\"),\n",
    "(\"von\", \"\", \"\"),\n",
    "(\"Max\", \"\", \"\"),\n",
    "(\"Brod\", \"\", \"\"),\n",
    "(\"veröffentlicht\", \"\", \"\"),\n",
    "(\".\", \"PUNCT\", \"O\")\n",
    "]\n",
    "\n",
    "tree = conlltags2tree(iob_list)\n",
    "tree.pretty_print(unicodelines=True)"
   ]
  }
 ],
 "metadata": {
  "kernelspec": {
   "display_name": "Python 3 (ipykernel)",
   "language": "python",
   "name": "python3"
  },
  "language_info": {
   "codemirror_mode": {
    "name": "ipython",
    "version": 3
   },
   "file_extension": ".py",
   "mimetype": "text/x-python",
   "name": "python",
   "nbconvert_exporter": "python",
   "pygments_lexer": "ipython3",
   "version": "3.9.12"
  }
 },
 "nbformat": 4,
 "nbformat_minor": 2
}
