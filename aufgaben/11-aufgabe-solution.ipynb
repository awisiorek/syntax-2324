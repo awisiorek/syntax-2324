{
 "cells": [
  {
   "cell_type": "markdown",
   "metadata": {},
   "source": [
    "Syntax natürlicher Sprachen, WS 2023/24\n",
    "\n",
    "# 11 - Aufgabenblatt (Lösung)"
   ]
  },
  {
   "cell_type": "code",
   "execution_count": 1,
   "metadata": {},
   "outputs": [],
   "source": [
    "import nltk\n",
    "from nltk import Tree"
   ]
  },
  {
   "cell_type": "markdown",
   "metadata": {},
   "source": [
    "## Aufgabe 1 - Lexikalisierte CFG"
   ]
  },
  {
   "cell_type": "markdown",
   "metadata": {},
   "source": [
    "#### Gegeben sei folgende FCFG (für einen Satz mit Kasusadverbial)  mit nur teilweise durchgeführter Kopfannotation über ein `HEAD`-Merkmal.\n",
    "\n",
    "#### Vervollständigen Sie die Kopfannotation gemäß UD-Regeln."
   ]
  },
  {
   "cell_type": "code",
   "execution_count": 2,
   "metadata": {},
   "outputs": [
    {
     "name": "stdout",
     "output_type": "stream",
     "text": [
      "(S[HEAD='rennt']\n",
      "  (NP[HEAD='er'] (PRON[HEAD='er'] er))\n",
      "  (VP[HEAD='rennt']\n",
      "    (VP[HEAD='rennt'] (V[HEAD='rennt'] rennt))\n",
      "    (NP[HEAD='Tag']\n",
      "      (DET[HEAD='den'] den)\n",
      "      (ADJ[HEAD='ganz'] ganzen)\n",
      "      (N[HEAD='Tag'] Tag))))\n",
      "                                 S[HEAD='rennt']                                                \n",
      "       ┌────────────────────────────────┴───────────────┐                                        \n",
      "       │                                         VP[HEAD='rennt']                               \n",
      "       │               ┌────────────────────────────────┴────────────────┐                       \n",
      " NP[HEAD='er']  VP[HEAD='rennt']                                   NP[HEAD='Tag']               \n",
      "       │               │                ┌────────────────────────────────┼───────────────┐       \n",
      "PRON[HEAD='er'] V[HEAD='rennt']  DET[HEAD='den']                  ADJ[HEAD='ganz'] N[HEAD='Tag']\n",
      "       │               │                │                                │               │       \n",
      "       er            rennt             den                             ganzen           Tag     \n",
      "\n"
     ]
    }
   ],
   "source": [
    "sentence = \"er rennt den ganzen Tag\"\n",
    "\n",
    "gramstring = r\"\"\"\n",
    "% start S\n",
    "    S[HEAD=?x] -> NP[] VP[HEAD=?x]\n",
    "    NP[HEAD=?x] -> PRON[HEAD=?x]\n",
    "    NP[HEAD=?x] -> DET[] ADJ[] N[HEAD=?x]\n",
    "    VP[HEAD=?x] -> V[HEAD=?x]\n",
    "    VP[HEAD=?x] -> VP[HEAD=?x] NP[]\n",
    "\n",
    "    PRON[HEAD='er'] -> \"er\"\n",
    "    DET[HEAD='den'] -> \"den\"\n",
    "    ADJ[HEAD='ganz'] -> \"ganzen\"\n",
    "    N[HEAD='Tag'] -> \"Tag\"\n",
    "    V[HEAD='rennt'] -> \"rennt\"\n",
    "\"\"\"\n",
    "\n",
    "grammar = nltk.grammar.FeatureGrammar.fromstring(gramstring)\n",
    "parser = nltk.parse.FeatureChartParser(grammar,trace=0)\n",
    "\n",
    "for tree in parser.parse(sentence.split()):\n",
    "    print(tree)\n",
    "    tree = Tree.fromstring(str(tree).replace(\", \",\",\"))\n",
    "    tree.pretty_print(unicodelines=True)\n",
    "    #display(tree)"
   ]
  },
  {
   "cell_type": "markdown",
   "metadata": {},
   "source": [
    "## Aufgabe 2 - Parent Annotation"
   ]
  },
  {
   "cell_type": "markdown",
   "metadata": {},
   "source": [
    "#### Gegeben sei folgende CFG (für einen ditransitiven Satz) mit unvollständiger *Parent Annotation*.\n",
    "\n",
    "#### Führen Sie über Symbolerweiterung (mit `^` als Trennerzeichen) eine *Parent Annotation* durch, wie sie durch die Regelanwendungen im Syntaxbaum der Angabe impliziert ist.\n",
    "\n",
    "##### Sie können sich in der Annotation auf die syntaktischen Regeln beschränken.\n"
   ]
  },
  {
   "cell_type": "code",
   "execution_count": 3,
   "metadata": {},
   "outputs": [
    {
     "name": "stdout",
     "output_type": "stream",
     "text": [
      "       S                       \n",
      "  ┌────┴─────┐                  \n",
      "  │         VP^S               \n",
      "  │    ┌─────┼─────────┐        \n",
      " NP^S  │   NP^VP     NP^VP     \n",
      "  │    │     │    ┌────┴────┐   \n",
      "PROPN  V    PRON DET        N  \n",
      "  │    │     │    │         │   \n",
      " Kim  gave  him   a        bone\n",
      "\n"
     ]
    }
   ],
   "source": [
    "sentence = \"Kim gave him a bone\"\n",
    "\n",
    "grammar = nltk.CFG.fromstring(\"\"\"\n",
    "    S   -> NP^S VP^S\n",
    "    VP^S  -> V NP^VP NP^VP\n",
    "    NP^S  -> PROPN\n",
    "    NP^VP  -> PRON\n",
    "    NP^VP  -> DET N\n",
    "\n",
    "    DET -> \"a\"\n",
    "    PROPN  -> \"Kim\"\n",
    "    PRON   -> \"him\"\n",
    "    N      -> \"bone\"\n",
    "    V      -> \"gave\"\n",
    "\"\"\")\n",
    "\n",
    "parser = nltk.ChartParser(grammar,trace=0)\n",
    "\n",
    "for tree in parser.parse(sentence.split()):\n",
    "    tree.pretty_print(unicodelines=True)"
   ]
  },
  {
   "cell_type": "markdown",
   "metadata": {},
   "source": [
    "## Aufgabe 3 - Disambiguierung mit PCFG"
   ]
  },
  {
   "cell_type": "markdown",
   "metadata": {},
   "source": [
    "### a) Gegeben sei folgende Mini-Treebank mit verschiedenen Subkategorisierungtypen (Kasusadverbial vs. Objekt):"
   ]
  },
  {
   "cell_type": "code",
   "execution_count": 5,
   "metadata": {},
   "outputs": [
    {
     "name": "stdout",
     "output_type": "stream",
     "text": [
      "            S                \n",
      " ┌──────────┴───┐             \n",
      " │              VP           \n",
      " │     ┌────────┴────┐        \n",
      " NP    VP            NP      \n",
      " │     │    ┌────────┼─────┐  \n",
      "PRON   V   DET      ADJ    N \n",
      " │     │    │        │     │  \n",
      " er  rennt den     ganzen Tag\n",
      "\n",
      "                   S                \n",
      " ┌─────────────────┴───┐             \n",
      " │                     VP           \n",
      " │        ┌────────────┴────┐        \n",
      " NP       │                 NP      \n",
      " │        │        ┌────────┼─────┐  \n",
      "PRON      V       DET      ADJ    N \n",
      " │        │        │        │     │  \n",
      " er  verschwendet den     ganzen Tag\n",
      "\n"
     ]
    }
   ],
   "source": [
    "treestrings = [\n",
    "\"\"\"(S\n",
    "  (NP (PRON er))\n",
    "  (VP\n",
    "    (VP (V rennt))\n",
    "    (NP\n",
    "      (DET den)\n",
    "      (ADJ ganzen)\n",
    "      (N Tag))))\n",
    "\"\"\",\n",
    "\n",
    "\"\"\"(S\n",
    "  (NP (PRON er))\n",
    "  (VP\n",
    "    (V verschwendet)\n",
    "    (NP\n",
    "      (DET den)\n",
    "      (ADJ ganzen)\n",
    "      (N Tag))))\n",
    "\"\"\",\n",
    "\n",
    "]\n",
    "\n",
    "trees = [Tree.fromstring(treestring).pretty_print(unicodelines=True) for treestring in treestrings]"
   ]
  },
  {
   "cell_type": "markdown",
   "metadata": {},
   "source": [
    "#### Passen Sie diese Mini-Treebank durch Duplizieren einer minimalen Anzahl an Sätzen so an, dass die daraus induzierte Grammatik für den ersten Ableitungstyp eine korrekte Analyse liefert."
   ]
  },
  {
   "cell_type": "code",
   "execution_count": 6,
   "metadata": {},
   "outputs": [
    {
     "name": "stdout",
     "output_type": "stream",
     "text": [
      "S -> NP VP [1.0]\n",
      "NP -> PRON [0.5]\n",
      "PRON -> 'er' [1.0]\n",
      "VP -> VP NP [0.428571]\n",
      "VP -> V [0.428571]\n",
      "V -> 'rennt' [0.75]\n",
      "NP -> DET ADJ N [0.5]\n",
      "DET -> 'den' [1.0]\n",
      "ADJ -> 'ganzen' [1.0]\n",
      "N -> 'Tag' [1.0]\n",
      "VP -> V NP [0.142857]\n",
      "V -> 'verschwendet' [0.25]\n",
      "(S\n",
      "  (NP (PRON er))\n",
      "  (VP (VP (V rennt)) (NP (DET den) (ADJ ganzen) (N Tag)))) (p=0.0344388)\n",
      "            S                \n",
      " ┌──────────┴───┐             \n",
      " │              VP           \n",
      " │     ┌────────┴────┐        \n",
      " NP    VP            NP      \n",
      " │     │    ┌────────┼─────┐  \n",
      "PRON   V   DET      ADJ    N \n",
      " │     │    │        │     │  \n",
      " er  rennt den     ganzen Tag\n",
      "\n"
     ]
    }
   ],
   "source": [
    "treestrings = [\n",
    "\"\"\"(S\n",
    "  (NP (PRON er))\n",
    "  (VP\n",
    "    (VP (V rennt))\n",
    "    (NP\n",
    "      (DET den)\n",
    "      (ADJ ganzen)\n",
    "      (N Tag))))\n",
    "\"\"\",\n",
    "\n",
    "\"\"\"(S\n",
    "  (NP (PRON er))\n",
    "  (VP\n",
    "    (VP (V rennt))\n",
    "    (NP\n",
    "      (DET den)\n",
    "      (ADJ ganzen)\n",
    "      (N Tag))))\n",
    "\"\"\", #dupliziert\n",
    "\n",
    "\"\"\"(S\n",
    "  (NP (PRON er))\n",
    "  (VP\n",
    "    (VP (V rennt))\n",
    "    (NP\n",
    "      (DET den)\n",
    "      (ADJ ganzen)\n",
    "      (N Tag))))\n",
    "\"\"\", #dupliziert\n",
    "\n",
    "\n",
    "\n",
    "\n",
    "\"\"\"(S\n",
    "  (NP (PRON er))\n",
    "  (VP\n",
    "    (V verschwendet)\n",
    "    (NP\n",
    "      (DET den)\n",
    "      (ADJ ganzen)\n",
    "      (N Tag))))\n",
    "\"\"\",\n",
    "\n",
    "]\n",
    "\n",
    "\n",
    "trees = [Tree.fromstring(treestring) for treestring in treestrings]\n",
    "\n",
    "#grammar induction:    \n",
    "productions = []\n",
    "S = nltk.Nonterminal('S')\n",
    "\n",
    "for tree in trees:\n",
    "    productions += tree.productions()\n",
    "\n",
    "grammar = nltk.induce_pcfg(S, productions)\n",
    "for production in grammar.productions():\n",
    "    print(production)    \n",
    "\n",
    "\n",
    "#parse first tree with grammar:\n",
    "parser = nltk.ViterbiParser(grammar)\n",
    "for parse in parser.parse(trees[0].leaves()):\n",
    "    print(parse)\n",
    "    parse.pretty_print(unicodelines=True)"
   ]
  },
  {
   "cell_type": "markdown",
   "metadata": {},
   "source": [
    "#### Parsen Sie abschließend die Sätze mit der induzierten Grammatik:"
   ]
  },
  {
   "cell_type": "code",
   "execution_count": 7,
   "metadata": {},
   "outputs": [
    {
     "name": "stdout",
     "output_type": "stream",
     "text": [
      "            S                \n",
      " ┌──────────┴───┐             \n",
      " │              VP           \n",
      " │     ┌────────┴────┐        \n",
      " NP    VP            NP      \n",
      " │     │    ┌────────┼─────┐  \n",
      "PRON   V   DET      ADJ    N \n",
      " │     │    │        │     │  \n",
      " er  rennt den     ganzen Tag\n",
      "\n",
      "            S                \n",
      " ┌──────────┴───┐             \n",
      " │              VP           \n",
      " │     ┌────────┴────┐        \n",
      " NP    VP            NP      \n",
      " │     │    ┌────────┼─────┐  \n",
      "PRON   V   DET      ADJ    N \n",
      " │     │    │        │     │  \n",
      " er  rennt den     ganzen Tag\n",
      "\n",
      "            S                \n",
      " ┌──────────┴───┐             \n",
      " │              VP           \n",
      " │     ┌────────┴────┐        \n",
      " NP    VP            NP      \n",
      " │     │    ┌────────┼─────┐  \n",
      "PRON   V   DET      ADJ    N \n",
      " │     │    │        │     │  \n",
      " er  rennt den     ganzen Tag\n",
      "\n",
      "                   S                \n",
      " ┌─────────────────┴───┐             \n",
      " │                     VP           \n",
      " │        ┌────────────┴────┐        \n",
      " NP       VP                NP      \n",
      " │        │        ┌────────┼─────┐  \n",
      "PRON      V       DET      ADJ    N \n",
      " │        │        │        │     │  \n",
      " er  verschwendet den     ganzen Tag\n",
      "\n"
     ]
    }
   ],
   "source": [
    "#parse trees with grammar:\n",
    "parser = nltk.ViterbiParser(grammar)\n",
    "for tree in trees:\n",
    "    for parse in parser.parse(tree.leaves()):\n",
    "        #print(parse)\n",
    "        parse.pretty_print(unicodelines=True)"
   ]
  },
  {
   "cell_type": "markdown",
   "metadata": {},
   "source": [
    "### b) Verbesserung durch Lexikalisierung\n",
    "\n",
    "#### Führen Sie in der ursprünglichen Mini-Treebank eine teilweise Lexikalisierung durch Kopfannotation durch, so dass je nach Verb die entsprechende Konstruktion (`VP -> VP NP` vs. `VP -> V NP`) bevorzugt wird."
   ]
  },
  {
   "cell_type": "code",
   "execution_count": 10,
   "metadata": {},
   "outputs": [
    {
     "name": "stdout",
     "output_type": "stream",
     "text": [
      "S -> NP VP [1.0]\n",
      "NP -> PRON [0.5]\n",
      "PRON -> 'er' [1.0]\n",
      "VP -> VP NP [0.333333]\n",
      "VP -> V_rennt [0.333333]\n",
      "V_rennt -> 'rennt' [1.0]\n",
      "NP -> DET ADJ N [0.5]\n",
      "DET -> 'den' [1.0]\n",
      "ADJ -> 'ganzen' [1.0]\n",
      "N -> 'Tag' [1.0]\n",
      "VP -> V_verschwendet NP [0.333333]\n",
      "V_verschwendet -> 'verschwendet' [1.0]\n",
      "(S\n",
      "  (NP (PRON er))\n",
      "  (VP\n",
      "    (VP (V_rennt rennt))\n",
      "    (NP (DET den) (ADJ ganzen) (N Tag)))) (p=0.0277778)\n",
      "              S                \n",
      " ┌────────────┴───┐             \n",
      " │                VP           \n",
      " │      ┌─────────┴────┐        \n",
      " NP     VP             NP      \n",
      " │      │     ┌────────┼─────┐  \n",
      "PRON V_rennt DET      ADJ    N \n",
      " │      │     │        │     │  \n",
      " er   rennt  den     ganzen Tag\n",
      "\n",
      "(S\n",
      "  (NP (PRON er))\n",
      "  (VP\n",
      "    (V_verschwendet verschwendet)\n",
      "    (NP (DET den) (ADJ ganzen) (N Tag)))) (p=0.0833333)\n",
      "                     S                \n",
      " ┌───────────────────┴───┐             \n",
      " │                       VP           \n",
      " │         ┌─────────────┴────┐        \n",
      " NP        │                  NP      \n",
      " │         │         ┌────────┼─────┐  \n",
      "PRON V_verschwendet DET      ADJ    N \n",
      " │         │         │        │     │  \n",
      " er   verschwendet  den     ganzen Tag\n",
      "\n"
     ]
    }
   ],
   "source": [
    "treestrings = [\n",
    "\"\"\"(S\n",
    "  (NP (PRON er))\n",
    "  (VP\n",
    "    (VP (V_rennt rennt))\n",
    "    (NP\n",
    "      (DET den)\n",
    "      (ADJ ganzen)\n",
    "      (N Tag))))\n",
    "\"\"\",\n",
    "\n",
    "\"\"\"(S\n",
    "  (NP (PRON er))\n",
    "  (VP\n",
    "    (V_verschwendet verschwendet)\n",
    "    (NP\n",
    "      (DET den)\n",
    "      (ADJ ganzen)\n",
    "      (N Tag))))\n",
    "\"\"\",\n",
    "\n",
    "]\n",
    "\n",
    "\n",
    "trees = [Tree.fromstring(treestring) for treestring in treestrings]\n",
    "\n",
    "#grammar induction:\n",
    "productions = []\n",
    "S = nltk.Nonterminal('S')\n",
    "\n",
    "for tree in trees:\n",
    "    productions += tree.productions()\n",
    "\n",
    "grammar = nltk.induce_pcfg(S, productions)\n",
    "for production in grammar.productions():\n",
    "    print(production)    \n",
    "\n",
    "#parse trees with grammar:\n",
    "parser = nltk.ViterbiParser(grammar)\n",
    "for tree in trees:\n",
    "    for parse in parser.parse(tree.leaves()):\n",
    "        print(parse)\n",
    "        parse.pretty_print(unicodelines=True)"
   ]
  },
  {
   "cell_type": "code",
   "execution_count": null,
   "metadata": {},
   "outputs": [],
   "source": []
  }
 ],
 "metadata": {
  "kernelspec": {
   "display_name": "Python 3 (ipykernel)",
   "language": "python",
   "name": "python3"
  },
  "language_info": {
   "codemirror_mode": {
    "name": "ipython",
    "version": 3
   },
   "file_extension": ".py",
   "mimetype": "text/x-python",
   "name": "python",
   "nbconvert_exporter": "python",
   "pygments_lexer": "ipython3",
   "version": "3.9.12"
  }
 },
 "nbformat": 4,
 "nbformat_minor": 2
}
